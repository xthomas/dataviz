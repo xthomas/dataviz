{
 "cells": [
  {
   "cell_type": "code",
   "execution_count": 1,
   "metadata": {},
   "outputs": [],
   "source": [
    "import pandas as pd\n",
    "import numpy as np"
   ]
  },
  {
   "cell_type": "code",
   "execution_count": 2,
   "metadata": {},
   "outputs": [],
   "source": [
    "datadir = '/home/xavier/data/'\n",
    "# datadir = '~/Documents/data/genetic-cpt/'\n",
    "fname = 'Medicare_National_HCPCS_Aggregate_Summary_Table_CY2016.csv'"
   ]
  },
  {
   "cell_type": "markdown",
   "metadata": {},
   "source": [
    "# Summary Pivot Table - Genetic codes used as of 2016\n",
    "\n",
    "+ Original file here: [download link](https://data.cms.gov/Medicare-Physician-Supplier/Medicare-National-HCPCS-Aggregate-Summary-Table-CY/jtra-d83c)"
   ]
  },
  {
   "cell_type": "code",
   "execution_count": 3,
   "metadata": {},
   "outputs": [],
   "source": [
    "allcpt = pd.read_csv(datadir + fname)"
   ]
  },
  {
   "cell_type": "code",
   "execution_count": 5,
   "metadata": {
    "scrolled": true
   },
   "outputs": [
    {
     "data": {
      "text/plain": [
       "['HCPCS Code',\n",
       " 'HCPCS Description',\n",
       " 'HCPCS Drug Indicator',\n",
       " 'Place of Service',\n",
       " 'Number of Providers',\n",
       " 'Number of Services',\n",
       " 'Number of Unique Beneficiary/Provider Interactions',\n",
       " 'Number of Distinct Medicare Beneficiary/Per Day Services',\n",
       " 'Average Submitted Charge Amount',\n",
       " 'Average Medicare Allowed Amount',\n",
       " 'Average Medicare Payment Amount',\n",
       " 'Average Medicare Standardized Payment Amount']"
      ]
     },
     "execution_count": 5,
     "metadata": {},
     "output_type": "execute_result"
    }
   ],
   "source": [
    "list(allcpt)"
   ]
  },
  {
   "cell_type": "code",
   "execution_count": 31,
   "metadata": {},
   "outputs": [
    {
     "data": {
      "text/plain": [
       "(80, 12)"
      ]
     },
     "execution_count": 31,
     "metadata": {},
     "output_type": "execute_result"
    }
   ],
   "source": [
    "gene = allcpt[allcpt['HCPCS Description'].str.contains(r'\\bgene\\b', case = False, regex = True)]\n",
    "gene.shape"
   ]
  },
  {
   "cell_type": "code",
   "execution_count": 32,
   "metadata": {},
   "outputs": [
    {
     "data": {
      "text/plain": [
       "(54, 12)"
      ]
     },
     "execution_count": 32,
     "metadata": {},
     "output_type": "execute_result"
    }
   ],
   "source": [
    "genetic = allcpt[allcpt['HCPCS Description'].str.contains(r'\\bgenetic\\b', case = False, regex = True)]\n",
    "genetic.shape"
   ]
  },
  {
   "cell_type": "code",
   "execution_count": 45,
   "metadata": {},
   "outputs": [
    {
     "data": {
      "text/plain": [
       "(13, 12)"
      ]
     },
     "execution_count": 45,
     "metadata": {},
     "output_type": "execute_result"
    }
   ],
   "source": [
    "genes = allcpt[allcpt['HCPCS Description'].str.contains(r'\\bgenes\\b', case = False, regex = True)]\n",
    "genes.shape"
   ]
  },
  {
   "cell_type": "code",
   "execution_count": 46,
   "metadata": {},
   "outputs": [],
   "source": [
    "genomicsearchterms = [r'\\bgene\\b',r'\\bgenetic\\b',r'\\bgenes\\b']"
   ]
  },
  {
   "cell_type": "code",
   "execution_count": 47,
   "metadata": {},
   "outputs": [
    {
     "data": {
      "text/plain": [
       "(147, 12)"
      ]
     },
     "execution_count": 47,
     "metadata": {},
     "output_type": "execute_result"
    }
   ],
   "source": [
    "genomicCPT = allcpt[allcpt['HCPCS Description'].str.contains('|'.join(genomicsearchterms), case = False, regex = True)]\n",
    "genomicCPT.shape"
   ]
  },
  {
   "cell_type": "code",
   "execution_count": 41,
   "metadata": {},
   "outputs": [
    {
     "ename": "NameError",
     "evalue": "name 'sunshine' is not defined",
     "output_type": "error",
     "traceback": [
      "\u001b[0;31m---------------------------------------------------------------------------\u001b[0m",
      "\u001b[0;31mNameError\u001b[0m                                 Traceback (most recent call last)",
      "\u001b[0;32m<ipython-input-41-d7cc150ddd95>\u001b[0m in \u001b[0;36m<module>\u001b[0;34m()\u001b[0m\n\u001b[0;32m----> 1\u001b[0;31m competitors = sunshine[\n\u001b[0m\u001b[1;32m      2\u001b[0m     \u001b[0msunshine\u001b[0m\u001b[0;34m[\u001b[0m\u001b[0;34m\"Name_of_Drug_or_Biological_or_Device_or_Medical_Supply_1\"\u001b[0m\u001b[0;34m]\u001b[0m\u001b[0;34m\u001b[0m\u001b[0m\n\u001b[1;32m      3\u001b[0m     .str.contains('jardiance|farxiga', case = False, na=False)]\n",
      "\u001b[0;31mNameError\u001b[0m: name 'sunshine' is not defined"
     ]
    }
   ],
   "source": [
    "competitors = sunshine[\n",
    "    sunshine[\"Name_of_Drug_or_Biological_or_Device_or_Medical_Supply_1\"]\n",
    "    .str.contains('jardiance|farxiga', case = False, na=False)]"
   ]
  },
  {
   "cell_type": "code",
   "execution_count": 12,
   "metadata": {},
   "outputs": [
    {
     "data": {
      "text/plain": [
       "(52681, 75)"
      ]
     },
     "execution_count": 12,
     "metadata": {},
     "output_type": "execute_result"
    }
   ],
   "source": [
    "competitors.shape"
   ]
  },
  {
   "cell_type": "code",
   "execution_count": 22,
   "metadata": {},
   "outputs": [
    {
     "data": {
      "text/html": [
       "<div>\n",
       "<style scoped>\n",
       "    .dataframe tbody tr th:only-of-type {\n",
       "        vertical-align: middle;\n",
       "    }\n",
       "\n",
       "    .dataframe tbody tr th {\n",
       "        vertical-align: top;\n",
       "    }\n",
       "\n",
       "    .dataframe thead th {\n",
       "        text-align: right;\n",
       "    }\n",
       "</style>\n",
       "<table border=\"1\" class=\"dataframe\">\n",
       "  <thead>\n",
       "    <tr style=\"text-align: right;\">\n",
       "      <th></th>\n",
       "      <th>Total_Amount_of_Payment_USDollars</th>\n",
       "    </tr>\n",
       "    <tr>\n",
       "      <th>Name_of_Drug_or_Biological_or_Device_or_Medical_Supply_1</th>\n",
       "      <th></th>\n",
       "    </tr>\n",
       "  </thead>\n",
       "  <tbody>\n",
       "    <tr>\n",
       "      <th>FARXIGA</th>\n",
       "      <td>10228074.89</td>\n",
       "    </tr>\n",
       "    <tr>\n",
       "      <th>JARDIANCE</th>\n",
       "      <td>1208126.93</td>\n",
       "    </tr>\n",
       "  </tbody>\n",
       "</table>\n",
       "</div>"
      ],
      "text/plain": [
       "                                                    Total_Amount_of_Payment_USDollars\n",
       "Name_of_Drug_or_Biological_or_Device_or_Medical...                                   \n",
       "FARXIGA                                                                   10228074.89\n",
       "JARDIANCE                                                                  1208126.93"
      ]
     },
     "execution_count": 22,
     "metadata": {},
     "output_type": "execute_result"
    }
   ],
   "source": [
    "pd.pivot_table(competitors,index=[\"Name_of_Drug_or_Biological_or_Device_or_Medical_Supply_1\"],values=[\"Total_Amount_of_Payment_USDollars\"],aggfunc=np.sum)"
   ]
  },
  {
   "cell_type": "markdown",
   "metadata": {},
   "source": [
    "# ...⇧\n",
    "| FINDING: Farxiga spent 10.2M, Jardiance spend $1.2M"
   ]
  },
  {
   "cell_type": "code",
   "execution_count": 21,
   "metadata": {
    "scrolled": false
   },
   "outputs": [
    {
     "data": {
      "text/html": [
       "<div>\n",
       "<style scoped>\n",
       "    .dataframe tbody tr th:only-of-type {\n",
       "        vertical-align: middle;\n",
       "    }\n",
       "\n",
       "    .dataframe tbody tr th {\n",
       "        vertical-align: top;\n",
       "    }\n",
       "\n",
       "    .dataframe thead th {\n",
       "        text-align: right;\n",
       "    }\n",
       "</style>\n",
       "<table border=\"1\" class=\"dataframe\">\n",
       "  <thead>\n",
       "    <tr style=\"text-align: right;\">\n",
       "      <th></th>\n",
       "      <th></th>\n",
       "      <th></th>\n",
       "      <th>Total_Amount_of_Payment_USDollars</th>\n",
       "    </tr>\n",
       "    <tr>\n",
       "      <th>Name_of_Drug_or_Biological_or_Device_or_Medical_Supply_1</th>\n",
       "      <th>Form_of_Payment_or_Transfer_of_Value</th>\n",
       "      <th>Nature_of_Payment_or_Transfer_of_Value</th>\n",
       "      <th></th>\n",
       "    </tr>\n",
       "  </thead>\n",
       "  <tbody>\n",
       "    <tr>\n",
       "      <th rowspan=\"5\" valign=\"top\">FARXIGA</th>\n",
       "      <th rowspan=\"2\" valign=\"top\">Cash or cash equivalent</th>\n",
       "      <th>Compensation for services other than consulting, including serving as faculty or as a speaker at a venue other than a continuing education program</th>\n",
       "      <td>6807950.00</td>\n",
       "    </tr>\n",
       "    <tr>\n",
       "      <th>Consulting Fee</th>\n",
       "      <td>151271.29</td>\n",
       "    </tr>\n",
       "    <tr>\n",
       "      <th rowspan=\"3\" valign=\"top\">In-kind items and services</th>\n",
       "      <th>Education</th>\n",
       "      <td>607.08</td>\n",
       "    </tr>\n",
       "    <tr>\n",
       "      <th>Food and Beverage</th>\n",
       "      <td>2788519.07</td>\n",
       "    </tr>\n",
       "    <tr>\n",
       "      <th>Travel and Lodging</th>\n",
       "      <td>479727.45</td>\n",
       "    </tr>\n",
       "    <tr>\n",
       "      <th rowspan=\"9\" valign=\"top\">JARDIANCE</th>\n",
       "      <th rowspan=\"5\" valign=\"top\">Cash or cash equivalent</th>\n",
       "      <th>Compensation for services other than consulting, including serving as faculty or as a speaker at a venue other than a continuing education program</th>\n",
       "      <td>164950.00</td>\n",
       "    </tr>\n",
       "    <tr>\n",
       "      <th>Consulting Fee</th>\n",
       "      <td>270256.25</td>\n",
       "    </tr>\n",
       "    <tr>\n",
       "      <th>Food and Beverage</th>\n",
       "      <td>136.10</td>\n",
       "    </tr>\n",
       "    <tr>\n",
       "      <th>Space rental or facility fees(teaching hospital only)</th>\n",
       "      <td>750.00</td>\n",
       "    </tr>\n",
       "    <tr>\n",
       "      <th>Travel and Lodging</th>\n",
       "      <td>389.17</td>\n",
       "    </tr>\n",
       "    <tr>\n",
       "      <th rowspan=\"4\" valign=\"top\">In-kind items and services</th>\n",
       "      <th>Compensation for services other than consulting, including serving as faculty or as a speaker at a venue other than a continuing education program</th>\n",
       "      <td>71233.06</td>\n",
       "    </tr>\n",
       "    <tr>\n",
       "      <th>Education</th>\n",
       "      <td>2386.82</td>\n",
       "    </tr>\n",
       "    <tr>\n",
       "      <th>Food and Beverage</th>\n",
       "      <td>660510.45</td>\n",
       "    </tr>\n",
       "    <tr>\n",
       "      <th>Travel and Lodging</th>\n",
       "      <td>37515.08</td>\n",
       "    </tr>\n",
       "  </tbody>\n",
       "</table>\n",
       "</div>"
      ],
      "text/plain": [
       "                                                                                                                                            Total_Amount_of_Payment_USDollars\n",
       "Name_of_Drug_or_Biological_or_Device_or_Medical... Form_of_Payment_or_Transfer_of_Value Nature_of_Payment_or_Transfer_of_Value                                               \n",
       "FARXIGA                                            Cash or cash equivalent              Compensation for services other than consulting...                         6807950.00\n",
       "                                                                                        Consulting Fee                                                              151271.29\n",
       "                                                   In-kind items and services           Education                                                                      607.08\n",
       "                                                                                        Food and Beverage                                                          2788519.07\n",
       "                                                                                        Travel and Lodging                                                          479727.45\n",
       "JARDIANCE                                          Cash or cash equivalent              Compensation for services other than consulting...                          164950.00\n",
       "                                                                                        Consulting Fee                                                              270256.25\n",
       "                                                                                        Food and Beverage                                                              136.10\n",
       "                                                                                        Space rental or facility fees(teaching hospital...                             750.00\n",
       "                                                                                        Travel and Lodging                                                             389.17\n",
       "                                                   In-kind items and services           Compensation for services other than consulting...                           71233.06\n",
       "                                                                                        Education                                                                     2386.82\n",
       "                                                                                        Food and Beverage                                                           660510.45\n",
       "                                                                                        Travel and Lodging                                                           37515.08"
      ]
     },
     "execution_count": 21,
     "metadata": {},
     "output_type": "execute_result"
    }
   ],
   "source": [
    "pd.pivot_table(competitors,index=[\"Name_of_Drug_or_Biological_or_Device_or_Medical_Supply_1\",\"Form_of_Payment_or_Transfer_of_Value\",\"Nature_of_Payment_or_Transfer_of_Value\"],values=[\"Total_Amount_of_Payment_USDollars\"],aggfunc=np.sum)"
   ]
  },
  {
   "cell_type": "markdown",
   "metadata": {},
   "source": [
    "# ...⇧\n",
    "| FINDING: Farxiga spent 6.8M on 'Med Ed' type activities, while Jardiance spend $164K"
   ]
  },
  {
   "cell_type": "code",
   "execution_count": 13,
   "metadata": {},
   "outputs": [],
   "source": [
    "jardiance = sunshine[sunshine[\"Name_of_Drug_or_Biological_or_Device_or_Medical_Supply_1\"] == \"JARDIANCE\"]"
   ]
  },
  {
   "cell_type": "code",
   "execution_count": 11,
   "metadata": {},
   "outputs": [
    {
     "data": {
      "text/plain": [
       "array(['Diabetes', 'DIABETES'], dtype=object)"
      ]
     },
     "execution_count": 11,
     "metadata": {},
     "output_type": "execute_result"
    }
   ],
   "source": [
    "jardiance[\"Product_Category_or_Therapeutic_Area_1\"].unique()"
   ]
  },
  {
   "cell_type": "code",
   "execution_count": 26,
   "metadata": {},
   "outputs": [],
   "source": [
    "farxiga = sunshine[sunshine[\"Name_of_Drug_or_Biological_or_Device_or_Medical_Supply_1\"] == \"FARXIGA\"]"
   ]
  },
  {
   "cell_type": "code",
   "execution_count": 14,
   "metadata": {},
   "outputs": [
    {
     "data": {
      "text/plain": [
       "array(['CARDIOVASCULAR AND METABOLISM',\n",
       "       'CARDIOVASCULAR AND METABOLISM,RESPIRATORY',\n",
       "       'Cardiovascular and Metabolism',\n",
       "       'CARDIOVASCULAR AND METABOLISM,RESPIRATORY,NEUROSCIENCE',\n",
       "       'CARDIOVASCULAR AND METABOLISM,NEUROSCIENCE,RESPIRATORY',\n",
       "       'CARDIOVASCULAR AND METABOLISM,NEUROSCIENCE',\n",
       "       'Cardiovascular and Metabolism,Respiratory',\n",
       "       'CARDIOVASCULAR AND METABOLISM,ONCOLOGY',\n",
       "       'CARDIOVASCULAR AND METABOLISM,ONCOLOGY,RESPIRATORY'], dtype=object)"
      ]
     },
     "execution_count": 14,
     "metadata": {},
     "output_type": "execute_result"
    }
   ],
   "source": [
    "farxiga[\"Product_Category_or_Therapeutic_Area_1\"].unique()"
   ]
  },
  {
   "cell_type": "markdown",
   "metadata": {},
   "source": [
    "# ...⇧\n",
    "| ANOMALY: Why does Farxiga place against these categories above, when Jardiance only shows up against Diabetes. "
   ]
  },
  {
   "cell_type": "code",
   "execution_count": null,
   "metadata": {},
   "outputs": [],
   "source": []
  },
  {
   "cell_type": "code",
   "execution_count": null,
   "metadata": {},
   "outputs": [],
   "source": []
  }
 ],
 "metadata": {
  "kernelspec": {
   "display_name": "Python 3",
   "language": "python",
   "name": "python3"
  },
  "language_info": {
   "codemirror_mode": {
    "name": "ipython",
    "version": 3
   },
   "file_extension": ".py",
   "mimetype": "text/x-python",
   "name": "python",
   "nbconvert_exporter": "python",
   "pygments_lexer": "ipython3",
   "version": "3.6.4"
  }
 },
 "nbformat": 4,
 "nbformat_minor": 2
}
