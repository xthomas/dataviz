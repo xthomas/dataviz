{
 "cells": [
  {
   "cell_type": "code",
   "execution_count": 1,
   "metadata": {
    "collapsed": true
   },
   "outputs": [],
   "source": [
    "import tweepy\n",
    "import csv\n",
    "from tweepy import OAuthHandler\n",
    "import urllib"
   ]
  },
  {
   "cell_type": "code",
   "execution_count": 2,
   "metadata": {
    "collapsed": true
   },
   "outputs": [],
   "source": [
    "imgdir = './imgs/InfluencerProfilePics/'\n",
    "\n",
    "consumer_key = \"ZHcgrPYANRT38XjbMs3EK0gSX\"\n",
    "consumer_secret = \"ZNSiys4Ws3xaK8o0HLWQLFjyBxwxUR4fKw5N3TkpaCvbzS6UVo\"\n",
    "access_key = \"91267293-gDIUageGdPcfeNTHkrKzYylpX2PnDL4xNj9TjbwGz\"\n",
    "access_secret = \"M4nYvV208KR8K9j8OfYzh1E3x8qW2rI92XRmpl6huet2A\""
   ]
  },
  {
   "cell_type": "code",
   "execution_count": 3,
   "metadata": {
    "collapsed": false
   },
   "outputs": [],
   "source": [
    "def get_all_tweets(screen_name):\n",
    "    #Twitter only allows access to a users most recent 3240 tweets with this method\n",
    "    \n",
    "    #authorize twitter, initialize tweepy\n",
    "    auth = tweepy.OAuthHandler(consumer_key, consumer_secret)\n",
    "    auth.set_access_token(access_key, access_secret)\n",
    "    api = tweepy.API(auth)\n",
    "    \n",
    "    #initialize a list to hold all the tweepy Tweetsglobal alltweets\n",
    "    global alltweets\n",
    "    alltweets = []\n",
    "    \n",
    "    #make initial request for most recent tweets (200 is the maximum allowed count)\n",
    "    new_tweets = api.user_timeline(screen_name = screen_name,count=200)\n",
    "    \n",
    "    #save most recent tweets\n",
    "    alltweets.extend(new_tweets)\n",
    "    \n",
    "    #save the id of the oldest tweet less one\n",
    "    oldest = alltweets[-1].id - 1\n",
    "    \n",
    "    #keep grabbing tweets until there are no tweets left to grab\n",
    "    while len(new_tweets) > 0:\n",
    "        print \"getting tweets before %s\" % (oldest)\n",
    "        \n",
    "        #all subsiquent requests use the max_id param to prevent duplicates\n",
    "        new_tweets = api.user_timeline(screen_name = screen_name,count=200,max_id=oldest)\n",
    "        \n",
    "        #save most recent tweets\n",
    "        alltweets.extend(new_tweets)\n",
    "        \n",
    "        #update the id of the oldest tweet less one\n",
    "        oldest = alltweets[-1].id - 1\n",
    "        \n",
    "        print \"...%s tweets downloaded so far\" % (len(alltweets))\n",
    "\n",
    "    #transform the tweepy tweets into a 2D array that will populate the csv\n",
    "    outtweets = [[tweet.id_str, tweet.created_at, tweet.text.encode(\"utf-8\")] for tweet in alltweets]\n",
    "\n",
    "    #write the csv\n",
    "    with open('%s_tweets.csv' % screen_name, 'wb') as f:\n",
    "        writer = csv.writer(f)\n",
    "        writer.writerow([\"id\",\"created_at\",\"text\"])\n",
    "        writer.writerows(outtweets)\n",
    "\n",
    "    pass"
   ]
  },
  {
   "cell_type": "code",
   "execution_count": 4,
   "metadata": {
    "collapsed": false
   },
   "outputs": [
    {
     "name": "stdout",
     "output_type": "stream",
     "text": [
      "getting tweets before 735831654430875648\n",
      "...400 tweets downloaded so far\n",
      "getting tweets before 710102156192444415\n",
      "...600 tweets downloaded so far\n",
      "getting tweets before 704244677625700351\n",
      "...800 tweets downloaded so far\n",
      "getting tweets before 678010942656004095\n",
      "...1000 tweets downloaded so far\n",
      "getting tweets before 652563100969922559\n",
      "...1200 tweets downloaded so far\n",
      "getting tweets before 634089006981099521\n",
      "...1400 tweets downloaded so far\n",
      "getting tweets before 610915972568993791\n",
      "...1600 tweets downloaded so far\n",
      "getting tweets before 582269460343586815\n",
      "...1800 tweets downloaded so far\n",
      "getting tweets before 560592421537734655\n",
      "...2000 tweets downloaded so far\n",
      "getting tweets before 539115413775585279\n",
      "...2200 tweets downloaded so far\n",
      "getting tweets before 524595709312794625\n",
      "...2400 tweets downloaded so far\n",
      "getting tweets before 513119521809657855\n",
      "...2600 tweets downloaded so far\n",
      "getting tweets before 492104028164485119\n",
      "...2800 tweets downloaded so far\n",
      "getting tweets before 471377587085008895\n",
      "...3000 tweets downloaded so far\n",
      "getting tweets before 449019366651494399\n",
      "...3200 tweets downloaded so far\n",
      "getting tweets before 437703232165806079\n",
      "...3238 tweets downloaded so far\n",
      "getting tweets before 433764265234022399\n",
      "...3238 tweets downloaded so far\n"
     ]
    }
   ],
   "source": [
    "if __name__ == '__main__':\n",
    "    #pass in the username of the account you want to download\n",
    "    get_all_tweets(\"Doug_Laney\")"
   ]
  },
  {
   "cell_type": "code",
   "execution_count": null,
   "metadata": {
    "collapsed": true
   },
   "outputs": [],
   "source": []
  }
 ],
 "metadata": {
  "kernelspec": {
   "display_name": "Python 2",
   "language": "python",
   "name": "python2"
  },
  "language_info": {
   "codemirror_mode": {
    "name": "ipython",
    "version": 2
   },
   "file_extension": ".py",
   "mimetype": "text/x-python",
   "name": "python",
   "nbconvert_exporter": "python",
   "pygments_lexer": "ipython2",
   "version": "2.7.11"
  }
 },
 "nbformat": 4,
 "nbformat_minor": 0
}
