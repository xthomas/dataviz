{
 "cells": [
  {
   "cell_type": "code",
   "execution_count": 59,
   "metadata": {
    "collapsed": false
   },
   "outputs": [
    {
     "name": "stdout",
     "output_type": "stream",
     "text": [
      "Populating the interactive namespace from numpy and matplotlib\n"
     ]
    },
    {
     "name": "stderr",
     "output_type": "stream",
     "text": [
      "WARNING: pylab import has clobbered these variables: ['f']\n",
      "`%matplotlib` prevents importing * from pylab and numpy\n"
     ]
    }
   ],
   "source": [
    "import ijson\n",
    "import pandas as pd\n",
    "# import matplotlib.pyplot as plt\n",
    "%pylab inline\n",
    "pylab.rcParams['figure.figsize'] = (16, 6)\n",
    "pylab.rcParams.update({'font.size': 20})"
   ]
  },
  {
   "cell_type": "code",
   "execution_count": 60,
   "metadata": {
    "collapsed": false
   },
   "outputs": [],
   "source": [
    "# locate the 6 years of Inc 5000 data\n",
    "f16 = \"json_data/inc5000_2016.json\"\n",
    "f15 = \"json_data/inc5000_2015.json\"\n",
    "f14 = \"json_data/inc5000_2014.json\"\n",
    "f13 = \"json_data/inc5000_2013.json\"\n",
    "f12 = \"json_data/inc5000_2012.json\"\n",
    "f11 = \"json_data/inc5000_2011.json\""
   ]
  },
  {
   "cell_type": "code",
   "execution_count": 61,
   "metadata": {
    "collapsed": false
   },
   "outputs": [],
   "source": [
    "# identify the columns for the dataframe\n",
    "good_columns_15 = [\n",
    "    \"city\",\n",
    "    \"state_l\",\n",
    "    \"metro\",\n",
    "    \"revenue\",\n",
    "    \"url\",\n",
    "    \"industry\",\n",
    "    \"workers\",\n",
    "    \"rank\",\n",
    "    \"id\",\n",
    "    \"yrs_on_list\",\n",
    "    \"growth\",\n",
    "    \"ifmid\",\n",
    "    \"ifiid\",\n",
    "    \"state_s\",\n",
    "    \"company\"\n",
    "]"
   ]
  },
  {
   "cell_type": "code",
   "execution_count": 62,
   "metadata": {
    "collapsed": true
   },
   "outputs": [],
   "source": [
    "# Some years have different columns, 13 instead of 15\n",
    "good_columns_13 = [\n",
    "    \"city\",\n",
    "    \"state_l\",\n",
    "    \"metro\",\n",
    "    \"revenue\",\n",
    "    \"url\",\n",
    "    \"industry\",\n",
    "    \"workers\",\n",
    "    \"rank\",\n",
    "    \"id\",\n",
    "    \"yrs_on_list\",\n",
    "    \"growth\",\n",
    "#     \"ifmid\",\n",
    "#     \"ifiid\",\n",
    "    \"state_s\",\n",
    "    \"company\"\n",
    "]"
   ]
  },
  {
   "cell_type": "markdown",
   "metadata": {},
   "source": [
    "### 2016 CSV export"
   ]
  },
  {
   "cell_type": "code",
   "execution_count": 63,
   "metadata": {
    "collapsed": false
   },
   "outputs": [
    {
     "data": {
      "text/plain": [
       "(5003, 15)"
      ]
     },
     "execution_count": 63,
     "metadata": {},
     "output_type": "execute_result"
    }
   ],
   "source": [
    "data16 = []\n",
    "with open(f16, 'r') as f:\n",
    "    for item in ijson.items(f, \"item\"):\n",
    "        data16.append(item.values())\n",
    "df16 = pd.DataFrame(data16, columns = good_columns_15)\n",
    "df16.shape"
   ]
  },
  {
   "cell_type": "code",
   "execution_count": 64,
   "metadata": {
    "collapsed": true
   },
   "outputs": [],
   "source": [
    "df16.to_csv('csv_data/2016_inc5k.csv')"
   ]
  },
  {
   "cell_type": "markdown",
   "metadata": {},
   "source": [
    "### 2015 CSV export"
   ]
  },
  {
   "cell_type": "code",
   "execution_count": 65,
   "metadata": {
    "collapsed": false
   },
   "outputs": [
    {
     "data": {
      "text/plain": [
       "(4970, 13)"
      ]
     },
     "execution_count": 65,
     "metadata": {},
     "output_type": "execute_result"
    }
   ],
   "source": [
    "data15 = []\n",
    "with open(f15, 'r') as f:\n",
    "    for item in ijson.items(f, \"item\"):\n",
    "        data15.append(item.values())\n",
    "df15 = pd.DataFrame(data15, columns = good_columns_13)\n",
    "df15.shape"
   ]
  },
  {
   "cell_type": "code",
   "execution_count": 66,
   "metadata": {
    "collapsed": true
   },
   "outputs": [],
   "source": [
    "df15.to_csv('csv_data/2015_inc5k.csv', encoding='utf-8')"
   ]
  },
  {
   "cell_type": "markdown",
   "metadata": {},
   "source": [
    "### 2014 CSV export"
   ]
  },
  {
   "cell_type": "code",
   "execution_count": 67,
   "metadata": {
    "collapsed": false
   },
   "outputs": [
    {
     "data": {
      "text/plain": [
       "(4973, 15)"
      ]
     },
     "execution_count": 67,
     "metadata": {},
     "output_type": "execute_result"
    }
   ],
   "source": [
    "data14 = []\n",
    "with open(f14, 'r') as f:\n",
    "    for item in ijson.items(f, \"item\"):\n",
    "        data14.append(item.values())\n",
    "df14 = pd.DataFrame(data14, columns = good_columns_15)\n",
    "df14.shape"
   ]
  },
  {
   "cell_type": "code",
   "execution_count": 68,
   "metadata": {
    "collapsed": false
   },
   "outputs": [],
   "source": [
    "df14.to_csv('csv_data/2014_inc5k.csv', encoding='utf-8')"
   ]
  },
  {
   "cell_type": "markdown",
   "metadata": {},
   "source": [
    "### 2013 CSV export"
   ]
  },
  {
   "cell_type": "code",
   "execution_count": 69,
   "metadata": {
    "collapsed": false
   },
   "outputs": [
    {
     "data": {
      "text/plain": [
       "(4975, 15)"
      ]
     },
     "execution_count": 69,
     "metadata": {},
     "output_type": "execute_result"
    }
   ],
   "source": [
    "data13 = []\n",
    "with open(f13, 'r') as f:\n",
    "    for item in ijson.items(f, \"item\"):\n",
    "        data13.append(item.values())\n",
    "df13 = pd.DataFrame(data13, columns = good_columns_15)\n",
    "df13.shape"
   ]
  },
  {
   "cell_type": "code",
   "execution_count": 70,
   "metadata": {
    "collapsed": true
   },
   "outputs": [],
   "source": [
    "df13.to_csv('csv_data/2013_inc5k.csv', encoding='utf-8')"
   ]
  },
  {
   "cell_type": "code",
   "execution_count": null,
   "metadata": {
    "collapsed": true
   },
   "outputs": [],
   "source": []
  }
 ],
 "metadata": {
  "kernelspec": {
   "display_name": "Python 2",
   "language": "python",
   "name": "python2"
  },
  "language_info": {
   "codemirror_mode": {
    "name": "ipython",
    "version": 2
   },
   "file_extension": ".py",
   "mimetype": "text/x-python",
   "name": "python",
   "nbconvert_exporter": "python",
   "pygments_lexer": "ipython2",
   "version": "2.7.12"
  }
 },
 "nbformat": 4,
 "nbformat_minor": 0
}
