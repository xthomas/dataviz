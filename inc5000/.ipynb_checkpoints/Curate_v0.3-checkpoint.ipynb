{
 "cells": [
  {
   "cell_type": "code",
   "execution_count": 1,
   "metadata": {
    "collapsed": false
   },
   "outputs": [
    {
     "name": "stdout",
     "output_type": "stream",
     "text": [
      "Populating the interactive namespace from numpy and matplotlib\n"
     ]
    }
   ],
   "source": [
    "import ijson\n",
    "import pandas as pd\n",
    "# import matplotlib.pyplot as plt\n",
    "%pylab inline\n",
    "pylab.rcParams['figure.figsize'] = (16, 6)\n",
    "pylab.rcParams.update({'font.size': 20})"
   ]
  },
  {
   "cell_type": "code",
   "execution_count": 2,
   "metadata": {
    "collapsed": false
   },
   "outputs": [],
   "source": [
    "# locate the 6 years of Inc 5000 data\n",
    "f16 = \"json_data/inc5000_2016.json\"\n",
    "f15 = \"json_data/inc5000_2015.json\"\n",
    "f14 = \"json_data/inc5000_2014.json\"\n",
    "f13 = \"json_data/inc5000_2013.json\"\n",
    "f12 = \"json_data/inc5000_2012.json\"\n",
    "f11 = \"json_data/inc5000_2011.json\""
   ]
  },
  {
   "cell_type": "code",
   "execution_count": 3,
   "metadata": {
    "collapsed": false
   },
   "outputs": [],
   "source": [
    "# identify the columns for the dataframe\n",
    "good_columns = [\n",
    "    \"city\",\n",
    "    \"state_l\",\n",
    "    \"metro\",\n",
    "    \"revenue\",\n",
    "    \"url\",\n",
    "    \"industry\",\n",
    "    \"workers\",\n",
    "    \"rank\",\n",
    "    \"id\",\n",
    "    \"yrs_on_list\",\n",
    "    \"growth\",\n",
    "    \"ifmid\",\n",
    "    \"ifiid\",\n",
    "    \"state_s\",\n",
    "    \"company\"\n",
    "]"
   ]
  },
  {
   "cell_type": "code",
   "execution_count": 4,
   "metadata": {
    "collapsed": false
   },
   "outputs": [],
   "source": [
    "data = []\n",
    "with open(f16, 'r') as f:\n",
    "    for item in ijson.items(f, \"item\"):\n",
    "        data.append(item.values())\n",
    "df = pd.DataFrame(data, columns = good_columns)"
   ]
  },
  {
   "cell_type": "code",
   "execution_count": 5,
   "metadata": {
    "collapsed": false
   },
   "outputs": [
    {
     "data": {
      "text/plain": [
       "(3380, 15)"
      ]
     },
     "execution_count": 5,
     "metadata": {},
     "output_type": "execute_result"
    }
   ],
   "source": [
    "affordable = df[(df['revenue'] > 4999999) & (df['revenue'] < 99999999)]\n",
    "affordable.shape"
   ]
  },
  {
   "cell_type": "code",
   "execution_count": 7,
   "metadata": {
    "collapsed": false
   },
   "outputs": [
    {
     "data": {
      "text/plain": [
       "(315, 15)"
      ]
     },
     "execution_count": 7,
     "metadata": {},
     "output_type": "execute_result"
    }
   ],
   "source": [
    "agencies = affordable[(affordable['industry'] == \"Advertising & Marketing\")]\n",
    "agencies.shape"
   ]
  },
  {
   "cell_type": "code",
   "execution_count": 8,
   "metadata": {
    "collapsed": true
   },
   "outputs": [],
   "source": [
    "agencies.to_csv('csv_data/2016_inc5k-agencies_5M-100m.csv', encoding='utf-8')"
   ]
  },
  {
   "cell_type": "code",
   "execution_count": null,
   "metadata": {
    "collapsed": true
   },
   "outputs": [],
   "source": []
  }
 ],
 "metadata": {
  "kernelspec": {
   "display_name": "Python 2",
   "language": "python",
   "name": "python2"
  },
  "language_info": {
   "codemirror_mode": {
    "name": "ipython",
    "version": 2
   },
   "file_extension": ".py",
   "mimetype": "text/x-python",
   "name": "python",
   "nbconvert_exporter": "python",
   "pygments_lexer": "ipython2",
   "version": "2.7.12"
  }
 },
 "nbformat": 4,
 "nbformat_minor": 0
}
