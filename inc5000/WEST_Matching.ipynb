{
 "cells": [
  {
   "cell_type": "code",
   "execution_count": 1,
   "metadata": {
    "collapsed": true
   },
   "outputs": [],
   "source": [
    "# Just a basic configuration\n",
    "import pandas as pd"
   ]
  },
  {
   "cell_type": "code",
   "execution_count": 2,
   "metadata": {
    "collapsed": false
   },
   "outputs": [],
   "source": [
    "sixteen='./csv_data/2016_inc5k.csv'\n",
    "fifteen='./csv_data/2015_inc5k.csv'\n",
    "fourteen='./csv_data/2014_inc5k.csv'\n",
    "thirteen='./csv_data/2013_inc5k.csv'\n",
    "twelve='./csv_data/2012_inc5k.csv'\n",
    "df16 = pd.read_csv(sixteen).rename(columns=str.lower)\n",
    "df16['company'] = df16['company'].str.lower()\n",
    "df15 = pd.read_csv(fifteen).rename(columns=str.lower)\n",
    "df15['company'] = df15['company'].str.lower()\n",
    "df14 = pd.read_csv(fourteen).rename(columns=str.lower)\n",
    "df14['company'] = df14['company'].str.lower()\n",
    "df13 = pd.read_csv(thirteen).rename(columns=str.lower)\n",
    "df13['company'] = df13['company'].str.lower()"
   ]
  },
  {
   "cell_type": "code",
   "execution_count": 3,
   "metadata": {
    "collapsed": false,
    "scrolled": true
   },
   "outputs": [
    {
     "data": {
      "text/html": [
       "<div>\n",
       "<table border=\"1\" class=\"dataframe\">\n",
       "  <thead>\n",
       "    <tr style=\"text-align: right;\">\n",
       "      <th></th>\n",
       "      <th>company</th>\n",
       "      <th>tags</th>\n",
       "    </tr>\n",
       "  </thead>\n",
       "  <tbody>\n",
       "    <tr>\n",
       "      <th>0</th>\n",
       "      <td>activent marketing</td>\n",
       "      <td>all guerrilla-street-programs mobile-tours spo...</td>\n",
       "    </tr>\n",
       "    <tr>\n",
       "      <th>1</th>\n",
       "      <td>advantage international</td>\n",
       "      <td>all b-to-b-meetingsevents mobile-tours sponsor...</td>\n",
       "    </tr>\n",
       "    <tr>\n",
       "      <th>2</th>\n",
       "      <td>agencyea</td>\n",
       "      <td>all b-to-b-meetingsevents internal-employee-ev...</td>\n",
       "    </tr>\n",
       "    <tr>\n",
       "      <th>3</th>\n",
       "      <td>all terrain</td>\n",
       "      <td>all buzz-influencer-programs mobile-tours spon...</td>\n",
       "    </tr>\n",
       "    <tr>\n",
       "      <th>4</th>\n",
       "      <td>allied experiential</td>\n",
       "      <td>all mobile-tours pr-events pop-up-stores</td>\n",
       "    </tr>\n",
       "    <tr>\n",
       "      <th>5</th>\n",
       "      <td>astound group</td>\n",
       "      <td>all launch-events mobile-tours trade-shows</td>\n",
       "    </tr>\n",
       "    <tr>\n",
       "      <th>6</th>\n",
       "      <td>barkley kalpak agency</td>\n",
       "      <td>all b-to-b-meetingsevents launch-events sales-...</td>\n",
       "    </tr>\n",
       "    <tr>\n",
       "      <th>7</th>\n",
       "      <td>bmf media</td>\n",
       "      <td>all buzz-influencer-programs launch-events spo...</td>\n",
       "    </tr>\n",
       "    <tr>\n",
       "      <th>8</th>\n",
       "      <td>bolt marketing group</td>\n",
       "      <td>all guerrilla-street-programs mobile-tours spo...</td>\n",
       "    </tr>\n",
       "    <tr>\n",
       "      <th>9</th>\n",
       "      <td>bottlerocket marketing</td>\n",
       "      <td>all mobile-tours pr-events sampling</td>\n",
       "    </tr>\n",
       "    <tr>\n",
       "      <th>10</th>\n",
       "      <td>broadstreet</td>\n",
       "      <td>all b-to-b-meetingsevents internal-employee-ev...</td>\n",
       "    </tr>\n",
       "    <tr>\n",
       "      <th>11</th>\n",
       "      <td>c3 agency</td>\n",
       "      <td>all buzz-influencer-programs launch-events pop...</td>\n",
       "    </tr>\n",
       "    <tr>\n",
       "      <th>12</th>\n",
       "      <td>cardenas marketing network</td>\n",
       "      <td>all retailtainment-events multicultural-events...</td>\n",
       "    </tr>\n",
       "    <tr>\n",
       "      <th>13</th>\n",
       "      <td>cramer</td>\n",
       "      <td>all b-to-b-meetingsevents internal-employee-ev...</td>\n",
       "    </tr>\n",
       "    <tr>\n",
       "      <th>14</th>\n",
       "      <td>division black</td>\n",
       "      <td>all buzz-influencer-programs guerrilla-street-...</td>\n",
       "    </tr>\n",
       "    <tr>\n",
       "      <th>15</th>\n",
       "      <td>driveshop</td>\n",
       "      <td>all automotive-launches-and-personal-drive-exp...</td>\n",
       "    </tr>\n",
       "    <tr>\n",
       "      <th>16</th>\n",
       "      <td>elemento l2</td>\n",
       "      <td>all mobile-tours multicultural-events sponsors...</td>\n",
       "    </tr>\n",
       "    <tr>\n",
       "      <th>17</th>\n",
       "      <td>elite marketing group</td>\n",
       "      <td>all guerrilla-street-programs mobile-tours sam...</td>\n",
       "    </tr>\n",
       "    <tr>\n",
       "      <th>18</th>\n",
       "      <td>emg3</td>\n",
       "      <td>all mobile-tours sampling sponsorship-activation</td>\n",
       "    </tr>\n",
       "    <tr>\n",
       "      <th>19</th>\n",
       "      <td>engine shop</td>\n",
       "      <td>all buzz-influencer-programs mobile-tours spon...</td>\n",
       "    </tr>\n",
       "    <tr>\n",
       "      <th>20</th>\n",
       "      <td>epsilon</td>\n",
       "      <td>all b-to-b-meetingsevents mobile-tours nightli...</td>\n",
       "    </tr>\n",
       "    <tr>\n",
       "      <th>21</th>\n",
       "      <td>event strategy group</td>\n",
       "      <td>all b-to-b-meetingsevents launch-events worldw...</td>\n",
       "    </tr>\n",
       "    <tr>\n",
       "      <th>22</th>\n",
       "      <td>eventage</td>\n",
       "      <td>all b-to-b-meetingsevents launch-events pr-events</td>\n",
       "    </tr>\n",
       "    <tr>\n",
       "      <th>23</th>\n",
       "      <td>eventive</td>\n",
       "      <td>all mobile-tours sponsorship-activation trade-...</td>\n",
       "    </tr>\n",
       "    <tr>\n",
       "      <th>24</th>\n",
       "      <td>eventnext</td>\n",
       "      <td>all launch-events mobile-tours sampling</td>\n",
       "    </tr>\n",
       "    <tr>\n",
       "      <th>25</th>\n",
       "      <td>executive visions inc.</td>\n",
       "      <td>all b-to-b-meetingsevents launch-events worldw...</td>\n",
       "    </tr>\n",
       "    <tr>\n",
       "      <th>26</th>\n",
       "      <td>factory 360</td>\n",
       "      <td>all pop-up-stores sampling sponsorship-activation</td>\n",
       "    </tr>\n",
       "    <tr>\n",
       "      <th>27</th>\n",
       "      <td>fcbx</td>\n",
       "      <td>all buzz-influencer-programs pr-events sponsor...</td>\n",
       "    </tr>\n",
       "    <tr>\n",
       "      <th>28</th>\n",
       "      <td>first protocol</td>\n",
       "      <td>all b-to-b-meetingsevents internal-employee-ev...</td>\n",
       "    </tr>\n",
       "    <tr>\n",
       "      <th>29</th>\n",
       "      <td>fluent</td>\n",
       "      <td>all college-campus-marketing guerrilla-street-...</td>\n",
       "    </tr>\n",
       "    <tr>\n",
       "      <th>...</th>\n",
       "      <td>...</td>\n",
       "      <td>...</td>\n",
       "    </tr>\n",
       "    <tr>\n",
       "      <th>70</th>\n",
       "      <td>mosaic</td>\n",
       "      <td>all guerrilla-street-programs launch-events ni...</td>\n",
       "    </tr>\n",
       "    <tr>\n",
       "      <th>71</th>\n",
       "      <td>motive</td>\n",
       "      <td>all college-campus-marketing events-for-conten...</td>\n",
       "    </tr>\n",
       "    <tr>\n",
       "      <th>72</th>\n",
       "      <td>mvp collaborative</td>\n",
       "      <td>all b-to-b-meetingsevents sales-conferencesmee...</td>\n",
       "    </tr>\n",
       "    <tr>\n",
       "      <th>73</th>\n",
       "      <td>na collective</td>\n",
       "      <td>all b-to-b-meetingsevents launch-events press-...</td>\n",
       "    </tr>\n",
       "    <tr>\n",
       "      <th>74</th>\n",
       "      <td>ncompass</td>\n",
       "      <td>all retailtainment-events launch-events sponso...</td>\n",
       "    </tr>\n",
       "    <tr>\n",
       "      <th>75</th>\n",
       "      <td>newbridge live</td>\n",
       "      <td>all college-campus-marketing mobile-tours samp...</td>\n",
       "    </tr>\n",
       "    <tr>\n",
       "      <th>76</th>\n",
       "      <td>next marketing</td>\n",
       "      <td>all mobile-tours sampling sponsorship-activation</td>\n",
       "    </tr>\n",
       "    <tr>\n",
       "      <th>77</th>\n",
       "      <td>nve</td>\n",
       "      <td>all buzz-influencer-programs developer-confere...</td>\n",
       "    </tr>\n",
       "    <tr>\n",
       "      <th>78</th>\n",
       "      <td>octagon</td>\n",
       "      <td>all mobile-tours sponsorship-activation worldw...</td>\n",
       "    </tr>\n",
       "    <tr>\n",
       "      <th>79</th>\n",
       "      <td>on board experiential</td>\n",
       "      <td>all b-to-b-meetingsevents mobile-tours sponsor...</td>\n",
       "    </tr>\n",
       "    <tr>\n",
       "      <th>80</th>\n",
       "      <td>opus agency</td>\n",
       "      <td>all b-to-b-meetingsevents sponsorship-activati...</td>\n",
       "    </tr>\n",
       "    <tr>\n",
       "      <th>81</th>\n",
       "      <td>performance marketing group</td>\n",
       "      <td>all b-to-b-meetingsevents sampling sponsorship...</td>\n",
       "    </tr>\n",
       "    <tr>\n",
       "      <th>82</th>\n",
       "      <td>pgw experience</td>\n",
       "      <td>all guerrilla-street-programs mobile-tours spo...</td>\n",
       "    </tr>\n",
       "    <tr>\n",
       "      <th>83</th>\n",
       "      <td>pop2life</td>\n",
       "      <td>all launch-events pr-events sponsorship-activa...</td>\n",
       "    </tr>\n",
       "    <tr>\n",
       "      <th>84</th>\n",
       "      <td>proscenium</td>\n",
       "      <td>all b-to-b-meetingsevents internal-employee-ev...</td>\n",
       "    </tr>\n",
       "    <tr>\n",
       "      <th>85</th>\n",
       "      <td>redpeg marketing</td>\n",
       "      <td>all mobile-tours sampling sponsorship-activation</td>\n",
       "    </tr>\n",
       "    <tr>\n",
       "      <th>86</th>\n",
       "      <td>revel</td>\n",
       "      <td>all b-to-b-meetingsevents buzz-influencer-prog...</td>\n",
       "    </tr>\n",
       "    <tr>\n",
       "      <th>87</th>\n",
       "      <td>revolution</td>\n",
       "      <td>all mobile-tours sponsorship-activation sports...</td>\n",
       "    </tr>\n",
       "    <tr>\n",
       "      <th>88</th>\n",
       "      <td>set</td>\n",
       "      <td>all retailtainment-events launch-events pop-up...</td>\n",
       "    </tr>\n",
       "    <tr>\n",
       "      <th>89</th>\n",
       "      <td>soho experiential</td>\n",
       "      <td>all buzz-influencer-programs mobile-tours nigh...</td>\n",
       "    </tr>\n",
       "    <tr>\n",
       "      <th>90</th>\n",
       "      <td>sparks</td>\n",
       "      <td>all b-to-b-meetingsevents developer-conference...</td>\n",
       "    </tr>\n",
       "    <tr>\n",
       "      <th>91</th>\n",
       "      <td>superfly</td>\n",
       "      <td>all buzz-influencer-programs sponsorship-activ...</td>\n",
       "    </tr>\n",
       "    <tr>\n",
       "      <th>92</th>\n",
       "      <td>switch</td>\n",
       "      <td>all b-to-b-meetingsevents mobile-tours sponsor...</td>\n",
       "    </tr>\n",
       "    <tr>\n",
       "      <th>93</th>\n",
       "      <td>synergy</td>\n",
       "      <td>all mobile-tours pr-events sponsorship-activation</td>\n",
       "    </tr>\n",
       "    <tr>\n",
       "      <th>94</th>\n",
       "      <td>the taylor group</td>\n",
       "      <td>all b-to-b-meetingsevents developer-conference...</td>\n",
       "    </tr>\n",
       "    <tr>\n",
       "      <th>95</th>\n",
       "      <td>touch worldwide</td>\n",
       "      <td>all b-to-b-meetingsevents internal-employee-ev...</td>\n",
       "    </tr>\n",
       "    <tr>\n",
       "      <th>96</th>\n",
       "      <td>track marketing group</td>\n",
       "      <td>all buzz-influencer-programs pr-events sponsor...</td>\n",
       "    </tr>\n",
       "    <tr>\n",
       "      <th>97</th>\n",
       "      <td>united entertainment group</td>\n",
       "      <td>all retailtainment-events launch-events pr-events</td>\n",
       "    </tr>\n",
       "    <tr>\n",
       "      <th>98</th>\n",
       "      <td>the visionary group</td>\n",
       "      <td>all b-to-b-meetingsevents buzz-influencer-prog...</td>\n",
       "    </tr>\n",
       "    <tr>\n",
       "      <th>99</th>\n",
       "      <td>wasserman</td>\n",
       "      <td>all pr-events sponsorship-activation worldwide...</td>\n",
       "    </tr>\n",
       "  </tbody>\n",
       "</table>\n",
       "<p>100 rows × 2 columns</p>\n",
       "</div>"
      ],
      "text/plain": [
       "                        company  \\\n",
       "0            activent marketing   \n",
       "1       advantage international   \n",
       "2                      agencyea   \n",
       "3                   all terrain   \n",
       "4           allied experiential   \n",
       "5                 astound group   \n",
       "6         barkley kalpak agency   \n",
       "7                     bmf media   \n",
       "8          bolt marketing group   \n",
       "9        bottlerocket marketing   \n",
       "10                  broadstreet   \n",
       "11                    c3 agency   \n",
       "12   cardenas marketing network   \n",
       "13                       cramer   \n",
       "14               division black   \n",
       "15                    driveshop   \n",
       "16                  elemento l2   \n",
       "17        elite marketing group   \n",
       "18                         emg3   \n",
       "19                  engine shop   \n",
       "20                      epsilon   \n",
       "21         event strategy group   \n",
       "22                     eventage   \n",
       "23                     eventive   \n",
       "24                    eventnext   \n",
       "25       executive visions inc.   \n",
       "26                  factory 360   \n",
       "27                         fcbx   \n",
       "28               first protocol   \n",
       "29                       fluent   \n",
       "..                          ...   \n",
       "70                       mosaic   \n",
       "71                       motive   \n",
       "72            mvp collaborative   \n",
       "73                na collective   \n",
       "74                     ncompass   \n",
       "75               newbridge live   \n",
       "76               next marketing   \n",
       "77                          nve   \n",
       "78                      octagon   \n",
       "79        on board experiential   \n",
       "80                  opus agency   \n",
       "81  performance marketing group   \n",
       "82               pgw experience   \n",
       "83                     pop2life   \n",
       "84                   proscenium   \n",
       "85             redpeg marketing   \n",
       "86                        revel   \n",
       "87                   revolution   \n",
       "88                          set   \n",
       "89            soho experiential   \n",
       "90                       sparks   \n",
       "91                     superfly   \n",
       "92                       switch   \n",
       "93                      synergy   \n",
       "94             the taylor group   \n",
       "95              touch worldwide   \n",
       "96        track marketing group   \n",
       "97   united entertainment group   \n",
       "98          the visionary group   \n",
       "99                    wasserman   \n",
       "\n",
       "                                                 tags  \n",
       "0   all guerrilla-street-programs mobile-tours spo...  \n",
       "1   all b-to-b-meetingsevents mobile-tours sponsor...  \n",
       "2   all b-to-b-meetingsevents internal-employee-ev...  \n",
       "3   all buzz-influencer-programs mobile-tours spon...  \n",
       "4            all mobile-tours pr-events pop-up-stores  \n",
       "5          all launch-events mobile-tours trade-shows  \n",
       "6   all b-to-b-meetingsevents launch-events sales-...  \n",
       "7   all buzz-influencer-programs launch-events spo...  \n",
       "8   all guerrilla-street-programs mobile-tours spo...  \n",
       "9                 all mobile-tours pr-events sampling  \n",
       "10  all b-to-b-meetingsevents internal-employee-ev...  \n",
       "11  all buzz-influencer-programs launch-events pop...  \n",
       "12  all retailtainment-events multicultural-events...  \n",
       "13  all b-to-b-meetingsevents internal-employee-ev...  \n",
       "14  all buzz-influencer-programs guerrilla-street-...  \n",
       "15  all automotive-launches-and-personal-drive-exp...  \n",
       "16  all mobile-tours multicultural-events sponsors...  \n",
       "17  all guerrilla-street-programs mobile-tours sam...  \n",
       "18   all mobile-tours sampling sponsorship-activation  \n",
       "19  all buzz-influencer-programs mobile-tours spon...  \n",
       "20  all b-to-b-meetingsevents mobile-tours nightli...  \n",
       "21  all b-to-b-meetingsevents launch-events worldw...  \n",
       "22  all b-to-b-meetingsevents launch-events pr-events  \n",
       "23  all mobile-tours sponsorship-activation trade-...  \n",
       "24            all launch-events mobile-tours sampling  \n",
       "25  all b-to-b-meetingsevents launch-events worldw...  \n",
       "26  all pop-up-stores sampling sponsorship-activation  \n",
       "27  all buzz-influencer-programs pr-events sponsor...  \n",
       "28  all b-to-b-meetingsevents internal-employee-ev...  \n",
       "29  all college-campus-marketing guerrilla-street-...  \n",
       "..                                                ...  \n",
       "70  all guerrilla-street-programs launch-events ni...  \n",
       "71  all college-campus-marketing events-for-conten...  \n",
       "72  all b-to-b-meetingsevents sales-conferencesmee...  \n",
       "73  all b-to-b-meetingsevents launch-events press-...  \n",
       "74  all retailtainment-events launch-events sponso...  \n",
       "75  all college-campus-marketing mobile-tours samp...  \n",
       "76   all mobile-tours sampling sponsorship-activation  \n",
       "77  all buzz-influencer-programs developer-confere...  \n",
       "78  all mobile-tours sponsorship-activation worldw...  \n",
       "79  all b-to-b-meetingsevents mobile-tours sponsor...  \n",
       "80  all b-to-b-meetingsevents sponsorship-activati...  \n",
       "81  all b-to-b-meetingsevents sampling sponsorship...  \n",
       "82  all guerrilla-street-programs mobile-tours spo...  \n",
       "83  all launch-events pr-events sponsorship-activa...  \n",
       "84  all b-to-b-meetingsevents internal-employee-ev...  \n",
       "85   all mobile-tours sampling sponsorship-activation  \n",
       "86  all b-to-b-meetingsevents buzz-influencer-prog...  \n",
       "87  all mobile-tours sponsorship-activation sports...  \n",
       "88  all retailtainment-events launch-events pop-up...  \n",
       "89  all buzz-influencer-programs mobile-tours nigh...  \n",
       "90  all b-to-b-meetingsevents developer-conference...  \n",
       "91  all buzz-influencer-programs sponsorship-activ...  \n",
       "92  all b-to-b-meetingsevents mobile-tours sponsor...  \n",
       "93  all mobile-tours pr-events sponsorship-activation  \n",
       "94  all b-to-b-meetingsevents developer-conference...  \n",
       "95  all b-to-b-meetingsevents internal-employee-ev...  \n",
       "96  all buzz-influencer-programs pr-events sponsor...  \n",
       "97  all retailtainment-events launch-events pr-events  \n",
       "98  all b-to-b-meetingsevents buzz-influencer-prog...  \n",
       "99  all pr-events sponsorship-activation worldwide...  \n",
       "\n",
       "[100 rows x 2 columns]"
      ]
     },
     "execution_count": 3,
     "metadata": {},
     "output_type": "execute_result"
    }
   ],
   "source": [
    "eventmarketer='./csv_data/study-list.csv'\n",
    "emdf = pd.read_csv(eventmarketer).rename(columns=str.lower)\n",
    "emdf['company'] = emdf['company'].str.lower()\n",
    "emdf.name = 'emdf'\n",
    "emdf"
   ]
  },
  {
   "cell_type": "code",
   "execution_count": 4,
   "metadata": {
    "collapsed": false
   },
   "outputs": [],
   "source": [
    "# affordable\n",
    "radar16 = df16[(df16['revenue'].astype('int') > 2999999) & (df16['revenue'].astype('int') < 49999999)]\n",
    "radar15 = df15[(df15['revenue'].astype('int') > 2999999) & (df15['revenue'].astype('int') < 49999999)]\n",
    "radar14 = df14[(df14['revenue'].astype('int') > 2999999) & (df14['revenue'].astype('int') < 49999999)]\n",
    "radar13 = df13[(df13['revenue'].astype('int') > 2999999) & (df13['revenue'].astype('int') < 49999999)]"
   ]
  },
  {
   "cell_type": "code",
   "execution_count": 5,
   "metadata": {
    "collapsed": true
   },
   "outputs": [],
   "source": [
    "# advertising and marketing\n",
    "agencies16 = radar16[(radar16['industry'] == \"Advertising & Marketing\")]\n",
    "agencies15 = radar15[(radar15['industry'] == \"Advertising & Marketing\")]\n",
    "agencies14 = radar14[(radar14['industry'] == \"Advertising & Marketing\")]\n",
    "agencies13 = radar13[(radar13['industry'] == \"Advertising & Marketing\")]"
   ]
  },
  {
   "cell_type": "code",
   "execution_count": 6,
   "metadata": {
    "collapsed": false
   },
   "outputs": [
    {
     "data": {
      "text/plain": [
       "(53, 16)"
      ]
     },
     "execution_count": 6,
     "metadata": {},
     "output_type": "execute_result"
    }
   ],
   "source": [
    "test16 = agencies16[(agencies16['state_s'] == \"CA\")]\n",
    "test16.shape"
   ]
  },
  {
   "cell_type": "code",
   "execution_count": 7,
   "metadata": {
    "collapsed": false
   },
   "outputs": [
    {
     "data": {
      "text/plain": [
       "(62, 16)"
      ]
     },
     "execution_count": 7,
     "metadata": {},
     "output_type": "execute_result"
    }
   ],
   "source": [
    "test16 = agencies16[(agencies16['state_s'] == \"CA\") | (agencies16['state_s'] == \"WA\")]\n",
    "test16.shape"
   ]
  },
  {
   "cell_type": "code",
   "execution_count": 8,
   "metadata": {
    "collapsed": false
   },
   "outputs": [
    {
     "data": {
      "text/plain": [
       "(71, 16)"
      ]
     },
     "execution_count": 8,
     "metadata": {},
     "output_type": "execute_result"
    }
   ],
   "source": [
    "test16 = agencies16[(agencies16['state_s'] == \"CA\") | (agencies16['state_s'] == \"WA\") | (agencies16['state_s'] == \"OR\")]\n",
    "test16.shape"
   ]
  },
  {
   "cell_type": "code",
   "execution_count": 9,
   "metadata": {
    "collapsed": false
   },
   "outputs": [],
   "source": [
    "# in California, Oregon, or Washington\n",
    "golden16 = agencies16[(agencies16['state_s'] == \"CA\") | (agencies16['state_s'] == \"WA\") | (agencies16['state_s'] == \"OR\")]\n",
    "golden15 = agencies15[(agencies15['state_s'] == \"CA\") | (agencies15['state_s'] == \"WA\") | (agencies15['state_s'] == \"OR\")]\n",
    "golden14 = agencies14[(agencies14['state_s'] == \"CA\") | (agencies14['state_s'] == \"WA\") | (agencies14['state_s'] == \"OR\")]\n",
    "golden13 = agencies13[(agencies13['state_s'] == \"CA\") | (agencies13['state_s'] == \"WA\") | (agencies13['state_s'] == \"OR\")]"
   ]
  },
  {
   "cell_type": "code",
   "execution_count": 10,
   "metadata": {
    "collapsed": true
   },
   "outputs": [],
   "source": [
    "# in New York, New Jersey, Pennsulvania, or Massachusets, or New Hampshire\n",
    "pilgrim16 = agencies16[(agencies16['state_s'] == \"NY\") | (agencies16['state_s'] == \"PA\") | (agencies16['state_s'] == \"MA\") | (agencies16['state_s'] == \"NJ\") | (agencies16['state_s'] == \"NH\")]\n",
    "pilgrim15 = agencies15[(agencies15['state_s'] == \"NY\") | (agencies15['state_s'] == \"PA\") | (agencies15['state_s'] == \"MA\") | (agencies15['state_s'] == \"NJ\") | (agencies15['state_s'] == \"NH\") ]\n",
    "pilgrim14 = agencies14[(agencies14['state_s'] == \"NY\") | (agencies14['state_s'] == \"PA\") | (agencies14['state_s'] == \"MA\") | (agencies14['state_s'] == \"NJ\") | (agencies14['state_s'] == \"NH\")]\n",
    "pilgrim13 = agencies13[(agencies13['state_s'] == \"NY\") | (agencies13['state_s'] == \"PA\") | (agencies13['state_s'] == \"MA\") | (agencies13['state_s'] == \"NJ\") | (agencies13['state_s'] == \"NH\")]"
   ]
  },
  {
   "cell_type": "code",
   "execution_count": 11,
   "metadata": {
    "collapsed": false
   },
   "outputs": [
    {
     "data": {
      "text/html": [
       "<div>\n",
       "<table border=\"1\" class=\"dataframe\">\n",
       "  <thead>\n",
       "    <tr style=\"text-align: right;\">\n",
       "      <th></th>\n",
       "      <th>unnamed: 0</th>\n",
       "      <th>city</th>\n",
       "      <th>state_l</th>\n",
       "      <th>metro</th>\n",
       "      <th>revenue</th>\n",
       "      <th>url</th>\n",
       "      <th>industry</th>\n",
       "      <th>workers</th>\n",
       "      <th>rank</th>\n",
       "      <th>id</th>\n",
       "      <th>yrs_on_list</th>\n",
       "      <th>growth</th>\n",
       "      <th>ifmid</th>\n",
       "      <th>ifiid</th>\n",
       "      <th>state_s</th>\n",
       "      <th>company</th>\n",
       "    </tr>\n",
       "  </thead>\n",
       "  <tbody>\n",
       "    <tr>\n",
       "      <th>3183</th>\n",
       "      <td>3183</td>\n",
       "      <td>San Francisco</td>\n",
       "      <td>California</td>\n",
       "      <td>San Francisco</td>\n",
       "      <td>14863448</td>\n",
       "      <td>manifold</td>\n",
       "      <td>Advertising &amp; Marketing</td>\n",
       "      <td>16</td>\n",
       "      <td>3183</td>\n",
       "      <td>44172</td>\n",
       "      <td>1</td>\n",
       "      <td>105.7138</td>\n",
       "      <td>4</td>\n",
       "      <td>5</td>\n",
       "      <td>CA</td>\n",
       "      <td>manifold</td>\n",
       "    </tr>\n",
       "  </tbody>\n",
       "</table>\n",
       "</div>"
      ],
      "text/plain": [
       "      unnamed: 0           city     state_l          metro   revenue  \\\n",
       "3183        3183  San Francisco  California  San Francisco  14863448   \n",
       "\n",
       "           url                 industry  workers  rank     id  yrs_on_list  \\\n",
       "3183  manifold  Advertising & Marketing       16  3183  44172            1   \n",
       "\n",
       "        growth  ifmid  ifiid state_s   company  \n",
       "3183  105.7138      4      5      CA  manifold  "
      ]
     },
     "execution_count": 11,
     "metadata": {},
     "output_type": "execute_result"
    }
   ],
   "source": [
    "golden16[golden16['company']=='manifold']"
   ]
  },
  {
   "cell_type": "code",
   "execution_count": 12,
   "metadata": {
    "collapsed": false
   },
   "outputs": [
    {
     "data": {
      "text/html": [
       "<div>\n",
       "<table border=\"1\" class=\"dataframe\">\n",
       "  <thead>\n",
       "    <tr style=\"text-align: right;\">\n",
       "      <th></th>\n",
       "      <th>company</th>\n",
       "      <th>tags</th>\n",
       "    </tr>\n",
       "  </thead>\n",
       "  <tbody>\n",
       "    <tr>\n",
       "      <th>58</th>\n",
       "      <td>manifold</td>\n",
       "      <td>all buzz-influencer-programs developer-confere...</td>\n",
       "    </tr>\n",
       "  </tbody>\n",
       "</table>\n",
       "</div>"
      ],
      "text/plain": [
       "     company                                               tags\n",
       "58  manifold  all buzz-influencer-programs developer-confere..."
      ]
     },
     "execution_count": 12,
     "metadata": {},
     "output_type": "execute_result"
    }
   ],
   "source": [
    "emdf[emdf['company']=='manifold']"
   ]
  },
  {
   "cell_type": "code",
   "execution_count": 13,
   "metadata": {
    "collapsed": false
   },
   "outputs": [
    {
     "data": {
      "text/plain": [
       "{'driveshop', 'manifold'}"
      ]
     },
     "execution_count": 13,
     "metadata": {},
     "output_type": "execute_result"
    }
   ],
   "source": [
    "common = set.intersection(set(golden16.company), set(emdf.company))\n",
    "common"
   ]
  },
  {
   "cell_type": "markdown",
   "metadata": {},
   "source": [
    "- - -\n",
    "# Ok, let's see if I can iterate across multiple dataframes\n",
    "### can't fight this feeling there is a smarter way to search for \n",
    "### intersections, but I don't know what it is\n",
    "- - - "
   ]
  },
  {
   "cell_type": "markdown",
   "metadata": {},
   "source": [
    "## 2. next, a 'match value across dataframes' function\n",
    "#### across multiple dataframes, arguments passed in as a set\n",
    "#### against a single dataframe (column), also an argument"
   ]
  },
  {
   "cell_type": "code",
   "execution_count": 14,
   "metadata": {
    "collapsed": false
   },
   "outputs": [],
   "source": [
    "#common = set.intersection(set(bayarea16.company), set(emdf.company))\n",
    "def matchAgency(sets,comparator):\n",
    "    for s in sets:\n",
    "#         print (s.name)\n",
    "        matches = set.intersection(set(s.company), set(comparator.company))\n",
    "        print (matches)"
   ]
  },
  {
   "cell_type": "code",
   "execution_count": 15,
   "metadata": {
    "collapsed": true
   },
   "outputs": [],
   "source": [
    "goldenbears = [golden16,golden15,golden14,golden13]\n",
    "pilgrims = [pilgrim16,pilgrim15,pilgrim14,pilgrim13]"
   ]
  },
  {
   "cell_type": "code",
   "execution_count": 16,
   "metadata": {
    "collapsed": false
   },
   "outputs": [
    {
     "name": "stdout",
     "output_type": "stream",
     "text": [
      "{'manifold', 'driveshop'}\n",
      "{'set', 'driveshop'}\n",
      "{'set'}\n",
      "{'set'}\n"
     ]
    }
   ],
   "source": [
    "matchAgency(goldenbears,emdf)"
   ]
  },
  {
   "cell_type": "code",
   "execution_count": 17,
   "metadata": {
    "collapsed": false
   },
   "outputs": [
    {
     "name": "stdout",
     "output_type": "stream",
     "text": [
      "{'moderne communications', 'engine shop', 'factory 360'}\n",
      "{'invnt', 'factory 360'}\n",
      "{'engine shop', 'factory 360'}\n",
      "{'mkg', 'invnt'}\n"
     ]
    }
   ],
   "source": [
    "matchAgency(pilgrims,emdf)"
   ]
  },
  {
   "cell_type": "code",
   "execution_count": null,
   "metadata": {
    "collapsed": true
   },
   "outputs": [],
   "source": []
  }
 ],
 "metadata": {
  "anaconda-cloud": {},
  "kernelspec": {
   "display_name": "Python 3",
   "language": "python",
   "name": "python3"
  },
  "language_info": {
   "codemirror_mode": {
    "name": "ipython",
    "version": 3
   },
   "file_extension": ".py",
   "mimetype": "text/x-python",
   "name": "python",
   "nbconvert_exporter": "python",
   "pygments_lexer": "ipython3",
   "version": "3.6.0"
  }
 },
 "nbformat": 4,
 "nbformat_minor": 1
}
