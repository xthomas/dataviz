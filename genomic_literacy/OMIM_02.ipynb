{
 "cells": [
  {
   "cell_type": "code",
   "execution_count": 135,
   "metadata": {},
   "outputs": [],
   "source": [
    "import pandas as pd\n",
    "import re\n",
    "import numpy as np\n",
    "import operator\n",
    "import functools\n",
    "from sklearn.feature_extraction.text import CountVectorizer\n",
    "\n",
    "datadir = '/home/xavier/data/'"
   ]
  },
  {
   "cell_type": "code",
   "execution_count": 136,
   "metadata": {},
   "outputs": [],
   "source": [
    "# clinvar_stub = pd.read_csv(datadir + 'clinvar_multiple-diseases-listed.csv',nrows=50)\n",
    "# clinvar_stub.shape"
   ]
  },
  {
   "cell_type": "code",
   "execution_count": 137,
   "metadata": {},
   "outputs": [],
   "source": [
    "# list(clinvar_stub)"
   ]
  },
  {
   "cell_type": "markdown",
   "metadata": {},
   "source": [
    "### So this is about two things\n",
    "\n",
    "1. Understanding 'Enumberate'\n",
    "2. Matching using the methods in these two examples:\n",
    "\n",
    "    + https://stackoverflow.com/questions/42683249/python-pandas-how-to-match-list-of-strings-with-a-dataframe-column\n",
    "    \n",
    "- - - \n",
    "\n",
    "## First, enumerate\n",
    "    "
   ]
  },
  {
   "cell_type": "code",
   "execution_count": 138,
   "metadata": {},
   "outputs": [],
   "source": [
    "firstdata = {'TAG': ['a,b,f','b','c,g,a','b,d,f,h','h','c,k'],\n",
    "       'DESC': ['Apples,Bananas,Fruits','Bananas','Citron,Guava,Apple', \\\n",
    "                'Bananas,Dilithium,Fruits,Hottentot','Hottentot','Citron,Kiwi']}\n",
    "\n",
    "# checklist = ['a','b','c','d','e','f','g','h','i','j','k','l','m','n','o','p','q','r']\n",
    "# checklist = ['a','b','c','d','e','f','g','h','i','j','k','l']\n",
    "checklist = ['a','b','c','d','e','h','i','j','k','l']"
   ]
  },
  {
   "cell_type": "code",
   "execution_count": 139,
   "metadata": {},
   "outputs": [],
   "source": [
    "first = pd.DataFrame(firstdata)"
   ]
  },
  {
   "cell_type": "code",
   "execution_count": 140,
   "metadata": {},
   "outputs": [
    {
     "data": {
      "text/html": [
       "<div>\n",
       "<style scoped>\n",
       "    .dataframe tbody tr th:only-of-type {\n",
       "        vertical-align: middle;\n",
       "    }\n",
       "\n",
       "    .dataframe tbody tr th {\n",
       "        vertical-align: top;\n",
       "    }\n",
       "\n",
       "    .dataframe thead th {\n",
       "        text-align: right;\n",
       "    }\n",
       "</style>\n",
       "<table border=\"1\" class=\"dataframe\">\n",
       "  <thead>\n",
       "    <tr style=\"text-align: right;\">\n",
       "      <th></th>\n",
       "      <th>DESC</th>\n",
       "      <th>TAG</th>\n",
       "    </tr>\n",
       "  </thead>\n",
       "  <tbody>\n",
       "    <tr>\n",
       "      <th>0</th>\n",
       "      <td>Apples,Bananas,Fruits</td>\n",
       "      <td>a,b,f</td>\n",
       "    </tr>\n",
       "    <tr>\n",
       "      <th>1</th>\n",
       "      <td>Bananas</td>\n",
       "      <td>b</td>\n",
       "    </tr>\n",
       "    <tr>\n",
       "      <th>2</th>\n",
       "      <td>Citron,Guava,Apple</td>\n",
       "      <td>c,g,a</td>\n",
       "    </tr>\n",
       "    <tr>\n",
       "      <th>3</th>\n",
       "      <td>Bananas,Dilithium,Fruits,Hottentot</td>\n",
       "      <td>b,d,f,h</td>\n",
       "    </tr>\n",
       "    <tr>\n",
       "      <th>4</th>\n",
       "      <td>Hottentot</td>\n",
       "      <td>h</td>\n",
       "    </tr>\n",
       "    <tr>\n",
       "      <th>5</th>\n",
       "      <td>Citron,Kiwi</td>\n",
       "      <td>c,k</td>\n",
       "    </tr>\n",
       "  </tbody>\n",
       "</table>\n",
       "</div>"
      ],
      "text/plain": [
       "                                 DESC      TAG\n",
       "0               Apples,Bananas,Fruits    a,b,f\n",
       "1                             Bananas        b\n",
       "2                  Citron,Guava,Apple    c,g,a\n",
       "3  Bananas,Dilithium,Fruits,Hottentot  b,d,f,h\n",
       "4                           Hottentot        h\n",
       "5                         Citron,Kiwi      c,k"
      ]
     },
     "execution_count": 140,
     "metadata": {},
     "output_type": "execute_result"
    }
   ],
   "source": [
    "first"
   ]
  },
  {
   "cell_type": "code",
   "execution_count": 141,
   "metadata": {},
   "outputs": [],
   "source": [
    "def search_func_01(row):\n",
    "    matches = [item in row[\"TAG\"] for item in checklist]\n",
    "    if any(matches):\n",
    "        return \"Yes\"\n",
    "    else:\n",
    "        return \"No\"    "
   ]
  },
  {
   "cell_type": "code",
   "execution_count": 142,
   "metadata": {},
   "outputs": [
    {
     "name": "stdout",
     "output_type": "stream",
     "text": [
      "a\n",
      "b\n",
      "c\n",
      "d\n",
      "e\n",
      "h\n",
      "i\n",
      "j\n",
      "k\n",
      "l\n"
     ]
    }
   ],
   "source": [
    "for item in checklist:\n",
    "    print (item)"
   ]
  },
  {
   "cell_type": "code",
   "execution_count": 143,
   "metadata": {},
   "outputs": [],
   "source": [
    "first[\"MATCH\"] = first.apply(search_func_01,axis = 1)"
   ]
  },
  {
   "cell_type": "code",
   "execution_count": 144,
   "metadata": {},
   "outputs": [
    {
     "data": {
      "text/html": [
       "<div>\n",
       "<style scoped>\n",
       "    .dataframe tbody tr th:only-of-type {\n",
       "        vertical-align: middle;\n",
       "    }\n",
       "\n",
       "    .dataframe tbody tr th {\n",
       "        vertical-align: top;\n",
       "    }\n",
       "\n",
       "    .dataframe thead th {\n",
       "        text-align: right;\n",
       "    }\n",
       "</style>\n",
       "<table border=\"1\" class=\"dataframe\">\n",
       "  <thead>\n",
       "    <tr style=\"text-align: right;\">\n",
       "      <th></th>\n",
       "      <th>DESC</th>\n",
       "      <th>TAG</th>\n",
       "      <th>MATCH</th>\n",
       "    </tr>\n",
       "  </thead>\n",
       "  <tbody>\n",
       "    <tr>\n",
       "      <th>0</th>\n",
       "      <td>Apples,Bananas,Fruits</td>\n",
       "      <td>a,b,f</td>\n",
       "      <td>Yes</td>\n",
       "    </tr>\n",
       "    <tr>\n",
       "      <th>1</th>\n",
       "      <td>Bananas</td>\n",
       "      <td>b</td>\n",
       "      <td>Yes</td>\n",
       "    </tr>\n",
       "    <tr>\n",
       "      <th>2</th>\n",
       "      <td>Citron,Guava,Apple</td>\n",
       "      <td>c,g,a</td>\n",
       "      <td>Yes</td>\n",
       "    </tr>\n",
       "    <tr>\n",
       "      <th>3</th>\n",
       "      <td>Bananas,Dilithium,Fruits,Hottentot</td>\n",
       "      <td>b,d,f,h</td>\n",
       "      <td>Yes</td>\n",
       "    </tr>\n",
       "    <tr>\n",
       "      <th>4</th>\n",
       "      <td>Hottentot</td>\n",
       "      <td>h</td>\n",
       "      <td>Yes</td>\n",
       "    </tr>\n",
       "    <tr>\n",
       "      <th>5</th>\n",
       "      <td>Citron,Kiwi</td>\n",
       "      <td>c,k</td>\n",
       "      <td>Yes</td>\n",
       "    </tr>\n",
       "  </tbody>\n",
       "</table>\n",
       "</div>"
      ],
      "text/plain": [
       "                                 DESC      TAG MATCH\n",
       "0               Apples,Bananas,Fruits    a,b,f   Yes\n",
       "1                             Bananas        b   Yes\n",
       "2                  Citron,Guava,Apple    c,g,a   Yes\n",
       "3  Bananas,Dilithium,Fruits,Hottentot  b,d,f,h   Yes\n",
       "4                           Hottentot        h   Yes\n",
       "5                         Citron,Kiwi      c,k   Yes"
      ]
     },
     "execution_count": 144,
     "metadata": {},
     "output_type": "execute_result"
    }
   ],
   "source": [
    "first"
   ]
  },
  {
   "cell_type": "code",
   "execution_count": 145,
   "metadata": {},
   "outputs": [],
   "source": [
    "def search_func_02(row):\n",
    "    matches = [item in row[\"TAG\"] for item in checklist]\n",
    "    if any(matches):\n",
    "        return matches\n",
    "    else:\n",
    "        return \"na\""
   ]
  },
  {
   "cell_type": "code",
   "execution_count": 146,
   "metadata": {},
   "outputs": [],
   "source": [
    "first[\"MATCH02\"] = first.apply(search_func_02,axis = 1)"
   ]
  },
  {
   "cell_type": "code",
   "execution_count": 147,
   "metadata": {},
   "outputs": [
    {
     "data": {
      "text/html": [
       "<div>\n",
       "<style scoped>\n",
       "    .dataframe tbody tr th:only-of-type {\n",
       "        vertical-align: middle;\n",
       "    }\n",
       "\n",
       "    .dataframe tbody tr th {\n",
       "        vertical-align: top;\n",
       "    }\n",
       "\n",
       "    .dataframe thead th {\n",
       "        text-align: right;\n",
       "    }\n",
       "</style>\n",
       "<table border=\"1\" class=\"dataframe\">\n",
       "  <thead>\n",
       "    <tr style=\"text-align: right;\">\n",
       "      <th></th>\n",
       "      <th>DESC</th>\n",
       "      <th>TAG</th>\n",
       "      <th>MATCH</th>\n",
       "      <th>MATCH02</th>\n",
       "    </tr>\n",
       "  </thead>\n",
       "  <tbody>\n",
       "    <tr>\n",
       "      <th>0</th>\n",
       "      <td>Apples,Bananas,Fruits</td>\n",
       "      <td>a,b,f</td>\n",
       "      <td>Yes</td>\n",
       "      <td>[True, True, False, False, False, False, False...</td>\n",
       "    </tr>\n",
       "    <tr>\n",
       "      <th>1</th>\n",
       "      <td>Bananas</td>\n",
       "      <td>b</td>\n",
       "      <td>Yes</td>\n",
       "      <td>[False, True, False, False, False, False, Fals...</td>\n",
       "    </tr>\n",
       "    <tr>\n",
       "      <th>2</th>\n",
       "      <td>Citron,Guava,Apple</td>\n",
       "      <td>c,g,a</td>\n",
       "      <td>Yes</td>\n",
       "      <td>[True, False, True, False, False, False, False...</td>\n",
       "    </tr>\n",
       "    <tr>\n",
       "      <th>3</th>\n",
       "      <td>Bananas,Dilithium,Fruits,Hottentot</td>\n",
       "      <td>b,d,f,h</td>\n",
       "      <td>Yes</td>\n",
       "      <td>[False, True, False, True, False, True, False,...</td>\n",
       "    </tr>\n",
       "    <tr>\n",
       "      <th>4</th>\n",
       "      <td>Hottentot</td>\n",
       "      <td>h</td>\n",
       "      <td>Yes</td>\n",
       "      <td>[False, False, False, False, False, True, Fals...</td>\n",
       "    </tr>\n",
       "    <tr>\n",
       "      <th>5</th>\n",
       "      <td>Citron,Kiwi</td>\n",
       "      <td>c,k</td>\n",
       "      <td>Yes</td>\n",
       "      <td>[False, False, True, False, False, False, Fals...</td>\n",
       "    </tr>\n",
       "  </tbody>\n",
       "</table>\n",
       "</div>"
      ],
      "text/plain": [
       "                                 DESC      TAG MATCH  \\\n",
       "0               Apples,Bananas,Fruits    a,b,f   Yes   \n",
       "1                             Bananas        b   Yes   \n",
       "2                  Citron,Guava,Apple    c,g,a   Yes   \n",
       "3  Bananas,Dilithium,Fruits,Hottentot  b,d,f,h   Yes   \n",
       "4                           Hottentot        h   Yes   \n",
       "5                         Citron,Kiwi      c,k   Yes   \n",
       "\n",
       "                                             MATCH02  \n",
       "0  [True, True, False, False, False, False, False...  \n",
       "1  [False, True, False, False, False, False, Fals...  \n",
       "2  [True, False, True, False, False, False, False...  \n",
       "3  [False, True, False, True, False, True, False,...  \n",
       "4  [False, False, False, False, False, True, Fals...  \n",
       "5  [False, False, True, False, False, False, Fals...  "
      ]
     },
     "execution_count": 147,
     "metadata": {},
     "output_type": "execute_result"
    }
   ],
   "source": [
    "first"
   ]
  },
  {
   "cell_type": "code",
   "execution_count": 148,
   "metadata": {},
   "outputs": [],
   "source": [
    "vect = CountVectorizer(min_df=1, lowercase=True)"
   ]
  },
  {
   "cell_type": "code",
   "execution_count": 149,
   "metadata": {},
   "outputs": [],
   "source": [
    "X = vect.fit_transform(first['DESC'])\n",
    "types_fruit = vect.get_feature_names()"
   ]
  },
  {
   "cell_type": "code",
   "execution_count": 150,
   "metadata": {},
   "outputs": [
    {
     "data": {
      "text/plain": [
       "['apple',\n",
       " 'apples',\n",
       " 'bananas',\n",
       " 'citron',\n",
       " 'dilithium',\n",
       " 'fruits',\n",
       " 'guava',\n",
       " 'hottentot',\n",
       " 'kiwi']"
      ]
     },
     "execution_count": 150,
     "metadata": {},
     "output_type": "execute_result"
    }
   ],
   "source": [
    "types_fruit"
   ]
  },
  {
   "cell_type": "code",
   "execution_count": 151,
   "metadata": {},
   "outputs": [],
   "source": [
    "def search_func_03(row):\n",
    "    matches = [item in row[\"TAG\"] for item in checklist]\n",
    "    if any(matches):\n",
    "        for tag in row[\"TAG\"]:\n",
    "            print (tag)\n",
    "            f = [x for x in checklist if x in tag]\n",
    "            return f\n",
    "#         contained = [x for x in d if x in paid[j]]\n",
    "#         for thing in checklist:\n",
    "#             row[\"TAG\"].str.extract(thing,expand = True)\n",
    "    else:\n",
    "        return \"na\""
   ]
  },
  {
   "cell_type": "code",
   "execution_count": 152,
   "metadata": {},
   "outputs": [
    {
     "name": "stdout",
     "output_type": "stream",
     "text": [
      "a\n",
      "b\n",
      "c\n",
      "b\n",
      "h\n",
      "c\n"
     ]
    }
   ],
   "source": [
    "# df['dd'] = df.apply(lambda x: x.bb in x.aa, axis=1)\n",
    "# print (df)\n",
    "first[\"MATCH03\"] = first.apply(search_func_03, axis = 1)"
   ]
  },
  {
   "cell_type": "code",
   "execution_count": 153,
   "metadata": {},
   "outputs": [
    {
     "data": {
      "text/html": [
       "<div>\n",
       "<style scoped>\n",
       "    .dataframe tbody tr th:only-of-type {\n",
       "        vertical-align: middle;\n",
       "    }\n",
       "\n",
       "    .dataframe tbody tr th {\n",
       "        vertical-align: top;\n",
       "    }\n",
       "\n",
       "    .dataframe thead th {\n",
       "        text-align: right;\n",
       "    }\n",
       "</style>\n",
       "<table border=\"1\" class=\"dataframe\">\n",
       "  <thead>\n",
       "    <tr style=\"text-align: right;\">\n",
       "      <th></th>\n",
       "      <th>DESC</th>\n",
       "      <th>TAG</th>\n",
       "      <th>MATCH</th>\n",
       "      <th>MATCH02</th>\n",
       "      <th>MATCH03</th>\n",
       "    </tr>\n",
       "  </thead>\n",
       "  <tbody>\n",
       "    <tr>\n",
       "      <th>0</th>\n",
       "      <td>Apples,Bananas,Fruits</td>\n",
       "      <td>a,b,f</td>\n",
       "      <td>Yes</td>\n",
       "      <td>[True, True, False, False, False, False, False...</td>\n",
       "      <td>[a]</td>\n",
       "    </tr>\n",
       "    <tr>\n",
       "      <th>1</th>\n",
       "      <td>Bananas</td>\n",
       "      <td>b</td>\n",
       "      <td>Yes</td>\n",
       "      <td>[False, True, False, False, False, False, Fals...</td>\n",
       "      <td>[b]</td>\n",
       "    </tr>\n",
       "    <tr>\n",
       "      <th>2</th>\n",
       "      <td>Citron,Guava,Apple</td>\n",
       "      <td>c,g,a</td>\n",
       "      <td>Yes</td>\n",
       "      <td>[True, False, True, False, False, False, False...</td>\n",
       "      <td>[c]</td>\n",
       "    </tr>\n",
       "    <tr>\n",
       "      <th>3</th>\n",
       "      <td>Bananas,Dilithium,Fruits,Hottentot</td>\n",
       "      <td>b,d,f,h</td>\n",
       "      <td>Yes</td>\n",
       "      <td>[False, True, False, True, False, True, False,...</td>\n",
       "      <td>[b]</td>\n",
       "    </tr>\n",
       "    <tr>\n",
       "      <th>4</th>\n",
       "      <td>Hottentot</td>\n",
       "      <td>h</td>\n",
       "      <td>Yes</td>\n",
       "      <td>[False, False, False, False, False, True, Fals...</td>\n",
       "      <td>[h]</td>\n",
       "    </tr>\n",
       "    <tr>\n",
       "      <th>5</th>\n",
       "      <td>Citron,Kiwi</td>\n",
       "      <td>c,k</td>\n",
       "      <td>Yes</td>\n",
       "      <td>[False, False, True, False, False, False, Fals...</td>\n",
       "      <td>[c]</td>\n",
       "    </tr>\n",
       "  </tbody>\n",
       "</table>\n",
       "</div>"
      ],
      "text/plain": [
       "                                 DESC      TAG MATCH  \\\n",
       "0               Apples,Bananas,Fruits    a,b,f   Yes   \n",
       "1                             Bananas        b   Yes   \n",
       "2                  Citron,Guava,Apple    c,g,a   Yes   \n",
       "3  Bananas,Dilithium,Fruits,Hottentot  b,d,f,h   Yes   \n",
       "4                           Hottentot        h   Yes   \n",
       "5                         Citron,Kiwi      c,k   Yes   \n",
       "\n",
       "                                             MATCH02 MATCH03  \n",
       "0  [True, True, False, False, False, False, False...     [a]  \n",
       "1  [False, True, False, False, False, False, Fals...     [b]  \n",
       "2  [True, False, True, False, False, False, False...     [c]  \n",
       "3  [False, True, False, True, False, True, False,...     [b]  \n",
       "4  [False, False, False, False, False, True, Fals...     [h]  \n",
       "5  [False, False, True, False, False, False, Fals...     [c]  "
      ]
     },
     "execution_count": 153,
     "metadata": {},
     "output_type": "execute_result"
    }
   ],
   "source": [
    "first\n"
   ]
  },
  {
   "cell_type": "code",
   "execution_count": 154,
   "metadata": {},
   "outputs": [
    {
     "data": {
      "text/plain": [
       "'\\nimport re\\nlist=[\\'a cat\\',\\'a dog\\',\\'a yacht\\',\\'cats\\']\\nregex=re.compile(\".*(cat).*\")\\n[m.group(0) for l in list for m in [regex.search(l)] if m]\\n[\\'a cat\\', \\'cats\\']\\n[m.group(1) for l in list for m in [regex.search(l)] if m]\\n[\\'cat\\', \\'cat\\'\\n'"
      ]
     },
     "execution_count": 154,
     "metadata": {},
     "output_type": "execute_result"
    }
   ],
   "source": [
    "'''\n",
    ">>> import re\n",
    ">>> list=['a cat','a dog','a yacht','cats']\n",
    ">>> regex=re.compile(\".*(cat).*\")\n",
    ">>> [m.group(0) for l in list for m in [regex.search(l)] if m]\n",
    "['a cat', 'cats']\n",
    ">>> [m.group(1) for l in list for m in [regex.search(l)] if m]\n",
    "['cat', 'cat'\n",
    "'''"
   ]
  },
  {
   "cell_type": "code",
   "execution_count": 155,
   "metadata": {},
   "outputs": [],
   "source": [
    "def search_func_04(row):\n",
    "    matches = [item in row[\"TAG\"] for item in checklist]\n",
    "    if any(matches):\n",
    "        s1 = set(row[\"TAG\"])\n",
    "#         print (s1)\n",
    "        s2 = set (checklist)\n",
    "#         print (s2)\n",
    "        return (s1.intersection(s2))\n",
    "    else:\n",
    "        return \"na\""
   ]
  },
  {
   "cell_type": "code",
   "execution_count": 157,
   "metadata": {},
   "outputs": [
    {
     "data": {
      "text/html": [
       "<div>\n",
       "<style scoped>\n",
       "    .dataframe tbody tr th:only-of-type {\n",
       "        vertical-align: middle;\n",
       "    }\n",
       "\n",
       "    .dataframe tbody tr th {\n",
       "        vertical-align: top;\n",
       "    }\n",
       "\n",
       "    .dataframe thead th {\n",
       "        text-align: right;\n",
       "    }\n",
       "</style>\n",
       "<table border=\"1\" class=\"dataframe\">\n",
       "  <thead>\n",
       "    <tr style=\"text-align: right;\">\n",
       "      <th></th>\n",
       "      <th>DESC</th>\n",
       "      <th>TAG</th>\n",
       "      <th>MATCH</th>\n",
       "      <th>MATCH02</th>\n",
       "      <th>MATCH03</th>\n",
       "    </tr>\n",
       "  </thead>\n",
       "  <tbody>\n",
       "    <tr>\n",
       "      <th>0</th>\n",
       "      <td>Apples,Bananas,Fruits</td>\n",
       "      <td>a,b,f</td>\n",
       "      <td>Yes</td>\n",
       "      <td>[True, True, False, False, False, False, False...</td>\n",
       "      <td>{b, a}</td>\n",
       "    </tr>\n",
       "    <tr>\n",
       "      <th>1</th>\n",
       "      <td>Bananas</td>\n",
       "      <td>b</td>\n",
       "      <td>Yes</td>\n",
       "      <td>[False, True, False, False, False, False, Fals...</td>\n",
       "      <td>{b}</td>\n",
       "    </tr>\n",
       "    <tr>\n",
       "      <th>2</th>\n",
       "      <td>Citron,Guava,Apple</td>\n",
       "      <td>c,g,a</td>\n",
       "      <td>Yes</td>\n",
       "      <td>[True, False, True, False, False, False, False...</td>\n",
       "      <td>{c, a}</td>\n",
       "    </tr>\n",
       "    <tr>\n",
       "      <th>3</th>\n",
       "      <td>Bananas,Dilithium,Fruits,Hottentot</td>\n",
       "      <td>b,d,f,h</td>\n",
       "      <td>Yes</td>\n",
       "      <td>[False, True, False, True, False, True, False,...</td>\n",
       "      <td>{d, b, h}</td>\n",
       "    </tr>\n",
       "    <tr>\n",
       "      <th>4</th>\n",
       "      <td>Hottentot</td>\n",
       "      <td>h</td>\n",
       "      <td>Yes</td>\n",
       "      <td>[False, False, False, False, False, True, Fals...</td>\n",
       "      <td>{h}</td>\n",
       "    </tr>\n",
       "    <tr>\n",
       "      <th>5</th>\n",
       "      <td>Citron,Kiwi</td>\n",
       "      <td>c,k</td>\n",
       "      <td>Yes</td>\n",
       "      <td>[False, False, True, False, False, False, Fals...</td>\n",
       "      <td>{c, k}</td>\n",
       "    </tr>\n",
       "  </tbody>\n",
       "</table>\n",
       "</div>"
      ],
      "text/plain": [
       "                                 DESC      TAG MATCH  \\\n",
       "0               Apples,Bananas,Fruits    a,b,f   Yes   \n",
       "1                             Bananas        b   Yes   \n",
       "2                  Citron,Guava,Apple    c,g,a   Yes   \n",
       "3  Bananas,Dilithium,Fruits,Hottentot  b,d,f,h   Yes   \n",
       "4                           Hottentot        h   Yes   \n",
       "5                         Citron,Kiwi      c,k   Yes   \n",
       "\n",
       "                                             MATCH02    MATCH03  \n",
       "0  [True, True, False, False, False, False, False...     {b, a}  \n",
       "1  [False, True, False, False, False, False, Fals...        {b}  \n",
       "2  [True, False, True, False, False, False, False...     {c, a}  \n",
       "3  [False, True, False, True, False, True, False,...  {d, b, h}  \n",
       "4  [False, False, False, False, False, True, Fals...        {h}  \n",
       "5  [False, False, True, False, False, False, Fals...     {c, k}  "
      ]
     },
     "execution_count": 157,
     "metadata": {},
     "output_type": "execute_result"
    }
   ],
   "source": [
    "first[\"MATCH03\"] = first.apply(search_func_04, axis = 1)\n",
    "first"
   ]
  },
  {
   "cell_type": "code",
   "execution_count": null,
   "metadata": {},
   "outputs": [],
   "source": []
  },
  {
   "cell_type": "code",
   "execution_count": null,
   "metadata": {},
   "outputs": [],
   "source": []
  },
  {
   "cell_type": "code",
   "execution_count": null,
   "metadata": {},
   "outputs": [],
   "source": []
  },
  {
   "cell_type": "code",
   "execution_count": null,
   "metadata": {},
   "outputs": [],
   "source": []
  },
  {
   "cell_type": "code",
   "execution_count": null,
   "metadata": {},
   "outputs": [],
   "source": []
  },
  {
   "cell_type": "code",
   "execution_count": null,
   "metadata": {},
   "outputs": [],
   "source": []
  },
  {
   "cell_type": "code",
   "execution_count": null,
   "metadata": {},
   "outputs": [],
   "source": []
  },
  {
   "cell_type": "code",
   "execution_count": null,
   "metadata": {},
   "outputs": [],
   "source": []
  },
  {
   "cell_type": "code",
   "execution_count": null,
   "metadata": {},
   "outputs": [],
   "source": []
  },
  {
   "cell_type": "code",
   "execution_count": null,
   "metadata": {},
   "outputs": [],
   "source": []
  },
  {
   "cell_type": "code",
   "execution_count": null,
   "metadata": {},
   "outputs": [],
   "source": []
  },
  {
   "cell_type": "code",
   "execution_count": null,
   "metadata": {},
   "outputs": [],
   "source": []
  },
  {
   "cell_type": "code",
   "execution_count": null,
   "metadata": {},
   "outputs": [],
   "source": []
  },
  {
   "cell_type": "code",
   "execution_count": null,
   "metadata": {},
   "outputs": [],
   "source": []
  },
  {
   "cell_type": "code",
   "execution_count": null,
   "metadata": {},
   "outputs": [],
   "source": []
  }
 ],
 "metadata": {
  "kernelspec": {
   "display_name": "Python 3",
   "language": "python",
   "name": "python3"
  },
  "language_info": {
   "codemirror_mode": {
    "name": "ipython",
    "version": 3
   },
   "file_extension": ".py",
   "mimetype": "text/x-python",
   "name": "python",
   "nbconvert_exporter": "python",
   "pygments_lexer": "ipython3",
   "version": "3.6.4"
  }
 },
 "nbformat": 4,
 "nbformat_minor": 2
}
