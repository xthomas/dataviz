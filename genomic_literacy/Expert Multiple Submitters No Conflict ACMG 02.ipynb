{
 "cells": [
  {
   "cell_type": "code",
   "execution_count": 63,
   "metadata": {},
   "outputs": [],
   "source": [
    "import pandas as pd\n",
    "import re"
   ]
  },
  {
   "cell_type": "code",
   "execution_count": 64,
   "metadata": {},
   "outputs": [],
   "source": [
    "datadir = '/home/xavier/data/'\n",
    "clinvar_file = 'variant_summary_02.txt' # Updated 5/21/2018"
   ]
  },
  {
   "cell_type": "markdown",
   "metadata": {},
   "source": [
    "# First thing, download and survey the 'Clinvar' data\n",
    "\n",
    "## ➜ ClinVar is a freely accessible, public archive of reports of the relationships among human variations and phenotypes, with supporting evidence.\n",
    "\n",
    "+ A phenotype results from the expression of an organism's genetic code, its genotype, as well as the influence of environmental factors and the interactions between the two. [Wikipedia](https://en.wikipedia.org/wiki/Phenotype)\n",
    "+ File is from **[THIS FTP DIRECTORY](ftp://ftp.ncbi.nlm.nih.gov/pub/clinvar/tab_delimited/)** (which is updated monthly)\n",
    "+ ** Download this file [Variant_summary.txt](ftp://ftp.ncbi.nlm.nih.gov/pub/clinvar/tab_delimited/variant_summary.txt.gz)** which is a 809K row dataset listing "
   ]
  },
  {
   "cell_type": "code",
   "execution_count": 65,
   "metadata": {},
   "outputs": [
    {
     "name": "stderr",
     "output_type": "stream",
     "text": [
      "/home/xavier/miniconda3/lib/python3.6/site-packages/IPython/core/interactiveshell.py:2785: DtypeWarning: Columns (18) have mixed types. Specify dtype option on import or set low_memory=False.\n",
      "  interactivity=interactivity, compiler=compiler, result=result)\n"
     ]
    }
   ],
   "source": [
    "clinvar = pd.read_csv(datadir + clinvar_file, sep='\\t', lineterminator='\\n')"
   ]
  },
  {
   "cell_type": "code",
   "execution_count": 66,
   "metadata": {},
   "outputs": [
    {
     "data": {
      "text/plain": [
       "(811417, 31)"
      ]
     },
     "execution_count": 66,
     "metadata": {},
     "output_type": "execute_result"
    }
   ],
   "source": [
    "# count the rows of data\n",
    "clinvar.shape"
   ]
  },
  {
   "cell_type": "markdown",
   "metadata": {},
   "source": [
    "## ...⇧\n",
    "> **811K Rows of data:** The Variant Summary updated on 5/21 is 2K rows longer than the previous\n",
    "\n",
    "+ Previous was 809K rows in this dataset.\n",
    "\n",
    "- - -"
   ]
  },
  {
   "cell_type": "code",
   "execution_count": 67,
   "metadata": {
    "scrolled": false
   },
   "outputs": [
    {
     "data": {
      "text/plain": [
       "Assembly\n",
       "GRCh37    397447\n",
       "GRCh38    389089\n",
       "NCBI36     19545\n",
       "dtype: int64"
      ]
     },
     "execution_count": 67,
     "metadata": {},
     "output_type": "execute_result"
    }
   ],
   "source": [
    "# What are the Reference Genomes in this data?\n",
    "clinvar.groupby('Assembly').size()"
   ]
  },
  {
   "cell_type": "code",
   "execution_count": 68,
   "metadata": {},
   "outputs": [
    {
     "data": {
      "text/plain": [
       "806081"
      ]
     },
     "execution_count": 68,
     "metadata": {},
     "output_type": "execute_result"
    }
   ],
   "source": [
    "397447 + 389089 + 19545"
   ]
  },
  {
   "cell_type": "markdown",
   "metadata": {},
   "source": [
    "## ...⇧\n",
    "> **806K Rows of \"Reference Genome\" data:** This is an anomaly!!\n",
    "\n",
    "+ Data has **811K** rows\n",
    "+ Yet the Assembly counts **only 806K** rows"
   ]
  },
  {
   "cell_type": "code",
   "execution_count": 69,
   "metadata": {
    "scrolled": true
   },
   "outputs": [
    {
     "data": {
      "text/plain": [
       "0         GRCh37\n",
       "1         GRCh38\n",
       "2         GRCh37\n",
       "3         GRCh38\n",
       "4         GRCh37\n",
       "5         GRCh38\n",
       "6         GRCh37\n",
       "7         GRCh38\n",
       "8         GRCh37\n",
       "9         GRCh38\n",
       "10        GRCh37\n",
       "11        GRCh38\n",
       "12        NCBI36\n",
       "13        GRCh37\n",
       "14        GRCh38\n",
       "15        GRCh38\n",
       "16        GRCh37\n",
       "17        GRCh37\n",
       "18        GRCh38\n",
       "19        GRCh37\n",
       "20        GRCh38\n",
       "21        GRCh37\n",
       "22        GRCh38\n",
       "23        GRCh37\n",
       "24        GRCh38\n",
       "25        GRCh37\n",
       "26        GRCh38\n",
       "27        GRCh37\n",
       "28        GRCh38\n",
       "29        GRCh37\n",
       "           ...  \n",
       "811387    GRCh38\n",
       "811388    GRCh37\n",
       "811389    GRCh38\n",
       "811390    GRCh38\n",
       "811391    GRCh37\n",
       "811392    GRCh37\n",
       "811393    GRCh38\n",
       "811394    GRCh37\n",
       "811395    GRCh38\n",
       "811396    GRCh38\n",
       "811397    GRCh37\n",
       "811398    GRCh38\n",
       "811399    GRCh37\n",
       "811400    GRCh38\n",
       "811401    GRCh37\n",
       "811402    GRCh37\n",
       "811403    GRCh38\n",
       "811404    GRCh38\n",
       "811405    GRCh37\n",
       "811406    GRCh38\n",
       "811407    GRCh37\n",
       "811408    GRCh38\n",
       "811409    GRCh37\n",
       "811410       NaN\n",
       "811411       NaN\n",
       "811412       NaN\n",
       "811413       NaN\n",
       "811414       NaN\n",
       "811415       NaN\n",
       "811416       NaN\n",
       "Name: Assembly, Length: 811417, dtype: object"
      ]
     },
     "execution_count": 69,
     "metadata": {},
     "output_type": "execute_result"
    }
   ],
   "source": [
    "clinvar.Assembly"
   ]
  },
  {
   "cell_type": "markdown",
   "metadata": {},
   "source": [
    "## ...⇧\n",
    "> **~5K Rows of \"Reference Genome\" are neither 36, 37, or 38:**\n",
    "\n",
    "+ For example, the NaN values in the last few rows listed above.\n",
    "+ So will only work with those explicitly referenced as Human Reference Genome #38"
   ]
  },
  {
   "cell_type": "code",
   "execution_count": 70,
   "metadata": {
    "scrolled": true
   },
   "outputs": [
    {
     "data": {
      "text/plain": [
       "(389089, 31)"
      ]
     },
     "execution_count": 70,
     "metadata": {},
     "output_type": "execute_result"
    }
   ],
   "source": [
    "# Work with Human Reference Genome #38\n",
    "latest = clinvar[clinvar['Assembly'] == 'GRCh38']\n",
    "latest.shape"
   ]
  },
  {
   "cell_type": "markdown",
   "metadata": {},
   "source": [
    "## ...⇧\n",
    "\n",
    "> **389K Unfiltered rows of data fir Reference Genome #38**"
   ]
  },
  {
   "cell_type": "markdown",
   "metadata": {},
   "source": [
    "- - -\n",
    "\n",
    "## Now let's cross-reference some count of this data using other tools\n",
    "\n",
    "+ The [ClinVar Advanced Search Builder](https://www.ncbi.nlm.nih.gov/clinvar/advanced/) allows you to slice Clinvar data using custom variables\n",
    "+ We're interested in the most authoritative data.\n",
    "\n",
    "> Let's start with \"multiple submitters, no conflict.\" Should be **~53K rows**\n",
    "\n",
    "![Should be ~ 53K rows](https://i.imgur.com/2cmVd4jl.png)\n",
    "\n",
    "\n",
    "- - -"
   ]
  },
  {
   "cell_type": "code",
   "execution_count": 71,
   "metadata": {},
   "outputs": [
    {
     "data": {
      "text/plain": [
       "ReviewStatus\n",
       "criteria provided, conflicting interpretations           18415\n",
       "criteria provided, multiple submitters, no conflicts     52969\n",
       "criteria provided, single submitter                     249069\n",
       "no assertion criteria provided                           48076\n",
       "no assertion provided                                    10707\n",
       "no interpretation for the single variant                   656\n",
       "practice guideline                                          23\n",
       "reviewed by expert panel                                  9174\n",
       "dtype: int64"
      ]
     },
     "execution_count": 71,
     "metadata": {},
     "output_type": "execute_result"
    }
   ],
   "source": [
    "# Let's double check some stats on this dataframe:\n",
    "latest.groupby('ReviewStatus').size()\n"
   ]
  },
  {
   "cell_type": "markdown",
   "metadata": {},
   "source": [
    "## ...⇧\n",
    "\n",
    "> **Matching up pretty well**\n",
    "\n",
    "+ Discrepancies of 'No Conflicts and 'Reviewed by Experts' can be explained by the NaN values are filtered out of our dataset, but remain in the 'Advanced Search Builder'\n",
    "\n",
    "![Matchup](https://i.imgur.com/pswXi9Zl.jpg)"
   ]
  },
  {
   "cell_type": "code",
   "execution_count": 72,
   "metadata": {},
   "outputs": [
    {
     "data": {
      "text/plain": [
       "(62166, 31)"
      ]
     },
     "execution_count": 72,
     "metadata": {},
     "output_type": "execute_result"
    }
   ],
   "source": [
    "# Further filter the dataset down by these 'authoritative' flags\n",
    "# from the 'Review Status' column\n",
    "\n",
    "authoritative = latest[\n",
    "    (latest['ReviewStatus'] == 'criteria provided, multiple submitters, no conflicts') | \n",
    "    (latest['ReviewStatus'] == 'practice guideline') | \n",
    "    (latest['ReviewStatus'] == 'reviewed by expert panel') \n",
    "]\n",
    "authoritative.shape"
   ]
  },
  {
   "cell_type": "code",
   "execution_count": 73,
   "metadata": {},
   "outputs": [
    {
     "data": {
      "text/plain": [
       "62166"
      ]
     },
     "execution_count": 73,
     "metadata": {},
     "output_type": "execute_result"
    }
   ],
   "source": [
    "# double check\n",
    "52969 + 23 + 9174"
   ]
  },
  {
   "cell_type": "code",
   "execution_count": 74,
   "metadata": {},
   "outputs": [
    {
     "data": {
      "text/plain": [
       "15.97732138405352"
      ]
     },
     "execution_count": 74,
     "metadata": {},
     "output_type": "execute_result"
    }
   ],
   "source": [
    "# percentage of total Ref #38 data\n",
    "(62166 / 389089) * 100"
   ]
  },
  {
   "cell_type": "markdown",
   "metadata": {},
   "source": [
    "## ...⇧\n",
    "\n",
    "> **62K Rows of 'Authoritative' reviews**\n",
    "\n",
    "+ So that means that of the original **389K** rows of data, on **62K** rows of data are 'meaningful...\n",
    "+ Only **16%** of this data is 'authoritative', based on our filters.\n",
    "\n",
    "- - -\n",
    "\n",
    "# Idea for marketing\n",
    "\n",
    "> Show the rise in 'authoritative' data on clinical signifigance by applying this exercise back in time on retrospective datasets. ➜ This would demonstrate how rapidly authoritative correlations in markers are rising, over a period of months. (Nice little marketing tidbit.)\n",
    "\n",
    "![marketing ideas](https://i.imgur.com/gshsM2Zm.png?1)"
   ]
  },
  {
   "cell_type": "markdown",
   "metadata": {},
   "source": [
    "## Time to start matching the OMIM tags\n",
    "\n",
    "+ First order is to find OMIM tags that match the **59 ACMG Recommendations Diseases**\n",
    "+ Import this file: [ACMG Recommendations for Reporting of Incidental Findings in Clinical Exome and Genome Sequencing](https://www.ncbi.nlm.nih.gov/clinvar/docs/acmg/)"
   ]
  },
  {
   "cell_type": "code",
   "execution_count": 75,
   "metadata": {
    "scrolled": true
   },
   "outputs": [],
   "source": [
    "# Import Disease names and OMIM tags and convert to a list\n",
    "acmg = pd.read_csv(datadir + 'ACMG_Conditions_OMIM.csv')\n",
    "acmgtags = acmg.ACMGTAGS.tolist()"
   ]
  },
  {
   "cell_type": "code",
   "execution_count": 76,
   "metadata": {},
   "outputs": [],
   "source": [
    "# function to write OMIM TAGS to a new Column\n",
    "def omim_tags (x):\n",
    "    # Find anything that has an OMIM tag, from 1 to 6 numerals long\n",
    "    res = re.findall(r\"(?:OMIM:(\\d{1,6}))\",x)\n",
    "    if res:\n",
    "        return res\n",
    "    else:\n",
    "#         print(\"NA\")\n",
    "         return (\"NA\")"
   ]
  },
  {
   "cell_type": "code",
   "execution_count": 77,
   "metadata": {},
   "outputs": [],
   "source": [
    "# function to write \"OMIM > ACMG\" matches to a new Column\n",
    "def acmg_matches (x):\n",
    "    # Find anything that has an OMIM tag, from 4 to 6 numerals long\n",
    "    res = re.finditer(r\"(?:OMIM:(\\d{4,6}))\",x)\n",
    "    if res:\n",
    "        for hit in res:\n",
    "#             print (int(hit.group(1)))\n",
    "            # Check if matches against ACMG\n",
    "            if int(hit.group(1)) in acmgtags:\n",
    "                return int(hit.group(1))\n",
    "        else:\n",
    "            return(\"NA\")\n",
    "#          return (\"NA\")"
   ]
  },
  {
   "cell_type": "code",
   "execution_count": 78,
   "metadata": {
    "scrolled": true
   },
   "outputs": [
    {
     "name": "stderr",
     "output_type": "stream",
     "text": [
      "/home/xavier/miniconda3/lib/python3.6/site-packages/ipykernel_launcher.py:1: SettingWithCopyWarning: \n",
      "A value is trying to be set on a copy of a slice from a DataFrame.\n",
      "Try using .loc[row_indexer,col_indexer] = value instead\n",
      "\n",
      "See the caveats in the documentation: http://pandas.pydata.org/pandas-docs/stable/indexing.html#indexing-view-versus-copy\n",
      "  \"\"\"Entry point for launching an IPython kernel.\n"
     ]
    }
   ],
   "source": [
    "authoritative['OMIMTAGS'] = authoritative.PhenotypeIDS.apply(omim_tags)"
   ]
  },
  {
   "cell_type": "code",
   "execution_count": 79,
   "metadata": {},
   "outputs": [
    {
     "name": "stderr",
     "output_type": "stream",
     "text": [
      "/home/xavier/miniconda3/lib/python3.6/site-packages/ipykernel_launcher.py:1: SettingWithCopyWarning: \n",
      "A value is trying to be set on a copy of a slice from a DataFrame.\n",
      "Try using .loc[row_indexer,col_indexer] = value instead\n",
      "\n",
      "See the caveats in the documentation: http://pandas.pydata.org/pandas-docs/stable/indexing.html#indexing-view-versus-copy\n",
      "  \"\"\"Entry point for launching an IPython kernel.\n"
     ]
    }
   ],
   "source": [
    "authoritative['ACMGTAGS'] = authoritative.PhenotypeIDS.apply(acmg_matches)"
   ]
  },
  {
   "cell_type": "code",
   "execution_count": 80,
   "metadata": {},
   "outputs": [],
   "source": [
    "onlyomim = authoritative[authoritative['OMIMTAGS'] != \"NA\"]\n",
    "onlyacmg = authoritative[authoritative['ACMGTAGS'] != \"NA\"]"
   ]
  },
  {
   "cell_type": "code",
   "execution_count": 81,
   "metadata": {
    "scrolled": false
   },
   "outputs": [],
   "source": [
    "# write 1500 rows to a swapfile\n",
    "onlyacmg.iloc[0:1499].to_csv(datadir + 'acmg_matches-1500.csv')"
   ]
  },
  {
   "cell_type": "code",
   "execution_count": 82,
   "metadata": {},
   "outputs": [
    {
     "data": {
      "text/plain": [
       "(12138, 33)"
      ]
     },
     "execution_count": 82,
     "metadata": {},
     "output_type": "execute_result"
    }
   ],
   "source": [
    "onlyacmg.shape"
   ]
  },
  {
   "cell_type": "markdown",
   "metadata": {},
   "source": [
    "## ...⇧\n",
    "> **12K rows Match to ACMG Diseases**:\n",
    "\n",
    "# 20% of the authoritative data matches an ACMG condition"
   ]
  },
  {
   "cell_type": "code",
   "execution_count": 83,
   "metadata": {},
   "outputs": [
    {
     "data": {
      "text/plain": [
       "19.525142360775988"
      ]
     },
     "execution_count": 83,
     "metadata": {},
     "output_type": "execute_result"
    }
   ],
   "source": [
    "# percentage data that matches ACMG\n",
    "(onlyacmg.shape[0]/authoritative.shape[0])*100"
   ]
  },
  {
   "cell_type": "code",
   "execution_count": null,
   "metadata": {},
   "outputs": [],
   "source": []
  },
  {
   "cell_type": "markdown",
   "metadata": {},
   "source": [
    "# There are definitely instances where multiple ACMG diseases match against a single row of our Ref #38, authoritative data\n",
    "## But let's finish strongand ONLY LIST THE FIRST CONDITION\n",
    "## Merging the ACMG disease name"
   ]
  },
  {
   "cell_type": "code",
   "execution_count": 85,
   "metadata": {},
   "outputs": [],
   "source": [
    "result = pd.merge(onlyacmg,acmg,on='ACMGTAGS',how='left')"
   ]
  },
  {
   "cell_type": "code",
   "execution_count": 86,
   "metadata": {},
   "outputs": [
    {
     "data": {
      "text/html": [
       "<div>\n",
       "<style scoped>\n",
       "    .dataframe tbody tr th:only-of-type {\n",
       "        vertical-align: middle;\n",
       "    }\n",
       "\n",
       "    .dataframe tbody tr th {\n",
       "        vertical-align: top;\n",
       "    }\n",
       "\n",
       "    .dataframe thead th {\n",
       "        text-align: right;\n",
       "    }\n",
       "</style>\n",
       "<table border=\"1\" class=\"dataframe\">\n",
       "  <thead>\n",
       "    <tr style=\"text-align: right;\">\n",
       "      <th></th>\n",
       "      <th>#AlleleID</th>\n",
       "      <th>Type</th>\n",
       "      <th>Name</th>\n",
       "      <th>GeneID</th>\n",
       "      <th>GeneSymbol</th>\n",
       "      <th>HGNC_ID</th>\n",
       "      <th>ClinicalSignificance</th>\n",
       "      <th>ClinSigSimple</th>\n",
       "      <th>LastEvaluated</th>\n",
       "      <th>RS# (dbSNP)</th>\n",
       "      <th>...</th>\n",
       "      <th>ReviewStatus</th>\n",
       "      <th>NumberSubmitters</th>\n",
       "      <th>Guidelines</th>\n",
       "      <th>TestedInGTR</th>\n",
       "      <th>OtherIDs</th>\n",
       "      <th>SubmitterCategories</th>\n",
       "      <th>VariationID</th>\n",
       "      <th>OMIMTAGS</th>\n",
       "      <th>ACMGTAGS</th>\n",
       "      <th>DISEASE</th>\n",
       "    </tr>\n",
       "  </thead>\n",
       "  <tbody>\n",
       "    <tr>\n",
       "      <th>0</th>\n",
       "      <td>15440</td>\n",
       "      <td>single nucleotide variant</td>\n",
       "      <td>NM_017841.2(SDHAF2):c.232G&gt;A (p.Gly78Arg)</td>\n",
       "      <td>54949</td>\n",
       "      <td>SDHAF2</td>\n",
       "      <td>HGNC:26034</td>\n",
       "      <td>Pathogenic</td>\n",
       "      <td>1</td>\n",
       "      <td>Sep 06, 2017</td>\n",
       "      <td>113560320</td>\n",
       "      <td>...</td>\n",
       "      <td>criteria provided, multiple submitters, no con...</td>\n",
       "      <td>4</td>\n",
       "      <td>ACMG2013,ACMG2016</td>\n",
       "      <td>N</td>\n",
       "      <td>OMIM Allelic Variant:613019.0001,UniProtKB (pr...</td>\n",
       "      <td>3</td>\n",
       "      <td>401</td>\n",
       "      <td>[601650]</td>\n",
       "      <td>601650</td>\n",
       "      <td>Paragangliomas 2</td>\n",
       "    </tr>\n",
       "    <tr>\n",
       "      <th>1</th>\n",
       "      <td>15773</td>\n",
       "      <td>single nucleotide variant</td>\n",
       "      <td>NM_024334.2(TMEM43):c.1073C&gt;T (p.Ser358Leu)</td>\n",
       "      <td>79188</td>\n",
       "      <td>TMEM43</td>\n",
       "      <td>HGNC:28472</td>\n",
       "      <td>Pathogenic</td>\n",
       "      <td>1</td>\n",
       "      <td>Jun 09, 2017</td>\n",
       "      <td>63750743</td>\n",
       "      <td>...</td>\n",
       "      <td>criteria provided, multiple submitters, no con...</td>\n",
       "      <td>8</td>\n",
       "      <td>ACMG2013,ACMG2016</td>\n",
       "      <td>N</td>\n",
       "      <td>OMIM Allelic Variant:612048.0001,UniProtKB (pr...</td>\n",
       "      <td>3</td>\n",
       "      <td>734</td>\n",
       "      <td>[604400]</td>\n",
       "      <td>604400</td>\n",
       "      <td>Arrhythmogenic right ventricular cardiomyopath...</td>\n",
       "    </tr>\n",
       "    <tr>\n",
       "      <th>2</th>\n",
       "      <td>15837</td>\n",
       "      <td>single nucleotide variant</td>\n",
       "      <td>NM_000038.5(APC):c.904C&gt;T (p.Arg302Ter)</td>\n",
       "      <td>324</td>\n",
       "      <td>APC</td>\n",
       "      <td>HGNC:583</td>\n",
       "      <td>Pathogenic</td>\n",
       "      <td>1</td>\n",
       "      <td>Apr 22, 2017</td>\n",
       "      <td>137854568</td>\n",
       "      <td>...</td>\n",
       "      <td>criteria provided, multiple submitters, no con...</td>\n",
       "      <td>8</td>\n",
       "      <td>ACMG2013,ACMG2016</td>\n",
       "      <td>N</td>\n",
       "      <td>HGMD:CM910029,OMIM Allelic Variant:611731.0002...</td>\n",
       "      <td>3</td>\n",
       "      <td>798</td>\n",
       "      <td>[175100]</td>\n",
       "      <td>175100</td>\n",
       "      <td>Adenomatous polyposis coli</td>\n",
       "    </tr>\n",
       "    <tr>\n",
       "      <th>3</th>\n",
       "      <td>15840</td>\n",
       "      <td>single nucleotide variant</td>\n",
       "      <td>NM_000038.5(APC):c.4012C&gt;T (p.Gln1338Ter)</td>\n",
       "      <td>324</td>\n",
       "      <td>APC</td>\n",
       "      <td>HGNC:583</td>\n",
       "      <td>Pathogenic/Likely pathogenic</td>\n",
       "      <td>1</td>\n",
       "      <td>Mar 22, 2016</td>\n",
       "      <td>121913327</td>\n",
       "      <td>...</td>\n",
       "      <td>criteria provided, multiple submitters, no con...</td>\n",
       "      <td>4</td>\n",
       "      <td>ACMG2013,ACMG2016</td>\n",
       "      <td>N</td>\n",
       "      <td>OMIM Allelic Variant:611731.0009</td>\n",
       "      <td>3</td>\n",
       "      <td>801</td>\n",
       "      <td>[114500, 175100]</td>\n",
       "      <td>175100</td>\n",
       "      <td>Adenomatous polyposis coli</td>\n",
       "    </tr>\n",
       "    <tr>\n",
       "      <th>4</th>\n",
       "      <td>15845</td>\n",
       "      <td>single nucleotide variant</td>\n",
       "      <td>NM_000038.5(APC):c.1621C&gt;T (p.Gln541Ter)</td>\n",
       "      <td>324</td>\n",
       "      <td>APC</td>\n",
       "      <td>HGNC:583</td>\n",
       "      <td>Pathogenic</td>\n",
       "      <td>1</td>\n",
       "      <td>May 24, 2017</td>\n",
       "      <td>137854572</td>\n",
       "      <td>...</td>\n",
       "      <td>criteria provided, multiple submitters, no con...</td>\n",
       "      <td>4</td>\n",
       "      <td>ACMG2013,ACMG2016</td>\n",
       "      <td>N</td>\n",
       "      <td>OMIM Allelic Variant:611731.0014</td>\n",
       "      <td>3</td>\n",
       "      <td>806</td>\n",
       "      <td>[175100]</td>\n",
       "      <td>175100</td>\n",
       "      <td>Adenomatous polyposis coli</td>\n",
       "    </tr>\n",
       "  </tbody>\n",
       "</table>\n",
       "<p>5 rows × 34 columns</p>\n",
       "</div>"
      ],
      "text/plain": [
       "   #AlleleID                       Type  \\\n",
       "0      15440  single nucleotide variant   \n",
       "1      15773  single nucleotide variant   \n",
       "2      15837  single nucleotide variant   \n",
       "3      15840  single nucleotide variant   \n",
       "4      15845  single nucleotide variant   \n",
       "\n",
       "                                          Name  GeneID GeneSymbol     HGNC_ID  \\\n",
       "0    NM_017841.2(SDHAF2):c.232G>A (p.Gly78Arg)   54949     SDHAF2  HGNC:26034   \n",
       "1  NM_024334.2(TMEM43):c.1073C>T (p.Ser358Leu)   79188     TMEM43  HGNC:28472   \n",
       "2      NM_000038.5(APC):c.904C>T (p.Arg302Ter)     324        APC    HGNC:583   \n",
       "3    NM_000038.5(APC):c.4012C>T (p.Gln1338Ter)     324        APC    HGNC:583   \n",
       "4     NM_000038.5(APC):c.1621C>T (p.Gln541Ter)     324        APC    HGNC:583   \n",
       "\n",
       "           ClinicalSignificance  ClinSigSimple LastEvaluated  RS# (dbSNP)  \\\n",
       "0                    Pathogenic              1  Sep 06, 2017    113560320   \n",
       "1                    Pathogenic              1  Jun 09, 2017     63750743   \n",
       "2                    Pathogenic              1  Apr 22, 2017    137854568   \n",
       "3  Pathogenic/Likely pathogenic              1  Mar 22, 2016    121913327   \n",
       "4                    Pathogenic              1  May 24, 2017    137854572   \n",
       "\n",
       "                         ...                          \\\n",
       "0                        ...                           \n",
       "1                        ...                           \n",
       "2                        ...                           \n",
       "3                        ...                           \n",
       "4                        ...                           \n",
       "\n",
       "                                        ReviewStatus NumberSubmitters  \\\n",
       "0  criteria provided, multiple submitters, no con...                4   \n",
       "1  criteria provided, multiple submitters, no con...                8   \n",
       "2  criteria provided, multiple submitters, no con...                8   \n",
       "3  criteria provided, multiple submitters, no con...                4   \n",
       "4  criteria provided, multiple submitters, no con...                4   \n",
       "\n",
       "          Guidelines TestedInGTR  \\\n",
       "0  ACMG2013,ACMG2016           N   \n",
       "1  ACMG2013,ACMG2016           N   \n",
       "2  ACMG2013,ACMG2016           N   \n",
       "3  ACMG2013,ACMG2016           N   \n",
       "4  ACMG2013,ACMG2016           N   \n",
       "\n",
       "                                            OtherIDs SubmitterCategories  \\\n",
       "0  OMIM Allelic Variant:613019.0001,UniProtKB (pr...                   3   \n",
       "1  OMIM Allelic Variant:612048.0001,UniProtKB (pr...                   3   \n",
       "2  HGMD:CM910029,OMIM Allelic Variant:611731.0002...                   3   \n",
       "3                   OMIM Allelic Variant:611731.0009                   3   \n",
       "4                   OMIM Allelic Variant:611731.0014                   3   \n",
       "\n",
       "  VariationID          OMIMTAGS ACMGTAGS  \\\n",
       "0         401          [601650]   601650   \n",
       "1         734          [604400]   604400   \n",
       "2         798          [175100]   175100   \n",
       "3         801  [114500, 175100]   175100   \n",
       "4         806          [175100]   175100   \n",
       "\n",
       "                                             DISEASE  \n",
       "0                                   Paragangliomas 2  \n",
       "1  Arrhythmogenic right ventricular cardiomyopath...  \n",
       "2                         Adenomatous polyposis coli  \n",
       "3                         Adenomatous polyposis coli  \n",
       "4                         Adenomatous polyposis coli  \n",
       "\n",
       "[5 rows x 34 columns]"
      ]
     },
     "execution_count": 86,
     "metadata": {},
     "output_type": "execute_result"
    }
   ],
   "source": [
    "result.head()"
   ]
  },
  {
   "cell_type": "code",
   "execution_count": 87,
   "metadata": {},
   "outputs": [],
   "source": [
    "result.to_csv(datadir + 'acmg_authoritative_matches_full.csv')"
   ]
  },
  {
   "cell_type": "code",
   "execution_count": 88,
   "metadata": {},
   "outputs": [
    {
     "data": {
      "text/plain": [
       "(38590, 33)"
      ]
     },
     "execution_count": 88,
     "metadata": {},
     "output_type": "execute_result"
    }
   ],
   "source": [
    "onlyomim.shape"
   ]
  },
  {
   "cell_type": "markdown",
   "metadata": {},
   "source": [
    "## ...⇧\n",
    "> **38K rows contain OMIM tags**: 62% of total \"Expert Reviewed, No Conflict\" data\n",
    "\n",
    "+ ...that's a lot of data loss, because it doesn't share the OMIM tag!\n",
    "+ We may want to come back and try to match by disease ddescription instead of just the OMIM TAG"
   ]
  },
  {
   "cell_type": "code",
   "execution_count": 84,
   "metadata": {},
   "outputs": [
    {
     "data": {
      "text/plain": [
       "62.075732715632334"
      ]
     },
     "execution_count": 84,
     "metadata": {},
     "output_type": "execute_result"
    }
   ],
   "source": [
    "# percentage data sliced away by not using OMIM tags\n",
    "(onlyomim.shape[0]/authoritative.shape[0])*100"
   ]
  },
  {
   "cell_type": "code",
   "execution_count": null,
   "metadata": {},
   "outputs": [],
   "source": []
  },
  {
   "cell_type": "code",
   "execution_count": null,
   "metadata": {},
   "outputs": [],
   "source": []
  },
  {
   "cell_type": "code",
   "execution_count": 89,
   "metadata": {},
   "outputs": [
    {
     "name": "stderr",
     "output_type": "stream",
     "text": [
      "/home/xavier/miniconda3/lib/python3.6/site-packages/ipykernel_launcher.py:2: SettingWithCopyWarning: \n",
      "A value is trying to be set on a copy of a slice from a DataFrame.\n",
      "Try using .loc[row_indexer,col_indexer] = value instead\n",
      "\n",
      "See the caveats in the documentation: http://pandas.pydata.org/pandas-docs/stable/indexing.html#indexing-view-versus-copy\n",
      "  \n"
     ]
    }
   ],
   "source": [
    "# create a column that counts the number of matches\n",
    "onlyomim[\"MATCHCOUNT\"]=onlyomim[\"OMIMTAGS\"].apply(lambda x: len(x))"
   ]
  },
  {
   "cell_type": "code",
   "execution_count": 90,
   "metadata": {},
   "outputs": [
    {
     "data": {
      "text/plain": [
       "MATCHCOUNT\n",
       "1     31562\n",
       "2      4628\n",
       "3      1164\n",
       "4       383\n",
       "5       688\n",
       "6        57\n",
       "7        48\n",
       "8        21\n",
       "9         9\n",
       "10       21\n",
       "11        4\n",
       "12        1\n",
       "13        2\n",
       "14        1\n",
       "19        1\n",
       "dtype: int64"
      ]
     },
     "execution_count": 90,
     "metadata": {},
     "output_type": "execute_result"
    }
   ],
   "source": [
    "# Table of the number of matches\n",
    "onlyomim.groupby('MATCHCOUNT').size()"
   ]
  },
  {
   "cell_type": "markdown",
   "metadata": {},
   "source": [
    "## ...⇧\n",
    "> **Signifigant number have multiple OMIM tags**: \n",
    "\n",
    "+ 12% of rows have 2 OMIM tags\n",
    "+ 3% of rows have 3 OMIM tags\n"
   ]
  },
  {
   "cell_type": "code",
   "execution_count": 91,
   "metadata": {},
   "outputs": [
    {
     "data": {
      "text/plain": [
       "3.0163254729204456"
      ]
     },
     "execution_count": 91,
     "metadata": {},
     "output_type": "execute_result"
    }
   ],
   "source": [
    "(1164/38590)*100"
   ]
  },
  {
   "cell_type": "code",
   "execution_count": 92,
   "metadata": {},
   "outputs": [
    {
     "data": {
      "text/plain": [
       "11.992744234257579"
      ]
     },
     "execution_count": 92,
     "metadata": {},
     "output_type": "execute_result"
    }
   ],
   "source": [
    "(4628/38590)*100"
   ]
  },
  {
   "cell_type": "code",
   "execution_count": null,
   "metadata": {},
   "outputs": [],
   "source": []
  },
  {
   "cell_type": "code",
   "execution_count": null,
   "metadata": {},
   "outputs": [],
   "source": []
  },
  {
   "cell_type": "code",
   "execution_count": null,
   "metadata": {},
   "outputs": [],
   "source": []
  },
  {
   "cell_type": "code",
   "execution_count": null,
   "metadata": {},
   "outputs": [],
   "source": []
  },
  {
   "cell_type": "code",
   "execution_count": null,
   "metadata": {},
   "outputs": [],
   "source": []
  },
  {
   "cell_type": "markdown",
   "metadata": {},
   "source": [
    "## NOTES FROM ALICE\n",
    "\n",
    "+ Expert Panel, Practice Guideline, multiple submitters, no conflict\n",
    "+ Check out information on drug response\n",
    "    + Add  Drug Response (clniincial signifigance > Drug Response)\n",
    "+ Assembly\n",
    "    + Only Keep 38\n",
    "\n",
    "\n"
   ]
  },
  {
   "cell_type": "code",
   "execution_count": null,
   "metadata": {},
   "outputs": [],
   "source": []
  }
 ],
 "metadata": {
  "kernelspec": {
   "display_name": "Python 3",
   "language": "python",
   "name": "python3"
  },
  "language_info": {
   "codemirror_mode": {
    "name": "ipython",
    "version": 3
   },
   "file_extension": ".py",
   "mimetype": "text/x-python",
   "name": "python",
   "nbconvert_exporter": "python",
   "pygments_lexer": "ipython3",
   "version": "3.6.4"
  }
 },
 "nbformat": 4,
 "nbformat_minor": 2
}
