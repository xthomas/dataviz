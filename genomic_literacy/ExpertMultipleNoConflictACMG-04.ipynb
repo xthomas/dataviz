{
 "cells": [
  {
   "cell_type": "code",
   "execution_count": 1,
   "metadata": {},
   "outputs": [],
   "source": [
    "import pandas as pd\n",
    "import re"
   ]
  },
  {
   "cell_type": "code",
   "execution_count": 2,
   "metadata": {},
   "outputs": [],
   "source": [
    "datadir = '/home/xavier/data/'\n",
    "clinvar_file = 'variant_summary_02.txt' # Updated 5/21/2018"
   ]
  },
  {
   "cell_type": "markdown",
   "metadata": {},
   "source": [
    "# First thing, download and survey the 'Clinvar' data\n",
    "\n",
    "## ➜ ClinVar is a freely accessible, public archive of reports of the relationships among human variations and phenotypes, with supporting evidence.\n",
    "\n",
    "+ A phenotype results from the expression of an organism's genetic code, its genotype, as well as the influence of environmental factors and the interactions between the two. [Wikipedia](https://en.wikipedia.org/wiki/Phenotype)\n",
    "+ File is from **[THIS FTP DIRECTORY](ftp://ftp.ncbi.nlm.nih.gov/pub/clinvar/tab_delimited/)** (which is updated monthly)\n",
    "+ ** Download this file [Variant_summary.txt](ftp://ftp.ncbi.nlm.nih.gov/pub/clinvar/tab_delimited/variant_summary.txt.gz)** which is a 809K row dataset listing "
   ]
  },
  {
   "cell_type": "code",
   "execution_count": 3,
   "metadata": {},
   "outputs": [
    {
     "name": "stderr",
     "output_type": "stream",
     "text": [
      "/home/xavier/miniconda3/lib/python3.6/site-packages/IPython/core/interactiveshell.py:2785: DtypeWarning: Columns (18) have mixed types. Specify dtype option on import or set low_memory=False.\n",
      "  interactivity=interactivity, compiler=compiler, result=result)\n"
     ]
    }
   ],
   "source": [
    "clinvar = pd.read_csv(datadir + clinvar_file, sep='\\t', lineterminator='\\n')"
   ]
  },
  {
   "cell_type": "code",
   "execution_count": 4,
   "metadata": {},
   "outputs": [
    {
     "data": {
      "text/plain": [
       "['#AlleleID',\n",
       " 'Type',\n",
       " 'Name',\n",
       " 'GeneID',\n",
       " 'GeneSymbol',\n",
       " 'HGNC_ID',\n",
       " 'ClinicalSignificance',\n",
       " 'ClinSigSimple',\n",
       " 'LastEvaluated',\n",
       " 'RS# (dbSNP)',\n",
       " 'nsv/esv (dbVar)',\n",
       " 'RCVaccession',\n",
       " 'PhenotypeIDS',\n",
       " 'PhenotypeList',\n",
       " 'Origin',\n",
       " 'OriginSimple',\n",
       " 'Assembly',\n",
       " 'ChromosomeAccession',\n",
       " 'Chromosome',\n",
       " 'Start',\n",
       " 'Stop',\n",
       " 'ReferenceAllele',\n",
       " 'AlternateAllele',\n",
       " 'Cytogenetic',\n",
       " 'ReviewStatus',\n",
       " 'NumberSubmitters',\n",
       " 'Guidelines',\n",
       " 'TestedInGTR',\n",
       " 'OtherIDs',\n",
       " 'SubmitterCategories',\n",
       " 'VariationID']"
      ]
     },
     "execution_count": 4,
     "metadata": {},
     "output_type": "execute_result"
    }
   ],
   "source": [
    "list(clinvar)"
   ]
  },
  {
   "cell_type": "code",
   "execution_count": 5,
   "metadata": {},
   "outputs": [
    {
     "data": {
      "text/plain": [
       "(811417, 31)"
      ]
     },
     "execution_count": 5,
     "metadata": {},
     "output_type": "execute_result"
    }
   ],
   "source": [
    "# count the rows of data\n",
    "clinvar.shape"
   ]
  },
  {
   "cell_type": "code",
   "execution_count": 6,
   "metadata": {
    "scrolled": true
   },
   "outputs": [
    {
     "data": {
      "text/plain": [
       "(389089, 31)"
      ]
     },
     "execution_count": 6,
     "metadata": {},
     "output_type": "execute_result"
    }
   ],
   "source": [
    "# Work with Human Reference Genome #38\n",
    "latest = clinvar[clinvar['Assembly'] == 'GRCh38']\n",
    "latest.shape"
   ]
  },
  {
   "cell_type": "code",
   "execution_count": 7,
   "metadata": {},
   "outputs": [
    {
     "data": {
      "text/plain": [
       "(62166, 31)"
      ]
     },
     "execution_count": 7,
     "metadata": {},
     "output_type": "execute_result"
    }
   ],
   "source": [
    "# Further filter the dataset down by these 'authoritative' flags\n",
    "# from the 'Review Status' column\n",
    "\n",
    "authoritative = latest[\n",
    "    (latest['ReviewStatus'] == 'criteria provided, multiple submitters, no conflicts') | \n",
    "    (latest['ReviewStatus'] == 'practice guideline') | \n",
    "    (latest['ReviewStatus'] == 'reviewed by expert panel') \n",
    "]\n",
    "authoritative.shape"
   ]
  },
  {
   "cell_type": "markdown",
   "metadata": {},
   "source": [
    "## Time to start matching the OMIM tags\n",
    "\n",
    "+ First order is to find OMIM tags that match the **59 ACMG Recommendations Diseases**\n",
    "+ Import this file: [ACMG Recommendations for Reporting of Incidental Findings in Clinical Exome and Genome Sequencing](https://www.ncbi.nlm.nih.gov/clinvar/docs/acmg/)"
   ]
  },
  {
   "cell_type": "code",
   "execution_count": 8,
   "metadata": {
    "scrolled": true
   },
   "outputs": [],
   "source": [
    "# Import Disease names and OMIM tags and convert to a list\n",
    "acmg = pd.read_csv(datadir + 'ACMG_Conditions_OMIM.csv')\n",
    "acmgtags = acmg.ACMGTAGS.tolist()"
   ]
  },
  {
   "cell_type": "code",
   "execution_count": 9,
   "metadata": {},
   "outputs": [],
   "source": [
    "# function to write OMIM TAGS to a new Column\n",
    "def omim_tags (x):\n",
    "    # Find anything that has an OMIM tag, from 1 to 6 numerals long\n",
    "    res = re.findall(r\"(?:OMIM:(\\d{1,6}))\",x)\n",
    "    if res:\n",
    "        return res\n",
    "    else:\n",
    "#         print(\"NA\")\n",
    "         return (\"NA\")"
   ]
  },
  {
   "cell_type": "code",
   "execution_count": 10,
   "metadata": {
    "scrolled": true
   },
   "outputs": [
    {
     "name": "stderr",
     "output_type": "stream",
     "text": [
      "/home/xavier/miniconda3/lib/python3.6/site-packages/ipykernel_launcher.py:1: SettingWithCopyWarning: \n",
      "A value is trying to be set on a copy of a slice from a DataFrame.\n",
      "Try using .loc[row_indexer,col_indexer] = value instead\n",
      "\n",
      "See the caveats in the documentation: http://pandas.pydata.org/pandas-docs/stable/indexing.html#indexing-view-versus-copy\n",
      "  \"\"\"Entry point for launching an IPython kernel.\n"
     ]
    }
   ],
   "source": [
    "authoritative['OMIMTAGS'] = authoritative.PhenotypeIDS.apply(omim_tags)"
   ]
  },
  {
   "cell_type": "code",
   "execution_count": 11,
   "metadata": {},
   "outputs": [
    {
     "data": {
      "text/plain": [
       "(62166, 32)"
      ]
     },
     "execution_count": 11,
     "metadata": {},
     "output_type": "execute_result"
    }
   ],
   "source": [
    "authoritative.shape"
   ]
  },
  {
   "cell_type": "code",
   "execution_count": 12,
   "metadata": {},
   "outputs": [],
   "source": [
    "# function to write \"OMIM > ACMG\" matches to a new Column\n",
    "\n",
    "def acmg_matches (x):\n",
    "    # Find anything that has an OMIM tag, from 4 to 6 numerals long\n",
    "    res = re.findall(r\"(?:OMIM:(\\d{4,6}))\",x)\n",
    "    if res:\n",
    "        # Return (a list) of matches with the ACMG List\n",
    "        mymatch = [int(match) for match in res if int(match) in acmgtags]\n",
    "        if len(mymatch) != 0:\n",
    "            return set(mymatch)\n",
    "        else:\n",
    "            return \"NOACMG\"\n",
    "    else:\n",
    "        return \"NOACMG\""
   ]
  },
  {
   "cell_type": "code",
   "execution_count": 13,
   "metadata": {},
   "outputs": [
    {
     "name": "stderr",
     "output_type": "stream",
     "text": [
      "/home/xavier/miniconda3/lib/python3.6/site-packages/ipykernel_launcher.py:1: SettingWithCopyWarning: \n",
      "A value is trying to be set on a copy of a slice from a DataFrame.\n",
      "Try using .loc[row_indexer,col_indexer] = value instead\n",
      "\n",
      "See the caveats in the documentation: http://pandas.pydata.org/pandas-docs/stable/indexing.html#indexing-view-versus-copy\n",
      "  \"\"\"Entry point for launching an IPython kernel.\n"
     ]
    }
   ],
   "source": [
    "authoritative['ACMGTAGS'] = authoritative.PhenotypeIDS.apply(acmg_matches)"
   ]
  },
  {
   "cell_type": "code",
   "execution_count": 14,
   "metadata": {},
   "outputs": [
    {
     "data": {
      "text/plain": [
       "(62166, 33)"
      ]
     },
     "execution_count": 14,
     "metadata": {},
     "output_type": "execute_result"
    }
   ],
   "source": [
    "authoritative.shape"
   ]
  },
  {
   "cell_type": "code",
   "execution_count": 15,
   "metadata": {},
   "outputs": [],
   "source": [
    "onlyomim = authoritative[authoritative['OMIMTAGS'] != \"NA\"]\n",
    "onlyacmg = authoritative[authoritative['ACMGTAGS'] != \"NOACMG\"]"
   ]
  },
  {
   "cell_type": "code",
   "execution_count": 16,
   "metadata": {},
   "outputs": [
    {
     "data": {
      "text/plain": [
       "(12138, 33)"
      ]
     },
     "execution_count": 16,
     "metadata": {},
     "output_type": "execute_result"
    }
   ],
   "source": [
    "onlyacmg.shape"
   ]
  },
  {
   "cell_type": "code",
   "execution_count": 17,
   "metadata": {},
   "outputs": [
    {
     "data": {
      "text/plain": [
       "(38590, 33)"
      ]
     },
     "execution_count": 17,
     "metadata": {},
     "output_type": "execute_result"
    }
   ],
   "source": [
    "onlyomim.shape"
   ]
  },
  {
   "cell_type": "code",
   "execution_count": 18,
   "metadata": {},
   "outputs": [],
   "source": [
    "onlyacmg.to_csv(datadir + 'onlyacmg_v5.csv')"
   ]
  },
  {
   "cell_type": "code",
   "execution_count": 19,
   "metadata": {},
   "outputs": [],
   "source": [
    "onlyacmg.iloc[0:1500].to_csv(datadir + 'onlyacmg_v5_1500.csv')"
   ]
  },
  {
   "cell_type": "code",
   "execution_count": 20,
   "metadata": {},
   "outputs": [
    {
     "name": "stderr",
     "output_type": "stream",
     "text": [
      "/home/xavier/miniconda3/lib/python3.6/site-packages/ipykernel_launcher.py:1: SettingWithCopyWarning: \n",
      "A value is trying to be set on a copy of a slice from a DataFrame.\n",
      "Try using .loc[row_indexer,col_indexer] = value instead\n",
      "\n",
      "See the caveats in the documentation: http://pandas.pydata.org/pandas-docs/stable/indexing.html#indexing-view-versus-copy\n",
      "  \"\"\"Entry point for launching an IPython kernel.\n"
     ]
    }
   ],
   "source": [
    "onlyacmg[\"MATCHCOUNT\"] = onlyacmg[\"ACMGTAGS\"].apply(lambda x: len(x))"
   ]
  },
  {
   "cell_type": "code",
   "execution_count": 29,
   "metadata": {},
   "outputs": [
    {
     "data": {
      "text/plain": [
       "MATCHCOUNT\n",
       "1    12028\n",
       "2       97\n",
       "3       10\n",
       "4        3\n",
       "dtype: int64"
      ]
     },
     "execution_count": 29,
     "metadata": {},
     "output_type": "execute_result"
    }
   ],
   "source": [
    "multgroup = onlyacmg.groupby(\"MATCHCOUNT\").size()\n",
    "multgroup"
   ]
  },
  {
   "cell_type": "code",
   "execution_count": 34,
   "metadata": {},
   "outputs": [
    {
     "data": {
      "text/plain": [
       "97"
      ]
     },
     "execution_count": 34,
     "metadata": {},
     "output_type": "execute_result"
    }
   ],
   "source": [
    "int(multgroup[2])"
   ]
  },
  {
   "cell_type": "markdown",
   "metadata": {},
   "source": [
    "\n",
    "## ...⇧\n",
    "> **~Less than 1% of ACMG listed diseases have two or more diseases** \n",
    "\n",
    "+ This may be due to duplications of the same tag\n",
    "    + 0.8% have 2 Diseases\n",
    "    + 0.08% have 3 Diseases"
   ]
  },
  {
   "cell_type": "code",
   "execution_count": 36,
   "metadata": {},
   "outputs": [
    {
     "data": {
      "text/plain": [
       "0.7991431866864394"
      ]
     },
     "execution_count": 36,
     "metadata": {},
     "output_type": "execute_result"
    }
   ],
   "source": [
    "(97/12138) * 100"
   ]
  },
  {
   "cell_type": "code",
   "execution_count": 37,
   "metadata": {},
   "outputs": [
    {
     "data": {
      "text/plain": [
       "0.08238589553468446"
      ]
     },
     "execution_count": 37,
     "metadata": {},
     "output_type": "execute_result"
    }
   ],
   "source": [
    "(10/12138) * 100"
   ]
  },
  {
   "cell_type": "code",
   "execution_count": 24,
   "metadata": {},
   "outputs": [],
   "source": [
    "multiples = onlyacmg[onlyacmg[\"MATCHCOUNT\"] != 1].filter(['ACMGTAGS','MATCHCOUNT'])"
   ]
  },
  {
   "cell_type": "code",
   "execution_count": 25,
   "metadata": {},
   "outputs": [
    {
     "data": {
      "text/html": [
       "<div>\n",
       "<style scoped>\n",
       "    .dataframe tbody tr th:only-of-type {\n",
       "        vertical-align: middle;\n",
       "    }\n",
       "\n",
       "    .dataframe tbody tr th {\n",
       "        vertical-align: top;\n",
       "    }\n",
       "\n",
       "    .dataframe thead th {\n",
       "        text-align: right;\n",
       "    }\n",
       "</style>\n",
       "<table border=\"1\" class=\"dataframe\">\n",
       "  <thead>\n",
       "    <tr style=\"text-align: right;\">\n",
       "      <th></th>\n",
       "      <th>ACMGTAGS</th>\n",
       "      <th>MATCHCOUNT</th>\n",
       "    </tr>\n",
       "  </thead>\n",
       "  <tbody>\n",
       "    <tr>\n",
       "      <th>5184</th>\n",
       "      <td>{603776, 143890}</td>\n",
       "      <td>2</td>\n",
       "    </tr>\n",
       "    <tr>\n",
       "      <th>5659</th>\n",
       "      <td>{613688, 192500}</td>\n",
       "      <td>2</td>\n",
       "    </tr>\n",
       "    <tr>\n",
       "      <th>9509</th>\n",
       "      <td>{608456, 132600}</td>\n",
       "      <td>2</td>\n",
       "    </tr>\n",
       "    <tr>\n",
       "      <th>9514</th>\n",
       "      <td>{608456, 132600}</td>\n",
       "      <td>2</td>\n",
       "    </tr>\n",
       "    <tr>\n",
       "      <th>15426</th>\n",
       "      <td>{192600, 115197}</td>\n",
       "      <td>2</td>\n",
       "    </tr>\n",
       "    <tr>\n",
       "      <th>16701</th>\n",
       "      <td>{604370, 612555}</td>\n",
       "      <td>2</td>\n",
       "    </tr>\n",
       "    <tr>\n",
       "      <th>16719</th>\n",
       "      <td>{604370, 612555, 194070}</td>\n",
       "      <td>3</td>\n",
       "    </tr>\n",
       "    <tr>\n",
       "      <th>16728</th>\n",
       "      <td>{612555, 194070}</td>\n",
       "      <td>2</td>\n",
       "    </tr>\n",
       "    <tr>\n",
       "      <th>16730</th>\n",
       "      <td>{604370, 612555}</td>\n",
       "      <td>2</td>\n",
       "    </tr>\n",
       "    <tr>\n",
       "      <th>16779</th>\n",
       "      <td>{601144, 192500, 603830}</td>\n",
       "      <td>3</td>\n",
       "    </tr>\n",
       "    <tr>\n",
       "      <th>24837</th>\n",
       "      <td>{171400, 162300, 131100}</td>\n",
       "      <td>3</td>\n",
       "    </tr>\n",
       "    <tr>\n",
       "      <th>24845</th>\n",
       "      <td>{155240, 171400}</td>\n",
       "      <td>2</td>\n",
       "    </tr>\n",
       "    <tr>\n",
       "      <th>24852</th>\n",
       "      <td>{171400, 162300, 131100}</td>\n",
       "      <td>3</td>\n",
       "    </tr>\n",
       "    <tr>\n",
       "      <th>24854</th>\n",
       "      <td>{171400, 162300, 131100}</td>\n",
       "      <td>3</td>\n",
       "    </tr>\n",
       "    <tr>\n",
       "      <th>24857</th>\n",
       "      <td>{171400, 162300, 131100}</td>\n",
       "      <td>3</td>\n",
       "    </tr>\n",
       "    <tr>\n",
       "      <th>24874</th>\n",
       "      <td>{155240, 162300, 171400}</td>\n",
       "      <td>3</td>\n",
       "    </tr>\n",
       "    <tr>\n",
       "      <th>24877</th>\n",
       "      <td>{155240, 162300, 131100, 171400}</td>\n",
       "      <td>4</td>\n",
       "    </tr>\n",
       "    <tr>\n",
       "      <th>24888</th>\n",
       "      <td>{155240, 162300, 131100, 171400}</td>\n",
       "      <td>4</td>\n",
       "    </tr>\n",
       "    <tr>\n",
       "      <th>24901</th>\n",
       "      <td>{155240, 162300, 171400}</td>\n",
       "      <td>3</td>\n",
       "    </tr>\n",
       "    <tr>\n",
       "      <th>24915</th>\n",
       "      <td>{155240, 171400}</td>\n",
       "      <td>2</td>\n",
       "    </tr>\n",
       "    <tr>\n",
       "      <th>24928</th>\n",
       "      <td>{155240, 162300, 131100, 171400}</td>\n",
       "      <td>4</td>\n",
       "    </tr>\n",
       "    <tr>\n",
       "      <th>35644</th>\n",
       "      <td>{171400, 162300}</td>\n",
       "      <td>2</td>\n",
       "    </tr>\n",
       "    <tr>\n",
       "      <th>35674</th>\n",
       "      <td>{171400, 162300, 131100}</td>\n",
       "      <td>3</td>\n",
       "    </tr>\n",
       "    <tr>\n",
       "      <th>35711</th>\n",
       "      <td>{171400, 162300}</td>\n",
       "      <td>2</td>\n",
       "    </tr>\n",
       "    <tr>\n",
       "      <th>35745</th>\n",
       "      <td>{171400, 162300}</td>\n",
       "      <td>2</td>\n",
       "    </tr>\n",
       "    <tr>\n",
       "      <th>35750</th>\n",
       "      <td>{171400, 162300}</td>\n",
       "      <td>2</td>\n",
       "    </tr>\n",
       "    <tr>\n",
       "      <th>35769</th>\n",
       "      <td>{171400, 162300}</td>\n",
       "      <td>2</td>\n",
       "    </tr>\n",
       "    <tr>\n",
       "      <th>35779</th>\n",
       "      <td>{171400, 162300}</td>\n",
       "      <td>2</td>\n",
       "    </tr>\n",
       "    <tr>\n",
       "      <th>36710</th>\n",
       "      <td>{171400, 162300}</td>\n",
       "      <td>2</td>\n",
       "    </tr>\n",
       "    <tr>\n",
       "      <th>43132</th>\n",
       "      <td>{611788, 132900}</td>\n",
       "      <td>2</td>\n",
       "    </tr>\n",
       "    <tr>\n",
       "      <th>...</th>\n",
       "      <td>...</td>\n",
       "      <td>...</td>\n",
       "    </tr>\n",
       "    <tr>\n",
       "      <th>222321</th>\n",
       "      <td>{171400, 162300}</td>\n",
       "      <td>2</td>\n",
       "    </tr>\n",
       "    <tr>\n",
       "      <th>242228</th>\n",
       "      <td>{603776, 143890}</td>\n",
       "      <td>2</td>\n",
       "    </tr>\n",
       "    <tr>\n",
       "      <th>242232</th>\n",
       "      <td>{603776, 143890}</td>\n",
       "      <td>2</td>\n",
       "    </tr>\n",
       "    <tr>\n",
       "      <th>270223</th>\n",
       "      <td>{171400, 162300}</td>\n",
       "      <td>2</td>\n",
       "    </tr>\n",
       "    <tr>\n",
       "      <th>270242</th>\n",
       "      <td>{171400, 162300}</td>\n",
       "      <td>2</td>\n",
       "    </tr>\n",
       "    <tr>\n",
       "      <th>270266</th>\n",
       "      <td>{171400, 162300}</td>\n",
       "      <td>2</td>\n",
       "    </tr>\n",
       "    <tr>\n",
       "      <th>277716</th>\n",
       "      <td>{171400, 162300}</td>\n",
       "      <td>2</td>\n",
       "    </tr>\n",
       "    <tr>\n",
       "      <th>277720</th>\n",
       "      <td>{171400, 162300}</td>\n",
       "      <td>2</td>\n",
       "    </tr>\n",
       "    <tr>\n",
       "      <th>277738</th>\n",
       "      <td>{171400, 162300}</td>\n",
       "      <td>2</td>\n",
       "    </tr>\n",
       "    <tr>\n",
       "      <th>277750</th>\n",
       "      <td>{171400, 162300}</td>\n",
       "      <td>2</td>\n",
       "    </tr>\n",
       "    <tr>\n",
       "      <th>277756</th>\n",
       "      <td>{171400, 162300}</td>\n",
       "      <td>2</td>\n",
       "    </tr>\n",
       "    <tr>\n",
       "      <th>277760</th>\n",
       "      <td>{171400, 162300}</td>\n",
       "      <td>2</td>\n",
       "    </tr>\n",
       "    <tr>\n",
       "      <th>277770</th>\n",
       "      <td>{171400, 162300}</td>\n",
       "      <td>2</td>\n",
       "    </tr>\n",
       "    <tr>\n",
       "      <th>304252</th>\n",
       "      <td>{603776, 143890}</td>\n",
       "      <td>2</td>\n",
       "    </tr>\n",
       "    <tr>\n",
       "      <th>307077</th>\n",
       "      <td>{603776, 143890}</td>\n",
       "      <td>2</td>\n",
       "    </tr>\n",
       "    <tr>\n",
       "      <th>311976</th>\n",
       "      <td>{171400, 162300}</td>\n",
       "      <td>2</td>\n",
       "    </tr>\n",
       "    <tr>\n",
       "      <th>328521</th>\n",
       "      <td>{603776, 143890}</td>\n",
       "      <td>2</td>\n",
       "    </tr>\n",
       "    <tr>\n",
       "      <th>328530</th>\n",
       "      <td>{603776, 143890}</td>\n",
       "      <td>2</td>\n",
       "    </tr>\n",
       "    <tr>\n",
       "      <th>390302</th>\n",
       "      <td>{603776, 143890}</td>\n",
       "      <td>2</td>\n",
       "    </tr>\n",
       "    <tr>\n",
       "      <th>390894</th>\n",
       "      <td>{603776, 143890}</td>\n",
       "      <td>2</td>\n",
       "    </tr>\n",
       "    <tr>\n",
       "      <th>390896</th>\n",
       "      <td>{603776, 143890}</td>\n",
       "      <td>2</td>\n",
       "    </tr>\n",
       "    <tr>\n",
       "      <th>467686</th>\n",
       "      <td>{171400, 162300}</td>\n",
       "      <td>2</td>\n",
       "    </tr>\n",
       "    <tr>\n",
       "      <th>535912</th>\n",
       "      <td>{171400, 162300}</td>\n",
       "      <td>2</td>\n",
       "    </tr>\n",
       "    <tr>\n",
       "      <th>535920</th>\n",
       "      <td>{171400, 162300}</td>\n",
       "      <td>2</td>\n",
       "    </tr>\n",
       "    <tr>\n",
       "      <th>535923</th>\n",
       "      <td>{171400, 162300}</td>\n",
       "      <td>2</td>\n",
       "    </tr>\n",
       "    <tr>\n",
       "      <th>535933</th>\n",
       "      <td>{171400, 162300}</td>\n",
       "      <td>2</td>\n",
       "    </tr>\n",
       "    <tr>\n",
       "      <th>590826</th>\n",
       "      <td>{603776, 143890}</td>\n",
       "      <td>2</td>\n",
       "    </tr>\n",
       "    <tr>\n",
       "      <th>590832</th>\n",
       "      <td>{603776, 143890}</td>\n",
       "      <td>2</td>\n",
       "    </tr>\n",
       "    <tr>\n",
       "      <th>598971</th>\n",
       "      <td>{607450, 192500}</td>\n",
       "      <td>2</td>\n",
       "    </tr>\n",
       "    <tr>\n",
       "      <th>643437</th>\n",
       "      <td>{603776, 143890}</td>\n",
       "      <td>2</td>\n",
       "    </tr>\n",
       "  </tbody>\n",
       "</table>\n",
       "<p>110 rows × 2 columns</p>\n",
       "</div>"
      ],
      "text/plain": [
       "                                ACMGTAGS  MATCHCOUNT\n",
       "5184                    {603776, 143890}           2\n",
       "5659                    {613688, 192500}           2\n",
       "9509                    {608456, 132600}           2\n",
       "9514                    {608456, 132600}           2\n",
       "15426                   {192600, 115197}           2\n",
       "16701                   {604370, 612555}           2\n",
       "16719           {604370, 612555, 194070}           3\n",
       "16728                   {612555, 194070}           2\n",
       "16730                   {604370, 612555}           2\n",
       "16779           {601144, 192500, 603830}           3\n",
       "24837           {171400, 162300, 131100}           3\n",
       "24845                   {155240, 171400}           2\n",
       "24852           {171400, 162300, 131100}           3\n",
       "24854           {171400, 162300, 131100}           3\n",
       "24857           {171400, 162300, 131100}           3\n",
       "24874           {155240, 162300, 171400}           3\n",
       "24877   {155240, 162300, 131100, 171400}           4\n",
       "24888   {155240, 162300, 131100, 171400}           4\n",
       "24901           {155240, 162300, 171400}           3\n",
       "24915                   {155240, 171400}           2\n",
       "24928   {155240, 162300, 131100, 171400}           4\n",
       "35644                   {171400, 162300}           2\n",
       "35674           {171400, 162300, 131100}           3\n",
       "35711                   {171400, 162300}           2\n",
       "35745                   {171400, 162300}           2\n",
       "35750                   {171400, 162300}           2\n",
       "35769                   {171400, 162300}           2\n",
       "35779                   {171400, 162300}           2\n",
       "36710                   {171400, 162300}           2\n",
       "43132                   {611788, 132900}           2\n",
       "...                                  ...         ...\n",
       "222321                  {171400, 162300}           2\n",
       "242228                  {603776, 143890}           2\n",
       "242232                  {603776, 143890}           2\n",
       "270223                  {171400, 162300}           2\n",
       "270242                  {171400, 162300}           2\n",
       "270266                  {171400, 162300}           2\n",
       "277716                  {171400, 162300}           2\n",
       "277720                  {171400, 162300}           2\n",
       "277738                  {171400, 162300}           2\n",
       "277750                  {171400, 162300}           2\n",
       "277756                  {171400, 162300}           2\n",
       "277760                  {171400, 162300}           2\n",
       "277770                  {171400, 162300}           2\n",
       "304252                  {603776, 143890}           2\n",
       "307077                  {603776, 143890}           2\n",
       "311976                  {171400, 162300}           2\n",
       "328521                  {603776, 143890}           2\n",
       "328530                  {603776, 143890}           2\n",
       "390302                  {603776, 143890}           2\n",
       "390894                  {603776, 143890}           2\n",
       "390896                  {603776, 143890}           2\n",
       "467686                  {171400, 162300}           2\n",
       "535912                  {171400, 162300}           2\n",
       "535920                  {171400, 162300}           2\n",
       "535923                  {171400, 162300}           2\n",
       "535933                  {171400, 162300}           2\n",
       "590826                  {603776, 143890}           2\n",
       "590832                  {603776, 143890}           2\n",
       "598971                  {607450, 192500}           2\n",
       "643437                  {603776, 143890}           2\n",
       "\n",
       "[110 rows x 2 columns]"
      ]
     },
     "execution_count": 25,
     "metadata": {},
     "output_type": "execute_result"
    }
   ],
   "source": [
    "multiples"
   ]
  },
  {
   "cell_type": "markdown",
   "metadata": {},
   "source": [
    "## ...⇧\n",
    "> **~110 rows out of 12K row have two or more diseases** \n",
    "\n",
    "+ We're not leaving too much behind until we figure out how to display two diseases"
   ]
  },
  {
   "cell_type": "code",
   "execution_count": null,
   "metadata": {},
   "outputs": [],
   "source": []
  }
 ],
 "metadata": {
  "kernelspec": {
   "display_name": "Python 3",
   "language": "python",
   "name": "python3"
  },
  "language_info": {
   "codemirror_mode": {
    "name": "ipython",
    "version": 3
   },
   "file_extension": ".py",
   "mimetype": "text/x-python",
   "name": "python",
   "nbconvert_exporter": "python",
   "pygments_lexer": "ipython3",
   "version": "3.6.4"
  }
 },
 "nbformat": 4,
 "nbformat_minor": 2
}
