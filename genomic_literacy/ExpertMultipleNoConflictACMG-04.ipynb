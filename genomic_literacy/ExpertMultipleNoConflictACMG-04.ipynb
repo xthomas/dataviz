{
 "cells": [
  {
   "cell_type": "code",
   "execution_count": 6,
   "metadata": {},
   "outputs": [],
   "source": [
    "import pandas as pd\n",
    "import re"
   ]
  },
  {
   "cell_type": "code",
   "execution_count": 7,
   "metadata": {},
   "outputs": [],
   "source": [
    "datadir = '/home/xavier/data/'\n",
    "clinvar_file = 'variant_summary_02.txt' # Updated 5/21/2018"
   ]
  },
  {
   "cell_type": "markdown",
   "metadata": {},
   "source": [
    "# First thing, download and survey the 'Clinvar' data\n",
    "\n",
    "## ➜ ClinVar is a freely accessible, public archive of reports of the relationships among human variations and phenotypes, with supporting evidence.\n",
    "\n",
    "+ A phenotype results from the expression of an organism's genetic code, its genotype, as well as the influence of environmental factors and the interactions between the two. [Wikipedia](https://en.wikipedia.org/wiki/Phenotype)\n",
    "+ File is from **[THIS FTP DIRECTORY](ftp://ftp.ncbi.nlm.nih.gov/pub/clinvar/tab_delimited/)** (which is updated monthly)\n",
    "+ ** Download this file [Variant_summary.txt](ftp://ftp.ncbi.nlm.nih.gov/pub/clinvar/tab_delimited/variant_summary.txt.gz)** which is a 809K row dataset listing "
   ]
  },
  {
   "cell_type": "code",
   "execution_count": 8,
   "metadata": {},
   "outputs": [
    {
     "name": "stderr",
     "output_type": "stream",
     "text": [
      "/home/xavier/miniconda3/lib/python3.6/site-packages/IPython/core/interactiveshell.py:2785: DtypeWarning: Columns (18) have mixed types. Specify dtype option on import or set low_memory=False.\n",
      "  interactivity=interactivity, compiler=compiler, result=result)\n"
     ]
    }
   ],
   "source": [
    "clinvar = pd.read_csv(datadir + clinvar_file, sep='\\t', lineterminator='\\n')"
   ]
  },
  {
   "cell_type": "code",
   "execution_count": 9,
   "metadata": {},
   "outputs": [
    {
     "data": {
      "text/plain": [
       "['#AlleleID',\n",
       " 'Type',\n",
       " 'Name',\n",
       " 'GeneID',\n",
       " 'GeneSymbol',\n",
       " 'HGNC_ID',\n",
       " 'ClinicalSignificance',\n",
       " 'ClinSigSimple',\n",
       " 'LastEvaluated',\n",
       " 'RS# (dbSNP)',\n",
       " 'nsv/esv (dbVar)',\n",
       " 'RCVaccession',\n",
       " 'PhenotypeIDS',\n",
       " 'PhenotypeList',\n",
       " 'Origin',\n",
       " 'OriginSimple',\n",
       " 'Assembly',\n",
       " 'ChromosomeAccession',\n",
       " 'Chromosome',\n",
       " 'Start',\n",
       " 'Stop',\n",
       " 'ReferenceAllele',\n",
       " 'AlternateAllele',\n",
       " 'Cytogenetic',\n",
       " 'ReviewStatus',\n",
       " 'NumberSubmitters',\n",
       " 'Guidelines',\n",
       " 'TestedInGTR',\n",
       " 'OtherIDs',\n",
       " 'SubmitterCategories',\n",
       " 'VariationID']"
      ]
     },
     "execution_count": 9,
     "metadata": {},
     "output_type": "execute_result"
    }
   ],
   "source": [
    "list(clinvar)"
   ]
  },
  {
   "cell_type": "code",
   "execution_count": 10,
   "metadata": {},
   "outputs": [
    {
     "data": {
      "text/plain": [
       "(811417, 31)"
      ]
     },
     "execution_count": 10,
     "metadata": {},
     "output_type": "execute_result"
    }
   ],
   "source": [
    "# count the rows of data\n",
    "clinvar.shape"
   ]
  },
  {
   "cell_type": "code",
   "execution_count": 11,
   "metadata": {
    "scrolled": true
   },
   "outputs": [
    {
     "data": {
      "text/plain": [
       "(389089, 31)"
      ]
     },
     "execution_count": 11,
     "metadata": {},
     "output_type": "execute_result"
    }
   ],
   "source": [
    "# Work with Human Reference Genome #38\n",
    "latest = clinvar[clinvar['Assembly'] == 'GRCh38']\n",
    "latest.shape"
   ]
  },
  {
   "cell_type": "code",
   "execution_count": 12,
   "metadata": {},
   "outputs": [
    {
     "data": {
      "text/plain": [
       "(62166, 31)"
      ]
     },
     "execution_count": 12,
     "metadata": {},
     "output_type": "execute_result"
    }
   ],
   "source": [
    "# Further filter the dataset down by these 'authoritative' flags\n",
    "# from the 'Review Status' column\n",
    "\n",
    "authoritative = latest[\n",
    "    (latest['ReviewStatus'] == 'criteria provided, multiple submitters, no conflicts') | \n",
    "    (latest['ReviewStatus'] == 'practice guideline') | \n",
    "    (latest['ReviewStatus'] == 'reviewed by expert panel') \n",
    "]\n",
    "authoritative.shape"
   ]
  },
  {
   "cell_type": "markdown",
   "metadata": {},
   "source": [
    "## Time to start matching the OMIM tags\n",
    "\n",
    "+ First order is to find OMIM tags that match the **59 ACMG Recommendations Diseases**\n",
    "+ Import this file: [ACMG Recommendations for Reporting of Incidental Findings in Clinical Exome and Genome Sequencing](https://www.ncbi.nlm.nih.gov/clinvar/docs/acmg/)"
   ]
  },
  {
   "cell_type": "code",
   "execution_count": 13,
   "metadata": {
    "scrolled": true
   },
   "outputs": [],
   "source": [
    "# Import Disease names and OMIM tags and convert to a list\n",
    "acmg = pd.read_csv(datadir + 'ACMG_Conditions_OMIM.csv')\n",
    "acmgtags = acmg.ACMGTAGS.tolist()"
   ]
  },
  {
   "cell_type": "code",
   "execution_count": 14,
   "metadata": {},
   "outputs": [],
   "source": [
    "# function to write OMIM TAGS to a new Column\n",
    "def omim_tags (x):\n",
    "    # Find anything that has an OMIM tag, from 1 to 6 numerals long\n",
    "    res = re.findall(r\"(?:OMIM:(\\d{1,6}))\",x)\n",
    "    if res:\n",
    "        return res\n",
    "    else:\n",
    "#         print(\"NA\")\n",
    "         return (\"NA\")"
   ]
  },
  {
   "cell_type": "code",
   "execution_count": 15,
   "metadata": {
    "scrolled": true
   },
   "outputs": [
    {
     "name": "stderr",
     "output_type": "stream",
     "text": [
      "/home/xavier/miniconda3/lib/python3.6/site-packages/ipykernel_launcher.py:1: SettingWithCopyWarning: \n",
      "A value is trying to be set on a copy of a slice from a DataFrame.\n",
      "Try using .loc[row_indexer,col_indexer] = value instead\n",
      "\n",
      "See the caveats in the documentation: http://pandas.pydata.org/pandas-docs/stable/indexing.html#indexing-view-versus-copy\n",
      "  \"\"\"Entry point for launching an IPython kernel.\n"
     ]
    }
   ],
   "source": [
    "authoritative['OMIMTAGS'] = authoritative.PhenotypeIDS.apply(omim_tags)"
   ]
  },
  {
   "cell_type": "code",
   "execution_count": 16,
   "metadata": {},
   "outputs": [
    {
     "data": {
      "text/plain": [
       "(62166, 32)"
      ]
     },
     "execution_count": 16,
     "metadata": {},
     "output_type": "execute_result"
    }
   ],
   "source": [
    "authoritative.shape"
   ]
  },
  {
   "cell_type": "code",
   "execution_count": 17,
   "metadata": {},
   "outputs": [],
   "source": [
    "# function to write \"OMIM > ACMG\" matches to a new Column\n",
    "\n",
    "def acmg_matches (x):\n",
    "    # Find anything that has an OMIM tag, from 4 to 6 numerals long\n",
    "    res = re.findall(r\"(?:OMIM:(\\d{4,6}))\",x)\n",
    "    if res:\n",
    "        # Return (a list) of matches with the ACMG List\n",
    "        mymatch = [int(match) for match in res if int(match) in acmgtags]\n",
    "        if len(mymatch) != 0:\n",
    "            return mymatch\n",
    "        else:\n",
    "            return \"NOACMG\"\n",
    "    else:\n",
    "        return \"NOACMG\""
   ]
  },
  {
   "cell_type": "code",
   "execution_count": 18,
   "metadata": {},
   "outputs": [
    {
     "name": "stderr",
     "output_type": "stream",
     "text": [
      "/home/xavier/miniconda3/lib/python3.6/site-packages/ipykernel_launcher.py:1: SettingWithCopyWarning: \n",
      "A value is trying to be set on a copy of a slice from a DataFrame.\n",
      "Try using .loc[row_indexer,col_indexer] = value instead\n",
      "\n",
      "See the caveats in the documentation: http://pandas.pydata.org/pandas-docs/stable/indexing.html#indexing-view-versus-copy\n",
      "  \"\"\"Entry point for launching an IPython kernel.\n"
     ]
    }
   ],
   "source": [
    "authoritative['ACMGTAGS'] = authoritative.PhenotypeIDS.apply(acmg_matches)"
   ]
  },
  {
   "cell_type": "code",
   "execution_count": 19,
   "metadata": {},
   "outputs": [
    {
     "data": {
      "text/plain": [
       "(62166, 33)"
      ]
     },
     "execution_count": 19,
     "metadata": {},
     "output_type": "execute_result"
    }
   ],
   "source": [
    "authoritative.shape"
   ]
  },
  {
   "cell_type": "code",
   "execution_count": 20,
   "metadata": {},
   "outputs": [],
   "source": [
    "onlyomim = authoritative[authoritative['OMIMTAGS'] != \"NA\"]\n",
    "onlyacmg = authoritative[authoritative['ACMGTAGS'] != \"NOACMG\"]"
   ]
  },
  {
   "cell_type": "code",
   "execution_count": 21,
   "metadata": {},
   "outputs": [
    {
     "data": {
      "text/plain": [
       "(12138, 33)"
      ]
     },
     "execution_count": 21,
     "metadata": {},
     "output_type": "execute_result"
    }
   ],
   "source": [
    "onlyacmg.shape"
   ]
  },
  {
   "cell_type": "code",
   "execution_count": 22,
   "metadata": {},
   "outputs": [
    {
     "data": {
      "text/plain": [
       "(38590, 33)"
      ]
     },
     "execution_count": 22,
     "metadata": {},
     "output_type": "execute_result"
    }
   ],
   "source": [
    "onlyomim.shape"
   ]
  },
  {
   "cell_type": "code",
   "execution_count": 23,
   "metadata": {},
   "outputs": [],
   "source": [
    "onlyacmg.to_csv(datadir + 'onlyacmg_v4.csv')"
   ]
  },
  {
   "cell_type": "code",
   "execution_count": 24,
   "metadata": {},
   "outputs": [],
   "source": [
    "onlyacmg.iloc[0:1500].to_csv(datadir + 'onlyacmg_v4_1500.csv')"
   ]
  },
  {
   "cell_type": "code",
   "execution_count": 25,
   "metadata": {},
   "outputs": [
    {
     "name": "stderr",
     "output_type": "stream",
     "text": [
      "/home/xavier/miniconda3/lib/python3.6/site-packages/ipykernel_launcher.py:1: SettingWithCopyWarning: \n",
      "A value is trying to be set on a copy of a slice from a DataFrame.\n",
      "Try using .loc[row_indexer,col_indexer] = value instead\n",
      "\n",
      "See the caveats in the documentation: http://pandas.pydata.org/pandas-docs/stable/indexing.html#indexing-view-versus-copy\n",
      "  \"\"\"Entry point for launching an IPython kernel.\n"
     ]
    }
   ],
   "source": [
    "onlyacmg[\"MATCHCOUNT\"] = onlyacmg[\"ACMGTAGS\"].apply(lambda x: len(x))"
   ]
  },
  {
   "cell_type": "code",
   "execution_count": 26,
   "metadata": {},
   "outputs": [
    {
     "data": {
      "text/plain": [
       "MATCHCOUNT\n",
       "1    11898\n",
       "2      204\n",
       "3       30\n",
       "4        4\n",
       "5        1\n",
       "6        1\n",
       "dtype: int64"
      ]
     },
     "execution_count": 26,
     "metadata": {},
     "output_type": "execute_result"
    }
   ],
   "source": [
    "onlyacmg.groupby(\"MATCHCOUNT\").size()"
   ]
  },
  {
   "cell_type": "markdown",
   "metadata": {},
   "source": [
    "## ...⇧\n",
    "> **~2% of ACMG listed diseases have two diseases** \n",
    "\n",
    "+ This may be due to duplications of the same tag\n",
    "    + 1.68% have 2 Diseases\n",
    "    + 0.2% have 3 Diseases"
   ]
  },
  {
   "cell_type": "code",
   "execution_count": 27,
   "metadata": {},
   "outputs": [
    {
     "data": {
      "text/plain": [
       "1.680672268907563"
      ]
     },
     "execution_count": 27,
     "metadata": {},
     "output_type": "execute_result"
    }
   ],
   "source": [
    "(204/12138) * 100"
   ]
  },
  {
   "cell_type": "code",
   "execution_count": 28,
   "metadata": {},
   "outputs": [
    {
     "data": {
      "text/plain": [
       "0.2471576866040534"
      ]
     },
     "execution_count": 28,
     "metadata": {},
     "output_type": "execute_result"
    }
   ],
   "source": [
    "(30/12138) * 100"
   ]
  },
  {
   "cell_type": "code",
   "execution_count": 34,
   "metadata": {},
   "outputs": [],
   "source": [
    "multiples = onlyacmg[onlyacmg[\"MATCHCOUNT\"] != 1].filter(['ACMGTAGS','MATCHCOUNT'])"
   ]
  },
  {
   "cell_type": "code",
   "execution_count": 36,
   "metadata": {},
   "outputs": [
    {
     "data": {
      "text/html": [
       "<div>\n",
       "<style scoped>\n",
       "    .dataframe tbody tr th:only-of-type {\n",
       "        vertical-align: middle;\n",
       "    }\n",
       "\n",
       "    .dataframe tbody tr th {\n",
       "        vertical-align: top;\n",
       "    }\n",
       "\n",
       "    .dataframe thead th {\n",
       "        text-align: right;\n",
       "    }\n",
       "</style>\n",
       "<table border=\"1\" class=\"dataframe\">\n",
       "  <thead>\n",
       "    <tr style=\"text-align: right;\">\n",
       "      <th></th>\n",
       "      <th>ACMGTAGS</th>\n",
       "      <th>MATCHCOUNT</th>\n",
       "    </tr>\n",
       "  </thead>\n",
       "  <tbody>\n",
       "    <tr>\n",
       "      <th>4023</th>\n",
       "      <td>[193300, 193300]</td>\n",
       "      <td>2</td>\n",
       "    </tr>\n",
       "    <tr>\n",
       "      <th>5184</th>\n",
       "      <td>[143890, 603776]</td>\n",
       "      <td>2</td>\n",
       "    </tr>\n",
       "    <tr>\n",
       "      <th>5631</th>\n",
       "      <td>[192500, 192500]</td>\n",
       "      <td>2</td>\n",
       "    </tr>\n",
       "    <tr>\n",
       "      <th>5659</th>\n",
       "      <td>[192500, 613688]</td>\n",
       "      <td>2</td>\n",
       "    </tr>\n",
       "    <tr>\n",
       "      <th>6284</th>\n",
       "      <td>[194070, 194070]</td>\n",
       "      <td>2</td>\n",
       "    </tr>\n",
       "    <tr>\n",
       "      <th>6928</th>\n",
       "      <td>[277900, 277900, 277900]</td>\n",
       "      <td>3</td>\n",
       "    </tr>\n",
       "    <tr>\n",
       "      <th>6936</th>\n",
       "      <td>[277900, 277900]</td>\n",
       "      <td>2</td>\n",
       "    </tr>\n",
       "    <tr>\n",
       "      <th>9509</th>\n",
       "      <td>[608456, 608456, 132600]</td>\n",
       "      <td>3</td>\n",
       "    </tr>\n",
       "    <tr>\n",
       "      <th>9514</th>\n",
       "      <td>[608456, 608456, 608456, 132600]</td>\n",
       "      <td>4</td>\n",
       "    </tr>\n",
       "    <tr>\n",
       "      <th>12349</th>\n",
       "      <td>[168000, 168000]</td>\n",
       "      <td>2</td>\n",
       "    </tr>\n",
       "    <tr>\n",
       "      <th>15426</th>\n",
       "      <td>[192600, 115197, 115197]</td>\n",
       "      <td>3</td>\n",
       "    </tr>\n",
       "    <tr>\n",
       "      <th>16701</th>\n",
       "      <td>[604370, 612555]</td>\n",
       "      <td>2</td>\n",
       "    </tr>\n",
       "    <tr>\n",
       "      <th>16719</th>\n",
       "      <td>[604370, 612555, 194070]</td>\n",
       "      <td>3</td>\n",
       "    </tr>\n",
       "    <tr>\n",
       "      <th>16728</th>\n",
       "      <td>[612555, 194070]</td>\n",
       "      <td>2</td>\n",
       "    </tr>\n",
       "    <tr>\n",
       "      <th>16730</th>\n",
       "      <td>[604370, 612555]</td>\n",
       "      <td>2</td>\n",
       "    </tr>\n",
       "    <tr>\n",
       "      <th>16779</th>\n",
       "      <td>[601144, 192500, 603830]</td>\n",
       "      <td>3</td>\n",
       "    </tr>\n",
       "    <tr>\n",
       "      <th>21995</th>\n",
       "      <td>[151623, 151623]</td>\n",
       "      <td>2</td>\n",
       "    </tr>\n",
       "    <tr>\n",
       "      <th>22751</th>\n",
       "      <td>[115310, 115310]</td>\n",
       "      <td>2</td>\n",
       "    </tr>\n",
       "    <tr>\n",
       "      <th>22758</th>\n",
       "      <td>[115310, 115310]</td>\n",
       "      <td>2</td>\n",
       "    </tr>\n",
       "    <tr>\n",
       "      <th>24837</th>\n",
       "      <td>[131100, 171400, 162300]</td>\n",
       "      <td>3</td>\n",
       "    </tr>\n",
       "    <tr>\n",
       "      <th>24845</th>\n",
       "      <td>[155240, 171400]</td>\n",
       "      <td>2</td>\n",
       "    </tr>\n",
       "    <tr>\n",
       "      <th>24852</th>\n",
       "      <td>[131100, 171400, 171400, 162300]</td>\n",
       "      <td>4</td>\n",
       "    </tr>\n",
       "    <tr>\n",
       "      <th>24854</th>\n",
       "      <td>[131100, 171400, 162300]</td>\n",
       "      <td>3</td>\n",
       "    </tr>\n",
       "    <tr>\n",
       "      <th>24857</th>\n",
       "      <td>[131100, 171400, 162300]</td>\n",
       "      <td>3</td>\n",
       "    </tr>\n",
       "    <tr>\n",
       "      <th>24874</th>\n",
       "      <td>[155240, 171400, 162300]</td>\n",
       "      <td>3</td>\n",
       "    </tr>\n",
       "    <tr>\n",
       "      <th>24877</th>\n",
       "      <td>[155240, 131100, 171400, 162300]</td>\n",
       "      <td>4</td>\n",
       "    </tr>\n",
       "    <tr>\n",
       "      <th>24888</th>\n",
       "      <td>[155240, 155240, 131100, 171400, 171400, 162300]</td>\n",
       "      <td>6</td>\n",
       "    </tr>\n",
       "    <tr>\n",
       "      <th>24901</th>\n",
       "      <td>[155240, 171400, 162300]</td>\n",
       "      <td>3</td>\n",
       "    </tr>\n",
       "    <tr>\n",
       "      <th>24915</th>\n",
       "      <td>[155240, 155240, 171400]</td>\n",
       "      <td>3</td>\n",
       "    </tr>\n",
       "    <tr>\n",
       "      <th>24928</th>\n",
       "      <td>[155240, 131100, 171400, 162300]</td>\n",
       "      <td>4</td>\n",
       "    </tr>\n",
       "    <tr>\n",
       "      <th>...</th>\n",
       "      <td>...</td>\n",
       "      <td>...</td>\n",
       "    </tr>\n",
       "    <tr>\n",
       "      <th>390302</th>\n",
       "      <td>[143890, 603776]</td>\n",
       "      <td>2</td>\n",
       "    </tr>\n",
       "    <tr>\n",
       "      <th>390894</th>\n",
       "      <td>[143890, 603776]</td>\n",
       "      <td>2</td>\n",
       "    </tr>\n",
       "    <tr>\n",
       "      <th>390896</th>\n",
       "      <td>[143890, 603776]</td>\n",
       "      <td>2</td>\n",
       "    </tr>\n",
       "    <tr>\n",
       "      <th>467686</th>\n",
       "      <td>[171400, 162300]</td>\n",
       "      <td>2</td>\n",
       "    </tr>\n",
       "    <tr>\n",
       "      <th>470527</th>\n",
       "      <td>[154700, 154700]</td>\n",
       "      <td>2</td>\n",
       "    </tr>\n",
       "    <tr>\n",
       "      <th>470544</th>\n",
       "      <td>[154700, 154700]</td>\n",
       "      <td>2</td>\n",
       "    </tr>\n",
       "    <tr>\n",
       "      <th>489469</th>\n",
       "      <td>[154700, 154700]</td>\n",
       "      <td>2</td>\n",
       "    </tr>\n",
       "    <tr>\n",
       "      <th>503524</th>\n",
       "      <td>[154700, 154700]</td>\n",
       "      <td>2</td>\n",
       "    </tr>\n",
       "    <tr>\n",
       "      <th>506376</th>\n",
       "      <td>[154700, 154700]</td>\n",
       "      <td>2</td>\n",
       "    </tr>\n",
       "    <tr>\n",
       "      <th>506384</th>\n",
       "      <td>[154700, 154700]</td>\n",
       "      <td>2</td>\n",
       "    </tr>\n",
       "    <tr>\n",
       "      <th>506405</th>\n",
       "      <td>[154700, 154700]</td>\n",
       "      <td>2</td>\n",
       "    </tr>\n",
       "    <tr>\n",
       "      <th>535659</th>\n",
       "      <td>[605373, 605373]</td>\n",
       "      <td>2</td>\n",
       "    </tr>\n",
       "    <tr>\n",
       "      <th>535662</th>\n",
       "      <td>[605373, 605373]</td>\n",
       "      <td>2</td>\n",
       "    </tr>\n",
       "    <tr>\n",
       "      <th>535666</th>\n",
       "      <td>[115310, 115310]</td>\n",
       "      <td>2</td>\n",
       "    </tr>\n",
       "    <tr>\n",
       "      <th>535671</th>\n",
       "      <td>[115310, 115310]</td>\n",
       "      <td>2</td>\n",
       "    </tr>\n",
       "    <tr>\n",
       "      <th>535729</th>\n",
       "      <td>[193300, 193300]</td>\n",
       "      <td>2</td>\n",
       "    </tr>\n",
       "    <tr>\n",
       "      <th>535730</th>\n",
       "      <td>[193300, 193300]</td>\n",
       "      <td>2</td>\n",
       "    </tr>\n",
       "    <tr>\n",
       "      <th>535732</th>\n",
       "      <td>[193300, 193300]</td>\n",
       "      <td>2</td>\n",
       "    </tr>\n",
       "    <tr>\n",
       "      <th>535734</th>\n",
       "      <td>[193300, 193300]</td>\n",
       "      <td>2</td>\n",
       "    </tr>\n",
       "    <tr>\n",
       "      <th>535912</th>\n",
       "      <td>[171400, 162300]</td>\n",
       "      <td>2</td>\n",
       "    </tr>\n",
       "    <tr>\n",
       "      <th>535920</th>\n",
       "      <td>[171400, 162300]</td>\n",
       "      <td>2</td>\n",
       "    </tr>\n",
       "    <tr>\n",
       "      <th>535923</th>\n",
       "      <td>[171400, 162300]</td>\n",
       "      <td>2</td>\n",
       "    </tr>\n",
       "    <tr>\n",
       "      <th>535933</th>\n",
       "      <td>[171400, 162300]</td>\n",
       "      <td>2</td>\n",
       "    </tr>\n",
       "    <tr>\n",
       "      <th>541687</th>\n",
       "      <td>[193300, 193300]</td>\n",
       "      <td>2</td>\n",
       "    </tr>\n",
       "    <tr>\n",
       "      <th>590826</th>\n",
       "      <td>[143890, 603776]</td>\n",
       "      <td>2</td>\n",
       "    </tr>\n",
       "    <tr>\n",
       "      <th>590832</th>\n",
       "      <td>[143890, 603776]</td>\n",
       "      <td>2</td>\n",
       "    </tr>\n",
       "    <tr>\n",
       "      <th>598971</th>\n",
       "      <td>[607450, 192500]</td>\n",
       "      <td>2</td>\n",
       "    </tr>\n",
       "    <tr>\n",
       "      <th>643437</th>\n",
       "      <td>[143890, 603776]</td>\n",
       "      <td>2</td>\n",
       "    </tr>\n",
       "    <tr>\n",
       "      <th>691159</th>\n",
       "      <td>[193300, 193300]</td>\n",
       "      <td>2</td>\n",
       "    </tr>\n",
       "    <tr>\n",
       "      <th>715758</th>\n",
       "      <td>[154700, 154700]</td>\n",
       "      <td>2</td>\n",
       "    </tr>\n",
       "  </tbody>\n",
       "</table>\n",
       "<p>240 rows × 2 columns</p>\n",
       "</div>"
      ],
      "text/plain": [
       "                                                ACMGTAGS  MATCHCOUNT\n",
       "4023                                    [193300, 193300]           2\n",
       "5184                                    [143890, 603776]           2\n",
       "5631                                    [192500, 192500]           2\n",
       "5659                                    [192500, 613688]           2\n",
       "6284                                    [194070, 194070]           2\n",
       "6928                            [277900, 277900, 277900]           3\n",
       "6936                                    [277900, 277900]           2\n",
       "9509                            [608456, 608456, 132600]           3\n",
       "9514                    [608456, 608456, 608456, 132600]           4\n",
       "12349                                   [168000, 168000]           2\n",
       "15426                           [192600, 115197, 115197]           3\n",
       "16701                                   [604370, 612555]           2\n",
       "16719                           [604370, 612555, 194070]           3\n",
       "16728                                   [612555, 194070]           2\n",
       "16730                                   [604370, 612555]           2\n",
       "16779                           [601144, 192500, 603830]           3\n",
       "21995                                   [151623, 151623]           2\n",
       "22751                                   [115310, 115310]           2\n",
       "22758                                   [115310, 115310]           2\n",
       "24837                           [131100, 171400, 162300]           3\n",
       "24845                                   [155240, 171400]           2\n",
       "24852                   [131100, 171400, 171400, 162300]           4\n",
       "24854                           [131100, 171400, 162300]           3\n",
       "24857                           [131100, 171400, 162300]           3\n",
       "24874                           [155240, 171400, 162300]           3\n",
       "24877                   [155240, 131100, 171400, 162300]           4\n",
       "24888   [155240, 155240, 131100, 171400, 171400, 162300]           6\n",
       "24901                           [155240, 171400, 162300]           3\n",
       "24915                           [155240, 155240, 171400]           3\n",
       "24928                   [155240, 131100, 171400, 162300]           4\n",
       "...                                                  ...         ...\n",
       "390302                                  [143890, 603776]           2\n",
       "390894                                  [143890, 603776]           2\n",
       "390896                                  [143890, 603776]           2\n",
       "467686                                  [171400, 162300]           2\n",
       "470527                                  [154700, 154700]           2\n",
       "470544                                  [154700, 154700]           2\n",
       "489469                                  [154700, 154700]           2\n",
       "503524                                  [154700, 154700]           2\n",
       "506376                                  [154700, 154700]           2\n",
       "506384                                  [154700, 154700]           2\n",
       "506405                                  [154700, 154700]           2\n",
       "535659                                  [605373, 605373]           2\n",
       "535662                                  [605373, 605373]           2\n",
       "535666                                  [115310, 115310]           2\n",
       "535671                                  [115310, 115310]           2\n",
       "535729                                  [193300, 193300]           2\n",
       "535730                                  [193300, 193300]           2\n",
       "535732                                  [193300, 193300]           2\n",
       "535734                                  [193300, 193300]           2\n",
       "535912                                  [171400, 162300]           2\n",
       "535920                                  [171400, 162300]           2\n",
       "535923                                  [171400, 162300]           2\n",
       "535933                                  [171400, 162300]           2\n",
       "541687                                  [193300, 193300]           2\n",
       "590826                                  [143890, 603776]           2\n",
       "590832                                  [143890, 603776]           2\n",
       "598971                                  [607450, 192500]           2\n",
       "643437                                  [143890, 603776]           2\n",
       "691159                                  [193300, 193300]           2\n",
       "715758                                  [154700, 154700]           2\n",
       "\n",
       "[240 rows x 2 columns]"
      ]
     },
     "execution_count": 36,
     "metadata": {},
     "output_type": "execute_result"
    }
   ],
   "source": [
    "multiples"
   ]
  },
  {
   "cell_type": "markdown",
   "metadata": {},
   "source": [
    "## ...⇧\n",
    "> **Lots of Duplicate Tags** \n",
    "\n",
    "+ Need to filter duplicates tags"
   ]
  },
  {
   "cell_type": "code",
   "execution_count": null,
   "metadata": {},
   "outputs": [],
   "source": []
  }
 ],
 "metadata": {
  "kernelspec": {
   "display_name": "Python 3",
   "language": "python",
   "name": "python3"
  },
  "language_info": {
   "codemirror_mode": {
    "name": "ipython",
    "version": 3
   },
   "file_extension": ".py",
   "mimetype": "text/x-python",
   "name": "python",
   "nbconvert_exporter": "python",
   "pygments_lexer": "ipython3",
   "version": "3.6.4"
  }
 },
 "nbformat": 4,
 "nbformat_minor": 2
}
