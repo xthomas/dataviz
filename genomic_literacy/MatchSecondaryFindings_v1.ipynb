{
 "cells": [
  {
   "cell_type": "code",
   "execution_count": 1,
   "metadata": {},
   "outputs": [],
   "source": [
    "import pandas as pd\n",
    "import pprint"
   ]
  },
  {
   "cell_type": "code",
   "execution_count": 32,
   "metadata": {},
   "outputs": [],
   "source": [
    "datadir = '/home/xavier/data/'\n",
    "acmg_file = 'ACMG_Conditions_OMIM.csv'\n",
    "clinvar_file = 'variant_summary.txt'"
   ]
  },
  {
   "cell_type": "code",
   "execution_count": 33,
   "metadata": {},
   "outputs": [],
   "source": [
    "acmg = pd.read_csv(datadir + acmg_file)"
   ]
  },
  {
   "cell_type": "code",
   "execution_count": 4,
   "metadata": {},
   "outputs": [
    {
     "name": "stderr",
     "output_type": "stream",
     "text": [
      "/home/xavier/miniconda3/lib/python3.6/site-packages/IPython/core/interactiveshell.py:2785: DtypeWarning: Columns (18) have mixed types. Specify dtype option on import or set low_memory=False.\n",
      "  interactivity=interactivity, compiler=compiler, result=result)\n"
     ]
    }
   ],
   "source": [
    "clinvar = pd.read_csv(datadir + clinvar_file, sep='\\t', lineterminator='\\n')"
   ]
  },
  {
   "cell_type": "code",
   "execution_count": 5,
   "metadata": {},
   "outputs": [
    {
     "data": {
      "text/plain": [
       "(809509, 31)"
      ]
     },
     "execution_count": 5,
     "metadata": {},
     "output_type": "execute_result"
    }
   ],
   "source": [
    "clinvar.shape"
   ]
  },
  {
   "cell_type": "code",
   "execution_count": 34,
   "metadata": {},
   "outputs": [
    {
     "data": {
      "text/plain": [
       "(59, 2)"
      ]
     },
     "execution_count": 34,
     "metadata": {},
     "output_type": "execute_result"
    }
   ],
   "source": [
    "acmg.shape"
   ]
  },
  {
   "cell_type": "markdown",
   "metadata": {},
   "source": [
    "# This is a matching exercise\n",
    "\n",
    "We are trying to match the disease name in ACMG Recos to the \n",
    "\n",
    "+ The files we are working from:\n",
    "    + [ACMG Recommendations for Reporting of Incidental Findings in Clinical Exome and Genome Sequencing](https://www.ncbi.nlm.nih.gov/clinvar/docs/acmg/)\n",
    "    + [Clinvar Variants Summary](ftp://ftp.ncbi.nlm.nih.gov/pub/clinvar/tab_delimited/)"
   ]
  },
  {
   "cell_type": "markdown",
   "metadata": {},
   "source": [
    "## So I anticipate my stumbling block to be that I don't efficiently match disease names. Some workarounds\n",
    "\n",
    "+ Instead of matching name, match ID ... e.g. MIM ID\n",
    "+ Since there are only 59 'Disease Names' in ACMG, instead of matching by column, match by each disease name as a variable. \n",
    "    + > So you can judge how many variants for a keyword\n",
    "    \n",
    "### In all events, faster to just work with the Phenotype ID, List"
   ]
  },
  {
   "cell_type": "code",
   "execution_count": 7,
   "metadata": {},
   "outputs": [],
   "source": [
    "phenos =  clinvar.loc[:,'PhenotypeList']"
   ]
  },
  {
   "cell_type": "code",
   "execution_count": 8,
   "metadata": {
    "scrolled": true
   },
   "outputs": [
    {
     "data": {
      "text/plain": [
       "0                Spastic paraplegia 48, autosomal recessive\n",
       "1                Spastic paraplegia 48, autosomal recessive\n",
       "2                Spastic paraplegia 48, autosomal recessive\n",
       "3                Spastic paraplegia 48, autosomal recessive\n",
       "4                                   Galloway-Mowat syndrome\n",
       "5                                   Galloway-Mowat syndrome\n",
       "6           Mitochondrial complex I deficiency;not provided\n",
       "7           Mitochondrial complex I deficiency;not provided\n",
       "8                        Mitochondrial complex I deficiency\n",
       "9                        Mitochondrial complex I deficiency\n",
       "10        Inborn genetic diseases;Mitochondrial complex ...\n",
       "11        Inborn genetic diseases;Mitochondrial complex ...\n",
       "12                       Mitochondrial complex I deficiency\n",
       "13                       Mitochondrial complex I deficiency\n",
       "14                       Mitochondrial complex I deficiency\n",
       "15                                HFE INTRONIC POLYMORPHISM\n",
       "16                                HFE INTRONIC POLYMORPHISM\n",
       "17        Alzheimer disease, susceptibility to;Cutaneous...\n",
       "18        Alzheimer disease, susceptibility to;Cutaneous...\n",
       "19        Hemochromatosis type 1;Hereditary hemochromato...\n",
       "20        Hemochromatosis type 1;Hereditary hemochromato...\n",
       "21        Hemochromatosis type 1;Hereditary hemochromatosis\n",
       "22        Hemochromatosis type 1;Hereditary hemochromatosis\n",
       "23                                   Hemochromatosis type 1\n",
       "24                                   Hemochromatosis type 1\n",
       "25                                   Hemochromatosis type 1\n",
       "26                                   Hemochromatosis type 1\n",
       "27                                         HFE POLYMORPHISM\n",
       "28                                         HFE POLYMORPHISM\n",
       "29                                         HFE POLYMORPHISM\n",
       "                                ...                        \n",
       "809479                              Ohdo syndrome, X-linked\n",
       "809480                              Ohdo syndrome, X-linked\n",
       "809481                              Ohdo syndrome, X-linked\n",
       "809482                        Allan-Herndon-Dudley syndrome\n",
       "809483                        Allan-Herndon-Dudley syndrome\n",
       "809484                        Allan-Herndon-Dudley syndrome\n",
       "809485                        Allan-Herndon-Dudley syndrome\n",
       "809486                           Menkes kinky-hair syndrome\n",
       "809487                           Menkes kinky-hair syndrome\n",
       "809488           ZNF711-Related X-linked Mental Retardation\n",
       "809489           ZNF711-Related X-linked Mental Retardation\n",
       "809490                                        not specified\n",
       "809491                                        not specified\n",
       "809492    CONGENITAL ANOMALIES OF KIDNEY AND URINARY TRA...\n",
       "809493    CONGENITAL ANOMALIES OF KIDNEY AND URINARY TRA...\n",
       "809494    CONGENITAL ANOMALIES OF KIDNEY AND URINARY TRA...\n",
       "809495    CONGENITAL ANOMALIES OF KIDNEY AND URINARY TRA...\n",
       "809496    CONGENITAL ANOMALIES OF KIDNEY AND URINARY TRA...\n",
       "809497    CONGENITAL ANOMALIES OF KIDNEY AND URINARY TRA...\n",
       "809498    CONGENITAL ANOMALIES OF KIDNEY AND URINARY TRA...\n",
       "809499    CONGENITAL ANOMALIES OF KIDNEY AND URINARY TRA...\n",
       "809500                     MENTAL RETARDATION, X-LINKED 107\n",
       "809501                     MENTAL RETARDATION, X-LINKED 107\n",
       "809502    Arthrogryposis multiplex congenita neurogenic ...\n",
       "809503                           Wiedemann-Steiner syndrome\n",
       "809504                           Wiedemann-Steiner syndrome\n",
       "809505                       Brachioskeletogenital syndrome\n",
       "809506                       Brachioskeletogenital syndrome\n",
       "809507                       Brachioskeletogenital syndrome\n",
       "809508    Proliferative vasculopathy and hydranencephaly...\n",
       "Name: PhenotypeList, Length: 809509, dtype: object"
      ]
     },
     "execution_count": 8,
     "metadata": {},
     "output_type": "execute_result"
    }
   ],
   "source": [
    "phenos"
   ]
  },
  {
   "cell_type": "code",
   "execution_count": 9,
   "metadata": {},
   "outputs": [],
   "source": [
    "a = 'Adenomatous polyposis coli'\n",
    "b = 'polyposis coli'\n",
    "c = 'coli'"
   ]
  },
  {
   "cell_type": "code",
   "execution_count": 10,
   "metadata": {},
   "outputs": [
    {
     "data": {
      "text/plain": [
       "(701, 31)"
      ]
     },
     "execution_count": 10,
     "metadata": {},
     "output_type": "execute_result"
    }
   ],
   "source": [
    "onebyone = clinvar[clinvar['PhenotypeList'].str.contains(c, na=False)]\n",
    "onebyone.shape"
   ]
  },
  {
   "cell_type": "code",
   "execution_count": 11,
   "metadata": {},
   "outputs": [
    {
     "data": {
      "text/plain": [
       "(4, 31)"
      ]
     },
     "execution_count": 11,
     "metadata": {},
     "output_type": "execute_result"
    }
   ],
   "source": [
    "onebytwo = clinvar[clinvar['PhenotypeList'].str.contains(b, na=False)]\n",
    "onebytwo.shape"
   ]
  },
  {
   "cell_type": "code",
   "execution_count": 12,
   "metadata": {},
   "outputs": [
    {
     "data": {
      "text/plain": [
       "(4, 31)"
      ]
     },
     "execution_count": 12,
     "metadata": {},
     "output_type": "execute_result"
    }
   ],
   "source": [
    "onebythree = clinvar[clinvar['PhenotypeList'].str.contains(a, na=False)]\n",
    "onebythree.shape"
   ]
  },
  {
   "cell_type": "code",
   "execution_count": 31,
   "metadata": {},
   "outputs": [
    {
     "data": {
      "text/plain": [
       "(3490, 31)"
      ]
     },
     "execution_count": 31,
     "metadata": {},
     "output_type": "execute_result"
    }
   ],
   "source": [
    "byid = clinvar[clinvar['PhenotypeIDS'].str.contains('175100', na=False)]\n",
    "byid.shape"
   ]
  },
  {
   "cell_type": "markdown",
   "metadata": {},
   "source": [
    "## There is a lot of mismatching going on here!\n",
    "\n",
    "+ 701 rows for 'Coli'\n",
    "+ 4 rows for 'Adenomatous polyposis coli'\n",
    "+ 3490 rows for 'ID = 175100'\n",
    "\n",
    "## ...⇧\n",
    "> **HYPOTHESIS:** Looks like the smart thing would be to match by ID.\n",
    "\n",
    "- - -\n",
    "Let's write an **\"ISIN\"** definition that matches all the, or something like that.\n",
    "These solutions both look promising:\n",
    "+ https://datascience.stackexchange.com/questions/19227/create-a-new-column-based-on-two-columns-from-two-different-dataframes\n",
    "+ https://stackoverflow.com/questions/27474921/compare-two-columns-using-pandas?utm_medium=organic&utm_source=google_rich_qa&utm_campaign=google_rich_qa\n"
   ]
  },
  {
   "cell_type": "code",
   "execution_count": null,
   "metadata": {},
   "outputs": [],
   "source": []
  },
  {
   "cell_type": "code",
   "execution_count": null,
   "metadata": {},
   "outputs": [],
   "source": []
  },
  {
   "cell_type": "code",
   "execution_count": null,
   "metadata": {},
   "outputs": [],
   "source": []
  },
  {
   "cell_type": "code",
   "execution_count": null,
   "metadata": {},
   "outputs": [],
   "source": []
  },
  {
   "cell_type": "code",
   "execution_count": null,
   "metadata": {},
   "outputs": [],
   "source": []
  },
  {
   "cell_type": "code",
   "execution_count": null,
   "metadata": {},
   "outputs": [],
   "source": []
  },
  {
   "cell_type": "code",
   "execution_count": null,
   "metadata": {},
   "outputs": [],
   "source": []
  },
  {
   "cell_type": "code",
   "execution_count": null,
   "metadata": {},
   "outputs": [],
   "source": []
  },
  {
   "cell_type": "code",
   "execution_count": null,
   "metadata": {},
   "outputs": [],
   "source": []
  },
  {
   "cell_type": "code",
   "execution_count": null,
   "metadata": {},
   "outputs": [],
   "source": []
  },
  {
   "cell_type": "code",
   "execution_count": null,
   "metadata": {},
   "outputs": [],
   "source": []
  },
  {
   "cell_type": "code",
   "execution_count": null,
   "metadata": {},
   "outputs": [],
   "source": []
  },
  {
   "cell_type": "code",
   "execution_count": null,
   "metadata": {},
   "outputs": [],
   "source": []
  },
  {
   "cell_type": "code",
   "execution_count": null,
   "metadata": {},
   "outputs": [],
   "source": []
  },
  {
   "cell_type": "code",
   "execution_count": null,
   "metadata": {},
   "outputs": [],
   "source": []
  }
 ],
 "metadata": {
  "kernelspec": {
   "display_name": "Python 3",
   "language": "python",
   "name": "python3"
  },
  "language_info": {
   "codemirror_mode": {
    "name": "ipython",
    "version": 3
   },
   "file_extension": ".py",
   "mimetype": "text/x-python",
   "name": "python",
   "nbconvert_exporter": "python",
   "pygments_lexer": "ipython3",
   "version": "3.6.4"
  }
 },
 "nbformat": 4,
 "nbformat_minor": 2
}
