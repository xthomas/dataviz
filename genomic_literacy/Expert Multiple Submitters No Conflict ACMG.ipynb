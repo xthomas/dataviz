{
 "cells": [
  {
   "cell_type": "code",
   "execution_count": 1,
   "metadata": {},
   "outputs": [],
   "source": [
    "import pandas as pd\n",
    "import re"
   ]
  },
  {
   "cell_type": "code",
   "execution_count": 2,
   "metadata": {},
   "outputs": [],
   "source": [
    "datadir = '/home/xavier/data/'\n",
    "clinvar_file = 'variant_summary_02.txt' # Updated 5/21/2018"
   ]
  },
  {
   "cell_type": "markdown",
   "metadata": {},
   "source": [
    "# First thing, download and survey the 'Clinvar' data\n",
    "\n",
    "## ➜ ClinVar is a freely accessible, public archive of reports of the relationships among human variations and phenotypes, with supporting evidence.\n",
    "\n",
    "+ A phenotype results from the expression of an organism's genetic code, its genotype, as well as the influence of environmental factors and the interactions between the two. [Wikipedia](https://en.wikipedia.org/wiki/Phenotype)\n",
    "+ File is from **[THIS FTP DIRECTORY](ftp://ftp.ncbi.nlm.nih.gov/pub/clinvar/tab_delimited/)** (which is updated monthly)\n",
    "+ ** Download this file [Variant_summary.txt](ftp://ftp.ncbi.nlm.nih.gov/pub/clinvar/tab_delimited/variant_summary.txt.gz)** which is a 809K row dataset listing "
   ]
  },
  {
   "cell_type": "code",
   "execution_count": 3,
   "metadata": {},
   "outputs": [
    {
     "name": "stderr",
     "output_type": "stream",
     "text": [
      "/home/xavier/miniconda3/lib/python3.6/site-packages/IPython/core/interactiveshell.py:2785: DtypeWarning: Columns (18) have mixed types. Specify dtype option on import or set low_memory=False.\n",
      "  interactivity=interactivity, compiler=compiler, result=result)\n"
     ]
    }
   ],
   "source": [
    "clinvar = pd.read_csv(datadir + clinvar_file, sep='\\t', lineterminator='\\n')"
   ]
  },
  {
   "cell_type": "code",
   "execution_count": 4,
   "metadata": {},
   "outputs": [
    {
     "data": {
      "text/plain": [
       "(811417, 31)"
      ]
     },
     "execution_count": 4,
     "metadata": {},
     "output_type": "execute_result"
    }
   ],
   "source": [
    "# count the rows of data\n",
    "clinvar.shape"
   ]
  },
  {
   "cell_type": "markdown",
   "metadata": {},
   "source": [
    "## ...⇧\n",
    "> **811K Rows of data:** The Variant Summary updated on 5/21 is 2K rows longer than the previous\n",
    "\n",
    "+ Previous was 809K rows in this dataset.\n",
    "\n",
    "- - -"
   ]
  },
  {
   "cell_type": "code",
   "execution_count": 5,
   "metadata": {
    "scrolled": false
   },
   "outputs": [
    {
     "data": {
      "text/plain": [
       "Assembly\n",
       "GRCh37    397447\n",
       "GRCh38    389089\n",
       "NCBI36     19545\n",
       "dtype: int64"
      ]
     },
     "execution_count": 5,
     "metadata": {},
     "output_type": "execute_result"
    }
   ],
   "source": [
    "# What are the Reference Genomes in this data?\n",
    "clinvar.groupby('Assembly').size()"
   ]
  },
  {
   "cell_type": "code",
   "execution_count": 6,
   "metadata": {},
   "outputs": [
    {
     "data": {
      "text/plain": [
       "806081"
      ]
     },
     "execution_count": 6,
     "metadata": {},
     "output_type": "execute_result"
    }
   ],
   "source": [
    "397447 + 389089 + 19545"
   ]
  },
  {
   "cell_type": "markdown",
   "metadata": {},
   "source": [
    "## ...⇧\n",
    "> **806K Rows of \"Reference Genome\" data:** This is an anomaly!!\n",
    "\n",
    "+ Data has **811K** rows\n",
    "+ Yet the Assembly counts **only 806K** rows"
   ]
  },
  {
   "cell_type": "code",
   "execution_count": 7,
   "metadata": {
    "scrolled": true
   },
   "outputs": [
    {
     "data": {
      "text/plain": [
       "0         GRCh37\n",
       "1         GRCh38\n",
       "2         GRCh37\n",
       "3         GRCh38\n",
       "4         GRCh37\n",
       "5         GRCh38\n",
       "6         GRCh37\n",
       "7         GRCh38\n",
       "8         GRCh37\n",
       "9         GRCh38\n",
       "10        GRCh37\n",
       "11        GRCh38\n",
       "12        NCBI36\n",
       "13        GRCh37\n",
       "14        GRCh38\n",
       "15        GRCh38\n",
       "16        GRCh37\n",
       "17        GRCh37\n",
       "18        GRCh38\n",
       "19        GRCh37\n",
       "20        GRCh38\n",
       "21        GRCh37\n",
       "22        GRCh38\n",
       "23        GRCh37\n",
       "24        GRCh38\n",
       "25        GRCh37\n",
       "26        GRCh38\n",
       "27        GRCh37\n",
       "28        GRCh38\n",
       "29        GRCh37\n",
       "           ...  \n",
       "811387    GRCh38\n",
       "811388    GRCh37\n",
       "811389    GRCh38\n",
       "811390    GRCh38\n",
       "811391    GRCh37\n",
       "811392    GRCh37\n",
       "811393    GRCh38\n",
       "811394    GRCh37\n",
       "811395    GRCh38\n",
       "811396    GRCh38\n",
       "811397    GRCh37\n",
       "811398    GRCh38\n",
       "811399    GRCh37\n",
       "811400    GRCh38\n",
       "811401    GRCh37\n",
       "811402    GRCh37\n",
       "811403    GRCh38\n",
       "811404    GRCh38\n",
       "811405    GRCh37\n",
       "811406    GRCh38\n",
       "811407    GRCh37\n",
       "811408    GRCh38\n",
       "811409    GRCh37\n",
       "811410       NaN\n",
       "811411       NaN\n",
       "811412       NaN\n",
       "811413       NaN\n",
       "811414       NaN\n",
       "811415       NaN\n",
       "811416       NaN\n",
       "Name: Assembly, Length: 811417, dtype: object"
      ]
     },
     "execution_count": 7,
     "metadata": {},
     "output_type": "execute_result"
    }
   ],
   "source": [
    "clinvar.Assembly"
   ]
  },
  {
   "cell_type": "markdown",
   "metadata": {},
   "source": [
    "## ...⇧\n",
    "> **~5K Rows of \"Reference Genome\" are neither 36, 37, or 38:**\n",
    "\n",
    "+ For example, the NaN values in the last few rows listed above.\n",
    "+ So will only work with those explicitly referenced as Human Reference Genome #38"
   ]
  },
  {
   "cell_type": "code",
   "execution_count": 8,
   "metadata": {
    "scrolled": true
   },
   "outputs": [
    {
     "data": {
      "text/plain": [
       "(389089, 31)"
      ]
     },
     "execution_count": 8,
     "metadata": {},
     "output_type": "execute_result"
    }
   ],
   "source": [
    "# Work with Human Reference Genome #38\n",
    "latest = clinvar[clinvar['Assembly'] == 'GRCh38']\n",
    "latest.shape"
   ]
  },
  {
   "cell_type": "markdown",
   "metadata": {},
   "source": [
    "## ...⇧\n",
    "\n",
    "> **389K Unfiltered rows of data fir Reference Genome #38**"
   ]
  },
  {
   "cell_type": "markdown",
   "metadata": {},
   "source": [
    "- - -\n",
    "\n",
    "## Now let's cross-reference some count of this data using other tools\n",
    "\n",
    "+ The [ClinVar Advanced Search Builder](https://www.ncbi.nlm.nih.gov/clinvar/advanced/) allows you to slice Clinvar data using custom variables\n",
    "+ We're interested in the most authoritative data.\n",
    "\n",
    "> Let's start with \"multiple submitters, no conflict.\" Should be **~53K rows**\n",
    "\n",
    "![Should be ~ 53K rows](https://i.imgur.com/2cmVd4jl.png)\n",
    "\n",
    "\n",
    "- - -"
   ]
  },
  {
   "cell_type": "code",
   "execution_count": 9,
   "metadata": {},
   "outputs": [
    {
     "data": {
      "text/plain": [
       "ReviewStatus\n",
       "criteria provided, conflicting interpretations           18415\n",
       "criteria provided, multiple submitters, no conflicts     52969\n",
       "criteria provided, single submitter                     249069\n",
       "no assertion criteria provided                           48076\n",
       "no assertion provided                                    10707\n",
       "no interpretation for the single variant                   656\n",
       "practice guideline                                          23\n",
       "reviewed by expert panel                                  9174\n",
       "dtype: int64"
      ]
     },
     "execution_count": 9,
     "metadata": {},
     "output_type": "execute_result"
    }
   ],
   "source": [
    "# Let's double check some stats on this dataframe:\n",
    "latest.groupby('ReviewStatus').size()\n"
   ]
  },
  {
   "cell_type": "markdown",
   "metadata": {},
   "source": [
    "## ...⇧\n",
    "\n",
    "> **Matching up pretty well**\n",
    "\n",
    "+ Discrepancies of 'No Conflicts and 'Reviewed by Experts' can be explained by the NaN values are filtered out of our dataset, but remain in the 'Advanced Search Builder'\n",
    "\n",
    "![Matchup](https://i.imgur.com/pswXi9Zl.jpg)"
   ]
  },
  {
   "cell_type": "code",
   "execution_count": 10,
   "metadata": {},
   "outputs": [
    {
     "data": {
      "text/plain": [
       "(62166, 31)"
      ]
     },
     "execution_count": 10,
     "metadata": {},
     "output_type": "execute_result"
    }
   ],
   "source": [
    "# Further filter the dataset down by these 'authoritative' flags\n",
    "# from the 'Review Status' column\n",
    "\n",
    "authoritative = latest[\n",
    "    (latest['ReviewStatus'] == 'criteria provided, multiple submitters, no conflicts') | \n",
    "    (latest['ReviewStatus'] == 'practice guideline') | \n",
    "    (latest['ReviewStatus'] == 'reviewed by expert panel') \n",
    "]\n",
    "authoritative.shape"
   ]
  },
  {
   "cell_type": "code",
   "execution_count": 11,
   "metadata": {},
   "outputs": [
    {
     "data": {
      "text/plain": [
       "62166"
      ]
     },
     "execution_count": 11,
     "metadata": {},
     "output_type": "execute_result"
    }
   ],
   "source": [
    "# double check\n",
    "52969 + 23 + 9174"
   ]
  },
  {
   "cell_type": "code",
   "execution_count": 12,
   "metadata": {},
   "outputs": [
    {
     "data": {
      "text/plain": [
       "15.97732138405352"
      ]
     },
     "execution_count": 12,
     "metadata": {},
     "output_type": "execute_result"
    }
   ],
   "source": [
    "# percentage of total Ref #38 data\n",
    "(62166 / 389089) * 100"
   ]
  },
  {
   "cell_type": "markdown",
   "metadata": {},
   "source": [
    "## ...⇧\n",
    "\n",
    "> **62K Rows of 'Authoritative' reviews**\n",
    "\n",
    "+ So that means that of the original **389K** rows of data, on **62K** rows of data are 'meaningful...\n",
    "+ Only **16%** of this data is 'authoritative', based on our filters.\n",
    "\n",
    "- - -\n",
    "\n",
    "# Idea for marketing\n",
    "\n",
    "> Show the rise in 'authoritative' data on clinical signifigance by applying this exercise back in time on retrospective datasets. ➜ This would demonstrate how rapidly authoritative correlations in markers are rising, over a period of months. (Nice little marketing tidbit.)\n",
    "\n",
    "![marketing ideas](https://i.imgur.com/gshsM2Zm.png?1)"
   ]
  },
  {
   "cell_type": "markdown",
   "metadata": {},
   "source": [
    "## Time to start matching the OMIM tags\n",
    "\n",
    "+ First order is to filter for only OMIM tags into a new column"
   ]
  },
  {
   "cell_type": "code",
   "execution_count": 224,
   "metadata": {},
   "outputs": [],
   "source": [
    "# function to write OMIM TAG MATCHES TO A NEW COL\n",
    "def omim_matches (x):\n",
    "    # Find anything that has an OMIM tag, from 1 to 6 numerals long\n",
    "    res = re.findall(r\"(?:OMIM:(\\d{1,6}))\",x)\n",
    "    if res:\n",
    "        return res\n",
    "    else:\n",
    "#         print(\"NA\")\n",
    "         return (\"NA\")"
   ]
  },
  {
   "cell_type": "code",
   "execution_count": 225,
   "metadata": {
    "scrolled": true
   },
   "outputs": [
    {
     "name": "stderr",
     "output_type": "stream",
     "text": [
      "/home/xavier/miniconda3/lib/python3.6/site-packages/ipykernel_launcher.py:1: SettingWithCopyWarning: \n",
      "A value is trying to be set on a copy of a slice from a DataFrame.\n",
      "Try using .loc[row_indexer,col_indexer] = value instead\n",
      "\n",
      "See the caveats in the documentation: http://pandas.pydata.org/pandas-docs/stable/indexing.html#indexing-view-versus-copy\n",
      "  \"\"\"Entry point for launching an IPython kernel.\n"
     ]
    }
   ],
   "source": [
    "authoritative['OMIMTAGS'] = authoritative.PhenotypeIDS.apply(omim_matches)\n"
   ]
  },
  {
   "cell_type": "code",
   "execution_count": 226,
   "metadata": {},
   "outputs": [
    {
     "data": {
      "text/plain": [
       "11                [252010]\n",
       "20        [235200, 612635]\n",
       "57                [613616]\n",
       "70                [606068]\n",
       "72                [606068]\n",
       "74                [606068]\n",
       "105               [613559]\n",
       "107               [614852]\n",
       "184               [275350]\n",
       "223               [236200]\n",
       "227               [236200]\n",
       "229               [236200]\n",
       "233               [236200]\n",
       "239               [236200]\n",
       "241               [236200]\n",
       "246               [236200]\n",
       "252               [236200]\n",
       "254               [236200]\n",
       "380       [608091, 603194]\n",
       "471                     NA\n",
       "517       [613172, 613426]\n",
       "519               [613172]\n",
       "521               [613172]\n",
       "523               [613172]\n",
       "572       [193400, 613554]\n",
       "657               [162200]\n",
       "659               [162200]\n",
       "663               [162200]\n",
       "688       [162210, 162200]\n",
       "691               [162200]\n",
       "                ...       \n",
       "808067            [605259]\n",
       "808068            [209950]\n",
       "808070            [236200]\n",
       "808073            [600920]\n",
       "808074            [105400]\n",
       "808089            [612067]\n",
       "808094            [607688]\n",
       "808099            [144700]\n",
       "808109            [613135]\n",
       "808110            [613135]\n",
       "808119            [221770]\n",
       "808140            [261100]\n",
       "808146            [143095]\n",
       "808148            [601859]\n",
       "808174            [614944]\n",
       "808176            [278780]\n",
       "808178            [278780]\n",
       "808180            [278780]\n",
       "808192            [604360]\n",
       "808200            [132900]\n",
       "808203            [132900]\n",
       "808205            [132900]\n",
       "808212            [227650]\n",
       "808233            [267750]\n",
       "808235            [105400]\n",
       "808237            [105400]\n",
       "808239            [105400]\n",
       "808242            [607907]\n",
       "808243            [607907]\n",
       "808246            [607907]\n",
       "Name: OMIMTAGS, Length: 62166, dtype: object"
      ]
     },
     "execution_count": 226,
     "metadata": {},
     "output_type": "execute_result"
    }
   ],
   "source": [
    "authoritative['OMIMTAGS']"
   ]
  },
  {
   "cell_type": "code",
   "execution_count": 16,
   "metadata": {},
   "outputs": [
    {
     "data": {
      "text/plain": [
       "(62166, 32)"
      ]
     },
     "execution_count": 16,
     "metadata": {},
     "output_type": "execute_result"
    }
   ],
   "source": [
    "authoritative.shape"
   ]
  },
  {
   "cell_type": "code",
   "execution_count": 17,
   "metadata": {},
   "outputs": [],
   "source": [
    "onlyomim = authoritative[authoritative['OMIMTAGS'] != \"NA\"]"
   ]
  },
  {
   "cell_type": "code",
   "execution_count": 18,
   "metadata": {},
   "outputs": [
    {
     "data": {
      "text/plain": [
       "(38590, 32)"
      ]
     },
     "execution_count": 18,
     "metadata": {},
     "output_type": "execute_result"
    }
   ],
   "source": [
    "onlyomim.shape"
   ]
  },
  {
   "cell_type": "code",
   "execution_count": 19,
   "metadata": {},
   "outputs": [
    {
     "data": {
      "text/plain": [
       "62.075732715632334"
      ]
     },
     "execution_count": 19,
     "metadata": {},
     "output_type": "execute_result"
    }
   ],
   "source": [
    "# percentage data sliced away by not using OMIM tags\n",
    "(onlyomim.shape[0]/authoritative.shape[0])*100"
   ]
  },
  {
   "cell_type": "markdown",
   "metadata": {},
   "source": [
    "## ...⇧\n",
    "> **38K rows contain OMIM tags**: 62% of total \"Expert Reviewed, No Conflict\" data\n",
    "\n",
    "+ ...that's a lot of data loss, because it doesn't share a tag.\n",
    "+ We may want to come back and try to match by disease ddescription instead of just the OMIM TAG"
   ]
  },
  {
   "cell_type": "code",
   "execution_count": 20,
   "metadata": {},
   "outputs": [
    {
     "name": "stderr",
     "output_type": "stream",
     "text": [
      "/home/xavier/miniconda3/lib/python3.6/site-packages/ipykernel_launcher.py:2: SettingWithCopyWarning: \n",
      "A value is trying to be set on a copy of a slice from a DataFrame.\n",
      "Try using .loc[row_indexer,col_indexer] = value instead\n",
      "\n",
      "See the caveats in the documentation: http://pandas.pydata.org/pandas-docs/stable/indexing.html#indexing-view-versus-copy\n",
      "  \n"
     ]
    }
   ],
   "source": [
    "# create a column that counts the number of matches\n",
    "onlyomim[\"MATCHCOUNT\"]=onlyomim[\"OMIMTAGS\"].apply(lambda x: len(x))"
   ]
  },
  {
   "cell_type": "code",
   "execution_count": 21,
   "metadata": {},
   "outputs": [
    {
     "data": {
      "text/plain": [
       "MATCHCOUNT\n",
       "1     31562\n",
       "2      4628\n",
       "3      1164\n",
       "4       383\n",
       "5       688\n",
       "6        57\n",
       "7        48\n",
       "8        21\n",
       "9         9\n",
       "10       21\n",
       "11        4\n",
       "12        1\n",
       "13        2\n",
       "14        1\n",
       "19        1\n",
       "dtype: int64"
      ]
     },
     "execution_count": 21,
     "metadata": {},
     "output_type": "execute_result"
    }
   ],
   "source": [
    "# Table of the number of matches\n",
    "onlyomim.groupby('MATCHCOUNT').size()"
   ]
  },
  {
   "cell_type": "markdown",
   "metadata": {},
   "source": [
    "## ...⇧\n",
    "> **Signifigant number have multiple OMIM tags**: \n",
    "\n",
    "+ 12% of rows have 2 OMIM tags\n",
    "+ 3% of rows have 3 OMIM tags\n"
   ]
  },
  {
   "cell_type": "code",
   "execution_count": 22,
   "metadata": {},
   "outputs": [
    {
     "data": {
      "text/plain": [
       "3.0163254729204456"
      ]
     },
     "execution_count": 22,
     "metadata": {},
     "output_type": "execute_result"
    }
   ],
   "source": [
    "(1164/38590)*100"
   ]
  },
  {
   "cell_type": "code",
   "execution_count": 23,
   "metadata": {},
   "outputs": [
    {
     "data": {
      "text/plain": [
       "11.992744234257579"
      ]
     },
     "execution_count": 23,
     "metadata": {},
     "output_type": "execute_result"
    }
   ],
   "source": [
    "(4628/38590)*100"
   ]
  },
  {
   "cell_type": "code",
   "execution_count": 24,
   "metadata": {},
   "outputs": [],
   "source": [
    "# write 1000 rows to a swapfile\n",
    "onlyomim.iloc[0:999].to_csv(datadir + 'onlyomim_matches-1000.csv')"
   ]
  },
  {
   "cell_type": "markdown",
   "metadata": {},
   "source": [
    "# Not sure how to handle multiple OMIM matches to the ACMG diseases.\n",
    "\n",
    "+ Let's not overthink it. \n",
    "+ What really matters is how many OMIM tags match...NOT how many OMIM tags exist.\n",
    "## ...⇧\n",
    "> **Let's match the OMIM tags against the ACMG Disease Names**: \n",
    "\n",
    "+ Working with [ACMG Recommendations for Reporting of Incidental Findings in Clinical Exome and Genome Sequencing](https://www.ncbi.nlm.nih.gov/clinvar/docs/acmg/)\n",
    "+ "
   ]
  },
  {
   "cell_type": "code",
   "execution_count": 165,
   "metadata": {},
   "outputs": [],
   "source": [
    "acmg = pd.read_csv(datadir + 'ACMG_Conditions_OMIM.csv')"
   ]
  },
  {
   "cell_type": "code",
   "execution_count": 166,
   "metadata": {},
   "outputs": [
    {
     "data": {
      "text/plain": [
       "(59, 2)"
      ]
     },
     "execution_count": 166,
     "metadata": {},
     "output_type": "execute_result"
    }
   ],
   "source": [
    "acmg.shape"
   ]
  },
  {
   "cell_type": "code",
   "execution_count": 167,
   "metadata": {},
   "outputs": [
    {
     "data": {
      "text/plain": [
       "59"
      ]
     },
     "execution_count": 167,
     "metadata": {},
     "output_type": "execute_result"
    }
   ],
   "source": [
    "len(set(acmg.DISEASE))"
   ]
  },
  {
   "cell_type": "markdown",
   "metadata": {},
   "source": [
    "## ...⇧\n",
    "> **59 Unique Disease names listed**: \n",
    "\n",
    "+ 59 rows in the file, 59  unique disease names"
   ]
  },
  {
   "cell_type": "code",
   "execution_count": 217,
   "metadata": {},
   "outputs": [],
   "source": [
    "acmgtags = acmg.TAGS.tolist()"
   ]
  },
  {
   "cell_type": "code",
   "execution_count": 218,
   "metadata": {
    "scrolled": true
   },
   "outputs": [
    {
     "data": {
      "text/plain": [
       "[175100,\n",
       " 132900,\n",
       " 611788,\n",
       " 604400,\n",
       " 607450,\n",
       " 609040,\n",
       " 610193,\n",
       " 610476,\n",
       " 604370,\n",
       " 612555,\n",
       " 601144,\n",
       " 604772,\n",
       " 115200,\n",
       " 130050,\n",
       " 301500,\n",
       " 143890,\n",
       " 192600,\n",
       " 115196,\n",
       " 115197,\n",
       " 600858,\n",
       " 613690,\n",
       " 608751,\n",
       " 608758,\n",
       " 612098,\n",
       " 155240,\n",
       " 603776,\n",
       " 174900,\n",
       " 601494,\n",
       " 151623,\n",
       " 609192,\n",
       " 610168,\n",
       " 608967,\n",
       " 610380,\n",
       " 613795,\n",
       " 192500,\n",
       " 613688,\n",
       " 603830,\n",
       " 120435,\n",
       " 145600,\n",
       " 154700,\n",
       " 131100,\n",
       " 171400,\n",
       " 162300,\n",
       " 608456,\n",
       " 101000,\n",
       " 311250,\n",
       " 168000,\n",
       " 601650,\n",
       " 605373,\n",
       " 115310,\n",
       " 175200,\n",
       " 132600,\n",
       " 153480,\n",
       " 180200,\n",
       " 191100,\n",
       " 613254,\n",
       " 193300,\n",
       " 194070,\n",
       " 277900]"
      ]
     },
     "execution_count": 218,
     "metadata": {},
     "output_type": "execute_result"
    }
   ],
   "source": [
    "acmgtags"
   ]
  },
  {
   "cell_type": "code",
   "execution_count": 187,
   "metadata": {
    "scrolled": true
   },
   "outputs": [],
   "source": [
    "# set(acmgtags)"
   ]
  },
  {
   "cell_type": "code",
   "execution_count": 201,
   "metadata": {},
   "outputs": [],
   "source": [
    "slice = onlyomim.iloc[80:90]"
   ]
  },
  {
   "cell_type": "code",
   "execution_count": 206,
   "metadata": {},
   "outputs": [
    {
     "data": {
      "text/plain": [
       "1386    [612285]\n",
       "Name: OMIMTAGS, dtype: object"
      ]
     },
     "execution_count": 206,
     "metadata": {},
     "output_type": "execute_result"
    }
   ],
   "source": [
    "slice.OMIMTAGS.iloc[0:1]"
   ]
  },
  {
   "cell_type": "code",
   "execution_count": 203,
   "metadata": {},
   "outputs": [],
   "source": [
    "# tags = pd.Series(slice.OMIMTAGS).reset_index(drop=True)\n",
    "# tags"
   ]
  },
  {
   "cell_type": "code",
   "execution_count": 207,
   "metadata": {},
   "outputs": [
    {
     "name": "stdout",
     "output_type": "stream",
     "text": [
      "1\n",
      "1\n",
      "1\n",
      "2\n",
      "1\n",
      "1\n",
      "1\n",
      "1\n",
      "1\n",
      "1\n"
     ]
    }
   ],
   "source": [
    "for item in slice.OMIMTAGS:\n",
    "    print (len(item))"
   ]
  },
  {
   "cell_type": "code",
   "execution_count": 213,
   "metadata": {},
   "outputs": [
    {
     "data": {
      "text/plain": [
       "[612285, 100100, 100111]"
      ]
     },
     "execution_count": 213,
     "metadata": {},
     "output_type": "execute_result"
    }
   ],
   "source": [
    "mylist = [612285,100100,100111]\n",
    "mylist"
   ]
  },
  {
   "cell_type": "code",
   "execution_count": 215,
   "metadata": {},
   "outputs": [
    {
     "name": "stderr",
     "output_type": "stream",
     "text": [
      "/home/xavier/miniconda3/lib/python3.6/site-packages/ipykernel_launcher.py:1: SettingWithCopyWarning: \n",
      "A value is trying to be set on a copy of a slice from a DataFrame.\n",
      "Try using .loc[row_indexer,col_indexer] = value instead\n",
      "\n",
      "See the caveats in the documentation: http://pandas.pydata.org/pandas-docs/stable/indexing.html#indexing-view-versus-copy\n",
      "  \"\"\"Entry point for launching an IPython kernel.\n"
     ]
    }
   ],
   "source": [
    "slice[\"NEW\"] = slice.OMIMTAGS.apply(lambda x: any(item in x for item in mylist))\n",
    "# slice[\"NEW\"] = slice.OMIMTAGS.apply(lambda x: any(item in x for item in acmgtags))"
   ]
  },
  {
   "cell_type": "code",
   "execution_count": 216,
   "metadata": {},
   "outputs": [
    {
     "data": {
      "text/plain": [
       "1386    False\n",
       "1389    False\n",
       "1484    False\n",
       "1490    False\n",
       "1501    False\n",
       "1503    False\n",
       "1506    False\n",
       "1510    False\n",
       "1514    False\n",
       "1518    False\n",
       "Name: NEW, dtype: bool"
      ]
     },
     "execution_count": 216,
     "metadata": {},
     "output_type": "execute_result"
    }
   ],
   "source": [
    "slice.NEW"
   ]
  },
  {
   "cell_type": "code",
   "execution_count": 179,
   "metadata": {},
   "outputs": [],
   "source": [
    "def matcher (x):\n",
    "    for item in x:\n",
    "        print (set(x))\n",
    "        print (set(mylist))\n",
    "        return set(x).intersection(mylist)        "
   ]
  },
  {
   "cell_type": "code",
   "execution_count": 180,
   "metadata": {},
   "outputs": [
    {
     "data": {
      "text/plain": [
       "0     175100\n",
       "1     132900\n",
       "2     611788\n",
       "3     604400\n",
       "4     607450\n",
       "5     609040\n",
       "6     610193\n",
       "7     610476\n",
       "8     604370\n",
       "9     612555\n",
       "10    601144\n",
       "11    604772\n",
       "12    115200\n",
       "13    130050\n",
       "14    301500\n",
       "15    143890\n",
       "16    192600\n",
       "17    115196\n",
       "18    115197\n",
       "19    600858\n",
       "20    613690\n",
       "21    608751\n",
       "22    608758\n",
       "23    612098\n",
       "24    155240\n",
       "25    603776\n",
       "26    174900\n",
       "27    601494\n",
       "28    151623\n",
       "29    609192\n",
       "30    610168\n",
       "31    608967\n",
       "32    610380\n",
       "33    613795\n",
       "34    192500\n",
       "35    613688\n",
       "36    603830\n",
       "37    120435\n",
       "38    145600\n",
       "39    154700\n",
       "40    131100\n",
       "41    171400\n",
       "42    162300\n",
       "43    608456\n",
       "44    101000\n",
       "45    311250\n",
       "46    168000\n",
       "47    601650\n",
       "48    605373\n",
       "49    115310\n",
       "50    175200\n",
       "51    132600\n",
       "52    153480\n",
       "53    180200\n",
       "54    191100\n",
       "55    613254\n",
       "56    193300\n",
       "57    194070\n",
       "58    277900\n",
       "Name: TAGS, dtype: object"
      ]
     },
     "execution_count": 180,
     "metadata": {},
     "output_type": "execute_result"
    }
   ],
   "source": [
    "acmgtags"
   ]
  },
  {
   "cell_type": "code",
   "execution_count": 128,
   "metadata": {},
   "outputs": [
    {
     "name": "stdout",
     "output_type": "stream",
     "text": [
      "{'612285'}\n",
      "{'100100', '001001', '612285'}\n",
      "{'216360'}\n",
      "{'100100', '001001', '612285'}\n",
      "{'175100'}\n",
      "{'100100', '001001', '612285'}\n",
      "{'175100', '114500'}\n",
      "{'100100', '001001', '612285'}\n",
      "{'175100', '114500'}\n",
      "{'100100', '001001', '612285'}\n",
      "{'175100'}\n",
      "{'100100', '001001', '612285'}\n",
      "{'175100'}\n",
      "{'100100', '001001', '612285'}\n",
      "{'175100'}\n",
      "{'100100', '001001', '612285'}\n",
      "{'175100'}\n",
      "{'100100', '001001', '612285'}\n",
      "{'175100'}\n",
      "{'100100', '001001', '612285'}\n",
      "{'175100'}\n",
      "{'100100', '001001', '612285'}\n"
     ]
    },
    {
     "name": "stderr",
     "output_type": "stream",
     "text": [
      "/home/xavier/miniconda3/lib/python3.6/site-packages/ipykernel_launcher.py:1: SettingWithCopyWarning: \n",
      "A value is trying to be set on a copy of a slice from a DataFrame.\n",
      "Try using .loc[row_indexer,col_indexer] = value instead\n",
      "\n",
      "See the caveats in the documentation: http://pandas.pydata.org/pandas-docs/stable/indexing.html#indexing-view-versus-copy\n",
      "  \"\"\"Entry point for launching an IPython kernel.\n"
     ]
    }
   ],
   "source": []
  },
  {
   "cell_type": "code",
   "execution_count": 122,
   "metadata": {},
   "outputs": [
    {
     "data": {
      "text/plain": [
       "1386    None\n",
       "1389    None\n",
       "1484    None\n",
       "1490    None\n",
       "1501    None\n",
       "1503    None\n",
       "1506    None\n",
       "1510    None\n",
       "1514    None\n",
       "1518    None\n",
       "Name: NEW, dtype: object"
      ]
     },
     "execution_count": 122,
     "metadata": {},
     "output_type": "execute_result"
    }
   ],
   "source": [
    "slice.NEW"
   ]
  },
  {
   "cell_type": "code",
   "execution_count": null,
   "metadata": {},
   "outputs": [],
   "source": []
  },
  {
   "cell_type": "code",
   "execution_count": null,
   "metadata": {},
   "outputs": [],
   "source": []
  },
  {
   "cell_type": "code",
   "execution_count": null,
   "metadata": {},
   "outputs": [],
   "source": []
  },
  {
   "cell_type": "code",
   "execution_count": null,
   "metadata": {},
   "outputs": [],
   "source": []
  },
  {
   "cell_type": "code",
   "execution_count": null,
   "metadata": {},
   "outputs": [],
   "source": []
  },
  {
   "cell_type": "markdown",
   "metadata": {},
   "source": [
    "## NOTES FROM ALICE\n",
    "\n",
    "+ Expert Panel, Practice Guideline, multiple submitters, no conflict\n",
    "+ Check out information on drug response\n",
    "    + Add  Drug Response (clniincial signifigance > Drug Response)\n",
    "+ Assembly\n",
    "    + Only Keep 38\n",
    "\n",
    "\n"
   ]
  },
  {
   "cell_type": "code",
   "execution_count": null,
   "metadata": {},
   "outputs": [],
   "source": []
  }
 ],
 "metadata": {
  "kernelspec": {
   "display_name": "Python 3",
   "language": "python",
   "name": "python3"
  },
  "language_info": {
   "codemirror_mode": {
    "name": "ipython",
    "version": 3
   },
   "file_extension": ".py",
   "mimetype": "text/x-python",
   "name": "python",
   "nbconvert_exporter": "python",
   "pygments_lexer": "ipython3",
   "version": "3.6.4"
  }
 },
 "nbformat": 4,
 "nbformat_minor": 2
}
