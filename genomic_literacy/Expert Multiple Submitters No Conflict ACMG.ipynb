{
 "cells": [
  {
   "cell_type": "code",
   "execution_count": 22,
   "metadata": {},
   "outputs": [],
   "source": [
    "import pandas as pd\n",
    "import re"
   ]
  },
  {
   "cell_type": "code",
   "execution_count": 13,
   "metadata": {},
   "outputs": [],
   "source": [
    "datadir = '/home/xavier/data/'\n",
    "clinvar_file = 'variant_summary_02.txt' # Updated 5/21/2018"
   ]
  },
  {
   "cell_type": "markdown",
   "metadata": {},
   "source": [
    "# First thing, download and survey the 'Clinvar' data\n",
    "\n",
    "## ➜ ClinVar is a freely accessible, public archive of reports of the relationships among human variations and phenotypes, with supporting evidence.\n",
    "\n",
    "+ A phenotype results from the expression of an organism's genetic code, its genotype, as well as the influence of environmental factors and the interactions between the two. [Wikipedia](https://en.wikipedia.org/wiki/Phenotype)\n",
    "+ File is from **[THIS FTP DIRECTORY](ftp://ftp.ncbi.nlm.nih.gov/pub/clinvar/tab_delimited/)** (which is updated monthly)\n",
    "+ ** Download this file [Variant_summary.txt](ftp://ftp.ncbi.nlm.nih.gov/pub/clinvar/tab_delimited/variant_summary.txt.gz)** which is a 809K row dataset listing "
   ]
  },
  {
   "cell_type": "code",
   "execution_count": 3,
   "metadata": {},
   "outputs": [
    {
     "name": "stderr",
     "output_type": "stream",
     "text": [
      "/home/xavier/miniconda3/lib/python3.6/site-packages/IPython/core/interactiveshell.py:2785: DtypeWarning: Columns (18) have mixed types. Specify dtype option on import or set low_memory=False.\n",
      "  interactivity=interactivity, compiler=compiler, result=result)\n"
     ]
    }
   ],
   "source": [
    "clinvar = pd.read_csv(datadir + clinvar_file, sep='\\t', lineterminator='\\n')"
   ]
  },
  {
   "cell_type": "code",
   "execution_count": 12,
   "metadata": {},
   "outputs": [
    {
     "data": {
      "text/plain": [
       "(811417, 31)"
      ]
     },
     "execution_count": 12,
     "metadata": {},
     "output_type": "execute_result"
    }
   ],
   "source": [
    "# count the rows of data\n",
    "clinvar.shape"
   ]
  },
  {
   "cell_type": "markdown",
   "metadata": {},
   "source": [
    "## ...⇧\n",
    "> **811K Rows of data:** The Variant Summary updated on 5/21 is 2K rows longer than the previous\n",
    "\n",
    "+ Previous was 809K rows in this dataset.\n",
    "\n",
    "- - -"
   ]
  },
  {
   "cell_type": "code",
   "execution_count": 8,
   "metadata": {
    "scrolled": false
   },
   "outputs": [
    {
     "data": {
      "text/plain": [
       "Assembly\n",
       "GRCh37    397447\n",
       "GRCh38    389089\n",
       "NCBI36     19545\n",
       "dtype: int64"
      ]
     },
     "execution_count": 8,
     "metadata": {},
     "output_type": "execute_result"
    }
   ],
   "source": [
    "# What are the Reference Genomes in this data?\n",
    "clinvar.groupby('Assembly').size()"
   ]
  },
  {
   "cell_type": "code",
   "execution_count": 6,
   "metadata": {},
   "outputs": [
    {
     "data": {
      "text/plain": [
       "806081"
      ]
     },
     "execution_count": 6,
     "metadata": {},
     "output_type": "execute_result"
    }
   ],
   "source": [
    "397447 + 389089 + 19545"
   ]
  },
  {
   "cell_type": "markdown",
   "metadata": {},
   "source": [
    "## ...⇧\n",
    "> **806K Rows of \"Reference Genome\" data:** This is an anomaly!!\n",
    "\n",
    "+ Data has **811K** rows\n",
    "+ Yet the Assembly counts **only 806K** rows"
   ]
  },
  {
   "cell_type": "code",
   "execution_count": 7,
   "metadata": {
    "scrolled": true
   },
   "outputs": [
    {
     "data": {
      "text/plain": [
       "0         GRCh37\n",
       "1         GRCh38\n",
       "2         GRCh37\n",
       "3         GRCh38\n",
       "4         GRCh37\n",
       "5         GRCh38\n",
       "6         GRCh37\n",
       "7         GRCh38\n",
       "8         GRCh37\n",
       "9         GRCh38\n",
       "10        GRCh37\n",
       "11        GRCh38\n",
       "12        NCBI36\n",
       "13        GRCh37\n",
       "14        GRCh38\n",
       "15        GRCh38\n",
       "16        GRCh37\n",
       "17        GRCh37\n",
       "18        GRCh38\n",
       "19        GRCh37\n",
       "20        GRCh38\n",
       "21        GRCh37\n",
       "22        GRCh38\n",
       "23        GRCh37\n",
       "24        GRCh38\n",
       "25        GRCh37\n",
       "26        GRCh38\n",
       "27        GRCh37\n",
       "28        GRCh38\n",
       "29        GRCh37\n",
       "           ...  \n",
       "811387    GRCh38\n",
       "811388    GRCh37\n",
       "811389    GRCh38\n",
       "811390    GRCh38\n",
       "811391    GRCh37\n",
       "811392    GRCh37\n",
       "811393    GRCh38\n",
       "811394    GRCh37\n",
       "811395    GRCh38\n",
       "811396    GRCh38\n",
       "811397    GRCh37\n",
       "811398    GRCh38\n",
       "811399    GRCh37\n",
       "811400    GRCh38\n",
       "811401    GRCh37\n",
       "811402    GRCh37\n",
       "811403    GRCh38\n",
       "811404    GRCh38\n",
       "811405    GRCh37\n",
       "811406    GRCh38\n",
       "811407    GRCh37\n",
       "811408    GRCh38\n",
       "811409    GRCh37\n",
       "811410       NaN\n",
       "811411       NaN\n",
       "811412       NaN\n",
       "811413       NaN\n",
       "811414       NaN\n",
       "811415       NaN\n",
       "811416       NaN\n",
       "Name: Assembly, Length: 811417, dtype: object"
      ]
     },
     "execution_count": 7,
     "metadata": {},
     "output_type": "execute_result"
    }
   ],
   "source": [
    "clinvar.Assembly"
   ]
  },
  {
   "cell_type": "markdown",
   "metadata": {},
   "source": [
    "## ...⇧\n",
    "> **~5K Rows of \"Reference Genome\" are neither 36, 37, or 38:**\n",
    "\n",
    "+ For example, the NaN values in the last few rows listed above.\n",
    "+ So will only work with those explicitly referenced as Human Reference Genome #38"
   ]
  },
  {
   "cell_type": "code",
   "execution_count": 11,
   "metadata": {
    "scrolled": true
   },
   "outputs": [
    {
     "data": {
      "text/plain": [
       "(389089, 31)"
      ]
     },
     "execution_count": 11,
     "metadata": {},
     "output_type": "execute_result"
    }
   ],
   "source": [
    "# Work with Human Reference Genome #38\n",
    "latest = clinvar[clinvar['Assembly'] == 'GRCh38']\n",
    "latest.shape"
   ]
  },
  {
   "cell_type": "markdown",
   "metadata": {},
   "source": [
    "## ...⇧\n",
    "\n",
    "> **389K Unfiltered data for Reference Genome #38**"
   ]
  },
  {
   "cell_type": "markdown",
   "metadata": {},
   "source": [
    "- - -\n",
    "\n",
    "## Now let's cross-reference this data using other tools\n",
    "\n",
    "+ The [ClinVar Advanced Search Builder](https://www.ncbi.nlm.nih.gov/clinvar/advanced/) allows you to slice Clinvar data using custom variables\n",
    "+ We're interested in the most authoritative data.\n",
    "\n",
    "> Let's start with \"multiple submitters, no conflict.\" Should be **~53K rows**\n",
    "\n",
    "![Should be ~ 53K rows](https://i.imgur.com/2cmVd4jl.png)\n",
    "\n",
    "\n",
    "- - -"
   ]
  },
  {
   "cell_type": "code",
   "execution_count": 15,
   "metadata": {},
   "outputs": [
    {
     "data": {
      "text/plain": [
       "ReviewStatus\n",
       "criteria provided, conflicting interpretations           18415\n",
       "criteria provided, multiple submitters, no conflicts     52969\n",
       "criteria provided, single submitter                     249069\n",
       "no assertion criteria provided                           48076\n",
       "no assertion provided                                    10707\n",
       "no interpretation for the single variant                   656\n",
       "practice guideline                                          23\n",
       "reviewed by expert panel                                  9174\n",
       "dtype: int64"
      ]
     },
     "execution_count": 15,
     "metadata": {},
     "output_type": "execute_result"
    }
   ],
   "source": [
    "# Let's double check some stats on this dataframe:\n",
    "latest.groupby('ReviewStatus').size()\n"
   ]
  },
  {
   "cell_type": "markdown",
   "metadata": {},
   "source": [
    "## ...⇧\n",
    "\n",
    "> **Matching up pretty well**\n",
    "\n",
    "+ Discrepancies of 'No Conflicts and 'Reviewed by Experts' can be explained by the NaN values which we have already filtered out.\n",
    "\n",
    "![Matchup](https://i.imgur.com/pswXi9Zl.jpg)"
   ]
  },
  {
   "cell_type": "code",
   "execution_count": 17,
   "metadata": {},
   "outputs": [
    {
     "data": {
      "text/plain": [
       "(62166, 31)"
      ]
     },
     "execution_count": 17,
     "metadata": {},
     "output_type": "execute_result"
    }
   ],
   "source": [
    "# Further filter the dataset down by these 'authoritative' flags\n",
    "# from the 'Review Status' column\n",
    "\n",
    "authoritative = latest[\n",
    "    (latest['ReviewStatus'] == 'criteria provided, multiple submitters, no conflicts') | \n",
    "    (latest['ReviewStatus'] == 'practice guideline') | \n",
    "    (latest['ReviewStatus'] == 'reviewed by expert panel') \n",
    "]\n",
    "authoritative.shape"
   ]
  },
  {
   "cell_type": "code",
   "execution_count": 19,
   "metadata": {},
   "outputs": [
    {
     "data": {
      "text/plain": [
       "62166"
      ]
     },
     "execution_count": 19,
     "metadata": {},
     "output_type": "execute_result"
    }
   ],
   "source": [
    "52969 + 23 + 9174"
   ]
  },
  {
   "cell_type": "markdown",
   "metadata": {},
   "source": [
    "## ...⇧\n",
    "\n",
    "> **62K Rows of 'Authoritative' reviews**\n",
    "\n",
    "+ So that means that of the original **811K** rows of data, on **62K** rows of data are 'meaningful...\n",
    "+ Only **7.6%** of this data is relevant, based on our filters !!\n",
    "\n",
    "- - -\n",
    "\n",
    "# Idea for marketing\n",
    "\n",
    "> Show the rise in 'authoritative' data on clinical signifigance by applying this exercise back in time on retrospective datasets. This would show the rise in authoritative data over time. Nice little marketing tidbit.\n",
    "\n",
    "![marketing ideas](https://i.imgur.com/gshsM2Z.png?1)"
   ]
  },
  {
   "cell_type": "markdown",
   "metadata": {},
   "source": [
    "## Time to start matching the OMIM tags\n",
    "\n",
    "+ First order is to filter for only OMIM tags into a new column"
   ]
  },
  {
   "cell_type": "code",
   "execution_count": 34,
   "metadata": {},
   "outputs": [],
   "source": [
    "# function to write OMIM TAG MATCHES TO A NEW COL\n",
    "def omim_matches (x):\n",
    "    # Find anything that has an OMIM tag, from 1 to 6 numerals long\n",
    "    res = re.findall(r\"(OMIM:\\d{1,6})\",x)\n",
    "    if res:\n",
    "#         print(res)\n",
    "         return res\n",
    "    else:\n",
    "#         print(\"NA\")\n",
    "         return (\"NA\")"
   ]
  },
  {
   "cell_type": "code",
   "execution_count": 35,
   "metadata": {
    "scrolled": true
   },
   "outputs": [
    {
     "name": "stderr",
     "output_type": "stream",
     "text": [
      "/home/xavier/miniconda3/lib/python3.6/site-packages/ipykernel_launcher.py:1: SettingWithCopyWarning: \n",
      "A value is trying to be set on a copy of a slice from a DataFrame.\n",
      "Try using .loc[row_indexer,col_indexer] = value instead\n",
      "\n",
      "See the caveats in the documentation: http://pandas.pydata.org/pandas-docs/stable/indexing.html#indexing-view-versus-copy\n",
      "  \"\"\"Entry point for launching an IPython kernel.\n"
     ]
    },
    {
     "data": {
      "text/plain": [
       "11                     [OMIM:252010]\n",
       "20        [OMIM:235200, OMIM:612635]\n",
       "57                     [OMIM:613616]\n",
       "70                     [OMIM:606068]\n",
       "72                     [OMIM:606068]\n",
       "74                     [OMIM:606068]\n",
       "105                    [OMIM:613559]\n",
       "107                    [OMIM:614852]\n",
       "184                    [OMIM:275350]\n",
       "223                    [OMIM:236200]\n",
       "227                    [OMIM:236200]\n",
       "229                    [OMIM:236200]\n",
       "233                    [OMIM:236200]\n",
       "239                    [OMIM:236200]\n",
       "241                    [OMIM:236200]\n",
       "246                    [OMIM:236200]\n",
       "252                    [OMIM:236200]\n",
       "254                    [OMIM:236200]\n",
       "380       [OMIM:608091, OMIM:603194]\n",
       "471                               NA\n",
       "517       [OMIM:613172, OMIM:613426]\n",
       "519                    [OMIM:613172]\n",
       "521                    [OMIM:613172]\n",
       "523                    [OMIM:613172]\n",
       "572       [OMIM:193400, OMIM:613554]\n",
       "657                    [OMIM:162200]\n",
       "659                    [OMIM:162200]\n",
       "663                    [OMIM:162200]\n",
       "688       [OMIM:162210, OMIM:162200]\n",
       "691                    [OMIM:162200]\n",
       "                     ...            \n",
       "808067                 [OMIM:605259]\n",
       "808068                 [OMIM:209950]\n",
       "808070                 [OMIM:236200]\n",
       "808073                 [OMIM:600920]\n",
       "808074                 [OMIM:105400]\n",
       "808089                 [OMIM:612067]\n",
       "808094                 [OMIM:607688]\n",
       "808099                 [OMIM:144700]\n",
       "808109                 [OMIM:613135]\n",
       "808110                 [OMIM:613135]\n",
       "808119                 [OMIM:221770]\n",
       "808140                 [OMIM:261100]\n",
       "808146                 [OMIM:143095]\n",
       "808148                 [OMIM:601859]\n",
       "808174                 [OMIM:614944]\n",
       "808176                 [OMIM:278780]\n",
       "808178                 [OMIM:278780]\n",
       "808180                 [OMIM:278780]\n",
       "808192                 [OMIM:604360]\n",
       "808200                 [OMIM:132900]\n",
       "808203                 [OMIM:132900]\n",
       "808205                 [OMIM:132900]\n",
       "808212                 [OMIM:227650]\n",
       "808233                 [OMIM:267750]\n",
       "808235                 [OMIM:105400]\n",
       "808237                 [OMIM:105400]\n",
       "808239                 [OMIM:105400]\n",
       "808242                 [OMIM:607907]\n",
       "808243                 [OMIM:607907]\n",
       "808246                 [OMIM:607907]\n",
       "Name: OMIMTAGS, Length: 62166, dtype: object"
      ]
     },
     "execution_count": 35,
     "metadata": {},
     "output_type": "execute_result"
    }
   ],
   "source": [
    "authoritative['OMIMTAGS'] = authoritative.PhenotypeIDS.apply(omim_matches)\n",
    "authoritative['OMIMTAGS']"
   ]
  },
  {
   "cell_type": "code",
   "execution_count": 36,
   "metadata": {},
   "outputs": [
    {
     "data": {
      "text/plain": [
       "(62166, 33)"
      ]
     },
     "execution_count": 36,
     "metadata": {},
     "output_type": "execute_result"
    }
   ],
   "source": [
    "authoritative.shape"
   ]
  },
  {
   "cell_type": "code",
   "execution_count": 39,
   "metadata": {},
   "outputs": [
    {
     "data": {
      "text/plain": [
       "(38590, 33)"
      ]
     },
     "execution_count": 39,
     "metadata": {},
     "output_type": "execute_result"
    }
   ],
   "source": [
    "onlyomim = authoritative[authoritative['OMIMTAGS'] != \"NA\"]\n",
    "onlyomim.shape"
   ]
  },
  {
   "cell_type": "markdown",
   "metadata": {},
   "source": [
    "## ...⇧\n",
    "> **38K rows contain OMIM tags**: 62% of the expert data\n",
    "\n",
    "+ ...that's a lot of data loss, because it doesn't share a tag.\n",
    "+ We may want to come back and try to match by disease ddescription instead of just the OMIM TAG"
   ]
  },
  {
   "cell_type": "code",
   "execution_count": null,
   "metadata": {},
   "outputs": [],
   "source": []
  },
  {
   "cell_type": "code",
   "execution_count": null,
   "metadata": {},
   "outputs": [],
   "source": []
  },
  {
   "cell_type": "code",
   "execution_count": null,
   "metadata": {},
   "outputs": [],
   "source": []
  },
  {
   "cell_type": "code",
   "execution_count": 51,
   "metadata": {
    "scrolled": true
   },
   "outputs": [
    {
     "name": "stderr",
     "output_type": "stream",
     "text": [
      "/home/xavier/miniconda3/lib/python3.6/site-packages/ipykernel_launcher.py:28: SettingWithCopyWarning: \n",
      "A value is trying to be set on a copy of a slice from a DataFrame\n",
      "\n",
      "See the caveats in the documentation: http://pandas.pydata.org/pandas-docs/stable/indexing.html#indexing-view-versus-copy\n"
     ]
    },
    {
     "data": {
      "text/html": [
       "<div>\n",
       "<style scoped>\n",
       "    .dataframe tbody tr th:only-of-type {\n",
       "        vertical-align: middle;\n",
       "    }\n",
       "\n",
       "    .dataframe tbody tr th {\n",
       "        vertical-align: top;\n",
       "    }\n",
       "\n",
       "    .dataframe thead th {\n",
       "        text-align: right;\n",
       "    }\n",
       "</style>\n",
       "<table border=\"1\" class=\"dataframe\">\n",
       "  <thead>\n",
       "    <tr style=\"text-align: right;\">\n",
       "      <th></th>\n",
       "      <th>Type</th>\n",
       "      <th>Name</th>\n",
       "      <th>GeneID</th>\n",
       "      <th>GeneSymbol</th>\n",
       "      <th>HGNC_ID</th>\n",
       "      <th>ClinicalSignificance</th>\n",
       "      <th>ClinSigSimple</th>\n",
       "      <th>LastEvaluated</th>\n",
       "      <th>PhenotypeIDS</th>\n",
       "      <th>PhenotypeList</th>\n",
       "      <th>OriginSimple</th>\n",
       "      <th>ReviewStatus</th>\n",
       "    </tr>\n",
       "  </thead>\n",
       "  <tbody>\n",
       "    <tr>\n",
       "      <th>31029</th>\n",
       "      <td>single nucleotide variant</td>\n",
       "      <td>COL7A1, IVS3DS, A-G, -2</td>\n",
       "      <td>1294</td>\n",
       "      <td>COL7A1</td>\n",
       "      <td>HGNC:2214</td>\n",
       "      <td>Pathogenic</td>\n",
       "      <td>1</td>\n",
       "      <td>Oct 01, 2006</td>\n",
       "      <td>MedGen:C2673611;MedGen:C1853063</td>\n",
       "      <td>Epidermolysis bullosa dystrophica, autosomal r...</td>\n",
       "      <td>germline</td>\n",
       "      <td>no assertion criteria provided</td>\n",
       "    </tr>\n",
       "    <tr>\n",
       "      <th>31030</th>\n",
       "      <td>single nucleotide variant</td>\n",
       "      <td>COL7A1, 5820G-A</td>\n",
       "      <td>1294</td>\n",
       "      <td>COL7A1</td>\n",
       "      <td>HGNC:2214</td>\n",
       "      <td>Pathogenic</td>\n",
       "      <td>1</td>\n",
       "      <td>Nov 01, 1998</td>\n",
       "      <td>MedGen:C2673611</td>\n",
       "      <td>Epidermolysis bullosa dystrophica, autosomal r...</td>\n",
       "      <td>germline</td>\n",
       "      <td>no assertion criteria provided</td>\n",
       "    </tr>\n",
       "    <tr>\n",
       "      <th>31031</th>\n",
       "      <td>single nucleotide variant</td>\n",
       "      <td>COL7A1, IVS95DS, G-A, -1</td>\n",
       "      <td>1294</td>\n",
       "      <td>COL7A1</td>\n",
       "      <td>HGNC:2214</td>\n",
       "      <td>Pathogenic</td>\n",
       "      <td>1</td>\n",
       "      <td>Oct 01, 2006</td>\n",
       "      <td>MedGen:C2673611;MedGen:C1853063</td>\n",
       "      <td>Epidermolysis bullosa dystrophica, autosomal r...</td>\n",
       "      <td>germline</td>\n",
       "      <td>no assertion criteria provided</td>\n",
       "    </tr>\n",
       "    <tr>\n",
       "      <th>31032</th>\n",
       "      <td>single nucleotide variant</td>\n",
       "      <td>NM_000094.3(COL7A1):c.4039G&gt;C (p.Gly1347Arg)</td>\n",
       "      <td>1294</td>\n",
       "      <td>COL7A1</td>\n",
       "      <td>HGNC:2214</td>\n",
       "      <td>Pathogenic</td>\n",
       "      <td>1</td>\n",
       "      <td>Feb 29, 2016</td>\n",
       "      <td>MedGen:C2673611;MedGen:CN517202</td>\n",
       "      <td>Epidermolysis bullosa dystrophica, autosomal r...</td>\n",
       "      <td>germline</td>\n",
       "      <td>criteria provided, single submitter</td>\n",
       "    </tr>\n",
       "    <tr>\n",
       "      <th>31033</th>\n",
       "      <td>single nucleotide variant</td>\n",
       "      <td>NM_000094.3(COL7A1):c.4039G&gt;C (p.Gly1347Arg)</td>\n",
       "      <td>1294</td>\n",
       "      <td>COL7A1</td>\n",
       "      <td>HGNC:2214</td>\n",
       "      <td>Pathogenic</td>\n",
       "      <td>1</td>\n",
       "      <td>Feb 29, 2016</td>\n",
       "      <td>MedGen:C2673611;MedGen:CN517202</td>\n",
       "      <td>Epidermolysis bullosa dystrophica, autosomal r...</td>\n",
       "      <td>germline</td>\n",
       "      <td>criteria provided, single submitter</td>\n",
       "    </tr>\n",
       "  </tbody>\n",
       "</table>\n",
       "</div>"
      ],
      "text/plain": [
       "                            Type  \\\n",
       "31029  single nucleotide variant   \n",
       "31030  single nucleotide variant   \n",
       "31031  single nucleotide variant   \n",
       "31032  single nucleotide variant   \n",
       "31033  single nucleotide variant   \n",
       "\n",
       "                                               Name  GeneID GeneSymbol  \\\n",
       "31029                       COL7A1, IVS3DS, A-G, -2    1294     COL7A1   \n",
       "31030                               COL7A1, 5820G-A    1294     COL7A1   \n",
       "31031                      COL7A1, IVS95DS, G-A, -1    1294     COL7A1   \n",
       "31032  NM_000094.3(COL7A1):c.4039G>C (p.Gly1347Arg)    1294     COL7A1   \n",
       "31033  NM_000094.3(COL7A1):c.4039G>C (p.Gly1347Arg)    1294     COL7A1   \n",
       "\n",
       "         HGNC_ID ClinicalSignificance  ClinSigSimple LastEvaluated  \\\n",
       "31029  HGNC:2214           Pathogenic              1  Oct 01, 2006   \n",
       "31030  HGNC:2214           Pathogenic              1  Nov 01, 1998   \n",
       "31031  HGNC:2214           Pathogenic              1  Oct 01, 2006   \n",
       "31032  HGNC:2214           Pathogenic              1  Feb 29, 2016   \n",
       "31033  HGNC:2214           Pathogenic              1  Feb 29, 2016   \n",
       "\n",
       "                          PhenotypeIDS  \\\n",
       "31029  MedGen:C2673611;MedGen:C1853063   \n",
       "31030                  MedGen:C2673611   \n",
       "31031  MedGen:C2673611;MedGen:C1853063   \n",
       "31032  MedGen:C2673611;MedGen:CN517202   \n",
       "31033  MedGen:C2673611;MedGen:CN517202   \n",
       "\n",
       "                                           PhenotypeList OriginSimple  \\\n",
       "31029  Epidermolysis bullosa dystrophica, autosomal r...     germline   \n",
       "31030  Epidermolysis bullosa dystrophica, autosomal r...     germline   \n",
       "31031  Epidermolysis bullosa dystrophica, autosomal r...     germline   \n",
       "31032  Epidermolysis bullosa dystrophica, autosomal r...     germline   \n",
       "31033  Epidermolysis bullosa dystrophica, autosomal r...     germline   \n",
       "\n",
       "                              ReviewStatus  \n",
       "31029       no assertion criteria provided  \n",
       "31030       no assertion criteria provided  \n",
       "31031       no assertion criteria provided  \n",
       "31032  criteria provided, single submitter  \n",
       "31033  criteria provided, single submitter  "
      ]
     },
     "execution_count": 51,
     "metadata": {},
     "output_type": "execute_result"
    }
   ],
   "source": [
    "# with a small set of rows, look at a Typical 'raw' row of \n",
    "# data. Trying to understand what a typical cell contains\n",
    "\n",
    "typical = clinvar[clinvar['PhenotypeIDS'].str.contains(\"MedGen:C2673611\", na=False)]\n",
    "\n",
    "# drop columns for a simpler 'preview' of these few rows\n",
    "# (remember, this is a throwaway snapshot, just trying to get a view\n",
    "# of the phenotype data)\n",
    "\n",
    "typical.drop(['#AlleleID',\n",
    "     'RS# (dbSNP)',\n",
    "     'ClinSigSimple',\n",
    "     'nsv/esv (dbVar)',\n",
    "     'RCVaccession',\n",
    "     'Origin',\n",
    "     'Start',\n",
    "     'Stop',    \n",
    "     'Assembly',\n",
    "     'ChromosomeAccession',\n",
    "     'Chromosome',\n",
    "     'ReferenceAllele',\n",
    "     'AlternateAllele',\n",
    "     'Cytogenetic',\n",
    "     'NumberSubmitters',\n",
    "     'Guidelines',\n",
    "     'TestedInGTR',\n",
    "     'OtherIDs',\n",
    "     'SubmitterCategories',\n",
    "     'VariationID'],axis=1,inplace=True)\n",
    "typical"
   ]
  },
  {
   "cell_type": "markdown",
   "metadata": {},
   "source": [
    "## ...⇧\n",
    "> **FINDING:** Looks like a typical cell contains a list of MedGen references\n",
    "\n",
    "+ MedGen:Number\n",
    "+ separated by semicolons"
   ]
  },
  {
   "cell_type": "code",
   "execution_count": 50,
   "metadata": {},
   "outputs": [],
   "source": [
    "# typical.to_csv(datadir + 'typical_clinvar_rows.csv')"
   ]
  },
  {
   "cell_type": "code",
   "execution_count": null,
   "metadata": {},
   "outputs": [],
   "source": []
  },
  {
   "cell_type": "code",
   "execution_count": null,
   "metadata": {},
   "outputs": [],
   "source": []
  },
  {
   "cell_type": "code",
   "execution_count": null,
   "metadata": {},
   "outputs": [],
   "source": []
  },
  {
   "cell_type": "markdown",
   "metadata": {},
   "source": [
    "## NOTES FROM ALICE\n",
    "\n",
    "+ Expert Panel, Practice Guideline, multiple submitters, no conflict\n",
    "+ Check out information on drug response\n",
    "    + Add  Drug Response (clniincial signifigance > Drug Response)\n",
    "+ Assembly\n",
    "    + Only Keep 38\n",
    "\n",
    "\n"
   ]
  },
  {
   "cell_type": "code",
   "execution_count": null,
   "metadata": {},
   "outputs": [],
   "source": []
  }
 ],
 "metadata": {
  "kernelspec": {
   "display_name": "Python 3",
   "language": "python",
   "name": "python3"
  },
  "language_info": {
   "codemirror_mode": {
    "name": "ipython",
    "version": 3
   },
   "file_extension": ".py",
   "mimetype": "text/x-python",
   "name": "python",
   "nbconvert_exporter": "python",
   "pygments_lexer": "ipython3",
   "version": "3.6.4"
  }
 },
 "nbformat": 4,
 "nbformat_minor": 2
}
