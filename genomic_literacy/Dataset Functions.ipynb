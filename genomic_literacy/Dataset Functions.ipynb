{
 "cells": [
  {
   "cell_type": "code",
   "execution_count": 1,
   "metadata": {},
   "outputs": [],
   "source": [
    "import pandas as pd\n",
    "from google.cloud import storage\n",
    "from io import BytesIO\n",
    "import re"
   ]
  },
  {
   "cell_type": "code",
   "execution_count": 2,
   "metadata": {},
   "outputs": [
    {
     "data": {
      "text/plain": [
       "bytes"
      ]
     },
     "execution_count": 2,
     "metadata": {},
     "output_type": "execute_result"
    }
   ],
   "source": [
    "# Instantiates a client\n",
    "storage_client = storage.Client()\n",
    "bucket = storage_client.get_bucket('datacamp-202518.appspot.com')\n",
    "blob = storage.Blob('data/guide/variant_summary.txt', bucket)\n",
    "content = blob.download_as_string()\n",
    "type(content)\n",
    "\n",
    "# datadir = '/home/xavier/data/guide/'\n",
    "# clinvar_file = 'variant_summary.txt'"
   ]
  },
  {
   "cell_type": "markdown",
   "metadata": {},
   "source": [
    "# First thing, download and survey the 'Clinvar' data\n",
    "## ➜ ClinVar is a freely accessible, public archive of reports of the relationships among human variations and phenotypes, with supporting evidence.\n",
    "## We are interested in the Phenotype data.\n",
    "\n",
    "+ A phenotype results from the expression of an organism's genetic code, its genotype, as well as the influence of environmental factors and the interactions between the two. [Wikipedia](https://en.wikipedia.org/wiki/Phenotype)\n",
    "+ from **[THIS FTP DIRECTORY](ftp://ftp.ncbi.nlm.nih.gov/pub/clinvar/tab_delimited/)** (which is updated monthly)\n",
    "+ ** Hosted the file [Variant_summary.txt](ftp://ftp.ncbi.nlm.nih.gov/pub/clinvar/tab_delimited/variant_summary.txt.gz)** (which is a 809K row dataset) on Google Cloud Storage\n",
    "\n"
   ]
  },
  {
   "cell_type": "code",
   "execution_count": 3,
   "metadata": {},
   "outputs": [
    {
     "name": "stderr",
     "output_type": "stream",
     "text": [
      "/home/xavier/miniconda3/lib/python3.6/site-packages/IPython/core/interactiveshell.py:2785: DtypeWarning: Columns (18) have mixed types. Specify dtype option on import or set low_memory=False.\n",
      "  interactivity=interactivity, compiler=compiler, result=result)\n"
     ]
    }
   ],
   "source": [
    "clinvar = pd.read_csv(BytesIO(content), sep='\\t', lineterminator='\\n')"
   ]
  },
  {
   "cell_type": "code",
   "execution_count": 4,
   "metadata": {},
   "outputs": [
    {
     "data": {
      "text/plain": [
       "(809509, 31)"
      ]
     },
     "execution_count": 4,
     "metadata": {},
     "output_type": "execute_result"
    }
   ],
   "source": [
    "# count the rows of data\n",
    "clinvar.shape"
   ]
  },
  {
   "cell_type": "markdown",
   "metadata": {},
   "source": [
    "# This has 809K Rows"
   ]
  },
  {
   "cell_type": "code",
   "execution_count": 6,
   "metadata": {
    "scrolled": true
   },
   "outputs": [
    {
     "data": {
      "text/plain": [
       "['#AlleleID',\n",
       " 'Type',\n",
       " 'Name',\n",
       " 'GeneID',\n",
       " 'GeneSymbol',\n",
       " 'HGNC_ID',\n",
       " 'ClinicalSignificance',\n",
       " 'ClinSigSimple',\n",
       " 'LastEvaluated',\n",
       " 'RS# (dbSNP)',\n",
       " 'nsv/esv (dbVar)',\n",
       " 'RCVaccession',\n",
       " 'PhenotypeIDS',\n",
       " 'PhenotypeList',\n",
       " 'Origin',\n",
       " 'OriginSimple',\n",
       " 'Assembly',\n",
       " 'ChromosomeAccession',\n",
       " 'Chromosome',\n",
       " 'Start',\n",
       " 'Stop',\n",
       " 'ReferenceAllele',\n",
       " 'AlternateAllele',\n",
       " 'Cytogenetic',\n",
       " 'ReviewStatus',\n",
       " 'NumberSubmitters',\n",
       " 'Guidelines',\n",
       " 'TestedInGTR',\n",
       " 'OtherIDs',\n",
       " 'SubmitterCategories',\n",
       " 'VariationID']"
      ]
     },
     "execution_count": 6,
     "metadata": {},
     "output_type": "execute_result"
    }
   ],
   "source": [
    "# Look at the column names in this data\n",
    "list(clinvar)"
   ]
  },
  {
   "cell_type": "markdown",
   "metadata": {},
   "source": [
    "# Let's find all the unique values in the PhenotypeIDS column\n",
    "### Starting with just the Phenotype data"
   ]
  },
  {
   "cell_type": "code",
   "execution_count": 7,
   "metadata": {},
   "outputs": [],
   "source": [
    "# Export the data for messing around with REGEX\n",
    "# datadir = '/home/xavier/data/guide/'\n",
    "# pheno = ['PhenotypeIDS','PhenotypeList']\n",
    "# clinvar.to_csv(datadir + 'pheno-data.csv', columns = pheno)"
   ]
  },
  {
   "cell_type": "code",
   "execution_count": 8,
   "metadata": {},
   "outputs": [],
   "source": [
    "datadir = '/home/xavier/data/guide/'\n",
    "phenos = pd.read_csv(datadir + 'pheno-data.csv')"
   ]
  },
  {
   "cell_type": "code",
   "execution_count": 9,
   "metadata": {},
   "outputs": [
    {
     "data": {
      "text/plain": [
       "(809509, 3)"
      ]
     },
     "execution_count": 9,
     "metadata": {},
     "output_type": "execute_result"
    }
   ],
   "source": [
    "phenos.shape"
   ]
  },
  {
   "cell_type": "code",
   "execution_count": 10,
   "metadata": {
    "scrolled": true
   },
   "outputs": [
    {
     "data": {
      "text/html": [
       "<div>\n",
       "<style scoped>\n",
       "    .dataframe tbody tr th:only-of-type {\n",
       "        vertical-align: middle;\n",
       "    }\n",
       "\n",
       "    .dataframe tbody tr th {\n",
       "        vertical-align: top;\n",
       "    }\n",
       "\n",
       "    .dataframe thead th {\n",
       "        text-align: right;\n",
       "    }\n",
       "</style>\n",
       "<table border=\"1\" class=\"dataframe\">\n",
       "  <thead>\n",
       "    <tr style=\"text-align: right;\">\n",
       "      <th></th>\n",
       "      <th>Unnamed: 0</th>\n",
       "      <th>PhenotypeIDS</th>\n",
       "      <th>PhenotypeList</th>\n",
       "    </tr>\n",
       "  </thead>\n",
       "  <tbody>\n",
       "    <tr>\n",
       "      <th>0</th>\n",
       "      <td>0</td>\n",
       "      <td>MedGen:C3150901,OMIM:613647,Orphanet:ORPHA306511</td>\n",
       "      <td>Spastic paraplegia 48, autosomal recessive</td>\n",
       "    </tr>\n",
       "    <tr>\n",
       "      <th>1</th>\n",
       "      <td>1</td>\n",
       "      <td>MedGen:C3150901,OMIM:613647,Orphanet:ORPHA306511</td>\n",
       "      <td>Spastic paraplegia 48, autosomal recessive</td>\n",
       "    </tr>\n",
       "    <tr>\n",
       "      <th>2</th>\n",
       "      <td>2</td>\n",
       "      <td>MedGen:C3150901,OMIM:613647,Orphanet:ORPHA306511</td>\n",
       "      <td>Spastic paraplegia 48, autosomal recessive</td>\n",
       "    </tr>\n",
       "    <tr>\n",
       "      <th>3</th>\n",
       "      <td>3</td>\n",
       "      <td>MedGen:C3150901,OMIM:613647,Orphanet:ORPHA306511</td>\n",
       "      <td>Spastic paraplegia 48, autosomal recessive</td>\n",
       "    </tr>\n",
       "    <tr>\n",
       "      <th>4</th>\n",
       "      <td>4</td>\n",
       "      <td>MedGen:C0795949,OMIM:251300</td>\n",
       "      <td>Galloway-Mowat syndrome</td>\n",
       "    </tr>\n",
       "    <tr>\n",
       "      <th>5</th>\n",
       "      <td>5</td>\n",
       "      <td>MedGen:C0795949,OMIM:251300</td>\n",
       "      <td>Galloway-Mowat syndrome</td>\n",
       "    </tr>\n",
       "    <tr>\n",
       "      <th>6</th>\n",
       "      <td>6</td>\n",
       "      <td>MedGen:C1838979,OMIM:252010;MedGen:CN517202</td>\n",
       "      <td>Mitochondrial complex I deficiency;not provided</td>\n",
       "    </tr>\n",
       "    <tr>\n",
       "      <th>7</th>\n",
       "      <td>7</td>\n",
       "      <td>MedGen:C1838979,OMIM:252010;MedGen:CN517202</td>\n",
       "      <td>Mitochondrial complex I deficiency;not provided</td>\n",
       "    </tr>\n",
       "    <tr>\n",
       "      <th>8</th>\n",
       "      <td>8</td>\n",
       "      <td>MedGen:C1838979,OMIM:252010</td>\n",
       "      <td>Mitochondrial complex I deficiency</td>\n",
       "    </tr>\n",
       "    <tr>\n",
       "      <th>9</th>\n",
       "      <td>9</td>\n",
       "      <td>MedGen:C1838979,OMIM:252010</td>\n",
       "      <td>Mitochondrial complex I deficiency</td>\n",
       "    </tr>\n",
       "    <tr>\n",
       "      <th>10</th>\n",
       "      <td>10</td>\n",
       "      <td>MeSH:D030342,MedGen:C0950123;MedGen:C1838979,O...</td>\n",
       "      <td>Inborn genetic diseases;Mitochondrial complex ...</td>\n",
       "    </tr>\n",
       "    <tr>\n",
       "      <th>11</th>\n",
       "      <td>11</td>\n",
       "      <td>MeSH:D030342,MedGen:C0950123;MedGen:C1838979,O...</td>\n",
       "      <td>Inborn genetic diseases;Mitochondrial complex ...</td>\n",
       "    </tr>\n",
       "    <tr>\n",
       "      <th>12</th>\n",
       "      <td>12</td>\n",
       "      <td>MedGen:C1838979,OMIM:252010</td>\n",
       "      <td>Mitochondrial complex I deficiency</td>\n",
       "    </tr>\n",
       "    <tr>\n",
       "      <th>13</th>\n",
       "      <td>13</td>\n",
       "      <td>MedGen:C1838979,OMIM:252010</td>\n",
       "      <td>Mitochondrial complex I deficiency</td>\n",
       "    </tr>\n",
       "    <tr>\n",
       "      <th>14</th>\n",
       "      <td>14</td>\n",
       "      <td>MedGen:C1838979,OMIM:252010</td>\n",
       "      <td>Mitochondrial complex I deficiency</td>\n",
       "    </tr>\n",
       "    <tr>\n",
       "      <th>15</th>\n",
       "      <td>15</td>\n",
       "      <td>na</td>\n",
       "      <td>HFE INTRONIC POLYMORPHISM</td>\n",
       "    </tr>\n",
       "    <tr>\n",
       "      <th>16</th>\n",
       "      <td>16</td>\n",
       "      <td>na</td>\n",
       "      <td>HFE INTRONIC POLYMORPHISM</td>\n",
       "    </tr>\n",
       "    <tr>\n",
       "      <th>17</th>\n",
       "      <td>17</td>\n",
       "      <td>na;Human Phenotype Ontology:HP:0000992,MedGen:...</td>\n",
       "      <td>Alzheimer disease, susceptibility to;Cutaneous...</td>\n",
       "    </tr>\n",
       "    <tr>\n",
       "      <th>18</th>\n",
       "      <td>18</td>\n",
       "      <td>na;Human Phenotype Ontology:HP:0000992,MedGen:...</td>\n",
       "      <td>Alzheimer disease, susceptibility to;Cutaneous...</td>\n",
       "    </tr>\n",
       "    <tr>\n",
       "      <th>19</th>\n",
       "      <td>19</td>\n",
       "      <td>MedGen:C3469186,OMIM:235200;MedGen:C0392514,SN...</td>\n",
       "      <td>Hemochromatosis type 1;Hereditary hemochromato...</td>\n",
       "    </tr>\n",
       "    <tr>\n",
       "      <th>20</th>\n",
       "      <td>20</td>\n",
       "      <td>MedGen:C3469186,OMIM:235200;MedGen:C0392514,SN...</td>\n",
       "      <td>Hemochromatosis type 1;Hereditary hemochromato...</td>\n",
       "    </tr>\n",
       "    <tr>\n",
       "      <th>21</th>\n",
       "      <td>21</td>\n",
       "      <td>MedGen:C3469186,OMIM:235200;MedGen:C0392514,SN...</td>\n",
       "      <td>Hemochromatosis type 1;Hereditary hemochromatosis</td>\n",
       "    </tr>\n",
       "    <tr>\n",
       "      <th>22</th>\n",
       "      <td>22</td>\n",
       "      <td>MedGen:C3469186,OMIM:235200;MedGen:C0392514,SN...</td>\n",
       "      <td>Hemochromatosis type 1;Hereditary hemochromatosis</td>\n",
       "    </tr>\n",
       "    <tr>\n",
       "      <th>23</th>\n",
       "      <td>23</td>\n",
       "      <td>MedGen:C3469186,OMIM:235200</td>\n",
       "      <td>Hemochromatosis type 1</td>\n",
       "    </tr>\n",
       "    <tr>\n",
       "      <th>24</th>\n",
       "      <td>24</td>\n",
       "      <td>MedGen:C3469186,OMIM:235200</td>\n",
       "      <td>Hemochromatosis type 1</td>\n",
       "    </tr>\n",
       "    <tr>\n",
       "      <th>25</th>\n",
       "      <td>25</td>\n",
       "      <td>MedGen:C3469186,OMIM:235200</td>\n",
       "      <td>Hemochromatosis type 1</td>\n",
       "    </tr>\n",
       "    <tr>\n",
       "      <th>26</th>\n",
       "      <td>26</td>\n",
       "      <td>MedGen:C3469186,OMIM:235200</td>\n",
       "      <td>Hemochromatosis type 1</td>\n",
       "    </tr>\n",
       "    <tr>\n",
       "      <th>27</th>\n",
       "      <td>27</td>\n",
       "      <td>na</td>\n",
       "      <td>HFE POLYMORPHISM</td>\n",
       "    </tr>\n",
       "    <tr>\n",
       "      <th>28</th>\n",
       "      <td>28</td>\n",
       "      <td>na</td>\n",
       "      <td>HFE POLYMORPHISM</td>\n",
       "    </tr>\n",
       "    <tr>\n",
       "      <th>29</th>\n",
       "      <td>29</td>\n",
       "      <td>na</td>\n",
       "      <td>HFE POLYMORPHISM</td>\n",
       "    </tr>\n",
       "    <tr>\n",
       "      <th>...</th>\n",
       "      <td>...</td>\n",
       "      <td>...</td>\n",
       "      <td>...</td>\n",
       "    </tr>\n",
       "    <tr>\n",
       "      <th>809479</th>\n",
       "      <td>809479</td>\n",
       "      <td>MedGen:C3698541,OMIM:300895,Orphanet:ORPHA293707</td>\n",
       "      <td>Ohdo syndrome, X-linked</td>\n",
       "    </tr>\n",
       "    <tr>\n",
       "      <th>809480</th>\n",
       "      <td>809480</td>\n",
       "      <td>MedGen:C3698541,OMIM:300895,Orphanet:ORPHA293707</td>\n",
       "      <td>Ohdo syndrome, X-linked</td>\n",
       "    </tr>\n",
       "    <tr>\n",
       "      <th>809481</th>\n",
       "      <td>809481</td>\n",
       "      <td>MedGen:C3698541,OMIM:300895,Orphanet:ORPHA293707</td>\n",
       "      <td>Ohdo syndrome, X-linked</td>\n",
       "    </tr>\n",
       "    <tr>\n",
       "      <th>809482</th>\n",
       "      <td>809482</td>\n",
       "      <td>MedGen:C0795889,OMIM:300523,Orphanet:ORPHA59</td>\n",
       "      <td>Allan-Herndon-Dudley syndrome</td>\n",
       "    </tr>\n",
       "    <tr>\n",
       "      <th>809483</th>\n",
       "      <td>809483</td>\n",
       "      <td>MedGen:C0795889,OMIM:300523,Orphanet:ORPHA59</td>\n",
       "      <td>Allan-Herndon-Dudley syndrome</td>\n",
       "    </tr>\n",
       "    <tr>\n",
       "      <th>809484</th>\n",
       "      <td>809484</td>\n",
       "      <td>MedGen:C0795889,OMIM:300523,Orphanet:ORPHA59</td>\n",
       "      <td>Allan-Herndon-Dudley syndrome</td>\n",
       "    </tr>\n",
       "    <tr>\n",
       "      <th>809485</th>\n",
       "      <td>809485</td>\n",
       "      <td>MedGen:C0795889,OMIM:300523,Orphanet:ORPHA59</td>\n",
       "      <td>Allan-Herndon-Dudley syndrome</td>\n",
       "    </tr>\n",
       "    <tr>\n",
       "      <th>809486</th>\n",
       "      <td>809486</td>\n",
       "      <td>MedGen:C0022716,OMIM:309400,Orphanet:ORPHA565,...</td>\n",
       "      <td>Menkes kinky-hair syndrome</td>\n",
       "    </tr>\n",
       "    <tr>\n",
       "      <th>809487</th>\n",
       "      <td>809487</td>\n",
       "      <td>MedGen:C0022716,OMIM:309400,Orphanet:ORPHA565,...</td>\n",
       "      <td>Menkes kinky-hair syndrome</td>\n",
       "    </tr>\n",
       "    <tr>\n",
       "      <th>809488</th>\n",
       "      <td>809488</td>\n",
       "      <td>MedGen:C2749020,OMIM:300803</td>\n",
       "      <td>ZNF711-Related X-linked Mental Retardation</td>\n",
       "    </tr>\n",
       "    <tr>\n",
       "      <th>809489</th>\n",
       "      <td>809489</td>\n",
       "      <td>MedGen:C2749020,OMIM:300803</td>\n",
       "      <td>ZNF711-Related X-linked Mental Retardation</td>\n",
       "    </tr>\n",
       "    <tr>\n",
       "      <th>809490</th>\n",
       "      <td>809490</td>\n",
       "      <td>MedGen:CN169374</td>\n",
       "      <td>not specified</td>\n",
       "    </tr>\n",
       "    <tr>\n",
       "      <th>809491</th>\n",
       "      <td>809491</td>\n",
       "      <td>MedGen:CN169374</td>\n",
       "      <td>not specified</td>\n",
       "    </tr>\n",
       "    <tr>\n",
       "      <th>809492</th>\n",
       "      <td>809492</td>\n",
       "      <td>MedGen:CN417140,OMIM:617641</td>\n",
       "      <td>CONGENITAL ANOMALIES OF KIDNEY AND URINARY TRA...</td>\n",
       "    </tr>\n",
       "    <tr>\n",
       "      <th>809493</th>\n",
       "      <td>809493</td>\n",
       "      <td>MedGen:CN417140,OMIM:617641</td>\n",
       "      <td>CONGENITAL ANOMALIES OF KIDNEY AND URINARY TRA...</td>\n",
       "    </tr>\n",
       "    <tr>\n",
       "      <th>809494</th>\n",
       "      <td>809494</td>\n",
       "      <td>MedGen:CN417140,OMIM:617641</td>\n",
       "      <td>CONGENITAL ANOMALIES OF KIDNEY AND URINARY TRA...</td>\n",
       "    </tr>\n",
       "    <tr>\n",
       "      <th>809495</th>\n",
       "      <td>809495</td>\n",
       "      <td>MedGen:CN417140,OMIM:617641</td>\n",
       "      <td>CONGENITAL ANOMALIES OF KIDNEY AND URINARY TRA...</td>\n",
       "    </tr>\n",
       "    <tr>\n",
       "      <th>809496</th>\n",
       "      <td>809496</td>\n",
       "      <td>MedGen:CN417140,OMIM:617641</td>\n",
       "      <td>CONGENITAL ANOMALIES OF KIDNEY AND URINARY TRA...</td>\n",
       "    </tr>\n",
       "    <tr>\n",
       "      <th>809497</th>\n",
       "      <td>809497</td>\n",
       "      <td>MedGen:CN417140,OMIM:617641</td>\n",
       "      <td>CONGENITAL ANOMALIES OF KIDNEY AND URINARY TRA...</td>\n",
       "    </tr>\n",
       "    <tr>\n",
       "      <th>809498</th>\n",
       "      <td>809498</td>\n",
       "      <td>MedGen:CN417140,OMIM:617641</td>\n",
       "      <td>CONGENITAL ANOMALIES OF KIDNEY AND URINARY TRA...</td>\n",
       "    </tr>\n",
       "    <tr>\n",
       "      <th>809499</th>\n",
       "      <td>809499</td>\n",
       "      <td>MedGen:CN417140,OMIM:617641</td>\n",
       "      <td>CONGENITAL ANOMALIES OF KIDNEY AND URINARY TRA...</td>\n",
       "    </tr>\n",
       "    <tr>\n",
       "      <th>809500</th>\n",
       "      <td>809500</td>\n",
       "      <td>OMIM:301013</td>\n",
       "      <td>MENTAL RETARDATION, X-LINKED 107</td>\n",
       "    </tr>\n",
       "    <tr>\n",
       "      <th>809501</th>\n",
       "      <td>809501</td>\n",
       "      <td>OMIM:301013</td>\n",
       "      <td>MENTAL RETARDATION, X-LINKED 107</td>\n",
       "    </tr>\n",
       "    <tr>\n",
       "      <th>809502</th>\n",
       "      <td>809502</td>\n",
       "      <td>Gene:261,MedGen:C1859721,OMIM:208100,Orphanet:...</td>\n",
       "      <td>Arthrogryposis multiplex congenita neurogenic ...</td>\n",
       "    </tr>\n",
       "    <tr>\n",
       "      <th>809503</th>\n",
       "      <td>809503</td>\n",
       "      <td>MedGen:C1854630,OMIM:605130,Orphanet:ORPHA319182</td>\n",
       "      <td>Wiedemann-Steiner syndrome</td>\n",
       "    </tr>\n",
       "    <tr>\n",
       "      <th>809504</th>\n",
       "      <td>809504</td>\n",
       "      <td>MedGen:C1854630,OMIM:605130,Orphanet:ORPHA319182</td>\n",
       "      <td>Wiedemann-Steiner syndrome</td>\n",
       "    </tr>\n",
       "    <tr>\n",
       "      <th>809505</th>\n",
       "      <td>809505</td>\n",
       "      <td>MedGen:C0809936,OMIM:211380</td>\n",
       "      <td>Brachioskeletogenital syndrome</td>\n",
       "    </tr>\n",
       "    <tr>\n",
       "      <th>809506</th>\n",
       "      <td>809506</td>\n",
       "      <td>MedGen:C0809936,OMIM:211380</td>\n",
       "      <td>Brachioskeletogenital syndrome</td>\n",
       "    </tr>\n",
       "    <tr>\n",
       "      <th>809507</th>\n",
       "      <td>809507</td>\n",
       "      <td>MedGen:C0809936,OMIM:211380</td>\n",
       "      <td>Brachioskeletogenital syndrome</td>\n",
       "    </tr>\n",
       "    <tr>\n",
       "      <th>809508</th>\n",
       "      <td>809508</td>\n",
       "      <td>MedGen:C1856972,OMIM:225790,Orphanet:ORPHA221126</td>\n",
       "      <td>Proliferative vasculopathy and hydranencephaly...</td>\n",
       "    </tr>\n",
       "  </tbody>\n",
       "</table>\n",
       "<p>809509 rows × 3 columns</p>\n",
       "</div>"
      ],
      "text/plain": [
       "        Unnamed: 0                                       PhenotypeIDS  \\\n",
       "0                0   MedGen:C3150901,OMIM:613647,Orphanet:ORPHA306511   \n",
       "1                1   MedGen:C3150901,OMIM:613647,Orphanet:ORPHA306511   \n",
       "2                2   MedGen:C3150901,OMIM:613647,Orphanet:ORPHA306511   \n",
       "3                3   MedGen:C3150901,OMIM:613647,Orphanet:ORPHA306511   \n",
       "4                4                        MedGen:C0795949,OMIM:251300   \n",
       "5                5                        MedGen:C0795949,OMIM:251300   \n",
       "6                6        MedGen:C1838979,OMIM:252010;MedGen:CN517202   \n",
       "7                7        MedGen:C1838979,OMIM:252010;MedGen:CN517202   \n",
       "8                8                        MedGen:C1838979,OMIM:252010   \n",
       "9                9                        MedGen:C1838979,OMIM:252010   \n",
       "10              10  MeSH:D030342,MedGen:C0950123;MedGen:C1838979,O...   \n",
       "11              11  MeSH:D030342,MedGen:C0950123;MedGen:C1838979,O...   \n",
       "12              12                        MedGen:C1838979,OMIM:252010   \n",
       "13              13                        MedGen:C1838979,OMIM:252010   \n",
       "14              14                        MedGen:C1838979,OMIM:252010   \n",
       "15              15                                                 na   \n",
       "16              16                                                 na   \n",
       "17              17  na;Human Phenotype Ontology:HP:0000992,MedGen:...   \n",
       "18              18  na;Human Phenotype Ontology:HP:0000992,MedGen:...   \n",
       "19              19  MedGen:C3469186,OMIM:235200;MedGen:C0392514,SN...   \n",
       "20              20  MedGen:C3469186,OMIM:235200;MedGen:C0392514,SN...   \n",
       "21              21  MedGen:C3469186,OMIM:235200;MedGen:C0392514,SN...   \n",
       "22              22  MedGen:C3469186,OMIM:235200;MedGen:C0392514,SN...   \n",
       "23              23                        MedGen:C3469186,OMIM:235200   \n",
       "24              24                        MedGen:C3469186,OMIM:235200   \n",
       "25              25                        MedGen:C3469186,OMIM:235200   \n",
       "26              26                        MedGen:C3469186,OMIM:235200   \n",
       "27              27                                                 na   \n",
       "28              28                                                 na   \n",
       "29              29                                                 na   \n",
       "...            ...                                                ...   \n",
       "809479      809479   MedGen:C3698541,OMIM:300895,Orphanet:ORPHA293707   \n",
       "809480      809480   MedGen:C3698541,OMIM:300895,Orphanet:ORPHA293707   \n",
       "809481      809481   MedGen:C3698541,OMIM:300895,Orphanet:ORPHA293707   \n",
       "809482      809482       MedGen:C0795889,OMIM:300523,Orphanet:ORPHA59   \n",
       "809483      809483       MedGen:C0795889,OMIM:300523,Orphanet:ORPHA59   \n",
       "809484      809484       MedGen:C0795889,OMIM:300523,Orphanet:ORPHA59   \n",
       "809485      809485       MedGen:C0795889,OMIM:300523,Orphanet:ORPHA59   \n",
       "809486      809486  MedGen:C0022716,OMIM:309400,Orphanet:ORPHA565,...   \n",
       "809487      809487  MedGen:C0022716,OMIM:309400,Orphanet:ORPHA565,...   \n",
       "809488      809488                        MedGen:C2749020,OMIM:300803   \n",
       "809489      809489                        MedGen:C2749020,OMIM:300803   \n",
       "809490      809490                                    MedGen:CN169374   \n",
       "809491      809491                                    MedGen:CN169374   \n",
       "809492      809492                        MedGen:CN417140,OMIM:617641   \n",
       "809493      809493                        MedGen:CN417140,OMIM:617641   \n",
       "809494      809494                        MedGen:CN417140,OMIM:617641   \n",
       "809495      809495                        MedGen:CN417140,OMIM:617641   \n",
       "809496      809496                        MedGen:CN417140,OMIM:617641   \n",
       "809497      809497                        MedGen:CN417140,OMIM:617641   \n",
       "809498      809498                        MedGen:CN417140,OMIM:617641   \n",
       "809499      809499                        MedGen:CN417140,OMIM:617641   \n",
       "809500      809500                                        OMIM:301013   \n",
       "809501      809501                                        OMIM:301013   \n",
       "809502      809502  Gene:261,MedGen:C1859721,OMIM:208100,Orphanet:...   \n",
       "809503      809503   MedGen:C1854630,OMIM:605130,Orphanet:ORPHA319182   \n",
       "809504      809504   MedGen:C1854630,OMIM:605130,Orphanet:ORPHA319182   \n",
       "809505      809505                        MedGen:C0809936,OMIM:211380   \n",
       "809506      809506                        MedGen:C0809936,OMIM:211380   \n",
       "809507      809507                        MedGen:C0809936,OMIM:211380   \n",
       "809508      809508   MedGen:C1856972,OMIM:225790,Orphanet:ORPHA221126   \n",
       "\n",
       "                                            PhenotypeList  \n",
       "0              Spastic paraplegia 48, autosomal recessive  \n",
       "1              Spastic paraplegia 48, autosomal recessive  \n",
       "2              Spastic paraplegia 48, autosomal recessive  \n",
       "3              Spastic paraplegia 48, autosomal recessive  \n",
       "4                                 Galloway-Mowat syndrome  \n",
       "5                                 Galloway-Mowat syndrome  \n",
       "6         Mitochondrial complex I deficiency;not provided  \n",
       "7         Mitochondrial complex I deficiency;not provided  \n",
       "8                      Mitochondrial complex I deficiency  \n",
       "9                      Mitochondrial complex I deficiency  \n",
       "10      Inborn genetic diseases;Mitochondrial complex ...  \n",
       "11      Inborn genetic diseases;Mitochondrial complex ...  \n",
       "12                     Mitochondrial complex I deficiency  \n",
       "13                     Mitochondrial complex I deficiency  \n",
       "14                     Mitochondrial complex I deficiency  \n",
       "15                              HFE INTRONIC POLYMORPHISM  \n",
       "16                              HFE INTRONIC POLYMORPHISM  \n",
       "17      Alzheimer disease, susceptibility to;Cutaneous...  \n",
       "18      Alzheimer disease, susceptibility to;Cutaneous...  \n",
       "19      Hemochromatosis type 1;Hereditary hemochromato...  \n",
       "20      Hemochromatosis type 1;Hereditary hemochromato...  \n",
       "21      Hemochromatosis type 1;Hereditary hemochromatosis  \n",
       "22      Hemochromatosis type 1;Hereditary hemochromatosis  \n",
       "23                                 Hemochromatosis type 1  \n",
       "24                                 Hemochromatosis type 1  \n",
       "25                                 Hemochromatosis type 1  \n",
       "26                                 Hemochromatosis type 1  \n",
       "27                                       HFE POLYMORPHISM  \n",
       "28                                       HFE POLYMORPHISM  \n",
       "29                                       HFE POLYMORPHISM  \n",
       "...                                                   ...  \n",
       "809479                            Ohdo syndrome, X-linked  \n",
       "809480                            Ohdo syndrome, X-linked  \n",
       "809481                            Ohdo syndrome, X-linked  \n",
       "809482                      Allan-Herndon-Dudley syndrome  \n",
       "809483                      Allan-Herndon-Dudley syndrome  \n",
       "809484                      Allan-Herndon-Dudley syndrome  \n",
       "809485                      Allan-Herndon-Dudley syndrome  \n",
       "809486                         Menkes kinky-hair syndrome  \n",
       "809487                         Menkes kinky-hair syndrome  \n",
       "809488         ZNF711-Related X-linked Mental Retardation  \n",
       "809489         ZNF711-Related X-linked Mental Retardation  \n",
       "809490                                      not specified  \n",
       "809491                                      not specified  \n",
       "809492  CONGENITAL ANOMALIES OF KIDNEY AND URINARY TRA...  \n",
       "809493  CONGENITAL ANOMALIES OF KIDNEY AND URINARY TRA...  \n",
       "809494  CONGENITAL ANOMALIES OF KIDNEY AND URINARY TRA...  \n",
       "809495  CONGENITAL ANOMALIES OF KIDNEY AND URINARY TRA...  \n",
       "809496  CONGENITAL ANOMALIES OF KIDNEY AND URINARY TRA...  \n",
       "809497  CONGENITAL ANOMALIES OF KIDNEY AND URINARY TRA...  \n",
       "809498  CONGENITAL ANOMALIES OF KIDNEY AND URINARY TRA...  \n",
       "809499  CONGENITAL ANOMALIES OF KIDNEY AND URINARY TRA...  \n",
       "809500                   MENTAL RETARDATION, X-LINKED 107  \n",
       "809501                   MENTAL RETARDATION, X-LINKED 107  \n",
       "809502  Arthrogryposis multiplex congenita neurogenic ...  \n",
       "809503                         Wiedemann-Steiner syndrome  \n",
       "809504                         Wiedemann-Steiner syndrome  \n",
       "809505                     Brachioskeletogenital syndrome  \n",
       "809506                     Brachioskeletogenital syndrome  \n",
       "809507                     Brachioskeletogenital syndrome  \n",
       "809508  Proliferative vasculopathy and hydranencephaly...  \n",
       "\n",
       "[809509 rows x 3 columns]"
      ]
     },
     "execution_count": 10,
     "metadata": {},
     "output_type": "execute_result"
    }
   ],
   "source": [
    "phenos"
   ]
  },
  {
   "cell_type": "code",
   "execution_count": 11,
   "metadata": {},
   "outputs": [
    {
     "data": {
      "text/plain": [
       "Unnamed: 0                                                      2\n",
       "PhenotypeIDS     MedGen:C3150901,OMIM:613647,Orphanet:ORPHA306511\n",
       "PhenotypeList          Spastic paraplegia 48, autosomal recessive\n",
       "Name: 2, dtype: object"
      ]
     },
     "execution_count": 11,
     "metadata": {},
     "output_type": "execute_result"
    }
   ],
   "source": [
    "# Look at observations in Row #2\n",
    "phenos.iloc[2]"
   ]
  },
  {
   "cell_type": "code",
   "execution_count": 12,
   "metadata": {},
   "outputs": [
    {
     "data": {
      "text/plain": [
       "'na;Human Phenotype Ontology:HP:0000992,MedGen:C0349506;MedGen:C3469186,OMIM:235200;MedGen:C3150862;MedGen:C0027672,SNOMED CT:699346009;MedGen:C0392514,SNOMED CT:35400008;MedGen:C2673520,OMIM:612635;na;na;Human Phenotype Ontology:HP:0010473,MedGen:C0151861;MedGen:C3280096,OMIM:614193;MedGen:CN517202;MedGen:CN169374'"
      ]
     },
     "execution_count": 12,
     "metadata": {},
     "output_type": "execute_result"
    }
   ],
   "source": [
    "# This returns both columns\n",
    "# Let's just look at typical data in the IDs columns:\n",
    "phenos.iloc[18].PhenotypeIDS"
   ]
  },
  {
   "cell_type": "code",
   "execution_count": 13,
   "metadata": {},
   "outputs": [
    {
     "data": {
      "text/plain": [
       "'MedGen:C0795949,OMIM:251300'"
      ]
     },
     "execution_count": 13,
     "metadata": {},
     "output_type": "execute_result"
    }
   ],
   "source": [
    "phenos.iloc[4].PhenotypeIDS"
   ]
  },
  {
   "cell_type": "markdown",
   "metadata": {},
   "source": [
    "### OK, so now let's count the unique number different registry types\n",
    "+ e.g. MedGen\n",
    "+ e.g. OMIM\n",
    "+ etc."
   ]
  },
  {
   "cell_type": "code",
   "execution_count": 33,
   "metadata": {
    "scrolled": true
   },
   "outputs": [
    {
     "data": {
      "text/plain": [
       "0                                  [MedGen, OMIM, Orphanet]\n",
       "1                                  [MedGen, OMIM, Orphanet]\n",
       "2                                  [MedGen, OMIM, Orphanet]\n",
       "3                                  [MedGen, OMIM, Orphanet]\n",
       "4                                            [MedGen, OMIM]\n",
       "5                                            [MedGen, OMIM]\n",
       "6                                    [MedGen, OMIM, MedGen]\n",
       "7                                    [MedGen, OMIM, MedGen]\n",
       "8                                            [MedGen, OMIM]\n",
       "9                                            [MedGen, OMIM]\n",
       "10                     [MeSH, MedGen, MedGen, OMIM, MedGen]\n",
       "11                     [MeSH, MedGen, MedGen, OMIM, MedGen]\n",
       "12                                           [MedGen, OMIM]\n",
       "13                                           [MedGen, OMIM]\n",
       "14                                           [MedGen, OMIM]\n",
       "15                                                       []\n",
       "16                                                       []\n",
       "17        [Ontology, MedGen, MedGen, OMIM, MedGen, MedGe...\n",
       "18        [Ontology, MedGen, MedGen, OMIM, MedGen, MedGe...\n",
       "19        [MedGen, OMIM, MedGen, CT, MedGen, OMIM, MedGe...\n",
       "20        [MedGen, OMIM, MedGen, CT, MedGen, OMIM, MedGe...\n",
       "21                               [MedGen, OMIM, MedGen, CT]\n",
       "22                               [MedGen, OMIM, MedGen, CT]\n",
       "23                                           [MedGen, OMIM]\n",
       "24                                           [MedGen, OMIM]\n",
       "25                                           [MedGen, OMIM]\n",
       "26                                           [MedGen, OMIM]\n",
       "27                                                       []\n",
       "28                                                       []\n",
       "29                                                       []\n",
       "                                ...                        \n",
       "809479                             [MedGen, OMIM, Orphanet]\n",
       "809480                             [MedGen, OMIM, Orphanet]\n",
       "809481                             [MedGen, OMIM, Orphanet]\n",
       "809482                             [MedGen, OMIM, Orphanet]\n",
       "809483                             [MedGen, OMIM, Orphanet]\n",
       "809484                             [MedGen, OMIM, Orphanet]\n",
       "809485                             [MedGen, OMIM, Orphanet]\n",
       "809486                         [MedGen, OMIM, Orphanet, CT]\n",
       "809487                         [MedGen, OMIM, Orphanet, CT]\n",
       "809488                                       [MedGen, OMIM]\n",
       "809489                                       [MedGen, OMIM]\n",
       "809490                                             [MedGen]\n",
       "809491                                             [MedGen]\n",
       "809492                                       [MedGen, OMIM]\n",
       "809493                                       [MedGen, OMIM]\n",
       "809494                                       [MedGen, OMIM]\n",
       "809495                                       [MedGen, OMIM]\n",
       "809496                                       [MedGen, OMIM]\n",
       "809497                                       [MedGen, OMIM]\n",
       "809498                                       [MedGen, OMIM]\n",
       "809499                                       [MedGen, OMIM]\n",
       "809500                                               [OMIM]\n",
       "809501                                               [OMIM]\n",
       "809502                       [Gene, MedGen, OMIM, Orphanet]\n",
       "809503                             [MedGen, OMIM, Orphanet]\n",
       "809504                             [MedGen, OMIM, Orphanet]\n",
       "809505                                       [MedGen, OMIM]\n",
       "809506                                       [MedGen, OMIM]\n",
       "809507                                       [MedGen, OMIM]\n",
       "809508                             [MedGen, OMIM, Orphanet]\n",
       "Name: PhenotypeIDS, Length: 809509, dtype: object"
      ]
     },
     "execution_count": 33,
     "metadata": {},
     "output_type": "execute_result"
    }
   ],
   "source": [
    "# first, just look at the registry types:\n",
    "phenos.PhenotypeIDS.str.findall(r'(\\w+):\\w+')"
   ]
  },
  {
   "cell_type": "markdown",
   "metadata": {},
   "source": [
    "### Looks like the findall is returning a TUPLE"
   ]
  },
  {
   "cell_type": "code",
   "execution_count": 34,
   "metadata": {},
   "outputs": [],
   "source": [
    "# create an array to hold all the vales from 809K rows\n",
    "alltypes = []\n",
    "\n",
    "# create a function to match just the registry identifier\n",
    "# (the bit _before_ the colon)\n",
    "\n",
    "def extract_types (x):\n",
    "    res = re.findall(r'(\\w+):\\w+', x)\n",
    "    if res:\n",
    "        for i in res:\n",
    "            alltypes.append(i)"
   ]
  },
  {
   "cell_type": "code",
   "execution_count": 36,
   "metadata": {},
   "outputs": [
    {
     "data": {
      "text/plain": [
       "4591448"
      ]
     },
     "execution_count": 36,
     "metadata": {},
     "output_type": "execute_result"
    }
   ],
   "source": [
    "phenos.PhenotypeIDS.apply(extract_types)\n",
    "len(alltypes)"
   ]
  },
  {
   "cell_type": "code",
   "execution_count": 37,
   "metadata": {},
   "outputs": [
    {
     "data": {
      "text/plain": [
       "{'CT', 'EFO', 'Gene', 'MeSH', 'MedGen', 'OMIM', 'Ontology', 'Orphanet'}"
      ]
     },
     "execution_count": 37,
     "metadata": {},
     "output_type": "execute_result"
    }
   ],
   "source": [
    "# see how many unique types of registries\n",
    "set(alltypes)"
   ]
  },
  {
   "cell_type": "markdown",
   "metadata": {},
   "source": [
    "## ...⇧\n",
    "> **FINDING:** there are **8 basic 'types'** of phenotype registries. \n",
    "\n",
    "+ Types like CT, EFO, and Ontology need to include the whole name \n"
   ]
  },
  {
   "cell_type": "markdown",
   "metadata": {},
   "source": [
    "# Thinking about the new dataframe design\n",
    "## where to add columns...and where to add rows?\n",
    "\n",
    "+ Should consider a multindex (but not sure if that is easily read by ESRI\n",
    "+ Should also consider the design below:\n",
    "    + with 8 basic column types\n",
    "    + each phenotype is listed in the approapriate 'registry column'\n",
    "    + (usually in either one or two registries)\n",
    "    + and the row information is repeated.\n",
    "\n",
    "![Splitting Phenotypes into rows](https://i.imgur.com/5XqsxYD.png)"
   ]
  },
  {
   "cell_type": "code",
   "execution_count": null,
   "metadata": {},
   "outputs": [],
   "source": []
  },
  {
   "cell_type": "markdown",
   "metadata": {},
   "source": [
    "# There are 21K unique groups in the PhenotypeID column\n",
    "## What are the main types of data?\n",
    "+ (they seem to be listed in key pairs)"
   ]
  },
  {
   "cell_type": "code",
   "execution_count": null,
   "metadata": {
    "scrolled": true
   },
   "outputs": [],
   "source": [
    "# # Group By Phenotype and roll up the data in this column \n",
    "# phenotypes = clinvar.groupby('PhenotypeIDS').size().reset_index(name='count')\n",
    "# phenotypes.sort_values(by='count', ascending=False,inplace=True)\n",
    "# phenotypes"
   ]
  },
  {
   "cell_type": "markdown",
   "metadata": {},
   "source": [
    "## ...⇧\n",
    "> **FINDING:** 21K unique groupings of Phenotypes\n",
    "\n",
    "+ A lot of variance in the Phenotype IDs, pairs (dict) including:\n",
    "    + MedGen\n",
    "    + SNOMED CT\n",
    "    + Human Phenotype Ontology\n",
    "+ Disparate ways of listing the code\n",
    "    + Human Phenotype Ontology:HP:0007018\n",
    "+ Disparate separators\n",
    "    + comma\n",
    "    + semicolon\n"
   ]
  },
  {
   "cell_type": "code",
   "execution_count": null,
   "metadata": {},
   "outputs": [],
   "source": []
  }
 ],
 "metadata": {
  "kernelspec": {
   "display_name": "Python 3",
   "language": "python",
   "name": "python3"
  },
  "language_info": {
   "codemirror_mode": {
    "name": "ipython",
    "version": 3
   },
   "file_extension": ".py",
   "mimetype": "text/x-python",
   "name": "python",
   "nbconvert_exporter": "python",
   "pygments_lexer": "ipython3",
   "version": "3.6.4"
  }
 },
 "nbformat": 4,
 "nbformat_minor": 2
}
