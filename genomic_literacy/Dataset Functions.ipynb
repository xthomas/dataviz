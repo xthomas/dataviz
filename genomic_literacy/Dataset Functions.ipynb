{
 "cells": [
  {
   "cell_type": "code",
   "execution_count": 1,
   "metadata": {},
   "outputs": [],
   "source": [
    "import pandas as pd\n",
    "from google.cloud import storage\n",
    "from io import BytesIO\n",
    "import re"
   ]
  },
  {
   "cell_type": "code",
   "execution_count": 2,
   "metadata": {},
   "outputs": [
    {
     "data": {
      "text/plain": [
       "bytes"
      ]
     },
     "execution_count": 2,
     "metadata": {},
     "output_type": "execute_result"
    }
   ],
   "source": [
    "# Instantiates a client\n",
    "storage_client = storage.Client()\n",
    "bucket = storage_client.get_bucket('datacamp-202518.appspot.com')\n",
    "blob = storage.Blob('data/guide/variant_summary.txt', bucket)\n",
    "content = blob.download_as_string()\n",
    "type(content)\n",
    "\n",
    "# datadir = '/home/xavier/data/guide/'\n",
    "# clinvar_file = 'variant_summary.txt'"
   ]
  },
  {
   "cell_type": "markdown",
   "metadata": {},
   "source": [
    "# First thing, download and survey the 'Clinvar' data\n",
    "## ➜ ClinVar is a freely accessible, public archive of reports of the relationships among human variations and phenotypes, with supporting evidence.\n",
    "## We are interested in the Phenotype data.\n",
    "\n",
    "+ A phenotype results from the expression of an organism's genetic code, its genotype, as well as the influence of environmental factors and the interactions between the two. [Wikipedia](https://en.wikipedia.org/wiki/Phenotype)\n",
    "+ from **[THIS FTP DIRECTORY](ftp://ftp.ncbi.nlm.nih.gov/pub/clinvar/tab_delimited/)** (which is updated monthly)\n",
    "+ ** Hosted the file [Variant_summary.txt](ftp://ftp.ncbi.nlm.nih.gov/pub/clinvar/tab_delimited/variant_summary.txt.gz)** (which is a 809K row dataset) on Google Cloud Storage\n",
    "\n"
   ]
  },
  {
   "cell_type": "code",
   "execution_count": 3,
   "metadata": {},
   "outputs": [
    {
     "name": "stderr",
     "output_type": "stream",
     "text": [
      "/home/xavier/miniconda3/lib/python3.6/site-packages/IPython/core/interactiveshell.py:2785: DtypeWarning: Columns (18) have mixed types. Specify dtype option on import or set low_memory=False.\n",
      "  interactivity=interactivity, compiler=compiler, result=result)\n"
     ]
    }
   ],
   "source": [
    "clinvar = pd.read_csv(BytesIO(content), sep='\\t', lineterminator='\\n')"
   ]
  },
  {
   "cell_type": "code",
   "execution_count": 4,
   "metadata": {},
   "outputs": [
    {
     "data": {
      "text/plain": [
       "(809509, 31)"
      ]
     },
     "execution_count": 4,
     "metadata": {},
     "output_type": "execute_result"
    }
   ],
   "source": [
    "# count the rows of data\n",
    "clinvar.shape"
   ]
  },
  {
   "cell_type": "markdown",
   "metadata": {},
   "source": [
    "# This has 809K Rows"
   ]
  },
  {
   "cell_type": "code",
   "execution_count": 5,
   "metadata": {
    "scrolled": false
   },
   "outputs": [
    {
     "data": {
      "text/plain": [
       "['#AlleleID',\n",
       " 'Type',\n",
       " 'Name',\n",
       " 'GeneID',\n",
       " 'GeneSymbol',\n",
       " 'HGNC_ID',\n",
       " 'ClinicalSignificance',\n",
       " 'ClinSigSimple',\n",
       " 'LastEvaluated',\n",
       " 'RS# (dbSNP)',\n",
       " 'nsv/esv (dbVar)',\n",
       " 'RCVaccession',\n",
       " 'PhenotypeIDS',\n",
       " 'PhenotypeList',\n",
       " 'Origin',\n",
       " 'OriginSimple',\n",
       " 'Assembly',\n",
       " 'ChromosomeAccession',\n",
       " 'Chromosome',\n",
       " 'Start',\n",
       " 'Stop',\n",
       " 'ReferenceAllele',\n",
       " 'AlternateAllele',\n",
       " 'Cytogenetic',\n",
       " 'ReviewStatus',\n",
       " 'NumberSubmitters',\n",
       " 'Guidelines',\n",
       " 'TestedInGTR',\n",
       " 'OtherIDs',\n",
       " 'SubmitterCategories',\n",
       " 'VariationID']"
      ]
     },
     "execution_count": 5,
     "metadata": {},
     "output_type": "execute_result"
    }
   ],
   "source": [
    "# Look at the column names in this data\n",
    "list(clinvar)"
   ]
  },
  {
   "cell_type": "markdown",
   "metadata": {},
   "source": [
    "# Let's find all the unique values in the PhenotypeIDS column"
   ]
  },
  {
   "cell_type": "code",
   "execution_count": 6,
   "metadata": {},
   "outputs": [
    {
     "data": {
      "text/plain": [
       "array(['MedGen:C3150901,OMIM:613647,Orphanet:ORPHA306511',\n",
       "       'MedGen:C0795949,OMIM:251300',\n",
       "       'MedGen:C1838979,OMIM:252010;MedGen:CN517202', ..., 'OMIM:301013',\n",
       "       'Gene:261,MedGen:C1859721,OMIM:208100,Orphanet:ORPHA1143',\n",
       "       'MedGen:C0809936,OMIM:211380'], dtype=object)"
      ]
     },
     "execution_count": 6,
     "metadata": {},
     "output_type": "execute_result"
    }
   ],
   "source": [
    "uniques = clinvar.PhenotypeIDS.unique()\n",
    "uniques"
   ]
  },
  {
   "cell_type": "code",
   "execution_count": 7,
   "metadata": {
    "scrolled": true
   },
   "outputs": [
    {
     "data": {
      "text/plain": [
       "21161"
      ]
     },
     "execution_count": 7,
     "metadata": {},
     "output_type": "execute_result"
    }
   ],
   "source": [
    "len(uniques)\n"
   ]
  },
  {
   "cell_type": "markdown",
   "metadata": {},
   "source": [
    "# There are 21K unique groups in the PhenotypeID column\n",
    "## What are the main types of data?\n",
    "+ (they seem to be listed in key pairs)"
   ]
  },
  {
   "cell_type": "code",
   "execution_count": 8,
   "metadata": {},
   "outputs": [
    {
     "data": {
      "text/plain": [
       "'MedGen:C1838979,OMIM:252010;MedGen:CN517202'"
      ]
     },
     "execution_count": 8,
     "metadata": {},
     "output_type": "execute_result"
    }
   ],
   "source": [
    "uniques[2]"
   ]
  },
  {
   "cell_type": "code",
   "execution_count": 10,
   "metadata": {},
   "outputs": [
    {
     "data": {
      "text/plain": [
       "'MedGen:C1838979,OMIM:252010'"
      ]
     },
     "execution_count": 10,
     "metadata": {},
     "output_type": "execute_result"
    }
   ],
   "source": [
    "uniques[3]"
   ]
  },
  {
   "cell_type": "code",
   "execution_count": 12,
   "metadata": {},
   "outputs": [
    {
     "data": {
      "text/plain": [
       "'MeSH:D030342,MedGen:C0950123;MedGen:C1838979,OMIM:252010;MedGen:CN169374'"
      ]
     },
     "execution_count": 12,
     "metadata": {},
     "output_type": "execute_result"
    }
   ],
   "source": [
    "uniques[4]"
   ]
  },
  {
   "cell_type": "code",
   "execution_count": 23,
   "metadata": {},
   "outputs": [],
   "source": [
    "numpairs = re.compile(r\"\"\"\n",
    "((\\b[a-zA-Z]+\\b):.+)     # Word before colon\n",
    ",                # Skip the Value after colon\n",
    "\"\"\", re.VERBOSE)"
   ]
  },
  {
   "cell_type": "code",
   "execution_count": 30,
   "metadata": {},
   "outputs": [],
   "source": [
    "numpairs = re.compile(r\"\"\"\n",
    "(\\b[a-zA-Z]+\\b:\\b.+\\b,)+     # Word before colon\n",
    "\"\"\", re.VERBOSE)"
   ]
  },
  {
   "cell_type": "code",
   "execution_count": 31,
   "metadata": {},
   "outputs": [
    {
     "data": {
      "text/plain": [
       "['MedGen:C1838979,']"
      ]
     },
     "execution_count": 31,
     "metadata": {},
     "output_type": "execute_result"
    }
   ],
   "source": [
    "numpairs.findall(uniques[2])"
   ]
  },
  {
   "cell_type": "code",
   "execution_count": 32,
   "metadata": {},
   "outputs": [
    {
     "data": {
      "text/plain": [
       "'MedGen:C1838979,'"
      ]
     },
     "execution_count": 32,
     "metadata": {},
     "output_type": "execute_result"
    }
   ],
   "source": [
    "numpairs.search(uniques[2]).group()"
   ]
  },
  {
   "cell_type": "code",
   "execution_count": null,
   "metadata": {},
   "outputs": [],
   "source": []
  },
  {
   "cell_type": "code",
   "execution_count": null,
   "metadata": {},
   "outputs": [],
   "source": [
    "print(re.findall(r'(\\b[a-zA-Z]+\\b):.+,',uniques[1]))"
   ]
  },
  {
   "cell_type": "code",
   "execution_count": null,
   "metadata": {},
   "outputs": [],
   "source": [
    "p = re.compile(r'(\\b[a-zA-Z]+\\b):.+,')"
   ]
  },
  {
   "cell_type": "code",
   "execution_count": null,
   "metadata": {},
   "outputs": [],
   "source": [
    "p.findall(uniques[1])"
   ]
  },
  {
   "cell_type": "code",
   "execution_count": null,
   "metadata": {},
   "outputs": [],
   "source": []
  },
  {
   "cell_type": "code",
   "execution_count": null,
   "metadata": {
    "scrolled": true
   },
   "outputs": [],
   "source": [
    "# Group By Phenotype and roll up the data in this column \n",
    "phenotypes = clinvar.groupby('PhenotypeIDS').size().reset_index(name='count')\n",
    "phenotypes.sort_values(by='count', ascending=False,inplace=True)\n",
    "phenotypes"
   ]
  },
  {
   "cell_type": "markdown",
   "metadata": {},
   "source": [
    "## ...⇧\n",
    "> **FINDING:** 21K unique groupings of Phenotypes\n",
    "\n",
    "+ A lot of variance in the Phenotype IDs, pairs (dict) including:\n",
    "    + MedGen\n",
    "    + SNOMED CT\n",
    "    + Human Phenotype Ontology\n",
    "+ Disparate ways of listing the code\n",
    "    + Human Phenotype Ontology:HP:0007018\n",
    "+ Disparate separators\n",
    "    + comma\n",
    "    + semicolon\n"
   ]
  },
  {
   "cell_type": "code",
   "execution_count": null,
   "metadata": {
    "scrolled": true
   },
   "outputs": [],
   "source": [
    "# with a small set of rows, look at a Typical 'raw' row of \n",
    "# data. Trying to understand what a typical cell contains\n",
    "\n",
    "typical = clinvar[clinvar['PhenotypeIDS'].str.contains(\"MedGen:C2673611\", na=False)]\n",
    "\n",
    "# drop columns for a simpler 'preview' of these few rows\n",
    "# (remember, this is a throwaway snapshot, just trying to get a view\n",
    "# of the phenotype data)\n",
    "\n",
    "typical.drop(['#AlleleID',\n",
    "     'RS# (dbSNP)',\n",
    "     'ClinSigSimple',\n",
    "     'nsv/esv (dbVar)',\n",
    "     'RCVaccession',\n",
    "     'Origin',\n",
    "     'Start',\n",
    "     'Stop',    \n",
    "     'Assembly',\n",
    "     'ChromosomeAccession',\n",
    "     'Chromosome',\n",
    "     'ReferenceAllele',\n",
    "     'AlternateAllele',\n",
    "     'Cytogenetic',\n",
    "     'NumberSubmitters',\n",
    "     'Guidelines',\n",
    "     'TestedInGTR',\n",
    "     'OtherIDs',\n",
    "     'SubmitterCategories',\n",
    "     'VariationID'],axis=1,inplace=True)\n",
    "typical"
   ]
  },
  {
   "cell_type": "markdown",
   "metadata": {},
   "source": [
    "## ...⇧\n",
    "> **FINDING:** Looks like a typical cell contains a list of MedGen references\n",
    "\n",
    "+ MedGen:Number\n",
    "+ separated by semicolons"
   ]
  },
  {
   "cell_type": "code",
   "execution_count": null,
   "metadata": {},
   "outputs": [],
   "source": [
    "# typical.to_csv(datadir + 'typical_clinvar_rows.csv')"
   ]
  },
  {
   "cell_type": "code",
   "execution_count": null,
   "metadata": {},
   "outputs": [],
   "source": []
  },
  {
   "cell_type": "code",
   "execution_count": null,
   "metadata": {},
   "outputs": [],
   "source": []
  },
  {
   "cell_type": "code",
   "execution_count": null,
   "metadata": {},
   "outputs": [],
   "source": []
  },
  {
   "cell_type": "code",
   "execution_count": null,
   "metadata": {},
   "outputs": [],
   "source": []
  }
 ],
 "metadata": {
  "kernelspec": {
   "display_name": "Python 3",
   "language": "python",
   "name": "python3"
  },
  "language_info": {
   "codemirror_mode": {
    "name": "ipython",
    "version": 3
   },
   "file_extension": ".py",
   "mimetype": "text/x-python",
   "name": "python",
   "nbconvert_exporter": "python",
   "pygments_lexer": "ipython3",
   "version": "3.6.4"
  }
 },
 "nbformat": 4,
 "nbformat_minor": 2
}
