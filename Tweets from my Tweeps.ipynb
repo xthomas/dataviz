{
 "metadata": {
  "name": ""
 },
 "nbformat": 3,
 "nbformat_minor": 0,
 "worksheets": [
  {
   "cells": [
    {
     "cell_type": "code",
     "collapsed": false,
     "input": [
      "import tweepy #https://github.com/tweepy/tweepy\n",
      "import csv\n",
      "\n",
      "#Twitter API credentials\n",
      "consumer_key = 'psgVcxmqAnYGHsn7GqhduqLh4'\n",
      "consumer_secret = 'f5SHMr5xfxU48cwlLcBtTL9geKXTQPNtpYdLJfh2liOzOhwPeN'\n",
      "access_key = '91267293-pl7eFp3SE33nRaBB8TL5NlrpJd399euisynmJDXfO'\n",
      "access_secret = 'DofLYZotxnu7NvmD3t22wLgEn0ljf391QMkBXY8Pgg6sC'\n",
      "\n",
      "\n",
      "def get_all_tweets(screen_name):\n",
      "\tauth = tweepy.OAuthHandler(consumer_key, consumer_secret)\n",
      "\tauth.set_access_token(access_key, access_secret)\n",
      "\tapi = tweepy.API(auth)\n",
      "\t\n",
      "\t#initialize a list to hold all the tweepy Tweets\n",
      "\talltweets = []\t\n",
      "\t\n",
      "\t#make initial request for most recent tweets (200 is the maximum allowed count)\n",
      "\tnew_tweets = api.user_timeline(screen_name = screen_name,count=200)\n",
      "\t\n",
      "\t#save most recent tweets\n",
      "\talltweets.extend(new_tweets)\n",
      "\t\n",
      "\t#save the id of the oldest tweet less one\n",
      "\toldest = alltweets[-1].id - 1\n",
      "\t\n",
      "\t#keep grabbing tweets until there are no tweets left to grab\n",
      "\twhile len(new_tweets) > 0:\n",
      "\t\tprint \"getting tweets before %s\" % (oldest)\n",
      "\t\t\n",
      "\t\t#all subsiquent requests use the max_id param to prevent duplicates\n",
      "\t\tnew_tweets = api.user_timeline(screen_name = screen_name,count=200,max_id=oldest)\n",
      "\t\t\n",
      "\t\t#save most recent tweets\n",
      "\t\talltweets.extend(new_tweets)\n",
      "\t\t\n",
      "\t\t#update the id of the oldest tweet less one\n",
      "\t\toldest = alltweets[-1].id - 1\n",
      "\t\t\n",
      "\t\tprint \"...%s tweets downloaded so far\" % (len(alltweets))\n",
      "\t\n",
      "\t#transform the tweepy tweets into a 2D array that will populate the csv\t\n",
      "\touttweets = [[tweet.id_str, tweet.created_at, tweet.text.encode(\"utf-8\")] for tweet in alltweets]\n",
      "\t\n",
      "\t#write the csv\t\n",
      "\twith open('%s_tweets.csv' % screen_name, 'wb') as f:\n",
      "\t\twriter = csv.writer(f)\n",
      "\t\twriter.writerow([\"id\",\"created_at\",\"text\"])\n",
      "\t\twriter.writerows(outtweets)\n",
      "\t\n",
      "\tpass\n",
      "\n",
      "\n",
      "if __name__ == '__main__':\n",
      "\t#pass in the username of the account you want to download\n",
      "\tget_all_tweets(\"thedooronline\")"
     ],
     "language": "python",
     "metadata": {},
     "outputs": [
      {
       "output_type": "stream",
       "stream": "stdout",
       "text": [
        "getting tweets before 467394671237279743\n",
        "...400 tweets downloaded so far"
       ]
      },
      {
       "output_type": "stream",
       "stream": "stdout",
       "text": [
        "\n",
        "getting tweets before 453637699753107456\n",
        "...599 tweets downloaded so far"
       ]
      },
      {
       "output_type": "stream",
       "stream": "stdout",
       "text": [
        "\n",
        "getting tweets before 442024895661498367\n",
        "...799 tweets downloaded so far"
       ]
      },
      {
       "output_type": "stream",
       "stream": "stdout",
       "text": [
        "\n",
        "getting tweets before 429038349035503615\n",
        "...998 tweets downloaded so far"
       ]
      },
      {
       "output_type": "stream",
       "stream": "stdout",
       "text": [
        "\n",
        "getting tweets before 386634792118128639\n",
        "...1197 tweets downloaded so far"
       ]
      },
      {
       "output_type": "stream",
       "stream": "stdout",
       "text": [
        "\n",
        "getting tweets before 331555255189905407\n",
        "...1395 tweets downloaded so far"
       ]
      },
      {
       "output_type": "stream",
       "stream": "stdout",
       "text": [
        "\n",
        "getting tweets before 303922470027661311\n",
        "...1592 tweets downloaded so far"
       ]
      },
      {
       "output_type": "stream",
       "stream": "stdout",
       "text": [
        "\n",
        "getting tweets before 264063952995098624\n",
        "...1785 tweets downloaded so far"
       ]
      },
      {
       "output_type": "stream",
       "stream": "stdout",
       "text": [
        "\n",
        "getting tweets before 245598062087639039\n",
        "...1984 tweets downloaded so far"
       ]
      },
      {
       "output_type": "stream",
       "stream": "stdout",
       "text": [
        "\n",
        "getting tweets before 194455185043619839\n",
        "...2183 tweets downloaded so far"
       ]
      },
      {
       "output_type": "stream",
       "stream": "stdout",
       "text": [
        "\n",
        "getting tweets before 144076463845543936\n",
        "...2383 tweets downloaded so far"
       ]
      },
      {
       "output_type": "stream",
       "stream": "stdout",
       "text": [
        "\n",
        "getting tweets before 94504538685439999\n",
        "...2583 tweets downloaded so far"
       ]
      },
      {
       "output_type": "stream",
       "stream": "stdout",
       "text": [
        "\n",
        "getting tweets before 71244889693765632\n",
        "...2783 tweets downloaded so far"
       ]
      },
      {
       "output_type": "stream",
       "stream": "stdout",
       "text": [
        "\n",
        "getting tweets before 50958456701714431\n",
        "...2983 tweets downloaded so far"
       ]
      },
      {
       "output_type": "stream",
       "stream": "stdout",
       "text": [
        "\n",
        "getting tweets before 42270644217454591\n",
        "...3183 tweets downloaded so far"
       ]
      },
      {
       "output_type": "stream",
       "stream": "stdout",
       "text": [
        "\n",
        "getting tweets before 32189137318580224\n",
        "...3185 tweets downloaded so far"
       ]
      },
      {
       "output_type": "stream",
       "stream": "stdout",
       "text": [
        "\n",
        "getting tweets before 32177784205877248\n",
        "...3185 tweets downloaded so far"
       ]
      },
      {
       "output_type": "stream",
       "stream": "stdout",
       "text": [
        "\n"
       ]
      }
     ],
     "prompt_number": 2
    },
    {
     "cell_type": "code",
     "collapsed": false,
     "input": [],
     "language": "python",
     "metadata": {},
     "outputs": []
    }
   ],
   "metadata": {}
  }
 ]
}