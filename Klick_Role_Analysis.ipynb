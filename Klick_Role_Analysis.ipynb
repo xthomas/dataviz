{
  "nbformat": 4,
  "nbformat_minor": 0,
  "metadata": {
    "colab": {
      "name": "Klick Role Analysis.ipynb",
      "provenance": [],
      "collapsed_sections": [],
      "authorship_tag": "ABX9TyOry6urPaNx8fwG9ekW9fkJ",
      "include_colab_link": true
    },
    "kernelspec": {
      "name": "python3",
      "display_name": "Python 3"
    },
    "language_info": {
      "name": "python"
    }
  },
  "cells": [
    {
      "cell_type": "markdown",
      "metadata": {
        "id": "view-in-github",
        "colab_type": "text"
      },
      "source": [
        "<a href=\"https://colab.research.google.com/github/xthomas/dataviz/blob/master/Klick_Role_Analysis.ipynb\" target=\"_parent\"><img src=\"https://colab.research.google.com/assets/colab-badge.svg\" alt=\"Open In Colab\"/></a>"
      ]
    },
    {
      "cell_type": "code",
      "metadata": {
        "id": "il_-GSWZ6hSo"
      },
      "source": [
        "import pandas as pd\n",
        "import numpy as np\n",
        "from google.colab import drive"
      ],
      "execution_count": 1,
      "outputs": []
    },
    {
      "cell_type": "code",
      "metadata": {
        "colab": {
          "base_uri": "https://localhost:8080/"
        },
        "id": "FCo0dT9f617-",
        "outputId": "a7eb7fb5-de79-49d3-fbf1-c02f6edeca54"
      },
      "source": [
        "drive.mount('/content/gdrive')"
      ],
      "execution_count": 2,
      "outputs": [
        {
          "output_type": "stream",
          "text": [
            "Drive already mounted at /content/gdrive; to attempt to forcibly remount, call drive.mount(\"/content/gdrive\", force_remount=True).\n"
          ],
          "name": "stdout"
        }
      ]
    },
    {
      "cell_type": "code",
      "metadata": {
        "colab": {
          "base_uri": "https://localhost:8080/"
        },
        "id": "pR3yBIoR62gJ",
        "outputId": "28830698-382d-4b3b-bfd6-4c64d0945cda"
      },
      "source": [
        "!ls \"/content/gdrive/My Drive/3. Klick/Corporate\""
      ],
      "execution_count": 3,
      "outputs": [
        {
          "output_type": "stream",
          "text": [
            "'Klick Role Analysis.ipynb'\t   'Reporting Portal - User New Roles.xlsx'\n",
            " MaskingTest_MedicalStrategy.xlsx   UnmaskingTest_aFewRolesMore.xlsx\n"
          ],
          "name": "stdout"
        }
      ]
    },
    {
      "cell_type": "code",
      "metadata": {
        "id": "reIGWwSa7EUd"
      },
      "source": [
        "KlickRoles = pd.read_excel ('/content/gdrive/My Drive/3. Klick/Corporate/Reporting Portal - User New Roles.xlsx')"
      ],
      "execution_count": 4,
      "outputs": []
    },
    {
      "cell_type": "code",
      "metadata": {
        "colab": {
          "base_uri": "https://localhost:8080/"
        },
        "id": "KSZDq-zv9hz_",
        "outputId": "1f5b6316-62e1-4c04-b53b-e7ec4bb80734"
      },
      "source": [
        "list (KlickRoles)"
      ],
      "execution_count": 5,
      "outputs": [
        {
          "output_type": "execute_result",
          "data": {
            "text/plain": [
              "['UserID', 'Full Name', 'Title', 'RoleID', 'Labor Role', 'CST']"
            ]
          },
          "metadata": {
            "tags": []
          },
          "execution_count": 5
        }
      ]
    },
    {
      "cell_type": "code",
      "metadata": {
        "colab": {
          "base_uri": "https://localhost:8080/"
        },
        "id": "_aSExcR8J1TF",
        "outputId": "2ede24b7-ae31-4853-bcc3-695208aa9e5e"
      },
      "source": [
        "#how many roles at each Client Service Team?\n",
        "KlickRoles.groupby(\"CST\")[\"RoleID\"].count()"
      ],
      "execution_count": 6,
      "outputs": [
        {
          "output_type": "execute_result",
          "data": {
            "text/plain": [
              "CST\n",
              "Brave            19\n",
              "Edge             83\n",
              "Epic            103\n",
              "Katalyst          5\n",
              "Klick Health    387\n",
              "Klick Inc       123\n",
              "Nova            231\n",
              "Quest            82\n",
              "Rev             109\n",
              "Sensei           77\n",
              "Spark           182\n",
              "Stack             1\n",
              "Team Takeda     185\n",
              "Name: RoleID, dtype: int64"
            ]
          },
          "metadata": {
            "tags": []
          },
          "execution_count": 6
        }
      ]
    },
    {
      "cell_type": "code",
      "metadata": {
        "colab": {
          "base_uri": "https://localhost:8080/",
          "height": 450
        },
        "id": "dgeSuGk2-gCc",
        "outputId": "c126dcc4-c387-4ef9-cd37-980057ef0184"
      },
      "source": [
        "KlickRoles.groupby(\"Labor Role\").count()"
      ],
      "execution_count": 7,
      "outputs": [
        {
          "output_type": "execute_result",
          "data": {
            "text/html": [
              "<div>\n",
              "<style scoped>\n",
              "    .dataframe tbody tr th:only-of-type {\n",
              "        vertical-align: middle;\n",
              "    }\n",
              "\n",
              "    .dataframe tbody tr th {\n",
              "        vertical-align: top;\n",
              "    }\n",
              "\n",
              "    .dataframe thead th {\n",
              "        text-align: right;\n",
              "    }\n",
              "</style>\n",
              "<table border=\"1\" class=\"dataframe\">\n",
              "  <thead>\n",
              "    <tr style=\"text-align: right;\">\n",
              "      <th></th>\n",
              "      <th>UserID</th>\n",
              "      <th>Full Name</th>\n",
              "      <th>Title</th>\n",
              "      <th>RoleID</th>\n",
              "      <th>CST</th>\n",
              "    </tr>\n",
              "    <tr>\n",
              "      <th>Labor Role</th>\n",
              "      <th></th>\n",
              "      <th></th>\n",
              "      <th></th>\n",
              "      <th></th>\n",
              "      <th></th>\n",
              "    </tr>\n",
              "  </thead>\n",
              "  <tbody>\n",
              "    <tr>\n",
              "      <th>Activation Strategy</th>\n",
              "      <td>4</td>\n",
              "      <td>4</td>\n",
              "      <td>4</td>\n",
              "      <td>4</td>\n",
              "      <td>4</td>\n",
              "    </tr>\n",
              "    <tr>\n",
              "      <th>Activation Strategy, Director</th>\n",
              "      <td>15</td>\n",
              "      <td>15</td>\n",
              "      <td>15</td>\n",
              "      <td>15</td>\n",
              "      <td>15</td>\n",
              "    </tr>\n",
              "    <tr>\n",
              "      <th>Activation Strategy, Executive Vice President</th>\n",
              "      <td>1</td>\n",
              "      <td>1</td>\n",
              "      <td>1</td>\n",
              "      <td>1</td>\n",
              "      <td>1</td>\n",
              "    </tr>\n",
              "    <tr>\n",
              "      <th>Activation Strategy, Junior</th>\n",
              "      <td>6</td>\n",
              "      <td>6</td>\n",
              "      <td>6</td>\n",
              "      <td>6</td>\n",
              "      <td>6</td>\n",
              "    </tr>\n",
              "    <tr>\n",
              "      <th>Activation Strategy, Manager</th>\n",
              "      <td>2</td>\n",
              "      <td>2</td>\n",
              "      <td>2</td>\n",
              "      <td>2</td>\n",
              "      <td>2</td>\n",
              "    </tr>\n",
              "    <tr>\n",
              "      <th>...</th>\n",
              "      <td>...</td>\n",
              "      <td>...</td>\n",
              "      <td>...</td>\n",
              "      <td>...</td>\n",
              "      <td>...</td>\n",
              "    </tr>\n",
              "    <tr>\n",
              "      <th>Web Development</th>\n",
              "      <td>66</td>\n",
              "      <td>66</td>\n",
              "      <td>66</td>\n",
              "      <td>66</td>\n",
              "      <td>66</td>\n",
              "    </tr>\n",
              "    <tr>\n",
              "      <th>Web Development, Director</th>\n",
              "      <td>1</td>\n",
              "      <td>1</td>\n",
              "      <td>1</td>\n",
              "      <td>1</td>\n",
              "      <td>1</td>\n",
              "    </tr>\n",
              "    <tr>\n",
              "      <th>Web Development, Junior</th>\n",
              "      <td>2</td>\n",
              "      <td>2</td>\n",
              "      <td>2</td>\n",
              "      <td>2</td>\n",
              "      <td>2</td>\n",
              "    </tr>\n",
              "    <tr>\n",
              "      <th>Web Development, Manager</th>\n",
              "      <td>1</td>\n",
              "      <td>1</td>\n",
              "      <td>1</td>\n",
              "      <td>1</td>\n",
              "      <td>1</td>\n",
              "    </tr>\n",
              "    <tr>\n",
              "      <th>Web Development, Senior</th>\n",
              "      <td>16</td>\n",
              "      <td>16</td>\n",
              "      <td>16</td>\n",
              "      <td>16</td>\n",
              "      <td>16</td>\n",
              "    </tr>\n",
              "  </tbody>\n",
              "</table>\n",
              "<p>222 rows × 5 columns</p>\n",
              "</div>"
            ],
            "text/plain": [
              "                                               UserID  Full Name  ...  RoleID  CST\n",
              "Labor Role                                                        ...             \n",
              "Activation Strategy                                 4          4  ...       4    4\n",
              "Activation Strategy, Director                      15         15  ...      15   15\n",
              "Activation Strategy, Executive Vice President       1          1  ...       1    1\n",
              "Activation Strategy, Junior                         6          6  ...       6    6\n",
              "Activation Strategy, Manager                        2          2  ...       2    2\n",
              "...                                               ...        ...  ...     ...  ...\n",
              "Web Development                                    66         66  ...      66   66\n",
              "Web Development, Director                           1          1  ...       1    1\n",
              "Web Development, Junior                             2          2  ...       2    2\n",
              "Web Development, Manager                            1          1  ...       1    1\n",
              "Web Development, Senior                            16         16  ...      16   16\n",
              "\n",
              "[222 rows x 5 columns]"
            ]
          },
          "metadata": {
            "tags": []
          },
          "execution_count": 7
        }
      ]
    },
    {
      "cell_type": "code",
      "metadata": {
        "id": "VdVzZG5XAMkf",
        "colab": {
          "base_uri": "https://localhost:8080/"
        },
        "outputId": "836ac161-08c1-4659-e636-69e7d6acc178"
      },
      "source": [
        "# Looks like the Role ID prefix can be used to categorize all these roles... \n",
        "KlickRoles.RoleID.unique()"
      ],
      "execution_count": 8,
      "outputs": [
        {
          "output_type": "execute_result",
          "data": {
            "text/plain": [
              "array(['TECHMMGD', 'EXCTVMGD', 'USBLTVPR', 'TECHMDIR', 'WEBDVSNR',\n",
              "       'TECHMVPR', 'FINCESVP', 'DESGNDIR', 'PRMGTDIR', 'TECHMSDR',\n",
              "       'PRMGTSTD', 'EXCTVSTD', 'PRMGTVPR', 'USBLTDIR', 'SLSTGVPR',\n",
              "       'TECHMSVP', 'MDSEMVPR', 'PRMGTSVP', 'DESGNMGR', 'FINCEMGR',\n",
              "       'BUSDVSVP', 'CLSRVMGD', 'EXCTVSVP', 'BUSDVVPR', 'EDITRVPR',\n",
              "       'CLSRVVPR', 'SYSADSTD', 'SYSADDIR', 'BUSDVSDR', 'TECHMADR',\n",
              "       'CLSRVSTD', 'PRMGTMGR', 'QLTASVPR', 'CONSTMGD', 'CRMNGADR',\n",
              "       'CLSRVSDR', 'QLTASMGR', 'CORPTADR', 'APPDVSNR', 'CLSRVSVP',\n",
              "       'DESGNSTD', 'APPDVMGR', 'ARTDRMGR', 'FINCEVPR', 'EDITRSVP',\n",
              "       'CLSRVDIR', 'MDRSHVPR', 'CRMNGVPR', 'STRGYEVP', 'SYSADSNR',\n",
              "       'FINCEDIR', 'PRMGTSDR', 'CRMSTSDR', 'ARTDRSTD', 'EDITRDIR',\n",
              "       'STRGYSVP', 'CPYWRMGR', 'APPDVSTD', 'CONSTDIR', 'STRGYVPR',\n",
              "       'OPRTNSTD', 'CORPTSTD', 'BUSANSNR', 'MDSEOVPR', 'ANLTCMGR',\n",
              "       'CORPTVPR', 'OPRTNDIR', 'CORPTMGR', 'CONSTMGR', 'CORPTDIR',\n",
              "       'EDITRSTD', 'MDSTGDIR', 'EDITRMGR', 'SLSTGSTD', 'PRDCRSNR',\n",
              "       'MDPLNDIR', 'CPYWRSTD', 'OPRTNJNR', 'QLTASSTD', 'ANLTCADR',\n",
              "       'WEBDVDIR', 'DESGNSNR', 'QLTASSNR', 'WEBDVMGR', 'MDSEOSTD',\n",
              "       'PRMGTSNR', 'CRMOPSTD', 'WEBDVSTD', 'MDPRGVPR', 'PRDCRDIR',\n",
              "       'CRMSTDIR', 'STRGYSNR', 'CORPTJNR', 'CORPTEVP', 'EXPDSVPR',\n",
              "       'STRGYMGR', 'SCIENVPR', 'CORPTSVP', 'BUSDVEVP', 'MDTTVSDR',\n",
              "       'STRGYDIR', 'CRMNGEVP', 'MDAOPVPR', 'BRSTGSVP', 'USBLTMGR',\n",
              "       'PRDCRSDR', 'SCIENSTD', 'FINCESTD', 'MDPLNSVP', 'MDSTGSVP',\n",
              "       'DATSCSTD', 'OPRTNSNR', 'CONSTVPR', 'STRGYSTD', 'MDPLNVPR',\n",
              "       'MDSEMMGR', 'MDSTGMGD', 'BUSANMGR', 'ARTDRSNR', 'CLSRVJNR',\n",
              "       'OPRTNADR', 'BRSTGSNR', 'USBLTSNR', 'MDSEMDIR', 'SLSTGADR',\n",
              "       'BRSTGVPR', 'MDSTGVPR', 'PRMGTJNR', 'EXPDSMGR', 'CONSTSVP',\n",
              "       'CRMSTVPR', 'CPYWRSNR', 'MDTTVSTD', 'MDAOPADR', 'MDPLNADR',\n",
              "       'OPRTNVPR', 'DESGNVPR', 'MDSTGSDR', 'MDPLNSDR', 'ANLTCVPR',\n",
              "       'MDPLNMGR', 'BRSTGDIR', 'FINCESNR', 'FINCEJNR', 'CORPTSDR',\n",
              "       'MDPLNSTD', 'CONSTSDR', 'STRGYJNR', 'BUSANDIR', 'SLSTGDIR',\n",
              "       'BUSANSTD', 'CONSTJNR', 'MDAOPMGR', 'ANLTCSTD', 'CRMNGSVP',\n",
              "       'CONSTSTD', 'MDSTGMGR', 'SYSADMGR', 'CRMOPMGR', 'DATSCSDR',\n",
              "       'CRMOPSNR', 'SCIENDIR', 'DESGNMGD', 'USBLTSTD', 'MDPLNJNR',\n",
              "       'MDPRGMGR', 'MDPDSMGR', 'ANLTCSNR', 'MDSTGADR', 'CRMNGSTD',\n",
              "       'ARTDRJNR', 'EXCTVEVP', 'ANLTCDIR', 'MDAOPJNR', 'ANLTCSDR',\n",
              "       'MDTTVADR', 'BRSTGMGD', 'MDSEOADR', 'MDPDSSTD', 'MDPDSDIR',\n",
              "       'MDPRGADR', 'DESGNADR', 'PRDCRSTD', 'MDSEMADR', 'CORPTSNR',\n",
              "       'MDRSHSTD', 'BRSTGEVP', 'SLSTGSNR', 'SLSTGJNR', 'FINCEEVP',\n",
              "       'MDRSHJNR', 'MDPDSJNR', 'MDTTVJNR', 'MDSEMSTD', 'DESGNSDR',\n",
              "       'SCIENJNR', 'CLSRVSNR', 'MDPDSSDR', 'MDSTGSTD', 'DESGNJNR',\n",
              "       'MDPRGSTD', 'BRSTGSTD', 'CRMOPDIR', 'PRDCRVPR', 'CPYWRJNR',\n",
              "       'MDSEOMGR', 'QLTASJNR', 'APPDVJNR', 'CONSTSNR', 'MDPDSADR',\n",
              "       'MDPRGJNR', 'WEBDVJNR', 'BUSDVSTD', 'ANLTCJNR', 'CRMSTJNR',\n",
              "       'BRSTGJNR', 'USBLTJNR', 'MDPRGSDR', 'VIDEDJNR', 'CLSRVMGR',\n",
              "       'PRDCRMGR', 'MDSTGJNR'], dtype=object)"
            ]
          },
          "metadata": {
            "tags": []
          },
          "execution_count": 8
        }
      ]
    },
    {
      "cell_type": "code",
      "metadata": {
        "colab": {
          "base_uri": "https://localhost:8080/"
        },
        "id": "n6si7-JzF_jc",
        "outputId": "41f22c88-6655-498b-b26d-bdaff85fb7c1"
      },
      "source": [
        "# but there are a LOT of roles...and looks like some overlap\n",
        "# for example MD isn't just Media, it's also Medical Strategy\n",
        "startswithmd = KlickRoles[KlickRoles.RoleID.str.startswith('MD')]\n",
        "startswithmd.RoleID.unique()"
      ],
      "execution_count": 9,
      "outputs": [
        {
          "output_type": "execute_result",
          "data": {
            "text/plain": [
              "array(['MDSEMVPR', 'MDRSHVPR', 'MDSEOVPR', 'MDSTGDIR', 'MDPLNDIR',\n",
              "       'MDSEOSTD', 'MDPRGVPR', 'MDTTVSDR', 'MDAOPVPR', 'MDPLNSVP',\n",
              "       'MDSTGSVP', 'MDPLNVPR', 'MDSEMMGR', 'MDSTGMGD', 'MDSEMDIR',\n",
              "       'MDSTGVPR', 'MDTTVSTD', 'MDAOPADR', 'MDPLNADR', 'MDSTGSDR',\n",
              "       'MDPLNSDR', 'MDPLNMGR', 'MDPLNSTD', 'MDAOPMGR', 'MDSTGMGR',\n",
              "       'MDPLNJNR', 'MDPRGMGR', 'MDPDSMGR', 'MDSTGADR', 'MDAOPJNR',\n",
              "       'MDTTVADR', 'MDSEOADR', 'MDPDSSTD', 'MDPDSDIR', 'MDPRGADR',\n",
              "       'MDSEMADR', 'MDRSHSTD', 'MDRSHJNR', 'MDPDSJNR', 'MDTTVJNR',\n",
              "       'MDSEMSTD', 'MDPDSSDR', 'MDSTGSTD', 'MDPRGSTD', 'MDSEOMGR',\n",
              "       'MDPDSADR', 'MDPRGJNR', 'MDPRGSDR', 'MDSTGJNR'], dtype=object)"
            ]
          },
          "metadata": {
            "tags": []
          },
          "execution_count": 9
        }
      ]
    },
    {
      "cell_type": "code",
      "metadata": {
        "colab": {
          "base_uri": "https://localhost:8080/",
          "height": 359
        },
        "id": "EUmi3pHAgKlF",
        "outputId": "4878daeb-e2d0-4a6a-f139-ac027f482edf"
      },
      "source": [
        "startswithmd.head(10)"
      ],
      "execution_count": 10,
      "outputs": [
        {
          "output_type": "execute_result",
          "data": {
            "text/html": [
              "<div>\n",
              "<style scoped>\n",
              "    .dataframe tbody tr th:only-of-type {\n",
              "        vertical-align: middle;\n",
              "    }\n",
              "\n",
              "    .dataframe tbody tr th {\n",
              "        vertical-align: top;\n",
              "    }\n",
              "\n",
              "    .dataframe thead th {\n",
              "        text-align: right;\n",
              "    }\n",
              "</style>\n",
              "<table border=\"1\" class=\"dataframe\">\n",
              "  <thead>\n",
              "    <tr style=\"text-align: right;\">\n",
              "      <th></th>\n",
              "      <th>UserID</th>\n",
              "      <th>Full Name</th>\n",
              "      <th>Title</th>\n",
              "      <th>RoleID</th>\n",
              "      <th>Labor Role</th>\n",
              "      <th>CST</th>\n",
              "    </tr>\n",
              "  </thead>\n",
              "  <tbody>\n",
              "    <tr>\n",
              "      <th>25</th>\n",
              "      <td>4001</td>\n",
              "      <td>Mike Ott</td>\n",
              "      <td>VP, Paid Search (SEM)</td>\n",
              "      <td>MDSEMVPR</td>\n",
              "      <td>Media - SEM, Vice President</td>\n",
              "      <td>Klick Health</td>\n",
              "    </tr>\n",
              "    <tr>\n",
              "      <th>65</th>\n",
              "      <td>4601</td>\n",
              "      <td>Johanna Maulawin</td>\n",
              "      <td>Vice President, Media Research</td>\n",
              "      <td>MDRSHVPR</td>\n",
              "      <td>Media - Research, Vice President</td>\n",
              "      <td>Klick Health</td>\n",
              "    </tr>\n",
              "    <tr>\n",
              "      <th>107</th>\n",
              "      <td>5016</td>\n",
              "      <td>Sharon Virtue</td>\n",
              "      <td>VP, SEO</td>\n",
              "      <td>MDSEOVPR</td>\n",
              "      <td>Media - SEO, Vice President</td>\n",
              "      <td>Klick Health</td>\n",
              "    </tr>\n",
              "    <tr>\n",
              "      <th>125</th>\n",
              "      <td>5172</td>\n",
              "      <td>Ali Rizvi</td>\n",
              "      <td>Medical Director</td>\n",
              "      <td>MDSTGDIR</td>\n",
              "      <td>Medical Strategy, Director</td>\n",
              "      <td>Klick Health</td>\n",
              "    </tr>\n",
              "    <tr>\n",
              "      <th>138</th>\n",
              "      <td>5305</td>\n",
              "      <td>Jacqueline Goldberg</td>\n",
              "      <td>Media Planning Director</td>\n",
              "      <td>MDPLNDIR</td>\n",
              "      <td>Media Planning, Director</td>\n",
              "      <td>Nova</td>\n",
              "    </tr>\n",
              "    <tr>\n",
              "      <th>177</th>\n",
              "      <td>5640</td>\n",
              "      <td>Paul Coulter</td>\n",
              "      <td>SEO Strategist</td>\n",
              "      <td>MDSEOSTD</td>\n",
              "      <td>Media - SEO</td>\n",
              "      <td>Klick Health</td>\n",
              "    </tr>\n",
              "    <tr>\n",
              "      <th>189</th>\n",
              "      <td>5726</td>\n",
              "      <td>Jacob Lustig</td>\n",
              "      <td>Vice President, Biddable &amp; Innovations</td>\n",
              "      <td>MDPRGVPR</td>\n",
              "      <td>Media - Programmatic, Vice President</td>\n",
              "      <td>Klick Health</td>\n",
              "    </tr>\n",
              "    <tr>\n",
              "      <th>232</th>\n",
              "      <td>5979</td>\n",
              "      <td>Gautam Gulati</td>\n",
              "      <td>Medical Director</td>\n",
              "      <td>MDSTGDIR</td>\n",
              "      <td>Medical Strategy, Director</td>\n",
              "      <td>Katalyst</td>\n",
              "    </tr>\n",
              "    <tr>\n",
              "      <th>238</th>\n",
              "      <td>6016</td>\n",
              "      <td>Anne Nomellini</td>\n",
              "      <td>Senior Director, TV Investment</td>\n",
              "      <td>MDTTVSDR</td>\n",
              "      <td>Media - TV, Senior Director</td>\n",
              "      <td>Klick Health</td>\n",
              "    </tr>\n",
              "    <tr>\n",
              "      <th>259</th>\n",
              "      <td>6130</td>\n",
              "      <td>Kenneth Rodriguez</td>\n",
              "      <td>Media Planning Director</td>\n",
              "      <td>MDPLNDIR</td>\n",
              "      <td>Media Planning, Director</td>\n",
              "      <td>Team Takeda</td>\n",
              "    </tr>\n",
              "  </tbody>\n",
              "</table>\n",
              "</div>"
            ],
            "text/plain": [
              "     UserID  ...           CST\n",
              "25     4001  ...  Klick Health\n",
              "65     4601  ...  Klick Health\n",
              "107    5016  ...  Klick Health\n",
              "125    5172  ...  Klick Health\n",
              "138    5305  ...          Nova\n",
              "177    5640  ...  Klick Health\n",
              "189    5726  ...  Klick Health\n",
              "232    5979  ...      Katalyst\n",
              "238    6016  ...  Klick Health\n",
              "259    6130  ...   Team Takeda\n",
              "\n",
              "[10 rows x 6 columns]"
            ]
          },
          "metadata": {
            "tags": []
          },
          "execution_count": 10
        }
      ]
    },
    {
      "cell_type": "code",
      "metadata": {
        "colab": {
          "base_uri": "https://localhost:8080/"
        },
        "id": "3FyU_MzUfljf",
        "outputId": "e36c849c-2b4d-4645-bb9b-8bf97fda178f"
      },
      "source": [
        "startswithmd.shape"
      ],
      "execution_count": 11,
      "outputs": [
        {
          "output_type": "execute_result",
          "data": {
            "text/plain": [
              "(132, 6)"
            ]
          },
          "metadata": {
            "tags": []
          },
          "execution_count": 11
        }
      ]
    },
    {
      "cell_type": "markdown",
      "metadata": {
        "id": "7DBGHrdQw9e4"
      },
      "source": [
        "☝ That looks 'scannable' in a spreadsheet\n",
        "\n",
        "Let's see if we can decode **Departments** by the **RoleID prefix**\n",
        "\n",
        "\n",
        "First...create 'masks' for the main departments I want to compare\n",
        "\n",
        "---\n",
        "\n",
        "\n"
      ]
    },
    {
      "cell_type": "code",
      "metadata": {
        "id": "zBVQYI-Wfz-x"
      },
      "source": [
        "# **MEDIA**\n",
        "mask1 = ((startswithmd.RoleID.str.startswith('MD')) & (~startswithmd.RoleID.str.startswith('MDST')))\n",
        "\n",
        "# **MEDICAL STRATEGY**\n",
        "mask2 = startswithmd.RoleID.str.startswith('MDST')"
      ],
      "execution_count": 12,
      "outputs": []
    },
    {
      "cell_type": "code",
      "metadata": {
        "colab": {
          "base_uri": "https://localhost:8080/"
        },
        "id": "zlmi6ujUxY-O",
        "outputId": "1a72ddaa-601a-41a7-a560-d8bfa8f22021"
      },
      "source": [
        "# then write a new CATEGORY column, based on what mask fits them\n",
        "# let's start with something easier to see, like this \"MD\" slice\n",
        "startswithmd['Category'] = np.select([mask1, mask2],['Media','Medical Strategy'],'Confusing')\n",
        "startswithmd.to_excel('/content/gdrive/My Drive/3. Klick/Corporate/MaskingTest_MedicalStrategy.xlsx')"
      ],
      "execution_count": 13,
      "outputs": [
        {
          "output_type": "stream",
          "text": [
            "/usr/local/lib/python3.7/dist-packages/ipykernel_launcher.py:3: SettingWithCopyWarning: \n",
            "A value is trying to be set on a copy of a slice from a DataFrame.\n",
            "Try using .loc[row_indexer,col_indexer] = value instead\n",
            "\n",
            "See the caveats in the documentation: https://pandas.pydata.org/pandas-docs/stable/user_guide/indexing.html#returning-a-view-versus-a-copy\n",
            "  This is separate from the ipykernel package so we can avoid doing imports until\n"
          ],
          "name": "stderr"
        }
      ]
    },
    {
      "cell_type": "markdown",
      "metadata": {
        "id": "AnmJoPGzyGuJ"
      },
      "source": [
        "A [quick scan](https://drive.google.com/file/d/1tb3GCNiiu4BeFIEg7jcrF2Q9Ur6Ubhju/view?usp=sharing) of **the 132** RoleIDs starting with \"MD\" looks like those masks work well enough!\n",
        "\n",
        "Now to create more masks, for those other departments we want to compare, by CST"
      ]
    },
    {
      "cell_type": "code",
      "metadata": {
        "id": "cQEyCHvAeFb9"
      },
      "source": [
        "# **01. MEDIA**\n",
        "mask1 = ((KlickRoles.RoleID.str.startswith('MD')) & (~startswithmd.RoleID.str.startswith('MDST')))\n",
        "\n",
        "# **02. STRATEGY**\n",
        "mask2 = (KlickRoles.RoleID.str.startswith('MDST') | \n",
        "         KlickRoles.RoleID.str.startswith('BRST')\n",
        "         )\n",
        "\n",
        "# **03. PROJECT MANAGEMENT**\n",
        "mask3 = KlickRoles.RoleID.str.startswith('PRMG')\n",
        "\n",
        "# **04. TECHNICAL**\n",
        "mask4 = (KlickRoles.RoleID.str.startswith('TECH') | \n",
        "         KlickRoles.RoleID.str.startswith('APP') | \n",
        "         KlickRoles.RoleID.str.startswith('QLTA') | \n",
        "         KlickRoles.RoleID.str.startswith('WEBDV') |\n",
        "         KlickRoles.RoleID.str.startswith('SYSAD') |         \n",
        "         KlickRoles.RoleID.str.startswith('WEBDV')       \n",
        "         )\n",
        "\n",
        "# **05. CLIENT SERVICES**\n",
        "mask5 = KlickRoles.RoleID.str.startswith('CLSR')\n",
        "\n",
        "# **06. CORPORATE OVERHEAD**\n",
        "mask6 = (KlickRoles.RoleID.str.startswith('EXCT') | \n",
        "         KlickRoles.RoleID.str.startswith('FINCE') | \n",
        "         KlickRoles.RoleID.str.startswith('CORP') | \n",
        "         KlickRoles.RoleID.str.startswith('BUSDV') |\n",
        "         KlickRoles.RoleID.str.startswith('OPRT')\n",
        "         )\n"
      ],
      "execution_count": 15,
      "outputs": []
    },
    {
      "cell_type": "code",
      "metadata": {
        "id": "Q3sZ24l1K7UG"
      },
      "source": [
        "# good enough, write those to a new CATEGORY column, based on what mask fits them\n",
        "# dump it to a spreadsheet to scan for matches\n",
        "KlickRoles['Category'] = np.select([mask1, mask2, mask3, mask4, mask5, mask6],[\n",
        "                                                   'Media',\n",
        "                                                   'Medical Strategy',\n",
        "                                                   'Project Management',\n",
        "                                                   'Technical Support',\n",
        "                                                   'Client Services',\n",
        "                                                   'Corporate Overhead'\n",
        "                                                   ],'Confusing')\n",
        "KlickRoles.to_excel('/content/gdrive/My Drive/3. Klick/Corporate/UnmaskingTest_aFewRolesMore.xlsx')"
      ],
      "execution_count": 16,
      "outputs": []
    }
  ]
}