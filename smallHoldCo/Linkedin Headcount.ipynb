{
 "cells": [
  {
   "cell_type": "code",
   "execution_count": 6,
   "metadata": {
    "collapsed": false
   },
   "outputs": [],
   "source": [
    "from lxml import html\n",
    "import csv, os, json\n",
    "import requests\n",
    "# from exceptions import ValueError\n",
    "from time import sleep"
   ]
  },
  {
   "cell_type": "code",
   "execution_count": 8,
   "metadata": {
    "collapsed": false
   },
   "outputs": [],
   "source": [
    "def linkedin_companies_parser(url):\n",
    "    for i in range(5):\n",
    "        try:\n",
    "            headers = {\n",
    "            'User-Agent': 'Mozilla/5.0 (X11; Linux x86_64) AppleWebKit/537.36 (KHTML, like Gecko) Chrome/42.0.2311.90 Safari/537.36'}\n",
    "            response = requests.get(url, headers=headers)\n",
    "            formatted_response = response.content.replace('<!--', '').replace('-->', '')\n",
    "            doc = html.fromstring(formatted_response)\n",
    "            datafrom_xpath = doc.xpath('//code[@id=\"stream-promo-top-bar-embed-id-content\"]//text()')\n",
    "            if datafrom_xpath:\n",
    "                try:\n",
    "                    json_formatted_data = json.loads(datafrom_xpath[0])\n",
    "                    company_name = json_formatted_data['companyName'] if 'companyName' in json_formatted_data.keys() else None\n",
    "                    size = json_formatted_data['size'] if 'size' in json_formatted_data.keys() else None\n",
    "                    industry = json_formatted_data['industry'] if 'industry' in json_formatted_data.keys() else None\n",
    "                    description = json_formatted_data['description'] if 'description' in json_formatted_data.keys() else None\n",
    "                    follower_count = json_formatted_data['followerCount'] if 'followerCount' in json_formatted_data.keys() else None\n",
    "                    year_founded = json_formatted_data['yearFounded'] if 'yearFounded' in json_formatted_data.keys() else None\n",
    "                    website = json_formatted_data['website'] if 'website' in json_formatted_data.keys() else None\n",
    "                    type = json_formatted_data['companyType'] if 'companyType' in json_formatted_data.keys() else None\n",
    "                    specialities = json_formatted_data['specialties'] if 'specialties' in json_formatted_data.keys() else None\n",
    " \n",
    "                    if \"headquarters\" in json_formatted_data.keys():\n",
    "                        city = json_formatted_data[\"headquarters\"]['city'] if 'city' in json_formatted_data[\"headquarters\"].keys() else None\n",
    "                        country = json_formatted_data[\"headquarters\"]['country'] if 'country' in json_formatted_data['headquarters'].keys() else None\n",
    "                        state = json_formatted_data[\"headquarters\"]['state'] if 'state' in json_formatted_data['headquarters'].keys() else None\n",
    "                        street1 = json_formatted_data[\"headquarters\"]['street1'] if 'street1' in json_formatted_data['headquarters'].keys() else None\n",
    "                        street2 = json_formatted_data[\"headquarters\"]['street2'] if 'street2' in json_formatted_data['headquarters'].keys() else None\n",
    "                        zip = json_formatted_data[\"headquarters\"]['zip'] if 'zip' in json_formatted_data['headquarters'].keys() else None\n",
    "                        street = street1 + ', ' + street2\n",
    "                    else:\n",
    "                        city = None\n",
    "                        country = None\n",
    "                        state = None\n",
    "                        street1 = None\n",
    "                        street2 = None\n",
    "                        street = None\n",
    "                        zip = None\n",
    " \n",
    "                    data = {\n",
    "                                'company_name': company_name,\n",
    "                                'size': size,\n",
    "                                'industry': industry,\n",
    "                                'description': description,\n",
    "                                'follower_count': follower_count,\n",
    "                                'founded': year_founded,\n",
    "                                'website': website,\n",
    "                                'type': type,\n",
    "                                'specialities': specialities,\n",
    "                                'city': city,\n",
    "                                'country': country,\n",
    "                                'state': state,\n",
    "                                'street': street,\n",
    "                                'zip': zip,\n",
    "                                'url': url\n",
    "                            }\n",
    "                    return data\n",
    "                except:\n",
    "                    print (\"cant parse page\", url)\n",
    " \n",
    "            # Retry in case of captcha or login page redirection\n",
    "            if len(response.content) < 2000 or \"trk=login_reg_redirect\" in url:\n",
    "                if response.status_code == 404:\n",
    "                    print (\"linkedin page not found\")\n",
    "                else:\n",
    "                    print ('ERROR')\n",
    "#                     raise ValueError('redirecting to login page or captcha found')\n",
    "        except :\n",
    "            print (\"retrying :\",url)\n"
   ]
  },
  {
   "cell_type": "code",
   "execution_count": 12,
   "metadata": {
    "collapsed": true
   },
   "outputs": [],
   "source": [
    "def readurls():\n",
    "    companyurls = ['https://www.linkedin.com/company-beta/84624']\n",
    "    extracted_data = []\n",
    "    for url in companyurls:\n",
    "        extracted_data.append(linkedin_companies_parser(url))\n",
    "        sleep(5)\n",
    "        f = open('data.json', 'w')\n",
    "        json.dump(extracted_data, f, indent=4)"
   ]
  },
  {
   "cell_type": "code",
   "execution_count": 13,
   "metadata": {
    "collapsed": false
   },
   "outputs": [
    {
     "name": "stdout",
     "output_type": "stream",
     "text": [
      "retrying : https://www.linkedin.com/company-beta/84624\n",
      "retrying : https://www.linkedin.com/company-beta/84624\n",
      "retrying : https://www.linkedin.com/company-beta/84624\n",
      "retrying : https://www.linkedin.com/company-beta/84624\n",
      "retrying : https://www.linkedin.com/company-beta/84624\n"
     ]
    }
   ],
   "source": [
    "readurls()"
   ]
  },
  {
   "cell_type": "code",
   "execution_count": null,
   "metadata": {
    "collapsed": true
   },
   "outputs": [],
   "source": []
  }
 ],
 "metadata": {
  "kernelspec": {
   "display_name": "Python 3",
   "language": "python",
   "name": "python3"
  },
  "language_info": {
   "codemirror_mode": {
    "name": "ipython",
    "version": 3
   },
   "file_extension": ".py",
   "mimetype": "text/x-python",
   "name": "python",
   "nbconvert_exporter": "python",
   "pygments_lexer": "ipython3",
   "version": "3.6.0"
  }
 },
 "nbformat": 4,
 "nbformat_minor": 2
}
