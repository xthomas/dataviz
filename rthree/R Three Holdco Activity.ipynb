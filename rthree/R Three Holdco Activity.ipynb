{
 "cells": [
  {
   "cell_type": "code",
   "execution_count": 1,
   "metadata": {
    "collapsed": false
   },
   "outputs": [],
   "source": [
    "import pandas as pd\n",
    "import os\n",
    "import gspread\n",
    "from gspread_dataframe import get_as_dataframe\n",
    "from oauth2client.service_account import ServiceAccountCredentials"
   ]
  },
  {
   "cell_type": "code",
   "execution_count": 2,
   "metadata": {
    "collapsed": false
   },
   "outputs": [],
   "source": [
    "# change directory to where the JSON SECRETS file lives\n",
    "os.chdir('/Users/xavier/Documents/src/dataviz/rthree/')"
   ]
  },
  {
   "cell_type": "code",
   "execution_count": 3,
   "metadata": {
    "collapsed": false
   },
   "outputs": [],
   "source": [
    "# use creds to create a client to interact with the Google Drive API\n",
    "scope = ['https://spreadsheets.google.com/feeds']\n",
    "creds = ServiceAccountCredentials.from_json_keyfile_name('client_secret.json', scope)\n",
    "client = gspread.authorize(creds)"
   ]
  },
  {
   "cell_type": "code",
   "execution_count": null,
   "metadata": {
    "collapsed": true
   },
   "outputs": [],
   "source": [
    "# Read in the workbooks by name\n",
    "# This will NOT READ TEAM DRIVES\n",
    "r3_1706 = client.open(\"2017_06_Holdco-Activity\")\n",
    "r3_1705 = client.open(\"2017_05_Holdco-Activity\")\n",
    "r3_1704 = client.open(\"2017_04_Holdco-Activity\")\n",
    "r3_1703 = client.open(\"2017_03_Holdco-Activity\")\n",
    "r3_1702 = client.open(\"2017_02_Holdco-Activity\")"
   ]
  },
  {
   "cell_type": "code",
   "execution_count": 13,
   "metadata": {
    "collapsed": false
   },
   "outputs": [],
   "source": [
    "global_1706 = get_as_dataframe(r3_1706.worksheet('GLOBAL'))\n",
    "global_1705 = get_as_dataframe(r3_1705.worksheet('GLOBAL'))\n",
    "global_1704 = get_as_dataframe(r3_1704.worksheet('GLOBAL'))\n",
    "global_1703 = get_as_dataframe(r3_1703.worksheet('GLOBAL'))\n",
    "global_1702 = get_as_dataframe(r3_1702.worksheet('GLOBAL'))"
   ]
  },
  {
   "cell_type": "code",
   "execution_count": 10,
   "metadata": {
    "collapsed": false
   },
   "outputs": [
    {
     "data": {
      "text/html": [
       "<div>\n",
       "<style>\n",
       "    .dataframe thead tr:only-child th {\n",
       "        text-align: right;\n",
       "    }\n",
       "\n",
       "    .dataframe thead th {\n",
       "        text-align: left;\n",
       "    }\n",
       "\n",
       "    .dataframe tbody tr th {\n",
       "        vertical-align: top;\n",
       "    }\n",
       "</style>\n",
       "<table border=\"1\" class=\"dataframe\">\n",
       "  <thead>\n",
       "    <tr style=\"text-align: right;\">\n",
       "      <th></th>\n",
       "      <th>RANK-THIS-MONTH</th>\n",
       "      <th>RANK-LAST-MONTH</th>\n",
       "      <th>HOLDING-GROUP</th>\n",
       "      <th>RECENT-ACQUISITIONS</th>\n",
       "      <th>TOTAL-DEAL-VALUE</th>\n",
       "      <th>TOTAL-DEAL-COUNT</th>\n",
       "    </tr>\n",
       "  </thead>\n",
       "  <tbody>\n",
       "    <tr>\n",
       "      <th>0</th>\n",
       "      <td>1.0</td>\n",
       "      <td>1.0</td>\n",
       "      <td>Dentsu</td>\n",
       "      <td>Grant Group, Leapfrog Online, DIVISADERO, SVG,...</td>\n",
       "      <td>526.0</td>\n",
       "      <td>15.0</td>\n",
       "    </tr>\n",
       "    <tr>\n",
       "      <th>1</th>\n",
       "      <td>2.0</td>\n",
       "      <td>3.0</td>\n",
       "      <td>Accenture</td>\n",
       "      <td>SinnerSchrader, Kunstmaan, The Monkeys +,MAUD,...</td>\n",
       "      <td>393.0</td>\n",
       "      <td>5.0</td>\n",
       "    </tr>\n",
       "    <tr>\n",
       "      <th>2</th>\n",
       "      <td>3.0</td>\n",
       "      <td>2.0</td>\n",
       "      <td>WPP</td>\n",
       "      <td>DT, Eightytwenty, Pmweb Comunicação, Shanghai,...</td>\n",
       "      <td>315.0</td>\n",
       "      <td>18.0</td>\n",
       "    </tr>\n",
       "    <tr>\n",
       "      <th>3</th>\n",
       "      <td>4.0</td>\n",
       "      <td>4.0</td>\n",
       "      <td>MCH Group</td>\n",
       "      <td>MC2 (\"MC-squared\")</td>\n",
       "      <td>219.0</td>\n",
       "      <td>1.0</td>\n",
       "    </tr>\n",
       "    <tr>\n",
       "      <th>4</th>\n",
       "      <td>5.0</td>\n",
       "      <td>0.0</td>\n",
       "      <td>Snap</td>\n",
       "      <td>Placed</td>\n",
       "      <td>125.0</td>\n",
       "      <td>1.0</td>\n",
       "    </tr>\n",
       "    <tr>\n",
       "      <th>5</th>\n",
       "      <td>6.0</td>\n",
       "      <td>5.0</td>\n",
       "      <td>Ascential</td>\n",
       "      <td>MediaLink</td>\n",
       "      <td>112.0</td>\n",
       "      <td>1.0</td>\n",
       "    </tr>\n",
       "    <tr>\n",
       "      <th>6</th>\n",
       "      <td>7.0</td>\n",
       "      <td>6.0</td>\n",
       "      <td>CMC Capital Partners</td>\n",
       "      <td>Creative Artists Agency</td>\n",
       "      <td>105.0</td>\n",
       "      <td>1.0</td>\n",
       "    </tr>\n",
       "    <tr>\n",
       "      <th>7</th>\n",
       "      <td>8.0</td>\n",
       "      <td>9.0</td>\n",
       "      <td>Hakuhodo</td>\n",
       "      <td>Beworks, Integrated Communications Group</td>\n",
       "      <td>98.0</td>\n",
       "      <td>2.0</td>\n",
       "    </tr>\n",
       "    <tr>\n",
       "      <th>8</th>\n",
       "      <td>9.0</td>\n",
       "      <td>7.0</td>\n",
       "      <td>Shenzhen Media Group (SZMG)</td>\n",
       "      <td>BEHE Adtech Solution</td>\n",
       "      <td>97.0</td>\n",
       "      <td>1.0</td>\n",
       "    </tr>\n",
       "    <tr>\n",
       "      <th>9</th>\n",
       "      <td>NaN</td>\n",
       "      <td>NaN</td>\n",
       "      <td>NaN</td>\n",
       "      <td>NaN</td>\n",
       "      <td>NaN</td>\n",
       "      <td>NaN</td>\n",
       "    </tr>\n",
       "    <tr>\n",
       "      <th>10</th>\n",
       "      <td>10.0</td>\n",
       "      <td>0.0</td>\n",
       "      <td>LiquidHub</td>\n",
       "      <td>Eveo</td>\n",
       "      <td>90.0</td>\n",
       "      <td>1.0</td>\n",
       "    </tr>\n",
       "    <tr>\n",
       "      <th>11</th>\n",
       "      <td>11.0</td>\n",
       "      <td>8.0</td>\n",
       "      <td>Econocom</td>\n",
       "      <td>Gigigo Group</td>\n",
       "      <td>84.0</td>\n",
       "      <td>1.0</td>\n",
       "    </tr>\n",
       "    <tr>\n",
       "      <th>12</th>\n",
       "      <td>12.0</td>\n",
       "      <td>0.0</td>\n",
       "      <td>Bertram Capital</td>\n",
       "      <td>DoubleDigit</td>\n",
       "      <td>78.0</td>\n",
       "      <td>1.0</td>\n",
       "    </tr>\n",
       "    <tr>\n",
       "      <th>13</th>\n",
       "      <td>13.0</td>\n",
       "      <td>10.0</td>\n",
       "      <td>GI Solutions Group</td>\n",
       "      <td>Eclipse Web</td>\n",
       "      <td>76.0</td>\n",
       "      <td>1.0</td>\n",
       "    </tr>\n",
       "    <tr>\n",
       "      <th>14</th>\n",
       "      <td>14.0</td>\n",
       "      <td>11.0</td>\n",
       "      <td>Guangdong Advertising Group</td>\n",
       "      <td>Shanghai Tuochang</td>\n",
       "      <td>76.0</td>\n",
       "      <td>1.0</td>\n",
       "    </tr>\n",
       "    <tr>\n",
       "      <th>15</th>\n",
       "      <td>15.0</td>\n",
       "      <td>12.0</td>\n",
       "      <td>Interel</td>\n",
       "      <td>AMG</td>\n",
       "      <td>70.0</td>\n",
       "      <td>1.0</td>\n",
       "    </tr>\n",
       "  </tbody>\n",
       "</table>\n",
       "</div>"
      ],
      "text/plain": [
       "    RANK-THIS-MONTH  RANK-LAST-MONTH                HOLDING-GROUP  \\\n",
       "0               1.0              1.0                       Dentsu   \n",
       "1               2.0              3.0                    Accenture   \n",
       "2               3.0              2.0                          WPP   \n",
       "3               4.0              4.0                    MCH Group   \n",
       "4               5.0              0.0                         Snap   \n",
       "5               6.0              5.0                    Ascential   \n",
       "6               7.0              6.0         CMC Capital Partners   \n",
       "7               8.0              9.0                     Hakuhodo   \n",
       "8               9.0              7.0  Shenzhen Media Group (SZMG)   \n",
       "9               NaN              NaN                          NaN   \n",
       "10             10.0              0.0                    LiquidHub   \n",
       "11             11.0              8.0                     Econocom   \n",
       "12             12.0              0.0              Bertram Capital   \n",
       "13             13.0             10.0           GI Solutions Group   \n",
       "14             14.0             11.0  Guangdong Advertising Group   \n",
       "15             15.0             12.0                      Interel   \n",
       "\n",
       "                                  RECENT-ACQUISITIONS  TOTAL-DEAL-VALUE  \\\n",
       "0   Grant Group, Leapfrog Online, DIVISADERO, SVG,...             526.0   \n",
       "1   SinnerSchrader, Kunstmaan, The Monkeys +,MAUD,...             393.0   \n",
       "2   DT, Eightytwenty, Pmweb Comunicação, Shanghai,...             315.0   \n",
       "3                                  MC2 (\"MC-squared\")             219.0   \n",
       "4                                              Placed             125.0   \n",
       "5                                           MediaLink             112.0   \n",
       "6                             Creative Artists Agency             105.0   \n",
       "7            Beworks, Integrated Communications Group              98.0   \n",
       "8                                BEHE Adtech Solution              97.0   \n",
       "9                                                 NaN               NaN   \n",
       "10                                               Eveo              90.0   \n",
       "11                                       Gigigo Group              84.0   \n",
       "12                                        DoubleDigit              78.0   \n",
       "13                                        Eclipse Web              76.0   \n",
       "14                                  Shanghai Tuochang              76.0   \n",
       "15                                                AMG              70.0   \n",
       "\n",
       "    TOTAL-DEAL-COUNT  \n",
       "0               15.0  \n",
       "1                5.0  \n",
       "2               18.0  \n",
       "3                1.0  \n",
       "4                1.0  \n",
       "5                1.0  \n",
       "6                1.0  \n",
       "7                2.0  \n",
       "8                1.0  \n",
       "9                NaN  \n",
       "10               1.0  \n",
       "11               1.0  \n",
       "12               1.0  \n",
       "13               1.0  \n",
       "14               1.0  \n",
       "15               1.0  "
      ]
     },
     "execution_count": 10,
     "metadata": {},
     "output_type": "execute_result"
    }
   ],
   "source": [
    "global_1706"
   ]
  },
  {
   "cell_type": "code",
   "execution_count": 14,
   "metadata": {
    "collapsed": false
   },
   "outputs": [
    {
     "data": {
      "text/html": [
       "<div>\n",
       "<style>\n",
       "    .dataframe thead tr:only-child th {\n",
       "        text-align: right;\n",
       "    }\n",
       "\n",
       "    .dataframe thead th {\n",
       "        text-align: left;\n",
       "    }\n",
       "\n",
       "    .dataframe tbody tr th {\n",
       "        vertical-align: top;\n",
       "    }\n",
       "</style>\n",
       "<table border=\"1\" class=\"dataframe\">\n",
       "  <thead>\n",
       "    <tr style=\"text-align: right;\">\n",
       "      <th></th>\n",
       "      <th>RANK-THIS-MONTH</th>\n",
       "      <th>RANK-LAST-MONTH</th>\n",
       "      <th>HOLDING-GROUP</th>\n",
       "      <th>RECENT-ACQUISITIONS</th>\n",
       "      <th>TOTAL-DEAL-VALUE</th>\n",
       "      <th>TOTAL-DEAL-COUNT</th>\n",
       "    </tr>\n",
       "  </thead>\n",
       "  <tbody>\n",
       "    <tr>\n",
       "      <th>0</th>\n",
       "      <td>1</td>\n",
       "      <td>1</td>\n",
       "      <td>Dentsu</td>\n",
       "      <td>Band Interprise, Dwi Sapta Group, blue-infinity</td>\n",
       "      <td>276</td>\n",
       "      <td>3</td>\n",
       "    </tr>\n",
       "    <tr>\n",
       "      <th>1</th>\n",
       "      <td>2</td>\n",
       "      <td>2</td>\n",
       "      <td>WPP</td>\n",
       "      <td>DT, Eightytwenty, Pmweb Comunicação, Shanghai ...</td>\n",
       "      <td>224</td>\n",
       "      <td>10</td>\n",
       "    </tr>\n",
       "    <tr>\n",
       "      <th>2</th>\n",
       "      <td>3</td>\n",
       "      <td>0</td>\n",
       "      <td>Ascential</td>\n",
       "      <td>MediaLink</td>\n",
       "      <td>112</td>\n",
       "      <td>1</td>\n",
       "    </tr>\n",
       "    <tr>\n",
       "      <th>3</th>\n",
       "      <td>4</td>\n",
       "      <td>0</td>\n",
       "      <td>Accenture</td>\n",
       "      <td>SinnerSchrader</td>\n",
       "      <td>106</td>\n",
       "      <td>1</td>\n",
       "    </tr>\n",
       "    <tr>\n",
       "      <th>4</th>\n",
       "      <td>5</td>\n",
       "      <td>0</td>\n",
       "      <td>Hakuhodo</td>\n",
       "      <td>Integrated Communications Group</td>\n",
       "      <td>84</td>\n",
       "      <td>1</td>\n",
       "    </tr>\n",
       "    <tr>\n",
       "      <th>5</th>\n",
       "      <td>6</td>\n",
       "      <td>0</td>\n",
       "      <td>GI Solutions Group</td>\n",
       "      <td>Eclipse Web</td>\n",
       "      <td>76</td>\n",
       "      <td>1</td>\n",
       "    </tr>\n",
       "    <tr>\n",
       "      <th>6</th>\n",
       "      <td>7</td>\n",
       "      <td>0</td>\n",
       "      <td>Interel</td>\n",
       "      <td>AMG</td>\n",
       "      <td>70</td>\n",
       "      <td>1</td>\n",
       "    </tr>\n",
       "    <tr>\n",
       "      <th>7</th>\n",
       "      <td>8</td>\n",
       "      <td>3</td>\n",
       "      <td>NEP Group</td>\n",
       "      <td>Avesco Group</td>\n",
       "      <td>63</td>\n",
       "      <td>1</td>\n",
       "    </tr>\n",
       "    <tr>\n",
       "      <th>8</th>\n",
       "      <td>9</td>\n",
       "      <td>4</td>\n",
       "      <td>Salesforce</td>\n",
       "      <td>Sequence</td>\n",
       "      <td>56</td>\n",
       "      <td>1</td>\n",
       "    </tr>\n",
       "    <tr>\n",
       "      <th>9</th>\n",
       "      <td>10</td>\n",
       "      <td>5</td>\n",
       "      <td>Time Inc</td>\n",
       "      <td>Adelphic</td>\n",
       "      <td>49</td>\n",
       "      <td>1</td>\n",
       "    </tr>\n",
       "    <tr>\n",
       "      <th>10</th>\n",
       "      <td>11</td>\n",
       "      <td>6</td>\n",
       "      <td>LDC</td>\n",
       "      <td>Fishawack Group</td>\n",
       "      <td>47</td>\n",
       "      <td>1</td>\n",
       "    </tr>\n",
       "    <tr>\n",
       "      <th>11</th>\n",
       "      <td>12</td>\n",
       "      <td>0</td>\n",
       "      <td>Omnicom</td>\n",
       "      <td>Lucky Generals</td>\n",
       "      <td>45</td>\n",
       "      <td>1</td>\n",
       "    </tr>\n",
       "    <tr>\n",
       "      <th>12</th>\n",
       "      <td>13</td>\n",
       "      <td>7</td>\n",
       "      <td>DMA Media</td>\n",
       "      <td>TheNewsMarket</td>\n",
       "      <td>43</td>\n",
       "      <td>1</td>\n",
       "    </tr>\n",
       "    <tr>\n",
       "      <th>13</th>\n",
       "      <td>14</td>\n",
       "      <td>8</td>\n",
       "      <td>Zone Digital</td>\n",
       "      <td>HEAD</td>\n",
       "      <td>25</td>\n",
       "      <td>1</td>\n",
       "    </tr>\n",
       "    <tr>\n",
       "      <th>14</th>\n",
       "      <td>15</td>\n",
       "      <td>0</td>\n",
       "      <td>M&amp;C Saatchi</td>\n",
       "      <td>Bohemia</td>\n",
       "      <td>25</td>\n",
       "      <td>1</td>\n",
       "    </tr>\n",
       "  </tbody>\n",
       "</table>\n",
       "</div>"
      ],
      "text/plain": [
       "    RANK-THIS-MONTH  RANK-LAST-MONTH       HOLDING-GROUP  \\\n",
       "0                 1                1              Dentsu   \n",
       "1                 2                2                 WPP   \n",
       "2                 3                0           Ascential   \n",
       "3                 4                0           Accenture   \n",
       "4                 5                0            Hakuhodo   \n",
       "5                 6                0  GI Solutions Group   \n",
       "6                 7                0             Interel   \n",
       "7                 8                3           NEP Group   \n",
       "8                 9                4          Salesforce   \n",
       "9                10                5            Time Inc   \n",
       "10               11                6                 LDC   \n",
       "11               12                0             Omnicom   \n",
       "12               13                7           DMA Media   \n",
       "13               14                8        Zone Digital   \n",
       "14               15                0         M&C Saatchi   \n",
       "\n",
       "                                  RECENT-ACQUISITIONS  TOTAL-DEAL-VALUE  \\\n",
       "0     Band Interprise, Dwi Sapta Group, blue-infinity               276   \n",
       "1   DT, Eightytwenty, Pmweb Comunicação, Shanghai ...               224   \n",
       "2                                           MediaLink               112   \n",
       "3                                      SinnerSchrader               106   \n",
       "4                     Integrated Communications Group                84   \n",
       "5                                         Eclipse Web                76   \n",
       "6                                                 AMG                70   \n",
       "7                                        Avesco Group                63   \n",
       "8                                            Sequence                56   \n",
       "9                                            Adelphic                49   \n",
       "10                                    Fishawack Group                47   \n",
       "11                                     Lucky Generals                45   \n",
       "12                                      TheNewsMarket                43   \n",
       "13                                               HEAD                25   \n",
       "14                                            Bohemia                25   \n",
       "\n",
       "    TOTAL-DEAL-COUNT  \n",
       "0                  3  \n",
       "1                 10  \n",
       "2                  1  \n",
       "3                  1  \n",
       "4                  1  \n",
       "5                  1  \n",
       "6                  1  \n",
       "7                  1  \n",
       "8                  1  \n",
       "9                  1  \n",
       "10                 1  \n",
       "11                 1  \n",
       "12                 1  \n",
       "13                 1  \n",
       "14                 1  "
      ]
     },
     "execution_count": 14,
     "metadata": {},
     "output_type": "execute_result"
    }
   ],
   "source": [
    "global_1702"
   ]
  },
  {
   "cell_type": "code",
   "execution_count": 15,
   "metadata": {
    "collapsed": false
   },
   "outputs": [
    {
     "data": {
      "text/plain": [
       "2464.0"
      ]
     },
     "execution_count": 15,
     "metadata": {},
     "output_type": "execute_result"
    }
   ],
   "source": [
    "global_1706[\"TOTAL-DEAL-VALUE\"].sum()"
   ]
  },
  {
   "cell_type": "code",
   "execution_count": 16,
   "metadata": {
    "collapsed": false
   },
   "outputs": [
    {
     "data": {
      "text/plain": [
       "2109"
      ]
     },
     "execution_count": 16,
     "metadata": {},
     "output_type": "execute_result"
    }
   ],
   "source": [
    "global_1705[\"TOTAL-DEAL-VALUE\"].sum()"
   ]
  },
  {
   "cell_type": "code",
   "execution_count": 17,
   "metadata": {
    "collapsed": false
   },
   "outputs": [
    {
     "data": {
      "text/plain": [
       "1768"
      ]
     },
     "execution_count": 17,
     "metadata": {},
     "output_type": "execute_result"
    }
   ],
   "source": [
    "global_1704[\"TOTAL-DEAL-VALUE\"].sum()"
   ]
  },
  {
   "cell_type": "code",
   "execution_count": 18,
   "metadata": {
    "collapsed": false
   },
   "outputs": [
    {
     "data": {
      "text/plain": [
       "1413"
      ]
     },
     "execution_count": 18,
     "metadata": {},
     "output_type": "execute_result"
    }
   ],
   "source": [
    "global_1703[\"TOTAL-DEAL-VALUE\"].sum()"
   ]
  },
  {
   "cell_type": "code",
   "execution_count": 19,
   "metadata": {
    "collapsed": false
   },
   "outputs": [
    {
     "data": {
      "text/plain": [
       "1301"
      ]
     },
     "execution_count": 19,
     "metadata": {},
     "output_type": "execute_result"
    }
   ],
   "source": [
    "global_1702[\"TOTAL-DEAL-VALUE\"].sum()"
   ]
  },
  {
   "cell_type": "code",
   "execution_count": null,
   "metadata": {
    "collapsed": true
   },
   "outputs": [],
   "source": []
  }
 ],
 "metadata": {
  "anaconda-cloud": {},
  "kernelspec": {
   "display_name": "Python [default]",
   "language": "python",
   "name": "python3"
  },
  "language_info": {
   "codemirror_mode": {
    "name": "ipython",
    "version": 3
   },
   "file_extension": ".py",
   "mimetype": "text/x-python",
   "name": "python",
   "nbconvert_exporter": "python",
   "pygments_lexer": "ipython3",
   "version": "3.5.2"
  }
 },
 "nbformat": 4,
 "nbformat_minor": 2
}
