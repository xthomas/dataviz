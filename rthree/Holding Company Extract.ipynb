{
 "cells": [
  {
   "cell_type": "code",
   "execution_count": 1,
   "metadata": {
    "collapsed": true
   },
   "outputs": [],
   "source": [
    "import pdftables_api\n",
    "import glob, os"
   ]
  },
  {
   "cell_type": "code",
   "execution_count": 2,
   "metadata": {
    "collapsed": false
   },
   "outputs": [],
   "source": [
    "# test api key\n",
    "# my_api_key = 'km7epnhf587n'\n",
    "# first production run api key\n",
    "# my_api_key = 'y3x49n891re1'\n",
    "# second production run api key\n",
    "# my_api_key = 'i7xapmq2mtyw'\n",
    "# third production run api key\n",
    "# my_api_key = 'rf914plivjbp'\n",
    "# fourth production run api key\n",
    "my_api_key = 'g0b6gzouogv2'\n",
    "os.chdir('./data/')\n",
    "cli = pdftables_api.Client(my_api_key)"
   ]
  },
  {
   "cell_type": "code",
   "execution_count": 3,
   "metadata": {
    "collapsed": false
   },
   "outputs": [],
   "source": [
    "for file in list (glob.glob('201*.pdf')):\n",
    "    filename, extension = file.split('.')\n",
    "    cli.xlsx(file,filename + '.xlsx')"
   ]
  },
  {
   "cell_type": "code",
   "execution_count": null,
   "metadata": {
    "collapsed": true
   },
   "outputs": [],
   "source": []
  }
 ],
 "metadata": {
  "anaconda-cloud": {},
  "kernelspec": {
   "display_name": "Python [default]",
   "language": "python",
   "name": "python3"
  },
  "language_info": {
   "codemirror_mode": {
    "name": "ipython",
    "version": 3
   },
   "file_extension": ".py",
   "mimetype": "text/x-python",
   "name": "python",
   "nbconvert_exporter": "python",
   "pygments_lexer": "ipython3",
   "version": "3.5.2"
  }
 },
 "nbformat": 4,
 "nbformat_minor": 2
}
