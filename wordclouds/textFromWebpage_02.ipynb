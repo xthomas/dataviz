{
 "cells": [
  {
   "cell_type": "code",
   "execution_count": 5,
   "metadata": {},
   "outputs": [],
   "source": [
    "import bs4\n",
    "import re\n",
    "import urllib.request"
   ]
  },
  {
   "cell_type": "code",
   "execution_count": 6,
   "metadata": {},
   "outputs": [],
   "source": [
    "# local directory setup\n",
    "datadir = \"/home/xavier/data/wordclouds/spero/pubs/\"\n",
    "url = 'https://note2self.postach.io/post/community-factors-in-the-development-of-antibiotic-resistance'"
   ]
  },
  {
   "cell_type": "code",
   "execution_count": 7,
   "metadata": {},
   "outputs": [],
   "source": [
    "def textify(url):\n",
    "    print(\"downloading: \",url)\n",
    "    filename=url.rsplit('/',1)[1].rsplit('.')[0]\n",
    "    print (filename)\n",
    "    webpage = (str(urllib.request.urlopen(url).read()))\n",
    "    webpage = re.sub(r'\\\\n\\s+|\\\\n','',webpage)\n",
    "    soup = bs4.BeautifulSoup(webpage)\n",
    "    with open (datadir + filename + \".txt\", \"w\") as text_file:\n",
    "        print(soup.get_text(), file=text_file)"
   ]
  },
  {
   "cell_type": "code",
   "execution_count": 8,
   "metadata": {},
   "outputs": [
    {
     "name": "stdout",
     "output_type": "stream",
     "text": [
      "downloading:  https://note2self.postach.io/post/community-factors-in-the-development-of-antibiotic-resistance\n",
      "community-factors-in-the-development-of-antibiotic-resistance\n"
     ]
    }
   ],
   "source": [
    "textify(url)"
   ]
  },
  {
   "cell_type": "code",
   "execution_count": null,
   "metadata": {},
   "outputs": [],
   "source": []
  }
 ],
 "metadata": {
  "kernelspec": {
   "display_name": "Python 3",
   "language": "python",
   "name": "python3"
  },
  "language_info": {
   "codemirror_mode": {
    "name": "ipython",
    "version": 3
   },
   "file_extension": ".py",
   "mimetype": "text/x-python",
   "name": "python",
   "nbconvert_exporter": "python",
   "pygments_lexer": "ipython3",
   "version": "3.6.4"
  }
 },
 "nbformat": 4,
 "nbformat_minor": 2
}
