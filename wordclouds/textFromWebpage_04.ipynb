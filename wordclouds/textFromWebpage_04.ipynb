{
 "cells": [
  {
   "cell_type": "code",
   "execution_count": 58,
   "metadata": {},
   "outputs": [],
   "source": [
    "import bs4\n",
    "import pandas as pd\n",
    "import re\n",
    "from urllib.request import Request, urlopen\n",
    "import os, ssl\n",
    "if (not os.environ.get('PYTHONHTTPSVERIFY', '') and getattr(ssl, '_create_unverified_context', None)):\n",
    "    ssl._create_default_https_context = ssl._create_unverified_context"
   ]
  },
  {
   "cell_type": "code",
   "execution_count": 59,
   "metadata": {},
   "outputs": [],
   "source": [
    "# local directory setup\n",
    "datadir = '/home/xavier/data/wordclouds/spero/journals/output02/'\n",
    "# url = 'https://note2self.postach.io/post/community-factors-in-the-development-of-antibiotic-resistance'\n",
    "urlclump = '/home/xavier/data/wordclouds/spero/journals/community-stewardship-resistant.csv'"
   ]
  },
  {
   "cell_type": "code",
   "execution_count": 60,
   "metadata": {
    "scrolled": true
   },
   "outputs": [
    {
     "data": {
      "text/plain": [
       "94"
      ]
     },
     "execution_count": 60,
     "metadata": {},
     "output_type": "execute_result"
    }
   ],
   "source": [
    "urls = pd.read_csv(urlclump)\n",
    "urls.size"
   ]
  },
  {
   "cell_type": "code",
   "execution_count": 61,
   "metadata": {},
   "outputs": [
    {
     "data": {
      "text/plain": [
       "Int64Index([2, 19, 25, 30, 42, 43, 56, 57, 62, 66, 69, 71, 72, 74, 83, 86, 89,\n",
       "            93],\n",
       "           dtype='int64')"
      ]
     },
     "execution_count": 61,
     "metadata": {},
     "output_type": "execute_result"
    }
   ],
   "source": [
    "#ignore PDF files\n",
    "pdfUrls = urls[\n",
    "    urls['url']\n",
    "    .str.contains('pdf', case = False, na=False)].index\n",
    "pdfUrls"
   ]
  },
  {
   "cell_type": "code",
   "execution_count": 62,
   "metadata": {},
   "outputs": [
    {
     "data": {
      "text/plain": [
       "76"
      ]
     },
     "execution_count": 62,
     "metadata": {},
     "output_type": "execute_result"
    }
   ],
   "source": [
    "urls.drop(pdfUrls , inplace = True)\n",
    "urls.size"
   ]
  },
  {
   "cell_type": "markdown",
   "metadata": {},
   "source": [
    "# Now run the TEXTIFY function on the list of URLs"
   ]
  },
  {
   "cell_type": "code",
   "execution_count": 63,
   "metadata": {},
   "outputs": [],
   "source": [
    "def textify(url):\n",
    "    print(\"downloading: \",url)\n",
    "    filename=url.rsplit('/',1)[1].rsplit('.')[0]\n",
    "    print (filename)\n",
    "    req = Request(url, headers={'User-Agent': 'Mozilla/5.0'})\n",
    "    webpage = str(urlopen(req).read())\n",
    "    webpage = re.sub(r'\\\\n\\s+|\\\\n','',webpage)\n",
    "    soup = bs4.BeautifulSoup(webpage)\n",
    "    with open (datadir + filename + \".txt\", \"w\") as text_file:\n",
    "        print(soup.get_text(), file=text_file)"
   ]
  },
  {
   "cell_type": "code",
   "execution_count": 64,
   "metadata": {
    "scrolled": false
   },
   "outputs": [
    {
     "name": "stdout",
     "output_type": "stream",
     "text": [
      "downloading:  https://www.cdc.gov/drugresistance/solutions-initiative/community.html\n",
      "community\n",
      "downloading:  https://www.cdc.gov/drugresistance/solutions-initiative/community.html\n",
      "community\n",
      "downloading:  https://apic.org/professional-practice/practice-resources/antimicrobial-stewardship/\n",
      "\n",
      "downloading:  https://essentialhospitals.org/the-importance-of-antibiotic-stewardship-at-essential-hospitals/\n",
      "\n",
      "downloading:  https://www.cdc.gov/antibiotic-use/community/programs-measurement/state-local-activities/framework.html\n",
      "framework\n",
      "downloading:  https://www.sciencedirect.com/science/article/pii/S2213716514000976\n",
      "S2213716514000976\n",
      "downloading:  https://www.ncbi.nlm.nih.gov/pubmed/21795728\n",
      "21795728\n",
      "downloading:  https://www.ncbi.nlm.nih.gov/pubmed/28350902\n",
      "28350902\n",
      "downloading:  https://www.nfwf.org/community-stewardship\n",
      "community-stewardship\n",
      "downloading:  http://www.cidrap.umn.edu/news-perspective/2020/02/stewardship-resistance-scan-feb-26-2020\n",
      "stewardship-resistance-scan-feb-26-2020\n",
      "downloading:  http://www.cidrap.umn.edu/news-perspective/2020/03/stewardship-resistance-scan-mar-12-2020\n",
      "stewardship-resistance-scan-mar-12-2020\n",
      "downloading:  https://www.health.state.mn.us/diseases/antibioticresistance/index.html\n",
      "index\n",
      "downloading:  https://www.drugtopics.com/antibiotic-resistance/antimicrobial-stewardship-protecting-global-health\n",
      "antimicrobial-stewardship-protecting-global-health\n",
      "downloading:  http://www.insidepatientcare.com/issues/2017/january-2017-vol-5-no-1/452-antimicrobial-stewardship-how-the-community-pharmacist-can-help\n",
      "452-antimicrobial-stewardship-how-the-community-pharmacist-can-help\n",
      "downloading:  https://cvshealth.com/newsroom/press-releases/antibiotic-resistance-toward-better-stewardship-precious-medical-resource\n",
      "antibiotic-resistance-toward-better-stewardship-precious-medical-resource\n",
      "downloading:  https://www.dhhs.nh.gov/dphs/cdcs/hai/ar-providers.htm\n",
      "ar-providers\n",
      "downloading:  https://www.michigan.gov/mdhhs/0,5885,7-339-71550_5104_55205_55209-268147--,00.html\n",
      "0,5885,7-339-71550_5104_55205_55209-268147--,00\n",
      "downloading:  https://www.mdedge.com/infectiousdisease/article/143267/antimicrobial-resistant-infections/small-community-hospitals-need\n",
      "small-community-hospitals-need\n",
      "downloading:  https://school.wakehealth.edu/Departments/Internal-Medicine/Infectious-Diseases/CAUSE\n",
      "CAUSE\n",
      "downloading:  http://www.dph.illinois.gov/topics-services/prevention-wellness/patient-safety-quality/antimicrobial-stewardship\n",
      "antimicrobial-stewardship\n",
      "downloading:  https://dcasip.medicine.duke.edu/\n",
      "\n",
      "downloading:  http://www.phf.org/programs/antibioticstewardship/Pages/default.aspx\n",
      "default\n",
      "downloading:  https://www.astho.org/Antimicrobial-Stewardship/\n",
      "\n",
      "downloading:  https://www.hospitalmedicine.org/clinical-topics/antibiotic-resistance/\n",
      "\n",
      "downloading:  https://health.hawaii.gov/docd/for-healthcare-providers/healthcare-associated-infections/hawaii-antimicrobial-stewardship-collaborative-hasc/\n",
      "\n",
      "downloading:  https://journals.plos.org/plosmedicine/article?id=10.1371/journal.pmed.1002825\n",
      "journal\n",
      "downloading:  https://www.alabamapublichealth.gov/hai/antimicrobial-resistance-and-antibiotic-stewardship.html\n",
      "antimicrobial-resistance-and-antibiotic-stewardship\n",
      "downloading:  https://www.managedhealthcareexecutive.com/business-strategy/four-steps-managed-care-can-take-promote-antimicrobial-stewardship\n",
      "four-steps-managed-care-can-take-promote-antimicrobial-stewardship\n",
      "downloading:  https://hip.phila.gov/DiseaseControlGuidance/AntibioticStewardship\n",
      "AntibioticStewardship\n",
      "downloading:  https://www.pharmaceutical-journal.com/research/review-article/pharmacys-role-in-antimicrobial-resistance-and-stewardship/20204885.article\n",
      "20204885\n",
      "downloading:  https://www.hanys.org/spotlight/?a=vs&s=NewYork-Presbyterian_Queens_addresses_antibiotic_stewardship_in_the_community\n",
      "?a=vs&s=NewYork-Presbyterian_Queens_addresses_antibiotic_stewardship_in_the_community\n",
      "downloading:  https://jamanetwork.com/journals/jamanetworkopen/fullarticle/2748048\n",
      "2748048\n",
      "downloading:  https://greatplainsqin.org/initiatives/antibiotic-stewardship/\n",
      "\n",
      "downloading:  https://www.khconline.org/14-khc-initiatives/402-hai-ar\n",
      "402-hai-ar\n",
      "downloading:  https://www.hindawi.com/journals/ipid/2016/5686752/\n",
      "\n",
      "downloading:  https://health.ucdavis.edu/antibiotic-stewardship/outpatient-stewardship.html\n",
      "outpatient-stewardship\n",
      "downloading:  https://www.biomerieuxconnection.com/2019/06/18/new-antibiotic-stewardship-study-shows-positive-and-dramatic-results-for-community-hospital/\n",
      "\n",
      "downloading:  https://asp.nm.org/educational-materials.html\n",
      "educational-materials\n",
      "downloading:  https://www.idsociety.org/policy--advocacy/antimicrobial-resistance/antimicrobial-stewardship/\n",
      "\n",
      "downloading:  https://www.nj.gov/health/cd/topics/stewardship.shtml\n",
      "stewardship\n",
      "downloading:  https://aricjournal.biomedcentral.com/articles/10.1186/s13756-019-0471-0\n",
      "s13756-019-0471-0\n",
      "downloading:  http://www.millvalleyrecreation.org/get_involved/environmental_stewardship.htm\n",
      "environmental_stewardship\n",
      "downloading:  https://mbio.asm.org/content/10/6/e01105-19\n",
      "e01105-19\n",
      "downloading:  https://www.msv.org/partner-hqi-improve-antibiotic-stewardship-your-community\n",
      "partner-hqi-improve-antibiotic-stewardship-your-community\n",
      "downloading:  http://www.einstein.yu.edu/departments/medicine/divisions/infectious-diseases/antimicrobial-stewardship/\n",
      "\n",
      "downloading:  https://blogs.worldbank.org/health/how-antimicrobial-resistance-amr-stewardship-critical-part-strong-health-systems\n",
      "how-antimicrobial-resistance-amr-stewardship-critical-part-strong-health-systems\n",
      "downloading:  https://www.chemistryworld.com/news/poor-antibiotic-stewardship-blamed-as-india-found-to-be-superbugs-birthplace/4010954.article\n",
      "4010954\n",
      "downloading:  https://en.wikipedia.org/wiki/Antimicrobial_stewardship\n",
      "Antimicrobial_stewardship\n",
      "downloading:  https://www.nwrpca.org/news/405545/Combat-Antibiotic-Resistance-with-Antimicrobial-Stewardship.htm\n",
      "Combat-Antibiotic-Resistance-with-Antimicrobial-Stewardship\n",
      "downloading:  https://www.pewtrusts.org/en/research-and-analysis/articles/2020/01/17/one-health-systems-approach-to-tackling-antibiotic-resistance\n",
      "one-health-systems-approach-to-tackling-antibiotic-resistance\n",
      "downloading:  https://www.dshs.state.tx.us/IDCU/health/Antibiotic-Stewardship/Antibiotic-Stewardship-Resources/\n",
      "\n",
      "downloading:  https://pijac.org/press/pijac-releases-recommendations-antibiotic-stewardship-pet-care-community\n",
      "pijac-releases-recommendations-antibiotic-stewardship-pet-care-community\n",
      "downloading:  https://www.health.nd.gov/diseases-conditions/antibiotic-resistance-and-antimicrobial\n",
      "antibiotic-resistance-and-antimicrobial\n",
      "downloading:  https://www.frontiersin.org/articles/10.3389/fphar.2019.01520/full\n",
      "full\n",
      "downloading:  https://www.cambridge.org/core/journals/infection-control-and-hospital-epidemiology/article/antimicrobial-stewardship-for-acutecare-hospitals-an-asian-perspective/EB3E4045B619F698DF50519619B8178F\n",
      "EB3E4045B619F698DF50519619B8178F\n",
      "downloading:  https://blogs.vcu.edu/pharmacy/2018/11/auxiliary-label-antibiotic-stewardship-research-in-a-community-outpatient-setting/\n",
      "\n",
      "downloading:  https://cha.com/quality-patient-safety/antimicrobial-stewardship/\n",
      "\n",
      "downloading:  https://www.ruralhealthinfo.org/rural-monitor/antibiotic-stewardship/\n",
      "\n",
      "downloading:  https://www.idstewardship.com/case-missed-top-idstewardship-journal-articles-trending-march-2019/\n",
      "\n",
      "downloading:  http://www.tuftscimar.org/our-research/\n",
      "\n",
      "downloading:  https://www.sciencedaily.com/releases/2019/10/191030101135.htm\n",
      "191030101135\n",
      "downloading:  http://www.bccdc.ca/our-services/programs/community-antimicrobial-stewardship\n",
      "community-antimicrobial-stewardship\n",
      "downloading:  http://dx.doi.org/10.1097/ACM.0000000000002859\n",
      "ACM\n",
      "downloading:  https://www.tandfonline.com/doi/full/10.1080/14787210.2019.1692655?scroll=top&needAccess=true\n",
      "14787210\n",
      "downloading:  https://link.springer.com/article/10.1007/s40121-019-0238-1\n",
      "s40121-019-0238-1\n",
      "downloading:  https://stlcop-ce.learningexpressce.com/index.cfm?fa=view&eventID=8430\n",
      "index\n",
      "downloading:  https://www.journalofhospitalmedicine.com/jhospmed/article/128477/hospitalists-role-stewardship\n",
      "hospitalists-role-stewardship\n",
      "downloading:  https://williamsonmedicalcenter.org/in-the-community/healthyu/2016/01/21/antibiotic-stewardship-program-at-williamson-medical-center-gains-national-recognition/\n",
      "\n",
      "downloading:  https://www.cheyenneregional.org/hospitals-antimicrobial-stewardship-program-receives-national-attention/\n",
      "\n",
      "downloading:  https://www.uptodate.com/contents/treatment-of-community-acquired-pneumonia-in-adults-who-require-hospitalization\n",
      "treatment-of-community-acquired-pneumonia-in-adults-who-require-hospitalization\n"
     ]
    },
    {
     "name": "stdout",
     "output_type": "stream",
     "text": [
      "downloading:  https://intermountainhealthcare.org/about/podcasts/intermountain-podcast-episodes/ep30/\n",
      "\n",
      "downloading:  https://smartsteward.co/be-an-antibiotic-stewardship-warrior/\n",
      "\n",
      "downloading:  https://www.hqi.solutions/news/antibiotics-aware-resources-support-antibiotic-stewardship-efforts/\n",
      "\n",
      "downloading:  https://www.cste.org/blogpost/1084057/220881/CSTE-Supports-Antibiotic-Resistance-Stewardship\n",
      "CSTE-Supports-Antibiotic-Resistance-Stewardship\n",
      "downloading:  http://orleanscommunityhealth.org/och-implements-antibiotic-stewardship-program/\n",
      "\n",
      "downloading:  https://arlg.org/how-to-apply/\n",
      "\n"
     ]
    },
    {
     "data": {
      "text/plain": [
       "0     None\n",
       "1     None\n",
       "3     None\n",
       "4     None\n",
       "5     None\n",
       "6     None\n",
       "7     None\n",
       "8     None\n",
       "9     None\n",
       "10    None\n",
       "11    None\n",
       "12    None\n",
       "13    None\n",
       "14    None\n",
       "15    None\n",
       "16    None\n",
       "17    None\n",
       "18    None\n",
       "20    None\n",
       "21    None\n",
       "22    None\n",
       "23    None\n",
       "24    None\n",
       "26    None\n",
       "27    None\n",
       "28    None\n",
       "29    None\n",
       "31    None\n",
       "32    None\n",
       "33    None\n",
       "      ... \n",
       "52    None\n",
       "53    None\n",
       "54    None\n",
       "55    None\n",
       "58    None\n",
       "59    None\n",
       "60    None\n",
       "61    None\n",
       "63    None\n",
       "64    None\n",
       "65    None\n",
       "67    None\n",
       "68    None\n",
       "70    None\n",
       "73    None\n",
       "75    None\n",
       "76    None\n",
       "77    None\n",
       "78    None\n",
       "79    None\n",
       "80    None\n",
       "81    None\n",
       "82    None\n",
       "84    None\n",
       "85    None\n",
       "87    None\n",
       "88    None\n",
       "90    None\n",
       "91    None\n",
       "92    None\n",
       "Name: url, Length: 76, dtype: object"
      ]
     },
     "execution_count": 64,
     "metadata": {},
     "output_type": "execute_result"
    }
   ],
   "source": [
    "urls['url'].apply(textify)"
   ]
  },
  {
   "cell_type": "code",
   "execution_count": null,
   "metadata": {},
   "outputs": [],
   "source": []
  }
 ],
 "metadata": {
  "kernelspec": {
   "display_name": "Python 3",
   "language": "python",
   "name": "python3"
  },
  "language_info": {
   "codemirror_mode": {
    "name": "ipython",
    "version": 3
   },
   "file_extension": ".py",
   "mimetype": "text/x-python",
   "name": "python",
   "nbconvert_exporter": "python",
   "pygments_lexer": "ipython3",
   "version": "3.6.4"
  }
 },
 "nbformat": 4,
 "nbformat_minor": 2
}
