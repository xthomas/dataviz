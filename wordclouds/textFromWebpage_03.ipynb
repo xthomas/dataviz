{
 "cells": [
  {
   "cell_type": "code",
   "execution_count": 1,
   "metadata": {},
   "outputs": [],
   "source": [
    "import bs4\n",
    "import re\n",
    "import urllib.request"
   ]
  },
  {
   "cell_type": "code",
   "execution_count": 2,
   "metadata": {},
   "outputs": [],
   "source": [
    "# local directory setup\n",
    "datadir = '/home/xavier/data/wordclouds/spero/journals/'\n",
    "# url = 'https://note2self.postach.io/post/community-factors-in-the-development-of-antibiotic-resistance'\n",
    "urlclump = 'journals.txt'"
   ]
  },
  {
   "cell_type": "code",
   "execution_count": 3,
   "metadata": {},
   "outputs": [],
   "source": [
    "def textify(url):\n",
    "    print(\"downloading: \",url)\n",
    "    filename=url.rsplit('/',1)[1].rsplit('.')[0]\n",
    "    print (filename)\n",
    "    webpage = (str(urllib.request.urlopen(url).read()))\n",
    "    webpage = re.sub(r'\\\\n\\s+|\\\\n','',webpage)\n",
    "    soup = bs4.BeautifulSoup(webpage)\n",
    "    with open (datadir + filename + \".txt\", \"w\") as text_file:\n",
    "        print(soup.get_text(), file=text_file)"
   ]
  },
  {
   "cell_type": "code",
   "execution_count": 4,
   "metadata": {},
   "outputs": [
    {
     "name": "stdout",
     "output_type": "stream",
     "text": [
      "downloading:  https://note2self.postach.io/post/community-factors-in-the-development-of-antibiotic-resistance\n",
      "\n",
      "community-factors-in-the-development-of-antibiotic-resistance\n",
      "\n",
      "downloading:  https://note2self.postach.io/post/the-need-to-look-at-antibiotic-resistance-from-a-health-systems-perspective\n",
      "\n",
      "the-need-to-look-at-antibiotic-resistance-from-a-health-systems-perspective\n",
      "\n",
      "downloading:  https://note2self.postach.io/post/controlling-antibiotic-resistance-will-we-someday-see-limited-prescribing-autonomy\n",
      "\n",
      "controlling-antibiotic-resistance-will-we-someday-see-limited-prescribing-autonomy\n",
      "\n",
      "downloading:  https://note2self.postach.io/post/antimicrobial-resistence-a-plan-of-action-for-community-practice\n",
      "antimicrobial-resistence-a-plan-of-action-for-community-practice\n"
     ]
    }
   ],
   "source": [
    "file = open (datadir + urlclump)\n",
    "for line in file:\n",
    "    textify(line)"
   ]
  }
 ],
 "metadata": {
  "kernelspec": {
   "display_name": "Python 3",
   "language": "python",
   "name": "python3"
  },
  "language_info": {
   "codemirror_mode": {
    "name": "ipython",
    "version": 3
   },
   "file_extension": ".py",
   "mimetype": "text/x-python",
   "name": "python",
   "nbconvert_exporter": "python",
   "pygments_lexer": "ipython3",
   "version": "3.6.4"
  }
 },
 "nbformat": 4,
 "nbformat_minor": 2
}
