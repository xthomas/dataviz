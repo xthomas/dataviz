{
 "cells": [
  {
   "cell_type": "code",
   "execution_count": 12,
   "metadata": {},
   "outputs": [],
   "source": [
    "import io\n",
    "import glob\n",
    "import os\n",
    "from pdfminer.converter import TextConverter\n",
    "from pdfminer.pdfinterp import PDFPageInterpreter\n",
    "from pdfminer.pdfinterp import PDFResourceManager\n",
    "from pdfminer.pdfpage import PDFPage"
   ]
  },
  {
   "cell_type": "code",
   "execution_count": 13,
   "metadata": {},
   "outputs": [],
   "source": [
    "# this is the directory to save all your PDFs to\n",
    "pdfdir = r'/home/xavier/data/wordclouds/covid/povs/'"
   ]
  },
  {
   "cell_type": "code",
   "execution_count": 16,
   "metadata": {},
   "outputs": [
    {
     "name": "stdout",
     "output_type": "stream",
     "text": [
      "IAS_Research_Coronavirus_Content_Adjacency.pdf\n",
      "Covid Search Trends by Google - Summary.pdf\n",
      "Media Consumption Update - week of April 6 2020.pdf\n",
      "Klick Health POV - Implementing COVID-19 Messaging for your Brand.pdf\n",
      "Klick Health POV-COVID Communication POV.pdf\n",
      "DMD_Webinar_One_Digital_Key_to_Rule_Them_All_032520.pdf\n",
      "DMD Capabilities for Klick.pdf\n",
      "Klick Health POV - Social Strategy During COVID-19.pdf\n",
      "Klick Health POV - Telehealth in the Era of COVID-19.pdf\n",
      "Klick Health POV-Social Strategy During COVID-19 POV.pdf\n",
      "McK COVID-19 Pharma Commercial Support Perspectives - March 20.pdf\n",
      "COVID_19 Impacts on the Pharmaceutical Market - IQVIA.pdf\n",
      "Klick Health POV - Remote Detailing in the Era of COVID-19.pdf\n",
      "Media Consumption Update - Klick, Apr 13 2020.pdf\n",
      "COVID-19 Health Search Trends.pdf\n"
     ]
    }
   ],
   "source": [
    "names = [os.path.basename(x) for x in glob.iglob(pdfdir + '*.pdf')]\n",
    "for n in names:\n",
    "    print (n)"
   ]
  },
  {
   "cell_type": "code",
   "execution_count": 9,
   "metadata": {},
   "outputs": [],
   "source": [
    "def extract_text_from_pdf(pdf_path):\n",
    "    resource_manager = PDFResourceManager()\n",
    "    fake_file_handle = io.StringIO()\n",
    "    converter = TextConverter(resource_manager, fake_file_handle)\n",
    "    page_interpreter = PDFPageInterpreter(resource_manager, converter)\n",
    "    \n",
    "    with open(pdf_path, 'rb') as fh:\n",
    "        for page in PDFPage.get_pages(fh, \n",
    "                                      caching=True,\n",
    "                                      check_extractable=True):\n",
    "            page_interpreter.process_page(page)\n",
    "            \n",
    "        text = fake_file_handle.getvalue()\n",
    "    \n",
    "    # close open handles\n",
    "    converter.close()\n",
    "    fake_file_handle.close()\n",
    "    \n",
    "    if text:\n",
    "        return text"
   ]
  },
  {
   "cell_type": "code",
   "execution_count": 21,
   "metadata": {},
   "outputs": [],
   "source": [
    "def writer (directory):\n",
    "    # create an array of all the PDF files in the directory\n",
    "    names = [os.path.basename(x) for x in glob.iglob(directory + '*.pdf')]\n",
    "    for n in names:\n",
    "        print (n)\n",
    "        text = (extract_text_from_pdf(directory + n))\n",
    "        f = open(directory + os.path.splitext(n)[0] + '.txt', 'w' )\n",
    "        f.write(text)\n",
    "        f.close()\n",
    "        print (f)"
   ]
  },
  {
   "cell_type": "code",
   "execution_count": 22,
   "metadata": {},
   "outputs": [
    {
     "name": "stdout",
     "output_type": "stream",
     "text": [
      "IAS_Research_Coronavirus_Content_Adjacency.pdf\n",
      "<_io.TextIOWrapper name='/home/xavier/data/wordclouds/covid/povs/IAS_Research_Coronavirus_Content_Adjacency.txt' mode='w' encoding='UTF-8'>\n",
      "Covid Search Trends by Google - Summary.pdf\n",
      "<_io.TextIOWrapper name='/home/xavier/data/wordclouds/covid/povs/Covid Search Trends by Google - Summary.txt' mode='w' encoding='UTF-8'>\n",
      "Media Consumption Update - week of April 6 2020.pdf\n",
      "<_io.TextIOWrapper name='/home/xavier/data/wordclouds/covid/povs/Media Consumption Update - week of April 6 2020.txt' mode='w' encoding='UTF-8'>\n",
      "Klick Health POV - Implementing COVID-19 Messaging for your Brand.pdf\n",
      "<_io.TextIOWrapper name='/home/xavier/data/wordclouds/covid/povs/Klick Health POV - Implementing COVID-19 Messaging for your Brand.txt' mode='w' encoding='UTF-8'>\n",
      "Klick Health POV-COVID Communication POV.pdf\n",
      "<_io.TextIOWrapper name='/home/xavier/data/wordclouds/covid/povs/Klick Health POV-COVID Communication POV.txt' mode='w' encoding='UTF-8'>\n",
      "DMD_Webinar_One_Digital_Key_to_Rule_Them_All_032520.pdf\n",
      "<_io.TextIOWrapper name='/home/xavier/data/wordclouds/covid/povs/DMD_Webinar_One_Digital_Key_to_Rule_Them_All_032520.txt' mode='w' encoding='UTF-8'>\n",
      "DMD Capabilities for Klick.pdf\n",
      "<_io.TextIOWrapper name='/home/xavier/data/wordclouds/covid/povs/DMD Capabilities for Klick.txt' mode='w' encoding='UTF-8'>\n",
      "Klick Health POV - Social Strategy During COVID-19.pdf\n",
      "<_io.TextIOWrapper name='/home/xavier/data/wordclouds/covid/povs/Klick Health POV - Social Strategy During COVID-19.txt' mode='w' encoding='UTF-8'>\n",
      "Klick Health POV - Telehealth in the Era of COVID-19.pdf\n",
      "<_io.TextIOWrapper name='/home/xavier/data/wordclouds/covid/povs/Klick Health POV - Telehealth in the Era of COVID-19.txt' mode='w' encoding='UTF-8'>\n",
      "Klick Health POV-Social Strategy During COVID-19 POV.pdf\n",
      "<_io.TextIOWrapper name='/home/xavier/data/wordclouds/covid/povs/Klick Health POV-Social Strategy During COVID-19 POV.txt' mode='w' encoding='UTF-8'>\n",
      "McK COVID-19 Pharma Commercial Support Perspectives - March 20.pdf\n",
      "<_io.TextIOWrapper name='/home/xavier/data/wordclouds/covid/povs/McK COVID-19 Pharma Commercial Support Perspectives - March 20.txt' mode='w' encoding='UTF-8'>\n",
      "COVID_19 Impacts on the Pharmaceutical Market - IQVIA.pdf\n",
      "<_io.TextIOWrapper name='/home/xavier/data/wordclouds/covid/povs/COVID_19 Impacts on the Pharmaceutical Market - IQVIA.txt' mode='w' encoding='UTF-8'>\n",
      "Klick Health POV - Remote Detailing in the Era of COVID-19.pdf\n",
      "<_io.TextIOWrapper name='/home/xavier/data/wordclouds/covid/povs/Klick Health POV - Remote Detailing in the Era of COVID-19.txt' mode='w' encoding='UTF-8'>\n",
      "Media Consumption Update - Klick, Apr 13 2020.pdf\n",
      "<_io.TextIOWrapper name='/home/xavier/data/wordclouds/covid/povs/Media Consumption Update - Klick, Apr 13 2020.txt' mode='w' encoding='UTF-8'>\n",
      "COVID-19 Health Search Trends.pdf\n",
      "<_io.TextIOWrapper name='/home/xavier/data/wordclouds/covid/povs/COVID-19 Health Search Trends.txt' mode='w' encoding='UTF-8'>\n"
     ]
    }
   ],
   "source": [
    "writer (pdfdir)"
   ]
  }
 ],
 "metadata": {
  "kernelspec": {
   "display_name": "Python 3",
   "language": "python",
   "name": "python3"
  },
  "language_info": {
   "codemirror_mode": {
    "name": "ipython",
    "version": 3
   },
   "file_extension": ".py",
   "mimetype": "text/x-python",
   "name": "python",
   "nbconvert_exporter": "python",
   "pygments_lexer": "ipython3",
   "version": "3.6.4"
  }
 },
 "nbformat": 4,
 "nbformat_minor": 2
}
