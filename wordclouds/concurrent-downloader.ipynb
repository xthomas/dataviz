{
 "cells": [
  {
   "cell_type": "markdown",
   "metadata": {},
   "source": [
    "> Concurrently downloads a text file of urls"
   ]
  },
  {
   "cell_type": "code",
   "execution_count": 1,
   "metadata": {},
   "outputs": [],
   "source": [
    "import requests\n",
    "from multiprocessing.pool import ThreadPool"
   ]
  },
  {
   "cell_type": "code",
   "execution_count": 2,
   "metadata": {},
   "outputs": [],
   "source": [
    "# directory to download\n",
    "# place target clump of files you want\n",
    "# (the 'download file') in that same directory\n",
    "\n",
    "# download_dir = \"/home/xavier/data/wordclouds/spero/claims/Data-Entrepreneurs-Synthetic-PUF/\"\n",
    "download_dir = \"/home/xavier/data/wordclouds/spero/studies/\"\n",
    "\n",
    "# download_clump = \"temp.txt\"\n",
    "download_clump = \"downloads.txt\""
   ]
  },
  {
   "cell_type": "code",
   "execution_count": 3,
   "metadata": {},
   "outputs": [],
   "source": [
    "def download_url(url):\n",
    "  print(\"downloading: \",url)\n",
    "  # assumes that the last segment after the / represents the file name\n",
    "  # if url is abc/xyz/file.txt, the file name will be file.txt\n",
    "  file_name_start_pos = url.rfind(\"/\") + 1\n",
    "  file_name = url[file_name_start_pos:]\n",
    " \n",
    "  r = requests.get(url, stream=True)\n",
    "  if r.status_code == requests.codes.ok:\n",
    "    with open(download_dir + file_name, 'wb') as f:\n",
    "      for data in r:\n",
    "        f.write(data)"
   ]
  },
  {
   "cell_type": "code",
   "execution_count": 4,
   "metadata": {},
   "outputs": [],
   "source": [
    "# create an array from the list of downloads\n",
    "urls = []\n",
    "file = open (download_dir + download_clump)\n",
    "for line in file:\n",
    "    urls.append(line.strip(\"\\n\"))\n",
    "# print(urls)"
   ]
  },
  {
   "cell_type": "code",
   "execution_count": 5,
   "metadata": {
    "scrolled": true
   },
   "outputs": [
    {
     "name": "stdout",
     "output_type": "stream",
     "text": [
      "downloading: downloading:  https://aspe.hhs.gov/system/files/pdf/258516/ProgressYears1and2CARBNationalActionPlan.pdf\n",
      " https://www.cdc.gov/drugresistance/pdf/report-to-the-president-on-combating-antibiotic-resistance.pdf\n",
      "None\n",
      "None\n"
     ]
    }
   ],
   "source": [
    "# Run 5 multiple threads.\n",
    "# Each call will take the next element in urls list\n",
    "# Change the number of threads if you have more files\n",
    "results = ThreadPool(5).imap_unordered(download_url, urls)\n",
    "for r in results:\n",
    "    print(r)"
   ]
  },
  {
   "cell_type": "code",
   "execution_count": null,
   "metadata": {},
   "outputs": [],
   "source": []
  }
 ],
 "metadata": {
  "kernelspec": {
   "display_name": "Python 3",
   "language": "python",
   "name": "python3"
  },
  "language_info": {
   "codemirror_mode": {
    "name": "ipython",
    "version": 3
   },
   "file_extension": ".py",
   "mimetype": "text/x-python",
   "name": "python",
   "nbconvert_exporter": "python",
   "pygments_lexer": "ipython3",
   "version": "3.6.4"
  }
 },
 "nbformat": 4,
 "nbformat_minor": 2
}
