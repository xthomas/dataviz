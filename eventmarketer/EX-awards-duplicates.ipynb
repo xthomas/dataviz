{
 "cells": [
  {
   "cell_type": "code",
   "execution_count": 1,
   "metadata": {
    "collapsed": true
   },
   "outputs": [],
   "source": [
    "sixteen = set(line.strip() for line in open('data/2016-EX-AWARDS.txt'))\n",
    "fifteen = set(line.strip() for line in open('data/2015-EX-AWARDS.txt'))"
   ]
  },
  {
   "cell_type": "code",
   "execution_count": 2,
   "metadata": {
    "collapsed": false,
    "scrolled": true
   },
   "outputs": [
    {
     "data": {
      "text/plain": [
       "{'72andSunny',\n",
       " 'ABPR',\n",
       " 'AMP Agency',\n",
       " 'Advantage International',\n",
       " 'BBDO',\n",
       " 'Barkley Kalpak Agency',\n",
       " 'CAA Marketing',\n",
       " 'Clarity Creative',\n",
       " 'Craftsmen Industries',\n",
       " 'Creative Riff',\n",
       " 'David Stark Design & Production',\n",
       " 'Deeplocal',\n",
       " 'Deutsch',\n",
       " 'Division Black',\n",
       " 'Droga5',\n",
       " 'Engine Shop',\n",
       " 'Fluent',\n",
       " 'Fusion Marketing',\n",
       " 'GMR Marketing',\n",
       " 'Grass Roots Germany',\n",
       " 'Grey Activation & PR',\n",
       " 'Group Delphi',\n",
       " 'Hadley Media',\n",
       " 'IMG LIVE',\n",
       " 'IMG Live',\n",
       " 'In-house',\n",
       " 'InVision Communications',\n",
       " 'Infinity Marketing Team',\n",
       " 'Inspira Marketing',\n",
       " 'JHE',\n",
       " 'Jack Morton Worldwide',\n",
       " 'John Halloran and Associates',\n",
       " 'LEO Events',\n",
       " 'LeadDog Marketing Group',\n",
       " 'LimeGreen Moroch',\n",
       " 'MAC Presents',\n",
       " 'MKG',\n",
       " 'Magnetic Collaborative',\n",
       " 'Manifesto',\n",
       " 'Manifold',\n",
       " 'Marketing Werks',\n",
       " 'Match Marketing Group',\n",
       " 'Milk Studios',\n",
       " 'Momentum Worldwide',\n",
       " 'Mosaic',\n",
       " 'Motive',\n",
       " 'Mutabor',\n",
       " 'Mystic Scenic',\n",
       " 'NA Collective',\n",
       " 'NCompass International',\n",
       " 'NVE: The Experience Agency',\n",
       " 'New Creatures',\n",
       " 'Night Agency',\n",
       " 'OSK',\n",
       " 'Octagon',\n",
       " 'On Board Experiential',\n",
       " 'PBJS',\n",
       " 'Performance Marketing Group',\n",
       " 'Periscope',\n",
       " 'Pop2Life',\n",
       " 'Schmidhuber',\n",
       " 'Scout Sports and Entertainment',\n",
       " 'Serino Coyne',\n",
       " 'Sid Lee',\n",
       " 'Sparks',\n",
       " 'Studio M',\n",
       " 'T1',\n",
       " 'Taylor Group',\n",
       " 'Team Detroit',\n",
       " 'Team One',\n",
       " 'The 360 Agency',\n",
       " 'Touch Worldwide',\n",
       " 'Uniplan',\n",
       " 'United Entertainment Group',\n",
       " 'VOK DAMS',\n",
       " 'WorldStage',\n",
       " 'agencyEA',\n",
       " 'i4D Event Services'}"
      ]
     },
     "execution_count": 2,
     "metadata": {},
     "output_type": "execute_result"
    }
   ],
   "source": [
    "sixteen"
   ]
  },
  {
   "cell_type": "code",
   "execution_count": 3,
   "metadata": {
    "collapsed": false
   },
   "outputs": [
    {
     "data": {
      "text/plain": [
       "78"
      ]
     },
     "execution_count": 3,
     "metadata": {},
     "output_type": "execute_result"
    }
   ],
   "source": [
    "len(sixteen)"
   ]
  },
  {
   "cell_type": "code",
   "execution_count": 12,
   "metadata": {
    "collapsed": false
   },
   "outputs": [],
   "source": [
    "sixteenfile = open('data/2016-EX-AWARDS_deduplicated.txt', 'w')\n",
    "for item in sixteen:\n",
    "  sixteenfile.write(item +'\\n')\n",
    "sixteenfile.close()"
   ]
  },
  {
   "cell_type": "code",
   "execution_count": 6,
   "metadata": {
    "collapsed": false,
    "scrolled": true
   },
   "outputs": [
    {
     "data": {
      "text/plain": [
       "{'3D Exhibits',\n",
       " '72andSunny',\n",
       " 'Alcone',\n",
       " 'BobCar Experiential Media',\n",
       " 'Broadwick Live',\n",
       " 'Deeplocal',\n",
       " 'Drury Design Dynamics',\n",
       " 'EMG3',\n",
       " 'ESG',\n",
       " 'Engine Shop Agency',\n",
       " 'Fluent',\n",
       " 'G7 Entertainment Marketing, Mirrorball',\n",
       " 'GMR Marketing',\n",
       " 'Global Events',\n",
       " 'Grey Activation and PR',\n",
       " 'Grow Marketing',\n",
       " 'Inspira Marketing Group',\n",
       " 'Intersport',\n",
       " 'JHE',\n",
       " 'Kenwood Experiences',\n",
       " 'Krispr',\n",
       " 'MAC Presents',\n",
       " 'MAS Event + Design',\n",
       " 'MKG',\n",
       " 'MVP Collaborative',\n",
       " 'Magnetic Collaborative',\n",
       " 'Match Marketing Group',\n",
       " 'McKinney',\n",
       " 'Moderne Communications',\n",
       " 'Momentum Worldwide',\n",
       " 'Moosylvania',\n",
       " 'NCompass International',\n",
       " 'NVE: The Experience Agency',\n",
       " 'Omelet To Go',\n",
       " 'On Board Experiential Marketing',\n",
       " 'PRISM',\n",
       " 'Park Design Partners',\n",
       " 'Pop2Life',\n",
       " 'Principal Global Events',\n",
       " 'SET',\n",
       " 'Schmidhuber',\n",
       " 'T.D. Wang',\n",
       " 'TBWA',\n",
       " 'Team Epic',\n",
       " 'Team One',\n",
       " 'Trigger House',\n",
       " 'Turtle Transit',\n",
       " 'United Entertainment Group',\n",
       " 'VWV',\n",
       " 'Van Wagner Experiential',\n",
       " 'Zeichen & Wunder',\n",
       " 'ignition',\n",
       " 'inVNT',\n",
       " 'rEvolution'}"
      ]
     },
     "execution_count": 6,
     "metadata": {},
     "output_type": "execute_result"
    }
   ],
   "source": [
    "fifteen"
   ]
  },
  {
   "cell_type": "code",
   "execution_count": 13,
   "metadata": {
    "collapsed": false
   },
   "outputs": [
    {
     "data": {
      "text/plain": [
       "54"
      ]
     },
     "execution_count": 13,
     "metadata": {},
     "output_type": "execute_result"
    }
   ],
   "source": [
    "len(fifteen)"
   ]
  },
  {
   "cell_type": "code",
   "execution_count": 14,
   "metadata": {
    "collapsed": true
   },
   "outputs": [],
   "source": [
    "fifteenfile = open('data/2015-EX-AWARDS_deduplicated.txt', 'w')\n",
    "for item in fifteen:\n",
    "  fifteenfile.write(item +'\\n')\n",
    "fifteenfile.close()"
   ]
  },
  {
   "cell_type": "code",
   "execution_count": 15,
   "metadata": {
    "collapsed": false
   },
   "outputs": [
    {
     "data": {
      "text/plain": [
       "132"
      ]
     },
     "execution_count": 15,
     "metadata": {},
     "output_type": "execute_result"
    }
   ],
   "source": [
    "54+78"
   ]
  },
  {
   "cell_type": "code",
   "execution_count": 16,
   "metadata": {
    "collapsed": false
   },
   "outputs": [
    {
     "data": {
      "text/plain": [
       "78"
      ]
     },
     "execution_count": 16,
     "metadata": {},
     "output_type": "execute_result"
    }
   ],
   "source": [
    "all = sixteen.copy()\n",
    "len(all)"
   ]
  },
  {
   "cell_type": "code",
   "execution_count": 17,
   "metadata": {
    "collapsed": true
   },
   "outputs": [],
   "source": [
    "for x in fifteen:\n",
    "    all.add(x)"
   ]
  },
  {
   "cell_type": "code",
   "execution_count": 18,
   "metadata": {
    "collapsed": false
   },
   "outputs": [
    {
     "data": {
      "text/plain": [
       "116"
      ]
     },
     "execution_count": 18,
     "metadata": {},
     "output_type": "execute_result"
    }
   ],
   "source": [
    "len(all)"
   ]
  },
  {
   "cell_type": "code",
   "execution_count": 19,
   "metadata": {
    "collapsed": false
   },
   "outputs": [
    {
     "data": {
      "text/plain": [
       "78"
      ]
     },
     "execution_count": 19,
     "metadata": {},
     "output_type": "execute_result"
    }
   ],
   "source": [
    "len(sixteen)"
   ]
  },
  {
   "cell_type": "code",
   "execution_count": 23,
   "metadata": {
    "collapsed": false
   },
   "outputs": [],
   "source": [
    "allfile = open('data/EX-AWARDS_deduped.txt', 'w')\n",
    "for item in all:\n",
    "    allfile.write(item + '\\n')\n",
    "allfile.close()"
   ]
  }
 ],
 "metadata": {
  "anaconda-cloud": {},
  "kernelspec": {
   "display_name": "Python [default]",
   "language": "python",
   "name": "python3"
  },
  "language_info": {
   "codemirror_mode": {
    "name": "ipython",
    "version": 3
   },
   "file_extension": ".py",
   "mimetype": "text/x-python",
   "name": "python",
   "nbconvert_exporter": "python",
   "pygments_lexer": "ipython3",
   "version": "3.5.2"
  }
 },
 "nbformat": 4,
 "nbformat_minor": 2
}
