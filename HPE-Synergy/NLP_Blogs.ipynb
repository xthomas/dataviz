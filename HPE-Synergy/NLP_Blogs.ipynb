{
 "cells": [
  {
   "cell_type": "code",
   "execution_count": 1,
   "metadata": {
    "collapsed": true
   },
   "outputs": [],
   "source": [
    "import codecs\n",
    "from nltk.tokenize import RegexpTokenizer\n",
    "from stop_words import get_stop_words\n",
    "from nltk.stem.porter import PorterStemmer\n",
    "from gensim import corpora, models\n",
    "import gensim\n",
    "tokenizer = RegexpTokenizer(r'\\w+')\n",
    "\n",
    "# create English stop words list\n",
    "en_stop = get_stop_words('en')\n",
    "\n",
    "# Create p_stemmer of class PorterStemmer\n",
    "p_stemmer = PorterStemmer()"
   ]
  },
  {
   "cell_type": "code",
   "execution_count": 2,
   "metadata": {
    "collapsed": false
   },
   "outputs": [],
   "source": [
    "blogdir = './content-audit-data/'\n",
    "with codecs.open(blogdir + 'hc01.txt',\"r\",encoding='utf-8', errors='ignore') as fdata:\n",
    "    one = fdata.read()\n",
    "with codecs.open(blogdir + 'hc02.txt',\"r\",encoding='utf-8', errors='ignore') as fdata:\n",
    "    two = fdata.read()\n",
    "with codecs.open(blogdir + 'hc03.txt',\"r\",encoding='utf-8', errors='ignore') as fdata:\n",
    "    three = fdata.read()"
   ]
  },
  {
   "cell_type": "code",
   "execution_count": 3,
   "metadata": {
    "collapsed": true
   },
   "outputs": [],
   "source": [
    "doc_set = (one,two,three)"
   ]
  },
  {
   "cell_type": "code",
   "execution_count": 4,
   "metadata": {
    "collapsed": false
   },
   "outputs": [
    {
     "data": {
      "text/plain": [
       "u'No longer a niche technology, hyperconvergence has now been tested in the real world. A new survey shows what it can do, who is using it and how.\\n\\nAnyone who has followed the tech industry has seen the cycle play out many times before: A new technology comes out and promises to solve all our problems. The hype machine kicks in, the blogosphere buzzes with speculation, and IT departments debate whether or not it is worth the risk. Inevitably, some departments decide to take the plunge, buy the machines and see if they live up to the hype, while the rest of us stand by and wait to see what will happen. The stakes are high, especially when dealing with enterprise-grade technology. If the new equipment is successful and actually delivers, the early adopters get a huge competitive advantage while the rest of us scramble to get on the bus. If the new tech was overhyped and doesn\\u2019t live up to the promises, those early adopters suffer the consequences while the rest of us breathe a collective sigh of relief.\\n\\nHyperconvergence was just such a technology not very long ago. When it debuted, it was marketed as the solution to every datacenter problem you could imagine. From a marketing perspective that makes total sense. \\u201cIf in doubt, identify a pain point and promise to solve it\\u201d has been the default sales pitch forever, and with good reason. It works. Honestly, how many people do you know that are totally satisfied by anything? One of the best things about human beings is that we constantly seek out new, better ways of doing things. That is the very definition of innovation and it is what keeps us growing and evolving. That marketing strategy is compelling because it promises an easy way out from complex problems and anyone involved in running a datacenter knows all about complex problems.\\n\\nHow hyper is it?\\n\\nNow that hyperconvergence has been around a little while, there is a lot of great real-world data to be had about what it can do. ActualTech Media has done an amazing survey of hyperconverged appliance users, reaching out to over 500 IT professionals across 40 industries and 17 countries to find out what challenges they face in their datacenters and how hyperconverged solutions are performing. As a result, they\\u2019ve come up with the top 10 considerations when buying a hyperconverged infrastructure.\\n\\nActualTech Media had the good sense to start by asking respondents about the problems they face in their datacenters. The consensus is that datacenters continue to become more complex and maintaining support staff is increasingly difficult. Many IT professionals reported that they find themselves too busy putting out small fires for other users to actually accomplish anything more than limp-along maintenance. Then there is the usual list of complaints about increased performance expectations, shrinking budgets, data security, etc. These are all important issues. So the question is, \\u201cCan hyperconvergence really help?\\u201d\\n\\nSurvey says\\u2026\\n\\nThe answer seems to be a fairly resounding \\u201cYes!\\u201d Hyperconverged solutions are already solving some of the biggest challenges facing datacenters, including VDI, managing ROBO environments, and cloud computing. HPE put together a great infographic describing the many applications of hyperconvergence using data from the ActualTech survey, which you can see here. \\n\\nHCTenThingBlog-CTA banner.jpg\\ufeffIs a hyperconverged solution right for your datacenter? To find out\\u2026\\n\\nActual Tech Media Hyper-Converged Infrastructure in the Modern Enterprise - Executive Summary Report\\nInfographic: ActualTech Media: Top 10 Things You Need To Consider When Buying a Hyperconverged Infrastructure\\nAnd if you want more details into the findings register to download:\\n\\nDatacenter Challenges and Infrastructure Sentiment\\nHyper-Converged Infrastructure Use-cases.\\nCurious how can HPE help you better if you are a Dell or EMC customer? We can point you in the right direction\\n\\nWhitney'"
      ]
     },
     "execution_count": 4,
     "metadata": {},
     "output_type": "execute_result"
    }
   ],
   "source": [
    "one"
   ]
  },
  {
   "cell_type": "code",
   "execution_count": 5,
   "metadata": {
    "collapsed": false
   },
   "outputs": [
    {
     "data": {
      "text/plain": [
       "u'So what\\u2019s the big deal about hyper-converged systems? Are they just another flash-in-the-pan tech fad soon to be supplanted by the next big thing?\\n\\nThe short answer is no. Hyper-converged infrastructure is the next logical step toward the software-defined data center (SDDC). By consolidating IT components into a single, optimized, easy-to-use and easy-to-manage infrastructure, hyper-convergence allows companies to emulate the scale-out architectures of an Amazon, Facebook, or eBay. This is important because in today\\u2019s digital economy, IT is fast becoming far more than an enabler of business. Increasingly, it is the business.\\n\\nHyper-convergence takes the data center to the next level\\n\\nA quick glance back at how hyper-convergence has emerged is helpful in understanding it. Hyper-converged infrastructure grew out of converged infrastructure (CI)\\u2014pre-configured hardware and software bundled into a single framework. In essence, CI turns disparate data center components into an appliance that can be centrally managed. Converged Infrastructure gives IT a way to apply packaged resources to specific workloads with just the right amount of compute, storage, and network connectivity.\\n\\nHyper-convergence (HC) is essentially convergence with a simple-to-use user interface software layer added to it. Whereas converged infrastructures are pre-engineered systems with perhaps a virtualization layer, hyper-converged solutions are software-defined. Here\\u2019s another key difference: While the technologies in a CI can be separated and used independently based on optimized configuration, those in a hyper-converged infrastructure are so tightly integrated that they can\\u2019t be broken down into separate components. \\n\\nnew.png\\ufeff \\n\\nHyper-converged solutions bring IT one step closer to a truly software-defined data center. The software layer lends itself to ever-greater automation\\u2014a hallmark of the SDDC\\u2014with application programming interfaces (APIs) dictating how control plane applications talk to each other. Ultimately, the idea is to take all of the guesswork out of deploying, provisioning and managing the infrastructure.\\n\\nA software-defined solution for small and mid-size businesses\\n\\nOne key value of HC platforms is that they bring the SDDC within the reach of smaller and mid-size businesses. They\\u2019re also great for larger enterprises that want to set up data centers at branch offices and remote offices. Because it\\u2019s a single, compact appliance that can be managed by an IT generalist, an HC platform is ideal for environments with limited IT resources. See Karen Brown\\u2019s post Hyper-converged infrastructure: a software-defined data center in a box, for some great examples. It\\u2019s a real boon for companies that do a lot of development work, too, as Karen points out. Each development team can have its own dedicated hyper-converged VM platform for its projects.\\n\\nWhereas planning, building, and configuring a complete virtualized infrastructure from individual components can take weeks of an IT specialist\\u2019s time, the right HC solution makes power-on-to-provisioning possible in just minutes.\\n\\nChoosing the right hyper-converged solution\\n\\nHC is essentially a turnkey solution, but to achieve the best possible outcomes from your investment in this technology, you\\u2019ll want to make sure you choose the right system. Ask your vendor the tough questions, including:\\n\\nWill it allow me to scale easily, sensibly and without any disruption?\\nWill I be able to move data around to accommodate individual device outages?\\nDoes it provide for multiple hypervisor support?\\nWhat kind of data protection does it provide?\\nIs the data fabric integrated, and does it support multi-platform, HC to non-HC failover and replication?\\nIs the data protection built into the system without the need for additional software layers?\\nWhat about disaster recovery? Does the solution offer replication?\\nCan the solution meet the needs of my business-critical workloads when it comes to processing speed and storage?\\nWhat kinds of protection against downtime can I expect?\\nWhat is the performance overhead of data efficiency features such as dedupe and compression?\\nFor more info on these points, read the whitepaper: Top 10 Things You Need to Consider When Buying a Hyper-converged Infrastructure.\\n\\nAnd of course, you\\u2019ll want to take a close look at ROI. By automating routine operations, hyper-convergence improves efficiency and reduces costs. In fact, the ROI can be dramatic, as you can see for yourself with our ROI calculator.\\n\\nTo learn more, register for our e-book: How hyper-convergence can help IT. And for more information about HPE\\u2019s new hyper-converged solution check out this webinar replay: www.hpe.com/engage/hyperconverged\\n\\n#HyperConverged #AcceleratingSimplicity\\n\\nSaid'"
      ]
     },
     "execution_count": 5,
     "metadata": {},
     "output_type": "execute_result"
    }
   ],
   "source": [
    "two"
   ]
  },
  {
   "cell_type": "code",
   "execution_count": 6,
   "metadata": {
    "collapsed": false
   },
   "outputs": [
    {
     "name": "stdout",
     "output_type": "stream",
     "text": [
      "[[u'longer', u'nich', u'technolog', u'hyperconverg', u'now', u'test', u'real', u'world', u'new', u'survey', u'show', u'can', u'use', u'anyon', u'follow', u'tech', u'industri', u'seen', u'cycl', u'play', u'mani', u'time', u'new', u'technolog', u'come', u'promis', u'solv', u'problem', u'hype', u'machin', u'kick', u'blogospher', u'buzz', u'specul', u'depart', u'debat', u'whether', u'worth', u'risk', u'inevit', u'depart', u'decid', u'take', u'plung', u'buy', u'machin', u'see', u'live', u'hype', u'rest', u'us', u'stand', u'wait', u'see', u'will', u'happen', u'stake', u'high', u'especi', u'deal', u'enterpris', u'grade', u'technolog', u'new', u'equip', u'success', u'actual', u'deliv', u'earli', u'adopt', u'get', u'huge', u'competit', u'advantag', u'rest', u'us', u'scrambl', u'get', u'bu', u'new', u'tech', u'overhyp', u'doesn', u't', u'live', u'promis', u'earli', u'adopt', u'suffer', u'consequ', u'rest', u'us', u'breath', u'collect', u'sigh', u'relief', u'hyperconverg', u'just', u'technolog', u'long', u'ago', u'debut', u'market', u'solut', u'everi', u'datacent', u'problem', u'imagin', u'market', u'perspect', u'make', u'total', u'sens', u'doubt', u'identifi', u'pain', u'point', u'promis', u'solv', u'default', u'sale', u'pitch', u'forev', u'good', u'reason', u'work', u'honestli', u'mani', u'peopl', u'know', u'total', u'satisfi', u'anyth', u'one', u'best', u'thing', u'human', u'be', u'constantli', u'seek', u'new', u'better', u'way', u'thing', u'definit', u'innov', u'keep', u'us', u'grow', u'evolv', u'market', u'strategi', u'compel', u'promis', u'easi', u'way', u'complex', u'problem', u'anyon', u'involv', u'run', u'datacent', u'know', u'complex', u'problem', u'hyper', u'now', u'hyperconverg', u'around', u'littl', u'lot', u'great', u'real', u'world', u'data', u'can', u'actualtech', u'media', u'done', u'amaz', u'survey', u'hyperconverg', u'applianc', u'user', u'reach', u'500', u'profession', u'across', u'40', u'industri', u'17', u'countri', u'find', u'challeng', u'face', u'datacent', u'hyperconverg', u'solut', u'perform', u'result', u've', u'come', u'top', u'10', u'consider', u'buy', u'hyperconverg', u'infrastructur', u'actualtech', u'media', u'good', u'sens', u'start', u'ask', u'respond', u'problem', u'face', u'datacent', u'consensu', u'datacent', u'continu', u'becom', u'complex', u'maintain', u'support', u'staff', u'increasingli', u'difficult', u'mani', u'profession', u'report', u'find', u'busi', u'put', u'small', u'fire', u'user', u'actual', u'accomplish', u'anyth', u'limp', u'along', u'mainten', u'usual', u'list', u'complaint', u'increas', u'perform', u'expect', u'shrink', u'budget', u'data', u'secur', u'etc', u'import', u'issu', u'question', u'can', u'hyperconverg', u'realli', u'help', u'survey', u'say', u'answer', u'seem', u'fairli', u'resound', u'ye', u'hyperconverg', u'solut', u'alreadi', u'solv', u'biggest', u'challeng', u'face', u'datacent', u'includ', u'vdi', u'manag', u'robo', u'environ', u'cloud', u'comput', u'hpe', u'put', u'togeth', u'great', u'infograph', u'describ', u'mani', u'applic', u'hyperconverg', u'use', u'data', u'actualtech', u'survey', u'can', u'see', u'hctenthingblog', u'cta', u'banner', u'jpg', u'hyperconverg', u'solut', u'right', u'datacent', u'find', u'actual', u'tech', u'media', u'hyper', u'converg', u'infrastructur', u'modern', u'enterpris', u'execut', u'summari', u'report', u'infograph', u'actualtech', u'media', u'top', u'10', u'thing', u'need', u'consid', u'buy', u'hyperconverg', u'infrastructur', u'want', u'detail', u'find', u'regist', u'download', u'datacent', u'challeng', u'infrastructur', u'sentiment', u'hyper', u'converg', u'infrastructur', u'use', u'case', u'curiou', u'can', u'hpe', u'help', u'better', u'dell', u'emc', u'custom', u'can', u'point', u'right', u'direct', u'whitney'], [u's', u'big', u'deal', u'hyper', u'converg', u'system', u'just', u'anoth', u'flash', u'pan', u'tech', u'fad', u'soon', u'supplant', u'next', u'big', u'thing', u'short', u'answer', u'hyper', u'converg', u'infrastructur', u'next', u'logic', u'step', u'toward', u'softwar', u'defin', u'data', u'center', u'sddc', u'consolid', u'compon', u'singl', u'optim', u'easi', u'use', u'easi', u'manag', u'infrastructur', u'hyper', u'converg', u'allow', u'compani', u'emul', u'scale', u'architectur', u'amazon', u'facebook', u'ebay', u'import', u'today', u's', u'digit', u'economi', u'fast', u'becom', u'far', u'enabl', u'busi', u'increasingli', u'busi', u'hyper', u'converg', u'take', u'data', u'center', u'next', u'level', u'quick', u'glanc', u'back', u'hyper', u'converg', u'emerg', u'help', u'understand', u'hyper', u'converg', u'infrastructur', u'grew', u'converg', u'infrastructur', u'ci', u'pre', u'configur', u'hardwar', u'softwar', u'bundl', u'singl', u'framework', u'essenc', u'ci', u'turn', u'dispar', u'data', u'center', u'compon', u'applianc', u'can', u'central', u'manag', u'converg', u'infrastructur', u'give', u'way', u'appli', u'packag', u'resourc', u'specif', u'workload', u'just', u'right', u'amount', u'comput', u'storag', u'network', u'connect', u'hyper', u'converg', u'hc', u'essenti', u'converg', u'simpl', u'use', u'user', u'interfac', u'softwar', u'layer', u'ad', u'wherea', u'converg', u'infrastructur', u'pre', u'engin', u'system', u'perhap', u'virtual', u'layer', u'hyper', u'converg', u'solut', u'softwar', u'defin', u's', u'anoth', u'key', u'differ', u'technolog', u'ci', u'can', u'separ', u'use', u'independ', u'base', u'optim', u'configur', u'hyper', u'converg', u'infrastructur', u'tightli', u'integr', u'can', u't', u'broken', u'separ', u'compon', u'new', u'png', u'hyper', u'converg', u'solut', u'bring', u'one', u'step', u'closer', u'truli', u'softwar', u'defin', u'data', u'center', u'softwar', u'layer', u'lend', u'ever', u'greater', u'autom', u'hallmark', u'sddc', u'applic', u'program', u'interfac', u'api', u'dictat', u'control', u'plane', u'applic', u'talk', u'ultim', u'idea', u'take', u'guesswork', u'deploy', u'provis', u'manag', u'infrastructur', u'softwar', u'defin', u'solut', u'small', u'mid', u'size', u'busi', u'one', u'key', u'valu', u'hc', u'platform', u'bring', u'sddc', u'within', u'reach', u'smaller', u'mid', u'size', u'busi', u're', u'also', u'great', u'larger', u'enterpris', u'want', u'set', u'data', u'center', u'branch', u'offic', u'remot', u'offic', u's', u'singl', u'compact', u'applianc', u'can', u'manag', u'generalist', u'hc', u'platform', u'ideal', u'environ', u'limit', u'resourc', u'see', u'karen', u'brown', u's', u'post', u'hyper', u'converg', u'infrastructur', u'softwar', u'defin', u'data', u'center', u'box', u'great', u'exampl', u's', u'real', u'boon', u'compani', u'lot', u'develop', u'work', u'karen', u'point', u'develop', u'team', u'can', u'dedic', u'hyper', u'converg', u'vm', u'platform', u'project', u'wherea', u'plan', u'build', u'configur', u'complet', u'virtual', u'infrastructur', u'individu', u'compon', u'can', u'take', u'week', u'specialist', u's', u'time', u'right', u'hc', u'solut', u'make', u'power', u'provis', u'possibl', u'just', u'minut', u'choos', u'right', u'hyper', u'converg', u'solut', u'hc', u'essenti', u'turnkey', u'solut', u'achiev', u'best', u'possibl', u'outcom', u'invest', u'technolog', u'll', u'want', u'make', u'sure', u'choos', u'right', u'system', u'ask', u'vendor', u'tough', u'question', u'includ', u'will', u'allow', u'scale', u'easili', u'sensibl', u'without', u'disrupt', u'will', u'abl', u'move', u'data', u'around', u'accommod', u'individu', u'devic', u'outag', u'provid', u'multipl', u'hypervisor', u'support', u'kind', u'data', u'protect', u'provid', u'data', u'fabric', u'integr', u'support', u'multi', u'platform', u'hc', u'non', u'hc', u'failov', u'replic', u'data', u'protect', u'built', u'system', u'without', u'need', u'addit', u'softwar', u'layer', u'disast', u'recoveri', u'solut', u'offer', u'replic', u'can', u'solut', u'meet', u'need', u'busi', u'critic', u'workload', u'come', u'process', u'speed', u'storag', u'kind', u'protect', u'downtim', u'can', u'expect', u'perform', u'overhead', u'data', u'effici', u'featur', u'dedup', u'compress', u'info', u'point', u'read', u'whitepap', u'top', u'10', u'thing', u'need', u'consid', u'buy', u'hyper', u'converg', u'infrastructur', u'cours', u'll', u'want', u'take', u'close', u'look', u'roi', u'autom', u'routin', u'oper', u'hyper', u'converg', u'improv', u'effici', u'reduc', u'cost', u'fact', u'roi', u'can', u'dramat', u'can', u'see', u'roi', u'calcul', u'learn', u'regist', u'e', u'book', u'hyper', u'converg', u'can', u'help', u'inform', u'hpe', u's', u'new', u'hyper', u'converg', u'solut', u'check', u'webinar', u'replay', u'www', u'hpe', u'com', u'engag', u'hyperconverg', u'hyperconverg', u'acceleratingsimpl', u'said'], [u'data', u'center', u'ever', u'core', u'busi', u'nearli', u'primari', u'function', u'hous', u'rout', u'coordin', u'hub', u'yet', u'year', u'mani', u'data', u'center', u'becom', u'hard', u'manag', u'dispar', u'technolog', u'roll', u'requir', u'increasingli', u'demand', u'configur', u'make', u'everyth', u'work', u'togeth', u'quest', u'greater', u'datacent', u'simplic', u'take', u'variou', u'form', u'one', u's', u'attract', u'lot', u'attent', u'day', u'hyper', u'converg', u'new', u'survey', u'report', u'actualtech', u'media', u'seek', u'shine', u'light', u'today', u's', u'data', u'center', u'challeng', u'take', u'market', u'temperatur', u'emerg', u'technolog', u'can', u'read', u'hyperconverg', u'infrastructur', u'modern', u'enterpris', u'execut', u'summari', u'want', u'detail', u'find', u'regist', u'download', u'datacent', u'challeng', u'infrastructur', u'sentiment', u'hyper', u'converg', u'infrastructur', u'use', u'case', u're', u'interest', u's', u'happen', u'hyper', u'converg', u'space', u'compani', u'use', u'solut', u'must', u'read', u'll', u'cover', u'just', u'find', u'one', u'realli', u'jump', u'quantifi', u'data', u'center', u'challeng', u's', u'one', u'result', u'realli', u'caught', u'eye', u'slim', u'major', u'500', u'plu', u'respond', u'55', u'percent', u'said', u'depart', u'consist', u'meet', u'need', u'busi', u'great', u'news', u'time', u'29', u'percent', u'disagre', u'statement', u'exist', u'datacent', u'environ', u'easi', u'manag', u'requir', u'subject', u'matter', u'resourc', u'specif', u'expert', u'resourc', u'clearli', u's', u'pain', u'around', u'aspect', u'manag', u'datacent', u'confirm', u'fact', u'45', u'percent', u'respond', u'say', u's', u'hard', u'maintain', u'staff', u'breadth', u'knowledg', u'skill', u'score', u'one', u'hyper', u'converg', u'one', u'thing', u's', u'realli', u'good', u'simplifi', u'day', u'day', u'datacent', u'manag', u'task', u'point', u'can', u'handl', u'staff', u'without', u'special', u'skill', u's', u'snapshot', u'respond', u'see', u'current', u'datacent', u'challeng', u'interest', u'compani', u'seem', u'pretti', u'confid', u'deploy', u'privat', u'cloud', u'support', u'big', u'data', u'expect', u'2', u'jpg', u'virtual', u'cours', u'big', u'part', u'organ', u'success', u'tackl', u'effici', u'challeng', u'quit', u'now', u'survey', u'found', u'two', u'percent', u'respond', u'still', u'haven', u't', u'implement', u'virtual', u'datacent', u'two', u'third', u'67', u'percent', u'now', u'least', u'50', u'percent', u'virtual', u'number', u'steadili', u'grow', u'door', u'wide', u'open', u'hyper', u'converg', u'presuppos', u'certain', u'amount', u'virtual', u'surprisingli', u'vmware', u's', u'vsphere', u'popular', u'hypervisor', u'sampl', u'use', u'68', u'percent', u'respond', u'popul', u'microsoft', u's', u'hyper', u'v', u'howev', u'gain', u'use', u'37', u'percent', u'compani', u'poll', u'signific', u'jump', u'previou', u'survey', u'hyper', u'converg', u'fit', u'first', u's', u'interest', u'note', u'hyper', u'converg', u'infrastructur', u'get', u'much', u'attent', u'softwar', u'defin', u'storag', u'around', u'quit', u'bit', u'longer', u'marketplac', u'fifti', u'one', u'percent', u'compani', u'poll', u'consid', u'hyper', u'converg', u'potenti', u'adopt', u'52', u'percent', u'look', u'sd', u'even', u'tell', u'fact', u'7', u'percent', u'respond', u'say', u'alreadi', u'move', u'entir', u'comput', u'environ', u'hyper', u'converg', u'technolog', u'report', u's', u'author', u'scott', u'low', u'write', u'figur', u'may', u'seem', u'signific', u'view', u'entir', u'storag', u'market', u'remov', u'7', u'market', u'consider', u'tradit', u'approach', u'storag', u'can', u'consid', u'begin', u'seriou', u'market', u'rebalanc', u'inde', u'anoth', u'26', u'percent', u'move', u'infrastructur', u'hyper', u'converg', u'system', u'46', u'percent', u'consid', u'appeal', u'hyper', u'converg', u'pretti', u'much', u'limit', u'smaller', u'compani', u'realli', u'number', u'bit', u'murki', u'compani', u'report', u'intent', u'deploy', u'tend', u'smaller', u'organ', u'survey', u'suggest', u'anyth', u'hc', u'interest', u'larger', u'busi', u'smaller', u'one', u'bring', u'us', u'big', u'question', u's', u'hope', u'expect', u'hyper', u'converg', u'well', u'technolog', u'meet', u'outcom', u'hope', u'expect', u'cost', u'save', u'huge', u'surpris', u'next', u'came', u'three', u'tie', u'outcom', u'improv', u'infrastructur', u'avail', u'improv', u'oper', u'effici', u'eas', u'scale', u'grow', u'environ', u'fact', u'none', u'present', u'possibl', u'outcom', u'receiv', u'low', u'rate', u'suggest', u'decis', u'maker', u'high', u'hope', u'across', u'board', u'hyper', u'converg', u'2', u'2', u'jpg', u'extent', u'compani', u'achiev', u'goal', u'depend', u'larg', u're', u'use', u'technolog', u'won', u't', u'go', u'specif', u'use', u'case', u'hc', u'sinc', u'report', u'hyper', u'converg', u'infrastructur', u'use', u'case', u'great', u'job', u'examin', u'depth', u's', u'well', u'worth', u'time', u'look', u'full', u'survey', u're', u'interest', u'virtual', u'desktop', u'infrastructur', u'vdi', u'learn', u's', u'vdi', u's', u'assess', u'experi', u'hyper', u'converg', u'system', u'remot', u'offic', u'branch', u'offic', u'robo', u'support', u'challeng', u'compani', u'face', u'hc', u'help', u'privat', u'public', u'cloud', u'plan', u'public', u'cloud', u'isn', u't', u'necessarili', u'relat', u'hyper', u'converg', u'privat', u'cloud', u'certainli', u'find', u'hyper', u'converg', u'infrastructur', u'can', u'key', u'enabl', u'privat', u'cloud', u'learn', u'hpe', u's', u'new', u'hyper', u'converg', u'solut', u'announc', u'next', u'week', u'regist', u'upcom', u'webinar', u'www', u'hpe', u'com', u'engag', u'hyperconverg', u'hyperconverg', u'acceleratingsimpl', u'said']]\n"
     ]
    }
   ],
   "source": [
    "# list for tokenized documents in loop\n",
    "texts = []\n",
    "# for i in df['text']:\n",
    "for i in doc_set:    \n",
    "    \n",
    "    # clean and tokenize document string\n",
    "#     raw = i.decode('utf-8').lower()\n",
    "    raw = i.lower()\n",
    "    tokens = tokenizer.tokenize(raw)\n",
    "\n",
    "    # remove stop words from tokens\n",
    "    stopped_tokens = [i for i in tokens if not i in en_stop]\n",
    "    \n",
    "    # stem tokens\n",
    "    stemmed_tokens = [p_stemmer.stem(i) for i in stopped_tokens]\n",
    "    \n",
    "    # add tokens to list\n",
    "    texts.append(stemmed_tokens)\n",
    "    \n",
    "    \n",
    "print texts"
   ]
  },
  {
   "cell_type": "code",
   "execution_count": 7,
   "metadata": {
    "collapsed": false
   },
   "outputs": [],
   "source": [
    "# turn our tokenized documents into a id <-> term dictionary\n",
    "dictionary = corpora.Dictionary(texts)\n",
    "    \n",
    "# convert tokenized documents into a document-term matrix\n",
    "corpus = [dictionary.doc2bow(text) for text in texts]"
   ]
  },
  {
   "cell_type": "code",
   "execution_count": 8,
   "metadata": {
    "collapsed": false
   },
   "outputs": [],
   "source": [
    "# generate LDA model\n",
    "ldamodel = gensim.models.ldamodel.LdaModel(corpus, num_topics=8, id2word = dictionary, passes=30)"
   ]
  },
  {
   "cell_type": "code",
   "execution_count": 9,
   "metadata": {
    "collapsed": false
   },
   "outputs": [
    {
     "name": "stdout",
     "output_type": "stream",
     "text": [
      "[(0, u'0.002*converg + 0.002*hyper + 0.002*s + 0.002*infrastructur'), (1, u'0.030*hyper + 0.029*converg + 0.027*s + 0.021*percent'), (2, u'0.002*hyper + 0.002*converg + 0.002*infrastructur + 0.002*s'), (3, u'0.002*hyperconverg + 0.002*datacent + 0.002*can + 0.002*infrastructur'), (4, u'0.026*hyperconverg + 0.019*datacent + 0.014*can + 0.012*infrastructur'), (5, u'0.002*converg + 0.002*hyper + 0.002*data + 0.002*can'), (6, u'0.002*converg + 0.002*hyper + 0.002*hyperconverg + 0.002*infrastructur'), (7, u'0.039*converg + 0.031*hyper + 0.020*data + 0.020*can')]\n"
     ]
    }
   ],
   "source": [
    "print(ldamodel.print_topics(num_topics=8, num_words=4))"
   ]
  },
  {
   "cell_type": "markdown",
   "metadata": {},
   "source": [
    "<hr>\n",
    "Look like you need to remove the URLs from these\n",
    "And possibly RT\n",
    "<hr>\n"
   ]
  },
  {
   "cell_type": "code",
   "execution_count": null,
   "metadata": {
    "collapsed": true
   },
   "outputs": [],
   "source": []
  }
 ],
 "metadata": {
  "kernelspec": {
   "display_name": "Python 2",
   "language": "python",
   "name": "python2"
  },
  "language_info": {
   "codemirror_mode": {
    "name": "ipython",
    "version": 2
   },
   "file_extension": ".py",
   "mimetype": "text/x-python",
   "name": "python",
   "nbconvert_exporter": "python",
   "pygments_lexer": "ipython2",
   "version": "2.7.11"
  }
 },
 "nbformat": 4,
 "nbformat_minor": 0
}
