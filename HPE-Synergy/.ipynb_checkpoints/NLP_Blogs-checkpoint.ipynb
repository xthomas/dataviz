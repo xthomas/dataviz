{
 "cells": [
  {
   "cell_type": "code",
   "execution_count": 1,
   "metadata": {
    "collapsed": true
   },
   "outputs": [],
   "source": [
    "import codecs\n",
    "from nltk.tokenize import RegexpTokenizer\n",
    "from stop_words import get_stop_words\n",
    "from nltk.stem.porter import PorterStemmer\n",
    "from gensim import corpora, models\n",
    "import gensim\n",
    "tokenizer = RegexpTokenizer(r'\\w+')\n",
    "\n",
    "# create English stop words list\n",
    "en_stop = get_stop_words('en')\n",
    "\n",
    "# Create p_stemmer of class PorterStemmer\n",
    "p_stemmer = PorterStemmer()"
   ]
  },
  {
   "cell_type": "code",
   "execution_count": 6,
   "metadata": {
    "collapsed": false
   },
   "outputs": [],
   "source": [
    "blogdir = './content-audit-data/'\n",
    "with codecs.open(blogdir + 'hc01.txt',\"r\",encoding='utf-8', errors='ignore') as fdata:\n",
    "    one = fdata.read()\n",
    "with codecs.open(blogdir + 'hc02.txt',\"r\",encoding='utf-8', errors='ignore') as fdata:\n",
    "    two = fdata.read()\n",
    "with codecs.open(blogdir + 'hc03.txt',\"r\",encoding='utf-8', errors='ignore') as fdata:\n",
    "    three = fdata.read()"
   ]
  },
  {
   "cell_type": "code",
   "execution_count": null,
   "metadata": {
    "collapsed": true
   },
   "outputs": [],
   "source": [
    "doc_set = (one,two,three)"
   ]
  },
  {
   "cell_type": "code",
   "execution_count": 4,
   "metadata": {
    "collapsed": false
   },
   "outputs": [
    {
     "data": {
      "text/plain": [
       "u'No longer a niche technology, hyperconvergence has now been tested in the real world. A new survey shows what it can do, who is using it and how.\\n\\nAnyone who has followed the tech industry has seen the cycle play out many times before: A new technology comes out and promises to solve all our problems. The hype machine kicks in, the blogosphere buzzes with speculation, and IT departments debate whether or not it is worth the risk. Inevitably, some departments decide to take the plunge, buy the machines and see if they live up to the hype, while the rest of us stand by and wait to see what will happen. The stakes are high, especially when dealing with enterprise-grade technology. If the new equipment is successful and actually delivers, the early adopters get a huge competitive advantage while the rest of us scramble to get on the bus. If the new tech was overhyped and doesn\\u2019t live up to the promises, those early adopters suffer the consequences while the rest of us breathe a collective sigh of relief.\\n\\nHyperconvergence was just such a technology not very long ago. When it debuted, it was marketed as the solution to every datacenter problem you could imagine. From a marketing perspective that makes total sense. \\u201cIf in doubt, identify a pain point and promise to solve it\\u201d has been the default sales pitch forever, and with good reason. It works. Honestly, how many people do you know that are totally satisfied by anything? One of the best things about human beings is that we constantly seek out new, better ways of doing things. That is the very definition of innovation and it is what keeps us growing and evolving. That marketing strategy is compelling because it promises an easy way out from complex problems and anyone involved in running a datacenter knows all about complex problems.\\n\\nHow hyper is it?\\n\\nNow that hyperconvergence has been around a little while, there is a lot of great real-world data to be had about what it can do. ActualTech Media has done an amazing survey of hyperconverged appliance users, reaching out to over 500 IT professionals across 40 industries and 17 countries to find out what challenges they face in their datacenters and how hyperconverged solutions are performing. As a result, they\\u2019ve come up with the top 10 considerations when buying a hyperconverged infrastructure.\\n\\nActualTech Media had the good sense to start by asking respondents about the problems they face in their datacenters. The consensus is that datacenters continue to become more complex and maintaining support staff is increasingly difficult. Many IT professionals reported that they find themselves too busy putting out small fires for other users to actually accomplish anything more than limp-along maintenance. Then there is the usual list of complaints about increased performance expectations, shrinking budgets, data security, etc. These are all important issues. So the question is, \\u201cCan hyperconvergence really help?\\u201d\\n\\nSurvey says\\u2026\\n\\nThe answer seems to be a fairly resounding \\u201cYes!\\u201d Hyperconverged solutions are already solving some of the biggest challenges facing datacenters, including VDI, managing ROBO environments, and cloud computing. HPE put together a great infographic describing the many applications of hyperconvergence using data from the ActualTech survey, which you can see here. \\n\\nHCTenThingBlog-CTA banner.jpg\\ufeffIs a hyperconverged solution right for your datacenter? To find out\\u2026\\n\\nActual Tech Media Hyper-Converged Infrastructure in the Modern Enterprise - Executive Summary Report\\nInfographic: ActualTech Media: Top 10 Things You Need To Consider When Buying a Hyperconverged Infrastructure\\nAnd if you want more details into the findings register to download:\\n\\nDatacenter Challenges and Infrastructure Sentiment\\nHyper-Converged Infrastructure Use-cases.\\nCurious how can HPE help you better if you are a Dell or EMC customer? We can point you in the right direction\\n\\nWhitney'"
      ]
     },
     "execution_count": 4,
     "metadata": {},
     "output_type": "execute_result"
    }
   ],
   "source": [
    "one"
   ]
  },
  {
   "cell_type": "code",
   "execution_count": 5,
   "metadata": {
    "collapsed": false
   },
   "outputs": [
    {
     "data": {
      "text/plain": [
       "u'So what\\u2019s the big deal about hyper-converged systems? Are they just another flash-in-the-pan tech fad soon to be supplanted by the next big thing?\\n\\nThe short answer is no. Hyper-converged infrastructure is the next logical step toward the software-defined data center (SDDC). By consolidating IT components into a single, optimized, easy-to-use and easy-to-manage infrastructure, hyper-convergence allows companies to emulate the scale-out architectures of an Amazon, Facebook, or eBay. This is important because in today\\u2019s digital economy, IT is fast becoming far more than an enabler of business. Increasingly, it is the business.\\n\\nHyper-convergence takes the data center to the next level\\n\\nA quick glance back at how hyper-convergence has emerged is helpful in understanding it. Hyper-converged infrastructure grew out of converged infrastructure (CI)\\u2014pre-configured hardware and software bundled into a single framework. In essence, CI turns disparate data center components into an appliance that can be centrally managed. Converged Infrastructure gives IT a way to apply packaged resources to specific workloads with just the right amount of compute, storage, and network connectivity.\\n\\nHyper-convergence (HC) is essentially convergence with a simple-to-use user interface software layer added to it. Whereas converged infrastructures are pre-engineered systems with perhaps a virtualization layer, hyper-converged solutions are software-defined. Here\\u2019s another key difference: While the technologies in a CI can be separated and used independently based on optimized configuration, those in a hyper-converged infrastructure are so tightly integrated that they can\\u2019t be broken down into separate components. \\n\\nnew.png\\ufeff \\n\\nHyper-converged solutions bring IT one step closer to a truly software-defined data center. The software layer lends itself to ever-greater automation\\u2014a hallmark of the SDDC\\u2014with application programming interfaces (APIs) dictating how control plane applications talk to each other. Ultimately, the idea is to take all of the guesswork out of deploying, provisioning and managing the infrastructure.\\n\\nA software-defined solution for small and mid-size businesses\\n\\nOne key value of HC platforms is that they bring the SDDC within the reach of smaller and mid-size businesses. They\\u2019re also great for larger enterprises that want to set up data centers at branch offices and remote offices. Because it\\u2019s a single, compact appliance that can be managed by an IT generalist, an HC platform is ideal for environments with limited IT resources. See Karen Brown\\u2019s post Hyper-converged infrastructure: a software-defined data center in a box, for some great examples. It\\u2019s a real boon for companies that do a lot of development work, too, as Karen points out. Each development team can have its own dedicated hyper-converged VM platform for its projects.\\n\\nWhereas planning, building, and configuring a complete virtualized infrastructure from individual components can take weeks of an IT specialist\\u2019s time, the right HC solution makes power-on-to-provisioning possible in just minutes.\\n\\nChoosing the right hyper-converged solution\\n\\nHC is essentially a turnkey solution, but to achieve the best possible outcomes from your investment in this technology, you\\u2019ll want to make sure you choose the right system. Ask your vendor the tough questions, including:\\n\\nWill it allow me to scale easily, sensibly and without any disruption?\\nWill I be able to move data around to accommodate individual device outages?\\nDoes it provide for multiple hypervisor support?\\nWhat kind of data protection does it provide?\\nIs the data fabric integrated, and does it support multi-platform, HC to non-HC failover and replication?\\nIs the data protection built into the system without the need for additional software layers?\\nWhat about disaster recovery? Does the solution offer replication?\\nCan the solution meet the needs of my business-critical workloads when it comes to processing speed and storage?\\nWhat kinds of protection against downtime can I expect?\\nWhat is the performance overhead of data efficiency features such as dedupe and compression?\\nFor more info on these points, read the whitepaper: Top 10 Things You Need to Consider When Buying a Hyper-converged Infrastructure.\\n\\nAnd of course, you\\u2019ll want to take a close look at ROI. By automating routine operations, hyper-convergence improves efficiency and reduces costs. In fact, the ROI can be dramatic, as you can see for yourself with our ROI calculator.\\n\\nTo learn more, register for our e-book: How hyper-convergence can help IT. And for more information about HPE\\u2019s new hyper-converged solution check out this webinar replay: www.hpe.com/engage/hyperconverged\\n\\n#HyperConverged #AcceleratingSimplicity\\n\\nSaid'"
      ]
     },
     "execution_count": 5,
     "metadata": {},
     "output_type": "execute_result"
    }
   ],
   "source": [
    "two"
   ]
  },
  {
   "cell_type": "code",
   "execution_count": null,
   "metadata": {
    "collapsed": false
   },
   "outputs": [],
   "source": [
    "# list for tokenized documents in loop\n",
    "texts = []\n",
    "# for i in df['text']:\n",
    "for i in doc_set:    \n",
    "    \n",
    "    # clean and tokenize document string\n",
    "#     raw = i.decode('utf-8').lower()\n",
    "    raw = i.lower()\n",
    "    tokens = tokenizer.tokenize(raw)\n",
    "\n",
    "    # remove stop words from tokens\n",
    "    stopped_tokens = [i for i in tokens if not i in en_stop]\n",
    "    \n",
    "    # stem tokens\n",
    "    stemmed_tokens = [p_stemmer.stem(i) for i in stopped_tokens]\n",
    "    \n",
    "    # add tokens to list\n",
    "    texts.append(stemmed_tokens)\n",
    "    \n",
    "    \n",
    "print texts"
   ]
  },
  {
   "cell_type": "code",
   "execution_count": null,
   "metadata": {
    "collapsed": false
   },
   "outputs": [],
   "source": [
    "# turn our tokenized documents into a id <-> term dictionary\n",
    "dictionary = corpora.Dictionary(texts)\n",
    "    \n",
    "# convert tokenized documents into a document-term matrix\n",
    "corpus = [dictionary.doc2bow(text) for text in texts]"
   ]
  },
  {
   "cell_type": "code",
   "execution_count": null,
   "metadata": {
    "collapsed": false
   },
   "outputs": [],
   "source": [
    "# generate LDA model\n",
    "ldamodel = gensim.models.ldamodel.LdaModel(corpus, num_topics=8, id2word = dictionary, passes=30)"
   ]
  },
  {
   "cell_type": "code",
   "execution_count": null,
   "metadata": {
    "collapsed": false
   },
   "outputs": [],
   "source": [
    "print(ldamodel.print_topics(num_topics=8, num_words=4))"
   ]
  },
  {
   "cell_type": "markdown",
   "metadata": {},
   "source": [
    "<hr>\n",
    "Look like you need to remove the URLs from these\n",
    "And possibly RT\n",
    "<hr>\n"
   ]
  },
  {
   "cell_type": "code",
   "execution_count": null,
   "metadata": {
    "collapsed": true
   },
   "outputs": [],
   "source": []
  }
 ],
 "metadata": {
  "kernelspec": {
   "display_name": "Python 2",
   "language": "python",
   "name": "python2"
  },
  "language_info": {
   "codemirror_mode": {
    "name": "ipython",
    "version": 2
   },
   "file_extension": ".py",
   "mimetype": "text/x-python",
   "name": "python",
   "nbconvert_exporter": "python",
   "pygments_lexer": "ipython2",
   "version": "2.7.11"
  }
 },
 "nbformat": 4,
 "nbformat_minor": 0
}
