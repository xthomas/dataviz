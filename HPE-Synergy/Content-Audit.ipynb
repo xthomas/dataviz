{
 "cells": [
  {
   "cell_type": "code",
   "execution_count": 2,
   "metadata": {
    "collapsed": false
   },
   "outputs": [],
   "source": [
    "import pandas as pd\n",
    "%matplotlib inline\n",
    "hc = pd.read_csv('./content-audit-data/hyperconverged.csv')\n",
    "ptoc = pd.read_csv('./content-audit-data/path-to-composable.csv')"
   ]
  },
  {
   "cell_type": "code",
   "execution_count": 4,
   "metadata": {
    "collapsed": false
   },
   "outputs": [],
   "source": [
    "hc2=hc[[\"Status\",\"Content Type\",\"URL\"]].copy(deep=True)\n",
    "hcpub = hc2[(hc2[\"Status\"]==\"Published\")]\n",
    "ptoc2=ptoc[[\"Status\",\"Content Type\"]].copy(deep=True)\n",
    "ptoc2pub = ptoc2[(ptoc2[\"Status\"]==\"Published\")]"
   ]
  },
  {
   "cell_type": "markdown",
   "metadata": {},
   "source": [
    "<hr>\n",
    "These are the Published items **by content type** from the \"Hyperconverged\" tab of the content matrix."
   ]
  },
  {
   "cell_type": "code",
   "execution_count": 8,
   "metadata": {
    "collapsed": false
   },
   "outputs": [
    {
     "data": {
      "text/html": [
       "<div>\n",
       "<table border=\"1\" class=\"dataframe\">\n",
       "  <thead>\n",
       "    <tr style=\"text-align: right;\">\n",
       "      <th></th>\n",
       "      <th>Status</th>\n",
       "      <th>URL</th>\n",
       "    </tr>\n",
       "    <tr>\n",
       "      <th>Content Type</th>\n",
       "      <th></th>\n",
       "      <th></th>\n",
       "    </tr>\n",
       "  </thead>\n",
       "  <tbody>\n",
       "    <tr>\n",
       "      <th>Demo (BU led)</th>\n",
       "      <td>1</td>\n",
       "      <td>1</td>\n",
       "    </tr>\n",
       "    <tr>\n",
       "      <th>HPE Tech Now article</th>\n",
       "      <td>1</td>\n",
       "      <td>1</td>\n",
       "    </tr>\n",
       "    <tr>\n",
       "      <th>analyst paper</th>\n",
       "      <td>7</td>\n",
       "      <td>6</td>\n",
       "    </tr>\n",
       "    <tr>\n",
       "      <th>blog post</th>\n",
       "      <td>13</td>\n",
       "      <td>13</td>\n",
       "    </tr>\n",
       "    <tr>\n",
       "      <th>buyers guide</th>\n",
       "      <td>1</td>\n",
       "      <td>1</td>\n",
       "    </tr>\n",
       "    <tr>\n",
       "      <th>ebook</th>\n",
       "      <td>3</td>\n",
       "      <td>3</td>\n",
       "    </tr>\n",
       "    <tr>\n",
       "      <th>infographic</th>\n",
       "      <td>5</td>\n",
       "      <td>5</td>\n",
       "    </tr>\n",
       "    <tr>\n",
       "      <th>other website</th>\n",
       "      <td>2</td>\n",
       "      <td>1</td>\n",
       "    </tr>\n",
       "    <tr>\n",
       "      <th>paid digital</th>\n",
       "      <td>1</td>\n",
       "      <td>1</td>\n",
       "    </tr>\n",
       "    <tr>\n",
       "      <th>video</th>\n",
       "      <td>7</td>\n",
       "      <td>7</td>\n",
       "    </tr>\n",
       "    <tr>\n",
       "      <th>white paper</th>\n",
       "      <td>1</td>\n",
       "      <td>1</td>\n",
       "    </tr>\n",
       "  </tbody>\n",
       "</table>\n",
       "</div>"
      ],
      "text/plain": [
       "                      Status  URL\n",
       "Content Type                     \n",
       "Demo (BU led)              1    1\n",
       "HPE Tech Now article       1    1\n",
       "analyst paper              7    6\n",
       "blog post                 13   13\n",
       "buyers guide               1    1\n",
       "ebook                      3    3\n",
       "infographic                5    5\n",
       "other website              2    1\n",
       "paid digital               1    1\n",
       "video                      7    7\n",
       "white paper                1    1"
      ]
     },
     "execution_count": 8,
     "metadata": {},
     "output_type": "execute_result"
    }
   ],
   "source": [
    "hcpub.groupby([\"Content Type\"]).count()"
   ]
  },
  {
   "cell_type": "markdown",
   "metadata": {},
   "source": [
    "<hr>\n",
    "These are the Published items **by content type** from the \"Path To Composable\" tab of the content matrix."
   ]
  },
  {
   "cell_type": "code",
   "execution_count": 11,
   "metadata": {
    "collapsed": false
   },
   "outputs": [
    {
     "data": {
      "text/html": [
       "<div>\n",
       "<table border=\"1\" class=\"dataframe\">\n",
       "  <thead>\n",
       "    <tr style=\"text-align: right;\">\n",
       "      <th></th>\n",
       "      <th>Status</th>\n",
       "    </tr>\n",
       "    <tr>\n",
       "      <th>Content Type</th>\n",
       "      <th></th>\n",
       "    </tr>\n",
       "  </thead>\n",
       "  <tbody>\n",
       "    <tr>\n",
       "      <th>analyst paper</th>\n",
       "      <td>6</td>\n",
       "    </tr>\n",
       "    <tr>\n",
       "      <th>article</th>\n",
       "      <td>1</td>\n",
       "    </tr>\n",
       "    <tr>\n",
       "      <th>blog post</th>\n",
       "      <td>31</td>\n",
       "    </tr>\n",
       "    <tr>\n",
       "      <th>brochure</th>\n",
       "      <td>2</td>\n",
       "    </tr>\n",
       "    <tr>\n",
       "      <th>ebook</th>\n",
       "      <td>2</td>\n",
       "    </tr>\n",
       "    <tr>\n",
       "      <th>infographic</th>\n",
       "      <td>1</td>\n",
       "    </tr>\n",
       "    <tr>\n",
       "      <th>other website</th>\n",
       "      <td>1</td>\n",
       "    </tr>\n",
       "    <tr>\n",
       "      <th>video</th>\n",
       "      <td>7</td>\n",
       "    </tr>\n",
       "    <tr>\n",
       "      <th>white paper</th>\n",
       "      <td>3</td>\n",
       "    </tr>\n",
       "  </tbody>\n",
       "</table>\n",
       "</div>"
      ],
      "text/plain": [
       "               Status\n",
       "Content Type         \n",
       "analyst paper       6\n",
       "article             1\n",
       "blog post          31\n",
       "brochure            2\n",
       "ebook               2\n",
       "infographic         1\n",
       "other website       1\n",
       "video               7\n",
       "white paper         3"
      ]
     },
     "execution_count": 11,
     "metadata": {},
     "output_type": "execute_result"
    }
   ],
   "source": [
    "ptoc2pub.groupby([\"Content Type\"]).count()"
   ]
  },
  {
   "cell_type": "markdown",
   "metadata": {},
   "source": [
    "<hr>\n",
    "These are the URLs of Published **blog posts** from the \"Path To Composable\" tab of the content matrix."
   ]
  },
  {
   "cell_type": "code",
   "execution_count": 14,
   "metadata": {
    "collapsed": false
   },
   "outputs": [
    {
     "name": "stdout",
     "output_type": "stream",
     "text": [
      "http://community.hpe.com/t5/Converged-Data-Center/Hyperconvergence-10-Considerations-for-Buyers/ba-p/6863538#.V1d7wk32aM8\n",
      "http://community.hpe.com/t5/Converged-Data-Center/Hyper-convergence-what-it-is-why-it-s-a-big-deal/ba-p/6839480\n",
      "http://community.hpe.com/t5/Converged-Data-Center/Hyper-convergence-what-your-peers-think-now/ba-p/6839494\n",
      "http://community.hpe.com/t5/Converged-Data-Center/When-hyper-convergence-meets-Cloud-great-things-happen/ba-p/6831942#.VvG52E32aM8\n",
      "http://community.hpe.com/t5/Grounded-in-the-Cloud/Put-your-Cloud-into-hyperdrive-with-hyper-convergence/ba-p/6820118\n",
      "http://community.hpe.com/t5/Converged-Data-Center/Validated-Blueprint-for-Delivering-Virtual-Workspaces-with/ba-p/6819622\n",
      "http://community.hpe.com/t5/Converged-Data-Center/Cook-up-your-perfect-Cloud-recipe/ba-p/6817455\n",
      "http://blog.codecdss.ie/what-you-need-to-know-about-hyper-convergence\n",
      "http://community.hpe.com/t5/Infrastructure-Insights/Hyper-convergence-and-Cloud-a-perfect-romance/ba-p/6812224\n",
      "http://h30499.www3.hp.com/t5/Converged-Data-Center/Crying-at-the-Dell-EMC-wedding-Why-VCE-customers-should-consider/ba-p/6804403\n",
      "http://h30499.www3.hp.com/t5/Converged-Data-Center/3-signs-you-re-ready-for-a-better-approach-to-infrastructure/ba-p/6799992\n",
      "http://h30507.www3.hp.com/t5/Converged-Infrastructure/Hyper-Converged-Infrastructure-a-Software-Defined-Data-Center-in/ba-p/187412#.VfsaW01RGM8\n",
      "http://h30507.www3.hp.com/t5/Converged-Infrastructure/Gartner-Magic-Quadrant-for-Integrated-Systems-shows-HP-in-the/ba-p/186638\n"
     ]
    }
   ],
   "source": [
    "urls = hcpub[hcpub[\"Content Type\"]==\"blog post\"].URL\n",
    "for u in urls:\n",
    "    print u"
   ]
  },
  {
   "cell_type": "markdown",
   "metadata": {},
   "source": [
    "<hr>\n",
    "I will try and run the URLs for the other content types in a list below...later in day Thursday  or Friday (else just find in original Excel, which lives in the content folder shared at top of this Slack channel)"
   ]
  },
  {
   "cell_type": "code",
   "execution_count": null,
   "metadata": {
    "collapsed": true
   },
   "outputs": [],
   "source": []
  }
 ],
 "metadata": {
  "kernelspec": {
   "display_name": "Python 2",
   "language": "python",
   "name": "python2"
  },
  "language_info": {
   "codemirror_mode": {
    "name": "ipython",
    "version": 2
   },
   "file_extension": ".py",
   "mimetype": "text/x-python",
   "name": "python",
   "nbconvert_exporter": "python",
   "pygments_lexer": "ipython2",
   "version": "2.7.11"
  }
 },
 "nbformat": 4,
 "nbformat_minor": 0
}
