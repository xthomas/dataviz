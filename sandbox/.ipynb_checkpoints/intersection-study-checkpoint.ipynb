{
 "cells": [
  {
   "cell_type": "code",
   "execution_count": 1,
   "metadata": {
    "collapsed": true
   },
   "outputs": [],
   "source": [
    "# Finding common names (AGENCY NAMES) among multiple datasets.\n",
    "# Sorting at its simplest\n",
    "import pandas as pd\n"
   ]
  },
  {
   "cell_type": "code",
   "execution_count": 2,
   "metadata": {
    "collapsed": true
   },
   "outputs": [],
   "source": [
    "raw_A = {'first_name': ['Jason', 'Molly', 'Tina', 'Jake', 'Amy'],\n",
    "        'last_name': ['Miller', 'Jacobson', 'Ali', 'Milner', 'Cooze'],\n",
    "        'age': [12, 22, 96, 24, 37],\n",
    "        'city': ['San Francisco', 'Baltimore', 'Miami', 'Douglas', 'Boston']}"
   ]
  },
  {
   "cell_type": "code",
   "execution_count": 3,
   "metadata": {
    "collapsed": true
   },
   "outputs": [],
   "source": [
    "raw_B = {'first_name': ['Jason', 'Jenny', 'John', 'Tina', 'Amy'],\n",
    "        'last_name': ['Miller', 'Jacobson', 'Ali', 'Milner', 'Cooze'],\n",
    "        'age': [42, 52, 36, 24, 73],\n",
    "        'city': ['San Francisco', 'Baltimore', 'Miami', 'Douglas', 'Boston']}"
   ]
  },
  {
   "cell_type": "code",
   "execution_count": 4,
   "metadata": {
    "collapsed": true
   },
   "outputs": [],
   "source": [
    "raw_C = {'first_name': ['Ricky', 'Ronny', 'John', 'Foobio', 'Chunk'],\n",
    "        'last_name': ['Miller', 'Jacobson', 'Ali', 'Milner', 'Cooze'],\n",
    "        'age': [56, 82, 55, 73, 24],\n",
    "        'city': ['San Francisco', 'Baltimore', 'Miami', 'Douglas', 'Boston']}"
   ]
  },
  {
   "cell_type": "code",
   "execution_count": 5,
   "metadata": {
    "collapsed": false
   },
   "outputs": [],
   "source": [
    "rawdata = [raw_A, raw_B, raw_C]"
   ]
  },
  {
   "cell_type": "code",
   "execution_count": 6,
   "metadata": {
    "collapsed": false
   },
   "outputs": [
    {
     "data": {
      "text/plain": [
       "{'age': [12, 22, 96, 24, 37],\n",
       " 'city': ['San Francisco', 'Baltimore', 'Miami', 'Douglas', 'Boston'],\n",
       " 'first_name': ['Jason', 'Molly', 'Tina', 'Jake', 'Amy'],\n",
       " 'last_name': ['Miller', 'Jacobson', 'Ali', 'Milner', 'Cooze']}"
      ]
     },
     "execution_count": 6,
     "metadata": {},
     "output_type": "execute_result"
    }
   ],
   "source": [
    "rawdata[0]"
   ]
  },
  {
   "cell_type": "code",
   "execution_count": 7,
   "metadata": {
    "collapsed": false
   },
   "outputs": [
    {
     "name": "stdout",
     "output_type": "stream",
     "text": [
      "{'age': [12, 22, 96, 24, 37], 'last_name': ['Miller', 'Jacobson', 'Ali', 'Milner', 'Cooze'], 'city': ['San Francisco', 'Baltimore', 'Miami', 'Douglas', 'Boston'], 'first_name': ['Jason', 'Molly', 'Tina', 'Jake', 'Amy']}\n",
      "\n",
      "\n",
      "{'age': [42, 52, 36, 24, 73], 'last_name': ['Miller', 'Jacobson', 'Ali', 'Milner', 'Cooze'], 'city': ['San Francisco', 'Baltimore', 'Miami', 'Douglas', 'Boston'], 'first_name': ['Jason', 'Jenny', 'John', 'Tina', 'Amy']}\n",
      "\n",
      "\n",
      "{'age': [56, 82, 55, 73, 24], 'last_name': ['Miller', 'Jacobson', 'Ali', 'Milner', 'Cooze'], 'city': ['San Francisco', 'Baltimore', 'Miami', 'Douglas', 'Boston'], 'first_name': ['Ricky', 'Ronny', 'John', 'Foobio', 'Chunk']}\n",
      "\n",
      "\n"
     ]
    }
   ],
   "source": [
    "for r in rawdata:\n",
    "    print (r)\n",
    "    print ('\\n')"
   ]
  },
  {
   "cell_type": "code",
   "execution_count": 13,
   "metadata": {
    "collapsed": false
   },
   "outputs": [],
   "source": [
    "# A function to create dataframes from a set number of series\n",
    "# Step towards laoding multiple CSV files at once in a rational naming order\n",
    "\n",
    "def makeDataframes(x):\n",
    "    count = 0\n",
    "    while (count < 3):\n",
    "        current = x+str(count)\n",
    "        print (current)\n",
    "        x+str(count) = pd.DataFrame(rawdata[count], columns = ['first_name', 'last_name', 'age', 'city'])\n",
    "        count += 1\n",
    "    "
   ]
  },
  {
   "cell_type": "code",
   "execution_count": 14,
   "metadata": {
    "collapsed": false
   },
   "outputs": [
    {
     "name": "stdout",
     "output_type": "stream",
     "text": [
      "df0\n",
      "df1\n",
      "df2\n"
     ]
    }
   ],
   "source": [
    "makeDataframes('df')"
   ]
  },
  {
   "cell_type": "code",
   "execution_count": 15,
   "metadata": {
    "collapsed": false
   },
   "outputs": [
    {
     "ename": "NameError",
     "evalue": "name 'df0' is not defined",
     "output_type": "error",
     "traceback": [
      "\u001b[0;31m---------------------------------------------------------------------------\u001b[0m",
      "\u001b[0;31mNameError\u001b[0m                                 Traceback (most recent call last)",
      "\u001b[0;32m<ipython-input-15-1cae085ca099>\u001b[0m in \u001b[0;36m<module>\u001b[0;34m()\u001b[0m\n\u001b[0;32m----> 1\u001b[0;31m \u001b[0mdf0\u001b[0m\u001b[0;34m\u001b[0m\u001b[0m\n\u001b[0m",
      "\u001b[0;31mNameError\u001b[0m: name 'df0' is not defined"
     ]
    }
   ],
   "source": [
    "df0"
   ]
  },
  {
   "cell_type": "code",
   "execution_count": null,
   "metadata": {
    "collapsed": true
   },
   "outputs": [],
   "source": []
  }
 ],
 "metadata": {
  "anaconda-cloud": {},
  "kernelspec": {
   "display_name": "Python [default]",
   "language": "python",
   "name": "python3"
  },
  "language_info": {
   "codemirror_mode": {
    "name": "ipython",
    "version": 3
   },
   "file_extension": ".py",
   "mimetype": "text/x-python",
   "name": "python",
   "nbconvert_exporter": "python",
   "pygments_lexer": "ipython3",
   "version": "3.5.2"
  }
 },
 "nbformat": 4,
 "nbformat_minor": 2
}
