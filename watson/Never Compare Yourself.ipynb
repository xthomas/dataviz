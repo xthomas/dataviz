{
 "cells": [
  {
   "cell_type": "code",
   "execution_count": 17,
   "metadata": {
    "collapsed": false
   },
   "outputs": [],
   "source": [
    "import sys\n",
    "import operator\n",
    "import requests\n",
    "import json\n",
    "import twitter\n",
    "from watson_developer_cloud import PersonalityInsightsV2 as PersonalityInsights"
   ]
  },
  {
   "cell_type": "code",
   "execution_count": 18,
   "metadata": {
    "collapsed": false
   },
   "outputs": [],
   "source": [
    "def analyze(handle):\n",
    "    #Twitter credentials, IBM credentials,\n",
    "    twitter_consumer_key = 'Wx526MM90fEAbuEVkmRGJGKOv'\n",
    "    twitter_consumer_secret = 'HTmVYSIOGmcyJdZyUNQBvtmhFi6po7r8xdO0GEXVp97a4BXRDK'\n",
    "    twitter_access_token = '91267293-ufU0lIwKHzykkrz1wwN1YQPOzFZNK8G4tpSXpNHE5'\n",
    "    twitter_access_secret = 'XXcNKdNV6WpdQfrmYhSGTOKQA9hn7T7xDTraLyKU5HUZF'\n",
    "    pi_username = '2c577fe0-f0eb-4d77-aa77-7e702f14c2cb'\n",
    "    pi_password = 'kHQLZCQhFFOV'\n",
    "    #Create instances\n",
    "    twitter_api = twitter.Api(consumer_key=twitter_consumer_key, consumer_secret=twitter_consumer_secret, access_token_key=twitter_access_token, access_token_secret=twitter_access_secret)\n",
    "    personality_insights = PersonalityInsights(username=pi_username, password=pi_password)\n",
    "    #Get Status\n",
    "    statuses = twitter_api.GetUserTimeline(screen_name=handle, count=800, include_rts=False)\n",
    "    text = \"\"\n",
    "    for status in statuses:\n",
    "        if (status.lang =='en'): #English tweets\n",
    "            text += status.text.encode('utf-8')\n",
    "    #Personality Insights results\n",
    "    pi_result = personality_insights.profile(text)\n",
    "    print pi_result\n",
    "    return pi_result"
   ]
  },
  {
   "cell_type": "code",
   "execution_count": 19,
   "metadata": {
    "collapsed": true
   },
   "outputs": [],
   "source": [
    "def flatten(orig):\n",
    "    data = {}\n",
    "    for c in orig['tree']['children']:\n",
    "        if 'children' in c:\n",
    "            for c2 in c['children']:\n",
    "                if 'children' in c2:\n",
    "                    for c3 in c2['children']:\n",
    "                        if 'children' in c3:\n",
    "                            for c4 in c3['children']:\n",
    "                                if (c4['category'] == 'personality'):\n",
    "                                    data[c4['id']] = c4['percentage']\n",
    "                                    if 'children' not in c3:\n",
    "                                        if (c3['category'] == 'personality'):\n",
    "                                                data[c3['id']] = c3['percentage']\n",
    "    return data"
   ]
  },
  {
   "cell_type": "code",
   "execution_count": 20,
   "metadata": {
    "collapsed": true
   },
   "outputs": [],
   "source": [
    "def compare(dict1, dict2):\n",
    "    compared_data = {}\n",
    "    for keys in dict1:\n",
    "        if dict1[keys] != dict2[keys]:\n",
    "                compared_data[keys]=abs(dict1[keys] - dict2[keys])\n",
    "    return compared_data"
   ]
  },
  {
   "cell_type": "code",
   "execution_count": 21,
   "metadata": {
    "collapsed": true
   },
   "outputs": [],
   "source": [
    "# celebrity_handle = \"@joshwink1\"\n",
    "celebrity_handle = \"@realDonaldTrump\"\n",
    "#user_handle = \"@senorlelo\"\n",
    "user_handle = \"@potus\""
   ]
  },
  {
   "cell_type": "code",
   "execution_count": 22,
   "metadata": {
    "collapsed": false,
    "scrolled": false
   },
   "outputs": [
    {
     "name": "stdout",
     "output_type": "stream",
     "text": [
      "{u'warnings': [], u'tree': {u'children': [{u'children': [{u'category': u'personality', u'percentage': 0.9860577436357568, u'children': [{u'category': u'personality', u'name': u'Openness', u'sampling_error': 0.05329525984, u'id': u'Openness', u'percentage': 0.7705284550747172, u'children': [{u'category': u'personality', u'percentage': 0.9499377146692803, u'id': u'Adventurousness', u'sampling_error': 0.04647429712, u'name': u'Adventurousness'}, {u'category': u'personality', u'percentage': 0.7766118318743385, u'id': u'Artistic interests', u'sampling_error': 0.09501483352000001, u'name': u'Artistic interests'}, {u'category': u'personality', u'percentage': 0.5358642853216583, u'id': u'Emotionality', u'sampling_error': 0.04426119888, u'name': u'Emotionality'}, {u'category': u'personality', u'percentage': 0.08516428722233343, u'id': u'Imagination', u'sampling_error': 0.057701593440000004, u'name': u'Imagination'}, {u'category': u'personality', u'percentage': 0.9645603266362897, u'id': u'Intellect', u'sampling_error': 0.05030589712, u'name': u'Intellect'}, {u'category': u'personality', u'percentage': 0.6375743253976434, u'id': u'Liberalism', u'sampling_error': 0.07628197672, u'name': u'Authority-challenging'}]}, {u'category': u'personality', u'name': u'Conscientiousness', u'sampling_error': 0.06790591064, u'id': u'Conscientiousness', u'percentage': 0.9860577436357568, u'children': [{u'category': u'personality', u'percentage': 0.9782340215621257, u'id': u'Achievement striving', u'sampling_error': 0.0899733572, u'name': u'Achievement striving'}, {u'category': u'personality', u'percentage': 0.9833041991349413, u'id': u'Cautiousness', u'sampling_error': 0.08334944647999999, u'name': u'Cautiousness'}, {u'category': u'personality', u'percentage': 0.9037104111568275, u'id': u'Dutifulness', u'sampling_error': 0.05505133952, u'name': u'Dutifulness'}, {u'category': u'personality', u'percentage': 0.7820246532110424, u'id': u'Orderliness', u'sampling_error': 0.0639805968, u'name': u'Orderliness'}, {u'category': u'personality', u'percentage': 0.9680332995608955, u'id': u'Self-discipline', u'sampling_error': 0.042988613759999995, u'name': u'Self-discipline'}, {u'category': u'personality', u'percentage': 0.9184453588268983, u'id': u'Self-efficacy', u'sampling_error': 0.0834484864, u'name': u'Self-efficacy'}]}, {u'category': u'personality', u'name': u'Extraversion', u'sampling_error': 0.05026960888, u'id': u'Extraversion', u'percentage': 0.6287777971353217, u'children': [{u'category': u'personality', u'percentage': 0.9768402509672822, u'id': u'Activity level', u'sampling_error': 0.07032831487999999, u'name': u'Activity level'}, {u'category': u'personality', u'percentage': 0.9909753376504853, u'id': u'Assertiveness', u'sampling_error': 0.07499198688, u'name': u'Assertiveness'}, {u'category': u'personality', u'percentage': 0.6674724509866405, u'id': u'Cheerfulness', u'sampling_error': 0.09406002872000001, u'name': u'Cheerfulness'}, {u'category': u'personality', u'percentage': 0.12122277094622352, u'id': u'Excitement-seeking', u'sampling_error': 0.07606496352, u'name': u'Excitement-seeking'}, {u'category': u'personality', u'percentage': 0.9212818264932391, u'id': u'Friendliness', u'sampling_error': 0.06830251096, u'name': u'Outgoing'}, {u'category': u'personality', u'percentage': 0.6135233434735979, u'id': u'Gregariousness', u'sampling_error': 0.0532904036, u'name': u'Gregariousness'}]}, {u'category': u'personality', u'name': u'Agreeableness', u'sampling_error': 0.08894406456, u'id': u'Agreeableness', u'percentage': 0.6486823915298365, u'children': [{u'category': u'personality', u'percentage': 0.974042752823583, u'id': u'Altruism', u'sampling_error': 0.06416513976, u'name': u'Altruism'}, {u'category': u'personality', u'percentage': 0.8279572457185422, u'id': u'Cooperation', u'sampling_error': 0.0733070488, u'name': u'Cooperation'}, {u'category': u'personality', u'percentage': 0.625494892550595, u'id': u'Modesty', u'sampling_error': 0.0496505292, u'name': u'Modesty'}, {u'category': u'personality', u'percentage': 0.9742101189677652, u'id': u'Morality', u'sampling_error': 0.05720074624, u'name': u'Uncompromising'}, {u'category': u'personality', u'percentage': 0.9957623678764133, u'id': u'Sympathy', u'sampling_error': 0.08826534344, u'name': u'Sympathy'}, {u'category': u'personality', u'percentage': 0.8386794599904684, u'id': u'Trust', u'sampling_error': 0.04938751976, u'name': u'Trust'}]}, {u'category': u'personality', u'name': u'Emotional range', u'sampling_error': 0.0807081004, u'id': u'Neuroticism', u'percentage': 0.9700244766525619, u'children': [{u'category': u'personality', u'percentage': 0.007155903653522033, u'id': u'Anger', u'sampling_error': 0.0850747884, u'name': u'Fiery'}, {u'category': u'personality', u'percentage': 0.008694814526852057, u'id': u'Anxiety', u'sampling_error': 0.04952485976, u'name': u'Prone to worry'}, {u'category': u'personality', u'percentage': 0.031229165939185177, u'id': u'Depression', u'sampling_error': 0.052236796, u'name': u'Melancholy'}, {u'category': u'personality', u'percentage': 0.0249310807302357, u'id': u'Immoderation', u'sampling_error': 0.04818612952, u'name': u'Immoderation'}, {u'category': u'personality', u'percentage': 0.016991505433506415, u'id': u'Self-consciousness', u'sampling_error': 0.0506965032, u'name': u'Self-consciousness'}, {u'category': u'personality', u'percentage': 0.014961549401413587, u'id': u'Vulnerability', u'sampling_error': 0.07667576976, u'name': u'Susceptible to stress'}]}], u'id': u'Conscientiousness_parent', u'name': u'Conscientiousness'}], u'id': u'personality', u'name': u'Big 5'}, {u'children': [{u'category': u'needs', u'percentage': 0.07761585391177828, u'children': [{u'category': u'needs', u'percentage': 0.18968645095403458, u'id': u'Challenge', u'sampling_error': 0.075730186, u'name': u'Challenge'}, {u'category': u'needs', u'percentage': 0.3043501454937633, u'id': u'Closeness', u'sampling_error': 0.0747540036, u'name': u'Closeness'}, {u'category': u'needs', u'percentage': 0.47367983000374797, u'id': u'Curiosity', u'sampling_error': 0.10726904288, u'name': u'Curiosity'}, {u'category': u'needs', u'percentage': 0.12176165927335098, u'id': u'Excitement', u'sampling_error': 0.0967166912, u'name': u'Excitement'}, {u'category': u'needs', u'percentage': 0.3780300704847488, u'id': u'Harmony', u'sampling_error': 0.095938438, u'name': u'Harmony'}, {u'category': u'needs', u'percentage': 0.09562027806945111, u'id': u'Ideal', u'sampling_error': 0.08710148472, u'name': u'Ideal'}, {u'category': u'needs', u'percentage': 0.1669249297000256, u'id': u'Liberty', u'sampling_error': 0.130708516, u'name': u'Liberty'}, {u'category': u'needs', u'percentage': 0.09268829222865793, u'id': u'Love', u'sampling_error': 0.08848860064, u'name': u'Love'}, {u'category': u'needs', u'percentage': 0.07761585391177828, u'id': u'Practicality', u'sampling_error': 0.07782730208000001, u'name': u'Practicality'}, {u'category': u'needs', u'percentage': 0.13311498579934095, u'id': u'Self-expression', u'sampling_error': 0.07323255568, u'name': u'Self-expression'}, {u'category': u'needs', u'percentage': 0.644533227117613, u'id': u'Stability', u'sampling_error': 0.0948279048, u'name': u'Stability'}, {u'category': u'needs', u'percentage': 0.8239397345747685, u'id': u'Structure', u'sampling_error': 0.07163239816, u'name': u'Structure'}], u'id': u'Practicality_parent', u'name': u'Practicality'}], u'id': u'needs', u'name': u'Needs'}, {u'children': [{u'category': u'values', u'percentage': 0.0042119944531990305, u'children': [{u'category': u'values', u'percentage': 0.6375632960696921, u'id': u'Conservation', u'sampling_error': 0.06348229143999999, u'name': u'Conservation'}, {u'category': u'values', u'percentage': 0.277624810628992, u'id': u'Openness to change', u'sampling_error': 0.05909443008, u'name': u'Openness to change'}, {u'category': u'values', u'percentage': 0.02613671967800124, u'id': u'Hedonism', u'sampling_error': 0.12141207344, u'name': u'Hedonism'}, {u'category': u'values', u'percentage': 0.0042119944531990305, u'id': u'Self-enhancement', u'sampling_error': 0.09251877527999999, u'name': u'Self-enhancement'}, {u'category': u'values', u'percentage': 0.27327348821797626, u'id': u'Self-transcendence', u'sampling_error': 0.06931330008, u'name': u'Self-transcendence'}], u'id': u'Self-enhancement_parent', u'name': u'Self-enhancement'}], u'id': u'values', u'name': u'Values'}], u'id': u'r', u'name': u'root'}, u'word_count': 3826, u'processed_lang': u'en', u'source': u'*UNKNOWN*', u'id': u'*UNKNOWN*'}\n",
      "{u'warnings': [], u'tree': {u'children': [{u'children': [{u'category': u'personality', u'percentage': 0.9889651103247545, u'children': [{u'category': u'personality', u'name': u'Openness', u'sampling_error': 0.054171052, u'id': u'Openness', u'percentage': 0.8036197919244421, u'children': [{u'category': u'personality', u'percentage': 0.8021428770165167, u'id': u'Adventurousness', u'sampling_error': 0.04704842608, u'name': u'Adventurousness'}, {u'category': u'personality', u'percentage': 0.4561735244043971, u'id': u'Artistic interests', u'sampling_error': 0.09620257491999999, u'name': u'Artistic interests'}, {u'category': u'personality', u'percentage': 0.3912396652138156, u'id': u'Emotionality', u'sampling_error': 0.04487178796, u'name': u'Emotionality'}, {u'category': u'personality', u'percentage': 0.03496320729401059, u'id': u'Imagination', u'sampling_error': 0.05856518776, u'name': u'Imagination'}, {u'category': u'personality', u'percentage': 0.9013543767862018, u'id': u'Intellect', u'sampling_error': 0.051068633079999995, u'name': u'Intellect'}, {u'category': u'personality', u'percentage': 0.3991054751088506, u'id': u'Liberalism', u'sampling_error': 0.07759660824, u'name': u'Authority-challenging'}]}, {u'category': u'personality', u'name': u'Conscientiousness', u'sampling_error': 0.0696348066, u'id': u'Conscientiousness', u'percentage': 0.9889651103247545, u'children': [{u'category': u'personality', u'percentage': 0.9605950834394088, u'id': u'Achievement striving', u'sampling_error': 0.09118805552, u'name': u'Achievement striving'}, {u'category': u'personality', u'percentage': 0.9663593235755923, u'id': u'Cautiousness', u'sampling_error': 0.08465690224, u'name': u'Cautiousness'}, {u'category': u'personality', u'percentage': 0.9896658749906206, u'id': u'Dutifulness', u'sampling_error': 0.05651765288, u'name': u'Dutifulness'}, {u'category': u'personality', u'percentage': 0.649950888423254, u'id': u'Orderliness', u'sampling_error': 0.06496120792, u'name': u'Orderliness'}, {u'category': u'personality', u'percentage': 0.9741294547122212, u'id': u'Self-discipline', u'sampling_error': 0.043477757000000006, u'name': u'Self-discipline'}, {u'category': u'personality', u'percentage': 0.9154346950531843, u'id': u'Self-efficacy', u'sampling_error': 0.08470333596, u'name': u'Self-efficacy'}]}, {u'category': u'personality', u'name': u'Extraversion', u'sampling_error': 0.05133797404, u'id': u'Extraversion', u'percentage': 0.9016413844898996, u'children': [{u'category': u'personality', u'percentage': 0.774544276163945, u'id': u'Activity level', u'sampling_error': 0.07160814268, u'name': u'Activity level'}, {u'category': u'personality', u'percentage': 0.9755117822225978, u'id': u'Assertiveness', u'sampling_error': 0.0762839372, u'name': u'Assertiveness'}, {u'category': u'personality', u'percentage': 0.6605323699266538, u'id': u'Cheerfulness', u'sampling_error': 0.09583335563999999, u'name': u'Cheerfulness'}, {u'category': u'personality', u'percentage': 0.05705287588852487, u'id': u'Excitement-seeking', u'sampling_error': 0.07653977036000001, u'name': u'Excitement-seeking'}, {u'category': u'personality', u'percentage': 0.9392784002301915, u'id': u'Friendliness', u'sampling_error': 0.06936381384, u'name': u'Outgoing'}, {u'category': u'personality', u'percentage': 0.6196402333705815, u'id': u'Gregariousness', u'sampling_error': 0.0542686834, u'name': u'Gregariousness'}]}, {u'category': u'personality', u'name': u'Agreeableness', u'sampling_error': 0.08964234039999999, u'id': u'Agreeableness', u'percentage': 0.9165079139974505, u'children': [{u'category': u'personality', u'percentage': 0.9538556880987636, u'id': u'Altruism', u'sampling_error': 0.06526817712, u'name': u'Altruism'}, {u'category': u'personality', u'percentage': 0.8363319846402446, u'id': u'Cooperation', u'sampling_error': 0.07479358628, u'name': u'Cooperation'}, {u'category': u'personality', u'percentage': 0.753842500737687, u'id': u'Modesty', u'sampling_error': 0.050603273000000004, u'name': u'Modesty'}, {u'category': u'personality', u'percentage': 0.9607150052917652, u'id': u'Morality', u'sampling_error': 0.0579461672, u'name': u'Uncompromising'}, {u'category': u'personality', u'percentage': 0.9920027719983384, u'id': u'Sympathy', u'sampling_error': 0.08914884344, u'name': u'Sympathy'}, {u'category': u'personality', u'percentage': 0.7787173432987469, u'id': u'Trust', u'sampling_error': 0.051131062920000005, u'name': u'Trust'}]}, {u'category': u'personality', u'name': u'Emotional range', u'sampling_error': 0.08218894812000001, u'id': u'Neuroticism', u'percentage': 0.957923625890081, u'children': [{u'category': u'personality', u'percentage': 0.023994952024357752, u'id': u'Anger', u'sampling_error': 0.08651203376, u'name': u'Fiery'}, {u'category': u'personality', u'percentage': 0.05049545845927661, u'id': u'Anxiety', u'sampling_error': 0.0503824014, u'name': u'Prone to worry'}, {u'category': u'personality', u'percentage': 0.028637665948761715, u'id': u'Depression', u'sampling_error': 0.05332297312, u'name': u'Melancholy'}, {u'category': u'personality', u'percentage': 0.0976914222338639, u'id': u'Immoderation', u'sampling_error': 0.04914697044, u'name': u'Immoderation'}, {u'category': u'personality', u'percentage': 0.008340104486531275, u'id': u'Self-consciousness', u'sampling_error': 0.05127017224, u'name': u'Self-consciousness'}, {u'category': u'personality', u'percentage': 0.01916645064732514, u'id': u'Vulnerability', u'sampling_error': 0.07810931124, u'name': u'Susceptible to stress'}]}], u'id': u'Conscientiousness_parent', u'name': u'Conscientiousness'}], u'id': u'personality', u'name': u'Big 5'}, {u'children': [{u'category': u'needs', u'percentage': 0.013287585745011377, u'children': [{u'category': u'needs', u'percentage': 0.08167277868801803, u'id': u'Challenge', u'sampling_error': 0.07760249272, u'name': u'Challenge'}, {u'category': u'needs', u'percentage': 0.2371702082961893, u'id': u'Closeness', u'sampling_error': 0.07646192572, u'name': u'Closeness'}, {u'category': u'needs', u'percentage': 0.059416153846015674, u'id': u'Curiosity', u'sampling_error': 0.10917894804, u'name': u'Curiosity'}, {u'category': u'needs', u'percentage': 0.030981339402996633, u'id': u'Excitement', u'sampling_error': 0.09963664332000001, u'name': u'Excitement'}, {u'category': u'needs', u'percentage': 0.024022489679381753, u'id': u'Harmony', u'sampling_error': 0.0984473922, u'name': u'Harmony'}, {u'category': u'needs', u'percentage': 0.04716203192986895, u'id': u'Ideal', u'sampling_error': 0.0893501706, u'name': u'Ideal'}, {u'category': u'needs', u'percentage': 0.017122052541556465, u'id': u'Liberty', u'sampling_error': 0.13273388656000001, u'name': u'Liberty'}, {u'category': u'needs', u'percentage': 0.017603008929703956, u'id': u'Love', u'sampling_error': 0.09073863404, u'name': u'Love'}, {u'category': u'needs', u'percentage': 0.013287585745011377, u'id': u'Practicality', u'sampling_error': 0.07970925447999999, u'name': u'Practicality'}, {u'category': u'needs', u'percentage': 0.056396585813552, u'id': u'Self-expression', u'sampling_error': 0.07503852164000001, u'name': u'Self-expression'}, {u'category': u'needs', u'percentage': 0.32698900961133465, u'id': u'Stability', u'sampling_error': 0.09682280272, u'name': u'Stability'}, {u'category': u'needs', u'percentage': 0.36970793377726724, u'id': u'Structure', u'sampling_error': 0.07323708168, u'name': u'Structure'}], u'id': u'Practicality_parent', u'name': u'Practicality'}], u'id': u'needs', u'name': u'Needs'}, {u'children': [{u'category': u'values', u'percentage': 0.0026684370801821067, u'children': [{u'category': u'values', u'percentage': 0.3210422793588529, u'id': u'Conservation', u'sampling_error': 0.06465636924, u'name': u'Conservation'}, {u'category': u'values', u'percentage': 0.07628912488910194, u'id': u'Openness to change', u'sampling_error': 0.05985603968, u'name': u'Openness to change'}, {u'category': u'values', u'percentage': 0.045856734860708404, u'id': u'Hedonism', u'sampling_error': 0.1242510124, u'name': u'Hedonism'}, {u'category': u'values', u'percentage': 0.0026684370801821067, u'id': u'Self-enhancement', u'sampling_error': 0.09395187532, u'name': u'Self-enhancement'}, {u'category': u'values', u'percentage': 0.06198951177558537, u'id': u'Self-transcendence', u'sampling_error': 0.07192472192, u'name': u'Self-transcendence'}], u'id': u'Self-enhancement_parent', u'name': u'Self-enhancement'}], u'id': u'values', u'name': u'Values'}], u'id': u'r', u'name': u'root'}, u'word_count': 3109, u'processed_lang': u'en', u'source': u'*UNKNOWN*', u'id': u'*UNKNOWN*'}\n"
     ]
    }
   ],
   "source": [
    "user_result = analyze(user_handle)\n",
    "celebrity_result = analyze(celebrity_handle)"
   ]
  },
  {
   "cell_type": "code",
   "execution_count": 23,
   "metadata": {
    "collapsed": false
   },
   "outputs": [],
   "source": [
    "#First, flatten the results from the Watson PI API\n",
    "user = flatten(user_result)\n",
    "celebrity = flatten(celebrity_result)\n",
    "#Then, compare the results of the Watson PI API by calculating the distance between traits\n",
    "compared_results = compare(user,celebrity)"
   ]
  },
  {
   "cell_type": "code",
   "execution_count": 24,
   "metadata": {
    "collapsed": false
   },
   "outputs": [
    {
     "name": "stdout",
     "output_type": "stream",
     "text": [
      "Depression 0.0312291659392 -> 0.0286376659488 -> 0.00259149999042\n",
      "Self-efficacy 0.918445358827 -> 0.915434695053 -> 0.00301066377371\n",
      "Sympathy 0.995762367876 -> 0.992002771998 -> 0.00375959587807\n",
      "Vulnerability 0.0149615494014 -> 0.0191664506473 -> 0.00420490124591\n",
      "Self-discipline 0.968033299561 -> 0.974129454712 -> 0.00609615515133\n"
     ]
    }
   ],
   "source": [
    "sorted_result = sorted(compared_results.items(), key=operator.itemgetter(1))\n",
    "for keys, value in sorted_result[:5]:\n",
    "    print keys,\n",
    "    print(user[keys]),\n",
    "    print ('->'),\n",
    "    print (celebrity[keys]),\n",
    "    print ('->'),\n",
    "    print (compared_results[keys])"
   ]
  },
  {
   "cell_type": "code",
   "execution_count": null,
   "metadata": {
    "collapsed": true
   },
   "outputs": [],
   "source": []
  }
 ],
 "metadata": {
  "kernelspec": {
   "display_name": "Python 2",
   "language": "python",
   "name": "python2"
  },
  "language_info": {
   "codemirror_mode": {
    "name": "ipython",
    "version": 2
   },
   "file_extension": ".py",
   "mimetype": "text/x-python",
   "name": "python",
   "nbconvert_exporter": "python",
   "pygments_lexer": "ipython2",
   "version": "2.7.12"
  }
 },
 "nbformat": 4,
 "nbformat_minor": 0
}
