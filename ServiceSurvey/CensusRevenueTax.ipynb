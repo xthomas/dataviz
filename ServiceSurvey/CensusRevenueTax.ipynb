{
 "cells": [
  {
   "cell_type": "code",
   "execution_count": 1,
   "metadata": {
    "collapsed": true
   },
   "outputs": [],
   "source": [
    "# import modules\n",
    "import pandas as pd\n",
    "import glob\n",
    "import matplotlib.pyplot as plt\n",
    "%matplotlib inline\n",
    "plt.rcParams['figure.figsize'] = (18.0, 7.0)"
   ]
  },
  {
   "cell_type": "code",
   "execution_count": 2,
   "metadata": {
    "collapsed": false
   },
   "outputs": [
    {
     "data": {
      "text/plain": [
       "['./data/RevenueByTax.csv']"
      ]
     },
     "execution_count": 2,
     "metadata": {},
     "output_type": "execute_result"
    }
   ],
   "source": [
    "# check filenames of the data we are exploring:\n",
    "glob.glob('./data/*.csv')"
   ]
  },
  {
   "cell_type": "code",
   "execution_count": 3,
   "metadata": {
    "collapsed": false
   },
   "outputs": [],
   "source": [
    "def read (fp):\n",
    "    df = (pd.read_csv(fp)\n",
    "          .rename(columns=str.lower)\n",
    "          .pipe(establishments, y='All Establishments')\n",
    "#          .pipe(tracedata)\n",
    "          .set_index('company-type')\n",
    "         )\n",
    "    return df"
   ]
  },
  {
   "cell_type": "code",
   "execution_count": 4,
   "metadata": {
    "collapsed": true
   },
   "outputs": [],
   "source": [
    "def establishments (df,y):\n",
    "    df = df.copy()\n",
    "    df = df[df['tax-status'].str.contains(y, na=False)]\n",
    "    df.drop(df.columns[[1, 2, 3]], axis=1, inplace=True)\n",
    "    return df"
   ]
  },
  {
   "cell_type": "code",
   "execution_count": 5,
   "metadata": {
    "collapsed": false
   },
   "outputs": [],
   "source": [
    "df = read('./data/RevenueByTax.csv')"
   ]
  },
  {
   "cell_type": "code",
   "execution_count": 6,
   "metadata": {
    "collapsed": false
   },
   "outputs": [
    {
     "data": {
      "text/plain": [
       "Index(['Utilities1 ',\n",
       "       'Electric Power Generation, Transmission, and Distribution ',\n",
       "       '0tural Gas Distribution ', 'Water, Sewage and Other Systems ',\n",
       "       'Transportation and Warehousing2 ', 'Air Transportation ',\n",
       "       'Scheduled Passenger Air Transportation ',\n",
       "       'Scheduled Freight Air Transportation ',\n",
       "       'Nonscheduled Chartered Passenger Air Transportation ',\n",
       "       'Nonscheduled Chartered Freight Air Transportation ',\n",
       "       ...\n",
       "       'Industrial Launderers ', 'Pet Care (except Veteri0ry) Services ',\n",
       "       'Photofinishing ', 'Parking Lots and Garages ',\n",
       "       'All Other Perso0l Services ',\n",
       "       'Religious, Grantmaking, Civic, Professio0l, and Similar Organizations22 ',\n",
       "       'Grantmaking and Giving Services ', 'Social Advocacy Organizations ',\n",
       "       'Civic and Social Organizations ',\n",
       "       'Business, Professio0l, Labor, Political, and Similar Organizations23 '],\n",
       "      dtype='object', name='company-type', length=352)"
      ]
     },
     "execution_count": 6,
     "metadata": {},
     "output_type": "execute_result"
    }
   ],
   "source": [
    "df.index"
   ]
  },
  {
   "cell_type": "code",
   "execution_count": 7,
   "metadata": {
    "collapsed": false
   },
   "outputs": [
    {
     "data": {
      "text/plain": [
       "True"
      ]
     },
     "execution_count": 7,
     "metadata": {},
     "output_type": "execute_result"
    }
   ],
   "source": [
    "'Air Transportation ' in df.index"
   ]
  },
  {
   "cell_type": "code",
   "execution_count": 8,
   "metadata": {
    "collapsed": true
   },
   "outputs": [],
   "source": [
    "def tracedata (x,y):\n",
    "    x = x.copy()\n",
    "    series = x.loc[y:y].iloc[:,0:].squeeze()\n",
    "    return list(reversed(series))"
   ]
  },
  {
   "cell_type": "code",
   "execution_count": 9,
   "metadata": {
    "collapsed": false
   },
   "outputs": [],
   "source": [
    "trace1 = tracedata(df, 'Air Transportation ')\n",
    "trace2 = tracedata(df, 'Television Broadcasting ')"
   ]
  },
  {
   "cell_type": "code",
   "execution_count": 10,
   "metadata": {
    "collapsed": false
   },
   "outputs": [
    {
     "data": {
      "text/plain": [
       "[<matplotlib.lines.Line2D at 0x1152244e0>]"
      ]
     },
     "execution_count": 10,
     "metadata": {},
     "output_type": "execute_result"
    },
    {
     "data": {
      "image/png": "[encoded data removed]",
      "text/plain": [
       "<matplotlib.figure.Figure at 0x1151b9080>"
      ]
     },
     "metadata": {},
     "output_type": "display_data"
    }
   ],
   "source": [
    "plt.plot(trace2)"
   ]
  },
  {
   "cell_type": "code",
   "execution_count": null,
   "metadata": {
    "collapsed": true
   },
   "outputs": [],
   "source": []
  },
  {
   "cell_type": "markdown",
   "metadata": {},
   "source": [
    "#df['company-type'].str.contains(\"Credit Card Issuing\", na=False)\n",
    "#df['Air Transportation']\n",
    "cccos = df[df['company-type'].str.contains(\"Credit Card Issuing\", na=False)]\n",
    "creditcard = cccos.iloc[:,1:14].squeeze()"
   ]
  },
  {
   "cell_type": "markdown",
   "metadata": {
    "collapsed": false,
    "scrolled": true
   },
   "source": [
    "'''\n",
    "companies = df[df['TAX-STATUS'].str.contains(\"All Establishments\", na=False)]\n",
    "companies.drop(companies.columns[[1, 2, 3]], axis=1, inplace=True)\n",
    "companies.set_index('COMPANY-TYPE')\n",
    "'''"
   ]
  }
 ],
 "metadata": {
  "kernelspec": {
   "display_name": "Python 3",
   "language": "python",
   "name": "python3"
  },
  "language_info": {
   "codemirror_mode": {
    "name": "ipython",
    "version": 3
   },
   "file_extension": ".py",
   "mimetype": "text/x-python",
   "name": "python",
   "nbconvert_exporter": "python",
   "pygments_lexer": "ipython3",
   "version": "3.6.0"
  }
 },
 "nbformat": 4,
 "nbformat_minor": 2
}
