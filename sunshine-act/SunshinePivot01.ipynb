{
 "cells": [
  {
   "cell_type": "code",
   "execution_count": 19,
   "metadata": {},
   "outputs": [],
   "source": [
    "import pandas as pd\n",
    "import numpy as np"
   ]
  },
  {
   "cell_type": "code",
   "execution_count": 5,
   "metadata": {},
   "outputs": [],
   "source": [
    "# datadir = '/home/xavier/data/'\n",
    "datadir = '~/Documents/data/sunshine/'\n",
    "fname = '2016-general-payment-data.csv'"
   ]
  },
  {
   "cell_type": "code",
   "execution_count": 6,
   "metadata": {},
   "outputs": [
    {
     "name": "stderr",
     "output_type": "stream",
     "text": [
      "/anaconda3/lib/python3.6/site-packages/IPython/core/interactiveshell.py:2785: DtypeWarning: Columns (16,17,23,24) have mixed types. Specify dtype option on import or set low_memory=False.\n",
      "  interactivity=interactivity, compiler=compiler, result=result)\n"
     ]
    }
   ],
   "source": [
    "sunshine = pd.read_csv(datadir + fname)"
   ]
  },
  {
   "cell_type": "code",
   "execution_count": 8,
   "metadata": {
    "scrolled": true
   },
   "outputs": [
    {
     "data": {
      "text/plain": [
       "['Change_Type',\n",
       " 'Covered_Recipient_Type',\n",
       " 'Teaching_Hospital_CCN',\n",
       " 'Teaching_Hospital_ID',\n",
       " 'Teaching_Hospital_Name',\n",
       " 'Physician_Profile_ID',\n",
       " 'Physician_First_Name',\n",
       " 'Physician_Middle_Name',\n",
       " 'Physician_Last_Name',\n",
       " 'Physician_Name_Suffix',\n",
       " 'Recipient_Primary_Business_Street_Address_Line1',\n",
       " 'Recipient_Primary_Business_Street_Address_Line2',\n",
       " 'Recipient_City',\n",
       " 'Recipient_State',\n",
       " 'Recipient_Zip_Code',\n",
       " 'Recipient_Country',\n",
       " 'Recipient_Province',\n",
       " 'Recipient_Postal_Code',\n",
       " 'Physician_Primary_Type',\n",
       " 'Physician_Specialty',\n",
       " 'Physician_License_State_code1',\n",
       " 'Physician_License_State_code2',\n",
       " 'Physician_License_State_code3',\n",
       " 'Physician_License_State_code4',\n",
       " 'Physician_License_State_code5',\n",
       " 'Submitting_Applicable_Manufacturer_or_Applicable_GPO_Name',\n",
       " 'Applicable_Manufacturer_or_Applicable_GPO_Making_Payment_ID',\n",
       " 'Applicable_Manufacturer_or_Applicable_GPO_Making_Payment_Name',\n",
       " 'Applicable_Manufacturer_or_Applicable_GPO_Making_Payment_State',\n",
       " 'Applicable_Manufacturer_or_Applicable_GPO_Making_Payment_Country',\n",
       " 'Total_Amount_of_Payment_USDollars',\n",
       " 'Date_of_Payment',\n",
       " 'Number_of_Payments_Included_in_Total_Amount',\n",
       " 'Form_of_Payment_or_Transfer_of_Value',\n",
       " 'Nature_of_Payment_or_Transfer_of_Value',\n",
       " 'City_of_Travel',\n",
       " 'State_of_Travel',\n",
       " 'Country_of_Travel',\n",
       " 'Physician_Ownership_Indicator',\n",
       " 'Third_Party_Payment_Recipient_Indicator',\n",
       " 'Name_of_Third_Party_Entity_Receiving_Payment_or_Transfer_of_Value',\n",
       " 'Charity_Indicator',\n",
       " 'Third_Party_Equals_Covered_Recipient_Indicator',\n",
       " 'Contextual_Information',\n",
       " 'Delay_in_Publication_Indicator',\n",
       " 'Record_ID',\n",
       " 'Dispute_Status_for_Publication',\n",
       " 'Related_Product_Indicator',\n",
       " 'Covered_or_Noncovered_Indicator_1',\n",
       " 'Indicate_Drug_or_Biological_or_Device_or_Medical_Supply_1',\n",
       " 'Product_Category_or_Therapeutic_Area_1',\n",
       " 'Name_of_Drug_or_Biological_or_Device_or_Medical_Supply_1',\n",
       " 'Associated_Drug_or_Biological_NDC_1',\n",
       " 'Covered_or_Noncovered_Indicator_2',\n",
       " 'Indicate_Drug_or_Biological_or_Device_or_Medical_Supply_2',\n",
       " 'Product_Category_or_Therapeutic_Area_2',\n",
       " 'Name_of_Drug_or_Biological_or_Device_or_Medical_Supply_2',\n",
       " 'Associated_Drug_or_Biological_NDC_2',\n",
       " 'Covered_or_Noncovered_Indicator_3',\n",
       " 'Indicate_Drug_or_Biological_or_Device_or_Medical_Supply_3',\n",
       " 'Product_Category_or_Therapeutic_Area_3',\n",
       " 'Name_of_Drug_or_Biological_or_Device_or_Medical_Supply_3',\n",
       " 'Associated_Drug_or_Biological_NDC_3',\n",
       " 'Covered_or_Noncovered_Indicator_4',\n",
       " 'Indicate_Drug_or_Biological_or_Device_or_Medical_Supply_4',\n",
       " 'Product_Category_or_Therapeutic_Area_4',\n",
       " 'Name_of_Drug_or_Biological_or_Device_or_Medical_Supply_4',\n",
       " 'Associated_Drug_or_Biological_NDC_4',\n",
       " 'Covered_or_Noncovered_Indicator_5',\n",
       " 'Indicate_Drug_or_Biological_or_Device_or_Medical_Supply_5',\n",
       " 'Product_Category_or_Therapeutic_Area_5',\n",
       " 'Name_of_Drug_or_Biological_or_Device_or_Medical_Supply_5',\n",
       " 'Associated_Drug_or_Biological_NDC_5',\n",
       " 'Program_Year',\n",
       " 'Payment_Publication_Date']"
      ]
     },
     "execution_count": 8,
     "metadata": {},
     "output_type": "execute_result"
    }
   ],
   "source": [
    "list(sunshine)"
   ]
  },
  {
   "cell_type": "code",
   "execution_count": 15,
   "metadata": {},
   "outputs": [],
   "source": [
    "competitors = sunshine[\n",
    "    sunshine[\"Name_of_Drug_or_Biological_or_Device_or_Medical_Supply_1\"]\n",
    "    .str.contains('jardiance|farxiga', case = False, na=False)]"
   ]
  },
  {
   "cell_type": "code",
   "execution_count": 12,
   "metadata": {},
   "outputs": [
    {
     "data": {
      "text/plain": [
       "(52681, 75)"
      ]
     },
     "execution_count": 12,
     "metadata": {},
     "output_type": "execute_result"
    }
   ],
   "source": [
    "competitors.shape"
   ]
  },
  {
   "cell_type": "code",
   "execution_count": 21,
   "metadata": {},
   "outputs": [
    {
     "data": {
      "text/html": [
       "<div>\n",
       "<style scoped>\n",
       "    .dataframe tbody tr th:only-of-type {\n",
       "        vertical-align: middle;\n",
       "    }\n",
       "\n",
       "    .dataframe tbody tr th {\n",
       "        vertical-align: top;\n",
       "    }\n",
       "\n",
       "    .dataframe thead th {\n",
       "        text-align: right;\n",
       "    }\n",
       "</style>\n",
       "<table border=\"1\" class=\"dataframe\">\n",
       "  <thead>\n",
       "    <tr style=\"text-align: right;\">\n",
       "      <th></th>\n",
       "      <th></th>\n",
       "      <th></th>\n",
       "      <th>Total_Amount_of_Payment_USDollars</th>\n",
       "    </tr>\n",
       "    <tr>\n",
       "      <th>Name_of_Drug_or_Biological_or_Device_or_Medical_Supply_1</th>\n",
       "      <th>Form_of_Payment_or_Transfer_of_Value</th>\n",
       "      <th>Nature_of_Payment_or_Transfer_of_Value</th>\n",
       "      <th></th>\n",
       "    </tr>\n",
       "  </thead>\n",
       "  <tbody>\n",
       "    <tr>\n",
       "      <th rowspan=\"5\" valign=\"top\">FARXIGA</th>\n",
       "      <th rowspan=\"2\" valign=\"top\">Cash or cash equivalent</th>\n",
       "      <th>Compensation for services other than consulting, including serving as faculty or as a speaker at a venue other than a continuing education program</th>\n",
       "      <td>6807950.00</td>\n",
       "    </tr>\n",
       "    <tr>\n",
       "      <th>Consulting Fee</th>\n",
       "      <td>151271.29</td>\n",
       "    </tr>\n",
       "    <tr>\n",
       "      <th rowspan=\"3\" valign=\"top\">In-kind items and services</th>\n",
       "      <th>Education</th>\n",
       "      <td>607.08</td>\n",
       "    </tr>\n",
       "    <tr>\n",
       "      <th>Food and Beverage</th>\n",
       "      <td>2788519.07</td>\n",
       "    </tr>\n",
       "    <tr>\n",
       "      <th>Travel and Lodging</th>\n",
       "      <td>479727.45</td>\n",
       "    </tr>\n",
       "    <tr>\n",
       "      <th rowspan=\"9\" valign=\"top\">JARDIANCE</th>\n",
       "      <th rowspan=\"5\" valign=\"top\">Cash or cash equivalent</th>\n",
       "      <th>Compensation for services other than consulting, including serving as faculty or as a speaker at a venue other than a continuing education program</th>\n",
       "      <td>164950.00</td>\n",
       "    </tr>\n",
       "    <tr>\n",
       "      <th>Consulting Fee</th>\n",
       "      <td>270256.25</td>\n",
       "    </tr>\n",
       "    <tr>\n",
       "      <th>Food and Beverage</th>\n",
       "      <td>136.10</td>\n",
       "    </tr>\n",
       "    <tr>\n",
       "      <th>Space rental or facility fees(teaching hospital only)</th>\n",
       "      <td>750.00</td>\n",
       "    </tr>\n",
       "    <tr>\n",
       "      <th>Travel and Lodging</th>\n",
       "      <td>389.17</td>\n",
       "    </tr>\n",
       "    <tr>\n",
       "      <th rowspan=\"4\" valign=\"top\">In-kind items and services</th>\n",
       "      <th>Compensation for services other than consulting, including serving as faculty or as a speaker at a venue other than a continuing education program</th>\n",
       "      <td>71233.06</td>\n",
       "    </tr>\n",
       "    <tr>\n",
       "      <th>Education</th>\n",
       "      <td>2386.82</td>\n",
       "    </tr>\n",
       "    <tr>\n",
       "      <th>Food and Beverage</th>\n",
       "      <td>660510.45</td>\n",
       "    </tr>\n",
       "    <tr>\n",
       "      <th>Travel and Lodging</th>\n",
       "      <td>37515.08</td>\n",
       "    </tr>\n",
       "  </tbody>\n",
       "</table>\n",
       "</div>"
      ],
      "text/plain": [
       "                                                                                                                                            Total_Amount_of_Payment_USDollars\n",
       "Name_of_Drug_or_Biological_or_Device_or_Medical... Form_of_Payment_or_Transfer_of_Value Nature_of_Payment_or_Transfer_of_Value                                               \n",
       "FARXIGA                                            Cash or cash equivalent              Compensation for services other than consulting...                         6807950.00\n",
       "                                                                                        Consulting Fee                                                              151271.29\n",
       "                                                   In-kind items and services           Education                                                                      607.08\n",
       "                                                                                        Food and Beverage                                                          2788519.07\n",
       "                                                                                        Travel and Lodging                                                          479727.45\n",
       "JARDIANCE                                          Cash or cash equivalent              Compensation for services other than consulting...                          164950.00\n",
       "                                                                                        Consulting Fee                                                              270256.25\n",
       "                                                                                        Food and Beverage                                                              136.10\n",
       "                                                                                        Space rental or facility fees(teaching hospital...                             750.00\n",
       "                                                                                        Travel and Lodging                                                             389.17\n",
       "                                                   In-kind items and services           Compensation for services other than consulting...                           71233.06\n",
       "                                                                                        Education                                                                     2386.82\n",
       "                                                                                        Food and Beverage                                                           660510.45\n",
       "                                                                                        Travel and Lodging                                                           37515.08"
      ]
     },
     "execution_count": 21,
     "metadata": {},
     "output_type": "execute_result"
    }
   ],
   "source": [
    "pd.pivot_table(competitors,index=[\"Name_of_Drug_or_Biological_or_Device_or_Medical_Supply_1\",\"Form_of_Payment_or_Transfer_of_Value\",\"Nature_of_Payment_or_Transfer_of_Value\"],values=[\"Total_Amount_of_Payment_USDollars\"],aggfunc=np.sum)"
   ]
  },
  {
   "cell_type": "code",
   "execution_count": 13,
   "metadata": {},
   "outputs": [],
   "source": [
    "jardiance = sunshine[sunshine[\"Name_of_Drug_or_Biological_or_Device_or_Medical_Supply_1\"] == \"JARDIANCE\"]"
   ]
  },
  {
   "cell_type": "code",
   "execution_count": 11,
   "metadata": {},
   "outputs": [
    {
     "data": {
      "text/plain": [
       "array(['Diabetes', 'DIABETES'], dtype=object)"
      ]
     },
     "execution_count": 11,
     "metadata": {},
     "output_type": "execute_result"
    }
   ],
   "source": [
    "jardiance[\"Product_Category_or_Therapeutic_Area_1\"].unique()"
   ]
  },
  {
   "cell_type": "code",
   "execution_count": 26,
   "metadata": {},
   "outputs": [],
   "source": [
    "farxiga = sunshine[sunshine[\"Name_of_Drug_or_Biological_or_Device_or_Medical_Supply_1\"] == \"FARXIGA\"]"
   ]
  },
  {
   "cell_type": "code",
   "execution_count": 14,
   "metadata": {},
   "outputs": [
    {
     "data": {
      "text/plain": [
       "array(['CARDIOVASCULAR AND METABOLISM',\n",
       "       'CARDIOVASCULAR AND METABOLISM,RESPIRATORY',\n",
       "       'Cardiovascular and Metabolism',\n",
       "       'CARDIOVASCULAR AND METABOLISM,RESPIRATORY,NEUROSCIENCE',\n",
       "       'CARDIOVASCULAR AND METABOLISM,NEUROSCIENCE,RESPIRATORY',\n",
       "       'CARDIOVASCULAR AND METABOLISM,NEUROSCIENCE',\n",
       "       'Cardiovascular and Metabolism,Respiratory',\n",
       "       'CARDIOVASCULAR AND METABOLISM,ONCOLOGY',\n",
       "       'CARDIOVASCULAR AND METABOLISM,ONCOLOGY,RESPIRATORY'], dtype=object)"
      ]
     },
     "execution_count": 14,
     "metadata": {},
     "output_type": "execute_result"
    }
   ],
   "source": [
    "farxiga[\"Product_Category_or_Therapeutic_Area_1\"].unique()"
   ]
  },
  {
   "cell_type": "code",
   "execution_count": null,
   "metadata": {},
   "outputs": [],
   "source": []
  },
  {
   "cell_type": "code",
   "execution_count": null,
   "metadata": {},
   "outputs": [],
   "source": []
  }
 ],
 "metadata": {
  "kernelspec": {
   "display_name": "Python 3",
   "language": "python",
   "name": "python3"
  },
  "language_info": {
   "codemirror_mode": {
    "name": "ipython",
    "version": 3
   },
   "file_extension": ".py",
   "mimetype": "text/x-python",
   "name": "python",
   "nbconvert_exporter": "python",
   "pygments_lexer": "ipython3",
   "version": "3.6.4"
  }
 },
 "nbformat": 4,
 "nbformat_minor": 2
}
