{
 "cells": [
  {
   "cell_type": "code",
   "execution_count": 1,
   "metadata": {},
   "outputs": [],
   "source": [
    "import pandas as pd\n",
    "import re\n",
    "import os"
   ]
  },
  {
   "cell_type": "markdown",
   "metadata": {},
   "source": [
    "# Realtor.com\n",
    "\n",
    "This is the Realtor.com, Historical Data, All Residential Inventory from [this page](https://www.realtor.com/research/data/) and [this specific link](https://econdata.s3-us-west-2.amazonaws.com/Reports/Core/RDC_Inventory_Core_Metrics_Zip_History.csv)\n",
    "\n",
    "> It runs from 2016 ⟶ 2020"
   ]
  },
  {
   "cell_type": "code",
   "execution_count": 2,
   "metadata": {},
   "outputs": [
    {
     "name": "stderr",
     "output_type": "stream",
     "text": [
      "/opt/conda/lib/python3.7/site-packages/IPython/core/interactiveshell.py:3063: DtypeWarning: Columns (0,1,3,14,17,20,23,26,29) have mixed types.Specify dtype option on import or set low_memory=False.\n",
      "  interactivity=interactivity, compiler=compiler, result=result)\n"
     ]
    }
   ],
   "source": [
    "datadir = '/home/jupyter/data/rei/RealtorDotCom/'\n",
    "usa = pd.read_csv('gs://datacamp-202518.appspot.com/data/rei/realtor/RDC_Inventory_Core_Metrics_Zip_History.csv')"
   ]
  },
  {
   "cell_type": "code",
   "execution_count": 3,
   "metadata": {},
   "outputs": [
    {
     "data": {
      "text/plain": [
       "(607530, 40)"
      ]
     },
     "execution_count": 3,
     "metadata": {},
     "output_type": "execute_result"
    }
   ],
   "source": [
    "usa.shape"
   ]
  },
  {
   "cell_type": "code",
   "execution_count": 4,
   "metadata": {},
   "outputs": [],
   "source": [
    "# split into **Five States**:\n",
    "vt = usa[usa[\"zip_name\"].str.contains(',\\svt', na=False)]\n",
    "ct = usa[usa[\"zip_name\"].str.contains(',\\sct', na=False)]\n",
    "ma = usa[usa[\"zip_name\"].str.contains(',\\sma', na=False)]\n",
    "ri = usa[usa[\"zip_name\"].str.contains(',\\sri', na=False)]\n",
    "nh = usa[usa[\"zip_name\"].str.contains(',\\snh', na=False)]"
   ]
  },
  {
   "cell_type": "code",
   "execution_count": 5,
   "metadata": {},
   "outputs": [
    {
     "name": "stdout",
     "output_type": "stream",
     "text": [
      "Vermont has 3795 Rows , 40 Columns, for all four years\n",
      "Connecticut has 9850 Rows , 40 Columns, for all four years\n",
      "Massachusetts has 13048 Rows , 40 Columns, for all four years\n",
      "Rhode Island has 2380 Rows , 40 Columns, for all four years\n",
      "New Hampshire has 5211 Rows , 40 Columns, for all four years\n"
     ]
    }
   ],
   "source": [
    "print(\"Vermont has {} Rows , {} Columns, for all four years\".format(vt.shape[0], vt.shape[1]))\n",
    "print(\"Connecticut has {} Rows , {} Columns, for all four years\".format(ct.shape[0], ct.shape[1]))\n",
    "print(\"Massachusetts has {} Rows , {} Columns, for all four years\".format(ma.shape[0], ma.shape[1]))\n",
    "print(\"Rhode Island has {} Rows , {} Columns, for all four years\".format(ri.shape[0], ri.shape[1]))\n",
    "print(\"New Hampshire has {} Rows , {} Columns, for all four years\".format(nh.shape[0], nh.shape[1]))"
   ]
  },
  {
   "cell_type": "code",
   "execution_count": 6,
   "metadata": {},
   "outputs": [
    {
     "name": "stderr",
     "output_type": "stream",
     "text": [
      "/opt/conda/lib/python3.7/site-packages/pandas/core/frame.py:2963: SettingWithCopyWarning: \n",
      "A value is trying to be set on a copy of a slice from a DataFrame.\n",
      "Try using .loc[row_indexer,col_indexer] = value instead\n",
      "\n",
      "See the caveats in the documentation: https://pandas.pydata.org/pandas-docs/stable/user_guide/indexing.html#returning-a-view-versus-a-copy\n",
      "  self[k1] = value[k2]\n"
     ]
    }
   ],
   "source": [
    "vt[[\"town\",\"state\"]] = vt.zip_name.str.split(\",\",expand=True)\n",
    "ct[[\"town\",\"state\"]] = ct.zip_name.str.split(\",\",expand=True)\n",
    "ma[[\"town\",\"state\"]] = ma.zip_name.str.split(\",\",expand=True)\n",
    "ri[[\"town\",\"state\"]] = ri.zip_name.str.split(\",\",expand=True)\n",
    "nh[[\"town\",\"state\"]] = nh.zip_name.str.split(\",\",expand=True)"
   ]
  },
  {
   "cell_type": "code",
   "execution_count": 7,
   "metadata": {},
   "outputs": [],
   "source": [
    "# dropping colument that we don't need\n",
    "def dropColumns(x):\n",
    "    # Fill the ZIP code to be 5 numerals, which means adding the prefix \"0\"\n",
    "    x.postal_code = x.postal_code.astype(str)\n",
    "    x.postal_code = x.postal_code.apply(lambda y: y.zfill(5))\n",
    "    # Drop the columsn we don't need\n",
    "    x.drop([ \\\n",
    "         'flag',\\\n",
    "         'zip_name',\\\n",
    "         'active_listing_count',\\\n",
    "         'active_listing_count_mm',\\\n",
    "         'active_listing_count_yy',\\\n",
    "         'median_listing_price_mm',\\\n",
    "         'median_listing_price_yy',\\\n",
    "         'median_days_on_market_mm',\\\n",
    "         'median_days_on_market_yy',\\\n",
    "         'new_listing_count',\\\n",
    "         'new_listing_count_mm',\\\n",
    "         'new_listing_count_yy',\\\n",
    "         'price_increased_count',\\\n",
    "         'price_increased_count_mm',\\\n",
    "         'price_increased_count_yy',\\\n",
    "         'price_reduced_count',\\\n",
    "         'price_reduced_count_mm',\\\n",
    "         'price_reduced_count_yy',\\\n",
    "         'pending_listing_count',\\\n",
    "         'pending_listing_count_mm',\\\n",
    "         'pending_listing_count_yy',\\\n",
    "         'pending_ratio_yy',\\\n",
    "         'median_square_feet',\\\n",
    "         'median_square_feet_mm',\\\n",
    "         'median_square_feet_yy',\\\n",
    "         'average_listing_price',\\\n",
    "         'average_listing_price_mm',\\\n",
    "         'average_listing_price_yy',\\\n",
    "         'total_listing_count',\\\n",
    "         'median_listing_price_per_square_feet_mm',\\\n",
    "         'median_listing_price_per_square_feet_yy',\\\n",
    "         'total_listing_count_mm',\\\n",
    "         'total_listing_count_yy',\\\n",
    "         'pending_ratio',\\\n",
    "         'pending_ratio_mm',\\\n",
    "         'pending_ratio_yy'], axis=1, inplace=True)\n",
    "    "
   ]
  },
  {
   "cell_type": "code",
   "execution_count": 8,
   "metadata": {},
   "outputs": [
    {
     "name": "stderr",
     "output_type": "stream",
     "text": [
      "/opt/conda/lib/python3.7/site-packages/pandas/core/generic.py:5303: SettingWithCopyWarning: \n",
      "A value is trying to be set on a copy of a slice from a DataFrame.\n",
      "Try using .loc[row_indexer,col_indexer] = value instead\n",
      "\n",
      "See the caveats in the documentation: https://pandas.pydata.org/pandas-docs/stable/user_guide/indexing.html#returning-a-view-versus-a-copy\n",
      "  self[name] = value\n",
      "/opt/conda/lib/python3.7/site-packages/pandas/core/frame.py:3997: SettingWithCopyWarning: \n",
      "A value is trying to be set on a copy of a slice from a DataFrame\n",
      "\n",
      "See the caveats in the documentation: https://pandas.pydata.org/pandas-docs/stable/user_guide/indexing.html#returning-a-view-versus-a-copy\n",
      "  errors=errors,\n"
     ]
    }
   ],
   "source": [
    "dropColumns(vt)\n",
    "dropColumns(ct)\n",
    "dropColumns(ma)\n",
    "dropColumns(ri)\n",
    "dropColumns(nh)"
   ]
  },
  {
   "cell_type": "code",
   "execution_count": 9,
   "metadata": {},
   "outputs": [
    {
     "data": {
      "text/plain": [
       "month_date_yyyymm                        object\n",
       "postal_code                              object\n",
       "median_listing_price                    float64\n",
       "median_days_on_market                   float64\n",
       "median_listing_price_per_square_feet    float64\n",
       "town                                     object\n",
       "state                                    object\n",
       "dtype: object"
      ]
     },
     "execution_count": 9,
     "metadata": {},
     "output_type": "execute_result"
    }
   ],
   "source": [
    "vt.dtypes"
   ]
  },
  {
   "cell_type": "code",
   "execution_count": 10,
   "metadata": {},
   "outputs": [],
   "source": [
    "vt20 = vt[vt.month_date_yyyymm.astype('str').str.contains('2020', na=False)]\n",
    "vt19 = vt[vt.month_date_yyyymm.astype('str').str.contains('2019', na=False)]\n",
    "vt18 = vt[vt.month_date_yyyymm.astype('str').str.contains('2018', na=False)]\n",
    "vt17 = vt[vt.month_date_yyyymm.astype('str').str.contains('2017', na=False)]\n",
    "vt16 = vt[vt.month_date_yyyymm.astype('str').str.contains('2016', na=False)]\n",
    "ct20 = ct[ct.month_date_yyyymm.astype('str').str.contains('2020', na=False)]\n",
    "ct19 = ct[ct.month_date_yyyymm.astype('str').str.contains('2019', na=False)]\n",
    "ct18 = ct[ct.month_date_yyyymm.astype('str').str.contains('2018', na=False)]\n",
    "ct17 = ct[ct.month_date_yyyymm.astype('str').str.contains('2017', na=False)]\n",
    "ct16 = ct[ct.month_date_yyyymm.astype('str').str.contains('2016', na=False)]\n",
    "ma20 = ma[ma.month_date_yyyymm.astype('str').str.contains('2020', na=False)]\n",
    "ma19 = ma[ma.month_date_yyyymm.astype('str').str.contains('2019', na=False)]\n",
    "ma18 = ma[ma.month_date_yyyymm.astype('str').str.contains('2018', na=False)]\n",
    "ma17 = ma[ma.month_date_yyyymm.astype('str').str.contains('2017', na=False)]\n",
    "ma16 = ma[ma.month_date_yyyymm.astype('str').str.contains('2016', na=False)]\n",
    "nh20 = nh[nh.month_date_yyyymm.astype('str').str.contains('2020', na=False)]\n",
    "nh19 = nh[nh.month_date_yyyymm.astype('str').str.contains('2019', na=False)]\n",
    "nh18 = nh[nh.month_date_yyyymm.astype('str').str.contains('2018', na=False)]\n",
    "nh17 = nh[nh.month_date_yyyymm.astype('str').str.contains('2017', na=False)]\n",
    "nh16 = nh[nh.month_date_yyyymm.astype('str').str.contains('2016', na=False)]\n",
    "ri20 = ri[ri.month_date_yyyymm.astype('str').str.contains('2020', na=False)]\n",
    "ri19 = ri[ri.month_date_yyyymm.astype('str').str.contains('2019', na=False)]\n",
    "ri18 = ri[ri.month_date_yyyymm.astype('str').str.contains('2018', na=False)]\n",
    "ri17 = ri[ri.month_date_yyyymm.astype('str').str.contains('2017', na=False)]\n",
    "ri16 = ri[ri.month_date_yyyymm.astype('str').str.contains('2016', na=False)]"
   ]
  },
  {
   "cell_type": "code",
   "execution_count": 11,
   "metadata": {},
   "outputs": [
    {
     "data": {
      "text/html": [
       "<div>\n",
       "<style scoped>\n",
       "    .dataframe tbody tr th:only-of-type {\n",
       "        vertical-align: middle;\n",
       "    }\n",
       "\n",
       "    .dataframe tbody tr th {\n",
       "        vertical-align: top;\n",
       "    }\n",
       "\n",
       "    .dataframe thead th {\n",
       "        text-align: right;\n",
       "    }\n",
       "</style>\n",
       "<table border=\"1\" class=\"dataframe\">\n",
       "  <thead>\n",
       "    <tr style=\"text-align: right;\">\n",
       "      <th></th>\n",
       "      <th>month_date_yyyymm</th>\n",
       "      <th>postal_code</th>\n",
       "      <th>median_listing_price</th>\n",
       "      <th>median_days_on_market</th>\n",
       "      <th>median_listing_price_per_square_feet</th>\n",
       "      <th>town</th>\n",
       "      <th>state</th>\n",
       "    </tr>\n",
       "  </thead>\n",
       "  <tbody>\n",
       "    <tr>\n",
       "      <th>269</th>\n",
       "      <td>202003</td>\n",
       "      <td>02806</td>\n",
       "      <td>599050.0</td>\n",
       "      <td>45.5</td>\n",
       "      <td>277.503998</td>\n",
       "      <td>barrington</td>\n",
       "      <td>ri</td>\n",
       "    </tr>\n",
       "    <tr>\n",
       "      <th>270</th>\n",
       "      <td>202003</td>\n",
       "      <td>02807</td>\n",
       "      <td>1224550.0</td>\n",
       "      <td>350.5</td>\n",
       "      <td>655.099150</td>\n",
       "      <td>block island</td>\n",
       "      <td>ri</td>\n",
       "    </tr>\n",
       "    <tr>\n",
       "      <th>271</th>\n",
       "      <td>202003</td>\n",
       "      <td>02809</td>\n",
       "      <td>497500.0</td>\n",
       "      <td>66.5</td>\n",
       "      <td>305.439926</td>\n",
       "      <td>bristol</td>\n",
       "      <td>ri</td>\n",
       "    </tr>\n",
       "    <tr>\n",
       "      <th>272</th>\n",
       "      <td>202003</td>\n",
       "      <td>02813</td>\n",
       "      <td>528050.0</td>\n",
       "      <td>52.5</td>\n",
       "      <td>289.908736</td>\n",
       "      <td>charlestown</td>\n",
       "      <td>ri</td>\n",
       "    </tr>\n",
       "    <tr>\n",
       "      <th>273</th>\n",
       "      <td>202003</td>\n",
       "      <td>02814</td>\n",
       "      <td>362450.0</td>\n",
       "      <td>60.5</td>\n",
       "      <td>188.400335</td>\n",
       "      <td>chepachet</td>\n",
       "      <td>ri</td>\n",
       "    </tr>\n",
       "    <tr>\n",
       "      <th>...</th>\n",
       "      <td>...</td>\n",
       "      <td>...</td>\n",
       "      <td>...</td>\n",
       "      <td>...</td>\n",
       "      <td>...</td>\n",
       "      <td>...</td>\n",
       "      <td>...</td>\n",
       "    </tr>\n",
       "    <tr>\n",
       "      <th>25946</th>\n",
       "      <td>202001</td>\n",
       "      <td>02916</td>\n",
       "      <td>292500.0</td>\n",
       "      <td>68.5</td>\n",
       "      <td>216.949152</td>\n",
       "      <td>rumford</td>\n",
       "      <td>ri</td>\n",
       "    </tr>\n",
       "    <tr>\n",
       "      <th>25947</th>\n",
       "      <td>202001</td>\n",
       "      <td>02917</td>\n",
       "      <td>400050.0</td>\n",
       "      <td>60.5</td>\n",
       "      <td>227.199413</td>\n",
       "      <td>smithfield</td>\n",
       "      <td>ri</td>\n",
       "    </tr>\n",
       "    <tr>\n",
       "      <th>25948</th>\n",
       "      <td>202001</td>\n",
       "      <td>02919</td>\n",
       "      <td>314950.0</td>\n",
       "      <td>63.0</td>\n",
       "      <td>213.632479</td>\n",
       "      <td>johnston</td>\n",
       "      <td>ri</td>\n",
       "    </tr>\n",
       "    <tr>\n",
       "      <th>25949</th>\n",
       "      <td>202001</td>\n",
       "      <td>02920</td>\n",
       "      <td>279000.0</td>\n",
       "      <td>54.0</td>\n",
       "      <td>180.004043</td>\n",
       "      <td>cranston</td>\n",
       "      <td>ri</td>\n",
       "    </tr>\n",
       "    <tr>\n",
       "      <th>25950</th>\n",
       "      <td>202001</td>\n",
       "      <td>02921</td>\n",
       "      <td>482500.0</td>\n",
       "      <td>65.0</td>\n",
       "      <td>208.853817</td>\n",
       "      <td>cranston</td>\n",
       "      <td>ri</td>\n",
       "    </tr>\n",
       "  </tbody>\n",
       "</table>\n",
       "<p>154 rows × 7 columns</p>\n",
       "</div>"
      ],
      "text/plain": [
       "      month_date_yyyymm postal_code  median_listing_price  \\\n",
       "269              202003       02806              599050.0   \n",
       "270              202003       02807             1224550.0   \n",
       "271              202003       02809              497500.0   \n",
       "272              202003       02813              528050.0   \n",
       "273              202003       02814              362450.0   \n",
       "...                 ...         ...                   ...   \n",
       "25946            202001       02916              292500.0   \n",
       "25947            202001       02917              400050.0   \n",
       "25948            202001       02919              314950.0   \n",
       "25949            202001       02920              279000.0   \n",
       "25950            202001       02921              482500.0   \n",
       "\n",
       "       median_days_on_market  median_listing_price_per_square_feet  \\\n",
       "269                     45.5                            277.503998   \n",
       "270                    350.5                            655.099150   \n",
       "271                     66.5                            305.439926   \n",
       "272                     52.5                            289.908736   \n",
       "273                     60.5                            188.400335   \n",
       "...                      ...                                   ...   \n",
       "25946                   68.5                            216.949152   \n",
       "25947                   60.5                            227.199413   \n",
       "25948                   63.0                            213.632479   \n",
       "25949                   54.0                            180.004043   \n",
       "25950                   65.0                            208.853817   \n",
       "\n",
       "               town state  \n",
       "269      barrington    ri  \n",
       "270    block island    ri  \n",
       "271         bristol    ri  \n",
       "272     charlestown    ri  \n",
       "273       chepachet    ri  \n",
       "...             ...   ...  \n",
       "25946       rumford    ri  \n",
       "25947    smithfield    ri  \n",
       "25948      johnston    ri  \n",
       "25949      cranston    ri  \n",
       "25950      cranston    ri  \n",
       "\n",
       "[154 rows x 7 columns]"
      ]
     },
     "execution_count": 11,
     "metadata": {},
     "output_type": "execute_result"
    }
   ],
   "source": [
    "ri20"
   ]
  },
  {
   "cell_type": "code",
   "execution_count": 12,
   "metadata": {},
   "outputs": [],
   "source": [
    "vt20.to_csv(datadir + 'realtor_vermont_2020.csv')\n",
    "vt19.to_csv(datadir + 'realtor_vermont_2019.csv')\n",
    "vt18.to_csv(datadir + 'realtor_vermont_2018.csv')\n",
    "vt17.to_csv(datadir + 'realtor_vermont_2017.csv')\n",
    "vt16.to_csv(datadir + 'realtor_vermont_2016.csv')\n",
    "ct20.to_csv(datadir + 'realtor_connecticut_2020.csv')\n",
    "ct19.to_csv(datadir + 'realtor_connecticut_2019.csv')\n",
    "ct18.to_csv(datadir + 'realtor_connecticut_2018.csv')\n",
    "ct17.to_csv(datadir + 'realtor_connecticut_2017.csv')\n",
    "ct16.to_csv(datadir + 'realtor_connecticut_2016.csv')\n",
    "ma20.to_csv(datadir + 'realtor_massachusetts_2020.csv')\n",
    "ma19.to_csv(datadir + 'realtor_massachusetts_2019.csv')\n",
    "ma18.to_csv(datadir + 'realtor_massachusetts_2018.csv')\n",
    "ma17.to_csv(datadir + 'realtor_massachusetts_2017.csv')\n",
    "ma16.to_csv(datadir + 'realtor_massachusetts_2016.csv')\n",
    "ri20.to_csv(datadir + 'realtor_rhode-island_2020.csv')\n",
    "ri19.to_csv(datadir + 'realtor_rhode-island_2019.csv')\n",
    "ri18.to_csv(datadir + 'realtor_rhode-island_2018.csv')\n",
    "ri17.to_csv(datadir + 'realtor_rhode-island_2017.csv')\n",
    "ri16.to_csv(datadir + 'realtor_rhode-island_2016.csv')\n",
    "nh20.to_csv(datadir + 'realtor_new-hampshire_2020.csv')\n",
    "nh19.to_csv(datadir + 'realtor_new-hampshire_2019.csv')\n",
    "nh18.to_csv(datadir + 'realtor_new-hampshire_2018.csv')\n",
    "nh17.to_csv(datadir + 'realtor_new-hampshire_2017.csv')\n",
    "nh16.to_csv(datadir + 'realtor_new-hampshire_2016.csv')"
   ]
  },
  {
   "cell_type": "code",
   "execution_count": null,
   "metadata": {},
   "outputs": [],
   "source": []
  }
 ],
 "metadata": {
  "environment": {
   "name": "common-cpu.m46",
   "type": "gcloud",
   "uri": "gcr.io/deeplearning-platform-release/base-cpu:m46"
  },
  "kernelspec": {
   "display_name": "Python 3",
   "language": "python",
   "name": "python3"
  },
  "language_info": {
   "codemirror_mode": {
    "name": "ipython",
    "version": 3
   },
   "file_extension": ".py",
   "mimetype": "text/x-python",
   "name": "python",
   "nbconvert_exporter": "python",
   "pygments_lexer": "ipython3",
   "version": "3.7.6"
  }
 },
 "nbformat": 4,
 "nbformat_minor": 4
}
