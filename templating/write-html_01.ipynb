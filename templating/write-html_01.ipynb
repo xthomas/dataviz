{
 "cells": [
  {
   "cell_type": "code",
   "execution_count": 1,
   "metadata": {},
   "outputs": [],
   "source": [
    "from string import Template"
   ]
  },
  {
   "cell_type": "code",
   "execution_count": 2,
   "metadata": {},
   "outputs": [],
   "source": [
    "templateFile = '/home/xavier/data/wordclouds/covid/foo.txt'\n",
    "anchorVariables = {'variable':\"Afghanistan Banana Stand\"}"
   ]
  },
  {
   "cell_type": "code",
   "execution_count": 3,
   "metadata": {},
   "outputs": [],
   "source": [
    "def writeWordtree ( template, words ):\n",
    "    filein = open ( template )\n",
    "    src = Template ( filein.read() )\n",
    "    result = src.substitute(words)\n",
    "    print (result)"
   ]
  },
  {
   "cell_type": "code",
   "execution_count": 4,
   "metadata": {},
   "outputs": [
    {
     "name": "stdout",
     "output_type": "stream",
     "text": [
      "I'm baby meh tumblr tbh salvia, small batch viral everyday carry tousled la croix. Tumeric palo santo tilde sriracha try-hard yr gastropub distillery selvage, quinoa VHS organic yuccie wolf la croix. Tote bag sartorial heirloom, blue bottle PBR&B master cleanse mixtape organic readymade tacos deep v 3 wolf moon tofu. Post-ironic farm-to-table freegan, poutine four dollar toast \n",
      "\n",
      "Afghanistan Banana Stand\n",
      "\n",
      "pin venmo vice. XOXO kickstarter occupy, post-ironic stumptown chicharrones artisan pinterest. Shoreditch lumbersexual 3 wolf moon DIY.\n",
      "\n"
     ]
    }
   ],
   "source": [
    "writeWordtree( templateFile, anchorVariables)"
   ]
  },
  {
   "cell_type": "code",
   "execution_count": null,
   "metadata": {},
   "outputs": [],
   "source": []
  }
 ],
 "metadata": {
  "kernelspec": {
   "display_name": "Python 3",
   "language": "python",
   "name": "python3"
  },
  "language_info": {
   "codemirror_mode": {
    "name": "ipython",
    "version": 3
   },
   "file_extension": ".py",
   "mimetype": "text/x-python",
   "name": "python",
   "nbconvert_exporter": "python",
   "pygments_lexer": "ipython3",
   "version": "3.6.4"
  }
 },
 "nbformat": 4,
 "nbformat_minor": 2
}
