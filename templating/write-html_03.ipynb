{
 "cells": [
  {
   "cell_type": "code",
   "execution_count": 1,
   "metadata": {},
   "outputs": [],
   "source": [
    "from jinja2 import Environment, FileSystemLoader\n",
    "import os"
   ]
  },
  {
   "cell_type": "code",
   "execution_count": 2,
   "metadata": {},
   "outputs": [],
   "source": [
    "baseDirectory = '/home/xavier/data/wordclouds/covid/tmp/'\n",
    "templateDirectory = '/home/xavier/data/wordclouds/covid/tmp/templates/'\n",
    "# templateFile = '/home/xavier/data/wordclouds/covid/foo_02.txt'\n",
    "# templateFile = '/home/xavier/data/wordclouds/covid/template_01.txt'\n",
    "# templateFile = '/home/xavier/data/wordclouds/covid/template_01.html'\n",
    "# anchorVariables = {'variable':\"Telemedicine\"}\n",
    "anchorVariables = \"Telemedicine\""
   ]
  },
  {
   "cell_type": "code",
   "execution_count": 3,
   "metadata": {},
   "outputs": [],
   "source": [
    "# root = os.path.dirname(os.path.abspath(__file__))\n",
    "# templates_dir = os.path.join(root, 'templates')\n",
    "# env = Environment( loader = FileSystemLoader(templates_dir) )\n",
    "# template = env.get_template('index.html')\n",
    " \n",
    " \n",
    "# filename = os.path.join(root, 'html', 'index.html')\n",
    "# with open(filename, 'w') as fh:\n",
    "#     fh.write(template.render(\n",
    "#         h1 = \"Hello Jinja2\",\n",
    "#         show_one = True,\n",
    "#         show_two = False,\n",
    "#         names    = [\"Foo\", \"Bar\", \"Qux\"],\n",
    "#     ))"
   ]
  },
  {
   "cell_type": "code",
   "execution_count": 4,
   "metadata": {},
   "outputs": [],
   "source": [
    "env = Environment( loader = FileSystemLoader('/home/xavier/data/wordclouds/covid/tmp/templates/') )\n",
    "template = env.get_template('foo_02.txt')"
   ]
  },
  {
   "cell_type": "code",
   "execution_count": 5,
   "metadata": {},
   "outputs": [],
   "source": [
    "filename = os.path.join(baseDirectory, 'html', 'newfoo.txt')\n",
    "with open(filename, 'w') as fh:\n",
    "    fh.write(template.render(\n",
    "        variable = anchorVariables,\n",
    "    ))"
   ]
  },
  {
   "cell_type": "code",
   "execution_count": null,
   "metadata": {},
   "outputs": [],
   "source": []
  }
 ],
 "metadata": {
  "kernelspec": {
   "display_name": "Python 3",
   "language": "python",
   "name": "python3"
  },
  "language_info": {
   "codemirror_mode": {
    "name": "ipython",
    "version": 3
   },
   "file_extension": ".py",
   "mimetype": "text/x-python",
   "name": "python",
   "nbconvert_exporter": "python",
   "pygments_lexer": "ipython3",
   "version": "3.6.4"
  }
 },
 "nbformat": 4,
 "nbformat_minor": 2
}
