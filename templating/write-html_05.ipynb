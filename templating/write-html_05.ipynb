{
 "cells": [
  {
   "cell_type": "code",
   "execution_count": 1,
   "metadata": {},
   "outputs": [],
   "source": [
    "from jinja2 import Environment, FileSystemLoader\n",
    "import os\n",
    "from pydrive.auth import GoogleAuth\n",
    "from pydrive.drive import GoogleDrive"
   ]
  },
  {
   "cell_type": "code",
   "execution_count": 2,
   "metadata": {},
   "outputs": [],
   "source": [
    "baseDirectory = '/home/jupyter/data/3cog/'\n",
    "textFileVariable = 'all-pov-text.txt'\n",
    "wordTreeTypeVariable = 'double'\n",
    "anchorWordVariables = 'Telemedicine'"
   ]
  },
  {
   "cell_type": "code",
   "execution_count": 3,
   "metadata": {},
   "outputs": [],
   "source": [
    "# script needs to run in the same directory as the client_secrets.json\n",
    "os.chdir('/home/jupyter/src/dataviz/templating')"
   ]
  },
  {
   "cell_type": "code",
   "execution_count": 4,
   "metadata": {},
   "outputs": [],
   "source": [
    "env = Environment( loader = FileSystemLoader(os.path.join(baseDirectory, 'templates/') ) )\n",
    "template = env.get_template('template_02.html')"
   ]
  },
  {
   "cell_type": "code",
   "execution_count": 5,
   "metadata": {},
   "outputs": [],
   "source": [
    "filename = os.path.join(baseDirectory, 'html', 'attempt01.html')\n",
    "with open(filename, 'w') as fh:\n",
    "    fh.write(template.render(\n",
    "        filename = textFileVariable,\n",
    "        pivot = wordTreeTypeVariable,\n",
    "        root = anchorWordVariables,\n",
    "    ))"
   ]
  },
  {
   "cell_type": "code",
   "execution_count": 6,
   "metadata": {},
   "outputs": [
    {
     "name": "stdout",
     "output_type": "stream",
     "text": [
      "Go to the following link in your browser:\n",
      "\n",
      "    https://accounts.google.com/o/oauth2/auth?client_id=890426931364-72ate30hsru3tu2orq40tvacod40f6i8.apps.googleusercontent.com&redirect_uri=urn%3Aietf%3Awg%3Aoauth%3A2.0%3Aoob&scope=https%3A%2F%2Fwww.googleapis.com%2Fauth%2Fdrive&access_type=offline&response_type=code\n",
      "\n"
     ]
    },
    {
     "name": "stdin",
     "output_type": "stream",
     "text": [
      "Enter verification code:  4/zAFvl_Rzgxofsy2n2c44FxmooS5iReWWsut1Tw9_83T4xzgAsxg0-nc\n"
     ]
    },
    {
     "name": "stdout",
     "output_type": "stream",
     "text": [
      "Authentication successful.\n"
     ]
    }
   ],
   "source": [
    "gauth = GoogleAuth()\n",
    "gauth.CommandLineAuth() # client_secrets.json need to be in the same directory as the script\n",
    "drive = GoogleDrive(gauth)"
   ]
  },
  {
   "cell_type": "code",
   "execution_count": 7,
   "metadata": {},
   "outputs": [],
   "source": [
    "gauth = GoogleAuth()\n",
    "# Try to load saved client credentials\n",
    "gauth.LoadCredentialsFile(\"mycreds.txt\")\n",
    "if gauth.credentials is None:\n",
    "    # Authenticate if they're not there\n",
    "    gauth.CommandLineAuth() # client_secrets.json need to be in the same directory as the script\n",
    "elif gauth.access_token_expired:\n",
    "    # Refresh them if expired\n",
    "    gauth.Refresh()\n",
    "else:\n",
    "    # Initialize the saved creds\n",
    "    gauth.Authorize()\n",
    "# Save the current credentials to a file\n",
    "gauth.SaveCredentialsFile(\"mycreds.txt\")\n",
    "\n",
    "drive = GoogleDrive(gauth)"
   ]
  },
  {
   "cell_type": "code",
   "execution_count": 8,
   "metadata": {},
   "outputs": [
    {
     "name": "stdout",
     "output_type": "stream",
     "text": [
      "Title: /home/jupyter/data/3cog/html/attempt01.html, ID: 1oxrsQHQtuMYDimiA2dSqDsYLWDav09u8\n",
      "Title: test, ID: 1tqPUDMzxRny_HYLw3KxGvHRHrp7GHwSoSlLz6CjuT8w\n",
      "Title: wordclouds, ID: 1d3lWxkSy4QmbVuzaiqRiuj3GUOhaTvHw\n"
     ]
    }
   ],
   "source": [
    "# View all folders and file in your Google Drive\n",
    "fileList = drive.ListFile({'q': \"'root' in parents and trashed=false\"}).GetList()\n",
    "for file in fileList:\n",
    "  print('Title: %s, ID: %s' % (file['title'], file['id']))"
   ]
  },
  {
   "cell_type": "code",
   "execution_count": 9,
   "metadata": {},
   "outputs": [],
   "source": [
    "wordtree = '1d3lWxkSy4QmbVuzaiqRiuj3GUOhaTvHw'\n",
    "f = drive.CreateFile({\"parents\": [{\"kind\": \"drive#fileLink\", \"id\": fid}]})\n",
    "f.SetContentFile('attempt01.html')\n",
    "f.Upload({'convert': False})"
   ]
  },
  {
   "cell_type": "code",
   "execution_count": 10,
   "metadata": {},
   "outputs": [
    {
     "name": "stdout",
     "output_type": "stream",
     "text": [
      "Title: attempt01.html, ID: 1vB7SBcTn3DHBzjxjbOiDczssex1yjsap\n",
      "Title: rare, ID: 10dqQS9HpGlQHFvfl6TBSzLHPAU0VC1dw\n",
      "Title: spero, ID: 1XyH-BEPy8jsjFti7rT0CQpVXxDCSyGgf\n",
      "Title: initial_01.html, ID: 1EWsaSvMUr_r0nGf-yFIa9xgQmyrokJtC\n",
      "Title: initial-report.txt, ID: 1FPiV34MtdO8uGfSqp6UYRJPNWt2dqd_V\n",
      "Title: president_03.html, ID: 13l5QK739FQPDEdEl7qCNOReYg83nDLhi\n",
      "Title: president_02.html, ID: 1xmPGqyK-L2lwNXv6qAeIcNgxZ7j_Igs8\n",
      "Title: president-report.txt, ID: 1TPkUof0qZPAN_oZZzz9Kw0VrPCuT_k6h\n",
      "Title: president_01.html, ID: 1UdocVOuPzKL_hkuIdrKYKiYAtPzHlUwM\n",
      "Title: payor_02.html, ID: 1s-aWKfK3BEDMccuDNuvhVvLg97SduEN7\n",
      "Title: payor_03.html, ID: 1O2dDxoq7tKjSSyHM5DoxfreP9eOE1eui\n",
      "Title: payor_04.html, ID: 18B4nted1fIrg-wkCkc_1nAbB0k7ChHLy\n",
      "Title: payor.txt, ID: 1JPenV-v5xGgRLF451KHnzq1KXVawRwhg\n",
      "Title: payor_01.html, ID: 1qQDppr6dCp9XENPEULA6IIbHaYYhtdTG\n",
      "Title: bingo_03.html, ID: 1zaLsbqsEhlyVz3AZSMur7kFPES_CdG9R\n",
      "Title: bingo_02.html, ID: 1ype8DcefrzhYk-CeBJdEAUYqZkp55DYO\n",
      "Title: bingo_01.html, ID: 1r2J9P8P5jESTRs1cJXNYQXLDcgyBnzdS\n",
      "Title: factor-bingo.txt, ID: 11aRSWTVYZWXuIXessgLxn9vWvVDZIV-S\n",
      "Title: factors_03.html, ID: 1xMUtJeLub9BVJtwa8m1mqKPE-CBQcXai\n",
      "Title: factors_02.html, ID: 1xLmmUvXHKHmwKmtIA_WuRQfnUxxGciv4\n",
      "Title: factors_01.html, ID: 1xNY4-ihUQjPCOF1yN1028pcxRx7N6GUk\n",
      "Title: factors.txt, ID: 1o4Pe3HLNDiVU9bamkXN3Docj7vio_0kS\n",
      "Title: test, ID: 1HfcugV5BiFOV9AWUQ2W33A6q_QzlXGj0\n"
     ]
    }
   ],
   "source": [
    "# View all folders and file in subdirectory for Wordtree hosting\n",
    "fileList = drive.ListFile({'q': \"'1d3lWxkSy4QmbVuzaiqRiuj3GUOhaTvHw' in parents and trashed=false\"}).GetList()\n",
    "for file in fileList:\n",
    "  print('Title: %s, ID: %s' % (file['title'], file['id']))"
   ]
  },
  {
   "cell_type": "code",
   "execution_count": 13,
   "metadata": {},
   "outputs": [],
   "source": [
    "# Create a subdirectory\n",
    "# If no parent ID is provided this will automatically go to the root or My Drive 'directory'\n",
    "top_level_folder = drive.CreateFile({'title': \"myFolder\", \n",
    "    \"parents\":  [{\"id\": '1d3lWxkSy4QmbVuzaiqRiuj3GUOhaTvHw'}], \n",
    "    \"mimeType\": \"application/vnd.google-apps.folder\"})\n",
    "# Upload the file to your drive\n",
    "top_level_folder.Upload()\n",
    "# Grab the ID of the folder we just created\n",
    "parent_id = top_level_folder['id']"
   ]
  },
  {
   "cell_type": "markdown",
   "metadata": {},
   "source": [
    "## Next step\n",
    "\n",
    "Now we can create a sbudirectory, so need a naming scheme\n",
    "+ All the wordtrees will have inherit that scheme\n",
    "+ The directory on the Drive\n",
    "+ the URL that is created for final viewing\n",
    "+ the filenames for individual trees\n"
   ]
  },
  {
   "cell_type": "code",
   "execution_count": null,
   "metadata": {},
   "outputs": [],
   "source": []
  }
 ],
 "metadata": {
  "environment": {
   "name": "common-cpu.m46",
   "type": "gcloud",
   "uri": "gcr.io/deeplearning-platform-release/base-cpu:m46"
  },
  "kernelspec": {
   "display_name": "Python 3",
   "language": "python",
   "name": "python3"
  },
  "language_info": {
   "codemirror_mode": {
    "name": "ipython",
    "version": 3
   },
   "file_extension": ".py",
   "mimetype": "text/x-python",
   "name": "python",
   "nbconvert_exporter": "python",
   "pygments_lexer": "ipython3",
   "version": "3.7.6"
  }
 },
 "nbformat": 4,
 "nbformat_minor": 4
}
