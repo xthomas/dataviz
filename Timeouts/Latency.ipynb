{
 "cells": [
  {
   "cell_type": "code",
   "execution_count": 49,
   "metadata": {},
   "outputs": [],
   "source": [
    "import pandas as pd"
   ]
  },
  {
   "cell_type": "code",
   "execution_count": 55,
   "metadata": {},
   "outputs": [],
   "source": [
    "df = pd.read_csv('/home/xavier/data/ponglog.txt', sep='\\t')\n",
    "df.columns = ['FULL_LOG']"
   ]
  },
  {
   "cell_type": "code",
   "execution_count": 56,
   "metadata": {},
   "outputs": [
    {
     "data": {
      "text/html": [
       "<div>\n",
       "<style scoped>\n",
       "    .dataframe tbody tr th:only-of-type {\n",
       "        vertical-align: middle;\n",
       "    }\n",
       "\n",
       "    .dataframe tbody tr th {\n",
       "        vertical-align: top;\n",
       "    }\n",
       "\n",
       "    .dataframe thead th {\n",
       "        text-align: right;\n",
       "    }\n",
       "</style>\n",
       "<table border=\"1\" class=\"dataframe\">\n",
       "  <thead>\n",
       "    <tr style=\"text-align: right;\">\n",
       "      <th></th>\n",
       "      <th>FULL_LOG</th>\n",
       "    </tr>\n",
       "  </thead>\n",
       "  <tbody>\n",
       "    <tr>\n",
       "      <th>0</th>\n",
       "      <td>Thu  4 Jun 2020 09:28:15 EDT: 64 bytes from 69...</td>\n",
       "    </tr>\n",
       "    <tr>\n",
       "      <th>1</th>\n",
       "      <td>Thu  4 Jun 2020 09:28:16 EDT: 64 bytes from 69...</td>\n",
       "    </tr>\n",
       "    <tr>\n",
       "      <th>2</th>\n",
       "      <td>Thu  4 Jun 2020 09:28:17 EDT: 64 bytes from 69...</td>\n",
       "    </tr>\n",
       "    <tr>\n",
       "      <th>3</th>\n",
       "      <td>Thu  4 Jun 2020 09:28:18 EDT: 64 bytes from 69...</td>\n",
       "    </tr>\n",
       "    <tr>\n",
       "      <th>4</th>\n",
       "      <td>Thu  4 Jun 2020 09:28:19 EDT: 64 bytes from 69...</td>\n",
       "    </tr>\n",
       "    <tr>\n",
       "      <th>...</th>\n",
       "      <td>...</td>\n",
       "    </tr>\n",
       "    <tr>\n",
       "      <th>12033</th>\n",
       "      <td>Thu  4 Jun 2020 12:49:22 EDT: 64 bytes from 69...</td>\n",
       "    </tr>\n",
       "    <tr>\n",
       "      <th>12034</th>\n",
       "      <td>Thu  4 Jun 2020 12:49:23 EDT: 64 bytes from 69...</td>\n",
       "    </tr>\n",
       "    <tr>\n",
       "      <th>12035</th>\n",
       "      <td>Thu  4 Jun 2020 12:49:24 EDT: 64 bytes from 69...</td>\n",
       "    </tr>\n",
       "    <tr>\n",
       "      <th>12036</th>\n",
       "      <td>Thu  4 Jun 2020 12:49:25 EDT: 64 bytes from 69...</td>\n",
       "    </tr>\n",
       "    <tr>\n",
       "      <th>12037</th>\n",
       "      <td>Thu  4 Jun 2020 12:49:26 EDT: 64 bytes from 69...</td>\n",
       "    </tr>\n",
       "  </tbody>\n",
       "</table>\n",
       "<p>12038 rows × 1 columns</p>\n",
       "</div>"
      ],
      "text/plain": [
       "                                                FULL_LOG\n",
       "0      Thu  4 Jun 2020 09:28:15 EDT: 64 bytes from 69...\n",
       "1      Thu  4 Jun 2020 09:28:16 EDT: 64 bytes from 69...\n",
       "2      Thu  4 Jun 2020 09:28:17 EDT: 64 bytes from 69...\n",
       "3      Thu  4 Jun 2020 09:28:18 EDT: 64 bytes from 69...\n",
       "4      Thu  4 Jun 2020 09:28:19 EDT: 64 bytes from 69...\n",
       "...                                                  ...\n",
       "12033  Thu  4 Jun 2020 12:49:22 EDT: 64 bytes from 69...\n",
       "12034  Thu  4 Jun 2020 12:49:23 EDT: 64 bytes from 69...\n",
       "12035  Thu  4 Jun 2020 12:49:24 EDT: 64 bytes from 69...\n",
       "12036  Thu  4 Jun 2020 12:49:25 EDT: 64 bytes from 69...\n",
       "12037  Thu  4 Jun 2020 12:49:26 EDT: 64 bytes from 69...\n",
       "\n",
       "[12038 rows x 1 columns]"
      ]
     },
     "execution_count": 56,
     "metadata": {},
     "output_type": "execute_result"
    }
   ],
   "source": [
    "df"
   ]
  },
  {
   "cell_type": "code",
   "execution_count": 57,
   "metadata": {},
   "outputs": [
    {
     "data": {
      "text/plain": [
       "FULL_LOG    object\n",
       "dtype: object"
      ]
     },
     "execution_count": 57,
     "metadata": {},
     "output_type": "execute_result"
    }
   ],
   "source": [
    "df.dtypes"
   ]
  },
  {
   "cell_type": "code",
   "execution_count": 58,
   "metadata": {},
   "outputs": [],
   "source": [
    "df['TIMECODE'] = df.FULL_LOG.str.extract(r'(\\d{2}:\\d{2}:\\d{2})')"
   ]
  },
  {
   "cell_type": "code",
   "execution_count": null,
   "metadata": {},
   "outputs": [],
   "source": [
    "def milliseconds (row):\n",
    "    try:\n",
    "        p = row.str.extract(r'time=(\\d+\\.\\d+)\\s ms')\n",
    "        print (p)\n",
    "    except:\n",
    "        print ('NOPE')"
   ]
  },
  {
   "cell_type": "code",
   "execution_count": null,
   "metadata": {},
   "outputs": [],
   "source": []
  },
  {
   "cell_type": "code",
   "execution_count": 59,
   "metadata": {},
   "outputs": [
    {
     "data": {
      "text/html": [
       "<div>\n",
       "<style scoped>\n",
       "    .dataframe tbody tr th:only-of-type {\n",
       "        vertical-align: middle;\n",
       "    }\n",
       "\n",
       "    .dataframe tbody tr th {\n",
       "        vertical-align: top;\n",
       "    }\n",
       "\n",
       "    .dataframe thead th {\n",
       "        text-align: right;\n",
       "    }\n",
       "</style>\n",
       "<table border=\"1\" class=\"dataframe\">\n",
       "  <thead>\n",
       "    <tr style=\"text-align: right;\">\n",
       "      <th></th>\n",
       "      <th>FULL_LOG</th>\n",
       "      <th>TIMECODE</th>\n",
       "    </tr>\n",
       "  </thead>\n",
       "  <tbody>\n",
       "    <tr>\n",
       "      <th>0</th>\n",
       "      <td>Thu  4 Jun 2020 09:28:15 EDT: 64 bytes from 69...</td>\n",
       "      <td>09:28:15</td>\n",
       "    </tr>\n",
       "    <tr>\n",
       "      <th>1</th>\n",
       "      <td>Thu  4 Jun 2020 09:28:16 EDT: 64 bytes from 69...</td>\n",
       "      <td>09:28:16</td>\n",
       "    </tr>\n",
       "    <tr>\n",
       "      <th>2</th>\n",
       "      <td>Thu  4 Jun 2020 09:28:17 EDT: 64 bytes from 69...</td>\n",
       "      <td>09:28:17</td>\n",
       "    </tr>\n",
       "    <tr>\n",
       "      <th>3</th>\n",
       "      <td>Thu  4 Jun 2020 09:28:18 EDT: 64 bytes from 69...</td>\n",
       "      <td>09:28:18</td>\n",
       "    </tr>\n",
       "    <tr>\n",
       "      <th>4</th>\n",
       "      <td>Thu  4 Jun 2020 09:28:19 EDT: 64 bytes from 69...</td>\n",
       "      <td>09:28:19</td>\n",
       "    </tr>\n",
       "    <tr>\n",
       "      <th>...</th>\n",
       "      <td>...</td>\n",
       "      <td>...</td>\n",
       "    </tr>\n",
       "    <tr>\n",
       "      <th>12033</th>\n",
       "      <td>Thu  4 Jun 2020 12:49:22 EDT: 64 bytes from 69...</td>\n",
       "      <td>12:49:22</td>\n",
       "    </tr>\n",
       "    <tr>\n",
       "      <th>12034</th>\n",
       "      <td>Thu  4 Jun 2020 12:49:23 EDT: 64 bytes from 69...</td>\n",
       "      <td>12:49:23</td>\n",
       "    </tr>\n",
       "    <tr>\n",
       "      <th>12035</th>\n",
       "      <td>Thu  4 Jun 2020 12:49:24 EDT: 64 bytes from 69...</td>\n",
       "      <td>12:49:24</td>\n",
       "    </tr>\n",
       "    <tr>\n",
       "      <th>12036</th>\n",
       "      <td>Thu  4 Jun 2020 12:49:25 EDT: 64 bytes from 69...</td>\n",
       "      <td>12:49:25</td>\n",
       "    </tr>\n",
       "    <tr>\n",
       "      <th>12037</th>\n",
       "      <td>Thu  4 Jun 2020 12:49:26 EDT: 64 bytes from 69...</td>\n",
       "      <td>12:49:26</td>\n",
       "    </tr>\n",
       "  </tbody>\n",
       "</table>\n",
       "<p>12038 rows × 2 columns</p>\n",
       "</div>"
      ],
      "text/plain": [
       "                                                FULL_LOG  TIMECODE\n",
       "0      Thu  4 Jun 2020 09:28:15 EDT: 64 bytes from 69...  09:28:15\n",
       "1      Thu  4 Jun 2020 09:28:16 EDT: 64 bytes from 69...  09:28:16\n",
       "2      Thu  4 Jun 2020 09:28:17 EDT: 64 bytes from 69...  09:28:17\n",
       "3      Thu  4 Jun 2020 09:28:18 EDT: 64 bytes from 69...  09:28:18\n",
       "4      Thu  4 Jun 2020 09:28:19 EDT: 64 bytes from 69...  09:28:19\n",
       "...                                                  ...       ...\n",
       "12033  Thu  4 Jun 2020 12:49:22 EDT: 64 bytes from 69...  12:49:22\n",
       "12034  Thu  4 Jun 2020 12:49:23 EDT: 64 bytes from 69...  12:49:23\n",
       "12035  Thu  4 Jun 2020 12:49:24 EDT: 64 bytes from 69...  12:49:24\n",
       "12036  Thu  4 Jun 2020 12:49:25 EDT: 64 bytes from 69...  12:49:25\n",
       "12037  Thu  4 Jun 2020 12:49:26 EDT: 64 bytes from 69...  12:49:26\n",
       "\n",
       "[12038 rows x 2 columns]"
      ]
     },
     "execution_count": 59,
     "metadata": {},
     "output_type": "execute_result"
    }
   ],
   "source": [
    "df"
   ]
  },
  {
   "cell_type": "code",
   "execution_count": null,
   "metadata": {},
   "outputs": [],
   "source": []
  }
 ],
 "metadata": {
  "kernelspec": {
   "display_name": "Python 3",
   "language": "python",
   "name": "python3"
  },
  "language_info": {
   "codemirror_mode": {
    "name": "ipython",
    "version": 3
   },
   "file_extension": ".py",
   "mimetype": "text/x-python",
   "name": "python",
   "nbconvert_exporter": "python",
   "pygments_lexer": "ipython3",
   "version": "3.7.6"
  }
 },
 "nbformat": 4,
 "nbformat_minor": 4
}
