{
 "cells": [
  {
   "cell_type": "code",
   "execution_count": 1,
   "metadata": {},
   "outputs": [],
   "source": [
    "import gspread\n",
    "import pandas as pd\n",
    "from oauth2client.service_account import ServiceAccountCredentials \n",
    "\n",
    "# use creds to create a client to interact with the Google Drive API\n",
    "scope = ['https://spreadsheets.google.com/feeds','https://www.googleapis.com/auth/drive']\n",
    "creds = ServiceAccountCredentials.from_json_keyfile_name('client_secret.json', scope)\n",
    "client = gspread.authorize(creds)"
   ]
  },
  {
   "cell_type": "code",
   "execution_count": 2,
   "metadata": {},
   "outputs": [],
   "source": [
    "# Find a workbook by name and open the first sheet\n",
    "# Make sure you use the right name here.\n",
    "\n",
    "sheet = client.open(\"frequency_duration\").sheet1\n"
   ]
  },
  {
   "cell_type": "code",
   "execution_count": 3,
   "metadata": {},
   "outputs": [
    {
     "name": "stdout",
     "output_type": "stream",
     "text": [
      "[{'CHANNEL': 'Talking with colleagues face-to-face', 'IMPACT-INFLUENCE': 38, 'FREQUENCY': 2}, {'CHANNEL': 'Printed Professional Journal', 'IMPACT-INFLUENCE': 36, 'FREQUENCY': 6}, {'CHANNEL': 'Face-to-face meetings with sales rep', 'IMPACT-INFLUENCE': 26, 'FREQUENCY': 3}, {'CHANNEL': 'Dinner Meeetings', 'IMPACT-INFLUENCE': 21, 'FREQUENCY': 1}, {'CHANNEL': 'Online Professional Journals', 'IMPACT-INFLUENCE': 17, 'FREQUENCY': 8}, {'CHANNEL': 'Medical Website from an independent publisher', 'IMPACT-INFLUENCE': 15, 'FREQUENCY': 8}, {'CHANNEL': 'An independent publisher mobile app for physicians', 'IMPACT-INFLUENCE': 11, 'FREQUENCY': 9}, {'CHANNEL': 'Dinner meetings - not sponsored by pharma', 'IMPACT-INFLUENCE': 8, 'FREQUENCY': 1}, {'CHANNEL': 'Product Website', 'IMPACT-INFLUENCE': 7, 'FREQUENCY': 4}, {'CHANNEL': 'Offline conferences (in person)', 'IMPACT-INFLUENCE': 5, 'FREQUENCY': 3}, {'CHANNEL': 'Live one-on-one online presentations', 'IMPACT-INFLUENCE': 3, 'FREQUENCY': 7}, {'CHANNEL': 'Self-guided online promotional program', 'IMPACT-INFLUENCE': 3, 'FREQUENCY': 6}, {'CHANNEL': 'Blogs, message boards and other social media', 'IMPACT-INFLUENCE': 3, 'FREQUENCY': 9}, {'CHANNEL': 'Corporate Websites', 'IMPACT-INFLUENCE': 2, 'FREQUENCY': 2}, {'CHANNEL': 'Online or virtual conference', 'IMPACT-INFLUENCE': 2, 'FREQUENCY': 6}, {'CHANNEL': 'Pharma service portals for physicians', 'IMPACT-INFLUENCE': 1, 'FREQUENCY': 2}, {'CHANNEL': 'Email newsletter from the manufacturer', 'IMPACT-INFLUENCE': 1, 'FREQUENCY': 5}, {'CHANNEL': 'Mobile app from Pharma', 'IMPACT-INFLUENCE': 1, 'FREQUENCY': 3}, {'CHANNEL': 'Online Webcast (live or recorded with playback) with KOL or Sales Rep', 'IMPACT-INFLUENCE': 1, 'FREQUENCY': 5}, {'CHANNEL': 'Email comminucations with slaes rep of other service reps', 'IMPACT-INFLUENCE': 1, 'FREQUENCY': 6}, {'CHANNEL': 'Electronic displays at exhibit booths', 'IMPACT-INFLUENCE': 1, 'FREQUENCY': 2}, {'CHANNEL': 'Electronic health record system', 'IMPACT-INFLUENCE': 1, 'FREQUENCY': 9}, {'CHANNEL': 'Pharma condition specific websites', 'IMPACT-INFLUENCE': 1, 'FREQUENCY': 4}]\n"
     ]
    }
   ],
   "source": [
    "# Extract and print all of the values\n",
    "\n",
    "list_of_hashes = sheet.get_all_records()\n",
    "\n",
    "# Extract and print all of the valuesprint(list_of_hashes)\n",
    "\n",
    "print(list_of_hashes)"
   ]
  }
 ],
 "metadata": {
  "kernelspec": {
   "display_name": "Python 3",
   "language": "python",
   "name": "python3"
  },
  "language_info": {
   "codemirror_mode": {
    "name": "ipython",
    "version": 3
   },
   "file_extension": ".py",
   "mimetype": "text/x-python",
   "name": "python",
   "nbconvert_exporter": "python",
   "pygments_lexer": "ipython3",
   "version": "3.6.4"
  }
 },
 "nbformat": 4,
 "nbformat_minor": 2
}
