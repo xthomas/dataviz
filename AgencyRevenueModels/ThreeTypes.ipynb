{
 "cells": [
  {
   "cell_type": "code",
   "execution_count": 114,
   "metadata": {
    "collapsed": false
   },
   "outputs": [],
   "source": [
    "# Just a basic configuration:\n",
    "import pandas as pd\n",
    "import matplotlib.pyplot as plt\n",
    "import glob\n",
    "%matplotlib inline"
   ]
  },
  {
   "cell_type": "code",
   "execution_count": 115,
   "metadata": {
    "collapsed": false
   },
   "outputs": [
    {
     "data": {
      "text/plain": [
       "['./adage-data/adage-2016.csv',\n",
       " './adage-data/adage-2014.csv',\n",
       " './adage-data/2016_adage-indies_v2.1.csv',\n",
       " './adage-data/adage-2012.csv',\n",
       " './adage-data/test-label.csv']"
      ]
     },
     "execution_count": 115,
     "metadata": {},
     "output_type": "execute_result"
    }
   ],
   "source": [
    "# check filenames of the data we are exploring:\n",
    "glob.glob('./adage-data/*.*')"
   ]
  },
  {
   "cell_type": "code",
   "execution_count": 104,
   "metadata": {
    "collapsed": false
   },
   "outputs": [
    {
     "data": {
      "text/html": [
       "<div>\n",
       "<table border=\"1\" class=\"dataframe\">\n",
       "  <thead>\n",
       "    <tr style=\"text-align: right;\">\n",
       "      <th></th>\n",
       "      <th>AGENCY</th>\n",
       "      <th>PARENT</th>\n",
       "      <th>2015 US REVENUE</th>\n",
       "      <th>% CHG</th>\n",
       "    </tr>\n",
       "  </thead>\n",
       "  <tbody>\n",
       "    <tr>\n",
       "      <th>900</th>\n",
       "      <td>BSY Associates</td>\n",
       "      <td>Independent</td>\n",
       "      <td>1000</td>\n",
       "      <td>0.0</td>\n",
       "    </tr>\n",
       "    <tr>\n",
       "      <th>901</th>\n",
       "      <td>Hakuhodo*</td>\n",
       "      <td>Hakuhodo DY Holdings</td>\n",
       "      <td>1000</td>\n",
       "      <td>NaN</td>\n",
       "    </tr>\n",
       "    <tr>\n",
       "      <th>902</th>\n",
       "      <td>Glyphix</td>\n",
       "      <td>Independent</td>\n",
       "      <td>1000</td>\n",
       "      <td>11.1</td>\n",
       "    </tr>\n",
       "    <tr>\n",
       "      <th>903</th>\n",
       "      <td>Munn Rabot</td>\n",
       "      <td>Independent</td>\n",
       "      <td>964</td>\n",
       "      <td>-11.9</td>\n",
       "    </tr>\n",
       "    <tr>\n",
       "      <th>904</th>\n",
       "      <td>Mandala</td>\n",
       "      <td>Independent</td>\n",
       "      <td>908</td>\n",
       "      <td>-4.4</td>\n",
       "    </tr>\n",
       "    <tr>\n",
       "      <th>905</th>\n",
       "      <td>Fusion B2B</td>\n",
       "      <td>Independent</td>\n",
       "      <td>865</td>\n",
       "      <td>-17.1</td>\n",
       "    </tr>\n",
       "    <tr>\n",
       "      <th>906</th>\n",
       "      <td>Media Pros of WNY*</td>\n",
       "      <td>Independent</td>\n",
       "      <td>853</td>\n",
       "      <td>0.0</td>\n",
       "    </tr>\n",
       "    <tr>\n",
       "      <th>907</th>\n",
       "      <td>Mighty Fudge Studios</td>\n",
       "      <td>Independent</td>\n",
       "      <td>761</td>\n",
       "      <td>30.1</td>\n",
       "    </tr>\n",
       "    <tr>\n",
       "      <th>908</th>\n",
       "      <td>Oster &amp; Associates</td>\n",
       "      <td>Independent</td>\n",
       "      <td>585</td>\n",
       "      <td>-3.9</td>\n",
       "    </tr>\n",
       "    <tr>\n",
       "      <th>909</th>\n",
       "      <td>TSA Communications</td>\n",
       "      <td>Independent</td>\n",
       "      <td>510</td>\n",
       "      <td>2.2</td>\n",
       "    </tr>\n",
       "    <tr>\n",
       "      <th>910</th>\n",
       "      <td>LP&amp;G</td>\n",
       "      <td>Independent</td>\n",
       "      <td>495</td>\n",
       "      <td>-2.3</td>\n",
       "    </tr>\n",
       "    <tr>\n",
       "      <th>911</th>\n",
       "      <td>GoDiversity</td>\n",
       "      <td>Independent</td>\n",
       "      <td>450</td>\n",
       "      <td>80.0</td>\n",
       "    </tr>\n",
       "    <tr>\n",
       "      <th>912</th>\n",
       "      <td>Hudson Media Services</td>\n",
       "      <td>Independent</td>\n",
       "      <td>375</td>\n",
       "      <td>5.6</td>\n",
       "    </tr>\n",
       "    <tr>\n",
       "      <th>913</th>\n",
       "      <td>Graphicmachine</td>\n",
       "      <td>Independent</td>\n",
       "      <td>333</td>\n",
       "      <td>7.6</td>\n",
       "    </tr>\n",
       "    <tr>\n",
       "      <th>914</th>\n",
       "      <td>Griff/SMC Medical Marketing Communications</td>\n",
       "      <td>Independent</td>\n",
       "      <td>104</td>\n",
       "      <td>38.8</td>\n",
       "    </tr>\n",
       "  </tbody>\n",
       "</table>\n",
       "</div>"
      ],
      "text/plain": [
       "                                         AGENCY                PARENT  \\\n",
       "900                              BSY Associates           Independent   \n",
       "901                                  Hakuhodo*   Hakuhodo DY Holdings   \n",
       "902                                     Glyphix           Independent   \n",
       "903                                  Munn Rabot           Independent   \n",
       "904                                     Mandala           Independent   \n",
       "905                                  Fusion B2B           Independent   \n",
       "906                          Media Pros of WNY*           Independent   \n",
       "907                        Mighty Fudge Studios           Independent   \n",
       "908                          Oster & Associates           Independent   \n",
       "909                          TSA Communications           Independent   \n",
       "910                                        LP&G           Independent   \n",
       "911                                 GoDiversity           Independent   \n",
       "912                       Hudson Media Services           Independent   \n",
       "913                              Graphicmachine           Independent   \n",
       "914  Griff/SMC Medical Marketing Communications           Independent   \n",
       "\n",
       "     2015 US REVENUE  % CHG  \n",
       "900             1000    0.0  \n",
       "901             1000    NaN  \n",
       "902             1000   11.1  \n",
       "903              964  -11.9  \n",
       "904              908   -4.4  \n",
       "905              865  -17.1  \n",
       "906              853    0.0  \n",
       "907              761   30.1  \n",
       "908              585   -3.9  \n",
       "909              510    2.2  \n",
       "910              495   -2.3  \n",
       "911              450   80.0  \n",
       "912              375    5.6  \n",
       "913              333    7.6  \n",
       "914              104   38.8  "
      ]
     },
     "execution_count": 104,
     "metadata": {},
     "output_type": "execute_result"
    }
   ],
   "source": [
    "adage = pd.read_csv('./adage-data/2016_adage-indies_v2.1.csv')\n",
    "adage.tail(15)"
   ]
  },
  {
   "cell_type": "markdown",
   "metadata": {},
   "source": [
    "<hr>\n",
    "First thing is to work on a 'scratch' dataframe, and group the Holding companies into 'Big, Small, Independent'\n",
    "\n",
    "Then: What's the breakdown in total revenue between the big holding companies, smaller holding companies, and the independents?'\n",
    "<hr>"
   ]
  },
  {
   "cell_type": "code",
   "execution_count": 116,
   "metadata": {
    "collapsed": true
   },
   "outputs": [],
   "source": [
    "# a typing function, to split agencies into 3 types:\n",
    "def typer(x):\n",
    "    if x==\"Publicis\" or \\\n",
    "       x==\"WPP\" or \\\n",
    "       x==\"Interpublic\" or \\\n",
    "       x==\"Havas\" or \\\n",
    "       x==\"Omnicom\":            \n",
    "        return 'BIGHOLD'\n",
    "    elif x==\"Independent\":        \n",
    "        return 'INDY'\n",
    "    else:        \n",
    "        return 'SMALLHOLD'"
   ]
  },
  {
   "cell_type": "code",
   "execution_count": 117,
   "metadata": {
    "collapsed": false
   },
   "outputs": [],
   "source": [
    "revbytype = adage[['PARENT','2015 US REVENUE']]\n",
    "revbytype.PARENT = revbytype.PARENT.apply(typer)\n",
    "breakdown = revbytype.groupby('PARENT')"
   ]
  },
  {
   "cell_type": "code",
   "execution_count": 119,
   "metadata": {
    "collapsed": false
   },
   "outputs": [
    {
     "data": {
      "text/plain": [
       "PARENT\n",
       "BIGHOLD      200\n",
       "INDY         634\n",
       "SMALLHOLD     81\n",
       "dtype: int64"
      ]
     },
     "execution_count": 119,
     "metadata": {},
     "output_type": "execute_result"
    }
   ],
   "source": [
    "# How many agencies in the different types?\n",
    "breakdown.size()"
   ]
  },
  {
   "cell_type": "code",
   "execution_count": 120,
   "metadata": {
    "collapsed": false
   },
   "outputs": [
    {
     "data": {
      "text/html": [
       "<div>\n",
       "<table border=\"1\" class=\"dataframe\">\n",
       "  <thead>\n",
       "    <tr style=\"text-align: right;\">\n",
       "      <th></th>\n",
       "      <th>2015 US REVENUE</th>\n",
       "    </tr>\n",
       "    <tr>\n",
       "      <th>PARENT</th>\n",
       "      <th></th>\n",
       "    </tr>\n",
       "  </thead>\n",
       "  <tbody>\n",
       "    <tr>\n",
       "      <th>SMALLHOLD</th>\n",
       "      <td>11198654</td>\n",
       "    </tr>\n",
       "    <tr>\n",
       "      <th>INDY</th>\n",
       "      <td>12696425</td>\n",
       "    </tr>\n",
       "    <tr>\n",
       "      <th>BIGHOLD</th>\n",
       "      <td>22858077</td>\n",
       "    </tr>\n",
       "  </tbody>\n",
       "</table>\n",
       "</div>"
      ],
      "text/plain": [
       "           2015 US REVENUE\n",
       "PARENT                    \n",
       "SMALLHOLD         11198654\n",
       "INDY              12696425\n",
       "BIGHOLD           22858077"
      ]
     },
     "execution_count": 120,
     "metadata": {},
     "output_type": "execute_result"
    }
   ],
   "source": [
    "# What's the total revenue for the different types?\n",
    "breakdown.sum().sort_values(by='2015 US REVENUE')"
   ]
  },
  {
   "cell_type": "code",
   "execution_count": 109,
   "metadata": {
    "collapsed": false
   },
   "outputs": [
    {
     "data": {
      "text/plain": [
       "<matplotlib.text.Text at 0x7fce2961c4d0>"
      ]
     },
     "execution_count": 109,
     "metadata": {},
     "output_type": "execute_result"
    },
    {
     "data": {
      "image/png": "[encoded data removed]",
      "text/plain": [
       "<matplotlib.figure.Figure at 0x7fce294a73d0>"
      ]
     },
     "metadata": {},
     "output_type": "display_data"
    }
   ],
   "source": [
    "# Easier to start visualizing this\n",
    "revbytype_plot = breakdown.sum().sort_values(by='2015 US REVENUE').plot(kind='bar')\n",
    "revbytype_plot.set_title(\"US Agency Revenue, by type of holding company\")\n",
    "revbytype_plot.set_xlabel(\"Type of Holding Company\")\n",
    "revbytype_plot.set_ylabel(\"Total revenue, in tens of billions\")\n",
    "# Need a way to have more digestible numbers on the Y-axis (revenue) but ignoring that for the moment\n",
    "# ...maybe we filter into the sweetspot of Agency revenue and it naturally works\n",
    "# revbytype_plot.get_yaxis().get_major_formatter().set_useOffset(True)"
   ]
  },
  {
   "cell_type": "markdown",
   "metadata": {
    "collapsed": true
   },
   "source": [
    "<hr>\n",
    "Good, but want to see how the different types of agencies stack highest in revenue. \n",
    "\n",
    "Looking for a revenue point where big agencies eat the smaller agencies...like this:\n",
    "\n",
    "![Histogram](./imgs/Histogram.png)\n",
    "\n",
    "Let's start by histograms of the individual parts of dataframes.\n",
    "<hr>"
   ]
  },
  {
   "cell_type": "code",
   "execution_count": 110,
   "metadata": {
    "collapsed": false
   },
   "outputs": [
    {
     "data": {
      "image/png": "[encoded data removed]",
      "text/plain": [
       "<matplotlib.figure.Figure at 0x7fce29284990>"
      ]
     },
     "metadata": {},
     "output_type": "display_data"
    }
   ],
   "source": [
    "revbytype[revbytype['PARENT']==\"INDY\"]\n",
    "indy_plot = revbytype[revbytype['PARENT']==\"INDY\"].hist(bins=20)"
   ]
  },
  {
   "cell_type": "code",
   "execution_count": 111,
   "metadata": {
    "collapsed": false
   },
   "outputs": [
    {
     "data": {
      "image/png": "[encoded data removed]",
      "text/plain": [
       "<matplotlib.figure.Figure at 0x7fce2970a3d0>"
      ]
     },
     "metadata": {},
     "output_type": "display_data"
    }
   ],
   "source": [
    "revbytype[revbytype['PARENT']==\"SMALLHOLD\"]\n",
    "smaller_plot = revbytype[revbytype['PARENT']==\"SMALLHOLD\"].hist(bins=40)\n",
    "# groupings_plot = revbytype['2015 US REVENUE'].hist(bins=20)"
   ]
  },
  {
   "cell_type": "markdown",
   "metadata": {
    "collapsed": true
   },
   "source": [
    "Looking better, but those bigger agencies are throwing off the distribution, so let's filter down to the revenue size we could reasonably buy (we don't have funds for a billion dollar acquisition)"
   ]
  },
  {
   "cell_type": "code",
   "execution_count": 112,
   "metadata": {
    "collapsed": false
   },
   "outputs": [
    {
     "data": {
      "text/html": [
       "<div>\n",
       "<table border=\"1\" class=\"dataframe\">\n",
       "  <thead>\n",
       "    <tr style=\"text-align: right;\">\n",
       "      <th></th>\n",
       "      <th>PARENT</th>\n",
       "      <th>2015 US REVENUE</th>\n",
       "    </tr>\n",
       "  </thead>\n",
       "  <tbody>\n",
       "    <tr>\n",
       "      <th>170</th>\n",
       "      <td>BIGHOLD</td>\n",
       "      <td>59504</td>\n",
       "    </tr>\n",
       "    <tr>\n",
       "      <th>171</th>\n",
       "      <td>BIGHOLD</td>\n",
       "      <td>58460</td>\n",
       "    </tr>\n",
       "    <tr>\n",
       "      <th>172</th>\n",
       "      <td>INDY</td>\n",
       "      <td>58000</td>\n",
       "    </tr>\n",
       "    <tr>\n",
       "      <th>173</th>\n",
       "      <td>INDY</td>\n",
       "      <td>57436</td>\n",
       "    </tr>\n",
       "    <tr>\n",
       "      <th>174</th>\n",
       "      <td>BIGHOLD</td>\n",
       "      <td>56591</td>\n",
       "    </tr>\n",
       "  </tbody>\n",
       "</table>\n",
       "</div>"
      ],
      "text/plain": [
       "      PARENT  2015 US REVENUE\n",
       "170  BIGHOLD            59504\n",
       "171  BIGHOLD            58460\n",
       "172     INDY            58000\n",
       "173     INDY            57436\n",
       "174  BIGHOLD            56591"
      ]
     },
     "execution_count": 112,
     "metadata": {},
     "output_type": "execute_result"
    }
   ],
   "source": [
    "radar = revbytype[(revbytype['2015 US REVENUE'] > 9999) & (revbytype['2015 US REVENUE'] < 59999)]\n",
    "radar.head()"
   ]
  },
  {
   "cell_type": "markdown",
   "metadata": {},
   "source": [
    "Now filter by a type to see the distribution of revenue, within our price range.\n",
    "\n",
    "Starting with Independents:"
   ]
  },
  {
   "cell_type": "code",
   "execution_count": 126,
   "metadata": {
    "collapsed": false
   },
   "outputs": [],
   "source": [
    "independents = radar[radar['PARENT']==\"INDY\"]"
   ]
  },
  {
   "cell_type": "code",
   "execution_count": 127,
   "metadata": {
    "collapsed": false
   },
   "outputs": [
    {
     "ename": "AttributeError",
     "evalue": "'numpy.ndarray' object has no attribute 'set_title'",
     "output_type": "error",
     "traceback": [
      "\u001b[1;31m---------------------------------------------------------------------------\u001b[0m",
      "\u001b[1;31mAttributeError\u001b[0m                            Traceback (most recent call last)",
      "\u001b[1;32m<ipython-input-127-de7bbc61fa81>\u001b[0m in \u001b[0;36m<module>\u001b[1;34m()\u001b[0m\n\u001b[0;32m      1\u001b[0m \u001b[0mindy_plot\u001b[0m \u001b[1;33m=\u001b[0m \u001b[0mindependents\u001b[0m\u001b[1;33m.\u001b[0m\u001b[0mhist\u001b[0m\u001b[1;33m(\u001b[0m\u001b[0mbins\u001b[0m\u001b[1;33m=\u001b[0m\u001b[1;36m15\u001b[0m\u001b[1;33m)\u001b[0m\u001b[1;33m\u001b[0m\u001b[0m\n\u001b[1;32m----> 2\u001b[1;33m \u001b[0mindy_plot\u001b[0m\u001b[1;33m.\u001b[0m\u001b[0mset_title\u001b[0m\u001b[1;33m(\u001b[0m\u001b[1;34m\"Independent Agency Revenue, 10mil to 60mil\"\u001b[0m\u001b[1;33m)\u001b[0m\u001b[1;33m\u001b[0m\u001b[0m\n\u001b[0m\u001b[0;32m      3\u001b[0m \u001b[0mindy_plot\u001b[0m\u001b[1;33m.\u001b[0m\u001b[0mset_xlabel\u001b[0m\u001b[1;33m(\u001b[0m\u001b[1;34m\"Total Revenue x $1,000\"\u001b[0m\u001b[1;33m)\u001b[0m\u001b[1;33m\u001b[0m\u001b[0m\n\u001b[0;32m      4\u001b[0m \u001b[0mindy_plot\u001b[0m\u001b[1;33m.\u001b[0m\u001b[0mset_ylabel\u001b[0m\u001b[1;33m(\u001b[0m\u001b[1;34m\"Number of agencies\"\u001b[0m\u001b[1;33m)\u001b[0m\u001b[1;33m\u001b[0m\u001b[0m\n",
      "\u001b[1;31mAttributeError\u001b[0m: 'numpy.ndarray' object has no attribute 'set_title'"
     ]
    },
    {
     "data": {
      "image/png": "[encoded data removed]",
      "text/plain": [
       "<matplotlib.figure.Figure at 0x7fce28b1b810>"
      ]
     },
     "metadata": {},
     "output_type": "display_data"
    }
   ],
   "source": [
    "indy_plot = independents.hist(bins=15)\n",
    "indy_plot.set_title(\"Independent Agency Revenue, 10mil to 60mil\")\n",
    "indy_plot.set_xlabel(\"Total Revenue x $1,000\")\n",
    "indy_plot.set_ylabel(\"Number of agencies\")"
   ]
  },
  {
   "cell_type": "code",
   "execution_count": null,
   "metadata": {
    "collapsed": true
   },
   "outputs": [],
   "source": []
  }
 ],
 "metadata": {
  "kernelspec": {
   "display_name": "Python 2 (SageMath)",
   "language": "python",
   "name": "python2"
  },
  "language_info": {
   "codemirror_mode": {
    "name": "ipython",
    "version": 2
   },
   "file_extension": ".py",
   "mimetype": "text/x-python",
   "name": "python",
   "nbconvert_exporter": "python",
   "pygments_lexer": "ipython2",
   "version": "2.7.10"
  }
 },
 "nbformat": 4,
 "nbformat_minor": 0
}
