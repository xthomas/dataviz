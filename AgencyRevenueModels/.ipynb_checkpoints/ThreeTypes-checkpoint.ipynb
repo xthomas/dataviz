{
 "cells": [
  {
   "cell_type": "code",
   "execution_count": 1,
   "metadata": {
    "collapsed": false
   },
   "outputs": [],
   "source": [
    "# Just a basic configuration:\n",
    "import pandas as pd\n",
    "import matplotlib.pyplot as plt\n",
    "import glob\n",
    "import plotly.plotly as py\n",
    "import plotly.graph_objs as go\n",
    "# plotly.tools.set_credentials_file(username='rapp.cxs', api_key='55rlfaf8bj')\n",
    "%matplotlib inline"
   ]
  },
  {
   "cell_type": "code",
   "execution_count": null,
   "metadata": {
    "collapsed": false
   },
   "outputs": [],
   "source": [
    "# check filenames of the data we are exploring:\n",
    "glob.glob('./adage-data/*.*')"
   ]
  },
  {
   "cell_type": "code",
   "execution_count": 2,
   "metadata": {
    "collapsed": false
   },
   "outputs": [
    {
     "data": {
      "text/html": [
       "<div>\n",
       "<table border=\"1\" class=\"dataframe\">\n",
       "  <thead>\n",
       "    <tr style=\"text-align: right;\">\n",
       "      <th></th>\n",
       "      <th>AGENCY</th>\n",
       "      <th>PARENT</th>\n",
       "      <th>2015 US REVENUE</th>\n",
       "      <th>% CHG</th>\n",
       "    </tr>\n",
       "  </thead>\n",
       "  <tbody>\n",
       "    <tr>\n",
       "      <th>900</th>\n",
       "      <td>BSY Associates</td>\n",
       "      <td>Independent</td>\n",
       "      <td>1000</td>\n",
       "      <td>0.0</td>\n",
       "    </tr>\n",
       "    <tr>\n",
       "      <th>901</th>\n",
       "      <td>Hakuhodo*</td>\n",
       "      <td>Hakuhodo DY Holdings</td>\n",
       "      <td>1000</td>\n",
       "      <td>NaN</td>\n",
       "    </tr>\n",
       "    <tr>\n",
       "      <th>902</th>\n",
       "      <td>Glyphix</td>\n",
       "      <td>Independent</td>\n",
       "      <td>1000</td>\n",
       "      <td>11.1</td>\n",
       "    </tr>\n",
       "    <tr>\n",
       "      <th>903</th>\n",
       "      <td>Munn Rabot</td>\n",
       "      <td>Independent</td>\n",
       "      <td>964</td>\n",
       "      <td>-11.9</td>\n",
       "    </tr>\n",
       "    <tr>\n",
       "      <th>904</th>\n",
       "      <td>Mandala</td>\n",
       "      <td>Independent</td>\n",
       "      <td>908</td>\n",
       "      <td>-4.4</td>\n",
       "    </tr>\n",
       "    <tr>\n",
       "      <th>905</th>\n",
       "      <td>Fusion B2B</td>\n",
       "      <td>Independent</td>\n",
       "      <td>865</td>\n",
       "      <td>-17.1</td>\n",
       "    </tr>\n",
       "    <tr>\n",
       "      <th>906</th>\n",
       "      <td>Media Pros of WNY*</td>\n",
       "      <td>Independent</td>\n",
       "      <td>853</td>\n",
       "      <td>0.0</td>\n",
       "    </tr>\n",
       "    <tr>\n",
       "      <th>907</th>\n",
       "      <td>Mighty Fudge Studios</td>\n",
       "      <td>Independent</td>\n",
       "      <td>761</td>\n",
       "      <td>30.1</td>\n",
       "    </tr>\n",
       "    <tr>\n",
       "      <th>908</th>\n",
       "      <td>Oster &amp; Associates</td>\n",
       "      <td>Independent</td>\n",
       "      <td>585</td>\n",
       "      <td>-3.9</td>\n",
       "    </tr>\n",
       "    <tr>\n",
       "      <th>909</th>\n",
       "      <td>TSA Communications</td>\n",
       "      <td>Independent</td>\n",
       "      <td>510</td>\n",
       "      <td>2.2</td>\n",
       "    </tr>\n",
       "    <tr>\n",
       "      <th>910</th>\n",
       "      <td>LP&amp;G</td>\n",
       "      <td>Independent</td>\n",
       "      <td>495</td>\n",
       "      <td>-2.3</td>\n",
       "    </tr>\n",
       "    <tr>\n",
       "      <th>911</th>\n",
       "      <td>GoDiversity</td>\n",
       "      <td>Independent</td>\n",
       "      <td>450</td>\n",
       "      <td>80.0</td>\n",
       "    </tr>\n",
       "    <tr>\n",
       "      <th>912</th>\n",
       "      <td>Hudson Media Services</td>\n",
       "      <td>Independent</td>\n",
       "      <td>375</td>\n",
       "      <td>5.6</td>\n",
       "    </tr>\n",
       "    <tr>\n",
       "      <th>913</th>\n",
       "      <td>Graphicmachine</td>\n",
       "      <td>Independent</td>\n",
       "      <td>333</td>\n",
       "      <td>7.6</td>\n",
       "    </tr>\n",
       "    <tr>\n",
       "      <th>914</th>\n",
       "      <td>Griff/SMC Medical Marketing Communications</td>\n",
       "      <td>Independent</td>\n",
       "      <td>104</td>\n",
       "      <td>38.8</td>\n",
       "    </tr>\n",
       "  </tbody>\n",
       "</table>\n",
       "</div>"
      ],
      "text/plain": [
       "                                         AGENCY                PARENT  \\\n",
       "900                              BSY Associates           Independent   \n",
       "901                                  Hakuhodo*   Hakuhodo DY Holdings   \n",
       "902                                     Glyphix           Independent   \n",
       "903                                  Munn Rabot           Independent   \n",
       "904                                     Mandala           Independent   \n",
       "905                                  Fusion B2B           Independent   \n",
       "906                          Media Pros of WNY*           Independent   \n",
       "907                        Mighty Fudge Studios           Independent   \n",
       "908                          Oster & Associates           Independent   \n",
       "909                          TSA Communications           Independent   \n",
       "910                                        LP&G           Independent   \n",
       "911                                 GoDiversity           Independent   \n",
       "912                       Hudson Media Services           Independent   \n",
       "913                              Graphicmachine           Independent   \n",
       "914  Griff/SMC Medical Marketing Communications           Independent   \n",
       "\n",
       "     2015 US REVENUE  % CHG  \n",
       "900             1000    0.0  \n",
       "901             1000    NaN  \n",
       "902             1000   11.1  \n",
       "903              964  -11.9  \n",
       "904              908   -4.4  \n",
       "905              865  -17.1  \n",
       "906              853    0.0  \n",
       "907              761   30.1  \n",
       "908              585   -3.9  \n",
       "909              510    2.2  \n",
       "910              495   -2.3  \n",
       "911              450   80.0  \n",
       "912              375    5.6  \n",
       "913              333    7.6  \n",
       "914              104   38.8  "
      ]
     },
     "execution_count": 2,
     "metadata": {},
     "output_type": "execute_result"
    }
   ],
   "source": [
    "adage = pd.read_csv('./adage-data/2016_adage-indies_v2.1.csv')\n",
    "adage.tail(15)"
   ]
  },
  {
   "cell_type": "markdown",
   "metadata": {},
   "source": [
    "<hr>\n",
    "First thing is to group the Holding companies into 'Big, Small, Independent'\n",
    "\n",
    "Then: What's the breakdown in total revenue between the big holding companies, smaller holding companies, and the independents?'"
   ]
  },
  {
   "cell_type": "code",
   "execution_count": 3,
   "metadata": {
    "collapsed": true
   },
   "outputs": [],
   "source": [
    "# a typing function, to split agencies into 3 types:\n",
    "def typer(x):\n",
    "    if x==\"Publicis\" or \\\n",
    "       x==\"WPP\" or \\\n",
    "       x==\"Interpublic\" or \\\n",
    "       x==\"Havas\" or \\\n",
    "       x==\"Omnicom\":            \n",
    "        return 'BIGHOLD'\n",
    "    elif x==\"Independent\":        \n",
    "        return 'INDY'\n",
    "    else:        \n",
    "        return 'SMALLHOLD'"
   ]
  },
  {
   "cell_type": "code",
   "execution_count": 4,
   "metadata": {
    "collapsed": false
   },
   "outputs": [
    {
     "name": "stderr",
     "output_type": "stream",
     "text": [
      "/Users/thomasx/anaconda/lib/python2.7/site-packages/pandas/core/generic.py:2177: SettingWithCopyWarning:\n",
      "\n",
      "\n",
      "A value is trying to be set on a copy of a slice from a DataFrame.\n",
      "Try using .loc[row_indexer,col_indexer] = value instead\n",
      "\n",
      "See the the caveats in the documentation: http://pandas.pydata.org/pandas-docs/stable/indexing.html#indexing-view-versus-copy\n",
      "\n"
     ]
    }
   ],
   "source": [
    "revbytype = adage[['PARENT','2015 US REVENUE']]\n",
    "revbytype.PARENT = revbytype.PARENT.apply(typer)\n",
    "breakdown = revbytype.groupby('PARENT')"
   ]
  },
  {
   "cell_type": "code",
   "execution_count": 5,
   "metadata": {
    "collapsed": false
   },
   "outputs": [
    {
     "data": {
      "text/plain": [
       "PARENT\n",
       "BIGHOLD      200\n",
       "INDY         634\n",
       "SMALLHOLD     81\n",
       "dtype: int64"
      ]
     },
     "execution_count": 5,
     "metadata": {},
     "output_type": "execute_result"
    }
   ],
   "source": [
    "# How many agencies in the different types?\n",
    "breakdown.size()"
   ]
  },
  {
   "cell_type": "code",
   "execution_count": 6,
   "metadata": {
    "collapsed": false
   },
   "outputs": [
    {
     "data": {
      "text/html": [
       "<div>\n",
       "<table border=\"1\" class=\"dataframe\">\n",
       "  <thead>\n",
       "    <tr style=\"text-align: right;\">\n",
       "      <th></th>\n",
       "      <th>2015 US REVENUE</th>\n",
       "    </tr>\n",
       "    <tr>\n",
       "      <th>PARENT</th>\n",
       "      <th></th>\n",
       "    </tr>\n",
       "  </thead>\n",
       "  <tbody>\n",
       "    <tr>\n",
       "      <th>SMALLHOLD</th>\n",
       "      <td>11198654</td>\n",
       "    </tr>\n",
       "    <tr>\n",
       "      <th>INDY</th>\n",
       "      <td>12696425</td>\n",
       "    </tr>\n",
       "    <tr>\n",
       "      <th>BIGHOLD</th>\n",
       "      <td>22858077</td>\n",
       "    </tr>\n",
       "  </tbody>\n",
       "</table>\n",
       "</div>"
      ],
      "text/plain": [
       "           2015 US REVENUE\n",
       "PARENT                    \n",
       "SMALLHOLD         11198654\n",
       "INDY              12696425\n",
       "BIGHOLD           22858077"
      ]
     },
     "execution_count": 6,
     "metadata": {},
     "output_type": "execute_result"
    }
   ],
   "source": [
    "# What's the total revenue for the different types?\n",
    "breakdown.sum().sort(columns='2015 US REVENUE')"
   ]
  },
  {
   "cell_type": "markdown",
   "metadata": {},
   "source": [
    "Let's look at that in a nicer graph\n",
    "#revbytype_plot = breakdown.sum().sort(columns='2015 US REVENUE').plot(kind='bar')\n",
    "#revbytype_plot.set_title(\"US Agency Revenue, by type of holding company\")\n",
    "#revbytype_plot.set_xlabel(\"Type of Holding Company\")\n",
    "#revbytype_plot.set_ylabel(\"Total revenue, in tens of billions\")"
   ]
  },
  {
   "cell_type": "code",
   "execution_count": 7,
   "metadata": {
    "collapsed": false
   },
   "outputs": [
    {
     "data": {
      "text/html": [
       "<iframe id=\"igraph\" scrolling=\"no\" style=\"border:none;\" seamless=\"seamless\" src=\"https://plot.ly/~rapp.cxs/31.embed\" height=\"525px\" width=\"100%\"></iframe>"
      ],
      "text/plain": [
       "<plotly.tools.PlotlyDisplay object>"
      ]
     },
     "execution_count": 7,
     "metadata": {},
     "output_type": "execute_result"
    }
   ],
   "source": [
    "labels = [i for i in breakdown.sum().index]\n",
    "values = [j for j in breakdown.sum()[\"2015 US REVENUE\"]]\n",
    "trace = go.Pie(labels=labels,values=values)\n",
    "py.iplot([trace],sharing='private')"
   ]
  },
  {
   "cell_type": "markdown",
   "metadata": {
    "collapsed": true
   },
   "source": [
    "<hr>\n",
    "Good, but want to see how the different types of agencies stack highest in revenue. \n",
    "\n",
    "Looking for a revenue point where big agencies eat the smaller agencies...like this:\n",
    "\n",
    "![Histogram](./imgs/Histogram.png)\n",
    "\n",
    "Let's start by histograms of the individual parts of dataframes.\n",
    "<hr>"
   ]
  },
  {
   "cell_type": "code",
   "execution_count": null,
   "metadata": {
    "collapsed": false
   },
   "outputs": [],
   "source": [
    "revbytype[revbytype['PARENT']==\"INDY\"]\n",
    "indy_plot = revbytype[revbytype['PARENT']==\"INDY\"].hist(bins=20)"
   ]
  },
  {
   "cell_type": "code",
   "execution_count": null,
   "metadata": {
    "collapsed": false
   },
   "outputs": [],
   "source": [
    "revbytype[revbytype['PARENT']==\"SMALLHOLD\"]\n",
    "smaller_plot = revbytype[revbytype['PARENT']==\"SMALLHOLD\"].hist(bins=40)\n",
    "# groupings_plot = revbytype['2015 US REVENUE'].hist(bins=20)"
   ]
  },
  {
   "cell_type": "markdown",
   "metadata": {
    "collapsed": true
   },
   "source": [
    "Looking better, but those bigger agencies are throwing off the distribution, so let's filter down to the revenue size we could reasonably buy (we don't have funds for a billion dollar acquisition)"
   ]
  },
  {
   "cell_type": "code",
   "execution_count": null,
   "metadata": {
    "collapsed": false
   },
   "outputs": [],
   "source": [
    "radar = revbytype[(revbytype['2015 US REVENUE'] > 9999) & (revbytype['2015 US REVENUE'] < 59999)]\n",
    "radar.head()"
   ]
  },
  {
   "cell_type": "markdown",
   "metadata": {},
   "source": [
    "Now filter by a type to see the distribution of revenue, within our price range.\n",
    "\n",
    "Starting with Independents:"
   ]
  },
  {
   "cell_type": "code",
   "execution_count": null,
   "metadata": {
    "collapsed": false
   },
   "outputs": [],
   "source": [
    "independents = radar[radar['PARENT']==\"INDY\"]"
   ]
  },
  {
   "cell_type": "code",
   "execution_count": null,
   "metadata": {
    "collapsed": false
   },
   "outputs": [],
   "source": [
    "indy_plot = independents.hist(bins=15)"
   ]
  },
  {
   "cell_type": "code",
   "execution_count": null,
   "metadata": {
    "collapsed": true
   },
   "outputs": [],
   "source": []
  }
 ],
 "metadata": {
  "kernelspec": {
   "display_name": "Python 2",
   "language": "python",
   "name": "python2"
  },
  "language_info": {
   "codemirror_mode": {
    "name": "ipython",
    "version": 2
   },
   "file_extension": ".py",
   "mimetype": "text/x-python",
   "name": "python",
   "nbconvert_exporter": "python",
   "pygments_lexer": "ipython2",
   "version": "2.7.11"
  }
 },
 "nbformat": 4,
 "nbformat_minor": 0
}
