{
 "cells": [
  {
   "cell_type": "code",
   "execution_count": 44,
   "metadata": {
    "collapsed": false
   },
   "outputs": [],
   "source": [
    "import pandas as pd\n",
    "%matplotlib inline"
   ]
  },
  {
   "cell_type": "code",
   "execution_count": 45,
   "metadata": {
    "collapsed": false
   },
   "outputs": [
    {
     "data": {
      "text/html": [
       "<div style=\"max-height:1000px;max-width:1500px;overflow:auto;\">\n",
       "<table border=\"1\" class=\"dataframe\">\n",
       "  <thead>\n",
       "    <tr style=\"text-align: right;\">\n",
       "      <th></th>\n",
       "      <th>AGENCY</th>\n",
       "      <th>PARENT</th>\n",
       "      <th>2015 US REVENUE</th>\n",
       "      <th>% CHG</th>\n",
       "    </tr>\n",
       "  </thead>\n",
       "  <tbody>\n",
       "    <tr>\n",
       "      <th>900</th>\n",
       "      <td>                             BSY Associates</td>\n",
       "      <td>          Independent</td>\n",
       "      <td> 1000</td>\n",
       "      <td>  0.0</td>\n",
       "    </tr>\n",
       "    <tr>\n",
       "      <th>901</th>\n",
       "      <td>                                 Hakuhodo* </td>\n",
       "      <td> Hakuhodo DY Holdings</td>\n",
       "      <td> 1000</td>\n",
       "      <td>  NaN</td>\n",
       "    </tr>\n",
       "    <tr>\n",
       "      <th>902</th>\n",
       "      <td>                                    Glyphix</td>\n",
       "      <td>          Independent</td>\n",
       "      <td> 1000</td>\n",
       "      <td> 11.1</td>\n",
       "    </tr>\n",
       "    <tr>\n",
       "      <th>903</th>\n",
       "      <td>                                 Munn Rabot</td>\n",
       "      <td>          Independent</td>\n",
       "      <td>  964</td>\n",
       "      <td>-11.9</td>\n",
       "    </tr>\n",
       "    <tr>\n",
       "      <th>904</th>\n",
       "      <td>                                    Mandala</td>\n",
       "      <td>          Independent</td>\n",
       "      <td>  908</td>\n",
       "      <td> -4.4</td>\n",
       "    </tr>\n",
       "    <tr>\n",
       "      <th>905</th>\n",
       "      <td>                                 Fusion B2B</td>\n",
       "      <td>          Independent</td>\n",
       "      <td>  865</td>\n",
       "      <td>-17.1</td>\n",
       "    </tr>\n",
       "    <tr>\n",
       "      <th>906</th>\n",
       "      <td>                         Media Pros of WNY*</td>\n",
       "      <td>          Independent</td>\n",
       "      <td>  853</td>\n",
       "      <td>  0.0</td>\n",
       "    </tr>\n",
       "    <tr>\n",
       "      <th>907</th>\n",
       "      <td>                       Mighty Fudge Studios</td>\n",
       "      <td>          Independent</td>\n",
       "      <td>  761</td>\n",
       "      <td> 30.1</td>\n",
       "    </tr>\n",
       "    <tr>\n",
       "      <th>908</th>\n",
       "      <td>                         Oster &amp; Associates</td>\n",
       "      <td>          Independent</td>\n",
       "      <td>  585</td>\n",
       "      <td> -3.9</td>\n",
       "    </tr>\n",
       "    <tr>\n",
       "      <th>909</th>\n",
       "      <td>                         TSA Communications</td>\n",
       "      <td>          Independent</td>\n",
       "      <td>  510</td>\n",
       "      <td>  2.2</td>\n",
       "    </tr>\n",
       "    <tr>\n",
       "      <th>910</th>\n",
       "      <td>                                       LP&amp;G</td>\n",
       "      <td>          Independent</td>\n",
       "      <td>  495</td>\n",
       "      <td> -2.3</td>\n",
       "    </tr>\n",
       "    <tr>\n",
       "      <th>911</th>\n",
       "      <td>                                GoDiversity</td>\n",
       "      <td>          Independent</td>\n",
       "      <td>  450</td>\n",
       "      <td> 80.0</td>\n",
       "    </tr>\n",
       "    <tr>\n",
       "      <th>912</th>\n",
       "      <td>                      Hudson Media Services</td>\n",
       "      <td>          Independent</td>\n",
       "      <td>  375</td>\n",
       "      <td>  5.6</td>\n",
       "    </tr>\n",
       "    <tr>\n",
       "      <th>913</th>\n",
       "      <td>                             Graphicmachine</td>\n",
       "      <td>          Independent</td>\n",
       "      <td>  333</td>\n",
       "      <td>  7.6</td>\n",
       "    </tr>\n",
       "    <tr>\n",
       "      <th>914</th>\n",
       "      <td> Griff/SMC Medical Marketing Communications</td>\n",
       "      <td>          Independent</td>\n",
       "      <td>  104</td>\n",
       "      <td> 38.8</td>\n",
       "    </tr>\n",
       "  </tbody>\n",
       "</table>\n",
       "</div>"
      ],
      "text/plain": [
       "                                         AGENCY                PARENT  \\\n",
       "900                              BSY Associates           Independent   \n",
       "901                                  Hakuhodo*   Hakuhodo DY Holdings   \n",
       "902                                     Glyphix           Independent   \n",
       "903                                  Munn Rabot           Independent   \n",
       "904                                     Mandala           Independent   \n",
       "905                                  Fusion B2B           Independent   \n",
       "906                          Media Pros of WNY*           Independent   \n",
       "907                        Mighty Fudge Studios           Independent   \n",
       "908                          Oster & Associates           Independent   \n",
       "909                          TSA Communications           Independent   \n",
       "910                                        LP&G           Independent   \n",
       "911                                 GoDiversity           Independent   \n",
       "912                       Hudson Media Services           Independent   \n",
       "913                              Graphicmachine           Independent   \n",
       "914  Griff/SMC Medical Marketing Communications           Independent   \n",
       "\n",
       "     2015 US REVENUE  % CHG  \n",
       "900             1000    0.0  \n",
       "901             1000    NaN  \n",
       "902             1000   11.1  \n",
       "903              964  -11.9  \n",
       "904              908   -4.4  \n",
       "905              865  -17.1  \n",
       "906              853    0.0  \n",
       "907              761   30.1  \n",
       "908              585   -3.9  \n",
       "909              510    2.2  \n",
       "910              495   -2.3  \n",
       "911              450   80.0  \n",
       "912              375    5.6  \n",
       "913              333    7.6  \n",
       "914              104   38.8  "
      ]
     },
     "execution_count": 45,
     "metadata": {},
     "output_type": "execute_result"
    }
   ],
   "source": [
    "adage = pd.read_csv('./adage-data/2016_adage-indies_v2.1.csv')\n",
    "adage.tail(15)"
   ]
  },
  {
   "cell_type": "code",
   "execution_count": 46,
   "metadata": {
    "collapsed": false
   },
   "outputs": [],
   "source": [
    "bigger = lambda x: x *  1000"
   ]
  },
  {
   "cell_type": "code",
   "execution_count": 47,
   "metadata": {
    "collapsed": false
   },
   "outputs": [],
   "source": [
    "adage['2015 US REVENUE'] = adage['2015 US REVENUE'].apply(bigger)"
   ]
  },
  {
   "cell_type": "code",
   "execution_count": 48,
   "metadata": {
    "collapsed": false
   },
   "outputs": [
    {
     "data": {
      "text/html": [
       "<div style=\"max-height:1000px;max-width:1500px;overflow:auto;\">\n",
       "<table border=\"1\" class=\"dataframe\">\n",
       "  <thead>\n",
       "    <tr style=\"text-align: right;\">\n",
       "      <th></th>\n",
       "      <th>AGENCY</th>\n",
       "      <th>PARENT</th>\n",
       "      <th>2015 US REVENUE</th>\n",
       "      <th>% CHG</th>\n",
       "    </tr>\n",
       "  </thead>\n",
       "  <tbody>\n",
       "    <tr>\n",
       "      <th>900</th>\n",
       "      <td>                             BSY Associates</td>\n",
       "      <td>          Independent</td>\n",
       "      <td> 1000000</td>\n",
       "      <td>  0.0</td>\n",
       "    </tr>\n",
       "    <tr>\n",
       "      <th>901</th>\n",
       "      <td>                                 Hakuhodo* </td>\n",
       "      <td> Hakuhodo DY Holdings</td>\n",
       "      <td> 1000000</td>\n",
       "      <td>  NaN</td>\n",
       "    </tr>\n",
       "    <tr>\n",
       "      <th>902</th>\n",
       "      <td>                                    Glyphix</td>\n",
       "      <td>          Independent</td>\n",
       "      <td> 1000000</td>\n",
       "      <td> 11.1</td>\n",
       "    </tr>\n",
       "    <tr>\n",
       "      <th>903</th>\n",
       "      <td>                                 Munn Rabot</td>\n",
       "      <td>          Independent</td>\n",
       "      <td>  964000</td>\n",
       "      <td>-11.9</td>\n",
       "    </tr>\n",
       "    <tr>\n",
       "      <th>904</th>\n",
       "      <td>                                    Mandala</td>\n",
       "      <td>          Independent</td>\n",
       "      <td>  908000</td>\n",
       "      <td> -4.4</td>\n",
       "    </tr>\n",
       "    <tr>\n",
       "      <th>905</th>\n",
       "      <td>                                 Fusion B2B</td>\n",
       "      <td>          Independent</td>\n",
       "      <td>  865000</td>\n",
       "      <td>-17.1</td>\n",
       "    </tr>\n",
       "    <tr>\n",
       "      <th>906</th>\n",
       "      <td>                         Media Pros of WNY*</td>\n",
       "      <td>          Independent</td>\n",
       "      <td>  853000</td>\n",
       "      <td>  0.0</td>\n",
       "    </tr>\n",
       "    <tr>\n",
       "      <th>907</th>\n",
       "      <td>                       Mighty Fudge Studios</td>\n",
       "      <td>          Independent</td>\n",
       "      <td>  761000</td>\n",
       "      <td> 30.1</td>\n",
       "    </tr>\n",
       "    <tr>\n",
       "      <th>908</th>\n",
       "      <td>                         Oster &amp; Associates</td>\n",
       "      <td>          Independent</td>\n",
       "      <td>  585000</td>\n",
       "      <td> -3.9</td>\n",
       "    </tr>\n",
       "    <tr>\n",
       "      <th>909</th>\n",
       "      <td>                         TSA Communications</td>\n",
       "      <td>          Independent</td>\n",
       "      <td>  510000</td>\n",
       "      <td>  2.2</td>\n",
       "    </tr>\n",
       "    <tr>\n",
       "      <th>910</th>\n",
       "      <td>                                       LP&amp;G</td>\n",
       "      <td>          Independent</td>\n",
       "      <td>  495000</td>\n",
       "      <td> -2.3</td>\n",
       "    </tr>\n",
       "    <tr>\n",
       "      <th>911</th>\n",
       "      <td>                                GoDiversity</td>\n",
       "      <td>          Independent</td>\n",
       "      <td>  450000</td>\n",
       "      <td> 80.0</td>\n",
       "    </tr>\n",
       "    <tr>\n",
       "      <th>912</th>\n",
       "      <td>                      Hudson Media Services</td>\n",
       "      <td>          Independent</td>\n",
       "      <td>  375000</td>\n",
       "      <td>  5.6</td>\n",
       "    </tr>\n",
       "    <tr>\n",
       "      <th>913</th>\n",
       "      <td>                             Graphicmachine</td>\n",
       "      <td>          Independent</td>\n",
       "      <td>  333000</td>\n",
       "      <td>  7.6</td>\n",
       "    </tr>\n",
       "    <tr>\n",
       "      <th>914</th>\n",
       "      <td> Griff/SMC Medical Marketing Communications</td>\n",
       "      <td>          Independent</td>\n",
       "      <td>  104000</td>\n",
       "      <td> 38.8</td>\n",
       "    </tr>\n",
       "  </tbody>\n",
       "</table>\n",
       "</div>"
      ],
      "text/plain": [
       "                                         AGENCY                PARENT  \\\n",
       "900                              BSY Associates           Independent   \n",
       "901                                  Hakuhodo*   Hakuhodo DY Holdings   \n",
       "902                                     Glyphix           Independent   \n",
       "903                                  Munn Rabot           Independent   \n",
       "904                                     Mandala           Independent   \n",
       "905                                  Fusion B2B           Independent   \n",
       "906                          Media Pros of WNY*           Independent   \n",
       "907                        Mighty Fudge Studios           Independent   \n",
       "908                          Oster & Associates           Independent   \n",
       "909                          TSA Communications           Independent   \n",
       "910                                        LP&G           Independent   \n",
       "911                                 GoDiversity           Independent   \n",
       "912                       Hudson Media Services           Independent   \n",
       "913                              Graphicmachine           Independent   \n",
       "914  Griff/SMC Medical Marketing Communications           Independent   \n",
       "\n",
       "     2015 US REVENUE  % CHG  \n",
       "900          1000000    0.0  \n",
       "901          1000000    NaN  \n",
       "902          1000000   11.1  \n",
       "903           964000  -11.9  \n",
       "904           908000   -4.4  \n",
       "905           865000  -17.1  \n",
       "906           853000    0.0  \n",
       "907           761000   30.1  \n",
       "908           585000   -3.9  \n",
       "909           510000    2.2  \n",
       "910           495000   -2.3  \n",
       "911           450000   80.0  \n",
       "912           375000    5.6  \n",
       "913           333000    7.6  \n",
       "914           104000   38.8  "
      ]
     },
     "execution_count": 48,
     "metadata": {},
     "output_type": "execute_result"
    }
   ],
   "source": [
    "adage.tail(15)"
   ]
  },
  {
   "cell_type": "code",
   "execution_count": 49,
   "metadata": {
    "collapsed": false
   },
   "outputs": [
    {
     "data": {
      "text/plain": [
       "(634, 4)"
      ]
     },
     "execution_count": 49,
     "metadata": {},
     "output_type": "execute_result"
    }
   ],
   "source": [
    "indies = adage[adage['PARENT']==\"Independent\"]\n",
    "indies.shape"
   ]
  },
  {
   "cell_type": "code",
   "execution_count": 50,
   "metadata": {
    "collapsed": false
   },
   "outputs": [
    {
     "data": {
      "text/plain": [
       "(434, 4)"
      ]
     },
     "execution_count": 50,
     "metadata": {},
     "output_type": "execute_result"
    }
   ],
   "source": [
    "affordable = indies[(indies['2015 US REVENUE'] > 4999999) & (indies['2015 US REVENUE'] < 99999999)]\n",
    "affordable.shape"
   ]
  },
  {
   "cell_type": "code",
   "execution_count": 51,
   "metadata": {
    "collapsed": false
   },
   "outputs": [],
   "source": [
    "affordable.to_csv('/Users/ganesha/Documents/src/simplicity/dataviz/inc5000/csv_data/2016_adage-agencies_5m-100M.csv', encoding='utf-8')"
   ]
  }
 ],
 "metadata": {
  "anaconda-cloud": {},
  "kernelspec": {
   "display_name": "Python [default]",
   "language": "python",
   "name": "python3"
  },
  "language_info": {
   "codemirror_mode": {
    "name": "ipython",
    "version": 3
   },
   "file_extension": ".py",
   "mimetype": "text/x-python",
   "name": "python",
   "nbconvert_exporter": "python",
   "pygments_lexer": "ipython3",
   "version": "3.5.2"
  }
 },
 "nbformat": 4,
 "nbformat_minor": 0
}
