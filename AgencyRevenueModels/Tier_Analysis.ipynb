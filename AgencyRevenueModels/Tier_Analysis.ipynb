{
 "cells": [
  {
   "cell_type": "markdown",
   "metadata": {},
   "source": [
    "## INTENTION OF THIS WORKBOOK\n",
    "This next pass will\n",
    "1. Trace the growth of consultants\n",
    "\n",
    "2. Compare the 5 yr CAGR for the different tiers of operators in marketing services"
   ]
  },
  {
   "cell_type": "code",
   "execution_count": 1,
   "metadata": {
    "collapsed": false
   },
   "outputs": [],
   "source": [
    "import pandas as pd\n",
    "import re"
   ]
  },
  {
   "cell_type": "code",
   "execution_count": 2,
   "metadata": {
    "collapsed": false
   },
   "outputs": [],
   "source": [
    "# Create arrays whice define 'The Four Tiers' of marketing companies\n",
    "agency_holding_companies = ['Omnicom','Interpublic','WPP','Publicis','Dentsu','Havas']\n",
    "consultant_holding_companies = ['Alliance Data Systems Corp.','Accenture','Advance Publications','Deloitte','Experian','IBM Corp.','PwC']\n",
    "midmarket_holding_companies = ['MDC Partners','Project WorldWide','BlueFocus Communication Group','Cheil Worldwide','Next Fifteen Communications Group','Huntsworth','Hakuhodo DY Holdings']\n",
    "contender_holding_companies = ['DJE Holdings','Engine Group','Asatsu-DK','ASM','BlueFocus Communication Group','Creston','FullSix Group','Hearst Corp.','Iris Worldwide','Klick Inc.','Marc USA','Matomy Media Group','Meredith Corp.','Mother Holdings','TMP Worldwide','Viad Corp.']"
   ]
  },
  {
   "cell_type": "code",
   "execution_count": 3,
   "metadata": {
    "collapsed": false,
    "scrolled": true
   },
   "outputs": [],
   "source": [
    "# create dataframes for the six years we will be looking at\n",
    "# by importing the 2010 thru 2015 AdAge data\n",
    "raw15='/Users/xavier/Documents/src/dataviz/AgencyRevenueModels/adage-data/adage-900_2015.csv'\n",
    "raw14='/Users/xavier/Documents/src/dataviz/AgencyRevenueModels/adage-data/adage-900_2014.csv'\n",
    "raw13='/Users/xavier/Documents/src/dataviz/AgencyRevenueModels/adage-data/adage-900_2013.csv'\n",
    "raw12='/Users/xavier/Documents/src/dataviz/AgencyRevenueModels/adage-data/adage-900_2012.csv'\n",
    "raw11='/Users/xavier/Documents/src/dataviz/AgencyRevenueModels/adage-data/adage-900_2011.csv'\n",
    "raw10='/Users/xavier/Documents/src/dataviz/AgencyRevenueModels/adage-data/adage-900_2010.csv'\n",
    "adage15 = pd.read_csv(raw15)\n",
    "adage15.name = 'adage2015'\n",
    "adage14 = pd.read_csv(raw14)\n",
    "adage14.name = 'adage2014'\n",
    "adage13 = pd.read_csv(raw13)\n",
    "adage13.name = 'adage2013'\n",
    "adage12 = pd.read_csv(raw12)\n",
    "adage12.name = 'adage2012'\n",
    "adage11 = pd.read_csv(raw11)\n",
    "adage11.name = 'adage2011'\n",
    "adage10 = pd.read_csv(raw10)\n",
    "adage10.name = 'adage2010'"
   ]
  },
  {
   "cell_type": "code",
   "execution_count": 4,
   "metadata": {
    "collapsed": true
   },
   "outputs": [],
   "source": [
    "fiveyear = [adage15,adage14,adage13,adage12,adage11,adage10]"
   ]
  },
  {
   "cell_type": "code",
   "execution_count": 5,
   "metadata": {
    "collapsed": false
   },
   "outputs": [],
   "source": [
    "# type the companies, differentiating by \n",
    "# Consulting, Big Holding, etc.\n",
    "\"\"\"\n",
    "agency_holding_companies\n",
    "consultant_holding_companies\n",
    "midmarket_holding_companies\n",
    "contender_holding_companies\n",
    "\"\"\"\n",
    "def typer(item):\n",
    "    if item in agency_holding_companies:\n",
    "        return (\"BIGHOLD\")\n",
    "    elif item in consultant_holding_companies:\n",
    "        return (\"CONSULTANT\")        \n",
    "    elif item in midmarket_holding_companies:\n",
    "        return (\"MIDMARKET\")        \n",
    "    elif item in contender_holding_companies:\n",
    "        return (\"CONTENDERS\")        \n",
    "    else:\n",
    "        return (\"INDY\")        "
   ]
  },
  {
   "cell_type": "code",
   "execution_count": 6,
   "metadata": {
    "collapsed": true
   },
   "outputs": [],
   "source": [
    "# A function to RETURN two variables from AGENCY-COMPANY column\n",
    "def indySubstituteSimple(x):\n",
    "    parent = re.compile(\"\\[(.*)\\]\")\n",
    "    owned = re.compile(\"(.+?)\\[(.*)\\]\")\n",
    "    p = parent.search(x)\n",
    "    if p:\n",
    "        o = owned.search(x)\n",
    "        return o.group(1),o.group(2)\n",
    "    else:\n",
    "        return x, \"Independent\""
   ]
  },
  {
   "cell_type": "code",
   "execution_count": 7,
   "metadata": {
    "collapsed": false,
    "scrolled": true
   },
   "outputs": [],
   "source": [
    "# Create two new Columns that take the two outputs of the function\n",
    "# Remove the bigger agency parent, e.g. 'Omnicom (child of BBDO)'\n",
    "# Strip any trailing whitespaces in the names\n",
    "# Transform revenue to the literal number, not 'In thousands'\n",
    "# Remove the * asterisk after the agency name\n",
    "def defineTiers(z):\n",
    "    z['AGENCY-NAME'], z['AGENCY-OWNER'] = zip(*z['AGENCY-COMPANY'].map(indySubstituteSimple))\n",
    "    z.loc[:, 'AGENCY-OWNER'] = z['AGENCY-OWNER'].apply(lambda x: re.sub(r'\\([^)]*\\)', '', x))\n",
    "    z.loc[:, 'AGENCY-OWNER'] = z['AGENCY-OWNER'].apply(lambda x: re.sub(r'\\s+$', '', x))\n",
    "    z.iloc[:,2] = z.iloc[:,2].apply(lambda x: x*1000)\n",
    "    z.iloc[:,4] = z.iloc[:,4].apply(lambda x: re.sub(r'\\*', '', x))\n",
    "    z['AGENCY-TIER'] = z['AGENCY-OWNER'].apply(typer)"
   ]
  },
  {
   "cell_type": "code",
   "execution_count": 8,
   "metadata": {
    "collapsed": false,
    "scrolled": true
   },
   "outputs": [],
   "source": [
    "for i in range (0,len(fiveyear),1):\n",
    "    defineTiers(fiveyear[i])"
   ]
  },
  {
   "cell_type": "code",
   "execution_count": 9,
   "metadata": {
    "collapsed": false
   },
   "outputs": [
    {
     "data": {
      "text/plain": [
       "AGENCY-TIER\n",
       "BIGHOLD       213\n",
       "CONSULTANT      8\n",
       "CONTENDERS     11\n",
       "INDY          644\n",
       "MIDMARKET      39\n",
       "dtype: int64"
      ]
     },
     "execution_count": 9,
     "metadata": {},
     "output_type": "execute_result"
    }
   ],
   "source": [
    "adage15.groupby('AGENCY-TIER').size()"
   ]
  },
  {
   "cell_type": "code",
   "execution_count": 10,
   "metadata": {
    "collapsed": false
   },
   "outputs": [
    {
     "data": {
      "text/html": [
       "<div>\n",
       "<table border=\"1\" class=\"dataframe\">\n",
       "  <thead>\n",
       "    <tr style=\"text-align: right;\">\n",
       "      <th></th>\n",
       "      <th>2015-REVENUE</th>\n",
       "      <th>% CHG</th>\n",
       "    </tr>\n",
       "    <tr>\n",
       "      <th>AGENCY-TIER</th>\n",
       "      <th></th>\n",
       "      <th></th>\n",
       "    </tr>\n",
       "  </thead>\n",
       "  <tbody>\n",
       "    <tr>\n",
       "      <th>BIGHOLD</th>\n",
       "      <td>23800927000</td>\n",
       "      <td>1503.8</td>\n",
       "    </tr>\n",
       "    <tr>\n",
       "      <th>CONSULTANT</th>\n",
       "      <td>6030425000</td>\n",
       "      <td>79.7</td>\n",
       "    </tr>\n",
       "    <tr>\n",
       "      <th>CONTENDERS</th>\n",
       "      <td>1255154000</td>\n",
       "      <td>96.9</td>\n",
       "    </tr>\n",
       "    <tr>\n",
       "      <th>INDY</th>\n",
       "      <td>14118269000</td>\n",
       "      <td>6309.7</td>\n",
       "    </tr>\n",
       "    <tr>\n",
       "      <th>MIDMARKET</th>\n",
       "      <td>1548381000</td>\n",
       "      <td>618.9</td>\n",
       "    </tr>\n",
       "  </tbody>\n",
       "</table>\n",
       "</div>"
      ],
      "text/plain": [
       "             2015-REVENUE   % CHG\n",
       "AGENCY-TIER                      \n",
       "BIGHOLD       23800927000  1503.8\n",
       "CONSULTANT     6030425000    79.7\n",
       "CONTENDERS     1255154000    96.9\n",
       "INDY          14118269000  6309.7\n",
       "MIDMARKET      1548381000   618.9"
      ]
     },
     "execution_count": 10,
     "metadata": {},
     "output_type": "execute_result"
    }
   ],
   "source": [
    "adage15.groupby('AGENCY-TIER').sum()"
   ]
  },
  {
   "cell_type": "markdown",
   "metadata": {},
   "source": [
    "## Ok, very nice have the data nicely organized and typed.\n",
    "#### Now let's do a 6year CAGR calculations for the various types\n"
   ]
  },
  {
   "cell_type": "markdown",
   "metadata": {},
   "source": [
    "- - -\n",
    "## Now for the growth of the consultants\n",
    "#### ➜ trendlines in terms of # acquisitions for consultants and contenders?\n",
    "#### ➜ what's the annual financial performance of same compared to contenders?\n",
    "\n",
    "* FOR THE 5 TIERS\n",
    "* get the count of agencies, per year\n",
    "* get the sum of revenue, per year\n",
    "* Also compare the top 200 within Holding to the top 200 INDY"
   ]
  },
  {
   "cell_type": "code",
   "execution_count": 13,
   "metadata": {
    "collapsed": false
   },
   "outputs": [
    {
     "data": {
      "text/html": [
       "<div>\n",
       "<table border=\"1\" class=\"dataframe\">\n",
       "  <thead>\n",
       "    <tr style=\"text-align: right;\">\n",
       "      <th></th>\n",
       "      <th>AGENCY-TIER</th>\n",
       "      <th>adage2010</th>\n",
       "    </tr>\n",
       "  </thead>\n",
       "  <tbody>\n",
       "    <tr>\n",
       "      <th>0</th>\n",
       "      <td>BIGHOLD</td>\n",
       "      <td>200</td>\n",
       "    </tr>\n",
       "    <tr>\n",
       "      <th>1</th>\n",
       "      <td>CONSULTANT</td>\n",
       "      <td>2</td>\n",
       "    </tr>\n",
       "    <tr>\n",
       "      <th>2</th>\n",
       "      <td>CONTENDERS</td>\n",
       "      <td>12</td>\n",
       "    </tr>\n",
       "    <tr>\n",
       "      <th>3</th>\n",
       "      <td>INDY</td>\n",
       "      <td>676</td>\n",
       "    </tr>\n",
       "    <tr>\n",
       "      <th>4</th>\n",
       "      <td>MIDMARKET</td>\n",
       "      <td>27</td>\n",
       "    </tr>\n",
       "  </tbody>\n",
       "</table>\n",
       "</div>"
      ],
      "text/plain": [
       "  AGENCY-TIER  adage2010\n",
       "0     BIGHOLD        200\n",
       "1  CONSULTANT          2\n",
       "2  CONTENDERS         12\n",
       "3        INDY        676\n",
       "4   MIDMARKET         27"
      ]
     },
     "execution_count": 13,
     "metadata": {},
     "output_type": "execute_result"
    }
   ],
   "source": [
    "adage10.groupby('AGENCY-TIER').size().to_frame(name = adage10.name).reset_index()"
   ]
  },
  {
   "cell_type": "code",
   "execution_count": 15,
   "metadata": {
    "collapsed": false
   },
   "outputs": [
    {
     "data": {
      "text/html": [
       "<div>\n",
       "<table border=\"1\" class=\"dataframe\">\n",
       "  <thead>\n",
       "    <tr style=\"text-align: right;\">\n",
       "      <th></th>\n",
       "      <th>AGENCY-TIER</th>\n",
       "      <th>adage2011</th>\n",
       "    </tr>\n",
       "  </thead>\n",
       "  <tbody>\n",
       "    <tr>\n",
       "      <th>0</th>\n",
       "      <td>BIGHOLD</td>\n",
       "      <td>206</td>\n",
       "    </tr>\n",
       "    <tr>\n",
       "      <th>1</th>\n",
       "      <td>CONTENDERS</td>\n",
       "      <td>9</td>\n",
       "    </tr>\n",
       "    <tr>\n",
       "      <th>2</th>\n",
       "      <td>INDY</td>\n",
       "      <td>666</td>\n",
       "    </tr>\n",
       "    <tr>\n",
       "      <th>3</th>\n",
       "      <td>MIDMARKET</td>\n",
       "      <td>32</td>\n",
       "    </tr>\n",
       "  </tbody>\n",
       "</table>\n",
       "</div>"
      ],
      "text/plain": [
       "  AGENCY-TIER  adage2011\n",
       "0     BIGHOLD        206\n",
       "1  CONTENDERS          9\n",
       "2        INDY        666\n",
       "3   MIDMARKET         32"
      ]
     },
     "execution_count": 15,
     "metadata": {},
     "output_type": "execute_result"
    }
   ],
   "source": [
    "adage11.groupby('AGENCY-TIER').size().to_frame(name = adage11.name).reset_index()"
   ]
  },
  {
   "cell_type": "code",
   "execution_count": 16,
   "metadata": {
    "collapsed": false
   },
   "outputs": [
    {
     "data": {
      "text/html": [
       "<div>\n",
       "<table border=\"1\" class=\"dataframe\">\n",
       "  <thead>\n",
       "    <tr style=\"text-align: right;\">\n",
       "      <th></th>\n",
       "      <th>AGENCY-TIER</th>\n",
       "      <th>adage2012</th>\n",
       "    </tr>\n",
       "  </thead>\n",
       "  <tbody>\n",
       "    <tr>\n",
       "      <th>0</th>\n",
       "      <td>BIGHOLD</td>\n",
       "      <td>217</td>\n",
       "    </tr>\n",
       "    <tr>\n",
       "      <th>1</th>\n",
       "      <td>CONSULTANT</td>\n",
       "      <td>5</td>\n",
       "    </tr>\n",
       "    <tr>\n",
       "      <th>2</th>\n",
       "      <td>CONTENDERS</td>\n",
       "      <td>16</td>\n",
       "    </tr>\n",
       "    <tr>\n",
       "      <th>3</th>\n",
       "      <td>INDY</td>\n",
       "      <td>655</td>\n",
       "    </tr>\n",
       "    <tr>\n",
       "      <th>4</th>\n",
       "      <td>MIDMARKET</td>\n",
       "      <td>33</td>\n",
       "    </tr>\n",
       "  </tbody>\n",
       "</table>\n",
       "</div>"
      ],
      "text/plain": [
       "  AGENCY-TIER  adage2012\n",
       "0     BIGHOLD        217\n",
       "1  CONSULTANT          5\n",
       "2  CONTENDERS         16\n",
       "3        INDY        655\n",
       "4   MIDMARKET         33"
      ]
     },
     "execution_count": 16,
     "metadata": {},
     "output_type": "execute_result"
    }
   ],
   "source": [
    "adage12.groupby('AGENCY-TIER').size().to_frame(name = adage12.name).reset_index()"
   ]
  },
  {
   "cell_type": "code",
   "execution_count": 17,
   "metadata": {
    "collapsed": false
   },
   "outputs": [
    {
     "data": {
      "text/html": [
       "<div>\n",
       "<table border=\"1\" class=\"dataframe\">\n",
       "  <thead>\n",
       "    <tr style=\"text-align: right;\">\n",
       "      <th></th>\n",
       "      <th>AGENCY-TIER</th>\n",
       "      <th>adage2013</th>\n",
       "    </tr>\n",
       "  </thead>\n",
       "  <tbody>\n",
       "    <tr>\n",
       "      <th>0</th>\n",
       "      <td>BIGHOLD</td>\n",
       "      <td>226</td>\n",
       "    </tr>\n",
       "    <tr>\n",
       "      <th>1</th>\n",
       "      <td>CONSULTANT</td>\n",
       "      <td>7</td>\n",
       "    </tr>\n",
       "    <tr>\n",
       "      <th>2</th>\n",
       "      <td>CONTENDERS</td>\n",
       "      <td>17</td>\n",
       "    </tr>\n",
       "    <tr>\n",
       "      <th>3</th>\n",
       "      <td>INDY</td>\n",
       "      <td>659</td>\n",
       "    </tr>\n",
       "    <tr>\n",
       "      <th>4</th>\n",
       "      <td>MIDMARKET</td>\n",
       "      <td>31</td>\n",
       "    </tr>\n",
       "  </tbody>\n",
       "</table>\n",
       "</div>"
      ],
      "text/plain": [
       "  AGENCY-TIER  adage2013\n",
       "0     BIGHOLD        226\n",
       "1  CONSULTANT          7\n",
       "2  CONTENDERS         17\n",
       "3        INDY        659\n",
       "4   MIDMARKET         31"
      ]
     },
     "execution_count": 17,
     "metadata": {},
     "output_type": "execute_result"
    }
   ],
   "source": [
    "adage13.groupby('AGENCY-TIER').size().to_frame(name = adage13.name).reset_index()"
   ]
  },
  {
   "cell_type": "code",
   "execution_count": 18,
   "metadata": {
    "collapsed": false
   },
   "outputs": [
    {
     "data": {
      "text/html": [
       "<div>\n",
       "<table border=\"1\" class=\"dataframe\">\n",
       "  <thead>\n",
       "    <tr style=\"text-align: right;\">\n",
       "      <th></th>\n",
       "      <th>AGENCY-TIER</th>\n",
       "      <th>adage2014</th>\n",
       "    </tr>\n",
       "  </thead>\n",
       "  <tbody>\n",
       "    <tr>\n",
       "      <th>0</th>\n",
       "      <td>BIGHOLD</td>\n",
       "      <td>224</td>\n",
       "    </tr>\n",
       "    <tr>\n",
       "      <th>1</th>\n",
       "      <td>CONSULTANT</td>\n",
       "      <td>7</td>\n",
       "    </tr>\n",
       "    <tr>\n",
       "      <th>2</th>\n",
       "      <td>CONTENDERS</td>\n",
       "      <td>13</td>\n",
       "    </tr>\n",
       "    <tr>\n",
       "      <th>3</th>\n",
       "      <td>INDY</td>\n",
       "      <td>671</td>\n",
       "    </tr>\n",
       "    <tr>\n",
       "      <th>4</th>\n",
       "      <td>MIDMARKET</td>\n",
       "      <td>35</td>\n",
       "    </tr>\n",
       "  </tbody>\n",
       "</table>\n",
       "</div>"
      ],
      "text/plain": [
       "  AGENCY-TIER  adage2014\n",
       "0     BIGHOLD        224\n",
       "1  CONSULTANT          7\n",
       "2  CONTENDERS         13\n",
       "3        INDY        671\n",
       "4   MIDMARKET         35"
      ]
     },
     "execution_count": 18,
     "metadata": {},
     "output_type": "execute_result"
    }
   ],
   "source": [
    "adage14.groupby('AGENCY-TIER').size().to_frame(name = adage14.name).reset_index()"
   ]
  },
  {
   "cell_type": "code",
   "execution_count": 19,
   "metadata": {
    "collapsed": false
   },
   "outputs": [
    {
     "data": {
      "text/html": [
       "<div>\n",
       "<table border=\"1\" class=\"dataframe\">\n",
       "  <thead>\n",
       "    <tr style=\"text-align: right;\">\n",
       "      <th></th>\n",
       "      <th>AGENCY-TIER</th>\n",
       "      <th>adage2015</th>\n",
       "    </tr>\n",
       "  </thead>\n",
       "  <tbody>\n",
       "    <tr>\n",
       "      <th>0</th>\n",
       "      <td>BIGHOLD</td>\n",
       "      <td>213</td>\n",
       "    </tr>\n",
       "    <tr>\n",
       "      <th>1</th>\n",
       "      <td>CONSULTANT</td>\n",
       "      <td>8</td>\n",
       "    </tr>\n",
       "    <tr>\n",
       "      <th>2</th>\n",
       "      <td>CONTENDERS</td>\n",
       "      <td>11</td>\n",
       "    </tr>\n",
       "    <tr>\n",
       "      <th>3</th>\n",
       "      <td>INDY</td>\n",
       "      <td>644</td>\n",
       "    </tr>\n",
       "    <tr>\n",
       "      <th>4</th>\n",
       "      <td>MIDMARKET</td>\n",
       "      <td>39</td>\n",
       "    </tr>\n",
       "  </tbody>\n",
       "</table>\n",
       "</div>"
      ],
      "text/plain": [
       "  AGENCY-TIER  adage2015\n",
       "0     BIGHOLD        213\n",
       "1  CONSULTANT          8\n",
       "2  CONTENDERS         11\n",
       "3        INDY        644\n",
       "4   MIDMARKET         39"
      ]
     },
     "execution_count": 19,
     "metadata": {},
     "output_type": "execute_result"
    }
   ],
   "source": [
    "adage15.groupby('AGENCY-TIER').size().to_frame(name = adage15.name).reset_index()"
   ]
  },
  {
   "cell_type": "code",
   "execution_count": 20,
   "metadata": {
    "collapsed": false
   },
   "outputs": [
    {
     "data": {
      "text/html": [
       "<div>\n",
       "<table border=\"1\" class=\"dataframe\">\n",
       "  <thead>\n",
       "    <tr style=\"text-align: right;\">\n",
       "      <th></th>\n",
       "      <th>2010-REVENUE</th>\n",
       "      <th>% CHG</th>\n",
       "    </tr>\n",
       "    <tr>\n",
       "      <th>AGENCY-TIER</th>\n",
       "      <th></th>\n",
       "      <th></th>\n",
       "    </tr>\n",
       "  </thead>\n",
       "  <tbody>\n",
       "    <tr>\n",
       "      <th>BIGHOLD</th>\n",
       "      <td>16107497000</td>\n",
       "      <td>2114.9</td>\n",
       "    </tr>\n",
       "    <tr>\n",
       "      <th>CONSULTANT</th>\n",
       "      <td>818000000</td>\n",
       "      <td>30.7</td>\n",
       "    </tr>\n",
       "    <tr>\n",
       "      <th>CONTENDERS</th>\n",
       "      <td>516123000</td>\n",
       "      <td>179.9</td>\n",
       "    </tr>\n",
       "    <tr>\n",
       "      <th>INDY</th>\n",
       "      <td>12160407000</td>\n",
       "      <td>7471.6</td>\n",
       "    </tr>\n",
       "    <tr>\n",
       "      <th>MIDMARKET</th>\n",
       "      <td>872918000</td>\n",
       "      <td>456.3</td>\n",
       "    </tr>\n",
       "  </tbody>\n",
       "</table>\n",
       "</div>"
      ],
      "text/plain": [
       "             2010-REVENUE   % CHG\n",
       "AGENCY-TIER                      \n",
       "BIGHOLD       16107497000  2114.9\n",
       "CONSULTANT      818000000    30.7\n",
       "CONTENDERS      516123000   179.9\n",
       "INDY          12160407000  7471.6\n",
       "MIDMARKET       872918000   456.3"
      ]
     },
     "execution_count": 20,
     "metadata": {},
     "output_type": "execute_result"
    }
   ],
   "source": [
    "adage10.groupby('AGENCY-TIER').sum()"
   ]
  },
  {
   "cell_type": "code",
   "execution_count": 21,
   "metadata": {
    "collapsed": false
   },
   "outputs": [
    {
     "data": {
      "text/html": [
       "<div>\n",
       "<table border=\"1\" class=\"dataframe\">\n",
       "  <thead>\n",
       "    <tr style=\"text-align: right;\">\n",
       "      <th></th>\n",
       "      <th>2011-REVENUE</th>\n",
       "      <th>% CHG</th>\n",
       "    </tr>\n",
       "    <tr>\n",
       "      <th>AGENCY-TIER</th>\n",
       "      <th></th>\n",
       "      <th></th>\n",
       "    </tr>\n",
       "  </thead>\n",
       "  <tbody>\n",
       "    <tr>\n",
       "      <th>BIGHOLD</th>\n",
       "      <td>17990407000</td>\n",
       "      <td>2626.2</td>\n",
       "    </tr>\n",
       "    <tr>\n",
       "      <th>CONTENDERS</th>\n",
       "      <td>181514000</td>\n",
       "      <td>148.0</td>\n",
       "    </tr>\n",
       "    <tr>\n",
       "      <th>INDY</th>\n",
       "      <td>13992716000</td>\n",
       "      <td>7080.5</td>\n",
       "    </tr>\n",
       "    <tr>\n",
       "      <th>MIDMARKET</th>\n",
       "      <td>1007789000</td>\n",
       "      <td>462.3</td>\n",
       "    </tr>\n",
       "  </tbody>\n",
       "</table>\n",
       "</div>"
      ],
      "text/plain": [
       "             2011-REVENUE   % CHG\n",
       "AGENCY-TIER                      \n",
       "BIGHOLD       17990407000  2626.2\n",
       "CONTENDERS      181514000   148.0\n",
       "INDY          13992716000  7080.5\n",
       "MIDMARKET      1007789000   462.3"
      ]
     },
     "execution_count": 21,
     "metadata": {},
     "output_type": "execute_result"
    }
   ],
   "source": [
    "adage11.groupby('AGENCY-TIER').sum()"
   ]
  },
  {
   "cell_type": "code",
   "execution_count": 22,
   "metadata": {
    "collapsed": false
   },
   "outputs": [
    {
     "data": {
      "text/html": [
       "<div>\n",
       "<table border=\"1\" class=\"dataframe\">\n",
       "  <thead>\n",
       "    <tr style=\"text-align: right;\">\n",
       "      <th></th>\n",
       "      <th>2012-REVENUE</th>\n",
       "      <th>% CHG</th>\n",
       "    </tr>\n",
       "    <tr>\n",
       "      <th>AGENCY-TIER</th>\n",
       "      <th></th>\n",
       "      <th></th>\n",
       "    </tr>\n",
       "  </thead>\n",
       "  <tbody>\n",
       "    <tr>\n",
       "      <th>BIGHOLD</th>\n",
       "      <td>19208961000</td>\n",
       "      <td>1351.8</td>\n",
       "    </tr>\n",
       "    <tr>\n",
       "      <th>CONSULTANT</th>\n",
       "      <td>1931468000</td>\n",
       "      <td>49.5</td>\n",
       "    </tr>\n",
       "    <tr>\n",
       "      <th>CONTENDERS</th>\n",
       "      <td>1141138000</td>\n",
       "      <td>134.4</td>\n",
       "    </tr>\n",
       "    <tr>\n",
       "      <th>INDY</th>\n",
       "      <td>12209793000</td>\n",
       "      <td>9210.6</td>\n",
       "    </tr>\n",
       "    <tr>\n",
       "      <th>MIDMARKET</th>\n",
       "      <td>1152539000</td>\n",
       "      <td>325.9</td>\n",
       "    </tr>\n",
       "  </tbody>\n",
       "</table>\n",
       "</div>"
      ],
      "text/plain": [
       "             2012-REVENUE   % CHG\n",
       "AGENCY-TIER                      \n",
       "BIGHOLD       19208961000  1351.8\n",
       "CONSULTANT     1931468000    49.5\n",
       "CONTENDERS     1141138000   134.4\n",
       "INDY          12209793000  9210.6\n",
       "MIDMARKET      1152539000   325.9"
      ]
     },
     "execution_count": 22,
     "metadata": {},
     "output_type": "execute_result"
    }
   ],
   "source": [
    "adage12.groupby('AGENCY-TIER').sum()"
   ]
  },
  {
   "cell_type": "code",
   "execution_count": 23,
   "metadata": {
    "collapsed": false
   },
   "outputs": [
    {
     "data": {
      "text/html": [
       "<div>\n",
       "<table border=\"1\" class=\"dataframe\">\n",
       "  <thead>\n",
       "    <tr style=\"text-align: right;\">\n",
       "      <th></th>\n",
       "      <th>2013-REVENUE</th>\n",
       "      <th>% CHG</th>\n",
       "    </tr>\n",
       "    <tr>\n",
       "      <th>AGENCY-TIER</th>\n",
       "      <th></th>\n",
       "      <th></th>\n",
       "    </tr>\n",
       "  </thead>\n",
       "  <tbody>\n",
       "    <tr>\n",
       "      <th>BIGHOLD</th>\n",
       "      <td>20938530000</td>\n",
       "      <td>1309.6</td>\n",
       "    </tr>\n",
       "    <tr>\n",
       "      <th>CONSULTANT</th>\n",
       "      <td>2752680000</td>\n",
       "      <td>29.4</td>\n",
       "    </tr>\n",
       "    <tr>\n",
       "      <th>CONTENDERS</th>\n",
       "      <td>1466597000</td>\n",
       "      <td>189.6</td>\n",
       "    </tr>\n",
       "    <tr>\n",
       "      <th>INDY</th>\n",
       "      <td>12733598000</td>\n",
       "      <td>5366.9</td>\n",
       "    </tr>\n",
       "    <tr>\n",
       "      <th>MIDMARKET</th>\n",
       "      <td>1215638000</td>\n",
       "      <td>226.4</td>\n",
       "    </tr>\n",
       "  </tbody>\n",
       "</table>\n",
       "</div>"
      ],
      "text/plain": [
       "             2013-REVENUE   % CHG\n",
       "AGENCY-TIER                      \n",
       "BIGHOLD       20938530000  1309.6\n",
       "CONSULTANT     2752680000    29.4\n",
       "CONTENDERS     1466597000   189.6\n",
       "INDY          12733598000  5366.9\n",
       "MIDMARKET      1215638000   226.4"
      ]
     },
     "execution_count": 23,
     "metadata": {},
     "output_type": "execute_result"
    }
   ],
   "source": [
    "adage13.groupby('AGENCY-TIER').sum()"
   ]
  },
  {
   "cell_type": "code",
   "execution_count": 24,
   "metadata": {
    "collapsed": false
   },
   "outputs": [
    {
     "data": {
      "text/html": [
       "<div>\n",
       "<table border=\"1\" class=\"dataframe\">\n",
       "  <thead>\n",
       "    <tr style=\"text-align: right;\">\n",
       "      <th></th>\n",
       "      <th>2014-REVENUE</th>\n",
       "      <th>% CHG</th>\n",
       "    </tr>\n",
       "    <tr>\n",
       "      <th>AGENCY-TIER</th>\n",
       "      <th></th>\n",
       "      <th></th>\n",
       "    </tr>\n",
       "  </thead>\n",
       "  <tbody>\n",
       "    <tr>\n",
       "      <th>BIGHOLD</th>\n",
       "      <td>22483475000</td>\n",
       "      <td>1569.5</td>\n",
       "    </tr>\n",
       "    <tr>\n",
       "      <th>CONSULTANT</th>\n",
       "      <td>4462199000</td>\n",
       "      <td>33.3</td>\n",
       "    </tr>\n",
       "    <tr>\n",
       "      <th>CONTENDERS</th>\n",
       "      <td>1188089000</td>\n",
       "      <td>127.7</td>\n",
       "    </tr>\n",
       "    <tr>\n",
       "      <th>INDY</th>\n",
       "      <td>14039017000</td>\n",
       "      <td>6186.3</td>\n",
       "    </tr>\n",
       "    <tr>\n",
       "      <th>MIDMARKET</th>\n",
       "      <td>1452441000</td>\n",
       "      <td>432.1</td>\n",
       "    </tr>\n",
       "  </tbody>\n",
       "</table>\n",
       "</div>"
      ],
      "text/plain": [
       "             2014-REVENUE   % CHG\n",
       "AGENCY-TIER                      \n",
       "BIGHOLD       22483475000  1569.5\n",
       "CONSULTANT     4462199000    33.3\n",
       "CONTENDERS     1188089000   127.7\n",
       "INDY          14039017000  6186.3\n",
       "MIDMARKET      1452441000   432.1"
      ]
     },
     "execution_count": 24,
     "metadata": {},
     "output_type": "execute_result"
    }
   ],
   "source": [
    "adage14.groupby('AGENCY-TIER').sum()"
   ]
  },
  {
   "cell_type": "code",
   "execution_count": 25,
   "metadata": {
    "collapsed": false
   },
   "outputs": [
    {
     "data": {
      "text/html": [
       "<div>\n",
       "<table border=\"1\" class=\"dataframe\">\n",
       "  <thead>\n",
       "    <tr style=\"text-align: right;\">\n",
       "      <th></th>\n",
       "      <th>2015-REVENUE</th>\n",
       "      <th>% CHG</th>\n",
       "    </tr>\n",
       "    <tr>\n",
       "      <th>AGENCY-TIER</th>\n",
       "      <th></th>\n",
       "      <th></th>\n",
       "    </tr>\n",
       "  </thead>\n",
       "  <tbody>\n",
       "    <tr>\n",
       "      <th>BIGHOLD</th>\n",
       "      <td>23800927000</td>\n",
       "      <td>1503.8</td>\n",
       "    </tr>\n",
       "    <tr>\n",
       "      <th>CONSULTANT</th>\n",
       "      <td>6030425000</td>\n",
       "      <td>79.7</td>\n",
       "    </tr>\n",
       "    <tr>\n",
       "      <th>CONTENDERS</th>\n",
       "      <td>1255154000</td>\n",
       "      <td>96.9</td>\n",
       "    </tr>\n",
       "    <tr>\n",
       "      <th>INDY</th>\n",
       "      <td>14118269000</td>\n",
       "      <td>6309.7</td>\n",
       "    </tr>\n",
       "    <tr>\n",
       "      <th>MIDMARKET</th>\n",
       "      <td>1548381000</td>\n",
       "      <td>618.9</td>\n",
       "    </tr>\n",
       "  </tbody>\n",
       "</table>\n",
       "</div>"
      ],
      "text/plain": [
       "             2015-REVENUE   % CHG\n",
       "AGENCY-TIER                      \n",
       "BIGHOLD       23800927000  1503.8\n",
       "CONSULTANT     6030425000    79.7\n",
       "CONTENDERS     1255154000    96.9\n",
       "INDY          14118269000  6309.7\n",
       "MIDMARKET      1548381000   618.9"
      ]
     },
     "execution_count": 25,
     "metadata": {},
     "output_type": "execute_result"
    }
   ],
   "source": [
    "adage15.groupby('AGENCY-TIER').sum()"
   ]
  },
  {
   "cell_type": "code",
   "execution_count": null,
   "metadata": {
    "collapsed": true
   },
   "outputs": [],
   "source": []
  }
 ],
 "metadata": {
  "anaconda-cloud": {},
  "kernelspec": {
   "display_name": "Python [conda root]",
   "language": "python",
   "name": "conda-root-py"
  },
  "language_info": {
   "codemirror_mode": {
    "name": "ipython",
    "version": 3
   },
   "file_extension": ".py",
   "mimetype": "text/x-python",
   "name": "python",
   "nbconvert_exporter": "python",
   "pygments_lexer": "ipython3",
   "version": "3.5.2"
  }
 },
 "nbformat": 4,
 "nbformat_minor": 1
}
