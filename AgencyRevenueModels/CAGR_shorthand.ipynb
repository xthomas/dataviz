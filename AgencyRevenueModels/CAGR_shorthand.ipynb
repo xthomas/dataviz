{
 "cells": [
  {
   "cell_type": "markdown",
   "metadata": {},
   "source": [
    "## INTENTION OF THIS WORKBOOK\n",
    "This next pass will calculate the CAGR of holding company tiers (and ALL independents) of the AdAge US Top 900 advertising "
   ]
  },
  {
   "cell_type": "code",
   "execution_count": 1,
   "metadata": {
    "collapsed": false
   },
   "outputs": [],
   "source": [
    "import pandas as pd\n",
    "import re\n",
    "%matplotlib inline"
   ]
  },
  {
   "cell_type": "code",
   "execution_count": 2,
   "metadata": {
    "collapsed": false,
    "scrolled": true
   },
   "outputs": [],
   "source": [
    "# create dataframes for the six years we will be looking at\n",
    "# by importing the 2010 thru 2015 AdAge data\n",
    "raw15='/Users/xavier/Documents/src/dataviz/AgencyRevenueModels/adage-data/adage-900_2015.csv'\n",
    "raw14='/Users/xavier/Documents/src/dataviz/AgencyRevenueModels/adage-data/adage-900_2014.csv'\n",
    "raw13='/Users/xavier/Documents/src/dataviz/AgencyRevenueModels/adage-data/adage-900_2013.csv'\n",
    "raw12='/Users/xavier/Documents/src/dataviz/AgencyRevenueModels/adage-data/adage-900_2012.csv'\n",
    "raw11='/Users/xavier/Documents/src/dataviz/AgencyRevenueModels/adage-data/adage-900_2011.csv'\n",
    "raw10='/Users/xavier/Documents/src/dataviz/AgencyRevenueModels/adage-data/adage-900_2010.csv'\n",
    "adage15 = pd.read_csv(raw15)\n",
    "adage15.name = '2015'\n",
    "adage14 = pd.read_csv(raw14)\n",
    "adage14.name = '2014'\n",
    "adage13 = pd.read_csv(raw13)\n",
    "adage13.name = '2013'\n",
    "adage12 = pd.read_csv(raw12)\n",
    "adage12.name = '2012'\n",
    "adage11 = pd.read_csv(raw11)\n",
    "adage11.name = '2011'\n",
    "adage10 = pd.read_csv(raw10)\n",
    "adage10.name = '2010'"
   ]
  },
  {
   "cell_type": "code",
   "execution_count": 3,
   "metadata": {
    "collapsed": true
   },
   "outputs": [],
   "source": [
    "fiveyear = [adage15,adage14,adage13,adage12,adage11,adage10]\n",
    "burgeoning_lower_limit = 150000000"
   ]
  },
  {
   "cell_type": "code",
   "execution_count": 4,
   "metadata": {
    "collapsed": true
   },
   "outputs": [],
   "source": [
    "# A function to RETURN two variables from AGENCY-COMPANY column\n",
    "def indySubstituteSimple(x):\n",
    "    parent = re.compile(\"\\[(.*)\\]\")\n",
    "    owned = re.compile(\"(.+?)\\[(.*)\\]\")\n",
    "    p = parent.search(x)\n",
    "    if p:\n",
    "        o = owned.search(x)\n",
    "        return o.group(1),o.group(2)\n",
    "    else:\n",
    "        return x, \"Independent\""
   ]
  },
  {
   "cell_type": "code",
   "execution_count": 5,
   "metadata": {
    "collapsed": false,
    "scrolled": true
   },
   "outputs": [],
   "source": [
    "# Create two new Columns that take the two outputs of the function\n",
    "# Remove the bigger agency parent, e.g. 'Omnicom (child of BBDO)'\n",
    "# Strip any trailing whitespaces in the names\n",
    "# Transform revenue to the literal number, not 'In thousands'\n",
    "# Remove the * asterisk after the agency name\n",
    "def defineTiers(z):\n",
    "    z['AGENCY-NAME'], z['AGENCY-OWNER'] = zip(*z['AGENCY-COMPANY'].map(indySubstituteSimple))\n",
    "    z.loc[:, 'AGENCY-OWNER'] = z['AGENCY-OWNER'].apply(lambda x: re.sub(r'\\([^)]*\\)', '', x))\n",
    "    z.loc[:, 'AGENCY-OWNER'] = z['AGENCY-OWNER'].apply(lambda x: re.sub(r'\\s+$', '', x))\n",
    "    z.iloc[:,2] = z.iloc[:,2].apply(lambda x: x*1000)\n",
    "    z.iloc[:,4] = z.iloc[:,4].apply(lambda x: re.sub(r'\\*', '', x))\n",
    "#    z['AGENCY-TIER'] = z['AGENCY-OWNER'].apply(typer)"
   ]
  },
  {
   "cell_type": "code",
   "execution_count": 6,
   "metadata": {
    "collapsed": false,
    "scrolled": true
   },
   "outputs": [],
   "source": [
    "for i in range (0,len(fiveyear),1):\n",
    "    defineTiers(fiveyear[i])"
   ]
  },
  {
   "cell_type": "code",
   "execution_count": 7,
   "metadata": {
    "collapsed": true
   },
   "outputs": [],
   "source": [
    "# Group the companies by owner\n",
    "tiers15 = adage15.groupby(adage15.iloc[:,5]).sum().reset_index()\n",
    "tiers14 = adage14.groupby(adage14.iloc[:,5]).sum().reset_index()\n",
    "tiers13 = adage13.groupby(adage13.iloc[:,5]).sum().reset_index()\n",
    "tiers12 = adage12.groupby(adage12.iloc[:,5]).sum().reset_index()\n",
    "tiers11 = adage11.groupby(adage11.iloc[:,5]).sum().reset_index()\n",
    "tiers10 = adage10.groupby(adage10.iloc[:,5]).sum().reset_index()"
   ]
  },
  {
   "cell_type": "code",
   "execution_count": 8,
   "metadata": {
    "collapsed": false
   },
   "outputs": [
    {
     "name": "stdout",
     "output_type": "stream",
     "text": [
      "Supernova holding companies compound annual growth rate over five years: 9.6%\n"
     ]
    }
   ],
   "source": [
    "# Supernova CAGR—WITHOUT INDEPENDENTS\n",
    "sn15 = tiers15[(tiers15.iloc[:,1] > 2000000000) & (tiers15.iloc[:,0] != 'Independent')]\n",
    "sn10 = tiers10[(tiers10.iloc[:,1] > 2000000000) & (tiers10.iloc[:,0] != 'Independent')]\n",
    "supernova_cagr = ((sn15.iloc[:,1].sum()/sn10.iloc[:,1].sum())**(1/5))-1\n",
    "print(\"Supernova holding companies compound annual growth rate over five years: \"+\"{:.1%}\".format(supernova_cagr))"
   ]
  },
  {
   "cell_type": "code",
   "execution_count": 9,
   "metadata": {
    "collapsed": false
   },
   "outputs": [
    {
     "data": {
      "text/plain": [
       "0.09607367469576777"
      ]
     },
     "execution_count": 9,
     "metadata": {},
     "output_type": "execute_result"
    }
   ],
   "source": [
    "#Double check from Google Sheet\n",
    "((24049151000/15202010000)**(1/5))-1"
   ]
  },
  {
   "cell_type": "code",
   "execution_count": 10,
   "metadata": {
    "collapsed": false
   },
   "outputs": [
    {
     "data": {
      "text/plain": [
       "0.09607367469576777"
      ]
     },
     "execution_count": 10,
     "metadata": {},
     "output_type": "execute_result"
    }
   ],
   "source": [
    "supernova_cagr"
   ]
  },
  {
   "cell_type": "code",
   "execution_count": 11,
   "metadata": {
    "collapsed": false
   },
   "outputs": [
    {
     "name": "stdout",
     "output_type": "stream",
     "text": [
      "Independent agencies compound annual growth rate over five years: 5.6%\n"
     ]
    }
   ],
   "source": [
    "# Independents CAGR\n",
    "in15 = tiers15[(tiers15.iloc[:,0] == 'Independent')]\n",
    "in10 = tiers10[(tiers10.iloc[:,0] == 'Independent')]\n",
    "in_cagr = ((in15.iloc[:,1].sum()/in10.iloc[:,1].sum())**(1/5))-1\n",
    "print(\"Independent agencies compound annual growth rate over five years: \"+\"{:.1%}\".format(in_cagr))"
   ]
  },
  {
   "cell_type": "code",
   "execution_count": 12,
   "metadata": {
    "collapsed": false
   },
   "outputs": [
    {
     "name": "stdout",
     "output_type": "stream",
     "text": [
      "Midmarket holding companies compound annual growth rate over five years: 30.2%\n"
     ]
    }
   ],
   "source": [
    "# Midmarket CAGR\n",
    "mid15 = tiers15[\\\n",
    "    (tiers15.iloc[:,1] <= 1999999999) & \\\n",
    "    (tiers15.iloc[:,1] >= 500000000)]\n",
    "mid10 = tiers10[\\\n",
    "    (tiers10.iloc[:,1] <= 1999999999) & \\\n",
    "    (tiers10.iloc[:,1] >= 500000000)]\n",
    "mid_cagr = ((mid15.iloc[:,1].sum()/mid10.iloc[:,1].sum())**(1/5))-1\n",
    "print(\"Midmarket holding companies compound annual growth rate over five years: \"+\"{:.1%}\".format(mid_cagr))"
   ]
  },
  {
   "cell_type": "code",
   "execution_count": 13,
   "metadata": {
    "collapsed": false
   },
   "outputs": [
    {
     "name": "stdout",
     "output_type": "stream",
     "text": [
      "Burgeoning holding companies compound annual growth rate over five years: 1.0%\n"
     ]
    }
   ],
   "source": [
    "# Burgeoning CAGR\n",
    "bg15 = tiers15[\\\n",
    "    (tiers15.iloc[:,1] <= 499999999) & \\\n",
    "    (tiers15.iloc[:,1] >= burgeoning_lower_limit)]\n",
    "bg10 = tiers10[\\\n",
    "    (tiers10.iloc[:,1] <= 499999999) & \\\n",
    "    (tiers10.iloc[:,1] >= burgeoning_lower_limit)]\n",
    "bg_cagr = ((bg15.iloc[:,1].sum()/bg10.iloc[:,1].sum())**(1/5))-1\n",
    "print(\"Burgeoning holding companies compound annual growth rate over five years: \"+\"{:.1%}\".format(bg_cagr))"
   ]
  },
  {
   "cell_type": "code",
   "execution_count": 14,
   "metadata": {
    "collapsed": false
   },
   "outputs": [
    {
     "data": {
      "text/html": [
       "<div>\n",
       "<table border=\"1\" class=\"dataframe\">\n",
       "  <thead>\n",
       "    <tr style=\"text-align: right;\">\n",
       "      <th></th>\n",
       "      <th>AGENCY-OWNER</th>\n",
       "      <th>2015-REVENUE</th>\n",
       "      <th>% CHG</th>\n",
       "    </tr>\n",
       "  </thead>\n",
       "  <tbody>\n",
       "    <tr>\n",
       "      <th>4</th>\n",
       "      <td>Alliance Data Systems Corp.</td>\n",
       "      <td>2050465000</td>\n",
       "      <td>17.6</td>\n",
       "    </tr>\n",
       "    <tr>\n",
       "      <th>22</th>\n",
       "      <td>Interpublic</td>\n",
       "      <td>4451749000</td>\n",
       "      <td>256.7</td>\n",
       "    </tr>\n",
       "    <tr>\n",
       "      <th>29</th>\n",
       "      <td>Omnicom</td>\n",
       "      <td>6777123000</td>\n",
       "      <td>323.5</td>\n",
       "    </tr>\n",
       "    <tr>\n",
       "      <th>31</th>\n",
       "      <td>Publicis</td>\n",
       "      <td>5186067000</td>\n",
       "      <td>225.5</td>\n",
       "    </tr>\n",
       "    <tr>\n",
       "      <th>35</th>\n",
       "      <td>WPP</td>\n",
       "      <td>5583747000</td>\n",
       "      <td>522.8</td>\n",
       "    </tr>\n",
       "  </tbody>\n",
       "</table>\n",
       "</div>"
      ],
      "text/plain": [
       "                   AGENCY-OWNER  2015-REVENUE  % CHG\n",
       "4   Alliance Data Systems Corp.    2050465000   17.6\n",
       "22                  Interpublic    4451749000  256.7\n",
       "29                      Omnicom    6777123000  323.5\n",
       "31                     Publicis    5186067000  225.5\n",
       "35                          WPP    5583747000  522.8"
      ]
     },
     "execution_count": 14,
     "metadata": {},
     "output_type": "execute_result"
    }
   ],
   "source": [
    "sn15"
   ]
  },
  {
   "cell_type": "code",
   "execution_count": 15,
   "metadata": {
    "collapsed": false
   },
   "outputs": [
    {
     "data": {
      "text/html": [
       "<div>\n",
       "<table border=\"1\" class=\"dataframe\">\n",
       "  <thead>\n",
       "    <tr style=\"text-align: right;\">\n",
       "      <th></th>\n",
       "      <th>AGENCY-OWNER</th>\n",
       "      <th>2010-REVENUE</th>\n",
       "      <th>% CHG</th>\n",
       "    </tr>\n",
       "  </thead>\n",
       "  <tbody>\n",
       "    <tr>\n",
       "      <th>28</th>\n",
       "      <td>Interpublic</td>\n",
       "      <td>3606889000</td>\n",
       "      <td>289.8</td>\n",
       "    </tr>\n",
       "    <tr>\n",
       "      <th>38</th>\n",
       "      <td>Omnicom</td>\n",
       "      <td>4595246000</td>\n",
       "      <td>568.3</td>\n",
       "    </tr>\n",
       "    <tr>\n",
       "      <th>40</th>\n",
       "      <td>Publicis</td>\n",
       "      <td>3072242000</td>\n",
       "      <td>370.9</td>\n",
       "    </tr>\n",
       "    <tr>\n",
       "      <th>51</th>\n",
       "      <td>WPP</td>\n",
       "      <td>3927633000</td>\n",
       "      <td>510.3</td>\n",
       "    </tr>\n",
       "  </tbody>\n",
       "</table>\n",
       "</div>"
      ],
      "text/plain": [
       "   AGENCY-OWNER  2010-REVENUE  % CHG\n",
       "28  Interpublic    3606889000  289.8\n",
       "38      Omnicom    4595246000  568.3\n",
       "40     Publicis    3072242000  370.9\n",
       "51          WPP    3927633000  510.3"
      ]
     },
     "execution_count": 15,
     "metadata": {},
     "output_type": "execute_result"
    }
   ],
   "source": [
    "sn10"
   ]
  },
  {
   "cell_type": "code",
   "execution_count": 16,
   "metadata": {
    "collapsed": false
   },
   "outputs": [
    {
     "data": {
      "text/html": [
       "<div>\n",
       "<table border=\"1\" class=\"dataframe\">\n",
       "  <thead>\n",
       "    <tr style=\"text-align: right;\">\n",
       "      <th></th>\n",
       "      <th>AGENCY-OWNER</th>\n",
       "      <th>2015-REVENUE</th>\n",
       "      <th>% CHG</th>\n",
       "    </tr>\n",
       "  </thead>\n",
       "  <tbody>\n",
       "    <tr>\n",
       "      <th>0</th>\n",
       "      <td>Accenture</td>\n",
       "      <td>1231596000</td>\n",
       "      <td>70.8</td>\n",
       "    </tr>\n",
       "    <tr>\n",
       "      <th>9</th>\n",
       "      <td>DJE Holdings</td>\n",
       "      <td>558486000</td>\n",
       "      <td>33.7</td>\n",
       "    </tr>\n",
       "    <tr>\n",
       "      <th>10</th>\n",
       "      <td>Deloitte</td>\n",
       "      <td>865200000</td>\n",
       "      <td>NaN</td>\n",
       "    </tr>\n",
       "    <tr>\n",
       "      <th>11</th>\n",
       "      <td>Dentsu</td>\n",
       "      <td>942850000</td>\n",
       "      <td>159.1</td>\n",
       "    </tr>\n",
       "    <tr>\n",
       "      <th>16</th>\n",
       "      <td>Havas</td>\n",
       "      <td>859391000</td>\n",
       "      <td>16.2</td>\n",
       "    </tr>\n",
       "    <tr>\n",
       "      <th>19</th>\n",
       "      <td>IBM Corp.</td>\n",
       "      <td>796800000</td>\n",
       "      <td>NaN</td>\n",
       "    </tr>\n",
       "    <tr>\n",
       "      <th>24</th>\n",
       "      <td>MDC Partners</td>\n",
       "      <td>1028257000</td>\n",
       "      <td>387.3</td>\n",
       "    </tr>\n",
       "    <tr>\n",
       "      <th>32</th>\n",
       "      <td>PwC</td>\n",
       "      <td>624000000</td>\n",
       "      <td>NaN</td>\n",
       "    </tr>\n",
       "  </tbody>\n",
       "</table>\n",
       "</div>"
      ],
      "text/plain": [
       "    AGENCY-OWNER  2015-REVENUE  % CHG\n",
       "0      Accenture    1231596000   70.8\n",
       "9   DJE Holdings     558486000   33.7\n",
       "10      Deloitte     865200000    NaN\n",
       "11        Dentsu     942850000  159.1\n",
       "16         Havas     859391000   16.2\n",
       "19     IBM Corp.     796800000    NaN\n",
       "24  MDC Partners    1028257000  387.3\n",
       "32           PwC     624000000    NaN"
      ]
     },
     "execution_count": 16,
     "metadata": {},
     "output_type": "execute_result"
    }
   ],
   "source": [
    "mid15"
   ]
  },
  {
   "cell_type": "code",
   "execution_count": 17,
   "metadata": {
    "collapsed": false
   },
   "outputs": [
    {
     "data": {
      "text/html": [
       "<div>\n",
       "<table border=\"1\" class=\"dataframe\">\n",
       "  <thead>\n",
       "    <tr style=\"text-align: right;\">\n",
       "      <th></th>\n",
       "      <th>AGENCY-OWNER</th>\n",
       "      <th>2010-REVENUE</th>\n",
       "      <th>% CHG</th>\n",
       "    </tr>\n",
       "  </thead>\n",
       "  <tbody>\n",
       "    <tr>\n",
       "      <th>2</th>\n",
       "      <td>Alliance Data Systems Corp.</td>\n",
       "      <td>584400000</td>\n",
       "      <td>19.8</td>\n",
       "    </tr>\n",
       "    <tr>\n",
       "      <th>20</th>\n",
       "      <td>Havas</td>\n",
       "      <td>674687000</td>\n",
       "      <td>205.5</td>\n",
       "    </tr>\n",
       "    <tr>\n",
       "      <th>31</th>\n",
       "      <td>MDC Partners</td>\n",
       "      <td>590307000</td>\n",
       "      <td>473.6</td>\n",
       "    </tr>\n",
       "  </tbody>\n",
       "</table>\n",
       "</div>"
      ],
      "text/plain": [
       "                   AGENCY-OWNER  2010-REVENUE  % CHG\n",
       "2   Alliance Data Systems Corp.     584400000   19.8\n",
       "20                        Havas     674687000  205.5\n",
       "31                 MDC Partners     590307000  473.6"
      ]
     },
     "execution_count": 17,
     "metadata": {},
     "output_type": "execute_result"
    }
   ],
   "source": [
    "mid10"
   ]
  },
  {
   "cell_type": "code",
   "execution_count": 18,
   "metadata": {
    "collapsed": false
   },
   "outputs": [
    {
     "data": {
      "text/html": [
       "<div>\n",
       "<table border=\"1\" class=\"dataframe\">\n",
       "  <thead>\n",
       "    <tr style=\"text-align: right;\">\n",
       "      <th></th>\n",
       "      <th>AGENCY-OWNER</th>\n",
       "      <th>2015-REVENUE</th>\n",
       "      <th>% CHG</th>\n",
       "    </tr>\n",
       "  </thead>\n",
       "  <tbody>\n",
       "    <tr>\n",
       "      <th>1</th>\n",
       "      <td>Acosta</td>\n",
       "      <td>321717000</td>\n",
       "      <td>5.9</td>\n",
       "    </tr>\n",
       "    <tr>\n",
       "      <th>3</th>\n",
       "      <td>Advantage Solutions</td>\n",
       "      <td>480668000</td>\n",
       "      <td>9.2</td>\n",
       "    </tr>\n",
       "    <tr>\n",
       "      <th>13</th>\n",
       "      <td>Engine Group</td>\n",
       "      <td>177783000</td>\n",
       "      <td>26.2</td>\n",
       "    </tr>\n",
       "    <tr>\n",
       "      <th>14</th>\n",
       "      <td>Experian</td>\n",
       "      <td>432000000</td>\n",
       "      <td>-0.2</td>\n",
       "    </tr>\n",
       "    <tr>\n",
       "      <th>17</th>\n",
       "      <td>Hearst Corp.</td>\n",
       "      <td>224940000</td>\n",
       "      <td>20.0</td>\n",
       "    </tr>\n",
       "    <tr>\n",
       "      <th>20</th>\n",
       "      <td>ICF International</td>\n",
       "      <td>165000000</td>\n",
       "      <td>NaN</td>\n",
       "    </tr>\n",
       "    <tr>\n",
       "      <th>30</th>\n",
       "      <td>Project WorldWide</td>\n",
       "      <td>224279000</td>\n",
       "      <td>124.5</td>\n",
       "    </tr>\n",
       "    <tr>\n",
       "      <th>36</th>\n",
       "      <td>inVentiv Group Holdings</td>\n",
       "      <td>325844000</td>\n",
       "      <td>8.2</td>\n",
       "    </tr>\n",
       "  </tbody>\n",
       "</table>\n",
       "</div>"
      ],
      "text/plain": [
       "               AGENCY-OWNER  2015-REVENUE  % CHG\n",
       "1                    Acosta     321717000    5.9\n",
       "3       Advantage Solutions     480668000    9.2\n",
       "13             Engine Group     177783000   26.2\n",
       "14                 Experian     432000000   -0.2\n",
       "17             Hearst Corp.     224940000   20.0\n",
       "20        ICF International     165000000    NaN\n",
       "30        Project WorldWide     224279000  124.5\n",
       "36  inVentiv Group Holdings     325844000    8.2"
      ]
     },
     "execution_count": 18,
     "metadata": {},
     "output_type": "execute_result"
    }
   ],
   "source": [
    "bg15"
   ]
  },
  {
   "cell_type": "code",
   "execution_count": 19,
   "metadata": {
    "collapsed": false
   },
   "outputs": [
    {
     "data": {
      "text/html": [
       "<div>\n",
       "<table border=\"1\" class=\"dataframe\">\n",
       "  <thead>\n",
       "    <tr style=\"text-align: right;\">\n",
       "      <th></th>\n",
       "      <th>AGENCY-OWNER</th>\n",
       "      <th>2010-REVENUE</th>\n",
       "      <th>% CHG</th>\n",
       "    </tr>\n",
       "  </thead>\n",
       "  <tbody>\n",
       "    <tr>\n",
       "      <th>1</th>\n",
       "      <td>Aegis Group</td>\n",
       "      <td>189900000</td>\n",
       "      <td>47.9</td>\n",
       "    </tr>\n",
       "    <tr>\n",
       "      <th>9</th>\n",
       "      <td>Daniel J. Edelman</td>\n",
       "      <td>361691000</td>\n",
       "      <td>77.6</td>\n",
       "    </tr>\n",
       "    <tr>\n",
       "      <th>10</th>\n",
       "      <td>Dentsu</td>\n",
       "      <td>230800000</td>\n",
       "      <td>170.1</td>\n",
       "    </tr>\n",
       "    <tr>\n",
       "      <th>15</th>\n",
       "      <td>GSI Commerce Inc.</td>\n",
       "      <td>162881000</td>\n",
       "      <td>48.8</td>\n",
       "    </tr>\n",
       "    <tr>\n",
       "      <th>16</th>\n",
       "      <td>Groupe Aeroplan</td>\n",
       "      <td>266251000</td>\n",
       "      <td>4.0</td>\n",
       "    </tr>\n",
       "    <tr>\n",
       "      <th>25</th>\n",
       "      <td>IBM Corp.</td>\n",
       "      <td>233600000</td>\n",
       "      <td>10.9</td>\n",
       "    </tr>\n",
       "    <tr>\n",
       "      <th>34</th>\n",
       "      <td>Meredith Corp.</td>\n",
       "      <td>173000000</td>\n",
       "      <td>-2.8</td>\n",
       "    </tr>\n",
       "    <tr>\n",
       "      <th>46</th>\n",
       "      <td>Sapient Corp.</td>\n",
       "      <td>350000000</td>\n",
       "      <td>35.1</td>\n",
       "    </tr>\n",
       "    <tr>\n",
       "      <th>52</th>\n",
       "      <td>inVentiv Group Holdings</td>\n",
       "      <td>269425000</td>\n",
       "      <td>16.5</td>\n",
       "    </tr>\n",
       "  </tbody>\n",
       "</table>\n",
       "</div>"
      ],
      "text/plain": [
       "               AGENCY-OWNER  2010-REVENUE  % CHG\n",
       "1               Aegis Group     189900000   47.9\n",
       "9         Daniel J. Edelman     361691000   77.6\n",
       "10                   Dentsu     230800000  170.1\n",
       "15        GSI Commerce Inc.     162881000   48.8\n",
       "16          Groupe Aeroplan     266251000    4.0\n",
       "25                IBM Corp.     233600000   10.9\n",
       "34           Meredith Corp.     173000000   -2.8\n",
       "46            Sapient Corp.     350000000   35.1\n",
       "52  inVentiv Group Holdings     269425000   16.5"
      ]
     },
     "execution_count": 19,
     "metadata": {},
     "output_type": "execute_result"
    }
   ],
   "source": [
    "bg10"
   ]
  },
  {
   "cell_type": "code",
   "execution_count": 21,
   "metadata": {
    "collapsed": false
   },
   "outputs": [
    {
     "data": {
      "text/plain": [
       "60000.0"
      ]
     },
     "execution_count": 21,
     "metadata": {},
     "output_type": "execute_result"
    }
   ],
   "source": [
    "(1000000*.06)"
   ]
  },
  {
   "cell_type": "code",
   "execution_count": null,
   "metadata": {
    "collapsed": true
   },
   "outputs": [],
   "source": []
  },
  {
   "cell_type": "code",
   "execution_count": null,
   "metadata": {
    "collapsed": true
   },
   "outputs": [],
   "source": []
  },
  {
   "cell_type": "code",
   "execution_count": null,
   "metadata": {
    "collapsed": true
   },
   "outputs": [],
   "source": []
  },
  {
   "cell_type": "code",
   "execution_count": null,
   "metadata": {
    "collapsed": true
   },
   "outputs": [],
   "source": []
  },
  {
   "cell_type": "code",
   "execution_count": null,
   "metadata": {
    "collapsed": true
   },
   "outputs": [],
   "source": []
  }
 ],
 "metadata": {
  "anaconda-cloud": {},
  "kernelspec": {
   "display_name": "Python [conda root]",
   "language": "python",
   "name": "conda-root-py"
  },
  "language_info": {
   "codemirror_mode": {
    "name": "ipython",
    "version": 3
   },
   "file_extension": ".py",
   "mimetype": "text/x-python",
   "name": "python",
   "nbconvert_exporter": "python",
   "pygments_lexer": "ipython3",
   "version": "3.5.2"
  }
 },
 "nbformat": 4,
 "nbformat_minor": 1
}
