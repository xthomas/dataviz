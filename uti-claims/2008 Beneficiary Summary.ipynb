{
 "cells": [
  {
   "cell_type": "code",
   "execution_count": 1,
   "metadata": {},
   "outputs": [],
   "source": [
    "import pandas as pd\n",
    "import numpy as np\n",
    "import matplotlib.pyplot as plt\n",
    "import seaborn as sns"
   ]
  },
  {
   "cell_type": "code",
   "execution_count": 2,
   "metadata": {},
   "outputs": [],
   "source": [
    "# read full dataframe\n",
    "df = pd.read_csv('gs://datacamp-202518.appspot.com/data/claims/beneficiary/2008_BSA_Carrier_Line_Items_PUF.csv')"
   ]
  },
  {
   "cell_type": "code",
   "execution_count": 3,
   "metadata": {},
   "outputs": [
    {
     "data": {
      "text/plain": [
       "(67735075, 11)"
      ]
     },
     "execution_count": 3,
     "metadata": {},
     "output_type": "execute_result"
    }
   ],
   "source": [
    "df.shape"
   ]
  },
  {
   "cell_type": "markdown",
   "metadata": {},
   "source": [
    "# ⇪\n",
    "# That's 67 million rows of data, from the **\"2008 Basic Standalone Carrier Line Items\"** [*(found here)*](https://www.cms.gov/Research-Statistics-Data-and-Systems/Downloadable-Public-Use-Files/BSAPUFS/Carrier_Line_Items)"
   ]
  },
  {
   "cell_type": "code",
   "execution_count": 4,
   "metadata": {},
   "outputs": [
    {
     "data": {
      "text/plain": [
       "CAR_LINE_ID                  67735075\n",
       "BENE_SEX_IDENT_CD                   2\n",
       "BENE_AGE_CAT_CD                     6\n",
       "CAR_LINE_ICD9_DGNS_CD             923\n",
       "CAR_LINE_HCPCS_CD                4736\n",
       "CAR_LINE_BETOS_CD                  99\n",
       "CAR_LINE_SRVC_CNT                 156\n",
       "CAR_LINE_PRVDR_TYPE_CD              6\n",
       "CAR_LINE_CMS_TYPE_SRVC_CD          22\n",
       "CAR_LINE_PLACE_OF_SRVC_CD          27\n",
       "CAR_HCPCS_PMT_AMT                  76\n",
       "dtype: int64"
      ]
     },
     "execution_count": 4,
     "metadata": {},
     "output_type": "execute_result"
    }
   ],
   "source": [
    "df.nunique()"
   ]
  },
  {
   "cell_type": "code",
   "execution_count": 5,
   "metadata": {},
   "outputs": [],
   "source": [
    "letter_codes = ['V','E']\n",
    "onlynumbers = df.loc[\n",
    "    # match anything that does not have \"V\" or \"E\" codes\n",
    "    ~df.CAR_LINE_ICD9_DGNS_CD.str.contains('|'.join(letter_codes), na=False)\n",
    "    ,:]"
   ]
  },
  {
   "cell_type": "code",
   "execution_count": 6,
   "metadata": {},
   "outputs": [
    {
     "name": "stdout",
     "output_type": "stream",
     "text": [
      "object\n"
     ]
    }
   ],
   "source": [
    "# check whether those numbers are actually numbers\n",
    "print (onlynumbers.CAR_LINE_ICD9_DGNS_CD.dtypes)"
   ]
  },
  {
   "cell_type": "code",
   "execution_count": 7,
   "metadata": {},
   "outputs": [
    {
     "name": "stderr",
     "output_type": "stream",
     "text": [
      "/opt/conda/lib/python3.7/site-packages/pandas/core/indexing.py:966: SettingWithCopyWarning: \n",
      "A value is trying to be set on a copy of a slice from a DataFrame.\n",
      "Try using .loc[row_indexer,col_indexer] = value instead\n",
      "\n",
      "See the caveats in the documentation: https://pandas.pydata.org/pandas-docs/stable/user_guide/indexing.html#returning-a-view-versus-a-copy\n",
      "  self.obj[item] = s\n"
     ]
    }
   ],
   "source": [
    "# Ok, not a number yet.\n",
    "onlynumbers.loc[:, \"CAR_LINE_ICD9_DGNS_CD\"] = onlynumbers.loc[:, \"CAR_LINE_ICD9_DGNS_CD\"].apply(pd.to_numeric, errors = 'coerce')"
   ]
  },
  {
   "cell_type": "code",
   "execution_count": 8,
   "metadata": {},
   "outputs": [
    {
     "name": "stdout",
     "output_type": "stream",
     "text": [
      "float64\n"
     ]
    }
   ],
   "source": [
    "# did that change it?\n",
    "print (onlynumbers.CAR_LINE_ICD9_DGNS_CD.dtypes)"
   ]
  },
  {
   "cell_type": "code",
   "execution_count": 9,
   "metadata": {},
   "outputs": [
    {
     "name": "stdout",
     "output_type": "stream",
     "text": [
      "[739. 465. 959. 472. 394. 272. 592. 486. 585. 429. 789. 204. 110. 496.\n",
      " 696. 414. 402. 428. 327. 403. 273. 162. 491. 288. 202. 715. 285. 924.\n",
      " 295. 462. 250. 707. 424. 401. 786. 451. 311. 362. 596. 618. 490. 368.\n",
      " 724. 356. 703. 157. 284. 998. 599. 722. 238. 854. 435. 365. 553. 153.\n",
      " 719. 185. 266. 600. 276. 436. 338. 518. 729. 309. 725.   8. 342. 174.\n",
      " 702. 738. 627. 188. 413. 466. 690. 427. 733. 441. 244. 785. 366. 780.\n",
      " 296. 584. 434. 211. 536. 784. 411. 820. 396. 371. 781. 482. 721. 709.\n",
      " 281. 242. 726. 303. 616. 388. 290. 456. 788. 588. 723. 997. 440. 433.\n",
      " 790. 173. 562. 195. 305. 787. 836. 996. 593. 426. 287. 372. 625. 575.\n",
      " 682. 692. 735. 492. 794. 354. 531. 331. 203. 256. 824. 493. 458. 473.\n",
      " 782. 569. 268. 714. 512. 511.  42. 280. 823. 578.  53. 727. 793. 530.\n",
      " 294. 373. 300. 425. 146. 216. 201. 796. 922. 611. 410. 350. 710. 357.\n",
      " 917. 535.  88. 307. 686. 808. 275. 154. 573. 274. 233. 286. 514. 340.\n",
      " 716. 528. 698.  38. 333. 720. 558. 537. 189. 586. 783. 183. 507. 515.\n",
      " 332. 389. 263. 298. 193. 316. 598. 728. 701. 381. 444. 346. 757. 379.\n",
      " 455. 380. 205. 816. 717. 845. 807. 494. 481. 416. 395. 695. 812. 438.\n",
      " 595. 252. 478. 842. 161. 282. 135. 383. 799. 461. 571. 995. 344. 557.\n",
      " 477. 299. 597. 375. 443. 432. 228. 730. 791. 844. 574. 224. 560. 151.\n",
      " 891. 700. 805. 835. 304. 345. 447. 577. 191. 180. 198.  78. 706. 564.\n",
      " 470. 446. 182. 155. 839. 533. 355. 437. 241. 753. 172. 813. 423. 374.\n",
      " 825. 602. 604. 397. 364. 792. 382. 156. 847. 237. 999. 718. 348. 453.\n",
      " 840. 239. 843. 289. 873. 297. 620. 607. 883. 179. 746. 232. 821. 846.\n",
      " 610. 623. 240. 860. 459. 737. 736.  79. 245. 199. 471. 255. 681. 555.\n",
      " 291. 404. 708. 704.  70. 361.  nan 756. 691. 415. 829. 257.  41. 684.\n",
      " 384. 608. 236. 277. 431. 510. 200. 601. 705. 386. 225. 565. 881. 293.\n",
      " 370. 112. 892. 882. 197. 590.  66. 583. 279. 907. 278.  97. 591. 918.\n",
      " 335. 815. 454. 150. 532. 487. 527. 378. 910. 713. 421. 626. 831.   9.\n",
      " 269. 516. 621. 556. 890. 457. 919. 484. 351. 442. 810. 363. 884. 412.\n",
      " 923. 526. 318. 420. 359.  11.  54. 142. 377. 140. 879. 483. 795. 806.\n",
      " 579. 111. 485. 301. 603. 218. 852. 141. 958. 314. 826. 732. 652. 430.\n",
      " 540. 550. 171. 251. 283. 920. 190. 214. 524. 711. 246.  36. 243. 552.\n",
      " 302. 731. 319.  34. 747. 353. 802. 945. 310. 838. 870. 568. 196. 369.\n",
      " 622. 572. 474. 336. 343. 358. 210. 220. 822. 694. 464. 175. 463. 848.\n",
      "  99. 769. 259. 209. 519. 576. 853.  47. 212. 136. 955. 640. 594. 814.\n",
      " 734. 320.  31. 944. 877. 229. 292. 948. 567. 312. 227. 231. 964. 317.\n",
      " 253. 184. 235. 337. 217. 398. 894. 648. 972. 897. 148. 614. 841. 460.\n",
      " 745. 977. 376. 989. 624. 258. 476. 158. 221. 990. 866. 869. 405. 930.\n",
      " 226. 385. 149. 480. 921. 452. 448. 170. 970. 145. 187. 147.  94. 942.\n",
      " 262. 751. 872. 828. 529. 360. 655. 367. 935. 953. 322. 893. 270. 349.\n",
      " 913. 967. 582. 693. 933. 271. 809. 580. 759. 850. 117. 163. 617. 931.\n",
      " 223. 680. 566. 525. 306. 943. 650. 985. 213. 160. 742. 222.  98. 797.\n",
      " 194. 522. 417. 758. 876. 133. 914. 656. 851. 927. 341. 798. 952. 541.\n",
      " 697. 152. 323. 334. 916. 115. 144. 501. 880. 743. 230. 750. 965. 543.\n",
      " 570. 208. 928. 969. 754. 992. 642. 832. 324. 605. 186. 909. 308. 905.\n",
      " 521. 915. 900. 632. 206. 886. 587. 896. 581. 219. 752. 941. 801. 755.\n",
      " 131. 159. 712. 833. 215.  39. 261. 143. 800. 619. 991. 651. 865. 339.\n",
      " 934. 803. 176. 994. 867.   3. 949. 966. 834. 911. 347. 387. 962. 827.\n",
      " 861. 164. 645. 818. 741. 871. 939. 513. 646. 495.  77. 114. 878. 658.\n",
      " 534. 874. 811. 863.  91. 875. 912. 138. 523. 685. 615. 862. 938. 508.\n",
      " 956. 589. 895. 315. 748. 771. 234. 649.  52. 644. 606. 325. 628. 683.\n",
      " 629. 352. 641. 634.   4.   5. 946. 475. 637. 980.   7. 904.  57.  27.\n",
      " 770. 968. 313. 669. 517. 885. 260. 506.  40. 654. 192. 130. 659. 987.\n",
      " 868.  35. 674. 963. 932. 551.  45.  90. 936. 132. 671. 768. 837.  82.\n",
      "  74. 906. 864. 500. 993. 744. 940. 663. 249. 986.  17.  75. 321. 633.\n",
      " 542. 660. 947.  72. 902. 116. 445. 207. 804. 817. 830. 265. 643. 760.\n",
      " 391. 779. 653. 264.   6. 984. 908. 129. 676. 957. 127. 635.  49. 422.\n",
      "  93. 664. 657. 767. 393. 983. 104. 975. 960.  15. 661. 647. 330. 971.\n",
      " 639. 903. 673. 390.  61. 520. 937. 982. 502. 887. 134. 665. 631. 667.\n",
      "   1. 123. 961. 988. 976.   2.  56. 929. 925. 951.  33. 666. 128. 974.\n",
      " 254. 505. 392. 675. 775.  51. 126. 122.  96.]\n"
     ]
    }
   ],
   "source": [
    "print (onlynumbers.CAR_LINE_ICD9_DGNS_CD.unique())"
   ]
  },
  {
   "cell_type": "markdown",
   "metadata": {},
   "source": [
    "- - -\n",
    "\n",
    "## Ok, those are numbers, so I can find the ones in the ICD9 code range I want \n",
    "\n",
    "> Let's get the ICD codes between 580 & 629 (from [this reference](https://www.dropbox.com/s/z4xqytytdppjuzw/2010_BSA_Carrier_Line_Items_PUF_DataDic.pdf?dl=0))\n"
   ]
  },
  {
   "cell_type": "code",
   "execution_count": 10,
   "metadata": {},
   "outputs": [
    {
     "name": "stdout",
     "output_type": "stream",
     "text": [
      "[592. 585. 596. 618. 599. 600. 627. 584. 616. 588. 593. 625. 611. 586.\n",
      " 598. 595. 597. 602. 604. 620. 607. 610. 623. 608. 601. 590. 583. 591.\n",
      " 626. 621. 603. 622. 594. 614. 624. 582. 580. 617. 605. 587. 581. 619.\n",
      " 615. 589. 606. 628. 629.]\n"
     ]
    }
   ],
   "source": [
    "uticodes = onlynumbers.loc[\n",
    "    # match anything between \n",
    "    onlynumbers.CAR_LINE_ICD9_DGNS_CD.between(580,629)\n",
    "    ,:]    \n",
    "print (uticodes.CAR_LINE_ICD9_DGNS_CD.unique())"
   ]
  },
  {
   "cell_type": "code",
   "execution_count": 12,
   "metadata": {},
   "outputs": [
    {
     "name": "stdout",
     "output_type": "stream",
     "text": [
      "5.695647343713726 percent of dataset are *Diseases of the Urinary Tract System* \n"
     ]
    }
   ],
   "source": [
    "print (\"{} percent of dataset are *Diseases of the Urinary Tract System* \".format((uticodes.shape[0]/df.shape[0])*100))"
   ]
  },
  {
   "cell_type": "code",
   "execution_count": 14,
   "metadata": {},
   "outputs": [],
   "source": [
    "uticodes.to_csv('/home/jupyter/data/2008_genitourinary_beneficiaries.csv', index=None)"
   ]
  },
  {
   "cell_type": "markdown",
   "metadata": {},
   "source": [
    "## So how let's look at the distribution of these diagnoses across the various types of healthcare clinics\n",
    "\n"
   ]
  },
  {
   "cell_type": "code",
   "execution_count": null,
   "metadata": {},
   "outputs": [],
   "source": [
    "solo_hcp = uticodes.loc[uticodes.CAR_LINE_PRVDR_TYPE_CD == 1,:]\n",
    "small_clinic = uticodes.loc[uticodes.CAR_LINE_PRVDR_TYPE_CD == 0,:]\n",
    "hospital = uticodes.loc[uticodes.CAR_LINE_PRVDR_TYPE_CD == 3,:]\n",
    "large_clinic = uticodes.loc[uticodes.CAR_LINE_PRVDR_TYPE_CD == 5,:]"
   ]
  },
  {
   "cell_type": "code",
   "execution_count": null,
   "metadata": {},
   "outputs": [],
   "source": [
    "small_clinic.CAR_LINE_PRVDR_TYPE_CD.value_counts()"
   ]
  },
  {
   "cell_type": "code",
   "execution_count": null,
   "metadata": {},
   "outputs": [],
   "source": [
    "uticodes.CAR_LINE_PRVDR_TYPE_CD.value_counts()"
   ]
  },
  {
   "cell_type": "code",
   "execution_count": null,
   "metadata": {},
   "outputs": [],
   "source": [
    "sns.set(font_scale=1.4)\n",
    "uticodes.CAR_LINE_PRVDR_TYPE_CD.value_counts().plot(kind='bar', figsize=(7, 6), rot=0)\n",
    "plt.xlabel(\"Type of Healthcare Provider\", labelpad=14)\n",
    "plt.ylabel(\"Patients with GENITOURINARY diagnoses\", labelpad=14)\n",
    "plt.title(\"GENITOURINARY diagnoses, by Type of Provider\", y=1.02)"
   ]
  },
  {
   "cell_type": "code",
   "execution_count": null,
   "metadata": {},
   "outputs": [],
   "source": [
    "uticodes.CAR_LINE_ICD9_DGNS_CD.nunique()"
   ]
  },
  {
   "cell_type": "code",
   "execution_count": null,
   "metadata": {},
   "outputs": [],
   "source": [
    "sns.set(font_scale=1.4)\n",
    "uticodes.CAR_LINE_ICD9_DGNS_CD.value_counts().plot(kind='barh', figsize=(6, 18), rot=0);\n",
    "plt.ylabel(\"GENITOURINARY ICD-9 code\", labelpad=14)\n",
    "plt.xlabel(\"Patients with GENITOURINARY diagnoses\", labelpad=14)\n",
    "plt.title(\"Total Count of GENITOURINARY diagnoses from \", y=1.02);"
   ]
  },
  {
   "cell_type": "markdown",
   "metadata": {},
   "source": [
    "### Ok, very well\n",
    "\n",
    "> **Next Steps**: Get a Lookup Table of the ICD-9 codes listed above\n",
    "\n",
    "- - -"
   ]
  },
  {
   "cell_type": "code",
   "execution_count": null,
   "metadata": {},
   "outputs": [],
   "source": [
    "genitourinary = pd.read_csv('gs://datacamp-202518.appspot.com/data/claims/beneficiary/genitourinary-icd_codes.csv')\n",
    "genitourinary.dtypes"
   ]
  },
  {
   "cell_type": "code",
   "execution_count": null,
   "metadata": {},
   "outputs": [],
   "source": [
    "uticodes.dtypes"
   ]
  },
  {
   "cell_type": "code",
   "execution_count": null,
   "metadata": {},
   "outputs": [],
   "source": [
    "genitourinary.CAR_LINE_ICD9_DGNS_CD.nunique()"
   ]
  },
  {
   "cell_type": "code",
   "execution_count": null,
   "metadata": {},
   "outputs": [],
   "source": [
    "uticodes.CAR_LINE_ICD9_DGNS_CD.nunique()"
   ]
  },
  {
   "cell_type": "code",
   "execution_count": null,
   "metadata": {},
   "outputs": [],
   "source": [
    "graph = pd.merge(uticodes,genitourinary, on='CAR_LINE_ICD9_DGNS_CD', how='outer')"
   ]
  },
  {
   "cell_type": "code",
   "execution_count": null,
   "metadata": {},
   "outputs": [],
   "source": [
    "sns.set(font_scale=1.4)\n",
    "graph.DIAGNOSIS_DESCRIPTION.value_counts().plot(kind='barh', figsize=(12, 22), rot=0);\n",
    "# plt.ylabel(\"GENITOURINARY diagnosis\", labelpad=14)\n",
    "plt.xlabel(\"Number of Patients with GENITOURINARY diagnoses\\n (ICD-9 codes 580-629)\", labelpad=14)\n",
    "# plt.title(\"Diagnosis count of GENITOURINARY diseases\", y=1.02);"
   ]
  },
  {
   "cell_type": "code",
   "execution_count": null,
   "metadata": {},
   "outputs": [],
   "source": [
    "sns.set(font_scale=1.4)\n",
    "uticodes.BENE_AGE_CAT_CD.value_counts().plot(kind='bar', figsize=(7, 6), rot=0)\n",
    "plt.xlabel(\"Age bracket\", labelpad=14)\n",
    "plt.ylabel(\"No. Patients with GENITOURINARY diagnoses\", labelpad=14)\n",
    "plt.title(\"GENITOURINARY diagnoses, by Age of Patient\", y=1.2)"
   ]
  },
  {
   "cell_type": "code",
   "execution_count": null,
   "metadata": {},
   "outputs": [],
   "source": []
  }
 ],
 "metadata": {
  "environment": {
   "name": "common-cpu.m46",
   "type": "gcloud",
   "uri": "gcr.io/deeplearning-platform-release/base-cpu:m46"
  },
  "kernelspec": {
   "display_name": "Python 3",
   "language": "python",
   "name": "python3"
  },
  "language_info": {
   "codemirror_mode": {
    "name": "ipython",
    "version": 3
   },
   "file_extension": ".py",
   "mimetype": "text/x-python",
   "name": "python",
   "nbconvert_exporter": "python",
   "pygments_lexer": "ipython3",
   "version": "3.7.6"
  }
 },
 "nbformat": 4,
 "nbformat_minor": 4
}
