{
 "cells": [
  {
   "cell_type": "code",
   "execution_count": 1,
   "metadata": {},
   "outputs": [],
   "source": [
    "import pandas as pd\n",
    "import numpy as np"
   ]
  },
  {
   "cell_type": "code",
   "execution_count": 2,
   "metadata": {},
   "outputs": [
    {
     "name": "stderr",
     "output_type": "stream",
     "text": [
      "/opt/conda/lib/python3.7/site-packages/IPython/core/interactiveshell.py:3063: DtypeWarning: Columns (2) have mixed types.Specify dtype option on import or set low_memory=False.\n",
      "  interactivity=interactivity, compiler=compiler, result=result)\n"
     ]
    }
   ],
   "source": [
    "# read full dataframe\n",
    "df = pd.read_csv('gs://datacamp-202518.appspot.com/data/claims/beneficiary/2010_Basic_Stand_Alone_Carrier_Line_Items_PUF.csv')"
   ]
  },
  {
   "cell_type": "code",
   "execution_count": 3,
   "metadata": {},
   "outputs": [
    {
     "data": {
      "text/plain": [
       "(2801660, 11)"
      ]
     },
     "execution_count": 3,
     "metadata": {},
     "output_type": "execute_result"
    }
   ],
   "source": [
    "df.shape"
   ]
  },
  {
   "cell_type": "code",
   "execution_count": 4,
   "metadata": {},
   "outputs": [
    {
     "data": {
      "text/plain": [
       "BENE_SEX_IDENT_CD               2\n",
       "BENE_AGE_CAT_CD                 6\n",
       "CAR_LINE_ICD9_DGNS_CD        1233\n",
       "CAR_LINE_HCPCS_CD            4900\n",
       "CAR_LINE_BETOS_CD              98\n",
       "CAR_LINE_SRVC_CNT             167\n",
       "CAR_LINE_PRVDR_TYPE_CD          6\n",
       "CAR_LINE_CMS_TYPE_SRVC_CD      20\n",
       "CAR_LINE_PLACE_OF_SRVC_CD      28\n",
       "CAR_HCPS_PMT_AMT               80\n",
       "CAR_LINE_CNT                 4542\n",
       "dtype: int64"
      ]
     },
     "execution_count": 4,
     "metadata": {},
     "output_type": "execute_result"
    }
   ],
   "source": [
    "df.nunique()"
   ]
  },
  {
   "cell_type": "code",
   "execution_count": 5,
   "metadata": {},
   "outputs": [
    {
     "data": {
      "text/plain": [
       "BENE_SEX_IDENT_CD             int64\n",
       "BENE_AGE_CAT_CD               int64\n",
       "CAR_LINE_ICD9_DGNS_CD        object\n",
       "CAR_LINE_HCPCS_CD            object\n",
       "CAR_LINE_BETOS_CD            object\n",
       "CAR_LINE_SRVC_CNT             int64\n",
       "CAR_LINE_PRVDR_TYPE_CD        int64\n",
       "CAR_LINE_CMS_TYPE_SRVC_CD    object\n",
       "CAR_LINE_PLACE_OF_SRVC_CD     int64\n",
       "CAR_HCPS_PMT_AMT              int64\n",
       "CAR_LINE_CNT                  int64\n",
       "dtype: object"
      ]
     },
     "execution_count": 5,
     "metadata": {},
     "output_type": "execute_result"
    }
   ],
   "source": [
    "df.dtypes"
   ]
  },
  {
   "cell_type": "code",
   "execution_count": 6,
   "metadata": {},
   "outputs": [
    {
     "data": {
      "text/html": [
       "<div>\n",
       "<style scoped>\n",
       "    .dataframe tbody tr th:only-of-type {\n",
       "        vertical-align: middle;\n",
       "    }\n",
       "\n",
       "    .dataframe tbody tr th {\n",
       "        vertical-align: top;\n",
       "    }\n",
       "\n",
       "    .dataframe thead th {\n",
       "        text-align: right;\n",
       "    }\n",
       "</style>\n",
       "<table border=\"1\" class=\"dataframe\">\n",
       "  <thead>\n",
       "    <tr style=\"text-align: right;\">\n",
       "      <th></th>\n",
       "      <th>BENE_SEX_IDENT_CD</th>\n",
       "      <th>BENE_AGE_CAT_CD</th>\n",
       "      <th>CAR_LINE_ICD9_DGNS_CD</th>\n",
       "      <th>CAR_LINE_HCPCS_CD</th>\n",
       "      <th>CAR_LINE_BETOS_CD</th>\n",
       "      <th>CAR_LINE_SRVC_CNT</th>\n",
       "      <th>CAR_LINE_PRVDR_TYPE_CD</th>\n",
       "      <th>CAR_LINE_CMS_TYPE_SRVC_CD</th>\n",
       "      <th>CAR_LINE_PLACE_OF_SRVC_CD</th>\n",
       "      <th>CAR_HCPS_PMT_AMT</th>\n",
       "      <th>CAR_LINE_CNT</th>\n",
       "    </tr>\n",
       "  </thead>\n",
       "  <tbody>\n",
       "    <tr>\n",
       "      <th>0</th>\n",
       "      <td>1</td>\n",
       "      <td>1</td>\n",
       "      <td>NaN</td>\n",
       "      <td>99213</td>\n",
       "      <td>M1B</td>\n",
       "      <td>1</td>\n",
       "      <td>1</td>\n",
       "      <td>1</td>\n",
       "      <td>11</td>\n",
       "      <td>55</td>\n",
       "      <td>2</td>\n",
       "    </tr>\n",
       "    <tr>\n",
       "      <th>1</th>\n",
       "      <td>1</td>\n",
       "      <td>1</td>\n",
       "      <td>NaN</td>\n",
       "      <td>A0425</td>\n",
       "      <td>O1A</td>\n",
       "      <td>1</td>\n",
       "      <td>3</td>\n",
       "      <td>D</td>\n",
       "      <td>41</td>\n",
       "      <td>5</td>\n",
       "      <td>46</td>\n",
       "    </tr>\n",
       "    <tr>\n",
       "      <th>2</th>\n",
       "      <td>1</td>\n",
       "      <td>1</td>\n",
       "      <td>NaN</td>\n",
       "      <td>A0425</td>\n",
       "      <td>O1A</td>\n",
       "      <td>1</td>\n",
       "      <td>3</td>\n",
       "      <td>D</td>\n",
       "      <td>41</td>\n",
       "      <td>10</td>\n",
       "      <td>47</td>\n",
       "    </tr>\n",
       "    <tr>\n",
       "      <th>3</th>\n",
       "      <td>1</td>\n",
       "      <td>1</td>\n",
       "      <td>NaN</td>\n",
       "      <td>A0425</td>\n",
       "      <td>O1A</td>\n",
       "      <td>2</td>\n",
       "      <td>3</td>\n",
       "      <td>D</td>\n",
       "      <td>41</td>\n",
       "      <td>10</td>\n",
       "      <td>363</td>\n",
       "    </tr>\n",
       "    <tr>\n",
       "      <th>4</th>\n",
       "      <td>1</td>\n",
       "      <td>1</td>\n",
       "      <td>NaN</td>\n",
       "      <td>A0425</td>\n",
       "      <td>O1A</td>\n",
       "      <td>2</td>\n",
       "      <td>3</td>\n",
       "      <td>D</td>\n",
       "      <td>41</td>\n",
       "      <td>15</td>\n",
       "      <td>12</td>\n",
       "    </tr>\n",
       "    <tr>\n",
       "      <th>...</th>\n",
       "      <td>...</td>\n",
       "      <td>...</td>\n",
       "      <td>...</td>\n",
       "      <td>...</td>\n",
       "      <td>...</td>\n",
       "      <td>...</td>\n",
       "      <td>...</td>\n",
       "      <td>...</td>\n",
       "      <td>...</td>\n",
       "      <td>...</td>\n",
       "      <td>...</td>\n",
       "    </tr>\n",
       "    <tr>\n",
       "      <th>2801655</th>\n",
       "      <td>2</td>\n",
       "      <td>6</td>\n",
       "      <td>V82</td>\n",
       "      <td>99213</td>\n",
       "      <td>M1B</td>\n",
       "      <td>1</td>\n",
       "      <td>1</td>\n",
       "      <td>1</td>\n",
       "      <td>11</td>\n",
       "      <td>55</td>\n",
       "      <td>1</td>\n",
       "    </tr>\n",
       "    <tr>\n",
       "      <th>2801656</th>\n",
       "      <td>2</td>\n",
       "      <td>6</td>\n",
       "      <td>V82</td>\n",
       "      <td>A0429</td>\n",
       "      <td>O1A</td>\n",
       "      <td>1</td>\n",
       "      <td>3</td>\n",
       "      <td>D</td>\n",
       "      <td>41</td>\n",
       "      <td>275</td>\n",
       "      <td>7</td>\n",
       "    </tr>\n",
       "    <tr>\n",
       "      <th>2801657</th>\n",
       "      <td>2</td>\n",
       "      <td>6</td>\n",
       "      <td>V82</td>\n",
       "      <td>G0328</td>\n",
       "      <td>T1H</td>\n",
       "      <td>1</td>\n",
       "      <td>1</td>\n",
       "      <td>5</td>\n",
       "      <td>11</td>\n",
       "      <td>25</td>\n",
       "      <td>8</td>\n",
       "    </tr>\n",
       "    <tr>\n",
       "      <th>2801658</th>\n",
       "      <td>2</td>\n",
       "      <td>6</td>\n",
       "      <td>V86</td>\n",
       "      <td>80053</td>\n",
       "      <td>T1B</td>\n",
       "      <td>1</td>\n",
       "      <td>5</td>\n",
       "      <td>5</td>\n",
       "      <td>81</td>\n",
       "      <td>15</td>\n",
       "      <td>1</td>\n",
       "    </tr>\n",
       "    <tr>\n",
       "      <th>2801659</th>\n",
       "      <td>2</td>\n",
       "      <td>6</td>\n",
       "      <td>V88</td>\n",
       "      <td>76856</td>\n",
       "      <td>I3B</td>\n",
       "      <td>1</td>\n",
       "      <td>1</td>\n",
       "      <td>4</td>\n",
       "      <td>22</td>\n",
       "      <td>30</td>\n",
       "      <td>2</td>\n",
       "    </tr>\n",
       "  </tbody>\n",
       "</table>\n",
       "<p>2801660 rows × 11 columns</p>\n",
       "</div>"
      ],
      "text/plain": [
       "         BENE_SEX_IDENT_CD  BENE_AGE_CAT_CD CAR_LINE_ICD9_DGNS_CD  \\\n",
       "0                        1                1                   NaN   \n",
       "1                        1                1                   NaN   \n",
       "2                        1                1                   NaN   \n",
       "3                        1                1                   NaN   \n",
       "4                        1                1                   NaN   \n",
       "...                    ...              ...                   ...   \n",
       "2801655                  2                6                   V82   \n",
       "2801656                  2                6                   V82   \n",
       "2801657                  2                6                   V82   \n",
       "2801658                  2                6                   V86   \n",
       "2801659                  2                6                   V88   \n",
       "\n",
       "        CAR_LINE_HCPCS_CD CAR_LINE_BETOS_CD  CAR_LINE_SRVC_CNT  \\\n",
       "0                   99213               M1B                  1   \n",
       "1                   A0425               O1A                  1   \n",
       "2                   A0425               O1A                  1   \n",
       "3                   A0425               O1A                  2   \n",
       "4                   A0425               O1A                  2   \n",
       "...                   ...               ...                ...   \n",
       "2801655             99213               M1B                  1   \n",
       "2801656             A0429               O1A                  1   \n",
       "2801657             G0328               T1H                  1   \n",
       "2801658             80053               T1B                  1   \n",
       "2801659             76856               I3B                  1   \n",
       "\n",
       "         CAR_LINE_PRVDR_TYPE_CD CAR_LINE_CMS_TYPE_SRVC_CD  \\\n",
       "0                             1                         1   \n",
       "1                             3                         D   \n",
       "2                             3                         D   \n",
       "3                             3                         D   \n",
       "4                             3                         D   \n",
       "...                         ...                       ...   \n",
       "2801655                       1                         1   \n",
       "2801656                       3                         D   \n",
       "2801657                       1                         5   \n",
       "2801658                       5                         5   \n",
       "2801659                       1                         4   \n",
       "\n",
       "         CAR_LINE_PLACE_OF_SRVC_CD  CAR_HCPS_PMT_AMT  CAR_LINE_CNT  \n",
       "0                               11                55             2  \n",
       "1                               41                 5            46  \n",
       "2                               41                10            47  \n",
       "3                               41                10           363  \n",
       "4                               41                15            12  \n",
       "...                            ...               ...           ...  \n",
       "2801655                         11                55             1  \n",
       "2801656                         41               275             7  \n",
       "2801657                         11                25             8  \n",
       "2801658                         81                15             1  \n",
       "2801659                         22                30             2  \n",
       "\n",
       "[2801660 rows x 11 columns]"
      ]
     },
     "execution_count": 6,
     "metadata": {},
     "output_type": "execute_result"
    }
   ],
   "source": [
    "df"
   ]
  },
  {
   "cell_type": "code",
   "execution_count": 7,
   "metadata": {},
   "outputs": [],
   "source": [
    "icds = (df.CAR_LINE_ICD9_DGNS_CD.unique())\n",
    "s = pd.Series(icds)\n",
    "s.to_csv('/home/jupyter/data/cms/icds.csv',header=None, index=None)"
   ]
  },
  {
   "cell_type": "markdown",
   "metadata": {},
   "source": [
    "- - -\n",
    "\n",
    "## At this point I think I should strip out the letters from the ICD codes\n",
    "\n",
    "+ **V** codes are \"Factors influencing health status and contact with health services\"\n",
    "+ Not sure what **E** codes are\n",
    "\n",
    "> so this will be an exercise in filtering variables from the dataframe"
   ]
  },
  {
   "cell_type": "code",
   "execution_count": 8,
   "metadata": {},
   "outputs": [
    {
     "data": {
      "text/html": [
       "<div>\n",
       "<style scoped>\n",
       "    .dataframe tbody tr th:only-of-type {\n",
       "        vertical-align: middle;\n",
       "    }\n",
       "\n",
       "    .dataframe tbody tr th {\n",
       "        vertical-align: top;\n",
       "    }\n",
       "\n",
       "    .dataframe thead th {\n",
       "        text-align: right;\n",
       "    }\n",
       "</style>\n",
       "<table border=\"1\" class=\"dataframe\">\n",
       "  <thead>\n",
       "    <tr style=\"text-align: right;\">\n",
       "      <th></th>\n",
       "      <th>first_name</th>\n",
       "      <th>nationality</th>\n",
       "      <th>age</th>\n",
       "    </tr>\n",
       "  </thead>\n",
       "  <tbody>\n",
       "    <tr>\n",
       "      <th>0</th>\n",
       "      <td>Jason</td>\n",
       "      <td>USA</td>\n",
       "      <td>42</td>\n",
       "    </tr>\n",
       "    <tr>\n",
       "      <th>1</th>\n",
       "      <td>Molly</td>\n",
       "      <td>USA</td>\n",
       "      <td>52</td>\n",
       "    </tr>\n",
       "    <tr>\n",
       "      <th>2</th>\n",
       "      <td>NaN</td>\n",
       "      <td>France</td>\n",
       "      <td>36</td>\n",
       "    </tr>\n",
       "    <tr>\n",
       "      <th>3</th>\n",
       "      <td>NaN</td>\n",
       "      <td>UK</td>\n",
       "      <td>24</td>\n",
       "    </tr>\n",
       "    <tr>\n",
       "      <th>4</th>\n",
       "      <td>NaN</td>\n",
       "      <td>UK</td>\n",
       "      <td>70</td>\n",
       "    </tr>\n",
       "  </tbody>\n",
       "</table>\n",
       "</div>"
      ],
      "text/plain": [
       "  first_name nationality  age\n",
       "0      Jason         USA   42\n",
       "1      Molly         USA   52\n",
       "2        NaN      France   36\n",
       "3        NaN          UK   24\n",
       "4        NaN          UK   70"
      ]
     },
     "execution_count": 8,
     "metadata": {},
     "output_type": "execute_result"
    }
   ],
   "source": [
    "# first, figure out how to exclude patterns from a pandas selection\n",
    "\n",
    "raw_data = {'first_name': ['Jason', 'Molly', np.nan, np.nan, np.nan], \n",
    "        'nationality': ['USA', 'USA', 'France', 'UK', 'UK'], \n",
    "        'age': [42, 52, 36, 24, 70]}\n",
    "test = pd.DataFrame(raw_data, columns = ['first_name', 'nationality', 'age'])\n",
    "test"
   ]
  },
  {
   "cell_type": "code",
   "execution_count": 9,
   "metadata": {},
   "outputs": [
    {
     "data": {
      "text/html": [
       "<div>\n",
       "<style scoped>\n",
       "    .dataframe tbody tr th:only-of-type {\n",
       "        vertical-align: middle;\n",
       "    }\n",
       "\n",
       "    .dataframe tbody tr th {\n",
       "        vertical-align: top;\n",
       "    }\n",
       "\n",
       "    .dataframe thead th {\n",
       "        text-align: right;\n",
       "    }\n",
       "</style>\n",
       "<table border=\"1\" class=\"dataframe\">\n",
       "  <thead>\n",
       "    <tr style=\"text-align: right;\">\n",
       "      <th></th>\n",
       "      <th>first_name</th>\n",
       "      <th>nationality</th>\n",
       "      <th>age</th>\n",
       "    </tr>\n",
       "  </thead>\n",
       "  <tbody>\n",
       "    <tr>\n",
       "      <th>0</th>\n",
       "      <td>Jason</td>\n",
       "      <td>USA</td>\n",
       "      <td>42</td>\n",
       "    </tr>\n",
       "    <tr>\n",
       "      <th>1</th>\n",
       "      <td>Molly</td>\n",
       "      <td>USA</td>\n",
       "      <td>52</td>\n",
       "    </tr>\n",
       "  </tbody>\n",
       "</table>\n",
       "</div>"
      ],
      "text/plain": [
       "  first_name nationality  age\n",
       "0      Jason         USA   42\n",
       "1      Molly         USA   52"
      ]
     },
     "execution_count": 9,
     "metadata": {},
     "output_type": "execute_result"
    }
   ],
   "source": [
    "# this seems like a compact way to do it\n",
    "\n",
    "search_values = ['UK','France']\n",
    "rand = test[~test.nationality.str.contains('|'.join(search_values))]\n",
    "rand"
   ]
  },
  {
   "cell_type": "code",
   "execution_count": 10,
   "metadata": {},
   "outputs": [
    {
     "data": {
      "text/html": [
       "<div>\n",
       "<style scoped>\n",
       "    .dataframe tbody tr th:only-of-type {\n",
       "        vertical-align: middle;\n",
       "    }\n",
       "\n",
       "    .dataframe tbody tr th {\n",
       "        vertical-align: top;\n",
       "    }\n",
       "\n",
       "    .dataframe thead th {\n",
       "        text-align: right;\n",
       "    }\n",
       "</style>\n",
       "<table border=\"1\" class=\"dataframe\">\n",
       "  <thead>\n",
       "    <tr style=\"text-align: right;\">\n",
       "      <th></th>\n",
       "      <th>first_name</th>\n",
       "      <th>nationality</th>\n",
       "      <th>age</th>\n",
       "    </tr>\n",
       "  </thead>\n",
       "  <tbody>\n",
       "    <tr>\n",
       "      <th>0</th>\n",
       "      <td>Jason</td>\n",
       "      <td>USA</td>\n",
       "      <td>42</td>\n",
       "    </tr>\n",
       "    <tr>\n",
       "      <th>1</th>\n",
       "      <td>Molly</td>\n",
       "      <td>USA</td>\n",
       "      <td>52</td>\n",
       "    </tr>\n",
       "  </tbody>\n",
       "</table>\n",
       "</div>"
      ],
      "text/plain": [
       "  first_name nationality  age\n",
       "0      Jason         USA   42\n",
       "1      Molly         USA   52"
      ]
     },
     "execution_count": 10,
     "metadata": {},
     "output_type": "execute_result"
    }
   ],
   "source": [
    "# let me also try this using that **df.loc** way of 'slicing' a dataframe\n",
    "# ... which I DO NOT UNDERSTAND !!\n",
    "\n",
    "rand2 = test.loc[\n",
    "    # the tilde mean 'not contains'\n",
    "    ~test.nationality.str.contains('|'.join(search_values))\n",
    "]\n",
    "rand2"
   ]
  },
  {
   "cell_type": "markdown",
   "metadata": {},
   "source": [
    "**⟰ Ok, nice! Now can filter out the \"V\" and \"E\" ICD codes:**\n",
    "\n",
    "- - -"
   ]
  },
  {
   "cell_type": "code",
   "execution_count": 11,
   "metadata": {},
   "outputs": [],
   "source": [
    "letter_codes = ['V','E']\n",
    "onlynumbers = df.loc[\n",
    "    # match anything that does not have \"V\" or \"E\" codes\n",
    "    ~df.CAR_LINE_ICD9_DGNS_CD.str.contains('|'.join(letter_codes), na=False)\n",
    "    ,:]"
   ]
  },
  {
   "cell_type": "code",
   "execution_count": 12,
   "metadata": {},
   "outputs": [
    {
     "name": "stdout",
     "output_type": "stream",
     "text": [
      "object\n"
     ]
    }
   ],
   "source": [
    "# check whether those numbers are actually numbers\n",
    "print (onlynumbers.CAR_LINE_ICD9_DGNS_CD.dtypes)"
   ]
  },
  {
   "cell_type": "code",
   "execution_count": 13,
   "metadata": {},
   "outputs": [
    {
     "name": "stderr",
     "output_type": "stream",
     "text": [
      "/opt/conda/lib/python3.7/site-packages/pandas/core/indexing.py:966: SettingWithCopyWarning: \n",
      "A value is trying to be set on a copy of a slice from a DataFrame.\n",
      "Try using .loc[row_indexer,col_indexer] = value instead\n",
      "\n",
      "See the caveats in the documentation: https://pandas.pydata.org/pandas-docs/stable/user_guide/indexing.html#returning-a-view-versus-a-copy\n",
      "  self.obj[item] = s\n"
     ]
    }
   ],
   "source": [
    "# Ok, not a number yet.\n",
    "onlynumbers.loc[:, \"CAR_LINE_ICD9_DGNS_CD\"] = onlynumbers.loc[:, \"CAR_LINE_ICD9_DGNS_CD\"].apply(pd.to_numeric, errors = 'coerce')"
   ]
  },
  {
   "cell_type": "code",
   "execution_count": 14,
   "metadata": {},
   "outputs": [
    {
     "name": "stdout",
     "output_type": "stream",
     "text": [
      "float64\n"
     ]
    }
   ],
   "source": [
    "# did that change it?\n",
    "print (onlynumbers.CAR_LINE_ICD9_DGNS_CD.dtypes)"
   ]
  },
  {
   "cell_type": "code",
   "execution_count": 15,
   "metadata": {},
   "outputs": [
    {
     "name": "stdout",
     "output_type": "stream",
     "text": [
      "[ nan   3.   5.   7.   8.   9.  11.  15.  31.  34.  35.  36.  38.  39.\n",
      "  40.  41.  42.  45.  47.  49.  52.  53.  54.  57.  61.  66.  70.  74.\n",
      "  75.  77.  78.  79.  82.  83.  87.  88.  90.  91.  94.  97.  98.  99.\n",
      " 110. 111. 112. 114. 115. 116. 117. 123. 126. 130. 131. 132. 133. 134.\n",
      " 135. 136. 137. 138. 140. 141. 142. 143. 144. 145. 146. 147. 148. 149.\n",
      " 150. 151. 152. 153. 154. 155. 156. 157. 158. 159. 160. 161. 162. 163.\n",
      " 164. 170. 171. 172. 173. 175. 176. 185. 186. 187. 188. 189. 190. 191.\n",
      " 192. 193. 194. 195. 196. 197. 198. 199. 200. 201. 202. 203. 204. 205.\n",
      " 206. 207. 208. 209. 210. 211. 212. 213. 214. 215. 216. 217. 222. 223.\n",
      " 224. 225. 226. 227. 228. 229. 230. 231. 232. 233. 235. 236. 237. 238.\n",
      " 239. 240. 241. 242. 243. 244. 245. 246. 249. 250. 251. 252. 253. 255.\n",
      " 257. 258. 259. 260. 261. 262. 263. 264. 265. 266. 267. 268. 269. 270.\n",
      " 271. 272. 273. 274. 275. 276. 277. 278. 279. 280. 281. 282. 283. 284.\n",
      " 285. 286. 287. 288. 289. 290. 291. 292. 293. 294. 295. 296. 297. 298.\n",
      " 299. 300. 301. 302. 303. 304. 305. 306. 307. 308. 309. 310. 311. 312.\n",
      " 313. 314. 315. 316. 317. 318. 319. 320. 321. 322. 323. 324. 325. 327.\n",
      " 330. 331. 332. 333. 334. 335. 336. 337. 338. 339. 340. 341. 342. 343.\n",
      " 344. 345. 346. 347. 348. 349. 350. 351. 352. 353. 354. 355. 356. 357.\n",
      " 358. 359. 360. 361. 362. 363. 364. 365. 366. 367. 368. 369. 370. 371.\n",
      " 372. 373. 374. 375. 376. 377. 378. 379. 380. 381. 382. 383. 384. 385.\n",
      " 386. 387. 388. 389. 391. 394. 395. 396. 397. 401. 402. 403. 404. 405.\n",
      " 410. 411. 412. 413. 414. 415. 416. 417. 420. 421. 422. 423. 424. 425.\n",
      " 426. 427. 428. 429. 430. 431. 432. 433. 434. 435. 436. 437. 438. 440.\n",
      " 441. 442. 443. 444. 445. 446. 447. 448. 451. 452. 453. 454. 455. 456.\n",
      " 457. 458. 459. 460. 461. 462. 463. 464. 465. 466. 470. 471. 472. 473.\n",
      " 474. 475. 476. 477. 478. 480. 481. 482. 483. 484. 485. 486. 487. 488.\n",
      " 490. 491. 492. 493. 494. 495. 496. 500. 501. 505. 506. 507. 508. 510.\n",
      " 511. 512. 513. 514. 515. 516. 517. 518. 519. 520. 521. 522. 523. 524.\n",
      " 525. 526. 527. 528. 529. 530. 531. 532. 533. 534. 535. 536. 537. 540.\n",
      " 541. 542. 543. 550. 551. 552. 553. 555. 556. 557. 558. 560. 562. 564.\n",
      " 565. 566. 567. 568. 569. 570. 571. 572. 573. 574. 575. 576. 577. 578.\n",
      " 579. 580. 581. 582. 583. 584. 585. 586. 587. 588. 589. 590. 591. 592.\n",
      " 593. 594. 595. 596. 597. 598. 599. 600. 601. 602. 603. 604. 605. 606.\n",
      " 607. 608. 610. 611. 616. 649. 680. 681. 682. 683. 684. 685. 686. 690.\n",
      " 691. 692. 693. 694. 695. 696. 697. 698. 700. 701. 702. 703. 704. 705.\n",
      " 706. 707. 708. 709. 710. 711. 712. 713. 714. 715. 716. 717. 718. 719.\n",
      " 720. 721. 722. 723. 724. 725. 726. 727. 728. 729. 730. 731. 732. 733.\n",
      " 734. 735. 736. 737. 738. 739. 741. 742. 743. 744. 745. 746. 747. 748.\n",
      " 750. 751. 752. 753. 754. 755. 756. 757. 758. 759. 760. 768. 769. 770.\n",
      " 780. 781. 782. 783. 784. 785. 786. 787. 788. 789. 790. 791. 792. 793.\n",
      " 794. 795. 796. 797. 798. 799. 800. 801. 802. 803. 804. 805. 806. 807.\n",
      " 808. 810. 811. 812. 813. 814. 815. 816. 817. 818. 820. 821. 822. 823.\n",
      " 824. 825. 826. 827. 828. 829. 830. 831. 832. 833. 834. 835. 836. 837.\n",
      " 838. 839. 840. 841. 842. 843. 844. 845. 846. 847. 848. 850. 851. 852.\n",
      " 853. 854. 860. 861. 862. 863. 864. 865. 866. 867. 868. 869. 870. 871.\n",
      " 872. 873. 874. 875. 876. 877. 878. 879. 880. 881. 882. 883. 884. 885.\n",
      " 886. 887. 890. 891. 892. 893. 894. 895. 896. 897. 900. 901. 902. 904.\n",
      " 905. 906. 907. 908. 909. 910. 911. 912. 913. 914. 915. 916. 917. 918.\n",
      " 919. 920. 921. 922. 923. 924. 925. 927. 928. 930. 931. 933. 934. 935.\n",
      " 936. 937. 938. 939. 940. 941. 942. 943. 944. 945. 946. 947. 948. 949.\n",
      " 952. 953. 955. 956. 957. 958. 959. 960. 962. 963. 964. 965. 966. 967.\n",
      " 968. 969. 970. 971. 972. 975. 977. 980. 982. 983. 984. 985. 986. 987.\n",
      " 989. 990. 991. 992. 993. 994. 995. 996. 997. 998. 999.   6.  17. 127.\n",
      " 129. 165. 234. 254. 393. 398. 502.   1. 174. 671. 903. 932. 767. 771.\n",
      " 809. 951.  27.  33.  46.  51.  72.  92.  95. 128. 179. 180. 182. 183.\n",
      " 184. 218. 219. 220. 221. 256. 390. 612. 614. 615. 617. 618. 619. 620.\n",
      " 621. 622. 623. 624. 625. 626. 627. 628. 629. 631. 632. 633. 634. 635.\n",
      " 637. 639. 640. 641. 642. 643. 644. 645. 646. 647. 648. 650. 651. 652.\n",
      " 653. 654. 655. 656. 657. 658. 659. 660. 661. 663. 664. 666. 667. 669.\n",
      " 670. 673. 674. 675. 676. 775. 974. 976.   4.  10.  93. 961.   2. 772.]\n"
     ]
    }
   ],
   "source": [
    "print (onlynumbers.CAR_LINE_ICD9_DGNS_CD.unique())"
   ]
  },
  {
   "cell_type": "markdown",
   "metadata": {},
   "source": [
    "- - -\n",
    "\n",
    "## Ok, those are numbers, so I can find the ones in the ICD9 code range I want \n",
    "\n",
    "> Let's get the ICD codes between 580 & 629 (from [this reference](https://www.dropbox.com/s/z4xqytytdppjuzw/2010_BSA_Carrier_Line_Items_PUF_DataDic.pdf?dl=0))\n",
    "\n",
    "![according to the variable keys](https://i.imgur.com/iwRboAbl.png)"
   ]
  },
  {
   "cell_type": "code",
   "execution_count": 16,
   "metadata": {},
   "outputs": [
    {
     "name": "stdout",
     "output_type": "stream",
     "text": [
      "[580. 581. 582. 583. 584. 585. 586. 587. 588. 589. 590. 591. 592. 593.\n",
      " 594. 595. 596. 597. 598. 599. 600. 601. 602. 603. 604. 605. 606. 607.\n",
      " 608. 610. 611. 616. 612. 614. 615. 617. 618. 619. 620. 621. 622. 623.\n",
      " 624. 625. 626. 627. 628. 629.]\n"
     ]
    }
   ],
   "source": [
    "uticodes = onlynumbers.loc[\n",
    "    # match anything between \n",
    "    onlynumbers.CAR_LINE_ICD9_DGNS_CD.between(580,629)\n",
    "    ,:]    \n",
    "print (uticodes.CAR_LINE_ICD9_DGNS_CD.unique())"
   ]
  },
  {
   "cell_type": "code",
   "execution_count": 17,
   "metadata": {},
   "outputs": [
    {
     "name": "stdout",
     "output_type": "stream",
     "text": [
      "5.79656346594519 percent of dataset are *Diseases of the Urinary Tract System* \n"
     ]
    }
   ],
   "source": [
    "print (\"{} percent of dataset are *Diseases of the Urinary Tract System* \".format((uticodes.shape[0]/df.shape[0])*100))"
   ]
  },
  {
   "cell_type": "markdown",
   "metadata": {},
   "source": [
    "## So how let's look at the distribution of these diagnoses across the various types\n",
    "\n",
    "![Types of clinics](https://i.imgur.com/grOsQC2l.png)"
   ]
  },
  {
   "cell_type": "code",
   "execution_count": null,
   "metadata": {},
   "outputs": [],
   "source": []
  },
  {
   "cell_type": "code",
   "execution_count": null,
   "metadata": {},
   "outputs": [],
   "source": []
  }
 ],
 "metadata": {
  "environment": {
   "name": "common-cpu.m46",
   "type": "gcloud",
   "uri": "gcr.io/deeplearning-platform-release/base-cpu:m46"
  },
  "kernelspec": {
   "display_name": "Python 3",
   "language": "python",
   "name": "python3"
  },
  "language_info": {
   "codemirror_mode": {
    "name": "ipython",
    "version": 3
   },
   "file_extension": ".py",
   "mimetype": "text/x-python",
   "name": "python",
   "nbconvert_exporter": "python",
   "pygments_lexer": "ipython3",
   "version": "3.7.6"
  }
 },
 "nbformat": 4,
 "nbformat_minor": 4
}
