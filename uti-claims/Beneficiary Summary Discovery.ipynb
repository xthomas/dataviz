{
 "cells": [
  {
   "cell_type": "code",
   "execution_count": 1,
   "metadata": {},
   "outputs": [],
   "source": [
    "import pandas as pd\n",
    "import numpy as np"
   ]
  },
  {
   "cell_type": "code",
   "execution_count": 2,
   "metadata": {},
   "outputs": [
    {
     "name": "stderr",
     "output_type": "stream",
     "text": [
      "/opt/conda/lib/python3.7/site-packages/IPython/core/interactiveshell.py:3063: DtypeWarning: Columns (2) have mixed types.Specify dtype option on import or set low_memory=False.\n",
      "  interactivity=interactivity, compiler=compiler, result=result)\n"
     ]
    }
   ],
   "source": [
    "# read full dataframe\n",
    "df = pd.read_csv('gs://datacamp-202518.appspot.com/data/claims/beneficiary/2010_Basic_Stand_Alone_Carrier_Line_Items_PUF.csv')"
   ]
  },
  {
   "cell_type": "code",
   "execution_count": 9,
   "metadata": {},
   "outputs": [
    {
     "data": {
      "text/plain": [
       "(2801660, 11)"
      ]
     },
     "execution_count": 9,
     "metadata": {},
     "output_type": "execute_result"
    }
   ],
   "source": [
    "df.shape"
   ]
  },
  {
   "cell_type": "code",
   "execution_count": 10,
   "metadata": {},
   "outputs": [
    {
     "data": {
      "text/plain": [
       "BENE_SEX_IDENT_CD               2\n",
       "BENE_AGE_CAT_CD                 6\n",
       "CAR_LINE_ICD9_DGNS_CD        1233\n",
       "CAR_LINE_HCPCS_CD            4900\n",
       "CAR_LINE_BETOS_CD              98\n",
       "CAR_LINE_SRVC_CNT             167\n",
       "CAR_LINE_PRVDR_TYPE_CD          6\n",
       "CAR_LINE_CMS_TYPE_SRVC_CD      20\n",
       "CAR_LINE_PLACE_OF_SRVC_CD      28\n",
       "CAR_HCPS_PMT_AMT               80\n",
       "CAR_LINE_CNT                 4542\n",
       "dtype: int64"
      ]
     },
     "execution_count": 10,
     "metadata": {},
     "output_type": "execute_result"
    }
   ],
   "source": [
    "df.nunique()"
   ]
  },
  {
   "cell_type": "code",
   "execution_count": 11,
   "metadata": {},
   "outputs": [
    {
     "data": {
      "text/plain": [
       "BENE_SEX_IDENT_CD             int64\n",
       "BENE_AGE_CAT_CD               int64\n",
       "CAR_LINE_ICD9_DGNS_CD        object\n",
       "CAR_LINE_HCPCS_CD            object\n",
       "CAR_LINE_BETOS_CD            object\n",
       "CAR_LINE_SRVC_CNT             int64\n",
       "CAR_LINE_PRVDR_TYPE_CD        int64\n",
       "CAR_LINE_CMS_TYPE_SRVC_CD    object\n",
       "CAR_LINE_PLACE_OF_SRVC_CD     int64\n",
       "CAR_HCPS_PMT_AMT              int64\n",
       "CAR_LINE_CNT                  int64\n",
       "dtype: object"
      ]
     },
     "execution_count": 11,
     "metadata": {},
     "output_type": "execute_result"
    }
   ],
   "source": [
    "df.dtypes"
   ]
  },
  {
   "cell_type": "code",
   "execution_count": 52,
   "metadata": {},
   "outputs": [
    {
     "data": {
      "text/html": [
       "<div>\n",
       "<style scoped>\n",
       "    .dataframe tbody tr th:only-of-type {\n",
       "        vertical-align: middle;\n",
       "    }\n",
       "\n",
       "    .dataframe tbody tr th {\n",
       "        vertical-align: top;\n",
       "    }\n",
       "\n",
       "    .dataframe thead th {\n",
       "        text-align: right;\n",
       "    }\n",
       "</style>\n",
       "<table border=\"1\" class=\"dataframe\">\n",
       "  <thead>\n",
       "    <tr style=\"text-align: right;\">\n",
       "      <th></th>\n",
       "      <th>BENE_SEX_IDENT_CD</th>\n",
       "      <th>BENE_AGE_CAT_CD</th>\n",
       "      <th>CAR_LINE_ICD9_DGNS_CD</th>\n",
       "      <th>CAR_LINE_HCPCS_CD</th>\n",
       "      <th>CAR_LINE_BETOS_CD</th>\n",
       "      <th>CAR_LINE_SRVC_CNT</th>\n",
       "      <th>CAR_LINE_PRVDR_TYPE_CD</th>\n",
       "      <th>CAR_LINE_CMS_TYPE_SRVC_CD</th>\n",
       "      <th>CAR_LINE_PLACE_OF_SRVC_CD</th>\n",
       "      <th>CAR_HCPS_PMT_AMT</th>\n",
       "      <th>CAR_LINE_CNT</th>\n",
       "    </tr>\n",
       "  </thead>\n",
       "  <tbody>\n",
       "    <tr>\n",
       "      <th>0</th>\n",
       "      <td>1</td>\n",
       "      <td>1</td>\n",
       "      <td>NaN</td>\n",
       "      <td>99213</td>\n",
       "      <td>M1B</td>\n",
       "      <td>1</td>\n",
       "      <td>1</td>\n",
       "      <td>1</td>\n",
       "      <td>11</td>\n",
       "      <td>55</td>\n",
       "      <td>2</td>\n",
       "    </tr>\n",
       "    <tr>\n",
       "      <th>1</th>\n",
       "      <td>1</td>\n",
       "      <td>1</td>\n",
       "      <td>NaN</td>\n",
       "      <td>A0425</td>\n",
       "      <td>O1A</td>\n",
       "      <td>1</td>\n",
       "      <td>3</td>\n",
       "      <td>D</td>\n",
       "      <td>41</td>\n",
       "      <td>5</td>\n",
       "      <td>46</td>\n",
       "    </tr>\n",
       "    <tr>\n",
       "      <th>2</th>\n",
       "      <td>1</td>\n",
       "      <td>1</td>\n",
       "      <td>NaN</td>\n",
       "      <td>A0425</td>\n",
       "      <td>O1A</td>\n",
       "      <td>1</td>\n",
       "      <td>3</td>\n",
       "      <td>D</td>\n",
       "      <td>41</td>\n",
       "      <td>10</td>\n",
       "      <td>47</td>\n",
       "    </tr>\n",
       "    <tr>\n",
       "      <th>3</th>\n",
       "      <td>1</td>\n",
       "      <td>1</td>\n",
       "      <td>NaN</td>\n",
       "      <td>A0425</td>\n",
       "      <td>O1A</td>\n",
       "      <td>2</td>\n",
       "      <td>3</td>\n",
       "      <td>D</td>\n",
       "      <td>41</td>\n",
       "      <td>10</td>\n",
       "      <td>363</td>\n",
       "    </tr>\n",
       "    <tr>\n",
       "      <th>4</th>\n",
       "      <td>1</td>\n",
       "      <td>1</td>\n",
       "      <td>NaN</td>\n",
       "      <td>A0425</td>\n",
       "      <td>O1A</td>\n",
       "      <td>2</td>\n",
       "      <td>3</td>\n",
       "      <td>D</td>\n",
       "      <td>41</td>\n",
       "      <td>15</td>\n",
       "      <td>12</td>\n",
       "    </tr>\n",
       "    <tr>\n",
       "      <th>...</th>\n",
       "      <td>...</td>\n",
       "      <td>...</td>\n",
       "      <td>...</td>\n",
       "      <td>...</td>\n",
       "      <td>...</td>\n",
       "      <td>...</td>\n",
       "      <td>...</td>\n",
       "      <td>...</td>\n",
       "      <td>...</td>\n",
       "      <td>...</td>\n",
       "      <td>...</td>\n",
       "    </tr>\n",
       "    <tr>\n",
       "      <th>2801655</th>\n",
       "      <td>2</td>\n",
       "      <td>6</td>\n",
       "      <td>V82</td>\n",
       "      <td>99213</td>\n",
       "      <td>M1B</td>\n",
       "      <td>1</td>\n",
       "      <td>1</td>\n",
       "      <td>1</td>\n",
       "      <td>11</td>\n",
       "      <td>55</td>\n",
       "      <td>1</td>\n",
       "    </tr>\n",
       "    <tr>\n",
       "      <th>2801656</th>\n",
       "      <td>2</td>\n",
       "      <td>6</td>\n",
       "      <td>V82</td>\n",
       "      <td>A0429</td>\n",
       "      <td>O1A</td>\n",
       "      <td>1</td>\n",
       "      <td>3</td>\n",
       "      <td>D</td>\n",
       "      <td>41</td>\n",
       "      <td>275</td>\n",
       "      <td>7</td>\n",
       "    </tr>\n",
       "    <tr>\n",
       "      <th>2801657</th>\n",
       "      <td>2</td>\n",
       "      <td>6</td>\n",
       "      <td>V82</td>\n",
       "      <td>G0328</td>\n",
       "      <td>T1H</td>\n",
       "      <td>1</td>\n",
       "      <td>1</td>\n",
       "      <td>5</td>\n",
       "      <td>11</td>\n",
       "      <td>25</td>\n",
       "      <td>8</td>\n",
       "    </tr>\n",
       "    <tr>\n",
       "      <th>2801658</th>\n",
       "      <td>2</td>\n",
       "      <td>6</td>\n",
       "      <td>V86</td>\n",
       "      <td>80053</td>\n",
       "      <td>T1B</td>\n",
       "      <td>1</td>\n",
       "      <td>5</td>\n",
       "      <td>5</td>\n",
       "      <td>81</td>\n",
       "      <td>15</td>\n",
       "      <td>1</td>\n",
       "    </tr>\n",
       "    <tr>\n",
       "      <th>2801659</th>\n",
       "      <td>2</td>\n",
       "      <td>6</td>\n",
       "      <td>V88</td>\n",
       "      <td>76856</td>\n",
       "      <td>I3B</td>\n",
       "      <td>1</td>\n",
       "      <td>1</td>\n",
       "      <td>4</td>\n",
       "      <td>22</td>\n",
       "      <td>30</td>\n",
       "      <td>2</td>\n",
       "    </tr>\n",
       "  </tbody>\n",
       "</table>\n",
       "<p>2801660 rows × 11 columns</p>\n",
       "</div>"
      ],
      "text/plain": [
       "         BENE_SEX_IDENT_CD  BENE_AGE_CAT_CD CAR_LINE_ICD9_DGNS_CD  \\\n",
       "0                        1                1                   NaN   \n",
       "1                        1                1                   NaN   \n",
       "2                        1                1                   NaN   \n",
       "3                        1                1                   NaN   \n",
       "4                        1                1                   NaN   \n",
       "...                    ...              ...                   ...   \n",
       "2801655                  2                6                   V82   \n",
       "2801656                  2                6                   V82   \n",
       "2801657                  2                6                   V82   \n",
       "2801658                  2                6                   V86   \n",
       "2801659                  2                6                   V88   \n",
       "\n",
       "        CAR_LINE_HCPCS_CD CAR_LINE_BETOS_CD  CAR_LINE_SRVC_CNT  \\\n",
       "0                   99213               M1B                  1   \n",
       "1                   A0425               O1A                  1   \n",
       "2                   A0425               O1A                  1   \n",
       "3                   A0425               O1A                  2   \n",
       "4                   A0425               O1A                  2   \n",
       "...                   ...               ...                ...   \n",
       "2801655             99213               M1B                  1   \n",
       "2801656             A0429               O1A                  1   \n",
       "2801657             G0328               T1H                  1   \n",
       "2801658             80053               T1B                  1   \n",
       "2801659             76856               I3B                  1   \n",
       "\n",
       "         CAR_LINE_PRVDR_TYPE_CD CAR_LINE_CMS_TYPE_SRVC_CD  \\\n",
       "0                             1                         1   \n",
       "1                             3                         D   \n",
       "2                             3                         D   \n",
       "3                             3                         D   \n",
       "4                             3                         D   \n",
       "...                         ...                       ...   \n",
       "2801655                       1                         1   \n",
       "2801656                       3                         D   \n",
       "2801657                       1                         5   \n",
       "2801658                       5                         5   \n",
       "2801659                       1                         4   \n",
       "\n",
       "         CAR_LINE_PLACE_OF_SRVC_CD  CAR_HCPS_PMT_AMT  CAR_LINE_CNT  \n",
       "0                               11                55             2  \n",
       "1                               41                 5            46  \n",
       "2                               41                10            47  \n",
       "3                               41                10           363  \n",
       "4                               41                15            12  \n",
       "...                            ...               ...           ...  \n",
       "2801655                         11                55             1  \n",
       "2801656                         41               275             7  \n",
       "2801657                         11                25             8  \n",
       "2801658                         81                15             1  \n",
       "2801659                         22                30             2  \n",
       "\n",
       "[2801660 rows x 11 columns]"
      ]
     },
     "execution_count": 52,
     "metadata": {},
     "output_type": "execute_result"
    }
   ],
   "source": [
    "df"
   ]
  },
  {
   "cell_type": "code",
   "execution_count": 58,
   "metadata": {},
   "outputs": [
    {
     "data": {
      "text/plain": [
       "1233"
      ]
     },
     "execution_count": 58,
     "metadata": {},
     "output_type": "execute_result"
    }
   ],
   "source": [
    "df.CAR_LINE_ICD9_DGNS_CD.nunique()"
   ]
  },
  {
   "cell_type": "code",
   "execution_count": 59,
   "metadata": {},
   "outputs": [],
   "source": [
    "icds = (df.CAR_LINE_ICD9_DGNS_CD.unique())\n",
    "s = pd.Series(icds)\n",
    "s.to_csv('/home/jupyter/data/cms/icds.csv',header=None, index=None)"
   ]
  },
  {
   "cell_type": "code",
   "execution_count": null,
   "metadata": {},
   "outputs": [],
   "source": []
  },
  {
   "cell_type": "code",
   "execution_count": 22,
   "metadata": {},
   "outputs": [],
   "source": [
    "# V codes are \"Factors influencing health status and contact with health services\"\n",
    "abase = df[\n",
    "    df.CAR_LINE_ICD9_DGNS_CD==\"V82\"]"
   ]
  },
  {
   "cell_type": "code",
   "execution_count": 23,
   "metadata": {},
   "outputs": [
    {
     "data": {
      "text/plain": [
       "(700, 11)"
      ]
     },
     "execution_count": 23,
     "metadata": {},
     "output_type": "execute_result"
    }
   ],
   "source": [
    "abase.shape"
   ]
  },
  {
   "cell_type": "code",
   "execution_count": 35,
   "metadata": {},
   "outputs": [
    {
     "data": {
      "text/plain": [
       "0          False\n",
       "1          False\n",
       "2          False\n",
       "3          False\n",
       "4          False\n",
       "           ...  \n",
       "2801655    False\n",
       "2801656    False\n",
       "2801657    False\n",
       "2801658    False\n",
       "2801659    False\n",
       "Name: CAR_LINE_ICD9_DGNS_CD, Length: 2801660, dtype: bool"
      ]
     },
     "execution_count": 35,
     "metadata": {},
     "output_type": "execute_result"
    }
   ],
   "source": [
    "df['CAR_LINE_ICD9_DGNS_CD'].str.match('\\d{3,3}', na=False)"
   ]
  },
  {
   "cell_type": "code",
   "execution_count": 64,
   "metadata": {},
   "outputs": [
    {
     "data": {
      "text/plain": [
       "(705198, 11)"
      ]
     },
     "execution_count": 64,
     "metadata": {},
     "output_type": "execute_result"
    }
   ],
   "source": [
    "slimmer = df.loc[\n",
    "    # match anything that has 3 digits, dropping those \"V\" and \"E\" codes\n",
    "    df.CAR_LINE_ICD9_DGNS_CD.str.contains('\\d{3,3}', na=False)\n",
    "    ,:]\n",
    "slimmer.shape"
   ]
  },
  {
   "cell_type": "code",
   "execution_count": 65,
   "metadata": {},
   "outputs": [
    {
     "data": {
      "text/html": [
       "<div>\n",
       "<style scoped>\n",
       "    .dataframe tbody tr th:only-of-type {\n",
       "        vertical-align: middle;\n",
       "    }\n",
       "\n",
       "    .dataframe tbody tr th {\n",
       "        vertical-align: top;\n",
       "    }\n",
       "\n",
       "    .dataframe thead th {\n",
       "        text-align: right;\n",
       "    }\n",
       "</style>\n",
       "<table border=\"1\" class=\"dataframe\">\n",
       "  <thead>\n",
       "    <tr style=\"text-align: right;\">\n",
       "      <th></th>\n",
       "      <th>BENE_SEX_IDENT_CD</th>\n",
       "      <th>BENE_AGE_CAT_CD</th>\n",
       "      <th>CAR_LINE_ICD9_DGNS_CD</th>\n",
       "      <th>CAR_LINE_HCPCS_CD</th>\n",
       "      <th>CAR_LINE_BETOS_CD</th>\n",
       "      <th>CAR_LINE_SRVC_CNT</th>\n",
       "      <th>CAR_LINE_PRVDR_TYPE_CD</th>\n",
       "      <th>CAR_LINE_CMS_TYPE_SRVC_CD</th>\n",
       "      <th>CAR_LINE_PLACE_OF_SRVC_CD</th>\n",
       "      <th>CAR_HCPS_PMT_AMT</th>\n",
       "      <th>CAR_LINE_CNT</th>\n",
       "    </tr>\n",
       "  </thead>\n",
       "  <tbody>\n",
       "    <tr>\n",
       "      <th>196608</th>\n",
       "      <td>1</td>\n",
       "      <td>1</td>\n",
       "      <td>787</td>\n",
       "      <td>44500</td>\n",
       "      <td>P6C</td>\n",
       "      <td>1</td>\n",
       "      <td>1</td>\n",
       "      <td>2</td>\n",
       "      <td>21</td>\n",
       "      <td>20</td>\n",
       "      <td>1</td>\n",
       "    </tr>\n",
       "    <tr>\n",
       "      <th>196609</th>\n",
       "      <td>1</td>\n",
       "      <td>1</td>\n",
       "      <td>787</td>\n",
       "      <td>45300</td>\n",
       "      <td>P8C</td>\n",
       "      <td>1</td>\n",
       "      <td>1</td>\n",
       "      <td>2</td>\n",
       "      <td>11</td>\n",
       "      <td>80</td>\n",
       "      <td>1</td>\n",
       "    </tr>\n",
       "    <tr>\n",
       "      <th>196610</th>\n",
       "      <td>1</td>\n",
       "      <td>1</td>\n",
       "      <td>787</td>\n",
       "      <td>45330</td>\n",
       "      <td>P8C</td>\n",
       "      <td>1</td>\n",
       "      <td>1</td>\n",
       "      <td>2</td>\n",
       "      <td>11</td>\n",
       "      <td>100</td>\n",
       "      <td>1</td>\n",
       "    </tr>\n",
       "    <tr>\n",
       "      <th>196611</th>\n",
       "      <td>1</td>\n",
       "      <td>1</td>\n",
       "      <td>787</td>\n",
       "      <td>45330</td>\n",
       "      <td>P8C</td>\n",
       "      <td>1</td>\n",
       "      <td>1</td>\n",
       "      <td>2</td>\n",
       "      <td>11</td>\n",
       "      <td>125</td>\n",
       "      <td>2</td>\n",
       "    </tr>\n",
       "    <tr>\n",
       "      <th>196612</th>\n",
       "      <td>1</td>\n",
       "      <td>1</td>\n",
       "      <td>787</td>\n",
       "      <td>45330</td>\n",
       "      <td>P8C</td>\n",
       "      <td>1</td>\n",
       "      <td>1</td>\n",
       "      <td>2</td>\n",
       "      <td>21</td>\n",
       "      <td>45</td>\n",
       "      <td>1</td>\n",
       "    </tr>\n",
       "    <tr>\n",
       "      <th>...</th>\n",
       "      <td>...</td>\n",
       "      <td>...</td>\n",
       "      <td>...</td>\n",
       "      <td>...</td>\n",
       "      <td>...</td>\n",
       "      <td>...</td>\n",
       "      <td>...</td>\n",
       "      <td>...</td>\n",
       "      <td>...</td>\n",
       "      <td>...</td>\n",
       "      <td>...</td>\n",
       "    </tr>\n",
       "    <tr>\n",
       "      <th>2791556</th>\n",
       "      <td>2</td>\n",
       "      <td>6</td>\n",
       "      <td>E934</td>\n",
       "      <td>36415</td>\n",
       "      <td>T1A</td>\n",
       "      <td>1</td>\n",
       "      <td>5</td>\n",
       "      <td>5</td>\n",
       "      <td>81</td>\n",
       "      <td>5</td>\n",
       "      <td>14</td>\n",
       "    </tr>\n",
       "    <tr>\n",
       "      <th>2791557</th>\n",
       "      <td>2</td>\n",
       "      <td>6</td>\n",
       "      <td>E934</td>\n",
       "      <td>85610</td>\n",
       "      <td>T1H</td>\n",
       "      <td>1</td>\n",
       "      <td>1</td>\n",
       "      <td>5</td>\n",
       "      <td>11</td>\n",
       "      <td>5</td>\n",
       "      <td>50</td>\n",
       "    </tr>\n",
       "    <tr>\n",
       "      <th>2791558</th>\n",
       "      <td>2</td>\n",
       "      <td>6</td>\n",
       "      <td>E942</td>\n",
       "      <td>80162</td>\n",
       "      <td>T1H</td>\n",
       "      <td>1</td>\n",
       "      <td>5</td>\n",
       "      <td>5</td>\n",
       "      <td>81</td>\n",
       "      <td>20</td>\n",
       "      <td>7</td>\n",
       "    </tr>\n",
       "    <tr>\n",
       "      <th>2791559</th>\n",
       "      <td>2</td>\n",
       "      <td>6</td>\n",
       "      <td>E942</td>\n",
       "      <td>99232</td>\n",
       "      <td>M2B</td>\n",
       "      <td>1</td>\n",
       "      <td>1</td>\n",
       "      <td>1</td>\n",
       "      <td>21</td>\n",
       "      <td>55</td>\n",
       "      <td>1</td>\n",
       "    </tr>\n",
       "    <tr>\n",
       "      <th>2791560</th>\n",
       "      <td>2</td>\n",
       "      <td>6</td>\n",
       "      <td>E987</td>\n",
       "      <td>93010</td>\n",
       "      <td>T2A</td>\n",
       "      <td>1</td>\n",
       "      <td>1</td>\n",
       "      <td>5</td>\n",
       "      <td>23</td>\n",
       "      <td>5</td>\n",
       "      <td>1</td>\n",
       "    </tr>\n",
       "  </tbody>\n",
       "</table>\n",
       "<p>705198 rows × 11 columns</p>\n",
       "</div>"
      ],
      "text/plain": [
       "         BENE_SEX_IDENT_CD  BENE_AGE_CAT_CD CAR_LINE_ICD9_DGNS_CD  \\\n",
       "196608                   1                1                   787   \n",
       "196609                   1                1                   787   \n",
       "196610                   1                1                   787   \n",
       "196611                   1                1                   787   \n",
       "196612                   1                1                   787   \n",
       "...                    ...              ...                   ...   \n",
       "2791556                  2                6                  E934   \n",
       "2791557                  2                6                  E934   \n",
       "2791558                  2                6                  E942   \n",
       "2791559                  2                6                  E942   \n",
       "2791560                  2                6                  E987   \n",
       "\n",
       "        CAR_LINE_HCPCS_CD CAR_LINE_BETOS_CD  CAR_LINE_SRVC_CNT  \\\n",
       "196608              44500               P6C                  1   \n",
       "196609              45300               P8C                  1   \n",
       "196610              45330               P8C                  1   \n",
       "196611              45330               P8C                  1   \n",
       "196612              45330               P8C                  1   \n",
       "...                   ...               ...                ...   \n",
       "2791556             36415               T1A                  1   \n",
       "2791557             85610               T1H                  1   \n",
       "2791558             80162               T1H                  1   \n",
       "2791559             99232               M2B                  1   \n",
       "2791560             93010               T2A                  1   \n",
       "\n",
       "         CAR_LINE_PRVDR_TYPE_CD CAR_LINE_CMS_TYPE_SRVC_CD  \\\n",
       "196608                        1                         2   \n",
       "196609                        1                         2   \n",
       "196610                        1                         2   \n",
       "196611                        1                         2   \n",
       "196612                        1                         2   \n",
       "...                         ...                       ...   \n",
       "2791556                       5                         5   \n",
       "2791557                       1                         5   \n",
       "2791558                       5                         5   \n",
       "2791559                       1                         1   \n",
       "2791560                       1                         5   \n",
       "\n",
       "         CAR_LINE_PLACE_OF_SRVC_CD  CAR_HCPS_PMT_AMT  CAR_LINE_CNT  \n",
       "196608                          21                20             1  \n",
       "196609                          11                80             1  \n",
       "196610                          11               100             1  \n",
       "196611                          11               125             2  \n",
       "196612                          21                45             1  \n",
       "...                            ...               ...           ...  \n",
       "2791556                         81                 5            14  \n",
       "2791557                         11                 5            50  \n",
       "2791558                         81                20             7  \n",
       "2791559                         21                55             1  \n",
       "2791560                         23                 5             1  \n",
       "\n",
       "[705198 rows x 11 columns]"
      ]
     },
     "execution_count": 65,
     "metadata": {},
     "output_type": "execute_result"
    }
   ],
   "source": [
    "slimmer"
   ]
  },
  {
   "cell_type": "code",
   "execution_count": 66,
   "metadata": {},
   "outputs": [
    {
     "data": {
      "text/plain": [
       "495"
      ]
     },
     "execution_count": 66,
     "metadata": {},
     "output_type": "execute_result"
    }
   ],
   "source": [
    "slimmer.CAR_LINE_ICD9_DGNS_CD.nunique()"
   ]
  },
  {
   "cell_type": "code",
   "execution_count": 67,
   "metadata": {},
   "outputs": [
    {
     "name": "stdout",
     "output_type": "stream",
     "text": [
      "['787' '788' '789' '790' '791' '792' '793' '794' '795' '796' '797' '798'\n",
      " '799' '800' '801' '802' '803' '804' '805' '806' '807' '808' '810' '811'\n",
      " '812' '813' '814' '815' '816' '817' '818' '820' '821' '822' '823' '824'\n",
      " '825' '826' '827' '828' '829' '830' '831' '832' '833' '834' '835' '836'\n",
      " '837' '838' '839' '840' '841' '842' '843' '844' '845' '846' '847' '848'\n",
      " '850' '851' '852' '853' '854' '860' '861' '862' '863' '864' '865' '866'\n",
      " '867' '868' '869' '870' '871' '872' '873' '874' '875' '876' '877' '878'\n",
      " '879' '880' '881' '882' '883' '884' '885' '886' '887' '890' '891' '892'\n",
      " '893' '894' '895' '896' '897' '900' '901' '902' '904' '905' '906' '907'\n",
      " '908' '909' '910' '911' '912' '913' '914' '915' '916' '917' '918' '919'\n",
      " '920' '921' '922' '923' '924' '925' '927' '928' '930' '931' '933' '934'\n",
      " '935' '936' '937' '938' '939' '940' '941' '942' '943' '944' '945' '946'\n",
      " '947' '948' '949' '952' '953' '955' '956' '957' '958' '959' '960' '962'\n",
      " '963' '964' '965' '966' '967' '968' '969' '970' '971' '972' '975' '977'\n",
      " '980' '982' '983' '984' '985' '986' '987' '989' '990' '991' '992' '993'\n",
      " '994' '995' '996' '997' '998' '999' 'E819' 'E888' 'E906' 'E933' 'E934'\n",
      " 'E936' 'E939' 'E942' '003' '005' '006' '007' '008' '009' '011' '017'\n",
      " '031' '034' '035' '036' '038' '039' '040' '041' '042' '045' '047' '049'\n",
      " '052' '053' '054' '057' '061' '066' '070' '075' '077' '078' '079' '082'\n",
      " '087' '088' '094' '097' '099' '110' '111' '112' '114' '115' '117' '127'\n",
      " '129' '130' '131' '132' '133' '135' '136' '138' '140' '141' '142' '143'\n",
      " '144' '145' '146' '147' '148' '149' '150' '151' '152' '153' '154' '155'\n",
      " '156' '157' '158' '159' '160' '161' '162' '163' '164' '165' '170' '171'\n",
      " '172' '173' '175' '176' '185' '186' '187' '188' '189' '190' '191' '192'\n",
      " '193' '194' '195' '196' '197' '198' '715' '716' '717' '718' '719' '720'\n",
      " '721' '722' '723' '724' '725' '726' '727' '728' '729' '730' '731' '732'\n",
      " '733' '734' '735' '736' '737' '738' '739' '742' '743' '744' '745' '746'\n",
      " '747' '748' '750' '751' '752' '753' '754' '755' '756' '757' '758' '759'\n",
      " '760' '768' '769' '770' '780' '781' '782' '783' '784' '785' '786' '001'\n",
      " '074' '091' '098' '174' '199' '200' '201' '202' '203' '204' '205' '206'\n",
      " '207' '208' '209' '210' '211' '212' '213' '214' '215' '216' '217' '222'\n",
      " '223' '224' '225' '226' '227' '228' '229' '230' '231' '232' '233' '234'\n",
      " '235' '236' '237' '238' '239' '240' '241' '242' '243' '244' '245' '246'\n",
      " '249' '250' '251' '252' '253' '255' '257' '258' '259' '260' '261' '262'\n",
      " '263' '264' '265' '266' '268' '269' '270' '271' '272' '273' '274' '275'\n",
      " '276' '277' '278' '279' '280' '281' '282' '283' '284' '285' '286' '287'\n",
      " '288' '289' '290' '291' '292' '293' '294' '295' '296' '297' '298' '300'\n",
      " '301' '302' '303' '304' '305' '306' '307' '308' '309' '903' '932' '090'\n",
      " '134' '767' 'E885' '951' 'E884' '015' '027' '033' '046' '051' '072' '092'\n",
      " '095' '123' '128' '179' '180' '182' '183' '184' '218' '219' '220' '221'\n",
      " '254' '256' '267' '974' '976' 'E905' 'E950' '004' '010' '093' '809' '961'\n",
      " 'E931' '002' '771' '775' 'E987']\n"
     ]
    }
   ],
   "source": [
    "print (slimmer.CAR_LINE_ICD9_DGNS_CD.unique())"
   ]
  },
  {
   "cell_type": "code",
   "execution_count": 47,
   "metadata": {},
   "outputs": [
    {
     "data": {
      "text/plain": [
       "(693, 11)"
      ]
     },
     "execution_count": 47,
     "metadata": {},
     "output_type": "execute_result"
    }
   ],
   "source": [
    "utibase = slimmer.loc[\n",
    "    (slimmer.CAR_LINE_ICD9_DGNS_CD.astype(int) == 999)\n",
    "#    (slimmer.CAR_LINE_ICD9_DGNS_CD.astype(int) >= 580) & (slimmer.CAR_LINE_ICD9_DGNS_CD.astype(int) <= 629)\n",
    "]\n",
    "utibase.shape"
   ]
  }
 ],
 "metadata": {
  "environment": {
   "name": "common-cpu.m46",
   "type": "gcloud",
   "uri": "gcr.io/deeplearning-platform-release/base-cpu:m46"
  },
  "kernelspec": {
   "display_name": "Python 3",
   "language": "python",
   "name": "python3"
  },
  "language_info": {
   "codemirror_mode": {
    "name": "ipython",
    "version": 3
   },
   "file_extension": ".py",
   "mimetype": "text/x-python",
   "name": "python",
   "nbconvert_exporter": "python",
   "pygments_lexer": "ipython3",
   "version": "3.7.6"
  }
 },
 "nbformat": 4,
 "nbformat_minor": 4
}
