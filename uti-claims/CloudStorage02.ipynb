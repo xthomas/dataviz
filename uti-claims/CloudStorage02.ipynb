{
 "cells": [
  {
   "cell_type": "code",
   "execution_count": 1,
   "metadata": {},
   "outputs": [
    {
     "ename": "ModuleNotFoundError",
     "evalue": "No module named 'datalab'",
     "output_type": "error",
     "traceback": [
      "\u001b[0;31m---------------------------------------------------------------------------\u001b[0m",
      "\u001b[0;31mModuleNotFoundError\u001b[0m                       Traceback (most recent call last)",
      "\u001b[0;32m<ipython-input-1-78c3addb1a65>\u001b[0m in \u001b[0;36m<module>\u001b[0;34m()\u001b[0m\n\u001b[1;32m      1\u001b[0m \u001b[0;31m# Imports the Google Cloud client library\u001b[0m\u001b[0;34m\u001b[0m\u001b[0;34m\u001b[0m\u001b[0m\n\u001b[1;32m      2\u001b[0m \u001b[0;32mfrom\u001b[0m \u001b[0mgoogle\u001b[0m\u001b[0;34m.\u001b[0m\u001b[0mcloud\u001b[0m \u001b[0;32mimport\u001b[0m \u001b[0mstorage\u001b[0m\u001b[0;34m\u001b[0m\u001b[0m\n\u001b[0;32m----> 3\u001b[0;31m \u001b[0;32mfrom\u001b[0m \u001b[0mdatalab\u001b[0m\u001b[0;34m.\u001b[0m\u001b[0mcontext\u001b[0m \u001b[0;32mimport\u001b[0m \u001b[0mContext\u001b[0m\u001b[0;34m\u001b[0m\u001b[0m\n\u001b[0m",
      "\u001b[0;31mModuleNotFoundError\u001b[0m: No module named 'datalab'"
     ]
    }
   ],
   "source": [
    "# Imports the Google Cloud client library\n",
    "from google.cloud import storage\n",
    "from datalab.context import Context\n"
   ]
  },
  {
   "cell_type": "code",
   "execution_count": 14,
   "metadata": {},
   "outputs": [],
   "source": [
    "# Instantiates a client\n",
    "storage_client = storage.Client()\n",
    "bucket = storage_client.get_bucket('datacamp-202518.appspot.com')\n",
    "blob = storage.Blob('data/guide/typical_clinvar_rows.csv', bucket)\n",
    "content = blob.download_as_string()"
   ]
  },
  {
   "cell_type": "code",
   "execution_count": 15,
   "metadata": {},
   "outputs": [],
   "source": [
    "# client = storage.Client()\n",
    "# bucket = client.get_bucket('python_test_hm')\n",
    "# blob = storage.Blob('train.csv', bucket)\n",
    "# content = blob.download_as_string()"
   ]
  },
  {
   "cell_type": "code",
   "execution_count": 16,
   "metadata": {},
   "outputs": [
    {
     "data": {
      "text/plain": [
       "b',Type,Name,GeneID,GeneSymbol,HGNC_ID,LastEvaluated,PhenotypeIDS,PhenotypeList,OriginSimple,ReviewStatus\\n31029,single nucleotide variant,\"COL7A1, IVS3DS, A-G, -2\",1294,COL7A1,HGNC:2214,\"Oct 01, 2006\",MedGen:C2673611;MedGen:C1853063,\"Epidermolysis bullosa dystrophica, autosomal recessive, localisata variant;Epidermolysis bullosa pruriginosa, autosomal recessive\",germline,no assertion criteria provided\\n31030,single nucleotide variant,\"COL7A1, 5820G-A\",1294,COL7A1,HGNC:2214,\"Nov 01, 1998\",MedGen:C2673611,\"Epidermolysis bullosa dystrophica, autosomal recessive, localisata variant\",germline,no assertion criteria provided\\n31031,single nucleotide variant,\"COL7A1, IVS95DS, G-A, -1\",1294,COL7A1,HGNC:2214,\"Oct 01, 2006\",MedGen:C2673611;MedGen:C1853063,\"Epidermolysis bullosa dystrophica, autosomal recessive, localisata variant;Epidermolysis bullosa pruriginosa, autosomal recessive\",germline,no assertion criteria provided\\n31032,single nucleotide variant,NM_000094.3(COL7A1):c.4039G>C (p.Gly1347Arg),1294,COL7A1,HGNC:2214,\"Feb 29, 2016\",MedGen:C2673611;MedGen:CN517202,\"Epidermolysis bullosa dystrophica, autosomal recessive, localisata variant;not provided\",germline,\"criteria provided, single submitter\"\\n31033,single nucleotide variant,NM_000094.3(COL7A1):c.4039G>C (p.Gly1347Arg),1294,COL7A1,HGNC:2214,\"Feb 29, 2016\",MedGen:C2673611;MedGen:CN517202,\"Epidermolysis bullosa dystrophica, autosomal recessive, localisata variant;not provided\",germline,\"criteria provided, single submitter\"\\n'"
      ]
     },
     "execution_count": 16,
     "metadata": {},
     "output_type": "execute_result"
    }
   ],
   "source": [
    "content"
   ]
  },
  {
   "cell_type": "code",
   "execution_count": null,
   "metadata": {},
   "outputs": [],
   "source": []
  }
 ],
 "metadata": {
  "environment": {
   "name": "common-cpu.m46",
   "type": "gcloud",
   "uri": "gcr.io/deeplearning-platform-release/base-cpu:m46"
  },
  "kernelspec": {
   "display_name": "Python 3",
   "language": "python",
   "name": "python3"
  },
  "language_info": {
   "codemirror_mode": {
    "name": "ipython",
    "version": 3
   },
   "file_extension": ".py",
   "mimetype": "text/x-python",
   "name": "python",
   "nbconvert_exporter": "python",
   "pygments_lexer": "ipython3",
   "version": "3.7.6"
  }
 },
 "nbformat": 4,
 "nbformat_minor": 4
}
