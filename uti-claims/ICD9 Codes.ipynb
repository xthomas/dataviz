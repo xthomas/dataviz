{
 "cells": [
  {
   "cell_type": "code",
   "execution_count": 1,
   "metadata": {},
   "outputs": [],
   "source": [
    "import pandas as pd\n",
    "import requests\n",
    "import json\n",
    "import time"
   ]
  },
  {
   "cell_type": "code",
   "execution_count": 2,
   "metadata": {},
   "outputs": [],
   "source": [
    "resp = requests.get('https://clinicaltables.nlm.nih.gov/api/icd9cm_dx/v3/search?terms=599.0')"
   ]
  },
  {
   "cell_type": "code",
   "execution_count": 3,
   "metadata": {},
   "outputs": [
    {
     "name": "stdout",
     "output_type": "stream",
     "text": [
      "1\n",
      "['5990']\n",
      "None\n",
      "[['599.0', ' Urinary tract infection, site not specified']]\n"
     ]
    }
   ],
   "source": [
    "if resp.status_code != 200:\n",
    "    # This means something went wrong.\n",
    "    raise ApiError('GET /tasks/ {}'.format(resp.status_code))\n",
    "for item in resp.json():\n",
    "    print(item)"
   ]
  },
  {
   "cell_type": "code",
   "execution_count": 4,
   "metadata": {},
   "outputs": [
    {
     "name": "stdout",
     "output_type": "stream",
     "text": [
      "[1, ['5990'], None, [['599.0', ' Urinary tract infection, site not specified']]]\n"
     ]
    }
   ],
   "source": [
    "files = resp.json()\n",
    "print (files)"
   ]
  },
  {
   "cell_type": "code",
   "execution_count": 5,
   "metadata": {},
   "outputs": [
    {
     "data": {
      "text/plain": [
       "4"
      ]
     },
     "execution_count": 5,
     "metadata": {},
     "output_type": "execute_result"
    }
   ],
   "source": [
    "len(files)"
   ]
  },
  {
   "cell_type": "code",
   "execution_count": 6,
   "metadata": {},
   "outputs": [
    {
     "data": {
      "text/plain": [
       "' Urinary tract infection, site not specified'"
      ]
     },
     "execution_count": 6,
     "metadata": {},
     "output_type": "execute_result"
    }
   ],
   "source": [
    "files[3][0][1]"
   ]
  },
  {
   "cell_type": "markdown",
   "metadata": {},
   "source": [
    "# ⇪ Ah Ha !\n",
    "\n",
    "> Now let's execute that for the list of codes I'm working on\n",
    "\n",
    "- - -"
   ]
  },
  {
   "cell_type": "code",
   "execution_count": 7,
   "metadata": {},
   "outputs": [],
   "source": [
    "codes = [580.0, 581.0, 582.0, 583.0, 584.0, 585.0, 586.0, 587.0, 588.0, 589.0, 590.0, 591.0, 592.0, 593.0, 594.0, 595.0, 596.0, 597.0, 598.0, 599.0, 600.0, 601.0, 602.0, 603.0, 604.0, 605.0, 606.0, 607.0, 608.0, 610.0, 611.0, 616.0, 612.0, 614.0, 615.0, 617.0, 618.0, 619.0, 620.0, 621.0, 622.0, 623.0, 624.0, 625.0, 626.0, 627.0, 628.0, 629.0]"
   ]
  },
  {
   "cell_type": "code",
   "execution_count": 8,
   "metadata": {},
   "outputs": [
    {
     "data": {
      "text/plain": [
       "584.0"
      ]
     },
     "execution_count": 8,
     "metadata": {},
     "output_type": "execute_result"
    }
   ],
   "source": [
    "codes[4]"
   ]
  },
  {
   "cell_type": "code",
   "execution_count": 9,
   "metadata": {},
   "outputs": [
    {
     "name": "stdout",
     "output_type": "stream",
     "text": [
      "https://clinicaltables.nlm.nih.gov/api/icd9cm_dx/v3/search?terms=580.0\n",
      " Acute glomerulonephritis with lesion of proliferative glomerulonephritis\n",
      "https://clinicaltables.nlm.nih.gov/api/icd9cm_dx/v3/search?terms=581.0\n",
      " Nephrotic syndrome with lesion of proliferative glomerulonephritis\n",
      "https://clinicaltables.nlm.nih.gov/api/icd9cm_dx/v3/search?terms=582.0\n",
      " Chronic glomerulonephritis with lesion of proliferative glomerulonephritis\n",
      "https://clinicaltables.nlm.nih.gov/api/icd9cm_dx/v3/search?terms=583.0\n",
      " Nephritis and nephropathy, not specified as acute or chronic, with lesion of proliferative glomerulonephritis\n",
      "https://clinicaltables.nlm.nih.gov/api/icd9cm_dx/v3/search?terms=584\n",
      " Acute kidney failure with lesion of tubular necrosis\n",
      "https://clinicaltables.nlm.nih.gov/api/icd9cm_dx/v3/search?terms=585\n",
      " Chronic kidney disease, Stage II (mild)\n",
      "https://clinicaltables.nlm.nih.gov/api/icd9cm_dx/v3/search?terms=586\n",
      " Renal failure, unspecified\n",
      "https://clinicaltables.nlm.nih.gov/api/icd9cm_dx/v3/search?terms=587\n",
      " Renal sclerosis, unspecified\n",
      "https://clinicaltables.nlm.nih.gov/api/icd9cm_dx/v3/search?terms=588.0\n",
      " Renal osteodystrophy\n",
      "https://clinicaltables.nlm.nih.gov/api/icd9cm_dx/v3/search?terms=589.0\n",
      " Unilateral small kidney\n",
      "https://clinicaltables.nlm.nih.gov/api/icd9cm_dx/v3/search?terms=590.0\n",
      " Chronic pyelonephritis without lesion of renal medullary necrosis\n",
      "https://clinicaltables.nlm.nih.gov/api/icd9cm_dx/v3/search?terms=591\n",
      " Hydronephrosis\n",
      "https://clinicaltables.nlm.nih.gov/api/icd9cm_dx/v3/search?terms=592.0\n",
      " Calculus of kidney\n",
      "https://clinicaltables.nlm.nih.gov/api/icd9cm_dx/v3/search?terms=593.0\n",
      " Nephroptosis\n",
      "https://clinicaltables.nlm.nih.gov/api/icd9cm_dx/v3/search?terms=594.0\n",
      " Calculus in diverticulum of bladder\n",
      "https://clinicaltables.nlm.nih.gov/api/icd9cm_dx/v3/search?terms=595.0\n",
      " Acute cystitis\n",
      "https://clinicaltables.nlm.nih.gov/api/icd9cm_dx/v3/search?terms=596.0\n",
      " Bladder neck obstruction\n",
      "https://clinicaltables.nlm.nih.gov/api/icd9cm_dx/v3/search?terms=597.0\n",
      " Urethral abscess\n",
      "https://clinicaltables.nlm.nih.gov/api/icd9cm_dx/v3/search?terms=598.0\n",
      " Urethral stricture due to unspecified infection\n",
      "https://clinicaltables.nlm.nih.gov/api/icd9cm_dx/v3/search?terms=599.0\n",
      " Urinary tract infection, site not specified\n",
      "https://clinicaltables.nlm.nih.gov/api/icd9cm_dx/v3/search?terms=600.0\n",
      " Hypertrophy (benign) of prostate without urinary obstruction and other lower urinary tract symptom (LUTS)\n",
      "https://clinicaltables.nlm.nih.gov/api/icd9cm_dx/v3/search?terms=601.0\n",
      " Acute prostatitis\n",
      "https://clinicaltables.nlm.nih.gov/api/icd9cm_dx/v3/search?terms=602.0\n",
      " Calculus of prostate\n",
      "https://clinicaltables.nlm.nih.gov/api/icd9cm_dx/v3/search?terms=603.0\n",
      " Encysted hydrocele\n",
      "https://clinicaltables.nlm.nih.gov/api/icd9cm_dx/v3/search?terms=604.0\n",
      " Orchitis, epididymitis, and epididymo-orchitis, with abscess\n",
      "https://clinicaltables.nlm.nih.gov/api/icd9cm_dx/v3/search?terms=605\n",
      " Redundant prepuce and phimosis\n",
      "https://clinicaltables.nlm.nih.gov/api/icd9cm_dx/v3/search?terms=606.0\n",
      " Azoospermia\n",
      "https://clinicaltables.nlm.nih.gov/api/icd9cm_dx/v3/search?terms=607.0\n",
      " Leukoplakia of penis\n",
      "https://clinicaltables.nlm.nih.gov/api/icd9cm_dx/v3/search?terms=608.0\n",
      " Seminal vesiculitis\n",
      "https://clinicaltables.nlm.nih.gov/api/icd9cm_dx/v3/search?terms=610.0\n",
      " Solitary cyst of breast\n",
      "https://clinicaltables.nlm.nih.gov/api/icd9cm_dx/v3/search?terms=611.0\n",
      " Inflammatory disease of breast\n",
      "https://clinicaltables.nlm.nih.gov/api/icd9cm_dx/v3/search?terms=616.0\n",
      " Cervicitis and endocervicitis\n",
      "https://clinicaltables.nlm.nih.gov/api/icd9cm_dx/v3/search?terms=612.0\n",
      " Deformity of reconstructed breast\n",
      "https://clinicaltables.nlm.nih.gov/api/icd9cm_dx/v3/search?terms=614.0\n",
      " Acute salpingitis and oophoritis\n",
      "https://clinicaltables.nlm.nih.gov/api/icd9cm_dx/v3/search?terms=615.0\n",
      " Acute inflammatory diseases of uterus, except cervix\n",
      "https://clinicaltables.nlm.nih.gov/api/icd9cm_dx/v3/search?terms=617.0\n",
      " Endometriosis of uterus\n",
      "https://clinicaltables.nlm.nih.gov/api/icd9cm_dx/v3/search?terms=618.0\n",
      " Unspecified prolapse of vaginal walls\n",
      "https://clinicaltables.nlm.nih.gov/api/icd9cm_dx/v3/search?terms=619.0\n",
      " Urinary-genital tract fistula, female\n",
      "https://clinicaltables.nlm.nih.gov/api/icd9cm_dx/v3/search?terms=620.0\n",
      " Follicular cyst of ovary\n",
      "https://clinicaltables.nlm.nih.gov/api/icd9cm_dx/v3/search?terms=621.0\n",
      " Polyp of corpus uteri\n",
      "https://clinicaltables.nlm.nih.gov/api/icd9cm_dx/v3/search?terms=622.0\n",
      " Erosion and ectropion of cervix\n",
      "https://clinicaltables.nlm.nih.gov/api/icd9cm_dx/v3/search?terms=623.0\n",
      " Dysplasia of vagina\n",
      "https://clinicaltables.nlm.nih.gov/api/icd9cm_dx/v3/search?terms=624.0\n",
      " Vulvar intraepithelial neoplasia II [VIN II]\n",
      "https://clinicaltables.nlm.nih.gov/api/icd9cm_dx/v3/search?terms=625.0\n",
      " Dyspareunia\n",
      "https://clinicaltables.nlm.nih.gov/api/icd9cm_dx/v3/search?terms=626.0\n",
      " Absence of menstruation\n",
      "https://clinicaltables.nlm.nih.gov/api/icd9cm_dx/v3/search?terms=627.0\n",
      " Premenopausal menorrhagia\n",
      "https://clinicaltables.nlm.nih.gov/api/icd9cm_dx/v3/search?terms=628.0\n",
      " Infertility, female, associated with anovulation\n",
      "https://clinicaltables.nlm.nih.gov/api/icd9cm_dx/v3/search?terms=629.0\n",
      " Hematocele, female, not elsewhere classified\n"
     ]
    }
   ],
   "source": [
    "arr = []\n",
    "for c in codes:\n",
    "    code = 'https://clinicaltables.nlm.nih.gov/api/icd9cm_dx/v3/search?terms=' + str(c)\n",
    "    resp = requests.get(code)\n",
    "    if resp.status_code != 200:\n",
    "        # This means something went wrong.\n",
    "        raise ApiError('GET /tasks/ {}'.format(resp.status_code))\n",
    "    elif resp.json()[0] == 0:\n",
    "        # assuming that means that this ICD code has an .XX higher up, in other words:\n",
    "        # \"584.0\" DOES NOT exist, but...\n",
    "        # \"584.3\" DOES exist\n",
    "        # so, strip out the period, get the multiple item list, and take the first one in it\n",
    "        noperiod = str.split(str(c),'.')[0]\n",
    "#        print (noperiod)\n",
    "        newcode = 'https://clinicaltables.nlm.nih.gov/api/icd9cm_dx/v3/search?terms=' + noperiod\n",
    "        manyresp = requests.get(newcode)\n",
    "        arr.append(manyresp.json()[3][0][1])\n",
    "        print (newcode)\n",
    "        print (manyresp.json()[3][0][1])\n",
    "    else:\n",
    "        arr.append(resp.json()[3][0][1])\n",
    "        print (code)\n",
    "        print (resp.json()[3][0][1])"
   ]
  },
  {
   "cell_type": "code",
   "execution_count": 10,
   "metadata": {},
   "outputs": [
    {
     "data": {
      "text/plain": [
       "48"
      ]
     },
     "execution_count": 10,
     "metadata": {},
     "output_type": "execute_result"
    }
   ],
   "source": [
    "len(arr)"
   ]
  },
  {
   "cell_type": "code",
   "execution_count": 11,
   "metadata": {},
   "outputs": [
    {
     "data": {
      "text/plain": [
       "48"
      ]
     },
     "execution_count": 11,
     "metadata": {},
     "output_type": "execute_result"
    }
   ],
   "source": [
    "len(codes)"
   ]
  },
  {
   "cell_type": "markdown",
   "metadata": {},
   "source": [
    "# ⇪ Yes!\n",
    "\n",
    "> Now write them to a file so you can merge them in another dataframe"
   ]
  },
  {
   "cell_type": "code",
   "execution_count": 12,
   "metadata": {},
   "outputs": [
    {
     "data": {
      "text/plain": [
       "[(580.0,\n",
       "  ' Acute glomerulonephritis with lesion of proliferative glomerulonephritis'),\n",
       " (581.0,\n",
       "  ' Nephrotic syndrome with lesion of proliferative glomerulonephritis'),\n",
       " (582.0,\n",
       "  ' Chronic glomerulonephritis with lesion of proliferative glomerulonephritis'),\n",
       " (583.0,\n",
       "  ' Nephritis and nephropathy, not specified as acute or chronic, with lesion of proliferative glomerulonephritis'),\n",
       " (584.0, ' Acute kidney failure with lesion of tubular necrosis'),\n",
       " (585.0, ' Chronic kidney disease, Stage II (mild)'),\n",
       " (586.0, ' Renal failure, unspecified'),\n",
       " (587.0, ' Renal sclerosis, unspecified'),\n",
       " (588.0, ' Renal osteodystrophy'),\n",
       " (589.0, ' Unilateral small kidney'),\n",
       " (590.0, ' Chronic pyelonephritis without lesion of renal medullary necrosis'),\n",
       " (591.0, ' Hydronephrosis'),\n",
       " (592.0, ' Calculus of kidney'),\n",
       " (593.0, ' Nephroptosis'),\n",
       " (594.0, ' Calculus in diverticulum of bladder'),\n",
       " (595.0, ' Acute cystitis'),\n",
       " (596.0, ' Bladder neck obstruction'),\n",
       " (597.0, ' Urethral abscess'),\n",
       " (598.0, ' Urethral stricture due to unspecified infection'),\n",
       " (599.0, ' Urinary tract infection, site not specified'),\n",
       " (600.0,\n",
       "  ' Hypertrophy (benign) of prostate without urinary obstruction and other lower urinary tract symptom (LUTS)'),\n",
       " (601.0, ' Acute prostatitis'),\n",
       " (602.0, ' Calculus of prostate'),\n",
       " (603.0, ' Encysted hydrocele'),\n",
       " (604.0, ' Orchitis, epididymitis, and epididymo-orchitis, with abscess'),\n",
       " (605.0, ' Redundant prepuce and phimosis'),\n",
       " (606.0, ' Azoospermia'),\n",
       " (607.0, ' Leukoplakia of penis'),\n",
       " (608.0, ' Seminal vesiculitis'),\n",
       " (610.0, ' Solitary cyst of breast'),\n",
       " (611.0, ' Inflammatory disease of breast'),\n",
       " (616.0, ' Cervicitis and endocervicitis'),\n",
       " (612.0, ' Deformity of reconstructed breast'),\n",
       " (614.0, ' Acute salpingitis and oophoritis'),\n",
       " (615.0, ' Acute inflammatory diseases of uterus, except cervix'),\n",
       " (617.0, ' Endometriosis of uterus'),\n",
       " (618.0, ' Unspecified prolapse of vaginal walls'),\n",
       " (619.0, ' Urinary-genital tract fistula, female'),\n",
       " (620.0, ' Follicular cyst of ovary'),\n",
       " (621.0, ' Polyp of corpus uteri'),\n",
       " (622.0, ' Erosion and ectropion of cervix'),\n",
       " (623.0, ' Dysplasia of vagina'),\n",
       " (624.0, ' Vulvar intraepithelial neoplasia II [VIN II]'),\n",
       " (625.0, ' Dyspareunia'),\n",
       " (626.0, ' Absence of menstruation'),\n",
       " (627.0, ' Premenopausal menorrhagia'),\n",
       " (628.0, ' Infertility, female, associated with anovulation'),\n",
       " (629.0, ' Hematocele, female, not elsewhere classified')]"
      ]
     },
     "execution_count": 12,
     "metadata": {},
     "output_type": "execute_result"
    }
   ],
   "source": [
    "icd_codes = list(zip(codes,arr))\n",
    "icd_codes"
   ]
  },
  {
   "cell_type": "code",
   "execution_count": 14,
   "metadata": {},
   "outputs": [
    {
     "data": {
      "text/html": [
       "<div>\n",
       "<style scoped>\n",
       "    .dataframe tbody tr th:only-of-type {\n",
       "        vertical-align: middle;\n",
       "    }\n",
       "\n",
       "    .dataframe tbody tr th {\n",
       "        vertical-align: top;\n",
       "    }\n",
       "\n",
       "    .dataframe thead th {\n",
       "        text-align: right;\n",
       "    }\n",
       "</style>\n",
       "<table border=\"1\" class=\"dataframe\">\n",
       "  <thead>\n",
       "    <tr style=\"text-align: right;\">\n",
       "      <th></th>\n",
       "      <th>ICD_9_CODE</th>\n",
       "      <th>DIAGNOSIS_DESCRIPTION</th>\n",
       "    </tr>\n",
       "  </thead>\n",
       "  <tbody>\n",
       "    <tr>\n",
       "      <th>0</th>\n",
       "      <td>580.0</td>\n",
       "      <td>Acute glomerulonephritis with lesion of proli...</td>\n",
       "    </tr>\n",
       "    <tr>\n",
       "      <th>1</th>\n",
       "      <td>581.0</td>\n",
       "      <td>Nephrotic syndrome with lesion of proliferati...</td>\n",
       "    </tr>\n",
       "    <tr>\n",
       "      <th>2</th>\n",
       "      <td>582.0</td>\n",
       "      <td>Chronic glomerulonephritis with lesion of pro...</td>\n",
       "    </tr>\n",
       "    <tr>\n",
       "      <th>3</th>\n",
       "      <td>583.0</td>\n",
       "      <td>Nephritis and nephropathy, not specified as a...</td>\n",
       "    </tr>\n",
       "    <tr>\n",
       "      <th>4</th>\n",
       "      <td>584.0</td>\n",
       "      <td>Acute kidney failure with lesion of tubular n...</td>\n",
       "    </tr>\n",
       "    <tr>\n",
       "      <th>5</th>\n",
       "      <td>585.0</td>\n",
       "      <td>Chronic kidney disease, Stage II (mild)</td>\n",
       "    </tr>\n",
       "    <tr>\n",
       "      <th>6</th>\n",
       "      <td>586.0</td>\n",
       "      <td>Renal failure, unspecified</td>\n",
       "    </tr>\n",
       "    <tr>\n",
       "      <th>7</th>\n",
       "      <td>587.0</td>\n",
       "      <td>Renal sclerosis, unspecified</td>\n",
       "    </tr>\n",
       "    <tr>\n",
       "      <th>8</th>\n",
       "      <td>588.0</td>\n",
       "      <td>Renal osteodystrophy</td>\n",
       "    </tr>\n",
       "    <tr>\n",
       "      <th>9</th>\n",
       "      <td>589.0</td>\n",
       "      <td>Unilateral small kidney</td>\n",
       "    </tr>\n",
       "    <tr>\n",
       "      <th>10</th>\n",
       "      <td>590.0</td>\n",
       "      <td>Chronic pyelonephritis without lesion of rena...</td>\n",
       "    </tr>\n",
       "    <tr>\n",
       "      <th>11</th>\n",
       "      <td>591.0</td>\n",
       "      <td>Hydronephrosis</td>\n",
       "    </tr>\n",
       "    <tr>\n",
       "      <th>12</th>\n",
       "      <td>592.0</td>\n",
       "      <td>Calculus of kidney</td>\n",
       "    </tr>\n",
       "    <tr>\n",
       "      <th>13</th>\n",
       "      <td>593.0</td>\n",
       "      <td>Nephroptosis</td>\n",
       "    </tr>\n",
       "    <tr>\n",
       "      <th>14</th>\n",
       "      <td>594.0</td>\n",
       "      <td>Calculus in diverticulum of bladder</td>\n",
       "    </tr>\n",
       "    <tr>\n",
       "      <th>15</th>\n",
       "      <td>595.0</td>\n",
       "      <td>Acute cystitis</td>\n",
       "    </tr>\n",
       "    <tr>\n",
       "      <th>16</th>\n",
       "      <td>596.0</td>\n",
       "      <td>Bladder neck obstruction</td>\n",
       "    </tr>\n",
       "    <tr>\n",
       "      <th>17</th>\n",
       "      <td>597.0</td>\n",
       "      <td>Urethral abscess</td>\n",
       "    </tr>\n",
       "    <tr>\n",
       "      <th>18</th>\n",
       "      <td>598.0</td>\n",
       "      <td>Urethral stricture due to unspecified infection</td>\n",
       "    </tr>\n",
       "    <tr>\n",
       "      <th>19</th>\n",
       "      <td>599.0</td>\n",
       "      <td>Urinary tract infection, site not specified</td>\n",
       "    </tr>\n",
       "    <tr>\n",
       "      <th>20</th>\n",
       "      <td>600.0</td>\n",
       "      <td>Hypertrophy (benign) of prostate without urin...</td>\n",
       "    </tr>\n",
       "    <tr>\n",
       "      <th>21</th>\n",
       "      <td>601.0</td>\n",
       "      <td>Acute prostatitis</td>\n",
       "    </tr>\n",
       "    <tr>\n",
       "      <th>22</th>\n",
       "      <td>602.0</td>\n",
       "      <td>Calculus of prostate</td>\n",
       "    </tr>\n",
       "    <tr>\n",
       "      <th>23</th>\n",
       "      <td>603.0</td>\n",
       "      <td>Encysted hydrocele</td>\n",
       "    </tr>\n",
       "    <tr>\n",
       "      <th>24</th>\n",
       "      <td>604.0</td>\n",
       "      <td>Orchitis, epididymitis, and epididymo-orchiti...</td>\n",
       "    </tr>\n",
       "    <tr>\n",
       "      <th>25</th>\n",
       "      <td>605.0</td>\n",
       "      <td>Redundant prepuce and phimosis</td>\n",
       "    </tr>\n",
       "    <tr>\n",
       "      <th>26</th>\n",
       "      <td>606.0</td>\n",
       "      <td>Azoospermia</td>\n",
       "    </tr>\n",
       "    <tr>\n",
       "      <th>27</th>\n",
       "      <td>607.0</td>\n",
       "      <td>Leukoplakia of penis</td>\n",
       "    </tr>\n",
       "    <tr>\n",
       "      <th>28</th>\n",
       "      <td>608.0</td>\n",
       "      <td>Seminal vesiculitis</td>\n",
       "    </tr>\n",
       "    <tr>\n",
       "      <th>29</th>\n",
       "      <td>610.0</td>\n",
       "      <td>Solitary cyst of breast</td>\n",
       "    </tr>\n",
       "    <tr>\n",
       "      <th>30</th>\n",
       "      <td>611.0</td>\n",
       "      <td>Inflammatory disease of breast</td>\n",
       "    </tr>\n",
       "    <tr>\n",
       "      <th>31</th>\n",
       "      <td>616.0</td>\n",
       "      <td>Cervicitis and endocervicitis</td>\n",
       "    </tr>\n",
       "    <tr>\n",
       "      <th>32</th>\n",
       "      <td>612.0</td>\n",
       "      <td>Deformity of reconstructed breast</td>\n",
       "    </tr>\n",
       "    <tr>\n",
       "      <th>33</th>\n",
       "      <td>614.0</td>\n",
       "      <td>Acute salpingitis and oophoritis</td>\n",
       "    </tr>\n",
       "    <tr>\n",
       "      <th>34</th>\n",
       "      <td>615.0</td>\n",
       "      <td>Acute inflammatory diseases of uterus, except...</td>\n",
       "    </tr>\n",
       "    <tr>\n",
       "      <th>35</th>\n",
       "      <td>617.0</td>\n",
       "      <td>Endometriosis of uterus</td>\n",
       "    </tr>\n",
       "    <tr>\n",
       "      <th>36</th>\n",
       "      <td>618.0</td>\n",
       "      <td>Unspecified prolapse of vaginal walls</td>\n",
       "    </tr>\n",
       "    <tr>\n",
       "      <th>37</th>\n",
       "      <td>619.0</td>\n",
       "      <td>Urinary-genital tract fistula, female</td>\n",
       "    </tr>\n",
       "    <tr>\n",
       "      <th>38</th>\n",
       "      <td>620.0</td>\n",
       "      <td>Follicular cyst of ovary</td>\n",
       "    </tr>\n",
       "    <tr>\n",
       "      <th>39</th>\n",
       "      <td>621.0</td>\n",
       "      <td>Polyp of corpus uteri</td>\n",
       "    </tr>\n",
       "    <tr>\n",
       "      <th>40</th>\n",
       "      <td>622.0</td>\n",
       "      <td>Erosion and ectropion of cervix</td>\n",
       "    </tr>\n",
       "    <tr>\n",
       "      <th>41</th>\n",
       "      <td>623.0</td>\n",
       "      <td>Dysplasia of vagina</td>\n",
       "    </tr>\n",
       "    <tr>\n",
       "      <th>42</th>\n",
       "      <td>624.0</td>\n",
       "      <td>Vulvar intraepithelial neoplasia II [VIN II]</td>\n",
       "    </tr>\n",
       "    <tr>\n",
       "      <th>43</th>\n",
       "      <td>625.0</td>\n",
       "      <td>Dyspareunia</td>\n",
       "    </tr>\n",
       "    <tr>\n",
       "      <th>44</th>\n",
       "      <td>626.0</td>\n",
       "      <td>Absence of menstruation</td>\n",
       "    </tr>\n",
       "    <tr>\n",
       "      <th>45</th>\n",
       "      <td>627.0</td>\n",
       "      <td>Premenopausal menorrhagia</td>\n",
       "    </tr>\n",
       "    <tr>\n",
       "      <th>46</th>\n",
       "      <td>628.0</td>\n",
       "      <td>Infertility, female, associated with anovulation</td>\n",
       "    </tr>\n",
       "    <tr>\n",
       "      <th>47</th>\n",
       "      <td>629.0</td>\n",
       "      <td>Hematocele, female, not elsewhere classified</td>\n",
       "    </tr>\n",
       "  </tbody>\n",
       "</table>\n",
       "</div>"
      ],
      "text/plain": [
       "    ICD_9_CODE                              DIAGNOSIS_DESCRIPTION\n",
       "0        580.0   Acute glomerulonephritis with lesion of proli...\n",
       "1        581.0   Nephrotic syndrome with lesion of proliferati...\n",
       "2        582.0   Chronic glomerulonephritis with lesion of pro...\n",
       "3        583.0   Nephritis and nephropathy, not specified as a...\n",
       "4        584.0   Acute kidney failure with lesion of tubular n...\n",
       "5        585.0            Chronic kidney disease, Stage II (mild)\n",
       "6        586.0                         Renal failure, unspecified\n",
       "7        587.0                       Renal sclerosis, unspecified\n",
       "8        588.0                               Renal osteodystrophy\n",
       "9        589.0                            Unilateral small kidney\n",
       "10       590.0   Chronic pyelonephritis without lesion of rena...\n",
       "11       591.0                                     Hydronephrosis\n",
       "12       592.0                                 Calculus of kidney\n",
       "13       593.0                                       Nephroptosis\n",
       "14       594.0                Calculus in diverticulum of bladder\n",
       "15       595.0                                     Acute cystitis\n",
       "16       596.0                           Bladder neck obstruction\n",
       "17       597.0                                   Urethral abscess\n",
       "18       598.0    Urethral stricture due to unspecified infection\n",
       "19       599.0        Urinary tract infection, site not specified\n",
       "20       600.0   Hypertrophy (benign) of prostate without urin...\n",
       "21       601.0                                  Acute prostatitis\n",
       "22       602.0                               Calculus of prostate\n",
       "23       603.0                                 Encysted hydrocele\n",
       "24       604.0   Orchitis, epididymitis, and epididymo-orchiti...\n",
       "25       605.0                     Redundant prepuce and phimosis\n",
       "26       606.0                                        Azoospermia\n",
       "27       607.0                               Leukoplakia of penis\n",
       "28       608.0                                Seminal vesiculitis\n",
       "29       610.0                            Solitary cyst of breast\n",
       "30       611.0                     Inflammatory disease of breast\n",
       "31       616.0                      Cervicitis and endocervicitis\n",
       "32       612.0                  Deformity of reconstructed breast\n",
       "33       614.0                   Acute salpingitis and oophoritis\n",
       "34       615.0   Acute inflammatory diseases of uterus, except...\n",
       "35       617.0                            Endometriosis of uterus\n",
       "36       618.0              Unspecified prolapse of vaginal walls\n",
       "37       619.0              Urinary-genital tract fistula, female\n",
       "38       620.0                           Follicular cyst of ovary\n",
       "39       621.0                              Polyp of corpus uteri\n",
       "40       622.0                    Erosion and ectropion of cervix\n",
       "41       623.0                                Dysplasia of vagina\n",
       "42       624.0       Vulvar intraepithelial neoplasia II [VIN II]\n",
       "43       625.0                                        Dyspareunia\n",
       "44       626.0                            Absence of menstruation\n",
       "45       627.0                          Premenopausal menorrhagia\n",
       "46       628.0   Infertility, female, associated with anovulation\n",
       "47       629.0       Hematocele, female, not elsewhere classified"
      ]
     },
     "execution_count": 14,
     "metadata": {},
     "output_type": "execute_result"
    }
   ],
   "source": [
    "df = pd.DataFrame(icd_codes, columns=['ICD_9_CODE','DIAGNOSIS_DESCRIPTION'])\n",
    "df"
   ]
  },
  {
   "cell_type": "code",
   "execution_count": 15,
   "metadata": {},
   "outputs": [],
   "source": [
    "df.to_csv('/home/jupyter/data/cms/uti-icd.csv',index=None)"
   ]
  },
  {
   "cell_type": "code",
   "execution_count": null,
   "metadata": {},
   "outputs": [],
   "source": []
  }
 ],
 "metadata": {
  "environment": {
   "name": "common-cpu.m46",
   "type": "gcloud",
   "uri": "gcr.io/deeplearning-platform-release/base-cpu:m46"
  },
  "kernelspec": {
   "display_name": "Python 3",
   "language": "python",
   "name": "python3"
  },
  "language_info": {
   "codemirror_mode": {
    "name": "ipython",
    "version": 3
   },
   "file_extension": ".py",
   "mimetype": "text/x-python",
   "name": "python",
   "nbconvert_exporter": "python",
   "pygments_lexer": "ipython3",
   "version": "3.7.6"
  }
 },
 "nbformat": 4,
 "nbformat_minor": 4
}
