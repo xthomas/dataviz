{
 "cells": [
  {
   "cell_type": "markdown",
   "metadata": {},
   "source": [
    "> Adding concurrent file downloads to last version"
   ]
  },
  {
   "cell_type": "code",
   "execution_count": 1,
   "metadata": {},
   "outputs": [],
   "source": [
    "import requests\n",
    "from multiprocessing.pool import ThreadPool"
   ]
  },
  {
   "cell_type": "code",
   "execution_count": 5,
   "metadata": {},
   "outputs": [],
   "source": [
    "# directories\n",
    "download_dir = \"/home/jupyter/data/cms/BSA_Carrier/\"\n",
    "# download_clump = \"temp.txt\"\n",
    "download_clump = \"BSA_Carrier_PUFs.txt\""
   ]
  },
  {
   "cell_type": "code",
   "execution_count": 6,
   "metadata": {},
   "outputs": [],
   "source": [
    "def download_url(url):\n",
    "  print(\"downloading: \",url)\n",
    "  # assumes that the last segment after the / represents the file name\n",
    "  # if url is abc/xyz/file.txt, the file name will be file.txt\n",
    "  file_name_start_pos = url.rfind(\"/\") + 1\n",
    "  file_name = url[file_name_start_pos:]\n",
    " \n",
    "  r = requests.get(url, stream=True)\n",
    "  if r.status_code == requests.codes.ok:\n",
    "    with open(download_dir + file_name, 'wb') as f:\n",
    "      for data in r:\n",
    "        f.write(data)"
   ]
  },
  {
   "cell_type": "code",
   "execution_count": 7,
   "metadata": {},
   "outputs": [],
   "source": [
    "# create an array from the list of downloads\n",
    "urls = []\n",
    "file = open (download_dir + download_clump)\n",
    "for line in file:\n",
    "    urls.append(line.strip(\"\\n\"))\n",
    "# print(urls)"
   ]
  },
  {
   "cell_type": "code",
   "execution_count": null,
   "metadata": {
    "scrolled": true
   },
   "outputs": [
    {
     "name": "stdout",
     "output_type": "stream",
     "text": [
      "downloading:  http://downloads.cms.gov/BSAPUF/2008_BSA_Carrier_Line_Items_PUF_4.zipdownloading:  http://downloads.cms.gov/BSAPUF/2008_BSA_Carrier_Line_Items_PUF_3.zip\n",
      "downloading:  http://downloads.cms.gov/BSAPUF/2008_BSA_Carrier_Line_Items_PUF_1.zip\n",
      "\n",
      "downloading:  http://downloads.cms.gov/BSAPUF/2008_BSA_Carrier_Line_Items_PUF_2.zip\n",
      "downloading:  http://downloads.cms.gov/BSAPUF/2008_BSA_Carrier_Line_Items_PUF_5.zip\n",
      "downloading:  http://downloads.cms.gov/BSAPUF/2008_BSA_Carrier_Line_Items_PUF_7.zip\n",
      "None\n",
      "downloading:  http://downloads.cms.gov/BSAPUF/2008_BSA_Carrier_Line_Items_PUF_6.zip\n",
      "None\n",
      "None\n",
      "None\n",
      "None\n"
     ]
    }
   ],
   "source": [
    "# Run 5 multiple threads. Each call will take the next element in urls list\n",
    "results = ThreadPool(5).imap_unordered(download_url, urls)\n",
    "for r in results:\n",
    "    print(r)"
   ]
  },
  {
   "cell_type": "code",
   "execution_count": null,
   "metadata": {},
   "outputs": [],
   "source": []
  }
 ],
 "metadata": {
  "environment": {
   "name": "common-cpu.m46",
   "type": "gcloud",
   "uri": "gcr.io/deeplearning-platform-release/base-cpu:m46"
  },
  "kernelspec": {
   "display_name": "Python 3",
   "language": "python",
   "name": "python3"
  },
  "language_info": {
   "codemirror_mode": {
    "name": "ipython",
    "version": 3
   },
   "file_extension": ".py",
   "mimetype": "text/x-python",
   "name": "python",
   "nbconvert_exporter": "python",
   "pygments_lexer": "ipython3",
   "version": "3.7.6"
  }
 },
 "nbformat": 4,
 "nbformat_minor": 4
}
