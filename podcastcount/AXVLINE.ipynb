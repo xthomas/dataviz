{
 "cells": [
  {
   "cell_type": "code",
   "execution_count": 32,
   "metadata": {},
   "outputs": [],
   "source": [
    "import numpy as np\n",
    "import pandas as pd\n",
    "from matplotlib import pyplot as plt"
   ]
  },
  {
   "cell_type": "code",
   "execution_count": 33,
   "metadata": {},
   "outputs": [],
   "source": [
    "data = {'a':(0,.3), 'b': (0.2,.3), 'c': (.1,.3), 'd': (0.3,0.4),'e':(.1,.2),'f':(.1,.4)}"
   ]
  },
  {
   "cell_type": "code",
   "execution_count": 34,
   "metadata": {},
   "outputs": [
    {
     "data": {
      "image/png": "[encoded data removed]",
      "text/plain": [
       "<Figure size 432x288 with 1 Axes>"
      ]
     },
     "metadata": {
      "needs_background": "light"
     },
     "output_type": "display_data"
    }
   ],
   "source": [
    "for key, values in data.items():\n",
    "    ymin, ymax = values\n",
    "    plt.axvline(x=key, ymin=ymin, ymax=ymax, lw=5)"
   ]
  },
  {
   "cell_type": "code",
   "execution_count": 35,
   "metadata": {},
   "outputs": [],
   "source": [
    "years = {'a':(2010,2012), 'b': (2008,2014), 'c': (2011,2012), 'd': (2009,2016),'e':(2012,2014),'f':(2009,2012)}\n",
    "width=0.5"
   ]
  },
  {
   "cell_type": "code",
   "execution_count": 36,
   "metadata": {},
   "outputs": [
    {
     "data": {
      "image/png": "[encoded data removed]",
      "text/plain": [
       "<Figure size 432x288 with 1 Axes>"
      ]
     },
     "metadata": {
      "needs_background": "light"
     },
     "output_type": "display_data"
    }
   ],
   "source": [
    "plt.ylim(2004,2018)\n",
    "for key, values in years.items():\n",
    "    ymin, ymax = values\n",
    "    plt.axvline(x=key, ymin=ymin, ymax=ymax, lw=1000)"
   ]
  },
  {
   "cell_type": "code",
   "execution_count": 37,
   "metadata": {},
   "outputs": [
    {
     "data": {
      "text/plain": [
       "{'a': (2010, 2012),\n",
       " 'b': (2008, 2014),\n",
       " 'c': (2011, 2012),\n",
       " 'd': (2009, 2016),\n",
       " 'e': (2012, 2014),\n",
       " 'f': (2009, 2012)}"
      ]
     },
     "execution_count": 37,
     "metadata": {},
     "output_type": "execute_result"
    }
   ],
   "source": [
    "years"
   ]
  },
  {
   "cell_type": "code",
   "execution_count": 38,
   "metadata": {},
   "outputs": [
    {
     "data": {
      "image/png": "[encoded data removed]",
      "text/plain": [
       "<Figure size 432x288 with 1 Axes>"
      ]
     },
     "metadata": {
      "needs_background": "light"
     },
     "output_type": "display_data"
    }
   ],
   "source": [
    "fig, ax = plt.subplots()\n",
    "plt.ylim(2004,2018)\n",
    "for i, values in enumerate(years.values()):\n",
    "    ymin, ymax = values\n",
    "    ax.axvspan(xmin=i-width/2, xmax=i+width/2, ymin=ymin,ymax=ymax)\n",
    "\n",
    "ax.grid(True)"
   ]
  },
  {
   "cell_type": "code",
   "execution_count": 46,
   "metadata": {},
   "outputs": [],
   "source": [
    "# example data recorded by two different sensors\n",
    "example_data1 = np.random.rand(5,2)\n",
    "example_data2 = np.random.rand(9,2)\n",
    "example_data3 = np.random.rand(9,2)\n",
    "\n",
    "# timestamps from sensor1\n",
    "times1 = ['2000-01-01 09:00:00',\n",
    "        '2000-01-01 09:15:00',\n",
    "        '2000-01-01 09:30:00',\n",
    "        '2000-01-01 09:45:00',\n",
    "        '2000-01-01 10:00:00']\n",
    "\n",
    "# timestamps from sensor2\n",
    "times2 = ['2000-01-01 08:45:00',\n",
    "        '2000-01-01 09:00:00',\n",
    "        '2000-01-01 09:15:00',\n",
    "        '2000-01-01 09:30:00',\n",
    "        '2000-01-01 09:45:00',\n",
    "        '2000-01-01 10:00:00',\n",
    "        '2000-01-01 10:15:00',\n",
    "        '2000-01-01 10:30:00',\n",
    "        '2000-01-01 10:45:00']\n",
    "\n",
    "# timestamps from sensor2\n",
    "times3 = ['2000-01-01 09:20:00',\n",
    "        '2000-01-01 09:40:00',\n",
    "        '2000-01-01 10:00:00',\n",
    "        '2000-01-01 10:20:00',\n",
    "        '2000-01-01 10:40:00',\n",
    "        '2000-01-01 11:00:00',\n",
    "        '2000-01-01 11:20:00',\n",
    "        '2000-01-01 11:40:00',\n",
    "        '2000-01-01 12:00:00']\n",
    "\n",
    "\n",
    "# create the DataFrame object for sensor1 with the times and data above\n",
    "sensor1 = pd.DataFrame({'Time': times1,\n",
    "                    'measure1': example_data1[:,0],\n",
    "                    'measure2': example_data1[:,1]})\n",
    "\n",
    "# create the DataFrame object for sensor2 with the times and data above\n",
    "sensor2 = pd.DataFrame({'Time': times2,\n",
    "                    'measure1': example_data2[:,0],\n",
    "                    'measure2': example_data2[:,1]})\n",
    "\n",
    "# create the DataFrame object for sensor2 with the times and data above\n",
    "sensor3 = pd.DataFrame({'Time': times3,\n",
    "                    'measure1': example_data3[:,0],\n",
    "                    'measure2': example_data3[:,1]})"
   ]
  },
  {
   "cell_type": "code",
   "execution_count": 47,
   "metadata": {},
   "outputs": [
    {
     "data": {
      "text/html": [
       "<div>\n",
       "<style scoped>\n",
       "    .dataframe tbody tr th:only-of-type {\n",
       "        vertical-align: middle;\n",
       "    }\n",
       "\n",
       "    .dataframe tbody tr th {\n",
       "        vertical-align: top;\n",
       "    }\n",
       "\n",
       "    .dataframe thead th {\n",
       "        text-align: right;\n",
       "    }\n",
       "</style>\n",
       "<table border=\"1\" class=\"dataframe\">\n",
       "  <thead>\n",
       "    <tr style=\"text-align: right;\">\n",
       "      <th></th>\n",
       "      <th>Time</th>\n",
       "      <th>measure1</th>\n",
       "      <th>measure2</th>\n",
       "    </tr>\n",
       "  </thead>\n",
       "  <tbody>\n",
       "    <tr>\n",
       "      <th>0</th>\n",
       "      <td>2000-01-01 09:00:00</td>\n",
       "      <td>0.276707</td>\n",
       "      <td>0.390673</td>\n",
       "    </tr>\n",
       "    <tr>\n",
       "      <th>1</th>\n",
       "      <td>2000-01-01 09:15:00</td>\n",
       "      <td>0.211947</td>\n",
       "      <td>0.915511</td>\n",
       "    </tr>\n",
       "    <tr>\n",
       "      <th>2</th>\n",
       "      <td>2000-01-01 09:30:00</td>\n",
       "      <td>0.273915</td>\n",
       "      <td>0.879367</td>\n",
       "    </tr>\n",
       "    <tr>\n",
       "      <th>3</th>\n",
       "      <td>2000-01-01 09:45:00</td>\n",
       "      <td>0.419352</td>\n",
       "      <td>0.240731</td>\n",
       "    </tr>\n",
       "    <tr>\n",
       "      <th>4</th>\n",
       "      <td>2000-01-01 10:00:00</td>\n",
       "      <td>0.369062</td>\n",
       "      <td>0.093554</td>\n",
       "    </tr>\n",
       "  </tbody>\n",
       "</table>\n",
       "</div>"
      ],
      "text/plain": [
       "                  Time  measure1  measure2\n",
       "0  2000-01-01 09:00:00  0.276707  0.390673\n",
       "1  2000-01-01 09:15:00  0.211947  0.915511\n",
       "2  2000-01-01 09:30:00  0.273915  0.879367\n",
       "3  2000-01-01 09:45:00  0.419352  0.240731\n",
       "4  2000-01-01 10:00:00  0.369062  0.093554"
      ]
     },
     "execution_count": 47,
     "metadata": {},
     "output_type": "execute_result"
    }
   ],
   "source": [
    "sensor1"
   ]
  },
  {
   "cell_type": "code",
   "execution_count": 50,
   "metadata": {},
   "outputs": [],
   "source": [
    "idx1 = pd.Index(sensor1.Time)\n",
    "idx2 = pd.Index(sensor2.Time)\n",
    "idx3 = pd.Index(sensor3.Time)"
   ]
  },
  {
   "cell_type": "code",
   "execution_count": 51,
   "metadata": {},
   "outputs": [
    {
     "data": {
      "text/plain": [
       "Index(['2000-01-01 09:00:00', '2000-01-01 09:15:00', '2000-01-01 09:30:00',\n",
       "       '2000-01-01 09:45:00', '2000-01-01 10:00:00'],\n",
       "      dtype='object', name='Time')"
      ]
     },
     "execution_count": 51,
     "metadata": {},
     "output_type": "execute_result"
    }
   ],
   "source": [
    "idx1"
   ]
  },
  {
   "cell_type": "code",
   "execution_count": 52,
   "metadata": {},
   "outputs": [],
   "source": [
    "df = pd.DataFrame(index=idx1.union(idx2).union(idx3))"
   ]
  },
  {
   "cell_type": "code",
   "execution_count": 53,
   "metadata": {},
   "outputs": [
    {
     "data": {
      "text/html": [
       "<div>\n",
       "<style scoped>\n",
       "    .dataframe tbody tr th:only-of-type {\n",
       "        vertical-align: middle;\n",
       "    }\n",
       "\n",
       "    .dataframe tbody tr th {\n",
       "        vertical-align: top;\n",
       "    }\n",
       "\n",
       "    .dataframe thead th {\n",
       "        text-align: right;\n",
       "    }\n",
       "</style>\n",
       "<table border=\"1\" class=\"dataframe\">\n",
       "  <thead>\n",
       "    <tr style=\"text-align: right;\">\n",
       "      <th></th>\n",
       "    </tr>\n",
       "    <tr>\n",
       "      <th>Time</th>\n",
       "    </tr>\n",
       "  </thead>\n",
       "  <tbody>\n",
       "    <tr>\n",
       "      <th>2000-01-01 08:45:00</th>\n",
       "    </tr>\n",
       "    <tr>\n",
       "      <th>2000-01-01 09:00:00</th>\n",
       "    </tr>\n",
       "    <tr>\n",
       "      <th>2000-01-01 09:15:00</th>\n",
       "    </tr>\n",
       "    <tr>\n",
       "      <th>2000-01-01 09:20:00</th>\n",
       "    </tr>\n",
       "    <tr>\n",
       "      <th>2000-01-01 09:30:00</th>\n",
       "    </tr>\n",
       "    <tr>\n",
       "      <th>2000-01-01 09:40:00</th>\n",
       "    </tr>\n",
       "    <tr>\n",
       "      <th>2000-01-01 09:45:00</th>\n",
       "    </tr>\n",
       "    <tr>\n",
       "      <th>2000-01-01 10:00:00</th>\n",
       "    </tr>\n",
       "    <tr>\n",
       "      <th>2000-01-01 10:15:00</th>\n",
       "    </tr>\n",
       "    <tr>\n",
       "      <th>2000-01-01 10:20:00</th>\n",
       "    </tr>\n",
       "    <tr>\n",
       "      <th>2000-01-01 10:30:00</th>\n",
       "    </tr>\n",
       "    <tr>\n",
       "      <th>2000-01-01 10:40:00</th>\n",
       "    </tr>\n",
       "    <tr>\n",
       "      <th>2000-01-01 10:45:00</th>\n",
       "    </tr>\n",
       "    <tr>\n",
       "      <th>2000-01-01 11:00:00</th>\n",
       "    </tr>\n",
       "    <tr>\n",
       "      <th>2000-01-01 11:20:00</th>\n",
       "    </tr>\n",
       "    <tr>\n",
       "      <th>2000-01-01 11:40:00</th>\n",
       "    </tr>\n",
       "    <tr>\n",
       "      <th>2000-01-01 12:00:00</th>\n",
       "    </tr>\n",
       "  </tbody>\n",
       "</table>\n",
       "</div>"
      ],
      "text/plain": [
       "Empty DataFrame\n",
       "Columns: []\n",
       "Index: [2000-01-01 08:45:00, 2000-01-01 09:00:00, 2000-01-01 09:15:00, 2000-01-01 09:20:00, 2000-01-01 09:30:00, 2000-01-01 09:40:00, 2000-01-01 09:45:00, 2000-01-01 10:00:00, 2000-01-01 10:15:00, 2000-01-01 10:20:00, 2000-01-01 10:30:00, 2000-01-01 10:40:00, 2000-01-01 10:45:00, 2000-01-01 11:00:00, 2000-01-01 11:20:00, 2000-01-01 11:40:00, 2000-01-01 12:00:00]"
      ]
     },
     "execution_count": 53,
     "metadata": {},
     "output_type": "execute_result"
    }
   ],
   "source": [
    "df"
   ]
  },
  {
   "cell_type": "code",
   "execution_count": 57,
   "metadata": {},
   "outputs": [],
   "source": [
    "df['Sensor1'] = df.index.to_series().apply(lambda x: 3 if x >= sensor1.Time.min() and x <= sensor1.Time.max() else np.NaN)\n",
    "df['Sensor2'] = df.index.to_series().apply(lambda x: 2 if x >= sensor2.Time.min() and x <= sensor2.Time.max() else np.NaN)\n",
    "df['Sensor3'] = df.index.to_series().apply(lambda x: 1 if x >= sensor3.Time.min() and x <= sensor3.Time.max() else np.NaN)"
   ]
  },
  {
   "cell_type": "code",
   "execution_count": 58,
   "metadata": {},
   "outputs": [
    {
     "data": {
      "text/html": [
       "<div>\n",
       "<style scoped>\n",
       "    .dataframe tbody tr th:only-of-type {\n",
       "        vertical-align: middle;\n",
       "    }\n",
       "\n",
       "    .dataframe tbody tr th {\n",
       "        vertical-align: top;\n",
       "    }\n",
       "\n",
       "    .dataframe thead th {\n",
       "        text-align: right;\n",
       "    }\n",
       "</style>\n",
       "<table border=\"1\" class=\"dataframe\">\n",
       "  <thead>\n",
       "    <tr style=\"text-align: right;\">\n",
       "      <th></th>\n",
       "      <th>Sensor1</th>\n",
       "      <th>Sensor2</th>\n",
       "      <th>Sensor3</th>\n",
       "    </tr>\n",
       "    <tr>\n",
       "      <th>Time</th>\n",
       "      <th></th>\n",
       "      <th></th>\n",
       "      <th></th>\n",
       "    </tr>\n",
       "  </thead>\n",
       "  <tbody>\n",
       "    <tr>\n",
       "      <th>2000-01-01 08:45:00</th>\n",
       "      <td>NaN</td>\n",
       "      <td>2.0</td>\n",
       "      <td>NaN</td>\n",
       "    </tr>\n",
       "    <tr>\n",
       "      <th>2000-01-01 09:00:00</th>\n",
       "      <td>3.0</td>\n",
       "      <td>2.0</td>\n",
       "      <td>NaN</td>\n",
       "    </tr>\n",
       "    <tr>\n",
       "      <th>2000-01-01 09:15:00</th>\n",
       "      <td>3.0</td>\n",
       "      <td>2.0</td>\n",
       "      <td>NaN</td>\n",
       "    </tr>\n",
       "    <tr>\n",
       "      <th>2000-01-01 09:20:00</th>\n",
       "      <td>3.0</td>\n",
       "      <td>2.0</td>\n",
       "      <td>1.0</td>\n",
       "    </tr>\n",
       "    <tr>\n",
       "      <th>2000-01-01 09:30:00</th>\n",
       "      <td>3.0</td>\n",
       "      <td>2.0</td>\n",
       "      <td>1.0</td>\n",
       "    </tr>\n",
       "    <tr>\n",
       "      <th>2000-01-01 09:40:00</th>\n",
       "      <td>3.0</td>\n",
       "      <td>2.0</td>\n",
       "      <td>1.0</td>\n",
       "    </tr>\n",
       "    <tr>\n",
       "      <th>2000-01-01 09:45:00</th>\n",
       "      <td>3.0</td>\n",
       "      <td>2.0</td>\n",
       "      <td>1.0</td>\n",
       "    </tr>\n",
       "    <tr>\n",
       "      <th>2000-01-01 10:00:00</th>\n",
       "      <td>3.0</td>\n",
       "      <td>2.0</td>\n",
       "      <td>1.0</td>\n",
       "    </tr>\n",
       "    <tr>\n",
       "      <th>2000-01-01 10:15:00</th>\n",
       "      <td>NaN</td>\n",
       "      <td>2.0</td>\n",
       "      <td>1.0</td>\n",
       "    </tr>\n",
       "    <tr>\n",
       "      <th>2000-01-01 10:20:00</th>\n",
       "      <td>NaN</td>\n",
       "      <td>2.0</td>\n",
       "      <td>1.0</td>\n",
       "    </tr>\n",
       "    <tr>\n",
       "      <th>2000-01-01 10:30:00</th>\n",
       "      <td>NaN</td>\n",
       "      <td>2.0</td>\n",
       "      <td>1.0</td>\n",
       "    </tr>\n",
       "    <tr>\n",
       "      <th>2000-01-01 10:40:00</th>\n",
       "      <td>NaN</td>\n",
       "      <td>2.0</td>\n",
       "      <td>1.0</td>\n",
       "    </tr>\n",
       "    <tr>\n",
       "      <th>2000-01-01 10:45:00</th>\n",
       "      <td>NaN</td>\n",
       "      <td>2.0</td>\n",
       "      <td>1.0</td>\n",
       "    </tr>\n",
       "    <tr>\n",
       "      <th>2000-01-01 11:00:00</th>\n",
       "      <td>NaN</td>\n",
       "      <td>NaN</td>\n",
       "      <td>1.0</td>\n",
       "    </tr>\n",
       "    <tr>\n",
       "      <th>2000-01-01 11:20:00</th>\n",
       "      <td>NaN</td>\n",
       "      <td>NaN</td>\n",
       "      <td>1.0</td>\n",
       "    </tr>\n",
       "    <tr>\n",
       "      <th>2000-01-01 11:40:00</th>\n",
       "      <td>NaN</td>\n",
       "      <td>NaN</td>\n",
       "      <td>1.0</td>\n",
       "    </tr>\n",
       "    <tr>\n",
       "      <th>2000-01-01 12:00:00</th>\n",
       "      <td>NaN</td>\n",
       "      <td>NaN</td>\n",
       "      <td>1.0</td>\n",
       "    </tr>\n",
       "  </tbody>\n",
       "</table>\n",
       "</div>"
      ],
      "text/plain": [
       "                     Sensor1  Sensor2  Sensor3\n",
       "Time                                          \n",
       "2000-01-01 08:45:00      NaN      2.0      NaN\n",
       "2000-01-01 09:00:00      3.0      2.0      NaN\n",
       "2000-01-01 09:15:00      3.0      2.0      NaN\n",
       "2000-01-01 09:20:00      3.0      2.0      1.0\n",
       "2000-01-01 09:30:00      3.0      2.0      1.0\n",
       "2000-01-01 09:40:00      3.0      2.0      1.0\n",
       "2000-01-01 09:45:00      3.0      2.0      1.0\n",
       "2000-01-01 10:00:00      3.0      2.0      1.0\n",
       "2000-01-01 10:15:00      NaN      2.0      1.0\n",
       "2000-01-01 10:20:00      NaN      2.0      1.0\n",
       "2000-01-01 10:30:00      NaN      2.0      1.0\n",
       "2000-01-01 10:40:00      NaN      2.0      1.0\n",
       "2000-01-01 10:45:00      NaN      2.0      1.0\n",
       "2000-01-01 11:00:00      NaN      NaN      1.0\n",
       "2000-01-01 11:20:00      NaN      NaN      1.0\n",
       "2000-01-01 11:40:00      NaN      NaN      1.0\n",
       "2000-01-01 12:00:00      NaN      NaN      1.0"
      ]
     },
     "execution_count": 58,
     "metadata": {},
     "output_type": "execute_result"
    }
   ],
   "source": [
    "df"
   ]
  },
  {
   "cell_type": "code",
   "execution_count": 66,
   "metadata": {},
   "outputs": [
    {
     "data": {
      "text/plain": [
       "[Text(0, 0, 'Sensor3'), Text(0, 0, 'Sensor2'), Text(0, 0, 'Sensor1')]"
      ]
     },
     "execution_count": 66,
     "metadata": {},
     "output_type": "execute_result"
    },
    {
     "data": {
      "image/png": "[encoded data removed]",
      "text/plain": [
       "<Figure size 432x288 with 1 Axes>"
      ]
     },
     "metadata": {
      "needs_background": "light"
     },
     "output_type": "display_data"
    }
   ],
   "source": [
    "# plot\n",
    "p = df.plot(ylim=[0, 4], legend=False)\n",
    "p.set_yticks([1., 2., 3.])\n",
    "p.set_yticklabels(['Sensor3', 'Sensor2', 'Sensor1'])"
   ]
  },
  {
   "cell_type": "code",
   "execution_count": 82,
   "metadata": {},
   "outputs": [],
   "source": [
    "# years from podcast1\n",
    "# years1 = ['2010-01-01 09:00:00',\n",
    "#         '2012-03-02 09:00:00']\n",
    "years1 = [2010,2012]\n",
    "\n",
    "# years from podcast2\n",
    "# years2 = ['2008-02-19 09:00:00',\n",
    "#         '2014-06-03 09:00:00']\n",
    "years2 = [2008,2014]\n",
    "\n",
    "# years from podcast3\n",
    "# years3 = ['2011-03-11 09:00:00',\n",
    "#         '2012-09-02 09:00:00']\n",
    "years3 = [2011,2012]"
   ]
  },
  {
   "cell_type": "code",
   "execution_count": 83,
   "metadata": {},
   "outputs": [],
   "source": [
    "podcast1 = pd.DataFrame({'Time': years1})\n",
    "podcast2 = pd.DataFrame({'Time': years2})\n",
    "podcast3 = pd.DataFrame({'Time': years3})\n",
    "podx1 = pd.Index(podcast1.Time)\n",
    "podx2 = pd.Index(podcast2.Time)\n",
    "podx3 = pd.Index(podcast3.Time)"
   ]
  },
  {
   "cell_type": "code",
   "execution_count": 84,
   "metadata": {},
   "outputs": [
    {
     "data": {
      "text/html": [
       "<div>\n",
       "<style scoped>\n",
       "    .dataframe tbody tr th:only-of-type {\n",
       "        vertical-align: middle;\n",
       "    }\n",
       "\n",
       "    .dataframe tbody tr th {\n",
       "        vertical-align: top;\n",
       "    }\n",
       "\n",
       "    .dataframe thead th {\n",
       "        text-align: right;\n",
       "    }\n",
       "</style>\n",
       "<table border=\"1\" class=\"dataframe\">\n",
       "  <thead>\n",
       "    <tr style=\"text-align: right;\">\n",
       "      <th></th>\n",
       "      <th>Time</th>\n",
       "    </tr>\n",
       "  </thead>\n",
       "  <tbody>\n",
       "    <tr>\n",
       "      <th>0</th>\n",
       "      <td>2008</td>\n",
       "    </tr>\n",
       "    <tr>\n",
       "      <th>1</th>\n",
       "      <td>2014</td>\n",
       "    </tr>\n",
       "  </tbody>\n",
       "</table>\n",
       "</div>"
      ],
      "text/plain": [
       "   Time\n",
       "0  2008\n",
       "1  2014"
      ]
     },
     "execution_count": 84,
     "metadata": {},
     "output_type": "execute_result"
    }
   ],
   "source": [
    "podcast2"
   ]
  },
  {
   "cell_type": "code",
   "execution_count": 85,
   "metadata": {},
   "outputs": [
    {
     "data": {
      "text/html": [
       "<div>\n",
       "<style scoped>\n",
       "    .dataframe tbody tr th:only-of-type {\n",
       "        vertical-align: middle;\n",
       "    }\n",
       "\n",
       "    .dataframe tbody tr th {\n",
       "        vertical-align: top;\n",
       "    }\n",
       "\n",
       "    .dataframe thead th {\n",
       "        text-align: right;\n",
       "    }\n",
       "</style>\n",
       "<table border=\"1\" class=\"dataframe\">\n",
       "  <thead>\n",
       "    <tr style=\"text-align: right;\">\n",
       "      <th></th>\n",
       "    </tr>\n",
       "    <tr>\n",
       "      <th>Time</th>\n",
       "    </tr>\n",
       "  </thead>\n",
       "  <tbody>\n",
       "    <tr>\n",
       "      <th>2008</th>\n",
       "    </tr>\n",
       "    <tr>\n",
       "      <th>2010</th>\n",
       "    </tr>\n",
       "    <tr>\n",
       "      <th>2011</th>\n",
       "    </tr>\n",
       "    <tr>\n",
       "      <th>2012</th>\n",
       "    </tr>\n",
       "    <tr>\n",
       "      <th>2014</th>\n",
       "    </tr>\n",
       "  </tbody>\n",
       "</table>\n",
       "</div>"
      ],
      "text/plain": [
       "Empty DataFrame\n",
       "Columns: []\n",
       "Index: [2008, 2010, 2011, 2012, 2014]"
      ]
     },
     "execution_count": 85,
     "metadata": {},
     "output_type": "execute_result"
    }
   ],
   "source": [
    "podcasts = pd.DataFrame(index=podx1.union(podx2).union(podx3))\n",
    "podcasts"
   ]
  },
  {
   "cell_type": "code",
   "execution_count": 86,
   "metadata": {},
   "outputs": [],
   "source": [
    "podcasts['Podcast1'] = podcasts.index.to_series().apply(lambda x: 3 if x >= podcast1.Time.min() and x <= podcast1.Time.max() else np.NaN)\n",
    "podcasts['Podcast2'] = podcasts.index.to_series().apply(lambda x: 2 if x >= podcast2.Time.min() and x <= podcast2.Time.max() else np.NaN)\n",
    "podcasts['Podcast3'] = podcasts.index.to_series().apply(lambda x: 1 if x >= podcast3.Time.min() and x <= podcast3.Time.max() else np.NaN)"
   ]
  },
  {
   "cell_type": "code",
   "execution_count": 87,
   "metadata": {},
   "outputs": [
    {
     "data": {
      "text/html": [
       "<div>\n",
       "<style scoped>\n",
       "    .dataframe tbody tr th:only-of-type {\n",
       "        vertical-align: middle;\n",
       "    }\n",
       "\n",
       "    .dataframe tbody tr th {\n",
       "        vertical-align: top;\n",
       "    }\n",
       "\n",
       "    .dataframe thead th {\n",
       "        text-align: right;\n",
       "    }\n",
       "</style>\n",
       "<table border=\"1\" class=\"dataframe\">\n",
       "  <thead>\n",
       "    <tr style=\"text-align: right;\">\n",
       "      <th></th>\n",
       "      <th>Podcast1</th>\n",
       "      <th>Podcast2</th>\n",
       "      <th>Podcast3</th>\n",
       "    </tr>\n",
       "    <tr>\n",
       "      <th>Time</th>\n",
       "      <th></th>\n",
       "      <th></th>\n",
       "      <th></th>\n",
       "    </tr>\n",
       "  </thead>\n",
       "  <tbody>\n",
       "    <tr>\n",
       "      <th>2008</th>\n",
       "      <td>NaN</td>\n",
       "      <td>2</td>\n",
       "      <td>NaN</td>\n",
       "    </tr>\n",
       "    <tr>\n",
       "      <th>2010</th>\n",
       "      <td>3.0</td>\n",
       "      <td>2</td>\n",
       "      <td>NaN</td>\n",
       "    </tr>\n",
       "    <tr>\n",
       "      <th>2011</th>\n",
       "      <td>3.0</td>\n",
       "      <td>2</td>\n",
       "      <td>1.0</td>\n",
       "    </tr>\n",
       "    <tr>\n",
       "      <th>2012</th>\n",
       "      <td>3.0</td>\n",
       "      <td>2</td>\n",
       "      <td>1.0</td>\n",
       "    </tr>\n",
       "    <tr>\n",
       "      <th>2014</th>\n",
       "      <td>NaN</td>\n",
       "      <td>2</td>\n",
       "      <td>NaN</td>\n",
       "    </tr>\n",
       "  </tbody>\n",
       "</table>\n",
       "</div>"
      ],
      "text/plain": [
       "      Podcast1  Podcast2  Podcast3\n",
       "Time                              \n",
       "2008       NaN         2       NaN\n",
       "2010       3.0         2       NaN\n",
       "2011       3.0         2       1.0\n",
       "2012       3.0         2       1.0\n",
       "2014       NaN         2       NaN"
      ]
     },
     "execution_count": 87,
     "metadata": {},
     "output_type": "execute_result"
    }
   ],
   "source": [
    "podcasts"
   ]
  },
  {
   "cell_type": "code",
   "execution_count": 126,
   "metadata": {},
   "outputs": [
    {
     "data": {
      "text/plain": [
       "[Text(0, 0, 'Podcast 1'), Text(0, 0, 'Podcast 2'), Text(0, 0, 'Podcast 3')]"
      ]
     },
     "execution_count": 126,
     "metadata": {},
     "output_type": "execute_result"
    },
    {
     "data": {
      "image/png": "[encoded data removed]",
      "text/plain": [
       "<Figure size 432x288 with 1 Axes>"
      ]
     },
     "metadata": {},
     "output_type": "display_data"
    }
   ],
   "source": []
  },
  {
   "cell_type": "code",
   "execution_count": 159,
   "metadata": {},
   "outputs": [],
   "source": [
    "import seaborn as sns\n",
    "sns.set(style=\"dark\", rc={\"lines.linewidth\": 8.0})\n",
    "# sns.set_context(\"paper\", font_scale=2.0)  \n",
    "sns.set_context(\"talk\", rc={\"font.size\":30,\"axes.titlesize\":8,\"axes.labelsize\":30,\"lines.linewidth\": 8.0})"
   ]
  },
  {
   "cell_type": "code",
   "execution_count": 164,
   "metadata": {},
   "outputs": [
    {
     "data": {
      "text/plain": [
       "Text(0.5, 0, '')"
      ]
     },
     "execution_count": 164,
     "metadata": {},
     "output_type": "execute_result"
    },
    {
     "data": {
      "image/png": "[encoded data removed]",
      "text/plain": [
       "<Figure size 576x864 with 1 Axes>"
      ]
     },
     "metadata": {},
     "output_type": "display_data"
    }
   ],
   "source": [
    "# plot\n",
    "p = podcasts.plot.line(ylim=[0, 4], figsize = (8, 12), legend=False)\n",
    "p.axes.set_title(\"Title\",fontsize = 50)\n",
    "p.set_yticks([1., 2., 3.])\n",
    "p.set_yticklabels(['Podcast Name Runs Long\\n(100 episodes)', 'Podcast 2\\n(7 episodes)', 'Podcast 3'],fontsize=20)\n",
    "p.set_xlabel('')"
   ]
  },
  {
   "cell_type": "code",
   "execution_count": null,
   "metadata": {},
   "outputs": [],
   "source": []
  }
 ],
 "metadata": {
  "environment": {
   "name": "common-cpu.m46",
   "type": "gcloud",
   "uri": "gcr.io/deeplearning-platform-release/base-cpu:m46"
  },
  "kernelspec": {
   "display_name": "Python 3",
   "language": "python",
   "name": "python3"
  },
  "language_info": {
   "codemirror_mode": {
    "name": "ipython",
    "version": 3
   },
   "file_extension": ".py",
   "mimetype": "text/x-python",
   "name": "python",
   "nbconvert_exporter": "python",
   "pygments_lexer": "ipython3",
   "version": "3.7.6"
  }
 },
 "nbformat": 4,
 "nbformat_minor": 4
}
