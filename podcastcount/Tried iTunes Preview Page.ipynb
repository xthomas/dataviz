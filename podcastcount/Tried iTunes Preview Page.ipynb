{
 "cells": [
  {
   "cell_type": "markdown",
   "metadata": {},
   "source": [
    "> install these libraries not inlcuded by default in **JupyterLab**:\n",
    "\n",
    "+ itunes API searcher\n",
    "    + ```$ pip install pyitunes```\n",
    "+ Selenium (to automate button clicks)\n",
    "    + ```$ pip install selenium```\n",
    "+ Chromium Driver\n",
    "    + ```sudo apt-get install chromium-driver```\n",
    "    + ```whereis chromedriver```    "
   ]
  },
  {
   "cell_type": "code",
   "execution_count": 3,
   "metadata": {},
   "outputs": [],
   "source": [
    "from selenium import webdriver\n",
    "import itunes\n",
    "import pattern3.web as web\n",
    "import pandas as pd \n",
    "import numpy as np \n",
    "import matplotlib.pyplot as plt\n",
    "from bs4 import BeautifulSoup\n",
    "import time"
   ]
  },
  {
   "cell_type": "code",
   "execution_count": 4,
   "metadata": {},
   "outputs": [
    {
     "name": "stderr",
     "output_type": "stream",
     "text": [
      "/opt/conda/lib/python3.7/site-packages/ipykernel_launcher.py:5: DeprecationWarning: use options instead of chrome_options\n",
      "  \"\"\"\n"
     ]
    }
   ],
   "source": [
    "options = webdriver.ChromeOptions()\n",
    "options.add_argument('--ignore-certificate-errors')\n",
    "options.add_argument('--incognito')\n",
    "options.add_argument('--headless')\n",
    "driver = webdriver.Chrome(\"/usr/bin/chromedriver\", chrome_options=options)"
   ]
  },
  {
   "cell_type": "code",
   "execution_count": 5,
   "metadata": {},
   "outputs": [],
   "source": [
    "item = itunes.search (query='beatles')"
   ]
  },
  {
   "cell_type": "code",
   "execution_count": 7,
   "metadata": {},
   "outputs": [
    {
     "data": {
      "text/plain": [
       "[<Song>: Iter Impius]"
      ]
     },
     "execution_count": 7,
     "metadata": {},
     "output_type": "execute_result"
    }
   ],
   "source": [
    "track = itunes.search_track('iter Impius')\n",
    "track"
   ]
  },
  {
   "cell_type": "code",
   "execution_count": 8,
   "metadata": {},
   "outputs": [
    {
     "name": "stdout",
     "output_type": "stream",
     "text": [
      "[<Song>: Let It Be, <Song>: Hey Jude, <Song>: In My Life, <Song>: Here Comes the Sun, <Song>: The Long and Winding Road, <Song>: Come Together, <Song>: Blackbird, <Song>: Ob-La-Di, Ob-La-Da, <Song>: Miss You, <Song>: When I'm Sixty-Four, <Song>: Yesterday, <Audiobook>: George Harrison, <Song>: Get Back, <Song>: All You Need Is Love, <Song>: Yesterday, <Song>: I Want to Hold Your Hand, <Song>: Let It Be, <Song>: Hey Jude, <Song>: Can't Buy Me Love, <Song>: A Hard Day's Night, <Song>: While My Guitar Gently Weeps, <Song>: Lucy In the Sky with Diamonds, <Song>: Yellow Submarine, <Audiobook>: The Meaning of Life in 5 Easy Lessons (To the Best of Our Knowledge Series), <Song>: She Loves You, <Song>: Eleanor Rigby, <Song>: Help!, <Song>: Eight Days a Week, <Song>: Come Together, <Song>: Love Me Do, <Song>: With a Little Help From My Friends, <Song>: Penny Lane, <Song>: We Can Work It Out, <Song>: Something, <Audiobook>: Paul McCartney, <Song>: Hello, Goodbye, <Song>: Day Tripper, <Song>: Ticket to Ride, <Song>: Lady Madonna, <Song>: Birthday, <Song>: Revolution, <Song>: Paperback Writer, <Song>: From Me to You, <Song>: I Feel Fine, <Song>: The Ballad of John and Yoko, <Song>: A Day In the Life, <Song>: Something, <Song>: Sgt. Pepper's Lonely Hearts Club Band, <Song>: Oh! Darling, <Song>: Back In the U.S.S.R., <Song>: She Came in Through the Bathroom Window, <Song>: Golden Slumbers, <Song>: Black Beatles (feat. Gucci Mane), <Song>: Octopus's Garden, <Song>: Strawberry Fields Forever, <Song>: I Want You (She's So Heavy), <Song>: Eleanor Rigby, <Song>: Don't Let Me Down, <Song>: Maxwell's Silver Hammer, <Song>: Carry That Weight, <Song>: You Never Give Me Your Money, <Song>: The End, <Song>: Because, <Song>: Rocky Raccoon, <Song>: I Will, <Song>: If I Needed Someone, <Song>: I Want to Hold Your Hand, <Song>: Dear Prudence, <Song>: Mean Mr Mustard, <Song>: Helter Skelter, <Song>: Polythene Pam, <Song>: Being For the Benefit of Mr. Kite!, <Song>: Sun King, <Song>: Get Back, <Song>: Her Majesty, <Song>: I Am the Walrus, <Song>: Hello, Goodbye, <Song>: Beatles, <Song>: Mother Nature's Son, <Song>: Happiness Is a Warm Gun, <Song>: Sgt. Pepper's Lonely Hearts Club Band, <Audiobook>: Ringo Starr, <Song>: Everybody's Got Something to Hide Except Me and My Monkey, <Song>: She's Leaving Home, <Song>: Norwegian Wood (This Bird Has Flown), <Song>: Across the Universe, <Song>: Getting Better, <Song>: Penny Lane, <Song>: Lovely Rita, <Song>: Let It Be, <Song>: With a Little Help From My Friends, <Song>: Julia, <Song>: Within You Without You, <Song>: Revolution 1, <Song>: Michelle, <Song>: Fixing a Hole, <Song>: Good Night, <Song>: I'm So Tired, <Song>: Lucy In the Sky with Diamonds, <Song>: Glass Onion]\n"
     ]
    }
   ],
   "source": [
    "print (item)"
   ]
  },
  {
   "cell_type": "code",
   "execution_count": 14,
   "metadata": {},
   "outputs": [
    {
     "ename": "AttributeError",
     "evalue": "module 'itunes' has no attribute 'search_podcasts'",
     "output_type": "error",
     "traceback": [
      "\u001b[0;31m---------------------------------------------------------------------------\u001b[0m",
      "\u001b[0;31mAttributeError\u001b[0m                            Traceback (most recent call last)",
      "\u001b[0;32m<ipython-input-14-394859803b7d>\u001b[0m in \u001b[0;36m<module>\u001b[0;34m\u001b[0m\n\u001b[0;32m----> 1\u001b[0;31m \u001b[0mpods\u001b[0m \u001b[0;34m=\u001b[0m \u001b[0mitunes\u001b[0m\u001b[0;34m.\u001b[0m\u001b[0msearch_podcasts\u001b[0m\u001b[0;34m(\u001b[0m\u001b[0;34m'Infectious Diseases Society of America'\u001b[0m\u001b[0;34m)\u001b[0m\u001b[0;34m\u001b[0m\u001b[0;34m\u001b[0m\u001b[0m\n\u001b[0m\u001b[1;32m      2\u001b[0m \u001b[0mpods\u001b[0m\u001b[0;34m\u001b[0m\u001b[0;34m\u001b[0m\u001b[0m\n",
      "\u001b[0;31mAttributeError\u001b[0m: module 'itunes' has no attribute 'search_podcasts'"
     ]
    }
   ],
   "source": [
    "pods = itunes.search_podcasts('Infectious Diseases Society of America')\n",
    "pods"
   ]
  },
  {
   "cell_type": "code",
   "execution_count": 5,
   "metadata": {},
   "outputs": [],
   "source": [
    "id = itunes.search(query='infectious disease', media='podcast')"
   ]
  },
  {
   "cell_type": "code",
   "execution_count": 6,
   "metadata": {},
   "outputs": [
    {
     "name": "stdout",
     "output_type": "stream",
     "text": [
      "[<Podcast>: Infectious Diseases Society of America, <Podcast>: Emerging Infectious Diseases, <Podcast>: Persiflagers Infectious Disease Puscast, <Podcast>: Infectious Disease, <Podcast>: Breakpoints, <Podcast>: The Open Forum Infectious Diseases Podcast, <Podcast>: Infectious Disease & Antibiotic Resistance, <Podcast>: Persiflagers Infectious Disease Puscast, <Podcast>: Infectious Disease Dynamics, <Podcast>: PeerView Infectious Diseases CME/CNE/CPE Audio Podcast, <Podcast>: PeerVoice Immunology & Infectious Disease Audio, <Podcast>: PeerView Infectious Diseases CME/CNE/CPE Video Podcast, <Podcast>: Infectious Questions : An Infectious Diseases Public Health Podcast, <Podcast>: Infectious Diseases, <Podcast>: The History of Infectious Diseases, <Podcast>: Podcasts – PKIDs Blog, <Podcast>: Infectious Diseases and Pandemics (audio), <Podcast>: Infectious Diseases and Pandemics (video), <Podcast>: Disease State - Infectious, <Podcast>: PeerVoice Immunology & Infectious Disease Video]\n"
     ]
    }
   ],
   "source": [
    "print (id)"
   ]
  },
  {
   "cell_type": "code",
   "execution_count": 7,
   "metadata": {},
   "outputs": [
    {
     "name": "stdout",
     "output_type": "stream",
     "text": [
      "<Podcast>: Infectious Diseases Society of America\n",
      "<Podcast>: Emerging Infectious Diseases\n",
      "<Podcast>: Persiflagers Infectious Disease Puscast\n",
      "<Podcast>: Infectious Disease\n",
      "<Podcast>: Breakpoints\n",
      "<Podcast>: The Open Forum Infectious Diseases Podcast\n",
      "<Podcast>: Infectious Disease & Antibiotic Resistance\n",
      "<Podcast>: Persiflagers Infectious Disease Puscast\n",
      "<Podcast>: Infectious Disease Dynamics\n",
      "<Podcast>: PeerView Infectious Diseases CME/CNE/CPE Audio Podcast\n",
      "<Podcast>: PeerVoice Immunology & Infectious Disease Audio\n",
      "<Podcast>: PeerView Infectious Diseases CME/CNE/CPE Video Podcast\n",
      "<Podcast>: Infectious Questions : An Infectious Diseases Public Health Podcast\n",
      "<Podcast>: Infectious Diseases\n",
      "<Podcast>: The History of Infectious Diseases\n",
      "<Podcast>: Podcasts – PKIDs Blog\n",
      "<Podcast>: Infectious Diseases and Pandemics (audio)\n",
      "<Podcast>: Infectious Diseases and Pandemics (video)\n",
      "<Podcast>: Disease State - Infectious\n",
      "<Podcast>: PeerVoice Immunology & Infectious Disease Video\n"
     ]
    }
   ],
   "source": [
    "for item in id:\n",
    "    print (item)"
   ]
  },
  {
   "cell_type": "code",
   "execution_count": 8,
   "metadata": {},
   "outputs": [],
   "source": [
    "apod = 519582740\n",
    "podcast = itunes.lookup(apod)"
   ]
  },
  {
   "cell_type": "code",
   "execution_count": 9,
   "metadata": {},
   "outputs": [
    {
     "name": "stdout",
     "output_type": "stream",
     "text": [
      "{'id': 519582740, 'name': 'Infectious Diseases Society of America', 'url': 'https://podcasts.apple.com/us/podcast/infectious-diseases-society-of-america/id519582740?uo=4', '_release_date': None, 'artwork': {'30': 'https://is3-ssl.mzstatic.com/image/thumb/Podcasts6/v4/97/ac/53/97ac535a-8e19-5a04-df2c-a5713369e99d/mza_158942553313998590.jpg/30x30bb.jpg', '60': 'https://is3-ssl.mzstatic.com/image/thumb/Podcasts6/v4/97/ac/53/97ac535a-8e19-5a04-df2c-a5713369e99d/mza_158942553313998590.jpg/60x60bb.jpg', '600': 'https://is3-ssl.mzstatic.com/image/thumb/Podcasts6/v4/97/ac/53/97ac535a-8e19-5a04-df2c-a5713369e99d/mza_158942553313998590.jpg/600x600bb.jpg'}, 'json': {'wrapperType': 'track', 'kind': 'podcast', 'collectionId': 519582740, 'trackId': 519582740, 'artistName': 'IDSA', 'collectionName': 'Infectious Diseases Society of America', 'trackName': 'Infectious Diseases Society of America', 'collectionCensoredName': 'Infectious Diseases Society of America', 'trackCensoredName': 'Infectious Diseases Society of America', 'collectionViewUrl': 'https://podcasts.apple.com/us/podcast/infectious-diseases-society-of-america/id519582740?uo=4', 'feedUrl': 'http://idsocietypodcast.libsyn.com/rss', 'trackViewUrl': 'https://podcasts.apple.com/us/podcast/infectious-diseases-society-of-america/id519582740?uo=4', 'artworkUrl30': 'https://is3-ssl.mzstatic.com/image/thumb/Podcasts6/v4/97/ac/53/97ac535a-8e19-5a04-df2c-a5713369e99d/mza_158942553313998590.jpg/30x30bb.jpg', 'artworkUrl60': 'https://is3-ssl.mzstatic.com/image/thumb/Podcasts6/v4/97/ac/53/97ac535a-8e19-5a04-df2c-a5713369e99d/mza_158942553313998590.jpg/60x60bb.jpg', 'artworkUrl100': 'https://is3-ssl.mzstatic.com/image/thumb/Podcasts6/v4/97/ac/53/97ac535a-8e19-5a04-df2c-a5713369e99d/mza_158942553313998590.jpg/100x100bb.jpg', 'collectionPrice': 0.0, 'trackPrice': 0.0, 'trackRentalPrice': 0, 'collectionHdPrice': 0, 'trackHdPrice': 0, 'trackHdRentalPrice': 0, 'releaseDate': '2020-05-19T09:00:00Z', 'collectionExplicitness': 'cleaned', 'trackExplicitness': 'cleaned', 'trackCount': 53, 'country': 'USA', 'currency': 'USD', 'primaryGenreName': 'Science', 'contentAdvisoryRating': 'Clean', 'artworkUrl600': 'https://is3-ssl.mzstatic.com/image/thumb/Podcasts6/v4/97/ac/53/97ac535a-8e19-5a04-df2c-a5713369e99d/mza_158942553313998590.jpg/600x600bb.jpg', 'genreIds': ['1533', '26', '1512', '1518'], 'genres': ['Science', 'Podcasts', 'Health & Fitness', 'Medicine']}, 'type': 'podcast', 'genre': 'Science', 'release_date_raw': '2020-05-19T09:00:00Z', 'country_store': 'USA', 'preview_url': None, 'price': 0.0, 'number': None, 'duration': None, 'artist': None, 'album': <Podcast>: Infectious Diseases Society of America}\n"
     ]
    }
   ],
   "source": [
    "print (vars(podcast))"
   ]
  },
  {
   "cell_type": "code",
   "execution_count": 10,
   "metadata": {},
   "outputs": [
    {
     "name": "stdout",
     "output_type": "stream",
     "text": [
      "<Podcast>: Infectious Diseases Society of America\n"
     ]
    }
   ],
   "source": [
    "print (podcast)"
   ]
  },
  {
   "cell_type": "code",
   "execution_count": 11,
   "metadata": {},
   "outputs": [
    {
     "name": "stdout",
     "output_type": "stream",
     "text": [
      "<Podcast>: Infectious Diseases Society of America\n"
     ]
    }
   ],
   "source": [
    "print (podcast.album)"
   ]
  },
  {
   "cell_type": "code",
   "execution_count": 12,
   "metadata": {},
   "outputs": [
    {
     "name": "stdout",
     "output_type": "stream",
     "text": [
      "podcast\n"
     ]
    }
   ],
   "source": [
    "print (podcast.type)"
   ]
  },
  {
   "cell_type": "code",
   "execution_count": 13,
   "metadata": {},
   "outputs": [
    {
     "name": "stdout",
     "output_type": "stream",
     "text": [
      "Science\n"
     ]
    }
   ],
   "source": [
    "print (podcast.genre)"
   ]
  },
  {
   "cell_type": "code",
   "execution_count": 14,
   "metadata": {},
   "outputs": [
    {
     "name": "stdout",
     "output_type": "stream",
     "text": [
      "{'wrapperType': 'track', 'kind': 'podcast', 'collectionId': 519582740, 'trackId': 519582740, 'artistName': 'IDSA', 'collectionName': 'Infectious Diseases Society of America', 'trackName': 'Infectious Diseases Society of America', 'collectionCensoredName': 'Infectious Diseases Society of America', 'trackCensoredName': 'Infectious Diseases Society of America', 'collectionViewUrl': 'https://podcasts.apple.com/us/podcast/infectious-diseases-society-of-america/id519582740?uo=4', 'feedUrl': 'http://idsocietypodcast.libsyn.com/rss', 'trackViewUrl': 'https://podcasts.apple.com/us/podcast/infectious-diseases-society-of-america/id519582740?uo=4', 'artworkUrl30': 'https://is3-ssl.mzstatic.com/image/thumb/Podcasts6/v4/97/ac/53/97ac535a-8e19-5a04-df2c-a5713369e99d/mza_158942553313998590.jpg/30x30bb.jpg', 'artworkUrl60': 'https://is3-ssl.mzstatic.com/image/thumb/Podcasts6/v4/97/ac/53/97ac535a-8e19-5a04-df2c-a5713369e99d/mza_158942553313998590.jpg/60x60bb.jpg', 'artworkUrl100': 'https://is3-ssl.mzstatic.com/image/thumb/Podcasts6/v4/97/ac/53/97ac535a-8e19-5a04-df2c-a5713369e99d/mza_158942553313998590.jpg/100x100bb.jpg', 'collectionPrice': 0.0, 'trackPrice': 0.0, 'trackRentalPrice': 0, 'collectionHdPrice': 0, 'trackHdPrice': 0, 'trackHdRentalPrice': 0, 'releaseDate': '2020-05-19T09:00:00Z', 'collectionExplicitness': 'cleaned', 'trackExplicitness': 'cleaned', 'trackCount': 53, 'country': 'USA', 'currency': 'USD', 'primaryGenreName': 'Science', 'contentAdvisoryRating': 'Clean', 'artworkUrl600': 'https://is3-ssl.mzstatic.com/image/thumb/Podcasts6/v4/97/ac/53/97ac535a-8e19-5a04-df2c-a5713369e99d/mza_158942553313998590.jpg/600x600bb.jpg', 'genreIds': ['1533', '26', '1512', '1518'], 'genres': ['Science', 'Podcasts', 'Health & Fitness', 'Medicine']}\n"
     ]
    }
   ],
   "source": [
    "print (podcast.json)"
   ]
  },
  {
   "cell_type": "code",
   "execution_count": 15,
   "metadata": {},
   "outputs": [
    {
     "name": "stdout",
     "output_type": "stream",
     "text": [
      "podcast\n"
     ]
    }
   ],
   "source": [
    "print (podcast.json['kind'])"
   ]
  },
  {
   "cell_type": "code",
   "execution_count": 16,
   "metadata": {},
   "outputs": [
    {
     "name": "stdout",
     "output_type": "stream",
     "text": [
      "53\n"
     ]
    }
   ],
   "source": [
    "print (podcast.json['trackCount'])"
   ]
  },
  {
   "cell_type": "markdown",
   "metadata": {},
   "source": [
    "### ⇪ A little wierd, all this info packed in the \"JSON\" attribute, but nevertheless, there it is.\n",
    "\n",
    "- - -\n",
    "\n",
    "# So let's lookup some stuff about Infectious Disease podcasts\n",
    "\n",
    "+ no. of individual posts / episodes per year since publishing\n",
    "+ length posts (minutes)\n",
    "+ rating per channel +/or track\n",
    "\n",
    "### first for # posts / episodes / page URL"
   ]
  },
  {
   "cell_type": "code",
   "execution_count": 17,
   "metadata": {},
   "outputs": [
    {
     "name": "stdout",
     "output_type": "stream",
     "text": [
      "53 podcasts in \"Infectious Diseases Society of America\" (with id = 519582740)\n",
      "The last post in this channel was 2020-05-19T09:00:00Z, and iTunes page lising all podcast episodes:\n",
      "https://podcasts.apple.com/us/podcast/infectious-diseases-society-of-america/id519582740?uo=4\n",
      "\n",
      "50 podcasts in \"Emerging Infectious Diseases\" (with id = 212828612)\n",
      "The last post in this channel was 2020-05-13T22:55:00Z, and iTunes page lising all podcast episodes:\n",
      "https://podcasts.apple.com/us/podcast/emerging-infectious-diseases/id212828612?uo=4\n",
      "\n",
      "300 podcasts in \"Persiflagers Infectious Disease Puscast\" (with id = 79930757)\n",
      "The last post in this channel was 2020-05-17T08:25:00Z, and iTunes page lising all podcast episodes:\n",
      "https://podcasts.apple.com/us/podcast/persiflagers-infectious-disease-puscast/id79930757?uo=4\n",
      "\n",
      "49 podcasts in \"Infectious Disease\" (with id = 415333788)\n",
      "The last post in this channel was 2016-03-15T10:31:00Z, and iTunes page lising all podcast episodes:\n",
      "https://podcasts.apple.com/us/podcast/infectious-disease/id415333788?uo=4\n",
      "\n",
      "22 podcasts in \"Breakpoints\" (with id = 1470308447)\n",
      "The last post in this channel was 2020-05-15T09:00:00Z, and iTunes page lising all podcast episodes:\n",
      "https://podcasts.apple.com/us/podcast/breakpoints/id1470308447?uo=4\n",
      "\n",
      "28 podcasts in \"The Open Forum Infectious Diseases Podcast\" (with id = 1368469324)\n",
      "The last post in this channel was 2020-04-17T15:00:00Z, and iTunes page lising all podcast episodes:\n",
      "https://podcasts.apple.com/us/podcast/the-open-forum-infectious-diseases-podcast/id1368469324?uo=4\n",
      "\n",
      "7 podcasts in \"Infectious Disease & Antibiotic Resistance\" (with id = 621579678)\n",
      "The last post in this channel was 2013-03-21T09:30:00Z, and iTunes page lising all podcast episodes:\n",
      "https://podcasts.apple.com/us/podcast/infectious-disease-antibiotic-resistance/id621579678?uo=4\n",
      "\n",
      "300 podcasts in \"Persiflagers Infectious Disease Puscast\" (with id = 1153935086)\n",
      "The last post in this channel was 2020-05-17T08:25:00Z, and iTunes page lising all podcast episodes:\n",
      "https://podcasts.apple.com/us/podcast/persiflagers-infectious-disease-puscast/id1153935086?uo=4\n",
      "\n",
      "53 podcasts in \"Infectious Disease Dynamics\" (with id = 833385368)\n",
      "The last post in this channel was 2014-05-30T09:35:00Z, and iTunes page lising all podcast episodes:\n",
      "https://podcasts.apple.com/us/podcast/infectious-disease-dynamics/id833385368?uo=4\n",
      "\n",
      "16 podcasts in \"PeerView Infectious Diseases CME/CNE/CPE Audio Podcast\" (with id = 275853748)\n",
      "The last post in this channel was 2020-04-24T23:00:00Z, and iTunes page lising all podcast episodes:\n",
      "https://podcasts.apple.com/us/podcast/peerview-infectious-diseases-cme-cne-cpe-audio-podcast/id275853748?uo=4\n",
      "\n",
      "25 podcasts in \"PeerVoice Immunology & Infectious Disease Audio\" (with id = 496654255)\n",
      "The last post in this channel was 2019-08-26T23:00:00Z, and iTunes page lising all podcast episodes:\n",
      "https://podcasts.apple.com/us/podcast/peervoice-immunology-infectious-disease-audio/id496654255?uo=4\n",
      "\n",
      "15 podcasts in \"PeerView Infectious Diseases CME/CNE/CPE Video Podcast\" (with id = 288732495)\n",
      "The last post in this channel was 2020-04-24T23:00:00Z, and iTunes page lising all podcast episodes:\n",
      "https://podcasts.apple.com/us/podcast/peerview-infectious-diseases-cme-cne-cpe-video-podcast/id288732495?uo=4\n",
      "\n",
      "26 podcasts in \"Infectious Questions : An Infectious Diseases Public Health Podcast\" (with id = 1095847486)\n",
      "The last post in this channel was 2020-04-29T17:25:00Z, and iTunes page lising all podcast episodes:\n",
      "https://podcasts.apple.com/us/podcast/infectious-questions-infectious-diseases-public-health/id1095847486?uo=4\n",
      "\n",
      "8 podcasts in \"Infectious Diseases\" (with id = 449847895)\n",
      "The last post in this channel was 2018-03-06T14:19:00Z, and iTunes page lising all podcast episodes:\n",
      "https://podcasts.apple.com/us/podcast/infectious-diseases/id449847895?uo=4\n",
      "\n",
      "2 podcasts in \"The History of Infectious Diseases\" (with id = 700715374)\n",
      "The last post in this channel was 2016-08-17T09:40:00Z, and iTunes page lising all podcast episodes:\n",
      "https://podcasts.apple.com/us/podcast/the-history-of-infectious-diseases/id700715374?uo=4\n",
      "\n",
      "10 podcasts in \"Podcasts – PKIDs Blog\" (with id = 218493791)\n",
      "The last post in this channel was 2012-04-16T15:00:00Z, and iTunes page lising all podcast episodes:\n",
      "https://podcasts.apple.com/us/podcast/podcasts-pkids-blog/id218493791?uo=4\n",
      "\n",
      "3 podcasts in \"Infectious Diseases and Pandemics (audio)\" (with id = 404210329)\n",
      "The last post in this channel was 2009-07-31T09:54:00Z, and iTunes page lising all podcast episodes:\n",
      "https://podcasts.apple.com/us/podcast/infectious-diseases-and-pandemics-audio/id404210329?uo=4\n",
      "\n",
      "4 podcasts in \"Infectious Diseases and Pandemics (video)\" (with id = 391198056)\n",
      "The last post in this channel was 2008-09-16T05:00:00Z, and iTunes page lising all podcast episodes:\n",
      "https://podcasts.apple.com/us/podcast/infectious-diseases-and-pandemics-video/id391198056?uo=4\n",
      "\n",
      "17 podcasts in \"Disease State - Infectious\" (with id = 546659150)\n",
      "The last post in this channel was 2012-08-22T19:28:00Z, and iTunes page lising all podcast episodes:\n",
      "https://podcasts.apple.com/us/podcast/disease-state-infectious/id546659150?uo=4\n",
      "\n",
      "25 podcasts in \"PeerVoice Immunology & Infectious Disease Video\" (with id = 496653922)\n",
      "The last post in this channel was 2019-08-26T23:00:00Z, and iTunes page lising all podcast episodes:\n",
      "https://podcasts.apple.com/us/podcast/peervoice-immunology-infectious-disease-video/id496653922?uo=4\n",
      "\n"
     ]
    }
   ],
   "source": [
    "for channel in id:\n",
    "    print (f'{channel.json[\"trackCount\"]} podcasts in \"{channel.json[\"collectionName\"]}\" (with id = {channel.id})')\n",
    "    print (f'The last post in this channel was {channel.json[\"releaseDate\"]}, and iTunes page lising all podcast episodes:')\n",
    "    print (f'{channel.json[\"collectionViewUrl\"]}\\n')"
   ]
  },
  {
   "cell_type": "code",
   "execution_count": 18,
   "metadata": {},
   "outputs": [
    {
     "name": "stdout",
     "output_type": "stream",
     "text": [
      "6\n"
     ]
    }
   ],
   "source": [
    "driver.get('https://podcasts.apple.com/us/podcast/infectious-diseases-society-of-america/id519582740?uo=4')\n",
    "pagesrc = driver.page_source\n",
    "bs = BeautifulSoup(pagesrc)\n",
    "titles = bs.find_all('div', {\"class\":\"tracks__track__content\"})\n",
    "print(len(titles))"
   ]
  },
  {
   "cell_type": "code",
   "execution_count": 19,
   "metadata": {},
   "outputs": [
    {
     "data": {
      "text/plain": [
       "[<selenium.webdriver.remote.webelement.WebElement (session=\"0f81b8f384e1113a503b85c696cab6ac\", element=\"0.9102995041720372-1\")>]"
      ]
     },
     "execution_count": 19,
     "metadata": {},
     "output_type": "execute_result"
    }
   ],
   "source": [
    "time.sleep(5)\n",
    "python_button = driver.find_elements_by_xpath(\"//button[@class='link']\")\n",
    "python_button"
   ]
  },
  {
   "cell_type": "code",
   "execution_count": 24,
   "metadata": {},
   "outputs": [
    {
     "data": {
      "text/plain": [
       "<selenium.webdriver.remote.webelement.WebElement (session=\"0f81b8f384e1113a503b85c696cab6ac\", element=\"0.9102995041720372-1\")>"
      ]
     },
     "execution_count": 24,
     "metadata": {},
     "output_type": "execute_result"
    }
   ],
   "source": [
    "python_button[0]"
   ]
  },
  {
   "cell_type": "code",
   "execution_count": 21,
   "metadata": {},
   "outputs": [],
   "source": [
    "python_button[0].click()"
   ]
  },
  {
   "cell_type": "code",
   "execution_count": 22,
   "metadata": {},
   "outputs": [
    {
     "ename": "StaleElementReferenceException",
     "evalue": "Message: stale element reference: element is not attached to the page document\n  (Session info: headless chrome=73.0.3683.75)\n  (Driver info: chromedriver=73.0.3683.75,platform=Linux 4.9.0-12-amd64 x86_64)\n",
     "output_type": "error",
     "traceback": [
      "\u001b[0;31m---------------------------------------------------------------------------\u001b[0m",
      "\u001b[0;31mStaleElementReferenceException\u001b[0m            Traceback (most recent call last)",
      "\u001b[0;32m<ipython-input-22-29f55a2d3235>\u001b[0m in \u001b[0;36m<module>\u001b[0;34m\u001b[0m\n\u001b[1;32m      1\u001b[0m \u001b[0mtime\u001b[0m\u001b[0;34m.\u001b[0m\u001b[0msleep\u001b[0m\u001b[0;34m(\u001b[0m\u001b[0;36m5\u001b[0m\u001b[0;34m)\u001b[0m\u001b[0;34m\u001b[0m\u001b[0;34m\u001b[0m\u001b[0m\n\u001b[0;32m----> 2\u001b[0;31m \u001b[0mpython_button\u001b[0m\u001b[0;34m[\u001b[0m\u001b[0;36m0\u001b[0m\u001b[0;34m]\u001b[0m\u001b[0;34m.\u001b[0m\u001b[0mclick\u001b[0m\u001b[0;34m(\u001b[0m\u001b[0;34m)\u001b[0m\u001b[0;34m\u001b[0m\u001b[0;34m\u001b[0m\u001b[0m\n\u001b[0m\u001b[1;32m      3\u001b[0m \u001b[0mpython_button\u001b[0m\u001b[0;34m[\u001b[0m\u001b[0;36m0\u001b[0m\u001b[0;34m]\u001b[0m\u001b[0;34m\u001b[0m\u001b[0;34m\u001b[0m\u001b[0m\n",
      "\u001b[0;32m/opt/conda/lib/python3.7/site-packages/selenium/webdriver/remote/webelement.py\u001b[0m in \u001b[0;36mclick\u001b[0;34m(self)\u001b[0m\n\u001b[1;32m     78\u001b[0m     \u001b[0;32mdef\u001b[0m \u001b[0mclick\u001b[0m\u001b[0;34m(\u001b[0m\u001b[0mself\u001b[0m\u001b[0;34m)\u001b[0m\u001b[0;34m:\u001b[0m\u001b[0;34m\u001b[0m\u001b[0;34m\u001b[0m\u001b[0m\n\u001b[1;32m     79\u001b[0m         \u001b[0;34m\"\"\"Clicks the element.\"\"\"\u001b[0m\u001b[0;34m\u001b[0m\u001b[0;34m\u001b[0m\u001b[0m\n\u001b[0;32m---> 80\u001b[0;31m         \u001b[0mself\u001b[0m\u001b[0;34m.\u001b[0m\u001b[0m_execute\u001b[0m\u001b[0;34m(\u001b[0m\u001b[0mCommand\u001b[0m\u001b[0;34m.\u001b[0m\u001b[0mCLICK_ELEMENT\u001b[0m\u001b[0;34m)\u001b[0m\u001b[0;34m\u001b[0m\u001b[0;34m\u001b[0m\u001b[0m\n\u001b[0m\u001b[1;32m     81\u001b[0m \u001b[0;34m\u001b[0m\u001b[0m\n\u001b[1;32m     82\u001b[0m     \u001b[0;32mdef\u001b[0m \u001b[0msubmit\u001b[0m\u001b[0;34m(\u001b[0m\u001b[0mself\u001b[0m\u001b[0;34m)\u001b[0m\u001b[0;34m:\u001b[0m\u001b[0;34m\u001b[0m\u001b[0;34m\u001b[0m\u001b[0m\n",
      "\u001b[0;32m/opt/conda/lib/python3.7/site-packages/selenium/webdriver/remote/webelement.py\u001b[0m in \u001b[0;36m_execute\u001b[0;34m(self, command, params)\u001b[0m\n\u001b[1;32m    631\u001b[0m             \u001b[0mparams\u001b[0m \u001b[0;34m=\u001b[0m \u001b[0;34m{\u001b[0m\u001b[0;34m}\u001b[0m\u001b[0;34m\u001b[0m\u001b[0;34m\u001b[0m\u001b[0m\n\u001b[1;32m    632\u001b[0m         \u001b[0mparams\u001b[0m\u001b[0;34m[\u001b[0m\u001b[0;34m'id'\u001b[0m\u001b[0;34m]\u001b[0m \u001b[0;34m=\u001b[0m \u001b[0mself\u001b[0m\u001b[0;34m.\u001b[0m\u001b[0m_id\u001b[0m\u001b[0;34m\u001b[0m\u001b[0;34m\u001b[0m\u001b[0m\n\u001b[0;32m--> 633\u001b[0;31m         \u001b[0;32mreturn\u001b[0m \u001b[0mself\u001b[0m\u001b[0;34m.\u001b[0m\u001b[0m_parent\u001b[0m\u001b[0;34m.\u001b[0m\u001b[0mexecute\u001b[0m\u001b[0;34m(\u001b[0m\u001b[0mcommand\u001b[0m\u001b[0;34m,\u001b[0m \u001b[0mparams\u001b[0m\u001b[0;34m)\u001b[0m\u001b[0;34m\u001b[0m\u001b[0;34m\u001b[0m\u001b[0m\n\u001b[0m\u001b[1;32m    634\u001b[0m \u001b[0;34m\u001b[0m\u001b[0m\n\u001b[1;32m    635\u001b[0m     \u001b[0;32mdef\u001b[0m \u001b[0mfind_element\u001b[0m\u001b[0;34m(\u001b[0m\u001b[0mself\u001b[0m\u001b[0;34m,\u001b[0m \u001b[0mby\u001b[0m\u001b[0;34m=\u001b[0m\u001b[0mBy\u001b[0m\u001b[0;34m.\u001b[0m\u001b[0mID\u001b[0m\u001b[0;34m,\u001b[0m \u001b[0mvalue\u001b[0m\u001b[0;34m=\u001b[0m\u001b[0;32mNone\u001b[0m\u001b[0;34m)\u001b[0m\u001b[0;34m:\u001b[0m\u001b[0;34m\u001b[0m\u001b[0;34m\u001b[0m\u001b[0m\n",
      "\u001b[0;32m/opt/conda/lib/python3.7/site-packages/selenium/webdriver/remote/webdriver.py\u001b[0m in \u001b[0;36mexecute\u001b[0;34m(self, driver_command, params)\u001b[0m\n\u001b[1;32m    319\u001b[0m         \u001b[0mresponse\u001b[0m \u001b[0;34m=\u001b[0m \u001b[0mself\u001b[0m\u001b[0;34m.\u001b[0m\u001b[0mcommand_executor\u001b[0m\u001b[0;34m.\u001b[0m\u001b[0mexecute\u001b[0m\u001b[0;34m(\u001b[0m\u001b[0mdriver_command\u001b[0m\u001b[0;34m,\u001b[0m \u001b[0mparams\u001b[0m\u001b[0;34m)\u001b[0m\u001b[0;34m\u001b[0m\u001b[0;34m\u001b[0m\u001b[0m\n\u001b[1;32m    320\u001b[0m         \u001b[0;32mif\u001b[0m \u001b[0mresponse\u001b[0m\u001b[0;34m:\u001b[0m\u001b[0;34m\u001b[0m\u001b[0;34m\u001b[0m\u001b[0m\n\u001b[0;32m--> 321\u001b[0;31m             \u001b[0mself\u001b[0m\u001b[0;34m.\u001b[0m\u001b[0merror_handler\u001b[0m\u001b[0;34m.\u001b[0m\u001b[0mcheck_response\u001b[0m\u001b[0;34m(\u001b[0m\u001b[0mresponse\u001b[0m\u001b[0;34m)\u001b[0m\u001b[0;34m\u001b[0m\u001b[0;34m\u001b[0m\u001b[0m\n\u001b[0m\u001b[1;32m    322\u001b[0m             response['value'] = self._unwrap_value(\n\u001b[1;32m    323\u001b[0m                 response.get('value', None))\n",
      "\u001b[0;32m/opt/conda/lib/python3.7/site-packages/selenium/webdriver/remote/errorhandler.py\u001b[0m in \u001b[0;36mcheck_response\u001b[0;34m(self, response)\u001b[0m\n\u001b[1;32m    240\u001b[0m                 \u001b[0malert_text\u001b[0m \u001b[0;34m=\u001b[0m \u001b[0mvalue\u001b[0m\u001b[0;34m[\u001b[0m\u001b[0;34m'alert'\u001b[0m\u001b[0;34m]\u001b[0m\u001b[0;34m.\u001b[0m\u001b[0mget\u001b[0m\u001b[0;34m(\u001b[0m\u001b[0;34m'text'\u001b[0m\u001b[0;34m)\u001b[0m\u001b[0;34m\u001b[0m\u001b[0;34m\u001b[0m\u001b[0m\n\u001b[1;32m    241\u001b[0m             \u001b[0;32mraise\u001b[0m \u001b[0mexception_class\u001b[0m\u001b[0;34m(\u001b[0m\u001b[0mmessage\u001b[0m\u001b[0;34m,\u001b[0m \u001b[0mscreen\u001b[0m\u001b[0;34m,\u001b[0m \u001b[0mstacktrace\u001b[0m\u001b[0;34m,\u001b[0m \u001b[0malert_text\u001b[0m\u001b[0;34m)\u001b[0m\u001b[0;34m\u001b[0m\u001b[0;34m\u001b[0m\u001b[0m\n\u001b[0;32m--> 242\u001b[0;31m         \u001b[0;32mraise\u001b[0m \u001b[0mexception_class\u001b[0m\u001b[0;34m(\u001b[0m\u001b[0mmessage\u001b[0m\u001b[0;34m,\u001b[0m \u001b[0mscreen\u001b[0m\u001b[0;34m,\u001b[0m \u001b[0mstacktrace\u001b[0m\u001b[0;34m)\u001b[0m\u001b[0;34m\u001b[0m\u001b[0;34m\u001b[0m\u001b[0m\n\u001b[0m\u001b[1;32m    243\u001b[0m \u001b[0;34m\u001b[0m\u001b[0m\n\u001b[1;32m    244\u001b[0m     \u001b[0;32mdef\u001b[0m \u001b[0m_value_or_default\u001b[0m\u001b[0;34m(\u001b[0m\u001b[0mself\u001b[0m\u001b[0;34m,\u001b[0m \u001b[0mobj\u001b[0m\u001b[0;34m,\u001b[0m \u001b[0mkey\u001b[0m\u001b[0;34m,\u001b[0m \u001b[0mdefault\u001b[0m\u001b[0;34m)\u001b[0m\u001b[0;34m:\u001b[0m\u001b[0;34m\u001b[0m\u001b[0;34m\u001b[0m\u001b[0m\n",
      "\u001b[0;31mStaleElementReferenceException\u001b[0m: Message: stale element reference: element is not attached to the page document\n  (Session info: headless chrome=73.0.3683.75)\n  (Driver info: chromedriver=73.0.3683.75,platform=Linux 4.9.0-12-amd64 x86_64)\n"
     ]
    }
   ],
   "source": [
    "time.sleep(5)\n",
    "python_button[0].click()\n",
    "python_button[0]"
   ]
  },
  {
   "cell_type": "code",
   "execution_count": null,
   "metadata": {},
   "outputs": [],
   "source": [
    "time.sleep(5)\n",
    "python_button[0].click()\n",
    "python_button[0]"
   ]
  },
  {
   "cell_type": "code",
   "execution_count": null,
   "metadata": {},
   "outputs": [],
   "source": [
    "time.sleep(5)\n",
    "python_button[0].click()\n",
    "python_button[0]"
   ]
  },
  {
   "cell_type": "code",
   "execution_count": null,
   "metadata": {},
   "outputs": [],
   "source": [
    "bs = BeautifulSoup(pagesrc)\n",
    "titles = bs.find_all('li', {\"class\":\"tracks__track\"})\n",
    "print(len(titles))"
   ]
  },
  {
   "cell_type": "code",
   "execution_count": null,
   "metadata": {},
   "outputs": [],
   "source": [
    "python_button[0].click()\n",
    "pagesrc = driver.page_source"
   ]
  },
  {
   "cell_type": "code",
   "execution_count": null,
   "metadata": {},
   "outputs": [],
   "source": [
    "bs = BeautifulSoup(pagesrc)\n",
    "titles = bs.find_all('li', {\"class\":\"tracks__track\"})\n",
    "print(len(titles))"
   ]
  },
  {
   "cell_type": "code",
   "execution_count": null,
   "metadata": {},
   "outputs": [],
   "source": [
    "time.sleep(5)\n",
    "python_button = driver.find_elements_by_xpath(\"//button[@class='link']\")"
   ]
  },
  {
   "cell_type": "code",
   "execution_count": null,
   "metadata": {},
   "outputs": [],
   "source": [
    "python_button"
   ]
  },
  {
   "cell_type": "code",
   "execution_count": null,
   "metadata": {},
   "outputs": [],
   "source": [
    "python_button[0]"
   ]
  },
  {
   "cell_type": "code",
   "execution_count": null,
   "metadata": {},
   "outputs": [],
   "source": [
    "python_button[0].click()\n",
    "pagesrc = driver.page_source"
   ]
  },
  {
   "cell_type": "code",
   "execution_count": null,
   "metadata": {},
   "outputs": [],
   "source": [
    "bs = BeautifulSoup(pagesrc)\n",
    "titles = bs.find_all('li', {\"class\":\"tracks__track\"})\n",
    "print(len(titles))"
   ]
  },
  {
   "cell_type": "code",
   "execution_count": null,
   "metadata": {},
   "outputs": [],
   "source": [
    "for blurb in titles:\n",
    "    print ('☆ — ☆ — ☆ — ☆ — ☆ — ☆ — ☆ — ☆ — ☆')\n",
    "    print (blurb)"
   ]
  },
  {
   "cell_type": "code",
   "execution_count": 2,
   "metadata": {},
   "outputs": [
    {
     "ename": "NameError",
     "evalue": "name 'iteunes' is not defined",
     "output_type": "error",
     "traceback": [
      "\u001b[0;31m---------------------------------------------------------------------------\u001b[0m",
      "\u001b[0;31mNameError\u001b[0m                                 Traceback (most recent call last)",
      "\u001b[0;32m<ipython-input-2-39beacc422ee>\u001b[0m in \u001b[0;36m<module>\u001b[0;34m\u001b[0m\n\u001b[0;32m----> 1\u001b[0;31m \u001b[0mtrack\u001b[0m \u001b[0;34m=\u001b[0m\u001b[0miteunes\u001b[0m\u001b[0;34m.\u001b[0m\u001b[0msearch_track\u001b[0m\u001b[0;34m(\u001b[0m\u001b[0;34m'iter Impius'\u001b[0m\u001b[0;34m)\u001b[0m\u001b[0;34m\u001b[0m\u001b[0;34m\u001b[0m\u001b[0m\n\u001b[0m",
      "\u001b[0;31mNameError\u001b[0m: name 'iteunes' is not defined"
     ]
    }
   ],
   "source": []
  },
  {
   "cell_type": "code",
   "execution_count": null,
   "metadata": {},
   "outputs": [],
   "source": []
  }
 ],
 "metadata": {
  "environment": {
   "name": "common-cpu.m46",
   "type": "gcloud",
   "uri": "gcr.io/deeplearning-platform-release/base-cpu:m46"
  },
  "kernelspec": {
   "display_name": "Python 3",
   "language": "python",
   "name": "python3"
  },
  "language_info": {
   "codemirror_mode": {
    "name": "ipython",
    "version": 3
   },
   "file_extension": ".py",
   "mimetype": "text/x-python",
   "name": "python",
   "nbconvert_exporter": "python",
   "pygments_lexer": "ipython3",
   "version": "3.7.6"
  }
 },
 "nbformat": 4,
 "nbformat_minor": 4
}
