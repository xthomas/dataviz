{
 "cells": [
  {
   "cell_type": "markdown",
   "metadata": {},
   "source": [
    "> install these libraries not inlcuded by default in **JupyterLab**:\n",
    "\n",
    "+ itunes API searcher\n",
    "    + ```$ pip install pyitunes```"
   ]
  },
  {
   "cell_type": "code",
   "execution_count": 79,
   "metadata": {},
   "outputs": [],
   "source": [
    "import itunes\n",
    "import pandas as pd \n",
    "import matplotlib.pyplot as plt\n",
    "import bs4 as bs\n",
    "import urllib.request"
   ]
  },
  {
   "cell_type": "code",
   "execution_count": 80,
   "metadata": {},
   "outputs": [],
   "source": [
    "item = itunes.search (query='beatles')"
   ]
  },
  {
   "cell_type": "code",
   "execution_count": 81,
   "metadata": {},
   "outputs": [
    {
     "name": "stdout",
     "output_type": "stream",
     "text": [
      "[<Song>: Let It Be, <Song>: Miss You, <Song>: Hey Jude, <Song>: Here Comes the Sun, <Song>: In My Life, <Song>: Come Together, <Song>: I Want to Hold Your Hand, <Song>: Blackbird, <Song>: The Long and Winding Road, <Song>: Ob-La-Di, Ob-La-Da, <Song>: Can't Buy Me Love, <Song>: A Hard Day's Night, <Audiobook>: George Harrison, <Song>: Yesterday, <Song>: Love Me Do, <Song>: With a Little Help From My Friends, <Song>: When I'm Sixty-Four, <Song>: All You Need Is Love, <Song>: Yesterday, <Song>: Get Back, <Song>: Let It Be, <Song>: Hey Jude, <Song>: While My Guitar Gently Weeps, <Song>: Lucy In the Sky with Diamonds, <Song>: Yellow Submarine, <Audiobook>: The Meaning of Life in 5 Easy Lessons (To the Best of Our Knowledge Series), <Audiobook>: John Lennon, <Song>: She Loves You, <Song>: Eleanor Rigby, <Song>: Help!, <Song>: Come Together, <Song>: Eight Days a Week, <Song>: Penny Lane, <Song>: We Can Work It Out, <Song>: Something, <Audiobook>: Paul McCartney, <Song>: Hello, Goodbye, <Song>: Day Tripper, <Song>: Ticket to Ride, <Song>: Lady Madonna, <Song>: Birthday, <Song>: Revolution, <Song>: Paperback Writer, <Song>: From Me to You, <Song>: I Feel Fine, <Song>: The Ballad of John and Yoko, <Song>: A Day In the Life, <Song>: Something, <Song>: Sgt. Pepper's Lonely Hearts Club Band, <Song>: Oh! Darling, <Song>: Back In the U.S.S.R., <Song>: She Came in Through the Bathroom Window, <Song>: Golden Slumbers, <Song>: Black Beatles (feat. Gucci Mane), <Song>: Octopus's Garden, <Song>: Strawberry Fields Forever, <Song>: I Want You (She's So Heavy), <Song>: Eleanor Rigby, <Song>: Don't Let Me Down, <Song>: Maxwell's Silver Hammer, <Song>: Carry That Weight, <Song>: You Never Give Me Your Money, <Song>: The End, <Song>: Because, <Song>: Rocky Raccoon, <Song>: I Will, <Song>: Dear Prudence, <Song>: I Want to Hold Your Hand, <Song>: Mean Mr Mustard, <Song>: Helter Skelter, <Song>: Polythene Pam, <Song>: Being For the Benefit of Mr. Kite!, <Song>: Sun King, <Song>: Get Back, <Song>: Michelle, <Song>: Her Majesty, <Song>: I Am the Walrus, <Song>: Hello, Goodbye, <Song>: Beatles, <Song>: Mother Nature's Son, <Song>: Happiness Is a Warm Gun, <Song>: Sgt. Pepper's Lonely Hearts Club Band, <Audiobook>: Ringo Starr, <Song>: Everybody's Got Something to Hide Except Me and My Monkey, <Song>: She's Leaving Home, <Song>: Norwegian Wood (This Bird Has Flown), <Song>: Across the Universe, <Song>: Getting Better, <Song>: Penny Lane, <Song>: If I Needed Someone, <Song>: Lovely Rita, <Song>: Let It Be, <Song>: With a Little Help From My Friends, <Song>: Julia, <Song>: Within You Without You, <Song>: Twist and Shout, <Song>: Revolution 1, <Song>: Fixing a Hole, <Song>: Good Night, <Song>: I'm So Tired]\n"
     ]
    }
   ],
   "source": [
    "print (item)"
   ]
  },
  {
   "cell_type": "code",
   "execution_count": 82,
   "metadata": {},
   "outputs": [],
   "source": [
    "# queryterm = 'cystic fibrosis'\n",
    "# queryterm = 'infectious disease'\n",
    "queryterm = 'genetic'\n",
    "# queryterm = 'covid19'\n",
    "podsearch = itunes.search(query=queryterm, media='podcast')"
   ]
  },
  {
   "cell_type": "code",
   "execution_count": 83,
   "metadata": {},
   "outputs": [
    {
     "name": "stdout",
     "output_type": "stream",
     "text": [
      "<Podcast>: GC Chat: A Genetic Counselling Podcast\n",
      "<Podcast>: GEN Sounds of Science Podcast\n",
      "<Podcast>: NSGC Podcast Series\n",
      "<Podcast>: Genetic Counselors and You\n",
      "<Podcast>: Genetic revolutions - Audio\n",
      "<Podcast>: Genetic Engineering\n",
      "<Podcast>: HC 70A-Genetic Engineering in Medicine, Agriculture - Content\n",
      "<Podcast>: Atypical dementias: from diagnosis to emerging therapies\n",
      "<Podcast>: Mad Science: The Genetic  Crossroad With Anna Kavanaugh\n",
      "<Podcast>: Genetic\n",
      "<Podcast>: Genetic Jackpot\n",
      "<Podcast>: Genetic Drift\n",
      "<Podcast>: GES Center Lectures, NC State University\n",
      "<Podcast>: Microvibez: Genetic Soundscapes Podcast\n",
      "<Podcast>: ART 280 Biological and Genetic Art - 2011\n",
      "<Podcast>: Genetic engineering Podcast\n",
      "<Podcast>: ART 280 Biological and Genetic Art - 2010\n",
      "<Podcast>: Genetic Maker Podcast\n",
      "<Podcast>: Coordinating the Use of Genetic Tests and Related Services (2012-06-19) - Video\n",
      "<Podcast>: ICGEB-JRC Workshop on \"Genome editing applications and beyond\"\n",
      "<Podcast>: selective breeding : genetic engineering\n",
      "<Podcast>: Human Genetic Engineering\n",
      "<Podcast>: Coordinating the Use of Genetic Tests and Related Services (2012-06-19) - Audio\n",
      "<Podcast>: Gene Modification Or Genetic Engineering\n",
      "<Podcast>: The Genetic Podcast With Pato And Chas\n"
     ]
    }
   ],
   "source": [
    "for p in podsearch:\n",
    "    print (p)"
   ]
  },
  {
   "cell_type": "code",
   "execution_count": 84,
   "metadata": {},
   "outputs": [
    {
     "name": "stdout",
     "output_type": "stream",
     "text": [
      "{'id': 1440414147, 'name': 'GC Chat: A Genetic Counselling Podcast', 'url': 'https://podcasts.apple.com/us/podcast/gc-chat-a-genetic-counselling-podcast/id1440414147?uo=4', '_release_date': None, 'artwork': {'30': 'https://is1-ssl.mzstatic.com/image/thumb/Podcasts123/v4/04/b4/42/04b44288-5af7-3e8f-688c-1eb4e7eebad6/mza_4797283620762400973.jpg/30x30bb.jpg', '60': 'https://is1-ssl.mzstatic.com/image/thumb/Podcasts123/v4/04/b4/42/04b44288-5af7-3e8f-688c-1eb4e7eebad6/mza_4797283620762400973.jpg/60x60bb.jpg', '600': 'https://is1-ssl.mzstatic.com/image/thumb/Podcasts123/v4/04/b4/42/04b44288-5af7-3e8f-688c-1eb4e7eebad6/mza_4797283620762400973.jpg/600x600bb.jpg'}, 'json': {'wrapperType': 'track', 'kind': 'podcast', 'collectionId': 1440414147, 'trackId': 1440414147, 'artistName': 'GC Chat, Ellenore Martin, Ashley Crook', 'collectionName': 'GC Chat: A Genetic Counselling Podcast', 'trackName': 'GC Chat: A Genetic Counselling Podcast', 'collectionCensoredName': 'GC Chat: A Genetic Counselling Podcast', 'trackCensoredName': 'GC Chat: A Genetic Counselling Podcast', 'collectionViewUrl': 'https://podcasts.apple.com/us/podcast/gc-chat-a-genetic-counselling-podcast/id1440414147?uo=4', 'feedUrl': 'https://gcchatpodcast.libsyn.com/rss', 'trackViewUrl': 'https://podcasts.apple.com/us/podcast/gc-chat-a-genetic-counselling-podcast/id1440414147?uo=4', 'artworkUrl30': 'https://is1-ssl.mzstatic.com/image/thumb/Podcasts123/v4/04/b4/42/04b44288-5af7-3e8f-688c-1eb4e7eebad6/mza_4797283620762400973.jpg/30x30bb.jpg', 'artworkUrl60': 'https://is1-ssl.mzstatic.com/image/thumb/Podcasts123/v4/04/b4/42/04b44288-5af7-3e8f-688c-1eb4e7eebad6/mza_4797283620762400973.jpg/60x60bb.jpg', 'artworkUrl100': 'https://is1-ssl.mzstatic.com/image/thumb/Podcasts123/v4/04/b4/42/04b44288-5af7-3e8f-688c-1eb4e7eebad6/mza_4797283620762400973.jpg/100x100bb.jpg', 'collectionPrice': 0.0, 'trackPrice': 0.0, 'trackRentalPrice': 0, 'collectionHdPrice': 0, 'trackHdPrice': 0, 'trackHdRentalPrice': 0, 'releaseDate': '2020-05-17T20:00:00Z', 'collectionExplicitness': 'cleaned', 'trackExplicitness': 'cleaned', 'trackCount': 16, 'country': 'USA', 'currency': 'USD', 'primaryGenreName': 'Science', 'contentAdvisoryRating': 'Clean', 'artworkUrl600': 'https://is1-ssl.mzstatic.com/image/thumb/Podcasts123/v4/04/b4/42/04b44288-5af7-3e8f-688c-1eb4e7eebad6/mza_4797283620762400973.jpg/600x600bb.jpg', 'genreIds': ['1533', '26'], 'genres': ['Science', 'Podcasts']}, 'type': 'podcast', 'genre': 'Science', 'release_date_raw': '2020-05-17T20:00:00Z', 'country_store': 'USA', 'preview_url': None, 'price': 0.0, 'number': None, 'duration': None, 'artist': None, 'album': <Podcast>: GC Chat: A Genetic Counselling Podcast}\n"
     ]
    }
   ],
   "source": [
    "# let's looks at what gets returned for each item in that list of Podcast search results\n",
    "print (vars(podsearch[0]))"
   ]
  },
  {
   "cell_type": "code",
   "execution_count": 85,
   "metadata": {},
   "outputs": [
    {
     "name": "stdout",
     "output_type": "stream",
     "text": [
      "{'id': 1440414147, 'name': 'GC Chat: A Genetic Counselling Podcast', 'url': 'https://podcasts.apple.com/us/podcast/gc-chat-a-genetic-counselling-podcast/id1440414147?uo=4', '_release_date': None, 'artwork': {'30': 'https://is1-ssl.mzstatic.com/image/thumb/Podcasts123/v4/04/b4/42/04b44288-5af7-3e8f-688c-1eb4e7eebad6/mza_4797283620762400973.jpg/30x30bb.jpg', '60': 'https://is1-ssl.mzstatic.com/image/thumb/Podcasts123/v4/04/b4/42/04b44288-5af7-3e8f-688c-1eb4e7eebad6/mza_4797283620762400973.jpg/60x60bb.jpg', '600': 'https://is1-ssl.mzstatic.com/image/thumb/Podcasts123/v4/04/b4/42/04b44288-5af7-3e8f-688c-1eb4e7eebad6/mza_4797283620762400973.jpg/600x600bb.jpg'}, 'json': {'wrapperType': 'track', 'kind': 'podcast', 'collectionId': 1440414147, 'trackId': 1440414147, 'artistName': 'GC Chat, Ellenore Martin, Ashley Crook', 'collectionName': 'GC Chat: A Genetic Counselling Podcast', 'trackName': 'GC Chat: A Genetic Counselling Podcast', 'collectionCensoredName': 'GC Chat: A Genetic Counselling Podcast', 'trackCensoredName': 'GC Chat: A Genetic Counselling Podcast', 'collectionViewUrl': 'https://podcasts.apple.com/us/podcast/gc-chat-a-genetic-counselling-podcast/id1440414147?uo=4', 'feedUrl': 'https://gcchatpodcast.libsyn.com/rss', 'trackViewUrl': 'https://podcasts.apple.com/us/podcast/gc-chat-a-genetic-counselling-podcast/id1440414147?uo=4', 'artworkUrl30': 'https://is1-ssl.mzstatic.com/image/thumb/Podcasts123/v4/04/b4/42/04b44288-5af7-3e8f-688c-1eb4e7eebad6/mza_4797283620762400973.jpg/30x30bb.jpg', 'artworkUrl60': 'https://is1-ssl.mzstatic.com/image/thumb/Podcasts123/v4/04/b4/42/04b44288-5af7-3e8f-688c-1eb4e7eebad6/mza_4797283620762400973.jpg/60x60bb.jpg', 'artworkUrl100': 'https://is1-ssl.mzstatic.com/image/thumb/Podcasts123/v4/04/b4/42/04b44288-5af7-3e8f-688c-1eb4e7eebad6/mza_4797283620762400973.jpg/100x100bb.jpg', 'collectionPrice': 0.0, 'trackPrice': 0.0, 'trackRentalPrice': 0, 'collectionHdPrice': 0, 'trackHdPrice': 0, 'trackHdRentalPrice': 0, 'releaseDate': '2020-05-17T20:00:00Z', 'collectionExplicitness': 'cleaned', 'trackExplicitness': 'cleaned', 'trackCount': 16, 'country': 'USA', 'currency': 'USD', 'primaryGenreName': 'Science', 'contentAdvisoryRating': 'Clean', 'artworkUrl600': 'https://is1-ssl.mzstatic.com/image/thumb/Podcasts123/v4/04/b4/42/04b44288-5af7-3e8f-688c-1eb4e7eebad6/mza_4797283620762400973.jpg/600x600bb.jpg', 'genreIds': ['1533', '26'], 'genres': ['Science', 'Podcasts']}, 'type': 'podcast', 'genre': 'Science', 'release_date_raw': '2020-05-17T20:00:00Z', 'country_store': 'USA', 'preview_url': None, 'price': 0.0, 'number': None, 'duration': None, 'artist': None, 'album': <Podcast>: GC Chat: A Genetic Counselling Podcast}\n"
     ]
    }
   ],
   "source": [
    "# using 'lookup' vs. 'search'\n",
    "print (vars(itunes.lookup(podsearch[0].id)))"
   ]
  },
  {
   "cell_type": "markdown",
   "metadata": {},
   "source": [
    "## ⇪ Looks like 'lookup' function and the list of search results are identical (for Podcasts)"
   ]
  },
  {
   "cell_type": "code",
   "execution_count": 86,
   "metadata": {},
   "outputs": [],
   "source": [
    "podcast = itunes.lookup(podsearch[0].id)"
   ]
  },
  {
   "cell_type": "code",
   "execution_count": 87,
   "metadata": {},
   "outputs": [
    {
     "name": "stdout",
     "output_type": "stream",
     "text": [
      "<Podcast>: GC Chat: A Genetic Counselling Podcast\n"
     ]
    }
   ],
   "source": [
    "print (podcast)"
   ]
  },
  {
   "cell_type": "code",
   "execution_count": 88,
   "metadata": {},
   "outputs": [
    {
     "name": "stdout",
     "output_type": "stream",
     "text": [
      "<Podcast>: GC Chat: A Genetic Counselling Podcast\n"
     ]
    }
   ],
   "source": [
    "print (podcast.album)"
   ]
  },
  {
   "cell_type": "code",
   "execution_count": 89,
   "metadata": {},
   "outputs": [
    {
     "name": "stdout",
     "output_type": "stream",
     "text": [
      "podcast\n"
     ]
    }
   ],
   "source": [
    "print (podcast.type)"
   ]
  },
  {
   "cell_type": "code",
   "execution_count": 90,
   "metadata": {},
   "outputs": [
    {
     "name": "stdout",
     "output_type": "stream",
     "text": [
      "Science\n"
     ]
    }
   ],
   "source": [
    "print (podcast.genre)"
   ]
  },
  {
   "cell_type": "code",
   "execution_count": 91,
   "metadata": {},
   "outputs": [
    {
     "name": "stdout",
     "output_type": "stream",
     "text": [
      "{'wrapperType': 'track', 'kind': 'podcast', 'collectionId': 1440414147, 'trackId': 1440414147, 'artistName': 'GC Chat, Ellenore Martin, Ashley Crook', 'collectionName': 'GC Chat: A Genetic Counselling Podcast', 'trackName': 'GC Chat: A Genetic Counselling Podcast', 'collectionCensoredName': 'GC Chat: A Genetic Counselling Podcast', 'trackCensoredName': 'GC Chat: A Genetic Counselling Podcast', 'collectionViewUrl': 'https://podcasts.apple.com/us/podcast/gc-chat-a-genetic-counselling-podcast/id1440414147?uo=4', 'feedUrl': 'https://gcchatpodcast.libsyn.com/rss', 'trackViewUrl': 'https://podcasts.apple.com/us/podcast/gc-chat-a-genetic-counselling-podcast/id1440414147?uo=4', 'artworkUrl30': 'https://is1-ssl.mzstatic.com/image/thumb/Podcasts123/v4/04/b4/42/04b44288-5af7-3e8f-688c-1eb4e7eebad6/mza_4797283620762400973.jpg/30x30bb.jpg', 'artworkUrl60': 'https://is1-ssl.mzstatic.com/image/thumb/Podcasts123/v4/04/b4/42/04b44288-5af7-3e8f-688c-1eb4e7eebad6/mza_4797283620762400973.jpg/60x60bb.jpg', 'artworkUrl100': 'https://is1-ssl.mzstatic.com/image/thumb/Podcasts123/v4/04/b4/42/04b44288-5af7-3e8f-688c-1eb4e7eebad6/mza_4797283620762400973.jpg/100x100bb.jpg', 'collectionPrice': 0.0, 'trackPrice': 0.0, 'trackRentalPrice': 0, 'collectionHdPrice': 0, 'trackHdPrice': 0, 'trackHdRentalPrice': 0, 'releaseDate': '2020-05-17T20:00:00Z', 'collectionExplicitness': 'cleaned', 'trackExplicitness': 'cleaned', 'trackCount': 16, 'country': 'USA', 'currency': 'USD', 'primaryGenreName': 'Science', 'contentAdvisoryRating': 'Clean', 'artworkUrl600': 'https://is1-ssl.mzstatic.com/image/thumb/Podcasts123/v4/04/b4/42/04b44288-5af7-3e8f-688c-1eb4e7eebad6/mza_4797283620762400973.jpg/600x600bb.jpg', 'genreIds': ['1533', '26'], 'genres': ['Science', 'Podcasts']}\n"
     ]
    }
   ],
   "source": [
    "print (podcast.json)"
   ]
  },
  {
   "cell_type": "code",
   "execution_count": 92,
   "metadata": {},
   "outputs": [
    {
     "name": "stdout",
     "output_type": "stream",
     "text": [
      "podcast\n"
     ]
    }
   ],
   "source": [
    "print (podcast.json['kind'])"
   ]
  },
  {
   "cell_type": "code",
   "execution_count": 93,
   "metadata": {},
   "outputs": [
    {
     "name": "stdout",
     "output_type": "stream",
     "text": [
      "16\n"
     ]
    }
   ],
   "source": [
    "print (podcast.json['trackCount'])"
   ]
  },
  {
   "cell_type": "markdown",
   "metadata": {},
   "source": [
    "### ⇪ A little wierd, looks like most of what we want is packed into\n",
    "### a \"JSON\" attribute...but nevertheless, there it is.\n",
    "\n",
    "- - -\n",
    "\n",
    "# So let's lookup some stuff about Infectious Disease podcasts\n",
    "\n",
    "+ no. of individual posts / episodes per year since publishing\n",
    "+ length posts (minutes)\n",
    "+ rating per channel +/or track\n",
    "\n",
    "### first for # posts / episodes / page URL"
   ]
  },
  {
   "cell_type": "code",
   "execution_count": 94,
   "metadata": {
    "scrolled": false
   },
   "outputs": [
    {
     "name": "stdout",
     "output_type": "stream",
     "text": [
      "16 podcasts in \"GC Chat: A Genetic Counselling Podcast\" (with id = 1440414147)\n",
      "The last post in this channel was 2020-05-17T20:00:00Z, and iTunes page lising all podcast episodes:\n",
      "https://podcasts.apple.com/us/podcast/gc-chat-a-genetic-counselling-podcast/id1440414147?uo=4\n",
      "\n",
      "50 podcasts in \"GEN Sounds of Science Podcast\" (with id = 1195688685)\n",
      "The last post in this channel was 2020-05-04T15:17:00Z, and iTunes page lising all podcast episodes:\n",
      "https://podcasts.apple.com/us/podcast/gen-sounds-of-science-podcast/id1195688685?uo=4\n",
      "\n",
      "14 podcasts in \"NSGC Podcast Series\" (with id = 1398417753)\n",
      "The last post in this channel was 2020-04-28T15:30:00Z, and iTunes page lising all podcast episodes:\n",
      "https://podcasts.apple.com/us/podcast/nsgc-podcast-series/id1398417753?uo=4\n",
      "\n",
      "6 podcasts in \"Genetic Counselors and You\" (with id = 1456153684)\n",
      "The last post in this channel was 2020-04-29T00:51:00Z, and iTunes page lising all podcast episodes:\n",
      "https://podcasts.apple.com/us/podcast/genetic-counselors-and-you/id1456153684?uo=4\n",
      "\n",
      "12 podcasts in \"Genetic revolutions - Audio\" (with id = 380229664)\n",
      "The last post in this channel was 2010-04-01T04:14:00Z, and iTunes page lising all podcast episodes:\n",
      "https://podcasts.apple.com/us/podcast/genetic-revolutions-audio/id380229664?uo=4\n",
      "\n",
      "4 podcasts in \"Genetic Engineering\" (with id = 389243026)\n",
      "The last post in this channel was 2009-01-22T19:20:00Z, and iTunes page lising all podcast episodes:\n",
      "https://podcasts.apple.com/us/podcast/genetic-engineering/id389243026?uo=4\n",
      "\n",
      "34 podcasts in \"HC 70A-Genetic Engineering in Medicine, Agriculture - Content\" (with id = 434141774)\n",
      "The last post in this channel was 2009-08-11T22:05:00Z, and iTunes page lising all podcast episodes:\n",
      "https://podcasts.apple.com/us/podcast/hc-70a-genetic-engineering-in-medicine-agriculture/id434141774?uo=4\n",
      "\n",
      "14 podcasts in \"Atypical dementias: from diagnosis to emerging therapies\" (with id = 1342230726)\n",
      "The last post in this channel was 2018-01-31T09:00:00Z, and iTunes page lising all podcast episodes:\n",
      "https://podcasts.apple.com/us/podcast/atypical-dementias-from-diagnosis-to-emerging-therapies/id1342230726?uo=4\n",
      "\n",
      "28 podcasts in \"Mad Science: The Genetic  Crossroad With Anna Kavanaugh\" (with id = 631939974)\n",
      "The last post in this channel was 2015-11-11T03:00:00Z, and iTunes page lising all podcast episodes:\n",
      "https://podcasts.apple.com/us/podcast/mad-science-the-genetic-crossroad-with-anna-kavanaugh/id631939974?uo=4\n",
      "\n",
      "1 podcasts in \"Genetic\" (with id = 1502464358)\n",
      "The last post in this channel was 2020-03-06T11:41:00Z, and iTunes page lising all podcast episodes:\n",
      "https://podcasts.apple.com/us/podcast/genetic/id1502464358?uo=4\n",
      "\n",
      "11 podcasts in \"Genetic Jackpot\" (with id = 1355326946)\n",
      "The last post in this channel was 2018-09-01T01:41:00Z, and iTunes page lising all podcast episodes:\n",
      "https://podcasts.apple.com/us/podcast/genetic-jackpot/id1355326946?uo=4\n",
      "\n",
      "6 podcasts in \"Genetic Drift\" (with id = 1509249324)\n",
      "The last post in this channel was 2020-05-22T12:00:00Z, and iTunes page lising all podcast episodes:\n",
      "https://podcasts.apple.com/us/podcast/genetic-drift/id1509249324?uo=4\n",
      "\n",
      "12 podcasts in \"GES Center Lectures, NC State University\" (with id = 1495093080)\n",
      "The last post in this channel was 2020-04-22T17:06:00Z, and iTunes page lising all podcast episodes:\n",
      "https://podcasts.apple.com/us/podcast/ges-center-lectures-nc-state-university/id1495093080?uo=4\n",
      "\n",
      "4 podcasts in \"Microvibez: Genetic Soundscapes Podcast\" (with id = 385917719)\n",
      "The last post in this channel was 2013-09-28T11:20:00Z, and iTunes page lising all podcast episodes:\n",
      "https://podcasts.apple.com/us/podcast/microvibez-genetic-soundscapes-podcast/id385917719?uo=4\n",
      "\n",
      "12 podcasts in \"ART 280 Biological and Genetic Art - 2011\" (with id = 489922237)\n",
      "The last post in this channel was 2011-12-15T09:09:00Z, and iTunes page lising all podcast episodes:\n",
      "https://podcasts.apple.com/us/podcast/art-280-biological-and-genetic-art-2011/id489922237?uo=4\n",
      "\n",
      "3 podcasts in \"Genetic engineering Podcast\" (with id = 1486443977)\n",
      "The last post in this channel was 2019-11-06T18:22:00Z, and iTunes page lising all podcast episodes:\n",
      "https://podcasts.apple.com/us/podcast/genetic-engineering-podcast/id1486443977?uo=4\n",
      "\n",
      "14 podcasts in \"ART 280 Biological and Genetic Art - 2010\" (with id = 489922234)\n",
      "The last post in this channel was 2011-12-15T20:54:00Z, and iTunes page lising all podcast episodes:\n",
      "https://podcasts.apple.com/us/podcast/art-280-biological-and-genetic-art-2010/id489922234?uo=4\n",
      "\n",
      "2 podcasts in \"Genetic Maker Podcast\" (with id = 1493719989)\n",
      "The last post in this channel was 2020-01-05T23:35:00Z, and iTunes page lising all podcast episodes:\n",
      "https://podcasts.apple.com/us/podcast/genetic-maker-podcast/id1493719989?uo=4\n",
      "\n",
      "15 podcasts in \"Coordinating the Use of Genetic Tests and Related Services (2012-06-19) - Video\" (with id = 550168854)\n",
      "The last post in this channel was 2012-08-02T16:53:00Z, and iTunes page lising all podcast episodes:\n",
      "https://podcasts.apple.com/us/podcast/coordinating-use-genetic-tests-related-services-2012/id550168854?uo=4\n",
      "\n",
      "16 podcasts in \"ICGEB-JRC Workshop on \"Genome editing applications and beyond\"\" (with id = 1496361697)\n",
      "The last post in this channel was 2020-02-04T12:45:00Z, and iTunes page lising all podcast episodes:\n",
      "https://podcasts.apple.com/us/podcast/icgeb-jrc-workshop-on-genome-editing-applications-beyond/id1496361697?uo=4\n",
      "\n",
      "1 podcasts in \"selective breeding : genetic engineering\" (with id = 1486313166)\n",
      "The last post in this channel was 2019-10-30T18:45:00Z, and iTunes page lising all podcast episodes:\n",
      "https://podcasts.apple.com/us/podcast/selective-breeding-genetic-engineering/id1486313166?uo=4\n",
      "\n",
      "1 podcasts in \"Human Genetic Engineering\" (with id = 1511857022)\n",
      "The last post in this channel was 2020-05-06T02:48:00Z, and iTunes page lising all podcast episodes:\n",
      "https://podcasts.apple.com/us/podcast/human-genetic-engineering/id1511857022?uo=4\n",
      "\n",
      "15 podcasts in \"Coordinating the Use of Genetic Tests and Related Services (2012-06-19) - Audio\" (with id = 550166469)\n",
      "The last post in this channel was 2012-08-02T16:24:00Z, and iTunes page lising all podcast episodes:\n",
      "https://podcasts.apple.com/us/podcast/coordinating-use-genetic-tests-related-services-2012/id550166469?uo=4\n",
      "\n",
      "1 podcasts in \"Gene Modification Or Genetic Engineering\" (with id = 1486410503)\n",
      "The last post in this channel was 2019-10-31T00:00:00Z, and iTunes page lising all podcast episodes:\n",
      "https://podcasts.apple.com/us/podcast/gene-modification-or-genetic-engineering/id1486410503?uo=4\n",
      "\n",
      "1 podcasts in \"The Genetic Podcast With Pato And Chas\" (with id = 1491388397)\n",
      "The last post in this channel was 2019-12-12T15:21:00Z, and iTunes page lising all podcast episodes:\n",
      "https://podcasts.apple.com/us/podcast/the-genetic-podcast-with-pato-and-chas/id1491388397?uo=4\n",
      "\n"
     ]
    }
   ],
   "source": [
    "for channel in podsearch:\n",
    "    print (f'{channel.json[\"trackCount\"]} podcasts in \"{channel.json[\"collectionName\"]}\" (with id = {channel.id})')\n",
    "    print (f'The last post in this channel was {channel.json[\"releaseDate\"]}, and iTunes page lising all podcast episodes:')\n",
    "    print (f'{channel.json[\"collectionViewUrl\"]}\\n')"
   ]
  },
  {
   "cell_type": "code",
   "execution_count": 95,
   "metadata": {},
   "outputs": [],
   "source": [
    "feedarray = []\n",
    "def checkKeys(podcast):\n",
    "        # feedURL is not consistent, check if present\n",
    "        if ('feedUrl' in podcast.json):\n",
    "            # write to an array of feeds\n",
    "            return channel.json[\"feedUrl\"]\n",
    "        else:\n",
    "            pass"
   ]
  },
  {
   "cell_type": "code",
   "execution_count": 96,
   "metadata": {
    "scrolled": false
   },
   "outputs": [
    {
     "name": "stdout",
     "output_type": "stream",
     "text": [
      "['https://gcchatpodcast.libsyn.com/rss', 'http://feeds.soundcloud.com/users/soundcloud:users:281359777/sounds.rss', 'http://nsgcpodcastseries.libsyn.com/rss', 'https://geneticcounselorsandyou.libsyn.com/rss', 'http://media-podcast.open.ac.uk/feeds/genetic-revolutions/audio/rss2.xml', 'https://www.icgeb.org/itunesu/AtypicalDementias.xml', 'http://www.blogtalkradio.com/annakavanaughgeneticcrossroad/podcast', 'https://anchor.fm/s/1536dad4/podcast/rss', 'http://feeds.soundcloud.com/users/soundcloud:users:178147247/sounds.rss', 'https://geneticdrift.libsyn.com/rss', 'https://pinecast.com/feed/ges-center-lectures-ncsu', 'http://microsoundz.podomatic.com/rss2.xml', 'https://anchor.fm/s/fe4a570/podcast/rss', 'https://geneticmaker.net/feed/podcast/', 'https://www.icgeb.org/itunesu/genome_editing_2019.xml', 'https://anchor.fm/s/fcbd068/podcast/rss', 'https://www.spreaker.com/show/4376969/episodes/feed', 'https://anchor.fm/s/ff97784/podcast/rss', 'https://anchor.fm/s/1138ff20/podcast/rss']\n"
     ]
    }
   ],
   "source": [
    "# gather array of the VALID podcast feeds (published by podcaster, not from iTunes)\n",
    "feedarray = []\n",
    "for channel in podsearch:\n",
    "    p = checkKeys(channel)\n",
    "    if p != None:\n",
    "        feedarray.append(p)\n",
    "print (feedarray)"
   ]
  },
  {
   "cell_type": "code",
   "execution_count": 97,
   "metadata": {},
   "outputs": [
    {
     "name": "stdout",
     "output_type": "stream",
     "text": [
      "⇪ lost 6 of the podcasts by filtering podcasts organized by <item>\n"
     ]
    }
   ],
   "source": [
    "print (f'⇪ lost {(len(podsearch)-len(feedarray))} of the podcasts by filtering podcasts organized by <item>')"
   ]
  },
  {
   "cell_type": "code",
   "execution_count": 98,
   "metadata": {},
   "outputs": [],
   "source": [
    "source = urllib.request.urlopen(feedarray[0])\n",
    "soup = bs.BeautifulSoup(source,'lxml')\n",
    "rows = soup.find_all('item')"
   ]
  },
  {
   "cell_type": "code",
   "execution_count": 99,
   "metadata": {},
   "outputs": [
    {
     "data": {
      "text/plain": [
       "16"
      ]
     },
     "execution_count": 99,
     "metadata": {},
     "output_type": "execute_result"
    }
   ],
   "source": [
    "len(rows)"
   ]
  },
  {
   "cell_type": "code",
   "execution_count": 100,
   "metadata": {},
   "outputs": [
    {
     "name": "stdout",
     "output_type": "stream",
     "text": [
      "<item>\n",
      "<title>S2E8: Reflection</title>\n",
      "<itunes:title>Reflection</itunes:title>\n",
      "<pubdate>Sun, 17 May 2020 20:00:00 +0000</pubdate>\n",
      "<guid ispermalink=\"false\"></guid>\n",
      "<link/>\n",
      "<itunes:image href=\"https://ssl-static.libsyn.com/p/assets/2/9/2/d/292dc6916c943e7f/GC-Chat_3000x3000px_RGB_copy.jpg\"></itunes:image>\n",
      "<description><span style=\"font-weight: 400;\">In today's episode we begin by reflecting on the skills and interventions used in episode 7: The diagnostic odyssey. As this is our last episode for season 2, we don’t have a new case to present. We will be reflecting together on what we have learned over the past two seasons. </span> <p><span style=\"font-weight: 400;\">References we found useful in our discussion:  </span></p> <ul> <li><span style=\"font-weight: 400;\">Ingles, J., &amp; Semsarian, C. (2007). Sudden cardiac death in the young: a clinical genetic approach. Internal Medicine Journal, 37(1), 32-37. doi:10.1111/j.1445-5994.2006.01241.x</span></li> <li><span style=\"font-weight: 400;\">Stattin, E.-L., Westin, I. M., Cederquist, K., Jonasson, J., Jonsson, B.-A., Mörner, S., . . . Wisten, A. (2016). Genetic screening in sudden cardiac death in the young can save future lives. International journal of legal medicine, 130(1), 59-66. doi:10.1007/s00414-015-1237-8</span></li> <li><span style=\"font-weight: 400;\">Helm, B. M. (2015). Exploring the genetic counselor's role in facilitating meaning-making: rare disease diagnoses. J Genet Couns, 24(2), 205-212. doi:10.1007/s10897-014-9812-6</span></li> <li><span style=\"font-weight: 400;\">Douglas, H. A. (2014). Promoting meaning-making to help our patients grieve: an exemplar for genetic counselors and other health care professionals. J Genet Couns, 23(5), 695-700. doi:10.1007/s10897-014-9731-6</span></li> </ul> <p><span style=\"font-weight: 400;\">Join the discussion on social media with #GCchatpodcast </span></p> <p><span style=\"font-weight: 400;\">On our website, you will find suggestions for support, our privacy statement and disclaimer, and more information about topics referenced in our discussion. </span></p> <p><span style=\"font-weight: 400;\">http://www.gcchatpodcast.libsyn.com</span></p>]]&gt;</description>\n",
      "<content:encoded>In today's episode we begin by reflecting on the skills and interventions used in episode 7: The diagnostic odyssey. As this is our last episode for season 2, we don’t have a new case to present. We will be reflecting together on what we have learned over the past two seasons.  <p>References we found useful in our discussion:  </p> <ul> <li>Ingles, J., &amp; Semsarian, C. (2007). Sudden cardiac death in the young: a clinical genetic approach. Internal Medicine Journal, 37(1), 32-37. doi:10.1111/j.1445-5994.2006.01241.x</li> <li>Stattin, E.-L., Westin, I. M., Cederquist, K., Jonasson, J., Jonsson, B.-A., Mörner, S., . . . Wisten, A. (2016). Genetic screening in sudden cardiac death in the young can save future lives. International journal of legal medicine, 130(1), 59-66. doi:10.1007/s00414-015-1237-8</li> <li>Helm, B. M. (2015). Exploring the genetic counselor's role in facilitating meaning-making: rare disease diagnoses. J Genet Couns, 24(2), 205-212. doi:10.1007/s10897-014-9812-6</li> <li>Douglas, H. A. (2014). Promoting meaning-making to help our patients grieve: an exemplar for genetic counselors and other health care professionals. J Genet Couns, 23(5), 695-700. doi:10.1007/s10897-014-9731-6</li> </ul> <p>Join the discussion on social media with #GCchatpodcast </p> <p>On our website, you will find suggestions for support, our privacy statement and disclaimer, and more information about topics referenced in our discussion. </p> <p>http://www.gcchatpodcast.libsyn.com</p>]]&gt;</content:encoded>\n",
      "<enclosure length=\"16301885\" type=\"audio/mp4\" url=\"https://traffic.libsyn.com/secure/gcchatpodcast/200517_GC_chat_s2e8_final_mix_SA.m4a?dest-id=838013\"></enclosure>\n",
      "<itunes:duration>11:12</itunes:duration>\n",
      "<itunes:explicit>no</itunes:explicit>\n",
      "<itunes:keywords></itunes:keywords>\n",
      "<itunes:subtitle></itunes:subtitle>\n",
      "<itunes:summary>In today's episode we begin by reflecting on the skills and interventions used in episode 7: The diagnostic odyssey. As this is our last episode for season 2, we don’t have a new case to present. We will be reflecting together on what we have learned over the past two seasons.\r\n",
      "\r\n",
      "Join the discussion #GCchatpodcast \r\n",
      "\r\n",
      "On our website, you will find suggestions for support, our privacy statement and disclaimer, and more information about topics referenced in our discussion. http://www.gcchatpodcast.libsyn</itunes:summary>\n",
      "<itunes:season>2</itunes:season>\n",
      "<itunes:episode>8</itunes:episode>\n",
      "<itunes:episodetype>full</itunes:episodetype>\n",
      "<itunes:author>Ellenore Martin and Ashley Crook</itunes:author>\n",
      "</item>\n"
     ]
    }
   ],
   "source": [
    "print (rows[0])"
   ]
  },
  {
   "cell_type": "code",
   "execution_count": 101,
   "metadata": {},
   "outputs": [
    {
     "name": "stdout",
     "output_type": "stream",
     "text": [
      "S2E8: Reflection\n",
      "Sun, 17 May 2020 20:00:00 +0000\n",
      "In today's episode we begin by reflecting on the skills and interventions used in episode 7: The diagnostic odyssey. As this is our last episode for season 2, we don’t have a new case to present. We will be reflecting together on what we have learned over the past two seasons.  References we found useful in our discussion:    Ingles, J., & Semsarian, C. (2007). Sudden cardiac death in the young: a clinical genetic approach. Internal Medicine Journal, 37(1), 32-37. doi:10.1111/j.1445-5994.2006.01241.x Stattin, E.-L., Westin, I. M., Cederquist, K., Jonasson, J., Jonsson, B.-A., Mörner, S., . . . Wisten, A. (2016). Genetic screening in sudden cardiac death in the young can save future lives. International journal of legal medicine, 130(1), 59-66. doi:10.1007/s00414-015-1237-8 Helm, B. M. (2015). Exploring the genetic counselor's role in facilitating meaning-making: rare disease diagnoses. J Genet Couns, 24(2), 205-212. doi:10.1007/s10897-014-9812-6 Douglas, H. A. (2014). Promoting meaning-making to help our patients grieve: an exemplar for genetic counselors and other health care professionals. J Genet Couns, 23(5), 695-700. doi:10.1007/s10897-014-9731-6  Join the discussion on social media with #GCchatpodcast  On our website, you will find suggestions for support, our privacy statement and disclaimer, and more information about topics referenced in our discussion.  http://www.gcchatpodcast.libsyn.com]]>\n"
     ]
    }
   ],
   "source": [
    "print (rows[0].title.text)\n",
    "print (rows[0].pubdate.text)\n",
    "print (rows[0].description.text)"
   ]
  },
  {
   "cell_type": "code",
   "execution_count": 102,
   "metadata": {},
   "outputs": [
    {
     "name": "stdout",
     "output_type": "stream",
     "text": [
      "16, 16\n"
     ]
    }
   ],
   "source": [
    "durez = soup.find_all('itunes:duration')\n",
    "print (f'{len(rows)}, {len(durez)}')"
   ]
  },
  {
   "cell_type": "code",
   "execution_count": 103,
   "metadata": {},
   "outputs": [
    {
     "name": "stdout",
     "output_type": "stream",
     "text": [
      "<item>\n",
      "<title>S2E4: Do no harm</title>\n",
      "<itunes:title>Do no harm</itunes:title>\n",
      "<pubdate>Sun, 01 Dec 2019 19:00:00 +0000</pubdate>\n",
      "<guid ispermalink=\"false\"></guid>\n",
      "<link/>\n",
      "<itunes:image href=\"https://ssl-static.libsyn.com/p/assets/2/9/2/d/292dc6916c943e7f/GC-Chat_3000x3000px_RGB_copy.jpg\"></itunes:image>\n",
      "<description><span style=\"font-weight: 400;\">In this episode, we begin by discussing the counselling issues and interventions raised in episode 3: sitting with discomfort.</span> <span style=\"font-weight: 400;\">We’ll then present this week’s case, which starts with Hannah’s* phone call to the genetics service.</span> <p><span style=\"font-weight: 400;\">We’ll be taking a break for the holidays, and will return in the new year to reflect on this episode and introduce new cases.</span></p> <p><span style=\"font-weight: 400;\">References we found useful in our discussion:</span></p> <ul> <li style=\"font-weight: 400;\"><span style=\"font-weight: 400;\">Resources developed by Mental Health First Aid Australia</span> <a href=\"http://www.mhfa.com.au\"><span style=\"font-weight: 400;\">www.mhfa.com.au</span></a></li> <li style=\"font-weight: 400;\"><span style=\"font-weight: 400;\">Beyond Blue</span> <a href=\"http://www.beyondblue.org.au\"><span style=\"font-weight: 400;\">www.beyondblue.org.au</span></a><span style=\"font-weight: 400;\"> </span></li> <li style=\"font-weight: 400;\"><span style=\"font-weight: 400;\">Lifeline</span> <a href=\"http://www.lifeline.org.au\"><span style=\"font-weight: 400;\">www.lifeline.org.au</span></a><span style=\"font-weight: 400;\"> </span></li> </ul> <p><span style=\"font-weight: 400;\">Join the discussion on social media with #GCchatpodcast </span></p> <p><span style=\"font-weight: 400;\">On our website, you will find suggestions for support, our privacy statement and disclaimer, and more information about topics referenced in our discussion. </span></p> <p><span style=\"font-weight: 400;\">http://www.gcchatpodcast.libsyn.com</span></p>]]&gt;</description>\n",
      "<content:encoded>In this episode, we begin by discussing the counselling issues and interventions raised in episode 3: sitting with discomfort. We’ll then present this week’s case, which starts with Hannah’s* phone call to the genetics service. <p>We’ll be taking a break for the holidays, and will return in the new year to reflect on this episode and introduce new cases.</p> <p>References we found useful in our discussion:</p> <ul> <li style=\"font-weight: 400;\">Resources developed by Mental Health First Aid Australia <a href=\"http://www.mhfa.com.au\">www.mhfa.com.au</a></li> <li style=\"font-weight: 400;\">Beyond Blue <a href=\"http://www.beyondblue.org.au\">www.beyondblue.org.au</a> </li> <li style=\"font-weight: 400;\">Lifeline <a href=\"http://www.lifeline.org.au\">www.lifeline.org.au</a> </li> </ul> <p>Join the discussion on social media with #GCchatpodcast </p> <p>On our website, you will find suggestions for support, our privacy statement and disclaimer, and more information about topics referenced in our discussion. </p> <p>http://www.gcchatpodcast.libsyn.com</p>]]&gt;</content:encoded>\n",
      "<enclosure length=\"21066138\" type=\"audio/mp4\" url=\"https://traffic.libsyn.com/secure/gcchatpodcast/GC_CHAT_s2e4.m4a?dest-id=838013\"></enclosure>\n",
      "<itunes:duration>21:39</itunes:duration>\n",
      "<itunes:explicit>no</itunes:explicit>\n",
      "<itunes:keywords></itunes:keywords>\n",
      "<itunes:subtitle></itunes:subtitle>\n",
      "<itunes:summary>In this episode, we begin by discussing the counselling issues and interventions raised in episode 3: sitting with discomfort. We’ll then present this week’s case.\r\n",
      "\r\n",
      "We’ll be taking a break for the holidays, and will return in the new year to reflect on this episode and introduce new cases.\r\n",
      "\r\n",
      "On our website, you will find suggestions for support, our privacy statement and disclaimer, and more information about topics referenced in our discussion. http://www.gcchatpodcast.libsyn.com #GCchatpodcast</itunes:summary>\n",
      "<itunes:season>2</itunes:season>\n",
      "<itunes:episode>4</itunes:episode>\n",
      "<itunes:episodetype>full</itunes:episodetype>\n",
      "<itunes:author>Ellenore Martin and Ashley Crook</itunes:author>\n",
      "</item>\n"
     ]
    }
   ],
   "source": [
    "print (rows[4])"
   ]
  },
  {
   "cell_type": "code",
   "execution_count": 104,
   "metadata": {},
   "outputs": [
    {
     "data": {
      "text/plain": [
       "19"
      ]
     },
     "execution_count": 104,
     "metadata": {},
     "output_type": "execute_result"
    }
   ],
   "source": [
    "len(feedarray)"
   ]
  },
  {
   "cell_type": "code",
   "execution_count": 105,
   "metadata": {},
   "outputs": [],
   "source": [
    "atitle = [t.text for t in soup.find_all('title')]\n",
    "apubdate = [t.text for t in soup.find_all('pubdate')]\n",
    "adescription = [t.text for t in soup.find_all('itunes:summary')]\n",
    "aduration = [t.text for t in soup.find_all('itunes:duration')]"
   ]
  },
  {
   "cell_type": "code",
   "execution_count": 106,
   "metadata": {},
   "outputs": [
    {
     "name": "stdout",
     "output_type": "stream",
     "text": [
      "      18,\n",
      "      17,\n",
      "      15,\n",
      "      16\n"
     ]
    }
   ],
   "source": [
    "print (f'\\\n",
    "      {len(atitle)},\\n\\\n",
    "      {len(apubdate)},\\n\\\n",
    "      {len(adescription)},\\n\\\n",
    "      {len(aduration)}')"
   ]
  },
  {
   "cell_type": "code",
   "execution_count": 107,
   "metadata": {},
   "outputs": [
    {
     "data": {
      "text/plain": [
       "['https://gcchatpodcast.libsyn.com/rss',\n",
       " 'http://feeds.soundcloud.com/users/soundcloud:users:281359777/sounds.rss',\n",
       " 'http://nsgcpodcastseries.libsyn.com/rss',\n",
       " 'https://geneticcounselorsandyou.libsyn.com/rss',\n",
       " 'http://media-podcast.open.ac.uk/feeds/genetic-revolutions/audio/rss2.xml',\n",
       " 'https://www.icgeb.org/itunesu/AtypicalDementias.xml',\n",
       " 'http://www.blogtalkradio.com/annakavanaughgeneticcrossroad/podcast',\n",
       " 'https://anchor.fm/s/1536dad4/podcast/rss',\n",
       " 'http://feeds.soundcloud.com/users/soundcloud:users:178147247/sounds.rss',\n",
       " 'https://geneticdrift.libsyn.com/rss',\n",
       " 'https://pinecast.com/feed/ges-center-lectures-ncsu',\n",
       " 'http://microsoundz.podomatic.com/rss2.xml',\n",
       " 'https://anchor.fm/s/fe4a570/podcast/rss',\n",
       " 'https://geneticmaker.net/feed/podcast/',\n",
       " 'https://www.icgeb.org/itunesu/genome_editing_2019.xml',\n",
       " 'https://anchor.fm/s/fcbd068/podcast/rss',\n",
       " 'https://www.spreaker.com/show/4376969/episodes/feed',\n",
       " 'https://anchor.fm/s/ff97784/podcast/rss',\n",
       " 'https://anchor.fm/s/1138ff20/podcast/rss']"
      ]
     },
     "execution_count": 107,
     "metadata": {},
     "output_type": "execute_result"
    }
   ],
   "source": [
    "feedarray"
   ]
  },
  {
   "cell_type": "code",
   "execution_count": 111,
   "metadata": {},
   "outputs": [],
   "source": [
    "def checkParams(list):\n",
    "    for l in list:\n",
    "        try:\n",
    "            source = urllib.request.urlopen(l)\n",
    "            soup = bs.BeautifulSoup(source,'lxml')\n",
    "            rows = soup.find_all('item')\n",
    "            if (len(rows) > 0):\n",
    "                for r in rows:\n",
    "                    title = r.find('itunes:title')\n",
    "                    print (title.text)\n",
    "                    pubdate = r.find('pubdate')\n",
    "                    print (pubdate.text)\n",
    "                    duration = r.find('itunes:duration')\n",
    "                    print (duration.text+'\\n')\n",
    "\n",
    "            else:\n",
    "                pass\n",
    "        except:\n",
    "            pass"
   ]
  },
  {
   "cell_type": "code",
   "execution_count": 112,
   "metadata": {},
   "outputs": [
    {
     "name": "stdout",
     "output_type": "stream",
     "text": [
      "Reflection\n",
      "Sun, 17 May 2020 20:00:00 +0000\n",
      "11:12\n",
      "\n",
      "The diagnostic odyssey\n",
      "Sun, 03 May 2020 20:00:00 +0000\n",
      "27:34\n",
      "\n",
      "Building trust\n",
      "Sun, 19 Apr 2020 20:00:00 +0000\n",
      "38:34\n",
      "\n",
      "Setting boundaries\n",
      "Sun, 05 Apr 2020 20:00:00 +0000\n",
      "25:50\n",
      "\n",
      "Do no harm\n",
      "Sun, 01 Dec 2019 19:00:00 +0000\n",
      "21:39\n",
      "\n",
      "Sitting with Discomfort\n",
      "Sun, 17 Nov 2019 19:00:00 +0000\n",
      "30:26\n",
      "\n",
      "Reflecting on the past\n",
      "Sun, 03 Nov 2019 19:00:00 +0000\n",
      "22:55\n",
      "\n",
      "Opposing Views\n",
      "Sun, 20 Oct 2019 19:00:00 +0000\n",
      "15:44\n",
      "\n",
      "Who Makes More? Addressing the Gender Pay Gap in Genetic Counseling\n",
      "Tue, 28 Apr 2020 15:30:02 +0000\n",
      "45:18\n",
      "\n",
      "#IAmAGeneticCounselor - What's in a Name? \n",
      "Sat, 29 Feb 2020 01:42:03 +0000\n",
      "28:55\n",
      "\n",
      "38th Annual Conference Interviews \n",
      "Fri, 20 Dec 2019 20:26:34 +0000\n",
      "54:44\n",
      "\n",
      "How Secure is Your DNA with At-Home Genetic Tests? \n",
      "Wed, 29 Apr 2020 00:51:49 +0000\n",
      "22:38\n",
      "\n",
      "How to Make the Most of Your DNA Test Holiday Gift\n",
      "Mon, 24 Feb 2020 22:18:15 +0000\n",
      "22:35\n",
      "\n",
      "Breast Cancer Awareness Month\n",
      "Fri, 18 Oct 2019 20:00:00 +0000\n",
      "31:40\n",
      "\n",
      "What Genetic Counselors Don't Do\n",
      "Mon, 26 Aug 2019 19:00:00 +0000\n",
      "19:16\n",
      "\n",
      "Genetic Counselors and Your Healthcare Team\n",
      "Fri, 31 May 2019 15:54:43 +0000\n",
      "16:11\n",
      "\n",
      "What is a Genetic Counselor?\n",
      "Wed, 13 Mar 2019 17:08:03 +0000\n",
      "25:45\n",
      "\n",
      "Leveraging Loopholes: Biotech's Answer to Consumer GMO Protest\n",
      "Wed, 11 Nov 2015 03:00:00 GMT\n",
      "00:33:00\n",
      "\n",
      "Biotech Breach of Nature: Cost and Consequences\n",
      "Wed, 04 Nov 2015 03:00:00 GMT\n",
      "00:35:00\n",
      "\n",
      "Gluten and GMO: The Toxic Reality for 18 Million and Counting\n",
      "Fri, 16 Jan 2015 03:00:00 GMT\n",
      "00:26:00\n",
      "\n",
      "GMO Crossroads: The Point of No Return\n",
      "Fri, 12 Dec 2014 03:00:00 GMT\n",
      "00:36:00\n",
      "\n",
      "Synthetic Biology - The New Revolution\n",
      "Thu, 25 Sep 2014 02:00:00 GMT\n",
      "00:35:00\n",
      "\n",
      "Insidious Exports - The GMO Invasion\n",
      "Wed, 16 Apr 2014 02:30:00 GMT\n",
      "00:33:00\n",
      "\n",
      "From Double Helix to Double Standard\n",
      "Wed, 02 Apr 2014 03:30:00 GMT\n",
      "00:31:00\n",
      "\n",
      "Beyond Conspiracy\n",
      "Wed, 26 Mar 2014 02:00:00 GMT\n",
      "00:30:00\n",
      "\n",
      "Public Protection? The Agencies in Charge of Our Health and Safety\n",
      "Wed, 19 Mar 2014 02:00:00 GMT\n",
      "00:33:00\n",
      "\n",
      "Climbing the Food Chain\n",
      "Fri, 14 Mar 2014 02:30:00 GMT\n",
      "00:31:00\n",
      "\n",
      "Genetically Modified: The Biotech World - Here and Now\n",
      "Wed, 22 Jan 2014 03:00:00 GMT\n",
      "00:31:00\n",
      "\n",
      "Building to Break\n",
      "Wed, 15 Jan 2014 03:00:00 GMT\n",
      "00:29:00\n",
      "\n",
      "The Chemical Burn \n",
      "Wed, 14 Aug 2013 02:00:00 GMT\n",
      "00:30:00\n",
      "\n",
      "Discrowning the Six Kings\n",
      "Wed, 07 Aug 2013 02:00:00 GMT\n",
      "00:31:00\n",
      "\n",
      "Agenda 21: Domination \n",
      "Thu, 01 Aug 2013 02:00:00 GMT\n",
      "00:30:00\n",
      "\n",
      "The Safety Dance \n",
      "Wed, 08 May 2013 02:00:00 GMT\n",
      "00:29:00\n",
      "\n",
      "GMO - The Issues of Today\n",
      "Wed, 01 May 2013 03:00:00 GMT\n",
      "00:26:00\n",
      "\n",
      "In the Absence of Ethics\n",
      "Wed, 17 Apr 2013 02:00:00 GMT\n",
      "00:36:00\n",
      "\n",
      "Kill Technology - Gene Genocide\n",
      "Wed, 10 Apr 2013 02:00:00 GMT\n",
      "00:27:00\n",
      "\n",
      "The Garden of Eden - For Sale\n",
      "Wed, 03 Apr 2013 02:00:00 GMT\n",
      "00:35:00\n",
      "\n",
      "Parallels\n",
      "Wed, 27 Mar 2013 02:00:00 GMT\n",
      "00:34:00\n",
      "\n",
      "The Hidden Beneficiaries \n",
      "Wed, 06 Mar 2013 03:00:00 GMT\n",
      "00:33:00\n",
      "\n",
      "A Simple Game of Risk\n",
      "Wed, 27 Feb 2013 03:00:00 GMT\n",
      "00:29:00\n",
      "\n",
      "Contaminating The Human Code\n",
      "Wed, 20 Feb 2013 03:00:00 GMT\n",
      "00:35:00\n",
      "\n",
      "Monsanto: Down The Rabbit Hole\n",
      "Wed, 13 Feb 2013 03:00:00 GMT\n",
      "00:32:00\n",
      "\n",
      "Dismantling DNA\n",
      "Wed, 06 Feb 2013 03:00:00 GMT\n",
      "00:31:00\n",
      "\n",
      "Toxic Promise\n",
      "Wed, 30 Jan 2013 03:00:00 GMT\n",
      "00:32:00\n",
      "\n",
      "The GMO Puzzle - The Pieces Don't Fit Together\n",
      "Wed, 23 Jan 2013 03:00:00 GMT\n",
      "00:35:00\n",
      "\n",
      "Episode 5. Neurofibromatosis - Call The Tumour Police!\n",
      "Fri, 22 May 2020 12:00:00 +0000\n",
      "43:43\n",
      "\n",
      "Episode 4. Waardenburg Syndrome - Bright eyes\n",
      "Fri, 15 May 2020 11:53:21 +0000\n",
      "28:40\n",
      "\n",
      "Bonus Episode. Back To Basics - Genetic Disease\n",
      "Mon, 11 May 2020 18:11:00 +0000\n",
      "26:50\n",
      "\n",
      "Episode 3. Sickle Cell Disease - A Clear and Crescent Danger\n",
      "Fri, 08 May 2020 11:40:55 +0000\n",
      "40:09\n",
      "\n",
      "Episode 2. Haemophilia - Royal Blood\n",
      "Fri, 01 May 2020 11:58:56 +0000\n",
      "41:12\n",
      "\n",
      "Cystic Fibrosis - Bronze Age Betrayal\n",
      "Tue, 21 Apr 2020 11:09:45 +0000\n",
      "41:40\n",
      "\n"
     ]
    }
   ],
   "source": [
    "checkParams(feedarray)"
   ]
  },
  {
   "cell_type": "code",
   "execution_count": 110,
   "metadata": {
    "scrolled": true
   },
   "outputs": [
    {
     "data": {
      "text/plain": [
       "\"\\ntitle = []\\npubdate = []\\ndescription = []\\nduration = []\\nfor r in rows:\\n    title = r.find('title')\\n    print (title.text)\\n    pubdate = r.find('pubdate')\\n    print (pubdate.text+ '\\n')\\n   description = r.find('itunes:summary')\\n   print (description.text+ '\\n')\\n    duration = r.find('itunes:duration')\\n    print (duration.text)\\n\""
      ]
     },
     "execution_count": 110,
     "metadata": {},
     "output_type": "execute_result"
    }
   ],
   "source": [
    "\"\"\"\n",
    "title = []\n",
    "pubdate = []\n",
    "description = []\n",
    "duration = []\n",
    "for r in rows:\n",
    "    title = r.find('title')\n",
    "    print (title.text)\n",
    "    pubdate = r.find('pubdate')\n",
    "    print (pubdate.text+ '\\n')\n",
    "   description = r.find('itunes:summary')\n",
    "   print (description.text+ '\\n')\n",
    "    duration = r.find('itunes:duration')\n",
    "    print (duration.text)\n",
    "\"\"\""
   ]
  },
  {
   "cell_type": "code",
   "execution_count": null,
   "metadata": {},
   "outputs": [],
   "source": []
  },
  {
   "cell_type": "code",
   "execution_count": null,
   "metadata": {},
   "outputs": [],
   "source": []
  },
  {
   "cell_type": "code",
   "execution_count": null,
   "metadata": {},
   "outputs": [],
   "source": []
  },
  {
   "cell_type": "code",
   "execution_count": null,
   "metadata": {},
   "outputs": [],
   "source": []
  },
  {
   "cell_type": "code",
   "execution_count": null,
   "metadata": {},
   "outputs": [],
   "source": []
  },
  {
   "cell_type": "code",
   "execution_count": null,
   "metadata": {},
   "outputs": [],
   "source": []
  },
  {
   "cell_type": "code",
   "execution_count": null,
   "metadata": {},
   "outputs": [],
   "source": []
  },
  {
   "cell_type": "code",
   "execution_count": null,
   "metadata": {},
   "outputs": [],
   "source": []
  }
 ],
 "metadata": {
  "environment": {
   "name": "common-cpu.m46",
   "type": "gcloud",
   "uri": "gcr.io/deeplearning-platform-release/base-cpu:m46"
  },
  "kernelspec": {
   "display_name": "Python 3",
   "language": "python",
   "name": "python3"
  },
  "language_info": {
   "codemirror_mode": {
    "name": "ipython",
    "version": 3
   },
   "file_extension": ".py",
   "mimetype": "text/x-python",
   "name": "python",
   "nbconvert_exporter": "python",
   "pygments_lexer": "ipython3",
   "version": "3.7.6"
  }
 },
 "nbformat": 4,
 "nbformat_minor": 4
}
