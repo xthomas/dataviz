{
 "cells": [
  {
   "cell_type": "markdown",
   "metadata": {},
   "source": [
    "> install these libraries not inlcuded by default in **JupyterLab**:\n",
    "\n",
    "+ itunes API searcher\n",
    "    + ```$ pip install pyitunes```"
   ]
  },
  {
   "cell_type": "code",
   "execution_count": 1,
   "metadata": {},
   "outputs": [],
   "source": [
    "import itunes\n",
    "import pandas as pd \n",
    "import matplotlib.pyplot as plt\n",
    "import bs4 as bs\n",
    "import urllib.request"
   ]
  },
  {
   "cell_type": "code",
   "execution_count": 2,
   "metadata": {},
   "outputs": [],
   "source": [
    "item = itunes.search (query='beatles')"
   ]
  },
  {
   "cell_type": "code",
   "execution_count": 3,
   "metadata": {},
   "outputs": [
    {
     "name": "stdout",
     "output_type": "stream",
     "text": [
      "[<Song>: Let It Be, <Song>: Hey Jude, <Song>: In My Life, <Song>: Here Comes the Sun, <Song>: The Long and Winding Road, <Song>: Come Together, <Song>: Blackbird, <Song>: Ob-La-Di, Ob-La-Da, <Song>: Miss You, <Audiobook>: George Harrison, <Song>: Yesterday, <Song>: When I'm Sixty-Four, <Song>: Get Back, <Song>: All You Need Is Love, <Song>: Yesterday, <Song>: I Want to Hold Your Hand, <Song>: Let It Be, <Song>: Hey Jude, <Song>: Can't Buy Me Love, <Song>: A Hard Day's Night, <Song>: While My Guitar Gently Weeps, <Song>: Lucy In the Sky with Diamonds, <Song>: Yellow Submarine, <Audiobook>: The Meaning of Life in 5 Easy Lessons (To the Best of Our Knowledge Series), <Song>: She Loves You, <Song>: Eleanor Rigby, <Song>: Help!, <Song>: Eight Days a Week, <Song>: Come Together, <Song>: Love Me Do, <Song>: With a Little Help From My Friends, <Song>: Penny Lane, <Song>: We Can Work It Out, <Song>: Something, <Audiobook>: Paul McCartney, <Song>: Hello, Goodbye, <Song>: Day Tripper, <Song>: Ticket to Ride, <Song>: Lady Madonna, <Song>: Birthday, <Song>: Revolution, <Song>: Paperback Writer, <Song>: From Me to You, <Song>: I Feel Fine, <Song>: The Ballad of John and Yoko, <Song>: A Day In the Life, <Song>: Something, <Song>: Sgt. Pepper's Lonely Hearts Club Band, <Song>: Oh! Darling, <Song>: Back In the U.S.S.R., <Song>: She Came in Through the Bathroom Window, <Song>: Golden Slumbers, <Song>: Black Beatles (feat. Gucci Mane), <Song>: Octopus's Garden, <Song>: Strawberry Fields Forever, <Song>: I Want You (She's So Heavy), <Song>: Eleanor Rigby, <Song>: Don't Let Me Down, <Song>: Maxwell's Silver Hammer, <Song>: Carry That Weight, <Song>: You Never Give Me Your Money, <Song>: The End, <Song>: Because, <Song>: Rocky Raccoon, <Song>: I Will, <Song>: I Want to Hold Your Hand, <Song>: Dear Prudence, <Song>: Mean Mr Mustard, <Song>: Helter Skelter, <Song>: Polythene Pam, <Song>: Being For the Benefit of Mr. Kite!, <Song>: Sun King, <Song>: Get Back, <Song>: Her Majesty, <Song>: If I Needed Someone, <Song>: I Am the Walrus, <Song>: Hello, Goodbye, <Song>: Beatles, <Song>: Mother Nature's Son, <Song>: Happiness Is a Warm Gun, <Song>: Sgt. Pepper's Lonely Hearts Club Band, <Song>: Everybody's Got Something to Hide Except Me and My Monkey, <Song>: She's Leaving Home, <Audiobook>: Ringo Starr, <Song>: Norwegian Wood (This Bird Has Flown), <Song>: Across the Universe, <Song>: Getting Better, <Song>: Penny Lane, <Song>: Lovely Rita, <Song>: Let It Be, <Song>: With a Little Help From My Friends, <Song>: Julia, <Song>: Within You Without You, <Song>: Twist and Shout, <Song>: Revolution 1, <Song>: Fixing a Hole, <Song>: Michelle, <Song>: Good Night, <Song>: I'm So Tired, <Song>: Lucy In the Sky with Diamonds]\n"
     ]
    }
   ],
   "source": [
    "print (item)"
   ]
  },
  {
   "cell_type": "code",
   "execution_count": 4,
   "metadata": {},
   "outputs": [],
   "source": [
    "id = itunes.search(query='infectious disease', media='podcast')"
   ]
  },
  {
   "cell_type": "code",
   "execution_count": 5,
   "metadata": {},
   "outputs": [
    {
     "name": "stdout",
     "output_type": "stream",
     "text": [
      "[<Podcast>: Infectious Diseases Society of America, <Podcast>: Emerging Infectious Diseases, <Podcast>: Persiflagers Infectious Disease Puscast, <Podcast>: Infectious Disease, <Podcast>: Breakpoints, <Podcast>: The Open Forum Infectious Diseases Podcast, <Podcast>: Infectious Disease & Antibiotic Resistance, <Podcast>: PeerView Infectious Diseases CME/CNE/CPE Audio Podcast, <Podcast>: Persiflagers Infectious Disease Puscast, <Podcast>: Infectious Disease Dynamics, <Podcast>: PeerView Infectious Diseases CME/CNE/CPE Video Podcast, <Podcast>: PeerVoice Immunology & Infectious Disease Audio, <Podcast>: PeerVoice Immunology & Infectious Disease Video, <Podcast>: Infectious Questions : An Infectious Diseases Public Health Podcast, <Podcast>: Infectious Diseases, <Podcast>: Infectious Diseases and Pandemics (audio), <Podcast>: The History of Infectious Diseases, <Podcast>: Podcasts – PKIDs Blog, <Podcast>: Infectious Diseases and Pandemics (video), <Podcast>: Disease State - Infectious]\n"
     ]
    }
   ],
   "source": [
    "print (id)"
   ]
  },
  {
   "cell_type": "code",
   "execution_count": 6,
   "metadata": {},
   "outputs": [
    {
     "name": "stdout",
     "output_type": "stream",
     "text": [
      "<Podcast>: Infectious Diseases Society of America\n",
      "<Podcast>: Emerging Infectious Diseases\n",
      "<Podcast>: Persiflagers Infectious Disease Puscast\n",
      "<Podcast>: Infectious Disease\n",
      "<Podcast>: Breakpoints\n",
      "<Podcast>: The Open Forum Infectious Diseases Podcast\n",
      "<Podcast>: Infectious Disease & Antibiotic Resistance\n",
      "<Podcast>: PeerView Infectious Diseases CME/CNE/CPE Audio Podcast\n",
      "<Podcast>: Persiflagers Infectious Disease Puscast\n",
      "<Podcast>: Infectious Disease Dynamics\n",
      "<Podcast>: PeerView Infectious Diseases CME/CNE/CPE Video Podcast\n",
      "<Podcast>: PeerVoice Immunology & Infectious Disease Audio\n",
      "<Podcast>: PeerVoice Immunology & Infectious Disease Video\n",
      "<Podcast>: Infectious Questions : An Infectious Diseases Public Health Podcast\n",
      "<Podcast>: Infectious Diseases\n",
      "<Podcast>: Infectious Diseases and Pandemics (audio)\n",
      "<Podcast>: The History of Infectious Diseases\n",
      "<Podcast>: Podcasts – PKIDs Blog\n",
      "<Podcast>: Infectious Diseases and Pandemics (video)\n",
      "<Podcast>: Disease State - Infectious\n"
     ]
    }
   ],
   "source": [
    "for item in id:\n",
    "    print (item)"
   ]
  },
  {
   "cell_type": "code",
   "execution_count": 7,
   "metadata": {},
   "outputs": [
    {
     "name": "stdout",
     "output_type": "stream",
     "text": [
      "{'id': 519582740, 'name': 'Infectious Diseases Society of America', 'url': 'https://podcasts.apple.com/us/podcast/infectious-diseases-society-of-america/id519582740?uo=4', '_release_date': None, 'artwork': {'30': 'https://is3-ssl.mzstatic.com/image/thumb/Podcasts6/v4/97/ac/53/97ac535a-8e19-5a04-df2c-a5713369e99d/mza_158942553313998590.jpg/30x30bb.jpg', '60': 'https://is3-ssl.mzstatic.com/image/thumb/Podcasts6/v4/97/ac/53/97ac535a-8e19-5a04-df2c-a5713369e99d/mza_158942553313998590.jpg/60x60bb.jpg', '600': 'https://is3-ssl.mzstatic.com/image/thumb/Podcasts6/v4/97/ac/53/97ac535a-8e19-5a04-df2c-a5713369e99d/mza_158942553313998590.jpg/600x600bb.jpg'}, 'json': {'wrapperType': 'track', 'kind': 'podcast', 'collectionId': 519582740, 'trackId': 519582740, 'artistName': 'IDSA', 'collectionName': 'Infectious Diseases Society of America', 'trackName': 'Infectious Diseases Society of America', 'collectionCensoredName': 'Infectious Diseases Society of America', 'trackCensoredName': 'Infectious Diseases Society of America', 'collectionViewUrl': 'https://podcasts.apple.com/us/podcast/infectious-diseases-society-of-america/id519582740?uo=4', 'feedUrl': 'http://idsocietypodcast.libsyn.com/rss', 'trackViewUrl': 'https://podcasts.apple.com/us/podcast/infectious-diseases-society-of-america/id519582740?uo=4', 'artworkUrl30': 'https://is3-ssl.mzstatic.com/image/thumb/Podcasts6/v4/97/ac/53/97ac535a-8e19-5a04-df2c-a5713369e99d/mza_158942553313998590.jpg/30x30bb.jpg', 'artworkUrl60': 'https://is3-ssl.mzstatic.com/image/thumb/Podcasts6/v4/97/ac/53/97ac535a-8e19-5a04-df2c-a5713369e99d/mza_158942553313998590.jpg/60x60bb.jpg', 'artworkUrl100': 'https://is3-ssl.mzstatic.com/image/thumb/Podcasts6/v4/97/ac/53/97ac535a-8e19-5a04-df2c-a5713369e99d/mza_158942553313998590.jpg/100x100bb.jpg', 'collectionPrice': 0.0, 'trackPrice': 0.0, 'trackRentalPrice': 0, 'collectionHdPrice': 0, 'trackHdPrice': 0, 'trackHdRentalPrice': 0, 'releaseDate': '2020-05-19T09:00:00Z', 'collectionExplicitness': 'cleaned', 'trackExplicitness': 'cleaned', 'trackCount': 53, 'country': 'USA', 'currency': 'USD', 'primaryGenreName': 'Science', 'contentAdvisoryRating': 'Clean', 'artworkUrl600': 'https://is3-ssl.mzstatic.com/image/thumb/Podcasts6/v4/97/ac/53/97ac535a-8e19-5a04-df2c-a5713369e99d/mza_158942553313998590.jpg/600x600bb.jpg', 'genreIds': ['1533', '26', '1512', '1518'], 'genres': ['Science', 'Podcasts', 'Health & Fitness', 'Medicine']}, 'type': 'podcast', 'genre': 'Science', 'release_date_raw': '2020-05-19T09:00:00Z', 'country_store': 'USA', 'preview_url': None, 'price': 0.0, 'number': None, 'duration': None, 'artist': None, 'album': <Podcast>: Infectious Diseases Society of America}\n"
     ]
    }
   ],
   "source": [
    "# let's looks at what gets returned for each item in that list of Podcast search results\n",
    "print (vars(id[0]))"
   ]
  },
  {
   "cell_type": "code",
   "execution_count": 8,
   "metadata": {},
   "outputs": [
    {
     "name": "stdout",
     "output_type": "stream",
     "text": [
      "{'id': 519582740, 'name': 'Infectious Diseases Society of America', 'url': 'https://podcasts.apple.com/us/podcast/infectious-diseases-society-of-america/id519582740?uo=4', '_release_date': None, 'artwork': {'30': 'https://is3-ssl.mzstatic.com/image/thumb/Podcasts6/v4/97/ac/53/97ac535a-8e19-5a04-df2c-a5713369e99d/mza_158942553313998590.jpg/30x30bb.jpg', '60': 'https://is3-ssl.mzstatic.com/image/thumb/Podcasts6/v4/97/ac/53/97ac535a-8e19-5a04-df2c-a5713369e99d/mza_158942553313998590.jpg/60x60bb.jpg', '600': 'https://is3-ssl.mzstatic.com/image/thumb/Podcasts6/v4/97/ac/53/97ac535a-8e19-5a04-df2c-a5713369e99d/mza_158942553313998590.jpg/600x600bb.jpg'}, 'json': {'wrapperType': 'track', 'kind': 'podcast', 'collectionId': 519582740, 'trackId': 519582740, 'artistName': 'IDSA', 'collectionName': 'Infectious Diseases Society of America', 'trackName': 'Infectious Diseases Society of America', 'collectionCensoredName': 'Infectious Diseases Society of America', 'trackCensoredName': 'Infectious Diseases Society of America', 'collectionViewUrl': 'https://podcasts.apple.com/us/podcast/infectious-diseases-society-of-america/id519582740?uo=4', 'feedUrl': 'http://idsocietypodcast.libsyn.com/rss', 'trackViewUrl': 'https://podcasts.apple.com/us/podcast/infectious-diseases-society-of-america/id519582740?uo=4', 'artworkUrl30': 'https://is3-ssl.mzstatic.com/image/thumb/Podcasts6/v4/97/ac/53/97ac535a-8e19-5a04-df2c-a5713369e99d/mza_158942553313998590.jpg/30x30bb.jpg', 'artworkUrl60': 'https://is3-ssl.mzstatic.com/image/thumb/Podcasts6/v4/97/ac/53/97ac535a-8e19-5a04-df2c-a5713369e99d/mza_158942553313998590.jpg/60x60bb.jpg', 'artworkUrl100': 'https://is3-ssl.mzstatic.com/image/thumb/Podcasts6/v4/97/ac/53/97ac535a-8e19-5a04-df2c-a5713369e99d/mza_158942553313998590.jpg/100x100bb.jpg', 'collectionPrice': 0.0, 'trackPrice': 0.0, 'trackRentalPrice': 0, 'collectionHdPrice': 0, 'trackHdPrice': 0, 'trackHdRentalPrice': 0, 'releaseDate': '2020-05-19T09:00:00Z', 'collectionExplicitness': 'cleaned', 'trackExplicitness': 'cleaned', 'trackCount': 53, 'country': 'USA', 'currency': 'USD', 'primaryGenreName': 'Science', 'contentAdvisoryRating': 'Clean', 'artworkUrl600': 'https://is3-ssl.mzstatic.com/image/thumb/Podcasts6/v4/97/ac/53/97ac535a-8e19-5a04-df2c-a5713369e99d/mza_158942553313998590.jpg/600x600bb.jpg', 'genreIds': ['1533', '26', '1512', '1518'], 'genres': ['Science', 'Podcasts', 'Health & Fitness', 'Medicine']}, 'type': 'podcast', 'genre': 'Science', 'release_date_raw': '2020-05-19T09:00:00Z', 'country_store': 'USA', 'preview_url': None, 'price': 0.0, 'number': None, 'duration': None, 'artist': None, 'album': <Podcast>: Infectious Diseases Society of America}\n"
     ]
    }
   ],
   "source": [
    "# using 'lookup' vs. 'search'\n",
    "print (vars(itunes.lookup(519582740)))"
   ]
  },
  {
   "cell_type": "markdown",
   "metadata": {},
   "source": [
    "## ⇪ Looks like 'lookup' function and the list of search results are identical (for Podcasts)"
   ]
  },
  {
   "cell_type": "code",
   "execution_count": 9,
   "metadata": {},
   "outputs": [],
   "source": [
    "podcast = itunes.lookup(519582740)"
   ]
  },
  {
   "cell_type": "code",
   "execution_count": 10,
   "metadata": {},
   "outputs": [
    {
     "name": "stdout",
     "output_type": "stream",
     "text": [
      "<Podcast>: Infectious Diseases Society of America\n"
     ]
    }
   ],
   "source": [
    "print (podcast)"
   ]
  },
  {
   "cell_type": "code",
   "execution_count": 11,
   "metadata": {},
   "outputs": [
    {
     "name": "stdout",
     "output_type": "stream",
     "text": [
      "<Podcast>: Infectious Diseases Society of America\n"
     ]
    }
   ],
   "source": [
    "print (podcast.album)"
   ]
  },
  {
   "cell_type": "code",
   "execution_count": 12,
   "metadata": {},
   "outputs": [
    {
     "name": "stdout",
     "output_type": "stream",
     "text": [
      "podcast\n"
     ]
    }
   ],
   "source": [
    "print (podcast.type)"
   ]
  },
  {
   "cell_type": "code",
   "execution_count": 13,
   "metadata": {},
   "outputs": [
    {
     "name": "stdout",
     "output_type": "stream",
     "text": [
      "Science\n"
     ]
    }
   ],
   "source": [
    "print (podcast.genre)"
   ]
  },
  {
   "cell_type": "code",
   "execution_count": 14,
   "metadata": {},
   "outputs": [
    {
     "name": "stdout",
     "output_type": "stream",
     "text": [
      "{'wrapperType': 'track', 'kind': 'podcast', 'collectionId': 519582740, 'trackId': 519582740, 'artistName': 'IDSA', 'collectionName': 'Infectious Diseases Society of America', 'trackName': 'Infectious Diseases Society of America', 'collectionCensoredName': 'Infectious Diseases Society of America', 'trackCensoredName': 'Infectious Diseases Society of America', 'collectionViewUrl': 'https://podcasts.apple.com/us/podcast/infectious-diseases-society-of-america/id519582740?uo=4', 'feedUrl': 'http://idsocietypodcast.libsyn.com/rss', 'trackViewUrl': 'https://podcasts.apple.com/us/podcast/infectious-diseases-society-of-america/id519582740?uo=4', 'artworkUrl30': 'https://is3-ssl.mzstatic.com/image/thumb/Podcasts6/v4/97/ac/53/97ac535a-8e19-5a04-df2c-a5713369e99d/mza_158942553313998590.jpg/30x30bb.jpg', 'artworkUrl60': 'https://is3-ssl.mzstatic.com/image/thumb/Podcasts6/v4/97/ac/53/97ac535a-8e19-5a04-df2c-a5713369e99d/mza_158942553313998590.jpg/60x60bb.jpg', 'artworkUrl100': 'https://is3-ssl.mzstatic.com/image/thumb/Podcasts6/v4/97/ac/53/97ac535a-8e19-5a04-df2c-a5713369e99d/mza_158942553313998590.jpg/100x100bb.jpg', 'collectionPrice': 0.0, 'trackPrice': 0.0, 'trackRentalPrice': 0, 'collectionHdPrice': 0, 'trackHdPrice': 0, 'trackHdRentalPrice': 0, 'releaseDate': '2020-05-19T09:00:00Z', 'collectionExplicitness': 'cleaned', 'trackExplicitness': 'cleaned', 'trackCount': 53, 'country': 'USA', 'currency': 'USD', 'primaryGenreName': 'Science', 'contentAdvisoryRating': 'Clean', 'artworkUrl600': 'https://is3-ssl.mzstatic.com/image/thumb/Podcasts6/v4/97/ac/53/97ac535a-8e19-5a04-df2c-a5713369e99d/mza_158942553313998590.jpg/600x600bb.jpg', 'genreIds': ['1533', '26', '1512', '1518'], 'genres': ['Science', 'Podcasts', 'Health & Fitness', 'Medicine']}\n"
     ]
    }
   ],
   "source": [
    "print (podcast.json)"
   ]
  },
  {
   "cell_type": "code",
   "execution_count": 15,
   "metadata": {},
   "outputs": [
    {
     "name": "stdout",
     "output_type": "stream",
     "text": [
      "podcast\n"
     ]
    }
   ],
   "source": [
    "print (podcast.json['kind'])"
   ]
  },
  {
   "cell_type": "code",
   "execution_count": 16,
   "metadata": {},
   "outputs": [
    {
     "name": "stdout",
     "output_type": "stream",
     "text": [
      "53\n"
     ]
    }
   ],
   "source": [
    "print (podcast.json['trackCount'])"
   ]
  },
  {
   "cell_type": "markdown",
   "metadata": {},
   "source": [
    "### ⇪ A little wierd, looks like most of what we want is packed into\n",
    "### a \"JSON\" attribute...but nevertheless, there it is.\n",
    "\n",
    "- - -\n",
    "\n",
    "# So let's lookup some stuff about Infectious Disease podcasts\n",
    "\n",
    "+ no. of individual posts / episodes per year since publishing\n",
    "+ length posts (minutes)\n",
    "+ rating per channel +/or track\n",
    "\n",
    "### first for # posts / episodes / page URL"
   ]
  },
  {
   "cell_type": "code",
   "execution_count": 17,
   "metadata": {},
   "outputs": [
    {
     "name": "stdout",
     "output_type": "stream",
     "text": [
      "53 podcasts in \"Infectious Diseases Society of America\" (with id = 519582740)\n",
      "The last post in this channel was 2020-05-19T09:00:00Z, and iTunes page lising all podcast episodes:\n",
      "https://podcasts.apple.com/us/podcast/infectious-diseases-society-of-america/id519582740?uo=4\n",
      "\n",
      "50 podcasts in \"Emerging Infectious Diseases\" (with id = 212828612)\n",
      "The last post in this channel was 2020-05-21T15:56:00Z, and iTunes page lising all podcast episodes:\n",
      "https://podcasts.apple.com/us/podcast/emerging-infectious-diseases/id212828612?uo=4\n",
      "\n",
      "300 podcasts in \"Persiflagers Infectious Disease Puscast\" (with id = 79930757)\n",
      "The last post in this channel was 2020-05-17T08:25:00Z, and iTunes page lising all podcast episodes:\n",
      "https://podcasts.apple.com/us/podcast/persiflagers-infectious-disease-puscast/id79930757?uo=4\n",
      "\n",
      "49 podcasts in \"Infectious Disease\" (with id = 415333788)\n",
      "The last post in this channel was 2016-03-15T10:31:00Z, and iTunes page lising all podcast episodes:\n",
      "https://podcasts.apple.com/us/podcast/infectious-disease/id415333788?uo=4\n",
      "\n",
      "22 podcasts in \"Breakpoints\" (with id = 1470308447)\n",
      "The last post in this channel was 2020-05-15T09:00:00Z, and iTunes page lising all podcast episodes:\n",
      "https://podcasts.apple.com/us/podcast/breakpoints/id1470308447?uo=4\n",
      "\n",
      "28 podcasts in \"The Open Forum Infectious Diseases Podcast\" (with id = 1368469324)\n",
      "The last post in this channel was 2020-04-17T15:00:00Z, and iTunes page lising all podcast episodes:\n",
      "https://podcasts.apple.com/us/podcast/the-open-forum-infectious-diseases-podcast/id1368469324?uo=4\n",
      "\n",
      "7 podcasts in \"Infectious Disease & Antibiotic Resistance\" (with id = 621579678)\n",
      "The last post in this channel was 2013-03-21T09:30:00Z, and iTunes page lising all podcast episodes:\n",
      "https://podcasts.apple.com/us/podcast/infectious-disease-antibiotic-resistance/id621579678?uo=4\n",
      "\n",
      "16 podcasts in \"PeerView Infectious Diseases CME/CNE/CPE Audio Podcast\" (with id = 275853748)\n",
      "The last post in this channel was 2020-04-24T23:00:00Z, and iTunes page lising all podcast episodes:\n",
      "https://podcasts.apple.com/us/podcast/peerview-infectious-diseases-cme-cne-cpe-audio-podcast/id275853748?uo=4\n",
      "\n",
      "300 podcasts in \"Persiflagers Infectious Disease Puscast\" (with id = 1153935086)\n",
      "The last post in this channel was 2020-05-17T08:25:00Z, and iTunes page lising all podcast episodes:\n",
      "https://podcasts.apple.com/us/podcast/persiflagers-infectious-disease-puscast/id1153935086?uo=4\n",
      "\n",
      "53 podcasts in \"Infectious Disease Dynamics\" (with id = 833385368)\n",
      "The last post in this channel was 2014-05-30T09:35:00Z, and iTunes page lising all podcast episodes:\n",
      "https://podcasts.apple.com/us/podcast/infectious-disease-dynamics/id833385368?uo=4\n",
      "\n",
      "15 podcasts in \"PeerView Infectious Diseases CME/CNE/CPE Video Podcast\" (with id = 288732495)\n",
      "The last post in this channel was 2020-04-24T23:00:00Z, and iTunes page lising all podcast episodes:\n",
      "https://podcasts.apple.com/us/podcast/peerview-infectious-diseases-cme-cne-cpe-video-podcast/id288732495?uo=4\n",
      "\n",
      "25 podcasts in \"PeerVoice Immunology & Infectious Disease Audio\" (with id = 496654255)\n",
      "The last post in this channel was 2019-08-26T23:00:00Z, and iTunes page lising all podcast episodes:\n",
      "https://podcasts.apple.com/us/podcast/peervoice-immunology-infectious-disease-audio/id496654255?uo=4\n",
      "\n",
      "25 podcasts in \"PeerVoice Immunology & Infectious Disease Video\" (with id = 496653922)\n",
      "The last post in this channel was 2019-08-26T23:00:00Z, and iTunes page lising all podcast episodes:\n",
      "https://podcasts.apple.com/us/podcast/peervoice-immunology-infectious-disease-video/id496653922?uo=4\n",
      "\n",
      "26 podcasts in \"Infectious Questions : An Infectious Diseases Public Health Podcast\" (with id = 1095847486)\n",
      "The last post in this channel was 2020-04-29T17:25:00Z, and iTunes page lising all podcast episodes:\n",
      "https://podcasts.apple.com/us/podcast/infectious-questions-infectious-diseases-public-health/id1095847486?uo=4\n",
      "\n",
      "8 podcasts in \"Infectious Diseases\" (with id = 449847895)\n",
      "The last post in this channel was 2018-03-06T14:19:00Z, and iTunes page lising all podcast episodes:\n",
      "https://podcasts.apple.com/us/podcast/infectious-diseases/id449847895?uo=4\n",
      "\n",
      "3 podcasts in \"Infectious Diseases and Pandemics (audio)\" (with id = 404210329)\n",
      "The last post in this channel was 2009-07-31T09:54:00Z, and iTunes page lising all podcast episodes:\n",
      "https://podcasts.apple.com/us/podcast/infectious-diseases-and-pandemics-audio/id404210329?uo=4\n",
      "\n",
      "2 podcasts in \"The History of Infectious Diseases\" (with id = 700715374)\n",
      "The last post in this channel was 2016-08-17T09:40:00Z, and iTunes page lising all podcast episodes:\n",
      "https://podcasts.apple.com/us/podcast/the-history-of-infectious-diseases/id700715374?uo=4\n",
      "\n",
      "10 podcasts in \"Podcasts – PKIDs Blog\" (with id = 218493791)\n",
      "The last post in this channel was 2012-04-16T15:00:00Z, and iTunes page lising all podcast episodes:\n",
      "https://podcasts.apple.com/us/podcast/podcasts-pkids-blog/id218493791?uo=4\n",
      "\n",
      "4 podcasts in \"Infectious Diseases and Pandemics (video)\" (with id = 391198056)\n",
      "The last post in this channel was 2008-09-16T05:00:00Z, and iTunes page lising all podcast episodes:\n",
      "https://podcasts.apple.com/us/podcast/infectious-diseases-and-pandemics-video/id391198056?uo=4\n",
      "\n",
      "17 podcasts in \"Disease State - Infectious\" (with id = 546659150)\n",
      "The last post in this channel was 2012-08-22T19:28:00Z, and iTunes page lising all podcast episodes:\n",
      "https://podcasts.apple.com/us/podcast/disease-state-infectious/id546659150?uo=4\n",
      "\n"
     ]
    }
   ],
   "source": [
    "for channel in id:\n",
    "    print (f'{channel.json[\"trackCount\"]} podcasts in \"{channel.json[\"collectionName\"]}\" (with id = {channel.id})')\n",
    "    print (f'The last post in this channel was {channel.json[\"releaseDate\"]}, and iTunes page lising all podcast episodes:')\n",
    "    print (f'{channel.json[\"collectionViewUrl\"]}\\n')"
   ]
  },
  {
   "cell_type": "code",
   "execution_count": 18,
   "metadata": {},
   "outputs": [
    {
     "name": "stdout",
     "output_type": "stream",
     "text": [
      "https://podcasts.apple.com/us/podcast/infectious-diseases-society-of-america/id519582740?uo=4\n",
      "https://podcasts.apple.com/us/podcast/emerging-infectious-diseases/id212828612?uo=4\n",
      "https://podcasts.apple.com/us/podcast/persiflagers-infectious-disease-puscast/id79930757?uo=4\n",
      "https://podcasts.apple.com/us/podcast/infectious-disease/id415333788?uo=4\n",
      "https://podcasts.apple.com/us/podcast/breakpoints/id1470308447?uo=4\n",
      "https://podcasts.apple.com/us/podcast/the-open-forum-infectious-diseases-podcast/id1368469324?uo=4\n",
      "https://podcasts.apple.com/us/podcast/infectious-disease-antibiotic-resistance/id621579678?uo=4\n",
      "https://podcasts.apple.com/us/podcast/peerview-infectious-diseases-cme-cne-cpe-audio-podcast/id275853748?uo=4\n",
      "https://podcasts.apple.com/us/podcast/persiflagers-infectious-disease-puscast/id1153935086?uo=4\n",
      "https://podcasts.apple.com/us/podcast/infectious-disease-dynamics/id833385368?uo=4\n",
      "https://podcasts.apple.com/us/podcast/peerview-infectious-diseases-cme-cne-cpe-video-podcast/id288732495?uo=4\n",
      "https://podcasts.apple.com/us/podcast/peervoice-immunology-infectious-disease-audio/id496654255?uo=4\n",
      "https://podcasts.apple.com/us/podcast/peervoice-immunology-infectious-disease-video/id496653922?uo=4\n",
      "https://podcasts.apple.com/us/podcast/infectious-questions-infectious-diseases-public-health/id1095847486?uo=4\n",
      "https://podcasts.apple.com/us/podcast/infectious-diseases/id449847895?uo=4\n",
      "https://podcasts.apple.com/us/podcast/infectious-diseases-and-pandemics-audio/id404210329?uo=4\n",
      "https://podcasts.apple.com/us/podcast/the-history-of-infectious-diseases/id700715374?uo=4\n",
      "https://podcasts.apple.com/us/podcast/podcasts-pkids-blog/id218493791?uo=4\n",
      "https://podcasts.apple.com/us/podcast/infectious-diseases-and-pandemics-video/id391198056?uo=4\n",
      "https://podcasts.apple.com/us/podcast/disease-state-infectious/id546659150?uo=4\n"
     ]
    }
   ],
   "source": [
    "for channel in id:\n",
    "    print (f'{channel.json[\"collectionViewUrl\"]}')"
   ]
  },
  {
   "cell_type": "code",
   "execution_count": null,
   "metadata": {},
   "outputs": [],
   "source": []
  },
  {
   "cell_type": "code",
   "execution_count": 19,
   "metadata": {},
   "outputs": [],
   "source": [
    "feedarray = []\n",
    "def checkKeys(podcast):\n",
    "        # feedURL is not consistent, check if present\n",
    "        if ('feedUrl' in podcast.json):\n",
    "            # write to an array of feeds\n",
    "            return channel.json[\"feedUrl\"]\n",
    "        else:\n",
    "            pass"
   ]
  },
  {
   "cell_type": "code",
   "execution_count": 20,
   "metadata": {
    "scrolled": false
   },
   "outputs": [
    {
     "name": "stdout",
     "output_type": "stream",
     "text": [
      "['http://idsocietypodcast.libsyn.com/rss', 'https://www2c.cdc.gov/podcasts/createrss.asp?t=a&c=49', 'http://www.pusware.com/podcast.xml', 'http://wwwf.imperial.ac.uk/imedia/itunes_collections/view/infectious-disease.rss', 'https://pinecast.com/feed/sidp', 'https://feeds.blubrry.com/feeds/the_ofid.xml', 'https://c.peerview.com/podcast/xml/infectiousdiseases_audio.xml', 'http://www.pusware.com/podcast.xml', 'http://rss.sms.cam.ac.uk/rss/collection/1539399?feedType=itunes', 'https://c.peerview.com/podcast/xml/infectiousdiseases_video.xml', 'https://c.peervoice.com/podcast/xml/rheumatology_audio.xml', 'https://c.peervoice.com/podcast/xml/rheumatology_video.xml', 'http://infectious.libsyn.com/rss', 'https://www.icgeb.org/itunesu/Infectious-Diseases.xml', 'http://feeds.feedburner.com/pkidsPodcasts', 'http://api.delvenetworks.com/rest/organizations/ea495bf9c05048b88058f9803f6b94be/channels/9f38606cfa8f4f549c8900913a662c4d/media.itunesrss']\n"
     ]
    }
   ],
   "source": [
    "# gather array of the VALID podcast feeds (published by podcaster, not from iTunes)\n",
    "feedarray = []\n",
    "for channel in id:\n",
    "    p = checkKeys(channel)\n",
    "    if p != None:\n",
    "        feedarray.append(p)\n",
    "print (feedarray)"
   ]
  },
  {
   "cell_type": "code",
   "execution_count": 52,
   "metadata": {},
   "outputs": [
    {
     "name": "stdout",
     "output_type": "stream",
     "text": [
      "⇪ lost 4 of the podcasts by filtering for item, but that is better than none...I suppose....\n"
     ]
    }
   ],
   "source": [
    "print (f'⇪ lost {(len(id)-len(feedarray))} of the podcasts by filtering for item, but that is better than none...I suppose....')"
   ]
  },
  {
   "cell_type": "code",
   "execution_count": 77,
   "metadata": {},
   "outputs": [],
   "source": [
    "source = urllib.request.urlopen('http://idsocietypodcast.libsyn.com/rss')\n",
    "soup = bs.BeautifulSoup(source,'lxml')\n",
    "rows = soup.find_all('item')"
   ]
  },
  {
   "cell_type": "code",
   "execution_count": 78,
   "metadata": {},
   "outputs": [
    {
     "data": {
      "text/plain": [
       "53"
      ]
     },
     "execution_count": 78,
     "metadata": {},
     "output_type": "execute_result"
    }
   ],
   "source": [
    "len(rows)"
   ]
  },
  {
   "cell_type": "code",
   "execution_count": 23,
   "metadata": {},
   "outputs": [
    {
     "name": "stdout",
     "output_type": "stream",
     "text": [
      "<item>\n",
      "<title>Coronavirus: Strategies for Safely Reopening the Country (May 19, 2020)</title>\n",
      "<itunes:title>Coronavirus: Strategies for Safely Reopening the Country (May 19, 2020)</itunes:title>\n",
      "<pubdate>Tue, 19 May 2020 09:00:00 +0000</pubdate>\n",
      "<guid ispermalink=\"false\"></guid>\n",
      "<link/>\n",
      "<itunes:image href=\"https://ssl-static.libsyn.com/p/assets/a/9/a/1/a9a1cc5db85c2a5e/REVISED_1400x1400_3.png\"></itunes:image>\n",
      "<description>We discuss strategies for safely reopening the country with Drs. Carlos del Rio, FIDSA of Emory University and Dr. Preeti Malani, FIDSA of the University of Michigan.]]&gt;</description>\n",
      "<content:encoded>We discuss strategies for safely reopening the country with Drs. Carlos del Rio, FIDSA of Emory University and Dr. Preeti Malani, FIDSA of the University of Michigan.]]&gt;</content:encoded>\n",
      "<enclosure length=\"28965468\" type=\"audio/mpeg\" url=\"https://traffic.libsyn.com/secure/idsocietypodcast/May_14_Re-opening.mp3?dest-id=166309\"></enclosure>\n",
      "<itunes:duration>17:31</itunes:duration>\n",
      "<itunes:explicit>no</itunes:explicit>\n",
      "<itunes:keywords>coronavirus,covid19</itunes:keywords>\n",
      "<itunes:subtitle></itunes:subtitle>\n",
      "<itunes:summary>We discuss strategies for safely reopening the country with Drs. Carlos del Rio, FIDSA of Emory University and Dr. Preeti Malani, FIDSA of the University of Michigan.</itunes:summary>\n",
      "<itunes:episodetype>full</itunes:episodetype>\n",
      "</item>\n"
     ]
    }
   ],
   "source": [
    "print (rows[0])"
   ]
  },
  {
   "cell_type": "code",
   "execution_count": 31,
   "metadata": {},
   "outputs": [
    {
     "name": "stdout",
     "output_type": "stream",
     "text": [
      "Coronavirus: Strategies for Safely Reopening the Country (May 19, 2020)\n",
      "Tue, 19 May 2020 09:00:00 +0000\n",
      "We discuss strategies for safely reopening the country with Drs. Carlos del Rio, FIDSA of Emory University and Dr. Preeti Malani, FIDSA of the University of Michigan.]]>\n"
     ]
    }
   ],
   "source": [
    "print (rows[0].title.text)\n",
    "print (rows[0].pubdate.text)\n",
    "print (rows[0].description.text)"
   ]
  },
  {
   "cell_type": "code",
   "execution_count": 41,
   "metadata": {},
   "outputs": [
    {
     "name": "stdout",
     "output_type": "stream",
     "text": [
      "53, 53\n"
     ]
    }
   ],
   "source": [
    "durez = soup.find_all('itunes:duration')\n",
    "print (f'{len(rows)}, {len(durez)}')"
   ]
  },
  {
   "cell_type": "code",
   "execution_count": 49,
   "metadata": {},
   "outputs": [
    {
     "ename": "KeyError",
     "evalue": "'itunes:duration'",
     "output_type": "error",
     "traceback": [
      "\u001b[0;31m---------------------------------------------------------------------------\u001b[0m",
      "\u001b[0;31mKeyError\u001b[0m                                  Traceback (most recent call last)",
      "\u001b[0;32m<ipython-input-49-9e4e456a8cfb>\u001b[0m in \u001b[0;36m<module>\u001b[0;34m\u001b[0m\n\u001b[0;32m----> 1\u001b[0;31m \u001b[0mrows\u001b[0m\u001b[0;34m[\u001b[0m\u001b[0;36m0\u001b[0m\u001b[0;34m]\u001b[0m\u001b[0;34m[\u001b[0m\u001b[0;34m\"itunes:duration\"\u001b[0m\u001b[0;34m]\u001b[0m\u001b[0;34m\u001b[0m\u001b[0;34m\u001b[0m\u001b[0m\n\u001b[0m",
      "\u001b[0;32m~/anaconda3/lib/python3.7/site-packages/bs4/element.py\u001b[0m in \u001b[0;36m__getitem__\u001b[0;34m(self, key)\u001b[0m\n\u001b[1;32m   1319\u001b[0m         \"\"\"tag[key] returns the value of the 'key' attribute for the Tag,\n\u001b[1;32m   1320\u001b[0m         and throws an exception if it's not there.\"\"\"\n\u001b[0;32m-> 1321\u001b[0;31m         \u001b[0;32mreturn\u001b[0m \u001b[0mself\u001b[0m\u001b[0;34m.\u001b[0m\u001b[0mattrs\u001b[0m\u001b[0;34m[\u001b[0m\u001b[0mkey\u001b[0m\u001b[0;34m]\u001b[0m\u001b[0;34m\u001b[0m\u001b[0;34m\u001b[0m\u001b[0m\n\u001b[0m\u001b[1;32m   1322\u001b[0m \u001b[0;34m\u001b[0m\u001b[0m\n\u001b[1;32m   1323\u001b[0m     \u001b[0;32mdef\u001b[0m \u001b[0m__iter__\u001b[0m\u001b[0;34m(\u001b[0m\u001b[0mself\u001b[0m\u001b[0;34m)\u001b[0m\u001b[0;34m:\u001b[0m\u001b[0;34m\u001b[0m\u001b[0;34m\u001b[0m\u001b[0m\n",
      "\u001b[0;31mKeyError\u001b[0m: 'itunes:duration'"
     ]
    }
   ],
   "source": [
    "rows[0][\"itunes:duration\"]"
   ]
  },
  {
   "cell_type": "code",
   "execution_count": 60,
   "metadata": {},
   "outputs": [
    {
     "name": "stdout",
     "output_type": "stream",
     "text": [
      "<item>\n",
      "<title>Coronavirus: Infection Prevention Guidelines (May 2, 2020)</title>\n",
      "<itunes:title>Coronavirus: Infection Prevention Guidelines (May 2, 2020)</itunes:title>\n",
      "<pubdate>Sat, 02 May 2020 10:00:00 +0000</pubdate>\n",
      "<guid ispermalink=\"false\"></guid>\n",
      "<link/>\n",
      "<itunes:image href=\"https://ssl-static.libsyn.com/p/assets/f/4/f/8/f4f84ea8ff0830e9/May_2.png\"></itunes:image>\n",
      "<description>Guest moderator Dr. Neil Skolnik discusses IDSA’s new Guidelines on Infection Prevention for Health Care Personnel Caring for Patients with Suspected or Known COVID-19 with guideline panelist Dr. John Lynch, FIDSA. ]]&gt;</description>\n",
      "<content:encoded>Guest moderator Dr. Neil Skolnik discusses IDSA’s new Guidelines on Infection Prevention for Health Care Personnel Caring for Patients with Suspected or Known COVID-19 with guideline panelist Dr. John Lynch, FIDSA. ]]&gt;</content:encoded>\n",
      "<enclosure length=\"50323485\" type=\"audio/mpeg\" url=\"https://traffic.libsyn.com/secure/idsocietypodcast/IDSA_Whats_Happening_Now_April_30.mp3?dest-id=166309\"></enclosure>\n",
      "<itunes:duration>32:44</itunes:duration>\n",
      "<itunes:explicit>no</itunes:explicit>\n",
      "<itunes:keywords></itunes:keywords>\n",
      "<itunes:subtitle></itunes:subtitle>\n",
      "<itunes:summary>Guest moderator Dr. Neil Skolnik discusses IDSA’s Guidelines on Infection Prevention for Health Care Personnel Caring for Patients with Suspected or Known COVID-19 with IDSA Board Member Dr. John Lynch, FIDSA. </itunes:summary>\n",
      "<itunes:episodetype>full</itunes:episodetype>\n",
      "</item>\n"
     ]
    }
   ],
   "source": [
    "print (rows[4])"
   ]
  },
  {
   "cell_type": "code",
   "execution_count": 53,
   "metadata": {},
   "outputs": [
    {
     "data": {
      "text/plain": [
       "16"
      ]
     },
     "execution_count": 53,
     "metadata": {},
     "output_type": "execute_result"
    }
   ],
   "source": [
    "len(feedarray)"
   ]
  },
  {
   "cell_type": "code",
   "execution_count": 79,
   "metadata": {},
   "outputs": [],
   "source": [
    "atitle = [t.text for t in soup.find_all('title')]\n",
    "apubdate = [t.text for t in soup.find_all('pubdate')]\n",
    "adescription = [t.text for t in soup.find_all('itunes:summary')]\n",
    "aduration = [t.text for t in soup.find_all('itunes:duration')]"
   ]
  },
  {
   "cell_type": "code",
   "execution_count": 80,
   "metadata": {},
   "outputs": [
    {
     "name": "stdout",
     "output_type": "stream",
     "text": [
      "      55,\n",
      "      54,\n",
      "      28,\n",
      "      53\n"
     ]
    }
   ],
   "source": [
    "print (f'\\\n",
    "      {len(atitle)},\\n\\\n",
    "      {len(apubdate)},\\n\\\n",
    "      {len(adescription)},\\n\\\n",
    "      {len(aduration)}')"
   ]
  },
  {
   "cell_type": "code",
   "execution_count": 83,
   "metadata": {},
   "outputs": [
    {
     "name": "stdout",
     "output_type": "stream",
     "text": [
      "Coronavirus: Strategies for Safely Reopening the Country (May 19, 2020)\n",
      "Coronavirus: Secondary Infections (May 16, 2020)\n",
      "Coronavirus: The Disparate Impact (May 12, 2020)\n",
      "Coronavirus: Diagnostic Guidelines (May 9, 2020)\n",
      "Coronavirus: Infection Prevention Guidelines (May 2, 2020)\n",
      "Coronavirus: Leading Teams in Times of Crisis (April 30, 2020)  \n",
      "Coronavirus: Snapshot from the Front Lines (April 29, 2020)\n",
      "Coronavirus: Housing for Frontline Medical Professionals (April 25, 2020)\n",
      "Coronavirus: Snapshot from the Front Line (April 24, 2020)\n",
      "Coronavirus: Social Distancing (April 23, 2020) \n",
      "Coronavirus: Snapshot from the Front Line (April 22, 2020)\n",
      "Coronavirus: Keeping HIV Patients Safe (April 18, 2020)\n",
      "Coronavirus: Snapshot from the Front Line (April 17, 2020)\n",
      "Coronavirus: IDSA Treatment Guidelines (April 16, 2020)\n",
      "Coronavirus: Snapshot from the Front Line (April 15, 2020)\n",
      "Coronavirus: Testing & Diagnostics (April 11, 2020)\n",
      "Coronavirus: Snapshot from the Front Line (April 10, 2020)\n",
      "Coronavirus: Personal Protective Equipment (April 9)\n",
      "Coronavirus: Snapshot from the Front Lines (April 7, 2020)\n",
      "Coronavirus: Keeping Cancer Patients Safe (April 1, 2020)\n",
      "Coronavirus: Global Effects of the Pandemic (March 27, 2020)\n",
      "Coronavirus: The Supplemental Funding Bill (March 11, 2020)\n",
      "Coronavirus: Treating Passengers of the Diamond Princess (March 6, 2020)\n",
      "Coronavirus: Combatting Social Media Misinformation (Feb. 28, 2020)\n",
      "Coronavirus: Keeping Healthcare Workers Safe (Feb. 21, 2020)\n",
      "Coronavirus: Public Risk (Feb. 14, 2020)\n",
      "Coronavirus: An Update with the CDC (Feb. 7, 2020) \n",
      "Community-acquired Pneumonia: Diagnosis and Treatment of Adults \n",
      "Asymptomatic Bacteriuria: IDSA Guideline Update\n",
      "Influenza: IDSA Guideline Update\n",
      "Outpatient Parenteral Antimicrobial Therapy (OPAT): IDSA Guideline Update\n",
      "C. Difficile Infection 2017 IDSA Guideline Update\n",
      "The Managment of Chronic Pain in Patients Infected with HIV\n",
      "2017 IDSA Clinical Practice Guidelines for the Diagnosis and Management of Infectious Diarrhea\n",
      "Diagnosis of Tuberculosis 2017 - IDSA Guideline Update\n",
      "Hospital-acquired and Ventilator-associated Pneumonia: 2016 - IDSA Guideline Update\n",
      "Implementing an Antibiotic Stewardship Program - IDSA Guideline 2016\n",
      "Native Vertebral Osteomyelitis  - IDSA Guideline Update 2015\n",
      "Skin and Soft Tissue Infections 2014  - IDSA Guideline Update\n",
      "Hepatitis C –Management after SVR \n",
      "Hepatitis C – Patient Management \n",
      "Hepatitis C in HIV-Coinfected Persons \n",
      "Hepatitis C - Treatment Experienced Patients and Viral Resistance \n",
      "Hepatitis C Treatment Decision Making\n",
      "HCV: Epidemiology, Screening, Testing and Risk Reduction\n",
      "HCV Updates in Treatment - IDSA Lecture Series\n",
      "Vaccination of the Immunocompromised Host  2013- IDSA Guideline Update\n",
      "Management of Patients with HIV in Primary Care - IDSA Guidelines Update\n",
      "HCV Epidemiology The Silent Epidemic  - IDSA Lecture Series\n",
      "Testing for Hepatitis C Infection - IDSA Lecture Series\n",
      "Streptococcal Pharyngitis - IDSA Guideline Update\n",
      "IDSA Guideline Update  - Diabetic Foot Infections\n",
      "IDSA Guideline Update  - Rhinosinusitis\n"
     ]
    }
   ],
   "source": [
    "# title = []\n",
    "# pubdate = []\n",
    "# description = []\n",
    "# duration = []\n",
    "for r in rows:\n",
    "    title = r.find('title')\n",
    "    print (title.text)\n",
    "#     pubdate = r.find('pubdate')\n",
    "#     print (pubdate.text)\n",
    "#     description = r.find('itunes:summary')\n",
    "#     print (description.text)\n",
    "#     duration = r.find('itunes:duration')\n",
    "#     print (duration.text)"
   ]
  },
  {
   "cell_type": "code",
   "execution_count": null,
   "metadata": {},
   "outputs": [],
   "source": []
  },
  {
   "cell_type": "code",
   "execution_count": null,
   "metadata": {},
   "outputs": [],
   "source": []
  },
  {
   "cell_type": "code",
   "execution_count": null,
   "metadata": {
    "scrolled": true
   },
   "outputs": [],
   "source": [
    "for a in feedarray:\n",
    "    try:\n",
    "        html = urllib.request.urlopen(a)\n",
    "        soup = bs.BeautifulSoup(html,'lxml')\n",
    "        rows = soup.find_all('item')\n",
    "        if (len(rows) > 0):\n",
    "            print (len(rows))\n",
    "            for r in rows:\n",
    "                print (r.title.text)\n",
    "    except:\n",
    "        pass\n"
   ]
  },
  {
   "cell_type": "code",
   "execution_count": null,
   "metadata": {},
   "outputs": [],
   "source": [
    "def getCount(feed):\n",
    "    try:\n",
    "        source = requests.get(feed)\n",
    "        soup = BeautifulSoup(source.download(cached = False)) \n",
    "    except:\n",
    "        None"
   ]
  },
  {
   "cell_type": "code",
   "execution_count": null,
   "metadata": {},
   "outputs": [],
   "source": [
    "url = requests.get('http://idsocietypodcast.libsyn.com/rss')"
   ]
  },
  {
   "cell_type": "code",
   "execution_count": null,
   "metadata": {},
   "outputs": [],
   "source": [
    "bs = BeautifulSoup(url.download(cached = False)) "
   ]
  },
  {
   "cell_type": "code",
   "execution_count": null,
   "metadata": {},
   "outputs": [],
   "source": []
  },
  {
   "cell_type": "code",
   "execution_count": null,
   "metadata": {},
   "outputs": [],
   "source": []
  },
  {
   "cell_type": "code",
   "execution_count": null,
   "metadata": {},
   "outputs": [],
   "source": [
    "print (vars(itunes.lookup(621579678)))"
   ]
  },
  {
   "cell_type": "code",
   "execution_count": null,
   "metadata": {},
   "outputs": [],
   "source": []
  }
 ],
 "metadata": {
  "environment": {
   "name": "common-cpu.m46",
   "type": "gcloud",
   "uri": "gcr.io/deeplearning-platform-release/base-cpu:m46"
  },
  "kernelspec": {
   "display_name": "Python 3",
   "language": "python",
   "name": "python3"
  },
  "language_info": {
   "codemirror_mode": {
    "name": "ipython",
    "version": 3
   },
   "file_extension": ".py",
   "mimetype": "text/x-python",
   "name": "python",
   "nbconvert_exporter": "python",
   "pygments_lexer": "ipython3",
   "version": "3.7.6"
  }
 },
 "nbformat": 4,
 "nbformat_minor": 4
}
