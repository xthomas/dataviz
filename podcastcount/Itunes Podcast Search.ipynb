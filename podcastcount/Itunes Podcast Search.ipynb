{
 "cells": [
  {
   "cell_type": "code",
   "execution_count": 1,
   "metadata": {},
   "outputs": [],
   "source": [
    "import itunes"
   ]
  },
  {
   "cell_type": "code",
   "execution_count": 2,
   "metadata": {},
   "outputs": [],
   "source": [
    "item = itunes.search (query='beatles')"
   ]
  },
  {
   "cell_type": "code",
   "execution_count": 3,
   "metadata": {},
   "outputs": [
    {
     "name": "stdout",
     "output_type": "stream",
     "text": [
      "[<Song>: Let It Be, <Song>: Hey Jude, <Song>: Here Comes the Sun, <Song>: In My Life, <Song>: The Long and Winding Road, <Song>: Miss You, <Song>: Yesterday, <Song>: Come Together, <Song>: Blackbird, <Song>: Ob-La-Di, Ob-La-Da, <Song>: Yesterday, <Song>: All You Need Is Love, <Song>: I Want to Hold Your Hand, <Song>: Let It Be, <Audiobook>: George Harrison, <Song>: Can't Buy Me Love, <Song>: Hey Jude, <Song>: While My Guitar Gently Weeps, <Song>: A Hard Day's Night, <Song>: Yellow Submarine, <Song>: Lucy In the Sky with Diamonds, <Song>: When I'm Sixty-Four, <Song>: She Loves You, <Song>: Eleanor Rigby, <Song>: Get Back, <Song>: Eight Days a Week, <Song>: Come Together, <Song>: Help!, <Song>: Love Me Do, <Song>: With a Little Help From My Friends, <Audiobook>: The Meaning of Life in 5 Easy Lessons (To the Best of Our Knowledge Series), <Song>: Penny Lane, <Song>: We Can Work It Out, <Song>: Something, <Song>: Hello, Goodbye, <Song>: Day Tripper, <Song>: Ticket to Ride, <Song>: Lady Madonna, <Song>: Birthday, <Song>: Revolution, <Song>: Paperback Writer, <Song>: From Me to You, <Song>: I Feel Fine, <Audiobook>: Paul McCartney, <Song>: The Ballad of John and Yoko, <Song>: Sgt. Pepper's Lonely Hearts Club Band, <Song>: Something, <Song>: A Day In the Life, <Song>: Oh! Darling, <Song>: Back In the U.S.S.R., <Song>: Golden Slumbers, <Song>: She Came in Through the Bathroom Window, <Song>: Octopus's Garden, <Song>: Strawberry Fields Forever, <Song>: I Want You (She's So Heavy), <Song>: Eleanor Rigby, <Song>: Don't Let Me Down, <Song>: Maxwell's Silver Hammer, <Song>: Carry That Weight, <Song>: I Will, <Song>: You Never Give Me Your Money, <Song>: The End, <Song>: Because, <Song>: Rocky Raccoon, <Song>: Black Beatles (feat. Gucci Mane), <Song>: I Want to Hold Your Hand, <Song>: Dear Prudence, <Song>: Mean Mr Mustard, <Song>: Helter Skelter, <Song>: Polythene Pam, <Song>: Get Back, <Song>: Sun King, <Song>: Being For the Benefit of Mr. Kite!, <Song>: Her Majesty, <Song>: I Am the Walrus, <Song>: Hello, Goodbye, <Song>: Happiness Is a Warm Gun, <Song>: Sgt. Pepper's Lonely Hearts Club Band, <Song>: Mother Nature's Son, <Song>: She's Leaving Home, <Song>: Norwegian Wood (This Bird Has Flown), <Song>: Across the Universe, <Song>: Getting Better, <Song>: Everybody's Got Something to Hide Except Me and My Monkey, <Song>: Penny Lane, <Song>: Beatles, <Song>: Lovely Rita, <Song>: Let It Be, <Song>: With a Little Help From My Friends, <Song>: Michelle, <Song>: Julia, <Song>: Within You Without You, <Song>: Revolution 1, <Song>: Fixing a Hole, <Song>: Good Night, <Song>: I'm So Tired, <Song>: Lucy In the Sky with Diamonds, <Song>: Glass Onion, <Song>: Twist and Shout, <Audiobook>: Ringo Starr]\n"
     ]
    }
   ],
   "source": [
    "print (item)"
   ]
  },
  {
   "cell_type": "code",
   "execution_count": 4,
   "metadata": {},
   "outputs": [],
   "source": [
    "id = itunes.search(query='infectious disease', media='podcast')"
   ]
  },
  {
   "cell_type": "code",
   "execution_count": 5,
   "metadata": {},
   "outputs": [
    {
     "name": "stdout",
     "output_type": "stream",
     "text": [
      "[<Podcast>: Infectious Diseases Society of America, <Podcast>: Persiflagers Infectious Disease Puscast, <Podcast>: Emerging Infectious Diseases, <Podcast>: Infectious Disease, <Podcast>: Breakpoints, <Podcast>: The Open Forum Infectious Diseases Podcast, <Podcast>: Infectious Disease & Antibiotic Resistance, <Podcast>: PeerView Infectious Diseases CME/CNE/CPE Audio Podcast, <Podcast>: Infectious Disease Dynamics, <Podcast>: Persiflagers Infectious Disease Puscast, <Podcast>: PeerVoice Immunology & Infectious Disease Audio, <Podcast>: PeerView Infectious Diseases CME/CNE/CPE Video Podcast, <Podcast>: Infectious Questions : An Infectious Diseases Public Health Podcast, <Podcast>: Infectious Diseases, <Podcast>: Podcasts – PKIDs Blog, <Podcast>: The History of Infectious Diseases, <Podcast>: Infectious Diseases and Pandemics (audio), <Podcast>: Infectious Diseases and Pandemics (video), <Podcast>: Disease State - Infectious, <Podcast>: PeerVoice Immunology & Infectious Disease Video]\n"
     ]
    }
   ],
   "source": [
    "print (id)"
   ]
  },
  {
   "cell_type": "code",
   "execution_count": 6,
   "metadata": {},
   "outputs": [
    {
     "name": "stdout",
     "output_type": "stream",
     "text": [
      "<Podcast>: Infectious Diseases Society of America\n",
      "<Podcast>: Persiflagers Infectious Disease Puscast\n",
      "<Podcast>: Emerging Infectious Diseases\n",
      "<Podcast>: Infectious Disease\n",
      "<Podcast>: Breakpoints\n",
      "<Podcast>: The Open Forum Infectious Diseases Podcast\n",
      "<Podcast>: Infectious Disease & Antibiotic Resistance\n",
      "<Podcast>: PeerView Infectious Diseases CME/CNE/CPE Audio Podcast\n",
      "<Podcast>: Infectious Disease Dynamics\n",
      "<Podcast>: Persiflagers Infectious Disease Puscast\n",
      "<Podcast>: PeerVoice Immunology & Infectious Disease Audio\n",
      "<Podcast>: PeerView Infectious Diseases CME/CNE/CPE Video Podcast\n",
      "<Podcast>: Infectious Questions : An Infectious Diseases Public Health Podcast\n",
      "<Podcast>: Infectious Diseases\n",
      "<Podcast>: Podcasts – PKIDs Blog\n",
      "<Podcast>: The History of Infectious Diseases\n",
      "<Podcast>: Infectious Diseases and Pandemics (audio)\n",
      "<Podcast>: Infectious Diseases and Pandemics (video)\n",
      "<Podcast>: Disease State - Infectious\n",
      "<Podcast>: PeerVoice Immunology & Infectious Disease Video\n"
     ]
    }
   ],
   "source": [
    "for item in id:\n",
    "    print (item)"
   ]
  },
  {
   "cell_type": "code",
   "execution_count": 7,
   "metadata": {},
   "outputs": [
    {
     "name": "stdout",
     "output_type": "stream",
     "text": [
      "{'id': 519582740, 'name': 'Infectious Diseases Society of America', 'url': 'https://podcasts.apple.com/us/podcast/infectious-diseases-society-of-america/id519582740?uo=4', '_release_date': None, 'artwork': {'30': 'https://is3-ssl.mzstatic.com/image/thumb/Podcasts6/v4/97/ac/53/97ac535a-8e19-5a04-df2c-a5713369e99d/mza_158942553313998590.jpg/30x30bb.jpg', '60': 'https://is3-ssl.mzstatic.com/image/thumb/Podcasts6/v4/97/ac/53/97ac535a-8e19-5a04-df2c-a5713369e99d/mza_158942553313998590.jpg/60x60bb.jpg', '600': 'https://is3-ssl.mzstatic.com/image/thumb/Podcasts6/v4/97/ac/53/97ac535a-8e19-5a04-df2c-a5713369e99d/mza_158942553313998590.jpg/600x600bb.jpg'}, 'json': {'wrapperType': 'track', 'kind': 'podcast', 'collectionId': 519582740, 'trackId': 519582740, 'artistName': 'IDSA', 'collectionName': 'Infectious Diseases Society of America', 'trackName': 'Infectious Diseases Society of America', 'collectionCensoredName': 'Infectious Diseases Society of America', 'trackCensoredName': 'Infectious Diseases Society of America', 'collectionViewUrl': 'https://podcasts.apple.com/us/podcast/infectious-diseases-society-of-america/id519582740?uo=4', 'feedUrl': 'http://idsocietypodcast.libsyn.com/rss', 'trackViewUrl': 'https://podcasts.apple.com/us/podcast/infectious-diseases-society-of-america/id519582740?uo=4', 'artworkUrl30': 'https://is3-ssl.mzstatic.com/image/thumb/Podcasts6/v4/97/ac/53/97ac535a-8e19-5a04-df2c-a5713369e99d/mza_158942553313998590.jpg/30x30bb.jpg', 'artworkUrl60': 'https://is3-ssl.mzstatic.com/image/thumb/Podcasts6/v4/97/ac/53/97ac535a-8e19-5a04-df2c-a5713369e99d/mza_158942553313998590.jpg/60x60bb.jpg', 'artworkUrl100': 'https://is3-ssl.mzstatic.com/image/thumb/Podcasts6/v4/97/ac/53/97ac535a-8e19-5a04-df2c-a5713369e99d/mza_158942553313998590.jpg/100x100bb.jpg', 'collectionPrice': 0.0, 'trackPrice': 0.0, 'trackRentalPrice': 0, 'collectionHdPrice': 0, 'trackHdPrice': 0, 'trackHdRentalPrice': 0, 'releaseDate': '2020-05-16T06:00:00Z', 'collectionExplicitness': 'cleaned', 'trackExplicitness': 'cleaned', 'trackCount': 52, 'country': 'USA', 'currency': 'USD', 'primaryGenreName': 'Science', 'contentAdvisoryRating': 'Clean', 'artworkUrl600': 'https://is3-ssl.mzstatic.com/image/thumb/Podcasts6/v4/97/ac/53/97ac535a-8e19-5a04-df2c-a5713369e99d/mza_158942553313998590.jpg/600x600bb.jpg', 'genreIds': ['1533', '26', '1512', '1518'], 'genres': ['Science', 'Podcasts', 'Health & Fitness', 'Medicine']}, 'type': 'podcast', 'genre': 'Science', 'release_date_raw': '2020-05-16T06:00:00Z', 'country_store': 'USA', 'preview_url': None, 'price': 0.0, 'number': None, 'duration': None, 'artist': None, 'album': <Podcast>: Infectious Diseases Society of America}\n",
      "{'id': 79930757, 'name': 'Persiflagers Infectious Disease Puscast', 'url': 'https://podcasts.apple.com/us/podcast/persiflagers-infectious-disease-puscast/id79930757?uo=4', '_release_date': None, 'artwork': {'30': 'https://is2-ssl.mzstatic.com/image/thumb/Podcasts123/v4/c4/e1/73/c4e1735e-4e8a-499c-9fa8-2d339a5b6d14/mza_5634718442962138922.jpg/30x30bb.jpg', '60': 'https://is2-ssl.mzstatic.com/image/thumb/Podcasts123/v4/c4/e1/73/c4e1735e-4e8a-499c-9fa8-2d339a5b6d14/mza_5634718442962138922.jpg/60x60bb.jpg', '600': 'https://is2-ssl.mzstatic.com/image/thumb/Podcasts123/v4/c4/e1/73/c4e1735e-4e8a-499c-9fa8-2d339a5b6d14/mza_5634718442962138922.jpg/600x600bb.jpg'}, 'json': {'wrapperType': 'track', 'kind': 'podcast', 'collectionId': 79930757, 'trackId': 79930757, 'artistName': 'Mark Crislip', 'collectionName': 'Persiflagers Infectious Disease Puscast', 'trackName': 'Persiflagers Infectious Disease Puscast', 'collectionCensoredName': 'Persiflagers Infectious Disease Puscast', 'trackCensoredName': 'Persiflagers Infectious Disease Puscast', 'collectionViewUrl': 'https://podcasts.apple.com/us/podcast/persiflagers-infectious-disease-puscast/id79930757?uo=4', 'feedUrl': 'http://www.pusware.com/podcast.xml', 'trackViewUrl': 'https://podcasts.apple.com/us/podcast/persiflagers-infectious-disease-puscast/id79930757?uo=4', 'artworkUrl30': 'https://is2-ssl.mzstatic.com/image/thumb/Podcasts123/v4/c4/e1/73/c4e1735e-4e8a-499c-9fa8-2d339a5b6d14/mza_5634718442962138922.jpg/30x30bb.jpg', 'artworkUrl60': 'https://is2-ssl.mzstatic.com/image/thumb/Podcasts123/v4/c4/e1/73/c4e1735e-4e8a-499c-9fa8-2d339a5b6d14/mza_5634718442962138922.jpg/60x60bb.jpg', 'artworkUrl100': 'https://is2-ssl.mzstatic.com/image/thumb/Podcasts123/v4/c4/e1/73/c4e1735e-4e8a-499c-9fa8-2d339a5b6d14/mza_5634718442962138922.jpg/100x100bb.jpg', 'collectionPrice': 0.0, 'trackPrice': 0.0, 'trackRentalPrice': 0, 'collectionHdPrice': 0, 'trackHdPrice': 0, 'trackHdRentalPrice': 0, 'releaseDate': '2020-05-02T08:25:00Z', 'collectionExplicitness': 'cleaned', 'trackExplicitness': 'cleaned', 'trackCount': 300, 'country': 'USA', 'currency': 'USD', 'primaryGenreName': 'Science', 'contentAdvisoryRating': 'Clean', 'artworkUrl600': 'https://is2-ssl.mzstatic.com/image/thumb/Podcasts123/v4/c4/e1/73/c4e1735e-4e8a-499c-9fa8-2d339a5b6d14/mza_5634718442962138922.jpg/600x600bb.jpg', 'genreIds': ['1533', '26', '1512', '1518'], 'genres': ['Science', 'Podcasts', 'Health & Fitness', 'Medicine']}, 'type': 'podcast', 'genre': 'Science', 'release_date_raw': '2020-05-02T08:25:00Z', 'country_store': 'USA', 'preview_url': None, 'price': 0.0, 'number': None, 'duration': None, 'artist': None, 'album': <Podcast>: Persiflagers Infectious Disease Puscast}\n",
      "{'id': 212828612, 'name': 'Emerging Infectious Diseases', 'url': 'https://podcasts.apple.com/us/podcast/emerging-infectious-diseases/id212828612?uo=4', '_release_date': None, 'artwork': {'30': 'https://is4-ssl.mzstatic.com/image/thumb/Podcasts/dc/1a/b9/ps.pxlowdvi.jpg/30x30bb.jpg', '60': 'https://is4-ssl.mzstatic.com/image/thumb/Podcasts/dc/1a/b9/ps.pxlowdvi.jpg/60x60bb.jpg', '600': 'https://is4-ssl.mzstatic.com/image/thumb/Podcasts/dc/1a/b9/ps.pxlowdvi.jpg/600x600bb.jpg'}, 'json': {'wrapperType': 'track', 'kind': 'podcast', 'artistId': 206789466, 'collectionId': 212828612, 'trackId': 212828612, 'artistName': 'CENTERS FOR DISEASE CONTROL AND PREVENTION', 'collectionName': 'Emerging Infectious Diseases', 'trackName': 'Emerging Infectious Diseases', 'collectionCensoredName': 'Emerging Infectious Diseases', 'trackCensoredName': 'Emerging Infectious Diseases', 'artistViewUrl': 'https://podcasts.apple.com/us/artist/centers-for-disease-control-and-prevention/206789466?uo=4', 'collectionViewUrl': 'https://podcasts.apple.com/us/podcast/emerging-infectious-diseases/id212828612?uo=4', 'feedUrl': 'https://www2c.cdc.gov/podcasts/createrss.asp?t=a&c=49', 'trackViewUrl': 'https://podcasts.apple.com/us/podcast/emerging-infectious-diseases/id212828612?uo=4', 'artworkUrl30': 'https://is4-ssl.mzstatic.com/image/thumb/Podcasts/dc/1a/b9/ps.pxlowdvi.jpg/30x30bb.jpg', 'artworkUrl60': 'https://is4-ssl.mzstatic.com/image/thumb/Podcasts/dc/1a/b9/ps.pxlowdvi.jpg/60x60bb.jpg', 'artworkUrl100': 'https://is4-ssl.mzstatic.com/image/thumb/Podcasts/dc/1a/b9/ps.pxlowdvi.jpg/100x100bb.jpg', 'collectionPrice': 0.0, 'trackPrice': 0.0, 'trackRentalPrice': 0, 'collectionHdPrice': 0, 'trackHdPrice': 0, 'trackHdRentalPrice': 0, 'releaseDate': '2020-05-13T22:55:00Z', 'collectionExplicitness': 'cleaned', 'trackExplicitness': 'cleaned', 'trackCount': 50, 'country': 'USA', 'currency': 'USD', 'primaryGenreName': 'Science', 'contentAdvisoryRating': 'Clean', 'artworkUrl600': 'https://is4-ssl.mzstatic.com/image/thumb/Podcasts/dc/1a/b9/ps.pxlowdvi.jpg/600x600bb.jpg', 'genreIds': ['1533', '26'], 'genres': ['Science', 'Podcasts']}, 'type': 'podcast', 'genre': 'Science', 'release_date_raw': '2020-05-13T22:55:00Z', 'country_store': 'USA', 'preview_url': None, 'price': 0.0, 'number': None, 'duration': None, 'artist': <Podcast>: CENTERS FOR DISEASE CONTROL AND PREVENTION, 'album': <Podcast>: Emerging Infectious Diseases}\n",
      "{'id': 415333788, 'name': 'Infectious Disease', 'url': 'https://podcasts.apple.com/us/podcast/infectious-disease/id415333788?uo=4', '_release_date': None, 'artwork': {'30': 'https://is1-ssl.mzstatic.com/image/thumb/Podcasts/b2/84/19/tns.wjalxvul.jpg/30x30bb.jpg', '60': 'https://is1-ssl.mzstatic.com/image/thumb/Podcasts/b2/84/19/tns.wjalxvul.jpg/60x60bb.jpg', '600': 'https://is1-ssl.mzstatic.com/image/thumb/Podcasts/b2/84/19/tns.wjalxvul.jpg/600x600bb.jpg'}, 'json': {'wrapperType': 'track', 'kind': 'podcast', 'artistId': 1280838461, 'collectionId': 415333788, 'trackId': 415333788, 'artistName': 'Imperial College London', 'collectionName': 'Infectious Disease', 'trackName': 'Infectious Disease', 'collectionCensoredName': 'Infectious Disease', 'trackCensoredName': 'Infectious Disease', 'artistViewUrl': 'https://podcasts.apple.com/us/artist/imperial-college-london/1280838461?uo=4', 'collectionViewUrl': 'https://podcasts.apple.com/us/podcast/infectious-disease/id415333788?uo=4', 'feedUrl': 'http://wwwf.imperial.ac.uk/imedia/itunes_collections/view/infectious-disease.rss', 'trackViewUrl': 'https://podcasts.apple.com/us/podcast/infectious-disease/id415333788?uo=4', 'artworkUrl30': 'https://is1-ssl.mzstatic.com/image/thumb/Podcasts/b2/84/19/tns.wjalxvul.jpg/30x30bb.jpg', 'artworkUrl60': 'https://is1-ssl.mzstatic.com/image/thumb/Podcasts/b2/84/19/tns.wjalxvul.jpg/60x60bb.jpg', 'artworkUrl100': 'https://is1-ssl.mzstatic.com/image/thumb/Podcasts/b2/84/19/tns.wjalxvul.jpg/100x100bb.jpg', 'collectionPrice': 0.0, 'trackPrice': 0.0, 'trackRentalPrice': 0, 'collectionHdPrice': 0, 'trackHdPrice': 0, 'trackHdRentalPrice': 0, 'releaseDate': '2016-03-15T10:31:00Z', 'collectionExplicitness': 'cleaned', 'trackExplicitness': 'cleaned', 'trackCount': 49, 'country': 'USA', 'currency': 'USD', 'primaryGenreName': 'Education', 'contentAdvisoryRating': 'Clean', 'artworkUrl600': 'https://is1-ssl.mzstatic.com/image/thumb/Podcasts/b2/84/19/tns.wjalxvul.jpg/600x600bb.jpg', 'genreIds': ['1304', '26', '1512', '1518'], 'genres': ['Education', 'Podcasts', 'Health & Fitness', 'Medicine']}, 'type': 'podcast', 'genre': 'Education', 'release_date_raw': '2016-03-15T10:31:00Z', 'country_store': 'USA', 'preview_url': None, 'price': 0.0, 'number': None, 'duration': None, 'artist': <Podcast>: Imperial College London, 'album': <Podcast>: Infectious Disease}\n",
      "{'id': 1470308447, 'name': 'Breakpoints', 'url': 'https://podcasts.apple.com/us/podcast/breakpoints/id1470308447?uo=4', '_release_date': None, 'artwork': {'30': 'https://is5-ssl.mzstatic.com/image/thumb/Podcasts123/v4/44/32/a0/4432a078-2609-fe56-903d-db6b82f6278a/mza_6967401897134733808.png/30x30bb.jpg', '60': 'https://is5-ssl.mzstatic.com/image/thumb/Podcasts123/v4/44/32/a0/4432a078-2609-fe56-903d-db6b82f6278a/mza_6967401897134733808.png/60x60bb.jpg', '600': 'https://is5-ssl.mzstatic.com/image/thumb/Podcasts123/v4/44/32/a0/4432a078-2609-fe56-903d-db6b82f6278a/mza_6967401897134733808.png/600x600bb.jpg'}, 'json': {'wrapperType': 'track', 'kind': 'podcast', 'collectionId': 1470308447, 'trackId': 1470308447, 'artistName': 'Society of Infectious Diseases Pharmacists', 'collectionName': 'Breakpoints', 'trackName': 'Breakpoints', 'collectionCensoredName': 'Breakpoints', 'trackCensoredName': 'Breakpoints', 'collectionViewUrl': 'https://podcasts.apple.com/us/podcast/breakpoints/id1470308447?uo=4', 'feedUrl': 'https://pinecast.com/feed/sidp', 'trackViewUrl': 'https://podcasts.apple.com/us/podcast/breakpoints/id1470308447?uo=4', 'artworkUrl30': 'https://is5-ssl.mzstatic.com/image/thumb/Podcasts123/v4/44/32/a0/4432a078-2609-fe56-903d-db6b82f6278a/mza_6967401897134733808.png/30x30bb.jpg', 'artworkUrl60': 'https://is5-ssl.mzstatic.com/image/thumb/Podcasts123/v4/44/32/a0/4432a078-2609-fe56-903d-db6b82f6278a/mza_6967401897134733808.png/60x60bb.jpg', 'artworkUrl100': 'https://is5-ssl.mzstatic.com/image/thumb/Podcasts123/v4/44/32/a0/4432a078-2609-fe56-903d-db6b82f6278a/mza_6967401897134733808.png/100x100bb.jpg', 'collectionPrice': 0.0, 'trackPrice': 0.0, 'trackRentalPrice': 0, 'collectionHdPrice': 0, 'trackHdPrice': 0, 'trackHdRentalPrice': 0, 'releaseDate': '2020-05-15T09:00:00Z', 'collectionExplicitness': 'cleaned', 'trackExplicitness': 'cleaned', 'trackCount': 22, 'country': 'USA', 'currency': 'USD', 'primaryGenreName': 'Health & Fitness', 'contentAdvisoryRating': 'Clean', 'artworkUrl600': 'https://is5-ssl.mzstatic.com/image/thumb/Podcasts123/v4/44/32/a0/4432a078-2609-fe56-903d-db6b82f6278a/mza_6967401897134733808.png/600x600bb.jpg', 'genreIds': ['1512', '26', '1304'], 'genres': ['Health & Fitness', 'Podcasts', 'Education']}, 'type': 'podcast', 'genre': 'Health & Fitness', 'release_date_raw': '2020-05-15T09:00:00Z', 'country_store': 'USA', 'preview_url': None, 'price': 0.0, 'number': None, 'duration': None, 'artist': None, 'album': <Podcast>: Breakpoints}\n",
      "{'id': 1368469324, 'name': 'The Open Forum Infectious Diseases Podcast', 'url': 'https://podcasts.apple.com/us/podcast/the-open-forum-infectious-diseases-podcast/id1368469324?uo=4', '_release_date': None, 'artwork': {'30': 'https://is4-ssl.mzstatic.com/image/thumb/Podcasts113/v4/41/4a/39/414a399b-238e-f290-289c-575f39f5372f/mza_8116494775317712546.jpg/30x30bb.jpg', '60': 'https://is4-ssl.mzstatic.com/image/thumb/Podcasts113/v4/41/4a/39/414a399b-238e-f290-289c-575f39f5372f/mza_8116494775317712546.jpg/60x60bb.jpg', '600': 'https://is4-ssl.mzstatic.com/image/thumb/Podcasts113/v4/41/4a/39/414a399b-238e-f290-289c-575f39f5372f/mza_8116494775317712546.jpg/600x600bb.jpg'}, 'json': {'wrapperType': 'track', 'kind': 'podcast', 'artistId': 1378424526, 'collectionId': 1368469324, 'trackId': 1368469324, 'artistName': 'Oxford University Press', 'collectionName': 'The Open Forum Infectious Diseases Podcast', 'trackName': 'The Open Forum Infectious Diseases Podcast', 'collectionCensoredName': 'The Open Forum Infectious Diseases Podcast', 'trackCensoredName': 'The Open Forum Infectious Diseases Podcast', 'artistViewUrl': 'https://podcasts.apple.com/us/artist/oxford-university-press/1378424526?uo=4', 'collectionViewUrl': 'https://podcasts.apple.com/us/podcast/the-open-forum-infectious-diseases-podcast/id1368469324?uo=4', 'feedUrl': 'https://feeds.blubrry.com/feeds/the_ofid.xml', 'trackViewUrl': 'https://podcasts.apple.com/us/podcast/the-open-forum-infectious-diseases-podcast/id1368469324?uo=4', 'artworkUrl30': 'https://is4-ssl.mzstatic.com/image/thumb/Podcasts113/v4/41/4a/39/414a399b-238e-f290-289c-575f39f5372f/mza_8116494775317712546.jpg/30x30bb.jpg', 'artworkUrl60': 'https://is4-ssl.mzstatic.com/image/thumb/Podcasts113/v4/41/4a/39/414a399b-238e-f290-289c-575f39f5372f/mza_8116494775317712546.jpg/60x60bb.jpg', 'artworkUrl100': 'https://is4-ssl.mzstatic.com/image/thumb/Podcasts113/v4/41/4a/39/414a399b-238e-f290-289c-575f39f5372f/mza_8116494775317712546.jpg/100x100bb.jpg', 'collectionPrice': 0.0, 'trackPrice': 0.0, 'trackRentalPrice': 0, 'collectionHdPrice': 0, 'trackHdPrice': 0, 'trackHdRentalPrice': 0, 'releaseDate': '2020-04-17T15:00:00Z', 'collectionExplicitness': 'explicit', 'trackExplicitness': 'explicit', 'trackCount': 28, 'country': 'USA', 'currency': 'USD', 'primaryGenreName': 'Business News', 'contentAdvisoryRating': 'Explicit', 'artworkUrl600': 'https://is4-ssl.mzstatic.com/image/thumb/Podcasts113/v4/41/4a/39/414a399b-238e-f290-289c-575f39f5372f/mza_8116494775317712546.jpg/600x600bb.jpg', 'genreIds': ['1490', '26', '1489'], 'genres': ['Business News', 'Podcasts', 'News']}, 'type': 'podcast', 'genre': 'Business News', 'release_date_raw': '2020-04-17T15:00:00Z', 'country_store': 'USA', 'preview_url': None, 'price': 0.0, 'number': None, 'duration': None, 'artist': <Podcast>: Oxford University Press, 'album': <Podcast>: The Open Forum Infectious Diseases Podcast}\n",
      "{'id': 621579678, 'name': 'Infectious Disease & Antibiotic Resistance', 'url': 'https://podcasts.apple.com/us/podcast/infectious-disease-antibiotic-resistance/id621579678?uo=4', '_release_date': None, 'artwork': {'30': 'https://is1-ssl.mzstatic.com/image/thumb/Podcasts/v4/34/c8/8b/34c88b5d-259d-9be0-e4d5-a1e74d42d7f5/mza_5641532919574589034.jpg/30x30bb.jpg', '60': 'https://is1-ssl.mzstatic.com/image/thumb/Podcasts/v4/34/c8/8b/34c88b5d-259d-9be0-e4d5-a1e74d42d7f5/mza_5641532919574589034.jpg/60x60bb.jpg', '600': 'https://is1-ssl.mzstatic.com/image/thumb/Podcasts/v4/34/c8/8b/34c88b5d-259d-9be0-e4d5-a1e74d42d7f5/mza_5641532919574589034.jpg/600x600bb.jpg'}, 'json': {'wrapperType': 'track', 'kind': 'podcast', 'artistId': 1280772905, 'collectionId': 621579678, 'trackId': 621579678, 'artistName': 'Science Cafe', 'collectionName': 'Infectious Disease & Antibiotic Resistance', 'trackName': 'Infectious Disease & Antibiotic Resistance', 'collectionCensoredName': 'Infectious Disease & Antibiotic Resistance', 'trackCensoredName': 'Infectious Disease & Antibiotic Resistance', 'artistViewUrl': 'https://podcasts.apple.com/us/artist/university-of-arkansas-for-medical-sciences/1280772905?uo=4', 'collectionViewUrl': 'https://podcasts.apple.com/us/podcast/infectious-disease-antibiotic-resistance/id621579678?uo=4', 'trackViewUrl': 'https://podcasts.apple.com/us/podcast/infectious-disease-antibiotic-resistance/id621579678?uo=4', 'artworkUrl30': 'https://is1-ssl.mzstatic.com/image/thumb/Podcasts/v4/34/c8/8b/34c88b5d-259d-9be0-e4d5-a1e74d42d7f5/mza_5641532919574589034.jpg/30x30bb.jpg', 'artworkUrl60': 'https://is1-ssl.mzstatic.com/image/thumb/Podcasts/v4/34/c8/8b/34c88b5d-259d-9be0-e4d5-a1e74d42d7f5/mza_5641532919574589034.jpg/60x60bb.jpg', 'artworkUrl100': 'https://is1-ssl.mzstatic.com/image/thumb/Podcasts/v4/34/c8/8b/34c88b5d-259d-9be0-e4d5-a1e74d42d7f5/mza_5641532919574589034.jpg/100x100bb.jpg', 'collectionPrice': 0.0, 'trackPrice': 0.0, 'trackRentalPrice': 0, 'collectionHdPrice': 0, 'trackHdPrice': 0, 'trackHdRentalPrice': 0, 'releaseDate': '2013-03-21T09:30:00Z', 'collectionExplicitness': 'notExplicit', 'trackExplicitness': 'notExplicit', 'trackCount': 7, 'country': 'USA', 'currency': 'USD', 'primaryGenreName': 'Science', 'artworkUrl600': 'https://is1-ssl.mzstatic.com/image/thumb/Podcasts/v4/34/c8/8b/34c88b5d-259d-9be0-e4d5-a1e74d42d7f5/mza_5641532919574589034.jpg/600x600bb.jpg', 'genreIds': ['1533', '26'], 'genres': ['Science', 'Podcasts']}, 'type': 'podcast', 'genre': 'Science', 'release_date_raw': '2013-03-21T09:30:00Z', 'country_store': 'USA', 'preview_url': None, 'price': 0.0, 'number': None, 'duration': None, 'artist': <Podcast>: Science Cafe, 'album': <Podcast>: Infectious Disease & Antibiotic Resistance}\n",
      "{'id': 275853748, 'name': 'PeerView Infectious Diseases CME/CNE/CPE Audio Podcast', 'url': 'https://podcasts.apple.com/us/podcast/peerview-infectious-diseases-cme-cne-cpe-audio-podcast/id275853748?uo=4', '_release_date': None, 'artwork': {'30': 'https://is2-ssl.mzstatic.com/image/thumb/Podcasts113/v4/7f/f5/9b/7ff59be4-0826-228e-98fc-6b99b4399237/mza_6063358589017597323.jpg/30x30bb.jpg', '60': 'https://is2-ssl.mzstatic.com/image/thumb/Podcasts113/v4/7f/f5/9b/7ff59be4-0826-228e-98fc-6b99b4399237/mza_6063358589017597323.jpg/60x60bb.jpg', '600': 'https://is2-ssl.mzstatic.com/image/thumb/Podcasts113/v4/7f/f5/9b/7ff59be4-0826-228e-98fc-6b99b4399237/mza_6063358589017597323.jpg/600x600bb.jpg'}, 'json': {'wrapperType': 'track', 'kind': 'podcast', 'collectionId': 275853748, 'trackId': 275853748, 'artistName': 'PVI, PeerView Institute for Medical Education', 'collectionName': 'PeerView Infectious Diseases CME/CNE/CPE Audio Podcast', 'trackName': 'PeerView Infectious Diseases CME/CNE/CPE Audio Podcast', 'collectionCensoredName': 'PeerView Infectious Diseases CME/CNE/CPE Audio Podcast', 'trackCensoredName': 'PeerView Infectious Diseases CME/CNE/CPE Audio Podcast', 'collectionViewUrl': 'https://podcasts.apple.com/us/podcast/peerview-infectious-diseases-cme-cne-cpe-audio-podcast/id275853748?uo=4', 'feedUrl': 'https://c.peerview.com/podcast/xml/infectiousdiseases_audio.xml', 'trackViewUrl': 'https://podcasts.apple.com/us/podcast/peerview-infectious-diseases-cme-cne-cpe-audio-podcast/id275853748?uo=4', 'artworkUrl30': 'https://is2-ssl.mzstatic.com/image/thumb/Podcasts113/v4/7f/f5/9b/7ff59be4-0826-228e-98fc-6b99b4399237/mza_6063358589017597323.jpg/30x30bb.jpg', 'artworkUrl60': 'https://is2-ssl.mzstatic.com/image/thumb/Podcasts113/v4/7f/f5/9b/7ff59be4-0826-228e-98fc-6b99b4399237/mza_6063358589017597323.jpg/60x60bb.jpg', 'artworkUrl100': 'https://is2-ssl.mzstatic.com/image/thumb/Podcasts113/v4/7f/f5/9b/7ff59be4-0826-228e-98fc-6b99b4399237/mza_6063358589017597323.jpg/100x100bb.jpg', 'collectionPrice': 0.0, 'trackPrice': 0.0, 'trackRentalPrice': 0, 'collectionHdPrice': 0, 'trackHdPrice': 0, 'trackHdRentalPrice': 0, 'releaseDate': '2020-04-24T23:00:00Z', 'collectionExplicitness': 'cleaned', 'trackExplicitness': 'cleaned', 'trackCount': 16, 'country': 'USA', 'currency': 'USD', 'primaryGenreName': 'Science', 'contentAdvisoryRating': 'Clean', 'artworkUrl600': 'https://is2-ssl.mzstatic.com/image/thumb/Podcasts113/v4/7f/f5/9b/7ff59be4-0826-228e-98fc-6b99b4399237/mza_6063358589017597323.jpg/600x600bb.jpg', 'genreIds': ['1533', '26', '1512', '1518'], 'genres': ['Science', 'Podcasts', 'Health & Fitness', 'Medicine']}, 'type': 'podcast', 'genre': 'Science', 'release_date_raw': '2020-04-24T23:00:00Z', 'country_store': 'USA', 'preview_url': None, 'price': 0.0, 'number': None, 'duration': None, 'artist': None, 'album': <Podcast>: PeerView Infectious Diseases CME/CNE/CPE Audio Podcast}\n",
      "{'id': 833385368, 'name': 'Infectious Disease Dynamics', 'url': 'https://podcasts.apple.com/us/podcast/infectious-disease-dynamics/id833385368?uo=4', '_release_date': None, 'artwork': {'30': 'https://is3-ssl.mzstatic.com/image/thumb/Podcasts113/v4/c9/23/39/c9233966-c084-c1a6-aed7-77729421c8f7/mza_8697914769660773792.jpg/30x30bb.jpg', '60': 'https://is3-ssl.mzstatic.com/image/thumb/Podcasts113/v4/c9/23/39/c9233966-c084-c1a6-aed7-77729421c8f7/mza_8697914769660773792.jpg/60x60bb.jpg', '600': 'https://is3-ssl.mzstatic.com/image/thumb/Podcasts113/v4/c9/23/39/c9233966-c084-c1a6-aed7-77729421c8f7/mza_8697914769660773792.jpg/600x600bb.jpg'}, 'json': {'wrapperType': 'track', 'kind': 'podcast', 'artistId': 1280665022, 'collectionId': 833385368, 'trackId': 833385368, 'artistName': 'Cambridge University', 'collectionName': 'Infectious Disease Dynamics', 'trackName': 'Infectious Disease Dynamics', 'collectionCensoredName': 'Infectious Disease Dynamics', 'trackCensoredName': 'Infectious Disease Dynamics', 'artistViewUrl': 'https://podcasts.apple.com/us/artist/cambridge-university/1280665022?uo=4', 'collectionViewUrl': 'https://podcasts.apple.com/us/podcast/infectious-disease-dynamics/id833385368?uo=4', 'feedUrl': 'http://rss.sms.cam.ac.uk/rss/collection/1539399?feedType=itunes', 'trackViewUrl': 'https://podcasts.apple.com/us/podcast/infectious-disease-dynamics/id833385368?uo=4', 'artworkUrl30': 'https://is3-ssl.mzstatic.com/image/thumb/Podcasts113/v4/c9/23/39/c9233966-c084-c1a6-aed7-77729421c8f7/mza_8697914769660773792.jpg/30x30bb.jpg', 'artworkUrl60': 'https://is3-ssl.mzstatic.com/image/thumb/Podcasts113/v4/c9/23/39/c9233966-c084-c1a6-aed7-77729421c8f7/mza_8697914769660773792.jpg/60x60bb.jpg', 'artworkUrl100': 'https://is3-ssl.mzstatic.com/image/thumb/Podcasts113/v4/c9/23/39/c9233966-c084-c1a6-aed7-77729421c8f7/mza_8697914769660773792.jpg/100x100bb.jpg', 'collectionPrice': 0.0, 'trackPrice': 0.0, 'trackRentalPrice': 0, 'collectionHdPrice': 0, 'trackHdPrice': 0, 'trackHdRentalPrice': 0, 'releaseDate': '2014-05-30T09:35:00Z', 'collectionExplicitness': 'cleaned', 'trackExplicitness': 'cleaned', 'trackCount': 53, 'country': 'USA', 'currency': 'USD', 'primaryGenreName': 'Education', 'contentAdvisoryRating': 'Clean', 'artworkUrl600': 'https://is3-ssl.mzstatic.com/image/thumb/Podcasts113/v4/c9/23/39/c9233966-c084-c1a6-aed7-77729421c8f7/mza_8697914769660773792.jpg/600x600bb.jpg', 'genreIds': ['1304', '26'], 'genres': ['Education', 'Podcasts']}, 'type': 'podcast', 'genre': 'Education', 'release_date_raw': '2014-05-30T09:35:00Z', 'country_store': 'USA', 'preview_url': None, 'price': 0.0, 'number': None, 'duration': None, 'artist': <Podcast>: Cambridge University, 'album': <Podcast>: Infectious Disease Dynamics}\n",
      "{'id': 1153935086, 'name': 'Persiflagers Infectious Disease Puscast', 'url': 'https://podcasts.apple.com/us/podcast/persiflagers-infectious-disease-puscast/id1153935086?uo=4', '_release_date': None, 'artwork': {'30': 'https://is1-ssl.mzstatic.com/image/thumb/Podcasts113/v4/d2/61/b9/d261b9b5-3910-6787-d680-ca3b28f0e7e6/mza_3627447860523106503.jpg/30x30bb.jpg', '60': 'https://is1-ssl.mzstatic.com/image/thumb/Podcasts113/v4/d2/61/b9/d261b9b5-3910-6787-d680-ca3b28f0e7e6/mza_3627447860523106503.jpg/60x60bb.jpg', '600': 'https://is1-ssl.mzstatic.com/image/thumb/Podcasts113/v4/d2/61/b9/d261b9b5-3910-6787-d680-ca3b28f0e7e6/mza_3627447860523106503.jpg/600x600bb.jpg'}, 'json': {'wrapperType': 'track', 'kind': 'podcast', 'collectionId': 1153935086, 'trackId': 1153935086, 'artistName': 'Mark Crislip', 'collectionName': 'Persiflagers Infectious Disease Puscast', 'trackName': 'Persiflagers Infectious Disease Puscast', 'collectionCensoredName': 'Persiflagers Infectious Disease Puscast', 'trackCensoredName': 'Persiflagers Infectious Disease Puscast', 'collectionViewUrl': 'https://podcasts.apple.com/us/podcast/persiflagers-infectious-disease-puscast/id1153935086?uo=4', 'feedUrl': 'http://www.pusware.com/podcast.xml', 'trackViewUrl': 'https://podcasts.apple.com/us/podcast/persiflagers-infectious-disease-puscast/id1153935086?uo=4', 'artworkUrl30': 'https://is1-ssl.mzstatic.com/image/thumb/Podcasts113/v4/d2/61/b9/d261b9b5-3910-6787-d680-ca3b28f0e7e6/mza_3627447860523106503.jpg/30x30bb.jpg', 'artworkUrl60': 'https://is1-ssl.mzstatic.com/image/thumb/Podcasts113/v4/d2/61/b9/d261b9b5-3910-6787-d680-ca3b28f0e7e6/mza_3627447860523106503.jpg/60x60bb.jpg', 'artworkUrl100': 'https://is1-ssl.mzstatic.com/image/thumb/Podcasts113/v4/d2/61/b9/d261b9b5-3910-6787-d680-ca3b28f0e7e6/mza_3627447860523106503.jpg/100x100bb.jpg', 'collectionPrice': 0.0, 'trackPrice': 0.0, 'trackRentalPrice': 0, 'collectionHdPrice': 0, 'trackHdPrice': 0, 'trackHdRentalPrice': 0, 'releaseDate': '2020-05-02T08:25:00Z', 'collectionExplicitness': 'cleaned', 'trackExplicitness': 'cleaned', 'trackCount': 300, 'country': 'USA', 'currency': 'USD', 'primaryGenreName': 'Science', 'contentAdvisoryRating': 'Clean', 'artworkUrl600': 'https://is1-ssl.mzstatic.com/image/thumb/Podcasts113/v4/d2/61/b9/d261b9b5-3910-6787-d680-ca3b28f0e7e6/mza_3627447860523106503.jpg/600x600bb.jpg', 'genreIds': ['1533', '26', '1512', '1518'], 'genres': ['Science', 'Podcasts', 'Health & Fitness', 'Medicine']}, 'type': 'podcast', 'genre': 'Science', 'release_date_raw': '2020-05-02T08:25:00Z', 'country_store': 'USA', 'preview_url': None, 'price': 0.0, 'number': None, 'duration': None, 'artist': None, 'album': <Podcast>: Persiflagers Infectious Disease Puscast}\n",
      "{'id': 496654255, 'name': 'PeerVoice Immunology & Infectious Disease Audio', 'url': 'https://podcasts.apple.com/us/podcast/peervoice-immunology-infectious-disease-audio/id496654255?uo=4', '_release_date': None, 'artwork': {'30': 'https://is5-ssl.mzstatic.com/image/thumb/Podcasts123/v4/b8/8f/fe/b88ffefc-5b90-ea3a-1a82-c81054e20517/mza_5409313710419261675.jpg/30x30bb.jpg', '60': 'https://is5-ssl.mzstatic.com/image/thumb/Podcasts123/v4/b8/8f/fe/b88ffefc-5b90-ea3a-1a82-c81054e20517/mza_5409313710419261675.jpg/60x60bb.jpg', '600': 'https://is5-ssl.mzstatic.com/image/thumb/Podcasts123/v4/b8/8f/fe/b88ffefc-5b90-ea3a-1a82-c81054e20517/mza_5409313710419261675.jpg/600x600bb.jpg'}, 'json': {'wrapperType': 'track', 'kind': 'podcast', 'artistId': 476711219, 'collectionId': 496654255, 'trackId': 496654255, 'artistName': 'PeerVoice', 'collectionName': 'PeerVoice Immunology & Infectious Disease Audio', 'trackName': 'PeerVoice Immunology & Infectious Disease Audio', 'collectionCensoredName': 'PeerVoice Immunology & Infectious Disease Audio', 'trackCensoredName': 'PeerVoice Immunology & Infectious Disease Audio', 'artistViewUrl': 'https://podcasts.apple.com/us/artist/peervoice/476711219?uo=4', 'collectionViewUrl': 'https://podcasts.apple.com/us/podcast/peervoice-immunology-infectious-disease-audio/id496654255?uo=4', 'feedUrl': 'https://c.peervoice.com/podcast/xml/rheumatology_audio.xml', 'trackViewUrl': 'https://podcasts.apple.com/us/podcast/peervoice-immunology-infectious-disease-audio/id496654255?uo=4', 'artworkUrl30': 'https://is5-ssl.mzstatic.com/image/thumb/Podcasts123/v4/b8/8f/fe/b88ffefc-5b90-ea3a-1a82-c81054e20517/mza_5409313710419261675.jpg/30x30bb.jpg', 'artworkUrl60': 'https://is5-ssl.mzstatic.com/image/thumb/Podcasts123/v4/b8/8f/fe/b88ffefc-5b90-ea3a-1a82-c81054e20517/mza_5409313710419261675.jpg/60x60bb.jpg', 'artworkUrl100': 'https://is5-ssl.mzstatic.com/image/thumb/Podcasts123/v4/b8/8f/fe/b88ffefc-5b90-ea3a-1a82-c81054e20517/mza_5409313710419261675.jpg/100x100bb.jpg', 'collectionPrice': 0.0, 'trackPrice': 0.0, 'trackRentalPrice': 0, 'collectionHdPrice': 0, 'trackHdPrice': 0, 'trackHdRentalPrice': 0, 'releaseDate': '2019-08-26T23:00:00Z', 'collectionExplicitness': 'cleaned', 'trackExplicitness': 'cleaned', 'trackCount': 25, 'country': 'USA', 'currency': 'USD', 'primaryGenreName': 'Science', 'contentAdvisoryRating': 'Clean', 'artworkUrl600': 'https://is5-ssl.mzstatic.com/image/thumb/Podcasts123/v4/b8/8f/fe/b88ffefc-5b90-ea3a-1a82-c81054e20517/mza_5409313710419261675.jpg/600x600bb.jpg', 'genreIds': ['1533', '26', '1512', '1518'], 'genres': ['Science', 'Podcasts', 'Health & Fitness', 'Medicine']}, 'type': 'podcast', 'genre': 'Science', 'release_date_raw': '2019-08-26T23:00:00Z', 'country_store': 'USA', 'preview_url': None, 'price': 0.0, 'number': None, 'duration': None, 'artist': <Podcast>: PeerVoice, 'album': <Podcast>: PeerVoice Immunology & Infectious Disease Audio}\n",
      "{'id': 288732495, 'name': 'PeerView Infectious Diseases CME/CNE/CPE Video Podcast', 'url': 'https://podcasts.apple.com/us/podcast/peerview-infectious-diseases-cme-cne-cpe-video-podcast/id288732495?uo=4', '_release_date': None, 'artwork': {'30': 'https://is5-ssl.mzstatic.com/image/thumb/Podcasts123/v4/6f/3d/cb/6f3dcb6a-61ae-fc0e-c70e-fc85253fc036/mza_7952464831417017959.jpg/30x30bb.jpg', '60': 'https://is5-ssl.mzstatic.com/image/thumb/Podcasts123/v4/6f/3d/cb/6f3dcb6a-61ae-fc0e-c70e-fc85253fc036/mza_7952464831417017959.jpg/60x60bb.jpg', '600': 'https://is5-ssl.mzstatic.com/image/thumb/Podcasts123/v4/6f/3d/cb/6f3dcb6a-61ae-fc0e-c70e-fc85253fc036/mza_7952464831417017959.jpg/600x600bb.jpg'}, 'json': {'wrapperType': 'track', 'kind': 'podcast', 'collectionId': 288732495, 'trackId': 288732495, 'artistName': 'PVI, PeerView Institute for Medical Education', 'collectionName': 'PeerView Infectious Diseases CME/CNE/CPE Video Podcast', 'trackName': 'PeerView Infectious Diseases CME/CNE/CPE Video Podcast', 'collectionCensoredName': 'PeerView Infectious Diseases CME/CNE/CPE Video Podcast', 'trackCensoredName': 'PeerView Infectious Diseases CME/CNE/CPE Video Podcast', 'collectionViewUrl': 'https://podcasts.apple.com/us/podcast/peerview-infectious-diseases-cme-cne-cpe-video-podcast/id288732495?uo=4', 'feedUrl': 'https://c.peerview.com/podcast/xml/infectiousdiseases_video.xml', 'trackViewUrl': 'https://podcasts.apple.com/us/podcast/peerview-infectious-diseases-cme-cne-cpe-video-podcast/id288732495?uo=4', 'artworkUrl30': 'https://is5-ssl.mzstatic.com/image/thumb/Podcasts123/v4/6f/3d/cb/6f3dcb6a-61ae-fc0e-c70e-fc85253fc036/mza_7952464831417017959.jpg/30x30bb.jpg', 'artworkUrl60': 'https://is5-ssl.mzstatic.com/image/thumb/Podcasts123/v4/6f/3d/cb/6f3dcb6a-61ae-fc0e-c70e-fc85253fc036/mza_7952464831417017959.jpg/60x60bb.jpg', 'artworkUrl100': 'https://is5-ssl.mzstatic.com/image/thumb/Podcasts123/v4/6f/3d/cb/6f3dcb6a-61ae-fc0e-c70e-fc85253fc036/mza_7952464831417017959.jpg/100x100bb.jpg', 'collectionPrice': 0.0, 'trackPrice': 0.0, 'trackRentalPrice': 0, 'collectionHdPrice': 0, 'trackHdPrice': 0, 'trackHdRentalPrice': 0, 'releaseDate': '2020-04-24T23:00:00Z', 'collectionExplicitness': 'cleaned', 'trackExplicitness': 'cleaned', 'trackCount': 15, 'country': 'USA', 'currency': 'USD', 'primaryGenreName': 'Science', 'contentAdvisoryRating': 'Clean', 'artworkUrl600': 'https://is5-ssl.mzstatic.com/image/thumb/Podcasts123/v4/6f/3d/cb/6f3dcb6a-61ae-fc0e-c70e-fc85253fc036/mza_7952464831417017959.jpg/600x600bb.jpg', 'genreIds': ['1533', '26', '1512', '1518'], 'genres': ['Science', 'Podcasts', 'Health & Fitness', 'Medicine']}, 'type': 'podcast', 'genre': 'Science', 'release_date_raw': '2020-04-24T23:00:00Z', 'country_store': 'USA', 'preview_url': None, 'price': 0.0, 'number': None, 'duration': None, 'artist': None, 'album': <Podcast>: PeerView Infectious Diseases CME/CNE/CPE Video Podcast}\n",
      "{'id': 1095847486, 'name': 'Infectious Questions : An Infectious Diseases Public Health Podcast', 'url': 'https://podcasts.apple.com/us/podcast/infectious-questions-infectious-diseases-public-health/id1095847486?uo=4', '_release_date': None, 'artwork': {'30': 'https://is2-ssl.mzstatic.com/image/thumb/Podcasts113/v4/4e/d5/3d/4ed53dc7-b1d9-0054-c49f-583365e1c755/mza_7826127378705162640.png/30x30bb.jpg', '60': 'https://is2-ssl.mzstatic.com/image/thumb/Podcasts113/v4/4e/d5/3d/4ed53dc7-b1d9-0054-c49f-583365e1c755/mza_7826127378705162640.png/60x60bb.jpg', '600': 'https://is2-ssl.mzstatic.com/image/thumb/Podcasts113/v4/4e/d5/3d/4ed53dc7-b1d9-0054-c49f-583365e1c755/mza_7826127378705162640.png/600x600bb.jpg'}, 'json': {'wrapperType': 'track', 'kind': 'podcast', 'collectionId': 1095847486, 'trackId': 1095847486, 'artistName': 'CentreInfection', 'collectionName': 'Infectious Questions : An Infectious Diseases Public Health Podcast', 'trackName': 'Infectious Questions : An Infectious Diseases Public Health Podcast', 'collectionCensoredName': 'Infectious Questions : An Infectious Diseases Public Health Podcast', 'trackCensoredName': 'Infectious Questions : An Infectious Diseases Public Health Podcast', 'collectionViewUrl': 'https://podcasts.apple.com/us/podcast/infectious-questions-infectious-diseases-public-health/id1095847486?uo=4', 'feedUrl': 'http://infectious.libsyn.com/rss', 'trackViewUrl': 'https://podcasts.apple.com/us/podcast/infectious-questions-infectious-diseases-public-health/id1095847486?uo=4', 'artworkUrl30': 'https://is2-ssl.mzstatic.com/image/thumb/Podcasts113/v4/4e/d5/3d/4ed53dc7-b1d9-0054-c49f-583365e1c755/mza_7826127378705162640.png/30x30bb.jpg', 'artworkUrl60': 'https://is2-ssl.mzstatic.com/image/thumb/Podcasts113/v4/4e/d5/3d/4ed53dc7-b1d9-0054-c49f-583365e1c755/mza_7826127378705162640.png/60x60bb.jpg', 'artworkUrl100': 'https://is2-ssl.mzstatic.com/image/thumb/Podcasts113/v4/4e/d5/3d/4ed53dc7-b1d9-0054-c49f-583365e1c755/mza_7826127378705162640.png/100x100bb.jpg', 'collectionPrice': 0.0, 'trackPrice': 0.0, 'trackRentalPrice': 0, 'collectionHdPrice': 0, 'trackHdPrice': 0, 'trackHdRentalPrice': 0, 'releaseDate': '2020-04-29T17:25:00Z', 'collectionExplicitness': 'cleaned', 'trackExplicitness': 'cleaned', 'trackCount': 26, 'country': 'USA', 'currency': 'USD', 'primaryGenreName': 'Science', 'contentAdvisoryRating': 'Clean', 'artworkUrl600': 'https://is2-ssl.mzstatic.com/image/thumb/Podcasts113/v4/4e/d5/3d/4ed53dc7-b1d9-0054-c49f-583365e1c755/mza_7826127378705162640.png/600x600bb.jpg', 'genreIds': ['1533', '26', '1512'], 'genres': ['Science', 'Podcasts', 'Health & Fitness']}, 'type': 'podcast', 'genre': 'Science', 'release_date_raw': '2020-04-29T17:25:00Z', 'country_store': 'USA', 'preview_url': None, 'price': 0.0, 'number': None, 'duration': None, 'artist': None, 'album': <Podcast>: Infectious Questions : An Infectious Diseases Public Health Podcast}\n",
      "{'id': 449847895, 'name': 'Infectious Diseases', 'url': 'https://podcasts.apple.com/us/podcast/infectious-diseases/id449847895?uo=4', '_release_date': None, 'artwork': {'30': 'https://is5-ssl.mzstatic.com/image/thumb/Podcasts113/v4/69/8d/48/698d488c-e593-4544-61f1-6277689d5ab8/mza_5933097158382554760.png/30x30bb.jpg', '60': 'https://is5-ssl.mzstatic.com/image/thumb/Podcasts113/v4/69/8d/48/698d488c-e593-4544-61f1-6277689d5ab8/mza_5933097158382554760.png/60x60bb.jpg', '600': 'https://is5-ssl.mzstatic.com/image/thumb/Podcasts113/v4/69/8d/48/698d488c-e593-4544-61f1-6277689d5ab8/mza_5933097158382554760.png/600x600bb.jpg'}, 'json': {'wrapperType': 'track', 'kind': 'podcast', 'artistId': 1280870649, 'collectionId': 449847895, 'trackId': 449847895, 'artistName': 'ICGEB - Trieste, Italy', 'collectionName': 'Infectious Diseases', 'trackName': 'Infectious Diseases', 'collectionCensoredName': 'Infectious Diseases', 'trackCensoredName': 'Infectious Diseases', 'artistViewUrl': 'https://podcasts.apple.com/us/artist/international-centre-for-genetic-engineering-biotechnology/1280870649?uo=4', 'collectionViewUrl': 'https://podcasts.apple.com/us/podcast/infectious-diseases/id449847895?uo=4', 'feedUrl': 'https://www.icgeb.org/itunesu/Infectious-Diseases.xml', 'trackViewUrl': 'https://podcasts.apple.com/us/podcast/infectious-diseases/id449847895?uo=4', 'artworkUrl30': 'https://is5-ssl.mzstatic.com/image/thumb/Podcasts113/v4/69/8d/48/698d488c-e593-4544-61f1-6277689d5ab8/mza_5933097158382554760.png/30x30bb.jpg', 'artworkUrl60': 'https://is5-ssl.mzstatic.com/image/thumb/Podcasts113/v4/69/8d/48/698d488c-e593-4544-61f1-6277689d5ab8/mza_5933097158382554760.png/60x60bb.jpg', 'artworkUrl100': 'https://is5-ssl.mzstatic.com/image/thumb/Podcasts113/v4/69/8d/48/698d488c-e593-4544-61f1-6277689d5ab8/mza_5933097158382554760.png/100x100bb.jpg', 'collectionPrice': 0.0, 'trackPrice': 0.0, 'trackRentalPrice': 0, 'collectionHdPrice': 0, 'trackHdPrice': 0, 'trackHdRentalPrice': 0, 'releaseDate': '2018-03-06T14:19:00Z', 'collectionExplicitness': 'notExplicit', 'trackExplicitness': 'notExplicit', 'trackCount': 8, 'country': 'USA', 'currency': 'USD', 'primaryGenreName': 'Natural Sciences', 'artworkUrl600': 'https://is5-ssl.mzstatic.com/image/thumb/Podcasts113/v4/69/8d/48/698d488c-e593-4544-61f1-6277689d5ab8/mza_5933097158382554760.png/600x600bb.jpg', 'genreIds': ['1534', '26', '1533'], 'genres': ['Natural Sciences', 'Podcasts', 'Science']}, 'type': 'podcast', 'genre': 'Natural Sciences', 'release_date_raw': '2018-03-06T14:19:00Z', 'country_store': 'USA', 'preview_url': None, 'price': 0.0, 'number': None, 'duration': None, 'artist': <Podcast>: ICGEB - Trieste, Italy, 'album': <Podcast>: Infectious Diseases}\n",
      "{'id': 218493791, 'name': 'Podcasts – PKIDs Blog', 'url': 'https://podcasts.apple.com/us/podcast/podcasts-pkids-blog/id218493791?uo=4', '_release_date': None, 'artwork': {'30': 'https://is1-ssl.mzstatic.com/image/thumb/Podcasts/v4/ac/e4/e7/ace4e7e6-262c-d8b3-0837-cd989335e309/mza_5957825870073923926.jpg/30x30bb.jpg', '60': 'https://is1-ssl.mzstatic.com/image/thumb/Podcasts/v4/ac/e4/e7/ace4e7e6-262c-d8b3-0837-cd989335e309/mza_5957825870073923926.jpg/60x60bb.jpg', '600': 'https://is1-ssl.mzstatic.com/image/thumb/Podcasts/v4/ac/e4/e7/ace4e7e6-262c-d8b3-0837-cd989335e309/mza_5957825870073923926.jpg/600x600bb.jpg'}, 'json': {'wrapperType': 'track', 'kind': 'podcast', 'collectionId': 218493791, 'trackId': 218493791, 'artistName': 'PKIDs (Parents of Kids with Infectious Diseases)', 'collectionName': 'Podcasts – PKIDs Blog', 'trackName': 'Podcasts – PKIDs Blog', 'collectionCensoredName': 'Podcasts – PKIDs Blog', 'trackCensoredName': 'Podcasts – PKIDs Blog', 'collectionViewUrl': 'https://podcasts.apple.com/us/podcast/podcasts-pkids-blog/id218493791?uo=4', 'feedUrl': 'http://feeds.feedburner.com/pkidsPodcasts', 'trackViewUrl': 'https://podcasts.apple.com/us/podcast/podcasts-pkids-blog/id218493791?uo=4', 'artworkUrl30': 'https://is1-ssl.mzstatic.com/image/thumb/Podcasts/v4/ac/e4/e7/ace4e7e6-262c-d8b3-0837-cd989335e309/mza_5957825870073923926.jpg/30x30bb.jpg', 'artworkUrl60': 'https://is1-ssl.mzstatic.com/image/thumb/Podcasts/v4/ac/e4/e7/ace4e7e6-262c-d8b3-0837-cd989335e309/mza_5957825870073923926.jpg/60x60bb.jpg', 'artworkUrl100': 'https://is1-ssl.mzstatic.com/image/thumb/Podcasts/v4/ac/e4/e7/ace4e7e6-262c-d8b3-0837-cd989335e309/mza_5957825870073923926.jpg/100x100bb.jpg', 'collectionPrice': 0.0, 'trackPrice': 0.0, 'trackRentalPrice': 0, 'collectionHdPrice': 0, 'trackHdPrice': 0, 'trackHdRentalPrice': 0, 'releaseDate': '2012-04-16T15:00:00Z', 'collectionExplicitness': 'cleaned', 'trackExplicitness': 'cleaned', 'trackCount': 10, 'country': 'USA', 'currency': 'USD', 'primaryGenreName': 'Science', 'contentAdvisoryRating': 'Clean', 'artworkUrl600': 'https://is1-ssl.mzstatic.com/image/thumb/Podcasts/v4/ac/e4/e7/ace4e7e6-262c-d8b3-0837-cd989335e309/mza_5957825870073923926.jpg/600x600bb.jpg', 'genreIds': ['1533', '26', '1512', '1518'], 'genres': ['Science', 'Podcasts', 'Health & Fitness', 'Medicine']}, 'type': 'podcast', 'genre': 'Science', 'release_date_raw': '2012-04-16T15:00:00Z', 'country_store': 'USA', 'preview_url': None, 'price': 0.0, 'number': None, 'duration': None, 'artist': None, 'album': <Podcast>: Podcasts – PKIDs Blog}\n",
      "{'id': 700715374, 'name': 'The History of Infectious Diseases', 'url': 'https://podcasts.apple.com/us/podcast/the-history-of-infectious-diseases/id700715374?uo=4', '_release_date': None, 'artwork': {'30': 'https://is4-ssl.mzstatic.com/image/thumb/CobaltPublic/v4/ec/27/a6/ec27a610-5f4c-af7d-e02e-59b9b47a1339/mza_320148377706158549.jpg/30x30bb.jpg', '60': 'https://is4-ssl.mzstatic.com/image/thumb/CobaltPublic/v4/ec/27/a6/ec27a610-5f4c-af7d-e02e-59b9b47a1339/mza_320148377706158549.jpg/60x60bb.jpg', '600': 'https://is4-ssl.mzstatic.com/image/thumb/CobaltPublic/v4/ec/27/a6/ec27a610-5f4c-af7d-e02e-59b9b47a1339/mza_320148377706158549.jpg/600x600bb.jpg'}, 'json': {'wrapperType': 'track', 'kind': 'podcast', 'artistId': 1280621199, 'collectionId': 700715374, 'trackId': 700715374, 'artistName': 'John Heritage', 'collectionName': 'The History of Infectious Diseases', 'trackName': 'The History of Infectious Diseases', 'collectionCensoredName': 'The History of Infectious Diseases', 'trackCensoredName': 'The History of Infectious Diseases', 'artistViewUrl': 'https://podcasts.apple.com/us/artist/university-of-leeds/1280621199?uo=4', 'collectionViewUrl': 'https://podcasts.apple.com/us/podcast/the-history-of-infectious-diseases/id700715374?uo=4', 'trackViewUrl': 'https://podcasts.apple.com/us/podcast/the-history-of-infectious-diseases/id700715374?uo=4', 'artworkUrl30': 'https://is4-ssl.mzstatic.com/image/thumb/CobaltPublic/v4/ec/27/a6/ec27a610-5f4c-af7d-e02e-59b9b47a1339/mza_320148377706158549.jpg/30x30bb.jpg', 'artworkUrl60': 'https://is4-ssl.mzstatic.com/image/thumb/CobaltPublic/v4/ec/27/a6/ec27a610-5f4c-af7d-e02e-59b9b47a1339/mza_320148377706158549.jpg/60x60bb.jpg', 'artworkUrl100': 'https://is4-ssl.mzstatic.com/image/thumb/CobaltPublic/v4/ec/27/a6/ec27a610-5f4c-af7d-e02e-59b9b47a1339/mza_320148377706158549.jpg/100x100bb.jpg', 'collectionPrice': 0.0, 'trackPrice': 0.0, 'trackRentalPrice': 0, 'collectionHdPrice': 0, 'trackHdPrice': 0, 'trackHdRentalPrice': 0, 'releaseDate': '2016-08-17T09:40:00Z', 'collectionExplicitness': 'notExplicit', 'trackExplicitness': 'notExplicit', 'trackCount': 2, 'country': 'USA', 'currency': 'USD', 'primaryGenreName': 'Science', 'artworkUrl600': 'https://is4-ssl.mzstatic.com/image/thumb/CobaltPublic/v4/ec/27/a6/ec27a610-5f4c-af7d-e02e-59b9b47a1339/mza_320148377706158549.jpg/600x600bb.jpg', 'genreIds': ['1533', '26'], 'genres': ['Science', 'Podcasts']}, 'type': 'podcast', 'genre': 'Science', 'release_date_raw': '2016-08-17T09:40:00Z', 'country_store': 'USA', 'preview_url': None, 'price': 0.0, 'number': None, 'duration': None, 'artist': <Podcast>: John Heritage, 'album': <Podcast>: The History of Infectious Diseases}\n",
      "{'id': 404210329, 'name': 'Infectious Diseases and Pandemics (audio)', 'url': 'https://podcasts.apple.com/us/podcast/infectious-diseases-and-pandemics-audio/id404210329?uo=4', '_release_date': None, 'artwork': {'30': 'https://is3-ssl.mzstatic.com/image/thumb/Podcasts/v4/98/ab/87/98ab8763-e5e5-9e44-03e5-ebf15a04626c/mza_2604780631510922078.jpg/30x30bb.jpg', '60': 'https://is3-ssl.mzstatic.com/image/thumb/Podcasts/v4/98/ab/87/98ab8763-e5e5-9e44-03e5-ebf15a04626c/mza_2604780631510922078.jpg/60x60bb.jpg', '600': 'https://is3-ssl.mzstatic.com/image/thumb/Podcasts/v4/98/ab/87/98ab8763-e5e5-9e44-03e5-ebf15a04626c/mza_2604780631510922078.jpg/600x600bb.jpg'}, 'json': {'wrapperType': 'track', 'kind': 'podcast', 'artistId': 1280874265, 'collectionId': 404210329, 'trackId': 404210329, 'artistName': 'The University of Chicago', 'collectionName': 'Infectious Diseases and Pandemics (audio)', 'trackName': 'Infectious Diseases and Pandemics (audio)', 'collectionCensoredName': 'Infectious Diseases and Pandemics (audio)', 'trackCensoredName': 'Infectious Diseases and Pandemics (audio)', 'artistViewUrl': 'https://podcasts.apple.com/us/artist/the-university-of-chicago/1280874265?uo=4', 'collectionViewUrl': 'https://podcasts.apple.com/us/podcast/infectious-diseases-and-pandemics-audio/id404210329?uo=4', 'trackViewUrl': 'https://podcasts.apple.com/us/podcast/infectious-diseases-and-pandemics-audio/id404210329?uo=4', 'artworkUrl30': 'https://is3-ssl.mzstatic.com/image/thumb/Podcasts/v4/98/ab/87/98ab8763-e5e5-9e44-03e5-ebf15a04626c/mza_2604780631510922078.jpg/30x30bb.jpg', 'artworkUrl60': 'https://is3-ssl.mzstatic.com/image/thumb/Podcasts/v4/98/ab/87/98ab8763-e5e5-9e44-03e5-ebf15a04626c/mza_2604780631510922078.jpg/60x60bb.jpg', 'artworkUrl100': 'https://is3-ssl.mzstatic.com/image/thumb/Podcasts/v4/98/ab/87/98ab8763-e5e5-9e44-03e5-ebf15a04626c/mza_2604780631510922078.jpg/100x100bb.jpg', 'collectionPrice': 0.0, 'trackPrice': 0.0, 'trackRentalPrice': 0, 'collectionHdPrice': 0, 'trackHdPrice': 0, 'trackHdRentalPrice': 0, 'releaseDate': '2009-07-31T09:54:00Z', 'collectionExplicitness': 'notExplicit', 'trackExplicitness': 'notExplicit', 'trackCount': 3, 'country': 'USA', 'currency': 'USD', 'primaryGenreName': 'Science', 'artworkUrl600': 'https://is3-ssl.mzstatic.com/image/thumb/Podcasts/v4/98/ab/87/98ab8763-e5e5-9e44-03e5-ebf15a04626c/mza_2604780631510922078.jpg/600x600bb.jpg', 'genreIds': ['1533', '26'], 'genres': ['Science', 'Podcasts']}, 'type': 'podcast', 'genre': 'Science', 'release_date_raw': '2009-07-31T09:54:00Z', 'country_store': 'USA', 'preview_url': None, 'price': 0.0, 'number': None, 'duration': None, 'artist': <Podcast>: The University of Chicago, 'album': <Podcast>: Infectious Diseases and Pandemics (audio)}\n",
      "{'id': 391198056, 'name': 'Infectious Diseases and Pandemics (video)', 'url': 'https://podcasts.apple.com/us/podcast/infectious-diseases-and-pandemics-video/id391198056?uo=4', '_release_date': None, 'artwork': {'30': 'https://is1-ssl.mzstatic.com/image/thumb/Podcasts/v4/8f/7e/f0/8f7ef037-b409-f520-cc45-69c97c7f05fa/mza_2122047021777707313.jpg/30x30bb.jpg', '60': 'https://is1-ssl.mzstatic.com/image/thumb/Podcasts/v4/8f/7e/f0/8f7ef037-b409-f520-cc45-69c97c7f05fa/mza_2122047021777707313.jpg/60x60bb.jpg', '600': 'https://is1-ssl.mzstatic.com/image/thumb/Podcasts/v4/8f/7e/f0/8f7ef037-b409-f520-cc45-69c97c7f05fa/mza_2122047021777707313.jpg/600x600bb.jpg'}, 'json': {'wrapperType': 'track', 'kind': 'podcast', 'artistId': 1280874265, 'collectionId': 391198056, 'trackId': 391198056, 'artistName': 'The University of Chicago', 'collectionName': 'Infectious Diseases and Pandemics (video)', 'trackName': 'Infectious Diseases and Pandemics (video)', 'collectionCensoredName': 'Infectious Diseases and Pandemics (video)', 'trackCensoredName': 'Infectious Diseases and Pandemics (video)', 'artistViewUrl': 'https://podcasts.apple.com/us/artist/the-university-of-chicago/1280874265?uo=4', 'collectionViewUrl': 'https://podcasts.apple.com/us/podcast/infectious-diseases-and-pandemics-video/id391198056?uo=4', 'trackViewUrl': 'https://podcasts.apple.com/us/podcast/infectious-diseases-and-pandemics-video/id391198056?uo=4', 'artworkUrl30': 'https://is1-ssl.mzstatic.com/image/thumb/Podcasts/v4/8f/7e/f0/8f7ef037-b409-f520-cc45-69c97c7f05fa/mza_2122047021777707313.jpg/30x30bb.jpg', 'artworkUrl60': 'https://is1-ssl.mzstatic.com/image/thumb/Podcasts/v4/8f/7e/f0/8f7ef037-b409-f520-cc45-69c97c7f05fa/mza_2122047021777707313.jpg/60x60bb.jpg', 'artworkUrl100': 'https://is1-ssl.mzstatic.com/image/thumb/Podcasts/v4/8f/7e/f0/8f7ef037-b409-f520-cc45-69c97c7f05fa/mza_2122047021777707313.jpg/100x100bb.jpg', 'collectionPrice': 0.0, 'trackPrice': 0.0, 'trackRentalPrice': 0, 'collectionHdPrice': 0, 'trackHdPrice': 0, 'trackHdRentalPrice': 0, 'releaseDate': '2008-09-16T05:00:00Z', 'collectionExplicitness': 'notExplicit', 'trackExplicitness': 'notExplicit', 'trackCount': 4, 'country': 'USA', 'currency': 'USD', 'primaryGenreName': 'Science', 'artworkUrl600': 'https://is1-ssl.mzstatic.com/image/thumb/Podcasts/v4/8f/7e/f0/8f7ef037-b409-f520-cc45-69c97c7f05fa/mza_2122047021777707313.jpg/600x600bb.jpg', 'genreIds': ['1533', '26'], 'genres': ['Science', 'Podcasts']}, 'type': 'podcast', 'genre': 'Science', 'release_date_raw': '2008-09-16T05:00:00Z', 'country_store': 'USA', 'preview_url': None, 'price': 0.0, 'number': None, 'duration': None, 'artist': <Podcast>: The University of Chicago, 'album': <Podcast>: Infectious Diseases and Pandemics (video)}\n",
      "{'id': 546659150, 'name': 'Disease State - Infectious', 'url': 'https://podcasts.apple.com/us/podcast/disease-state-infectious/id546659150?uo=4', '_release_date': None, 'artwork': {'30': 'https://is2-ssl.mzstatic.com/image/thumb/Podcasts/v4/42/98/01/4298012a-01a1-fc8e-68b4-aec537c634ed/mza_1768059293147459627.jpg/30x30bb.jpg', '60': 'https://is2-ssl.mzstatic.com/image/thumb/Podcasts/v4/42/98/01/4298012a-01a1-fc8e-68b4-aec537c634ed/mza_1768059293147459627.jpg/60x60bb.jpg', '600': 'https://is2-ssl.mzstatic.com/image/thumb/Podcasts/v4/42/98/01/4298012a-01a1-fc8e-68b4-aec537c634ed/mza_1768059293147459627.jpg/600x600bb.jpg'}, 'json': {'wrapperType': 'track', 'kind': 'podcast', 'artistId': 549945678, 'collectionId': 546659150, 'trackId': 546659150, 'artistName': 'Roche Diagnostics', 'collectionName': 'Disease State - Infectious', 'trackName': 'Disease State - Infectious', 'collectionCensoredName': 'Disease State - Infectious', 'trackCensoredName': 'Disease State - Infectious', 'artistViewUrl': 'https://podcasts.apple.com/us/artist/roche/549945678?uo=4', 'collectionViewUrl': 'https://podcasts.apple.com/us/podcast/disease-state-infectious/id546659150?uo=4', 'feedUrl': 'http://api.delvenetworks.com/rest/organizations/ea495bf9c05048b88058f9803f6b94be/channels/9f38606cfa8f4f549c8900913a662c4d/media.itunesrss', 'trackViewUrl': 'https://podcasts.apple.com/us/podcast/disease-state-infectious/id546659150?uo=4', 'artworkUrl30': 'https://is2-ssl.mzstatic.com/image/thumb/Podcasts/v4/42/98/01/4298012a-01a1-fc8e-68b4-aec537c634ed/mza_1768059293147459627.jpg/30x30bb.jpg', 'artworkUrl60': 'https://is2-ssl.mzstatic.com/image/thumb/Podcasts/v4/42/98/01/4298012a-01a1-fc8e-68b4-aec537c634ed/mza_1768059293147459627.jpg/60x60bb.jpg', 'artworkUrl100': 'https://is2-ssl.mzstatic.com/image/thumb/Podcasts/v4/42/98/01/4298012a-01a1-fc8e-68b4-aec537c634ed/mza_1768059293147459627.jpg/100x100bb.jpg', 'collectionPrice': 0.0, 'trackPrice': 0.0, 'trackRentalPrice': 0, 'collectionHdPrice': 0, 'trackHdPrice': 0, 'trackHdRentalPrice': 0, 'releaseDate': '2012-08-22T19:28:00Z', 'collectionExplicitness': 'cleaned', 'trackExplicitness': 'cleaned', 'trackCount': 17, 'country': 'USA', 'currency': 'USD', 'primaryGenreName': 'TV & Film', 'contentAdvisoryRating': 'Clean', 'artworkUrl600': 'https://is2-ssl.mzstatic.com/image/thumb/Podcasts/v4/42/98/01/4298012a-01a1-fc8e-68b4-aec537c634ed/mza_1768059293147459627.jpg/600x600bb.jpg', 'genreIds': ['1309', '26'], 'genres': ['TV & Film', 'Podcasts']}, 'type': 'podcast', 'genre': 'TV & Film', 'release_date_raw': '2012-08-22T19:28:00Z', 'country_store': 'USA', 'preview_url': None, 'price': 0.0, 'number': None, 'duration': None, 'artist': <Podcast>: Roche Diagnostics, 'album': <Podcast>: Disease State - Infectious}\n",
      "{'id': 496653922, 'name': 'PeerVoice Immunology & Infectious Disease Video', 'url': 'https://podcasts.apple.com/us/podcast/peervoice-immunology-infectious-disease-video/id496653922?uo=4', '_release_date': None, 'artwork': {'30': 'https://is2-ssl.mzstatic.com/image/thumb/Podcasts123/v4/8b/5a/ee/8b5aeea7-1e45-366e-60f5-769eb593cb4c/mza_409942481050720049.jpg/30x30bb.jpg', '60': 'https://is2-ssl.mzstatic.com/image/thumb/Podcasts123/v4/8b/5a/ee/8b5aeea7-1e45-366e-60f5-769eb593cb4c/mza_409942481050720049.jpg/60x60bb.jpg', '600': 'https://is2-ssl.mzstatic.com/image/thumb/Podcasts123/v4/8b/5a/ee/8b5aeea7-1e45-366e-60f5-769eb593cb4c/mza_409942481050720049.jpg/600x600bb.jpg'}, 'json': {'wrapperType': 'track', 'kind': 'podcast', 'artistId': 476711219, 'collectionId': 496653922, 'trackId': 496653922, 'artistName': 'PeerVoice', 'collectionName': 'PeerVoice Immunology & Infectious Disease Video', 'trackName': 'PeerVoice Immunology & Infectious Disease Video', 'collectionCensoredName': 'PeerVoice Immunology & Infectious Disease Video', 'trackCensoredName': 'PeerVoice Immunology & Infectious Disease Video', 'artistViewUrl': 'https://podcasts.apple.com/us/artist/peervoice/476711219?uo=4', 'collectionViewUrl': 'https://podcasts.apple.com/us/podcast/peervoice-immunology-infectious-disease-video/id496653922?uo=4', 'feedUrl': 'https://c.peervoice.com/podcast/xml/rheumatology_video.xml', 'trackViewUrl': 'https://podcasts.apple.com/us/podcast/peervoice-immunology-infectious-disease-video/id496653922?uo=4', 'artworkUrl30': 'https://is2-ssl.mzstatic.com/image/thumb/Podcasts123/v4/8b/5a/ee/8b5aeea7-1e45-366e-60f5-769eb593cb4c/mza_409942481050720049.jpg/30x30bb.jpg', 'artworkUrl60': 'https://is2-ssl.mzstatic.com/image/thumb/Podcasts123/v4/8b/5a/ee/8b5aeea7-1e45-366e-60f5-769eb593cb4c/mza_409942481050720049.jpg/60x60bb.jpg', 'artworkUrl100': 'https://is2-ssl.mzstatic.com/image/thumb/Podcasts123/v4/8b/5a/ee/8b5aeea7-1e45-366e-60f5-769eb593cb4c/mza_409942481050720049.jpg/100x100bb.jpg', 'collectionPrice': 0.0, 'trackPrice': 0.0, 'trackRentalPrice': 0, 'collectionHdPrice': 0, 'trackHdPrice': 0, 'trackHdRentalPrice': 0, 'releaseDate': '2019-08-26T23:00:00Z', 'collectionExplicitness': 'cleaned', 'trackExplicitness': 'cleaned', 'trackCount': 25, 'country': 'USA', 'currency': 'USD', 'primaryGenreName': 'Science', 'contentAdvisoryRating': 'Clean', 'artworkUrl600': 'https://is2-ssl.mzstatic.com/image/thumb/Podcasts123/v4/8b/5a/ee/8b5aeea7-1e45-366e-60f5-769eb593cb4c/mza_409942481050720049.jpg/600x600bb.jpg', 'genreIds': ['1533', '26', '1512', '1518'], 'genres': ['Science', 'Podcasts', 'Health & Fitness', 'Medicine']}, 'type': 'podcast', 'genre': 'Science', 'release_date_raw': '2019-08-26T23:00:00Z', 'country_store': 'USA', 'preview_url': None, 'price': 0.0, 'number': None, 'duration': None, 'artist': <Podcast>: PeerVoice, 'album': <Podcast>: PeerVoice Immunology & Infectious Disease Video}\n"
     ]
    }
   ],
   "source": [
    "for item in id:\n",
    "    print (vars(item))"
   ]
  },
  {
   "cell_type": "code",
   "execution_count": 9,
   "metadata": {},
   "outputs": [],
   "source": [
    "apod = 519582740\n",
    "podcast = itunes.lookup(apod)"
   ]
  },
  {
   "cell_type": "code",
   "execution_count": 10,
   "metadata": {},
   "outputs": [
    {
     "name": "stdout",
     "output_type": "stream",
     "text": [
      "<Podcast>: Infectious Diseases Society of America\n"
     ]
    }
   ],
   "source": [
    "print (podcast)"
   ]
  },
  {
   "cell_type": "code",
   "execution_count": 11,
   "metadata": {},
   "outputs": [
    {
     "name": "stdout",
     "output_type": "stream",
     "text": [
      "<Podcast>: Infectious Diseases Society of America\n"
     ]
    }
   ],
   "source": [
    "print (podcast.album)"
   ]
  },
  {
   "cell_type": "code",
   "execution_count": 12,
   "metadata": {},
   "outputs": [
    {
     "name": "stdout",
     "output_type": "stream",
     "text": [
      "podcast\n"
     ]
    }
   ],
   "source": [
    "print (podcast.type)"
   ]
  },
  {
   "cell_type": "code",
   "execution_count": 13,
   "metadata": {},
   "outputs": [
    {
     "name": "stdout",
     "output_type": "stream",
     "text": [
      "Science\n"
     ]
    }
   ],
   "source": [
    "print (podcast.genre)"
   ]
  },
  {
   "cell_type": "code",
   "execution_count": 15,
   "metadata": {},
   "outputs": [
    {
     "name": "stdout",
     "output_type": "stream",
     "text": [
      "{'wrapperType': 'track', 'kind': 'podcast', 'collectionId': 519582740, 'trackId': 519582740, 'artistName': 'IDSA', 'collectionName': 'Infectious Diseases Society of America', 'trackName': 'Infectious Diseases Society of America', 'collectionCensoredName': 'Infectious Diseases Society of America', 'trackCensoredName': 'Infectious Diseases Society of America', 'collectionViewUrl': 'https://podcasts.apple.com/us/podcast/infectious-diseases-society-of-america/id519582740?uo=4', 'feedUrl': 'http://idsocietypodcast.libsyn.com/rss', 'trackViewUrl': 'https://podcasts.apple.com/us/podcast/infectious-diseases-society-of-america/id519582740?uo=4', 'artworkUrl30': 'https://is3-ssl.mzstatic.com/image/thumb/Podcasts6/v4/97/ac/53/97ac535a-8e19-5a04-df2c-a5713369e99d/mza_158942553313998590.jpg/30x30bb.jpg', 'artworkUrl60': 'https://is3-ssl.mzstatic.com/image/thumb/Podcasts6/v4/97/ac/53/97ac535a-8e19-5a04-df2c-a5713369e99d/mza_158942553313998590.jpg/60x60bb.jpg', 'artworkUrl100': 'https://is3-ssl.mzstatic.com/image/thumb/Podcasts6/v4/97/ac/53/97ac535a-8e19-5a04-df2c-a5713369e99d/mza_158942553313998590.jpg/100x100bb.jpg', 'collectionPrice': 0.0, 'trackPrice': 0.0, 'trackRentalPrice': 0, 'collectionHdPrice': 0, 'trackHdPrice': 0, 'trackHdRentalPrice': 0, 'releaseDate': '2020-05-16T06:00:00Z', 'collectionExplicitness': 'cleaned', 'trackExplicitness': 'cleaned', 'trackCount': 52, 'country': 'USA', 'currency': 'USD', 'primaryGenreName': 'Science', 'contentAdvisoryRating': 'Clean', 'artworkUrl600': 'https://is3-ssl.mzstatic.com/image/thumb/Podcasts6/v4/97/ac/53/97ac535a-8e19-5a04-df2c-a5713369e99d/mza_158942553313998590.jpg/600x600bb.jpg', 'genreIds': ['1533', '26', '1512', '1518'], 'genres': ['Science', 'Podcasts', 'Health & Fitness', 'Medicine']}\n"
     ]
    }
   ],
   "source": [
    "print (podcast.json)"
   ]
  },
  {
   "cell_type": "code",
   "execution_count": 16,
   "metadata": {},
   "outputs": [
    {
     "name": "stdout",
     "output_type": "stream",
     "text": [
      "podcast\n"
     ]
    }
   ],
   "source": [
    "print (podcast.json['kind'])"
   ]
  },
  {
   "cell_type": "code",
   "execution_count": 17,
   "metadata": {},
   "outputs": [
    {
     "name": "stdout",
     "output_type": "stream",
     "text": [
      "52\n"
     ]
    }
   ],
   "source": [
    "print (podcast.json['trackCount'])"
   ]
  },
  {
   "cell_type": "markdown",
   "metadata": {},
   "source": [
    "### ⇪ A little wierd, this \"JSON\" attribute, but nevertheless, there it is.\n",
    "\n",
    "- - -\n",
    "\n",
    "# So let's lookup some stuff about Infectious Disease podcasts\n",
    "\n",
    "+ no. of individual posts / episodes per year since publishing\n",
    "+ length posts (minutes)\n",
    "+ rating per channel +/or track\n",
    "\n",
    "### first for # posts / episodes"
   ]
  },
  {
   "cell_type": "code",
   "execution_count": 39,
   "metadata": {},
   "outputs": [
    {
     "name": "stdout",
     "output_type": "stream",
     "text": [
      "52 podcasts in \"Infectious Diseases Society of America\" (with id = 519582740)\n",
      "The last post in this channel was 2020-05-16T06:00:00Z \n",
      "\n",
      "300 podcasts in \"Persiflagers Infectious Disease Puscast\" (with id = 79930757)\n",
      "The last post in this channel was 2020-05-02T08:25:00Z \n",
      "\n",
      "50 podcasts in \"Emerging Infectious Diseases\" (with id = 212828612)\n",
      "The last post in this channel was 2020-05-13T22:55:00Z \n",
      "\n",
      "49 podcasts in \"Infectious Disease\" (with id = 415333788)\n",
      "The last post in this channel was 2016-03-15T10:31:00Z \n",
      "\n",
      "22 podcasts in \"Breakpoints\" (with id = 1470308447)\n",
      "The last post in this channel was 2020-05-15T09:00:00Z \n",
      "\n",
      "28 podcasts in \"The Open Forum Infectious Diseases Podcast\" (with id = 1368469324)\n",
      "The last post in this channel was 2020-04-17T15:00:00Z \n",
      "\n",
      "7 podcasts in \"Infectious Disease & Antibiotic Resistance\" (with id = 621579678)\n",
      "The last post in this channel was 2013-03-21T09:30:00Z \n",
      "\n",
      "16 podcasts in \"PeerView Infectious Diseases CME/CNE/CPE Audio Podcast\" (with id = 275853748)\n",
      "The last post in this channel was 2020-04-24T23:00:00Z \n",
      "\n",
      "53 podcasts in \"Infectious Disease Dynamics\" (with id = 833385368)\n",
      "The last post in this channel was 2014-05-30T09:35:00Z \n",
      "\n",
      "300 podcasts in \"Persiflagers Infectious Disease Puscast\" (with id = 1153935086)\n",
      "The last post in this channel was 2020-05-02T08:25:00Z \n",
      "\n",
      "25 podcasts in \"PeerVoice Immunology & Infectious Disease Audio\" (with id = 496654255)\n",
      "The last post in this channel was 2019-08-26T23:00:00Z \n",
      "\n",
      "15 podcasts in \"PeerView Infectious Diseases CME/CNE/CPE Video Podcast\" (with id = 288732495)\n",
      "The last post in this channel was 2020-04-24T23:00:00Z \n",
      "\n",
      "26 podcasts in \"Infectious Questions : An Infectious Diseases Public Health Podcast\" (with id = 1095847486)\n",
      "The last post in this channel was 2020-04-29T17:25:00Z \n",
      "\n",
      "8 podcasts in \"Infectious Diseases\" (with id = 449847895)\n",
      "The last post in this channel was 2018-03-06T14:19:00Z \n",
      "\n",
      "10 podcasts in \"Podcasts – PKIDs Blog\" (with id = 218493791)\n",
      "The last post in this channel was 2012-04-16T15:00:00Z \n",
      "\n",
      "2 podcasts in \"The History of Infectious Diseases\" (with id = 700715374)\n",
      "The last post in this channel was 2016-08-17T09:40:00Z \n",
      "\n",
      "3 podcasts in \"Infectious Diseases and Pandemics (audio)\" (with id = 404210329)\n",
      "The last post in this channel was 2009-07-31T09:54:00Z \n",
      "\n",
      "4 podcasts in \"Infectious Diseases and Pandemics (video)\" (with id = 391198056)\n",
      "The last post in this channel was 2008-09-16T05:00:00Z \n",
      "\n",
      "17 podcasts in \"Disease State - Infectious\" (with id = 546659150)\n",
      "The last post in this channel was 2012-08-22T19:28:00Z \n",
      "\n",
      "25 podcasts in \"PeerVoice Immunology & Infectious Disease Video\" (with id = 496653922)\n",
      "The last post in this channel was 2019-08-26T23:00:00Z \n",
      "\n"
     ]
    }
   ],
   "source": [
    "for channel in id:\n",
    "    print (f'{channel.json[\"trackCount\"]} podcasts in \"{channel.json[\"collectionName\"]}\" (with id = {channel.id})')\n",
    "    print (f'The last post in this channel was {channel.json[\"releaseDate\"]} \\n')"
   ]
  },
  {
   "cell_type": "code",
   "execution_count": null,
   "metadata": {},
   "outputs": [],
   "source": []
  }
 ],
 "metadata": {
  "environment": {
   "name": "common-cpu.m46",
   "type": "gcloud",
   "uri": "gcr.io/deeplearning-platform-release/base-cpu:m46"
  },
  "kernelspec": {
   "display_name": "Python 3",
   "language": "python",
   "name": "python3"
  },
  "language_info": {
   "codemirror_mode": {
    "name": "ipython",
    "version": 3
   },
   "file_extension": ".py",
   "mimetype": "text/x-python",
   "name": "python",
   "nbconvert_exporter": "python",
   "pygments_lexer": "ipython3",
   "version": "3.7.6"
  }
 },
 "nbformat": 4,
 "nbformat_minor": 4
}
