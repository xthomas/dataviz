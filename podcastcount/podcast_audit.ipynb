{
 "cells": [
  {
   "cell_type": "markdown",
   "metadata": {},
   "source": [
    "> library dependencies\n",
    "\n",
    "+ itunes API searcher\n",
    "    + ```$ pip install pyitunes```"
   ]
  },
  {
   "cell_type": "code",
   "execution_count": 1,
   "metadata": {},
   "outputs": [],
   "source": [
    "import itunes\n",
    "import pandas as pd \n",
    "import matplotlib.pyplot as plt\n",
    "import bs4 as bs\n",
    "import urllib.request"
   ]
  },
  {
   "cell_type": "markdown",
   "metadata": {},
   "source": [
    "### this is a wrapper for the [iTunes Search Api]()"
   ]
  },
  {
   "cell_type": "code",
   "execution_count": 2,
   "metadata": {},
   "outputs": [
    {
     "name": "stdout",
     "output_type": "stream",
     "text": [
      "[<Song>: Let It Be, <Song>: Miss You, <Song>: Hey Jude, <Song>: Here Comes the Sun, <Song>: In My Life, <Song>: Come Together, <Song>: I Want to Hold Your Hand, <Song>: Blackbird, <Song>: The Long and Winding Road, <Song>: Ob-La-Di, Ob-La-Da, <Song>: Can't Buy Me Love, <Song>: A Hard Day's Night, <Audiobook>: George Harrison, <Song>: Yesterday, <Song>: Love Me Do, <Song>: With a Little Help From My Friends, <Song>: When I'm Sixty-Four, <Song>: All You Need Is Love, <Song>: Yesterday, <Song>: Get Back, <Song>: Let It Be, <Song>: Hey Jude, <Song>: While My Guitar Gently Weeps, <Song>: Lucy In the Sky with Diamonds, <Song>: Yellow Submarine, <Audiobook>: The Meaning of Life in 5 Easy Lessons (To the Best of Our Knowledge Series), <Audiobook>: John Lennon, <Song>: She Loves You, <Song>: Eleanor Rigby, <Song>: Help!, <Song>: Come Together, <Song>: Eight Days a Week, <Song>: Penny Lane, <Song>: We Can Work It Out, <Song>: Something, <Audiobook>: Paul McCartney, <Song>: Hello, Goodbye, <Song>: Day Tripper, <Song>: Ticket to Ride, <Song>: Lady Madonna, <Song>: Birthday, <Song>: Revolution, <Song>: Paperback Writer, <Song>: From Me to You, <Song>: I Feel Fine, <Song>: The Ballad of John and Yoko, <Song>: A Day In the Life, <Song>: Something, <Song>: Sgt. Pepper's Lonely Hearts Club Band, <Song>: Oh! Darling, <Song>: Back In the U.S.S.R., <Song>: She Came in Through the Bathroom Window, <Song>: Golden Slumbers, <Song>: Black Beatles (feat. Gucci Mane), <Song>: Octopus's Garden, <Song>: Strawberry Fields Forever, <Song>: I Want You (She's So Heavy), <Song>: Eleanor Rigby, <Song>: Don't Let Me Down, <Song>: Maxwell's Silver Hammer, <Song>: Carry That Weight, <Song>: You Never Give Me Your Money, <Song>: The End, <Song>: Because, <Song>: Rocky Raccoon, <Song>: I Will, <Song>: Dear Prudence, <Song>: I Want to Hold Your Hand, <Song>: Mean Mr Mustard, <Song>: Helter Skelter, <Song>: Polythene Pam, <Song>: Being For the Benefit of Mr. Kite!, <Song>: Sun King, <Song>: Get Back, <Song>: Her Majesty, <Song>: Michelle, <Song>: I Am the Walrus, <Song>: Beatles, <Song>: Hello, Goodbye, <Song>: Mother Nature's Son, <Song>: Happiness Is a Warm Gun, <Song>: Sgt. Pepper's Lonely Hearts Club Band, <Audiobook>: Ringo Starr, <Song>: Everybody's Got Something to Hide Except Me and My Monkey, <Song>: She's Leaving Home, <Song>: Norwegian Wood (This Bird Has Flown), <Song>: Across the Universe, <Song>: Getting Better, <Song>: Penny Lane, <Song>: If I Needed Someone, <Song>: Lovely Rita, <Song>: Let It Be, <Song>: With a Little Help From My Friends, <Song>: Julia, <Song>: Within You Without You, <Song>: Revolution 1, <Song>: Twist and Shout, <Song>: Fixing a Hole, <Song>: Good Night, <Song>: I'm So Tired]\n"
     ]
    }
   ],
   "source": [
    "# for example\n",
    "item = itunes.search (query='beatles')\n",
    "print (item)"
   ]
  },
  {
   "cell_type": "markdown",
   "metadata": {},
   "source": [
    "### but searches for podcasts instead of music albums\n",
    "\n",
    "### Set the query term and run the notebook\n",
    "### ⇩\n"
   ]
  },
  {
   "cell_type": "code",
   "execution_count": 22,
   "metadata": {},
   "outputs": [],
   "source": [
    "queryterm = 'cystic fibrosis'\n",
    "# queryterm = 'infectious disease'\n",
    "# queryterm = 'genetic'\n",
    "# queryterm = 'covid19'\n",
    "# queryterm = 'foreclosure'\n",
    "podsearch = itunes.search(query=queryterm, media='podcast')"
   ]
  },
  {
   "cell_type": "code",
   "execution_count": 23,
   "metadata": {},
   "outputs": [
    {
     "name": "stdout",
     "output_type": "stream",
     "text": [
      "<Podcast>: Breathe In: A Cystic Fibrosis Podcast\n",
      "<Podcast>: Breaking Through\n",
      "<Podcast>: Cystic Fibrosis Review\n",
      "<Podcast>: Cystic Fibrosis Podcast\n",
      "<Podcast>: Cystic Fibrosis\n",
      "<Podcast>: Cystic Fibrosis in Focus\n",
      "<Podcast>: Living With Cystic Fibrosis\n",
      "<Podcast>: My Journey With Cystic Fibrosis\n",
      "<Podcast>: AHEAD OF THE CURVE: Cystic Fibrosis\n",
      "<Podcast>: Just Livin Life with Cystic Fibrosis\n",
      "<Podcast>: Jerry Unplugged: A Cystic Fibrosis Podcast\n",
      "<Podcast>: Gene Therapy with Cystic Fibrosis\n"
     ]
    }
   ],
   "source": [
    "for p in podsearch:\n",
    "    print (p)"
   ]
  },
  {
   "cell_type": "code",
   "execution_count": 24,
   "metadata": {},
   "outputs": [
    {
     "name": "stdout",
     "output_type": "stream",
     "text": [
      "{'id': 1299822342, 'name': 'Breathe In: A Cystic Fibrosis Podcast', 'url': 'https://podcasts.apple.com/us/podcast/breathe-in-a-cystic-fibrosis-podcast/id1299822342?uo=4', '_release_date': None, 'artwork': {'30': 'https://is3-ssl.mzstatic.com/image/thumb/Podcasts113/v4/76/fc/f9/76fcf922-0fb2-9465-17ae-a69c52d05280/mza_8694591701698332440.jpg/30x30bb.jpg', '60': 'https://is3-ssl.mzstatic.com/image/thumb/Podcasts113/v4/76/fc/f9/76fcf922-0fb2-9465-17ae-a69c52d05280/mza_8694591701698332440.jpg/60x60bb.jpg', '600': 'https://is3-ssl.mzstatic.com/image/thumb/Podcasts113/v4/76/fc/f9/76fcf922-0fb2-9465-17ae-a69c52d05280/mza_8694591701698332440.jpg/600x600bb.jpg'}, 'json': {'wrapperType': 'track', 'kind': 'podcast', 'collectionId': 1299822342, 'trackId': 1299822342, 'artistName': 'Gunnar Esiason and the Salty Cysters', 'collectionName': 'Breathe In: A Cystic Fibrosis Podcast', 'trackName': 'Breathe In: A Cystic Fibrosis Podcast', 'collectionCensoredName': 'Breathe In: A Cystic Fibrosis Podcast', 'trackCensoredName': 'Breathe In: A Cystic Fibrosis Podcast', 'collectionViewUrl': 'https://podcasts.apple.com/us/podcast/breathe-in-a-cystic-fibrosis-podcast/id1299822342?uo=4', 'feedUrl': 'http://feeds.soundcloud.com/users/soundcloud:users:339623866/sounds.rss', 'trackViewUrl': 'https://podcasts.apple.com/us/podcast/breathe-in-a-cystic-fibrosis-podcast/id1299822342?uo=4', 'artworkUrl30': 'https://is3-ssl.mzstatic.com/image/thumb/Podcasts113/v4/76/fc/f9/76fcf922-0fb2-9465-17ae-a69c52d05280/mza_8694591701698332440.jpg/30x30bb.jpg', 'artworkUrl60': 'https://is3-ssl.mzstatic.com/image/thumb/Podcasts113/v4/76/fc/f9/76fcf922-0fb2-9465-17ae-a69c52d05280/mza_8694591701698332440.jpg/60x60bb.jpg', 'artworkUrl100': 'https://is3-ssl.mzstatic.com/image/thumb/Podcasts113/v4/76/fc/f9/76fcf922-0fb2-9465-17ae-a69c52d05280/mza_8694591701698332440.jpg/100x100bb.jpg', 'collectionPrice': 0.0, 'trackPrice': 0.0, 'trackRentalPrice': 0, 'collectionHdPrice': 0, 'trackHdPrice': 0, 'trackHdRentalPrice': 0, 'releaseDate': '2019-12-05T11:00:00Z', 'collectionExplicitness': 'cleaned', 'trackExplicitness': 'cleaned', 'trackCount': 99, 'country': 'USA', 'currency': 'USD', 'primaryGenreName': 'Health & Fitness', 'contentAdvisoryRating': 'Clean', 'artworkUrl600': 'https://is3-ssl.mzstatic.com/image/thumb/Podcasts113/v4/76/fc/f9/76fcf922-0fb2-9465-17ae-a69c52d05280/mza_8694591701698332440.jpg/600x600bb.jpg', 'genreIds': ['1512', '26'], 'genres': ['Health & Fitness', 'Podcasts']}, 'type': 'podcast', 'genre': 'Health & Fitness', 'release_date_raw': '2019-12-05T11:00:00Z', 'country_store': 'USA', 'preview_url': None, 'price': 0.0, 'number': None, 'duration': None, 'artist': None, 'album': <Podcast>: Breathe In: A Cystic Fibrosis Podcast}\n"
     ]
    }
   ],
   "source": [
    "# let's looks at what gets returned for each item in that list of Podcast search results\n",
    "print (vars(podsearch[0]))"
   ]
  },
  {
   "cell_type": "markdown",
   "metadata": {},
   "source": [
    "### ⇪ A little wierd, looks like most of what we want is packed into\n",
    "### a \"JSON\" attribute, so...there it is.\n",
    "\n",
    "- - -\n",
    "\n",
    "# So let's lookup some stuff about the podcast in question\n",
    "\n",
    "+ no. of individual posts / episodes per year since publishing\n",
    "+ length posts (minutes)\n",
    "+ rating per channel +/or track, if available\n",
    "\n",
    "### first for # posts / episodes / media URL"
   ]
  },
  {
   "cell_type": "code",
   "execution_count": 47,
   "metadata": {
    "scrolled": false
   },
   "outputs": [
    {
     "name": "stdout",
     "output_type": "stream",
     "text": [
      "12 channels\n",
      "\n",
      "99 podcasts in \"Breathe In: A Cystic Fibrosis Podcast\" (with id = 1299822342)\n",
      "The last post in this channel was 2019-12-05T11:00:00Z, and iTunes page lising all podcast episodes:\n",
      "https://podcasts.apple.com/us/podcast/breathe-in-a-cystic-fibrosis-podcast/id1299822342?uo=4\n",
      "\n",
      "22 podcasts in \"Breaking Through\" (with id = 1404167309)\n",
      "The last post in this channel was 2020-03-25T19:04:00Z, and iTunes page lising all podcast episodes:\n",
      "https://podcasts.apple.com/us/podcast/breaking-through/id1404167309?uo=4\n",
      "\n",
      "47 podcasts in \"Cystic Fibrosis Review\" (with id = 300355725)\n",
      "The last post in this channel was 2017-10-26T13:00:00Z, and iTunes page lising all podcast episodes:\n",
      "https://podcasts.apple.com/us/podcast/cystic-fibrosis-review/id300355725?uo=4\n",
      "\n",
      "208 podcasts in \"Cystic Fibrosis Podcast\" (with id = 1425889980)\n",
      "The last post in this channel was 2019-07-25T20:37:00Z, and iTunes page lising all podcast episodes:\n",
      "https://podcasts.apple.com/us/podcast/cystic-fibrosis-podcast/id1425889980?uo=4\n",
      "\n",
      "1 podcasts in \"Cystic Fibrosis\" (with id = 1482970186)\n",
      "The last post in this channel was 2019-10-03T18:04:00Z, and iTunes page lising all podcast episodes:\n",
      "https://podcasts.apple.com/us/podcast/cystic-fibrosis/id1482970186?uo=4\n",
      "\n",
      "4 podcasts in \"Cystic Fibrosis in Focus\" (with id = 1158237157)\n",
      "The last post in this channel was 2020-02-06T13:19:00Z, and iTunes page lising all podcast episodes:\n",
      "https://podcasts.apple.com/us/podcast/cystic-fibrosis-in-focus/id1158237157?uo=4\n",
      "\n",
      "14 podcasts in \"Living With Cystic Fibrosis\" (with id = 1451304302)\n",
      "The last post in this channel was 2020-05-15T04:00:00Z, and iTunes page lising all podcast episodes:\n",
      "https://podcasts.apple.com/us/podcast/living-with-cystic-fibrosis/id1451304302?uo=4\n",
      "\n",
      "15 podcasts in \"My Journey With Cystic Fibrosis\" (with id = 1123362319)\n",
      "The last post in this channel was 2018-05-03T08:00:00Z, and iTunes page lising all podcast episodes:\n",
      "https://podcasts.apple.com/us/podcast/my-journey-with-cystic-fibrosis/id1123362319?uo=4\n",
      "\n",
      "27 podcasts in \"AHEAD OF THE CURVE: Cystic Fibrosis\" (with id = 716909092)\n",
      "The last post in this channel was 2015-11-30T13:00:00Z, and iTunes page lising all podcast episodes:\n",
      "https://podcasts.apple.com/us/podcast/ahead-of-the-curve-cystic-fibrosis/id716909092?uo=4\n",
      "\n",
      "4 podcasts in \"Just Livin Life with Cystic Fibrosis\" (with id = 1367526604)\n",
      "The last post in this channel was 2018-06-14T01:24:00Z, and iTunes page lising all podcast episodes:\n",
      "https://podcasts.apple.com/us/podcast/just-livin-life-with-cystic-fibrosis/id1367526604?uo=4\n",
      "\n",
      "2 podcasts in \"Jerry Unplugged: A Cystic Fibrosis Podcast\" (with id = 1403459226)\n",
      "The last post in this channel was 2018-08-07T18:58:00Z, and iTunes page lising all podcast episodes:\n",
      "https://podcasts.apple.com/us/podcast/jerry-unplugged-a-cystic-fibrosis-podcast/id1403459226?uo=4\n",
      "\n",
      "1 podcasts in \"Gene Therapy with Cystic Fibrosis\" (with id = 1510267533)\n",
      "The last post in this channel was 2020-04-23T15:12:00Z, and iTunes page lising all podcast episodes:\n",
      "https://podcasts.apple.com/us/podcast/gene-therapy-with-cystic-fibrosis/id1510267533?uo=4\n",
      "\n"
     ]
    }
   ],
   "source": [
    "print (f'{len(podsearch)} channels\\n')\n",
    "for channel in podsearch:\n",
    "    print (f'{channel.json[\"trackCount\"]} podcasts in \"{channel.json[\"collectionName\"]}\" (with id = {channel.id})')\n",
    "    print (f'The last post in this channel was {channel.json[\"releaseDate\"]}, and iTunes page lising all podcast episodes:')\n",
    "    print (f'{channel.json[\"collectionViewUrl\"]}\\n')"
   ]
  },
  {
   "cell_type": "code",
   "execution_count": 46,
   "metadata": {},
   "outputs": [],
   "source": [
    "# that iTunes page only lists the first few episodes\n",
    "# so we're going to get the info from the podcast publisher's feed (not Apple)\n",
    "# definition to make sure podcasts list a feedUrl\n",
    "\n",
    "def checkKeys(podcast):\n",
    "        # feedURL is not consistent, check if present\n",
    "        if ('feedUrl' in podcast.json):\n",
    "            # write to an array of feeds\n",
    "            return channel.json[\"feedUrl\"]\n",
    "        else:\n",
    "            pass"
   ]
  },
  {
   "cell_type": "code",
   "execution_count": 27,
   "metadata": {
    "scrolled": false
   },
   "outputs": [
    {
     "name": "stdout",
     "output_type": "stream",
     "text": [
      "['http://feeds.soundcloud.com/users/soundcloud:users:339623866/sounds.rss', 'https://feeds.blubrry.com/feeds/breaking_through.xml', 'http://feeds.feedburner.com/eCysticFibrosis', 'http://feeds.soundcloud.com/users/soundcloud:users:492929361/sounds.rss', 'https://anchor.fm/s/efa8fa8/podcast/rss', 'https://reachmd.com/rss/itunes/517/', 'https://feeds.simplecast.com/9p8q_0Xo', 'http://feeds.feedburner.com/MyJourneyWithCF', 'http://feeds.feedburner.com/AheadOfTheCurveCysticFibrosis', 'http://feeds.soundcloud.com/users/soundcloud:users:420099012/sounds.rss', 'http://feeds.soundcloud.com/users/soundcloud:users:465418551/sounds.rss', 'https://anchor.fm/s/1e17f228/podcast/rss']\n"
     ]
    }
   ],
   "source": [
    "# create array of VALID podcast feeds (published by podcaster)\n",
    "feedarray = []\n",
    "for channel in podsearch:\n",
    "    p = checkKeys(channel)\n",
    "    if p != None:\n",
    "        feedarray.append(p)\n",
    "print (feedarray)"
   ]
  },
  {
   "cell_type": "code",
   "execution_count": 33,
   "metadata": {},
   "outputs": [
    {
     "name": "stdout",
     "output_type": "stream",
     "text": [
      "12 channels from this search list their feed\n",
      "⇪ of them lost 0 by filtering for publisher feeds\n"
     ]
    }
   ],
   "source": [
    "print (f'{len(feedarray)} channels from this search list their feed')\n",
    "print (f'⇪ of them lost {(len(podsearch)-len(feedarray))} by filtering for publisher feeds')"
   ]
  },
  {
   "cell_type": "code",
   "execution_count": 60,
   "metadata": {},
   "outputs": [
    {
     "name": "stdout",
     "output_type": "stream",
     "text": [
      "This podcast channel has 99 episodes, and here is one episode from that feed:\n",
      "\n",
      "<item>\n",
      "<guid ispermalink=\"false\">tag:soundcloud,2010:tracks/717054508</guid>\n",
      "<title>Breathe In #98 - The Legal Marriage Question</title>\n",
      "<pubdate>Thu, 05 Dec 2019 11:00:03 +0000</pubdate>\n",
      "<link/>https://soundcloud.com/user-996750830/breathe-in-98-the-legal-marriage-question\n",
      "      <itunes:duration>00:34:01</itunes:duration>\n",
      "<itunes:author>Gunnar Esiason and the Salty Cysters</itunes:author>\n",
      "<itunes:explicit>no</itunes:explicit>\n",
      "<itunes:summary>This week on Breathe In, Tiffany is on her own again while Gunnar battles his way through final exams. Tiffany is joined by a new voice on the podcast, Holly Seay, 24, from Georgia, a newlywed with CF. Holly takes us through her life with CF and how she met her now husband. Prior to their wedding, Holly and her now husband never lived together. Holly talks about the adjustment period and how her husband has acclimated to the CF life. She gives advice to those that are wanting to get married. The podcast ends with Holly and Tiffany's recommendations for the week.</itunes:summary>\n",
      "<itunes:subtitle>This week on Breathe In, Tiffany is on her own ag…</itunes:subtitle>\n",
      "<description>This week on Breathe In, Tiffany is on her own again while Gunnar battles his way through final exams. Tiffany is joined by a new voice on the podcast, Holly Seay, 24, from Georgia, a newlywed with CF. Holly takes us through her life with CF and how she met her now husband. Prior to their wedding, Holly and her now husband never lived together. Holly talks about the adjustment period and how her husband has acclimated to the CF life. She gives advice to those that are wanting to get married. The podcast ends with Holly and Tiffany's recommendations for the week.</description>\n",
      "<enclosure length=\"65531925\" type=\"audio/mpeg\" url=\"http://feeds.soundcloud.com/stream/717054508-user-996750830-breathe-in-98-the-legal-marriage-question.mp3\"></enclosure>\n",
      "<itunes:image href=\"http://i1.sndcdn.com/artworks-000641692060-qwgsm5-t500x500.jpg\"></itunes:image>\n",
      "</item>\n"
     ]
    }
   ],
   "source": [
    "# now let's get the dataframe fields from this 'dict'-like list\n",
    "# what are the fields?\n",
    "request = urllib.request.Request(feedarray[0],headers={'User-Agent': 'Mozilla/5.0 (Windows NT 6.2; Win64; x64) AppleWebKit/537.36 (KHTML, like Gecko) Chrome/60.0.3112.90 Safari/537.36'})\n",
    "source = urllib.request.urlopen(request)\n",
    "\n",
    "# this is an XML feel\n",
    "# inspection reveals that each podcast is encapsulated in <item> tags\n",
    "soup = bs.BeautifulSoup(source,'lxml')\n",
    "rows = soup.find_all('item')\n",
    "print (f'This podcast channel has {len(rows)} episodes, and here is one episode from that feed:\\n')\n",
    "print (rows[0])"
   ]
  },
  {
   "cell_type": "code",
   "execution_count": 67,
   "metadata": {},
   "outputs": [],
   "source": [
    "def checkEpisodes(url):\n",
    "    #since it's a request, let's add some error handling\n",
    "    try:\n",
    "        request = urllib.request.Request(url,headers={'User-Agent': 'Mozilla/5.0 (Windows NT 6.2; Win64; x64) AppleWebKit/537.36 (KHTML, like Gecko) Chrome/60.0.3112.90 Safari/537.36'})\n",
    "        source = urllib.request.urlopen(request)\n",
    "    except urllib.error.HTTPError as e:\n",
    "        print (f'Failed {e}: {url}')\n",
    "        return None\n",
    "    try:\n",
    "        soup = bs.BeautifulSoup(source,'lxml')\n",
    "        episodes = soup.find_all('item')\n",
    "    except AttributeError as e:\n",
    "        return None\n",
    "    return episodes"
   ]
  },
  {
   "cell_type": "code",
   "execution_count": 84,
   "metadata": {
    "scrolled": false
   },
   "outputs": [
    {
     "name": "stdout",
     "output_type": "stream",
     "text": [
      "Working on http://feeds.soundcloud.com/users/soundcloud:users:339623866/sounds.rss:\n",
      "99\n",
      "\n",
      "Working on https://feeds.blubrry.com/feeds/breaking_through.xml:\n",
      "22\n",
      "\n",
      "Working on http://feeds.feedburner.com/eCysticFibrosis:\n",
      "47\n",
      "\n",
      "Working on http://feeds.soundcloud.com/users/soundcloud:users:492929361/sounds.rss:\n",
      "208\n",
      "\n",
      "Working on https://anchor.fm/s/efa8fa8/podcast/rss:\n",
      "1\n",
      "\n",
      "Working on https://reachmd.com/rss/itunes/517/:\n",
      "4\n",
      "\n",
      "Working on https://feeds.simplecast.com/9p8q_0Xo:\n",
      "14\n",
      "\n",
      "Working on http://feeds.feedburner.com/MyJourneyWithCF:\n",
      "15\n",
      "\n",
      "Working on http://feeds.feedburner.com/AheadOfTheCurveCysticFibrosis:\n",
      "27\n",
      "\n",
      "Working on http://feeds.soundcloud.com/users/soundcloud:users:420099012/sounds.rss:\n",
      "4\n",
      "\n",
      "Working on http://feeds.soundcloud.com/users/soundcloud:users:465418551/sounds.rss:\n",
      "2\n",
      "\n",
      "Working on https://anchor.fm/s/1e17f228/podcast/rss:\n",
      "1\n",
      "\n"
     ]
    }
   ],
   "source": [
    "for x in feedarray:\n",
    "    print (f'Working on {x}:')\n",
    "    p = checkEpisodes(x)\n",
    "    print (f'{len(p)}\\n')"
   ]
  },
  {
   "cell_type": "code",
   "execution_count": 110,
   "metadata": {
    "scrolled": true
   },
   "outputs": [
    {
     "data": {
      "text/plain": [
       "\"\\ntitle = []\\npubdate = []\\ndescription = []\\nduration = []\\nfor r in rows:\\n    title = r.find('title')\\n    print (title.text)\\n    pubdate = r.find('pubdate')\\n    print (pubdate.text+ '\\n')\\n   description = r.find('itunes:summary')\\n   print (description.text+ '\\n')\\n    duration = r.find('itunes:duration')\\n    print (duration.text)\\n\""
      ]
     },
     "execution_count": 110,
     "metadata": {},
     "output_type": "execute_result"
    }
   ],
   "source": [
    "\"\"\"\n",
    "        if (len(rows) > 0):\n",
    "            print (f'This podcast channel has {len(rows)} episodes')\n",
    "            for r in rows:\n",
    "                title = r.find('itunes:title')\n",
    "                print (title.text)\n",
    "                pubdate = r.find('pubdate')\n",
    "                print (pubdate.text)\n",
    "                duration = r.find('itunes:duration')\n",
    "                print (duration.text+'\\n')\n",
    "                \n",
    "title = []\n",
    "pubdate = []\n",
    "description = []\n",
    "duration = []\n",
    "for r in rows:\n",
    "    title = r.find('title')\n",
    "    print (title.text)\n",
    "    pubdate = r.find('pubdate')\n",
    "    print (pubdate.text+ '\\n')\n",
    "   description = r.find('itunes:summary')\n",
    "   print (description.text+ '\\n')\n",
    "    duration = r.find('itunes:duration')\n",
    "    print (duration.text)\n",
    "\"\"\""
   ]
  },
  {
   "cell_type": "code",
   "execution_count": null,
   "metadata": {},
   "outputs": [],
   "source": []
  },
  {
   "cell_type": "code",
   "execution_count": null,
   "metadata": {},
   "outputs": [],
   "source": []
  },
  {
   "cell_type": "code",
   "execution_count": null,
   "metadata": {},
   "outputs": [],
   "source": []
  },
  {
   "cell_type": "code",
   "execution_count": null,
   "metadata": {},
   "outputs": [],
   "source": []
  },
  {
   "cell_type": "code",
   "execution_count": null,
   "metadata": {},
   "outputs": [],
   "source": []
  },
  {
   "cell_type": "code",
   "execution_count": null,
   "metadata": {},
   "outputs": [],
   "source": []
  },
  {
   "cell_type": "code",
   "execution_count": null,
   "metadata": {},
   "outputs": [],
   "source": []
  },
  {
   "cell_type": "code",
   "execution_count": null,
   "metadata": {},
   "outputs": [],
   "source": []
  }
 ],
 "metadata": {
  "environment": {
   "name": "common-cpu.m46",
   "type": "gcloud",
   "uri": "gcr.io/deeplearning-platform-release/base-cpu:m46"
  },
  "kernelspec": {
   "display_name": "Python 3",
   "language": "python",
   "name": "python3"
  },
  "language_info": {
   "codemirror_mode": {
    "name": "ipython",
    "version": 3
   },
   "file_extension": ".py",
   "mimetype": "text/x-python",
   "name": "python",
   "nbconvert_exporter": "python",
   "pygments_lexer": "ipython3",
   "version": "3.7.6"
  }
 },
 "nbformat": 4,
 "nbformat_minor": 4
}
