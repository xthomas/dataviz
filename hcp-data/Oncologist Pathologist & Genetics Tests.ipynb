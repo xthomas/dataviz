{
 "cells": [
  {
   "cell_type": "code",
   "execution_count": 1,
   "metadata": {},
   "outputs": [],
   "source": [
    "import gspread\n",
    "import pandas as pd\n",
    "from oauth2client.service_account import ServiceAccountCredentials"
   ]
  },
  {
   "cell_type": "code",
   "execution_count": 2,
   "metadata": {},
   "outputs": [],
   "source": [
    "# use creds to create a client to interact with the Google Drive API\n",
    "scope = ['https://spreadsheets.google.com/feeds','https://www.googleapis.com/auth/drive']\n",
    "creds = ServiceAccountCredentials.from_json_keyfile_name('client_secret.json', scope)\n",
    "client = gspread.authorize(creds)"
   ]
  },
  {
   "cell_type": "code",
   "execution_count": 3,
   "metadata": {},
   "outputs": [],
   "source": [
    "datadir = '/Users/xthomas/Documents/data/data.cms.gov_Medicare-Physician-Supplier/expanded/'\n",
    "year12 = 'Medicare_Provider_Util_Payment_PUF_CY2012.txt'\n",
    "year13 = 'Medicare_Provider_Util_Payment_PUF_CY2013.txt'\n",
    "year14 = 'Medicare_Provider_Util_Payment_PUF_CY2014.txt'\n",
    "year15 = 'Medicare_Provider_Util_Payment_PUF_CY2015.txt'\n",
    "# year13 = 'Medicare_Provider_Util_Payment_PUF_CY2013.csv'"
   ]
  },
  {
   "cell_type": "code",
   "execution_count": 4,
   "metadata": {},
   "outputs": [
    {
     "name": "stderr",
     "output_type": "stream",
     "text": [
      "/anaconda3/lib/python3.6/site-packages/IPython/core/interactiveshell.py:2785: DtypeWarning: Columns (10,27) have mixed types. Specify dtype option on import or set low_memory=False.\n",
      "  interactivity=interactivity, compiler=compiler, result=result)\n",
      "/anaconda3/lib/python3.6/site-packages/IPython/core/interactiveshell.py:2785: DtypeWarning: Columns (10,25) have mixed types. Specify dtype option on import or set low_memory=False.\n",
      "  interactivity=interactivity, compiler=compiler, result=result)\n"
     ]
    }
   ],
   "source": [
    "df12 = pd.read_csv(datadir + year12, sep='\\t', lineterminator='\\n')\n",
    "df13 = pd.read_csv(datadir + year13, sep='\\t', lineterminator='\\n')\n",
    "df14 = pd.read_csv(datadir + year14, sep='\\t', lineterminator='\\n')\n",
    "df15 = pd.read_csv(datadir + year15, sep='\\t', lineterminator='\\n')"
   ]
  },
  {
   "cell_type": "code",
   "execution_count": 6,
   "metadata": {},
   "outputs": [
    {
     "data": {
      "text/plain": [
       "(9153273, 28)"
      ]
     },
     "execution_count": 6,
     "metadata": {},
     "output_type": "execute_result"
    }
   ],
   "source": [
    "df12.shape"
   ]
  },
  {
   "cell_type": "code",
   "execution_count": null,
   "metadata": {},
   "outputs": [],
   "source": [
    "df13.shape"
   ]
  },
  {
   "cell_type": "code",
   "execution_count": null,
   "metadata": {
    "scrolled": true
   },
   "outputs": [],
   "source": [
    "provider13 = df13.groupby('PROVIDER_TYPE').size().reset_index(name='count')\n",
    "provider13.sort_values(by='count', ascending=False,inplace=True)\n",
    "provider13"
   ]
  },
  {
   "cell_type": "code",
   "execution_count": null,
   "metadata": {
    "scrolled": true
   },
   "outputs": [],
   "source": [
    "claim13 = df13.groupby('HCPCS_DESCRIPTION').size().reset_index(name='count')\n",
    "claim13.sort_values(by='count', ascending=False,inplace=True)\n",
    "claim13\n",
    "# claim13.to_csv(datadir + 'claim13.csv')"
   ]
  },
  {
   "cell_type": "code",
   "execution_count": null,
   "metadata": {},
   "outputs": [],
   "source": [
    "genetic_claims13 = claim13[claim13['HCPCS_DESCRIPTION'].str.contains(\"genetic\")]\n",
    "genetic_claims13"
   ]
  },
  {
   "cell_type": "code",
   "execution_count": null,
   "metadata": {},
   "outputs": [],
   "source": [
    "df13['HCPCS_DESCRIPTION'].str.contains(\"genetic\").size()"
   ]
  },
  {
   "cell_type": "code",
   "execution_count": 8,
   "metadata": {},
   "outputs": [],
   "source": [
    "genetic12 = df12[df12['HCPCS_DESCRIPTION'].str.contains(\"genetic\", na=False)]\n",
    "genetic12.to_csv(datadir + 'genetic12.csv')"
   ]
  },
  {
   "cell_type": "code",
   "execution_count": 9,
   "metadata": {},
   "outputs": [],
   "source": [
    "genetic13 = df13[df13['HCPCS_DESCRIPTION'].str.contains(\"genetic\", na=False)]\n",
    "genetic13.to_csv(datadir + 'genetic13.csv')"
   ]
  },
  {
   "cell_type": "code",
   "execution_count": 15,
   "metadata": {},
   "outputs": [
    {
     "data": {
      "text/plain": [
       "['NPI',\n",
       " 'NPPES_PROVIDER_LAST_ORG_NAME',\n",
       " 'NPPES_PROVIDER_FIRST_NAME',\n",
       " 'NPPES_PROVIDER_MI',\n",
       " 'NPPES_CREDENTIALS',\n",
       " 'NPPES_PROVIDER_GENDER',\n",
       " 'NPPES_ENTITY_CODE',\n",
       " 'NPPES_PROVIDER_STREET1',\n",
       " 'NPPES_PROVIDER_STREET2',\n",
       " 'NPPES_PROVIDER_CITY',\n",
       " 'NPPES_PROVIDER_ZIP',\n",
       " 'NPPES_PROVIDER_STATE',\n",
       " 'NPPES_PROVIDER_COUNTRY',\n",
       " 'PROVIDER_TYPE',\n",
       " 'MEDICARE_PARTICIPATION_INDICATOR',\n",
       " 'PLACE_OF_SERVICE',\n",
       " 'HCPCS_CODE',\n",
       " 'HCPCS_DESCRIPTION',\n",
       " 'HCPCS_DRUG_INDICATOR',\n",
       " 'LINE_SRVC_CNT',\n",
       " 'BENE_UNIQUE_CNT',\n",
       " 'BENE_DAY_SRVC_CNT',\n",
       " 'AVERAGE_MEDICARE_ALLOWED_AMT',\n",
       " 'STDEV_MEDICARE_ALLOWED_AMT',\n",
       " 'AVERAGE_SUBMITTED_CHRG_AMT',\n",
       " 'STDEV_SUBMITTED_CHRG_AMT',\n",
       " 'AVERAGE_MEDICARE_PAYMENT_AMT',\n",
       " 'STDEV_MEDICARE_PAYMENT_AMT\\r']"
      ]
     },
     "execution_count": 15,
     "metadata": {},
     "output_type": "execute_result"
    }
   ],
   "source": [
    "list(df12)"
   ]
  },
  {
   "cell_type": "code",
   "execution_count": 12,
   "metadata": {},
   "outputs": [
    {
     "data": {
      "text/plain": [
       "['npi',\n",
       " 'nppes_provider_last_org_name',\n",
       " 'nppes_provider_first_name',\n",
       " 'nppes_provider_mi',\n",
       " 'nppes_credentials',\n",
       " 'nppes_provider_gender',\n",
       " 'nppes_entity_code',\n",
       " 'nppes_provider_street1',\n",
       " 'nppes_provider_street2',\n",
       " 'nppes_provider_city',\n",
       " 'nppes_provider_zip',\n",
       " 'nppes_provider_state',\n",
       " 'nppes_provider_country',\n",
       " 'provider_type',\n",
       " 'medicare_participation_indicator',\n",
       " 'place_of_service',\n",
       " 'hcpcs_code',\n",
       " 'hcpcs_description',\n",
       " 'hcpcs_drug_indicator',\n",
       " 'line_srvc_cnt',\n",
       " 'bene_unique_cnt',\n",
       " 'bene_day_srvc_cnt',\n",
       " 'average_Medicare_allowed_amt',\n",
       " 'average_submitted_chrg_amt',\n",
       " 'average_Medicare_payment_amt',\n",
       " 'average_Medicare_standard_amt\\r']"
      ]
     },
     "execution_count": 12,
     "metadata": {},
     "output_type": "execute_result"
    }
   ],
   "source": [
    "list(df14)"
   ]
  },
  {
   "cell_type": "code",
   "execution_count": 13,
   "metadata": {},
   "outputs": [],
   "source": [
    "genetic14 = df14[df14['hcpcs_description'].str.contains(\"genetic\", na=False)]\n",
    "genetic14.to_csv(datadir + 'genetic14.csv')"
   ]
  },
  {
   "cell_type": "code",
   "execution_count": 14,
   "metadata": {},
   "outputs": [],
   "source": [
    "genetic15 = df15[df15['hcpcs_description'].str.contains(\"genetic\", na=False)]\n",
    "genetic15.to_csv(datadir + 'genetic15.csv')"
   ]
  },
  {
   "cell_type": "code",
   "execution_count": 18,
   "metadata": {},
   "outputs": [],
   "source": [
    "oncpath12 = df12[df12['PROVIDER_TYPE'].str.contains(\"Pathology\", na=False) | df12['PROVIDER_TYPE'].str.contains(\"Oncology\", na=False)]\n",
    "oncpath12.shape\n",
    "oncpath12.to_csv(datadir + 'oncpath12.csv')"
   ]
  },
  {
   "cell_type": "code",
   "execution_count": 19,
   "metadata": {},
   "outputs": [],
   "source": [
    "oncpath13 = df13[df13['PROVIDER_TYPE'].str.contains(\"Pathology\", na=False) | df13['PROVIDER_TYPE'].str.contains(\"Oncology\", na=False)]\n",
    "oncpath13.shape\n",
    "oncpath13.to_csv(datadir + 'oncpath13.csv')"
   ]
  },
  {
   "cell_type": "code",
   "execution_count": 21,
   "metadata": {},
   "outputs": [],
   "source": [
    "oncpath14 = df14[df14['provider_type'].str.contains(\"Pathology\", na=False) | df14['provider_type'].str.contains(\"Oncology\", na=False)]\n",
    "oncpath14.to_csv(datadir + 'oncpath14.csv')"
   ]
  },
  {
   "cell_type": "code",
   "execution_count": 22,
   "metadata": {},
   "outputs": [],
   "source": [
    "oncpath15 = df15[df15['provider_type'].str.contains(\"Pathology\", na=False) | df15['provider_type'].str.contains(\"Oncology\", na=False)]\n",
    "oncpath15.to_csv(datadir + 'oncpath15.csv')"
   ]
  },
  {
   "cell_type": "code",
   "execution_count": null,
   "metadata": {},
   "outputs": [],
   "source": []
  },
  {
   "cell_type": "code",
   "execution_count": null,
   "metadata": {},
   "outputs": [],
   "source": []
  },
  {
   "cell_type": "code",
   "execution_count": null,
   "metadata": {},
   "outputs": [],
   "source": []
  },
  {
   "cell_type": "code",
   "execution_count": null,
   "metadata": {},
   "outputs": [],
   "source": []
  },
  {
   "cell_type": "code",
   "execution_count": null,
   "metadata": {},
   "outputs": [],
   "source": []
  },
  {
   "cell_type": "code",
   "execution_count": null,
   "metadata": {},
   "outputs": [],
   "source": []
  },
  {
   "cell_type": "code",
   "execution_count": null,
   "metadata": {},
   "outputs": [],
   "source": []
  },
  {
   "cell_type": "code",
   "execution_count": null,
   "metadata": {},
   "outputs": [],
   "source": []
  },
  {
   "cell_type": "code",
   "execution_count": null,
   "metadata": {
    "scrolled": true
   },
   "outputs": [],
   "source": [
    "# gsheetname = 'specialist_genetic_tests'\n",
    "# book = client.open(gsheetname)\n",
    "# sheet_name =\"Subset\"\n",
    "# sheet = gsheet.worksheet(sheet_name)\n",
    "# df = pd.DataFrame(sheet.get_all_records())\n",
    "# df"
   ]
  },
  {
   "cell_type": "code",
   "execution_count": null,
   "metadata": {},
   "outputs": [],
   "source": [
    "# provider13_sheet = book.add_worksheet(title=\"2013_provider_counts\", rows=\"100\", cols=\"20\")"
   ]
  },
  {
   "cell_type": "code",
   "execution_count": null,
   "metadata": {},
   "outputs": [],
   "source": [
    "# for row in provider13.iterrows():\n",
    "#     provider13_sheet.append_row(row[1].tolist())"
   ]
  }
 ],
 "metadata": {
  "kernelspec": {
   "display_name": "Python 3",
   "language": "python",
   "name": "python3"
  },
  "language_info": {
   "codemirror_mode": {
    "name": "ipython",
    "version": 3
   },
   "file_extension": ".py",
   "mimetype": "text/x-python",
   "name": "python",
   "nbconvert_exporter": "python",
   "pygments_lexer": "ipython3",
   "version": "3.6.4"
  }
 },
 "nbformat": 4,
 "nbformat_minor": 2
}
