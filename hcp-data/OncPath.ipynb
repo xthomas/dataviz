{
 "cells": [
  {
   "cell_type": "code",
   "execution_count": 14,
   "metadata": {},
   "outputs": [],
   "source": [
    "import pandas as pd\n",
    "import numpy as np\n",
    "import matplotlib.pyplot as plt\n",
    "from matplotlib.pyplot import figure, show\n",
    "import seaborn as sns"
   ]
  },
  {
   "cell_type": "code",
   "execution_count": 38,
   "metadata": {},
   "outputs": [],
   "source": [
    "# setup directories\n",
    "\n",
    "datadir = '/home/xavier/data/claims/'\n",
    "\n",
    "# year12 = 'Medicare_Provider_Util_Payment_PUF_CY2012.txt'\n",
    "# year13 = 'Medicare_Provider_Util_Payment_PUF_CY2013.txt'\n",
    "# year14 = 'Medicare_Provider_Util_Payment_PUF_CY2014.txt'\n",
    "year15 = 'Medicare_Provider_Util_Payment_PUF_CY2015.txt'\n",
    "\n",
    "cancer_doctor_types = 'cancer_doctor_types.csv'\n",
    "\n",
    "fields_lowercase = ['npi','nppes_provider_street1','nppes_provider_street2','provider_type','hcpcs_code','hcpcs_description','line_srvc_cnt']\n",
    "\n"
   ]
  },
  {
   "cell_type": "markdown",
   "metadata": {},
   "source": [
    "# Medicare Provider Utilization and Payment Data: Physician and Other Supplier PUF CY2015\n",
    "\n",
    "\n",
    "> The Centers for Medicare & Medicaid Services (CMS) has prepared a public data set, the Provider Utilization and Payment Data Physician and Other Supplier Public Use File (herein referred to as “Physician and Other Supplier PUF”), with information on services and procedures provided to Medicare beneficiaries by physicians and other healthcare professionals. T\n",
    "\n",
    "+ this Public Dataset [can be downloaded](https://data.cms.gov/Medicare-Physician-Supplier/Medicare-Provider-Utilization-and-Payment-Data-Phy/sk9b-znav)\n",
    "+ What's in this DataSet?\n",
    "\n",
    "| Rows | Columns | Each row is a | \n",
    "| - - - | - - - | - - - | \n",
    "| 9.5M | 26 | Physician/HCPCS | \n",
    "\n",
    "\n",
    "\n"
   ]
  },
  {
   "cell_type": "code",
   "execution_count": 3,
   "metadata": {},
   "outputs": [],
   "source": [
    "# load all physican data\n",
    "df15 = pd.read_csv(datadir + year15, usecols=fields_lowercase, sep='\\t', lineterminator='\\n')"
   ]
  },
  {
   "cell_type": "code",
   "execution_count": 52,
   "metadata": {},
   "outputs": [
    {
     "data": {
      "text/plain": [
       "1                           Internal Medicine\n",
       "15                        Hematology/Oncology\n",
       "18                                  Pathology\n",
       "21                        Clinical Laboratory\n",
       "29                         Radiation Oncology\n",
       "35                           Medical Oncology\n",
       "44    Independent Diagnostic Testing Facility\n",
       "62                     Gynecological/Oncology\n",
       "64                                 Hematology\n",
       "Name: PROVIDER_TYPE, dtype: object"
      ]
     },
     "execution_count": 52,
     "metadata": {},
     "output_type": "execute_result"
    }
   ],
   "source": [
    "# load the physican types which are marked as \"likely to treat cancer\"\n",
    "# (NOTE: this was an arbitrary selection, but seems decent to start with)\n",
    "all_treaters = pd.read_csv(datadir + cancer_doctor_types)\n",
    "marked_cancer = all_treaters[all_treaters[\"CANCER_TESTS\"]==\"yes\"]\n",
    "cancer_treater_list = marked_cancer.PROVIDER_TYPE\n",
    "cancer_treater_list"
   ]
  },
  {
   "cell_type": "code",
   "execution_count": 6,
   "metadata": {},
   "outputs": [
    {
     "data": {
      "text/plain": [
       "['npi',\n",
       " 'nppes_provider_street1',\n",
       " 'nppes_provider_street2',\n",
       " 'provider_type',\n",
       " 'hcpcs_code',\n",
       " 'hcpcs_description',\n",
       " 'line_srvc_cnt']"
      ]
     },
     "execution_count": 6,
     "metadata": {},
     "output_type": "execute_result"
    }
   ],
   "source": [
    "# list the loaded column names \n",
    "list(df15)"
   ]
  },
  {
   "cell_type": "code",
   "execution_count": 7,
   "metadata": {},
   "outputs": [
    {
     "data": {
      "text/html": [
       "<div>\n",
       "<style scoped>\n",
       "    .dataframe tbody tr th:only-of-type {\n",
       "        vertical-align: middle;\n",
       "    }\n",
       "\n",
       "    .dataframe tbody tr th {\n",
       "        vertical-align: top;\n",
       "    }\n",
       "\n",
       "    .dataframe thead th {\n",
       "        text-align: right;\n",
       "    }\n",
       "</style>\n",
       "<table border=\"1\" class=\"dataframe\">\n",
       "  <thead>\n",
       "    <tr style=\"text-align: right;\">\n",
       "      <th></th>\n",
       "      <th>npi</th>\n",
       "      <th>nppes_provider_street1</th>\n",
       "      <th>nppes_provider_street2</th>\n",
       "      <th>provider_type</th>\n",
       "      <th>hcpcs_code</th>\n",
       "      <th>hcpcs_description</th>\n",
       "      <th>line_srvc_cnt</th>\n",
       "    </tr>\n",
       "  </thead>\n",
       "  <tbody>\n",
       "    <tr>\n",
       "      <th>0</th>\n",
       "      <td>1</td>\n",
       "      <td>NaN</td>\n",
       "      <td>NaN</td>\n",
       "      <td>NaN</td>\n",
       "      <td>NaN</td>\n",
       "      <td>NaN</td>\n",
       "      <td>NaN</td>\n",
       "    </tr>\n",
       "    <tr>\n",
       "      <th>1</th>\n",
       "      <td>1003000126</td>\n",
       "      <td>900 SETON DR</td>\n",
       "      <td>NaN</td>\n",
       "      <td>Internal Medicine</td>\n",
       "      <td>99217</td>\n",
       "      <td>Hospital observation care discharge</td>\n",
       "      <td>23.0</td>\n",
       "    </tr>\n",
       "    <tr>\n",
       "      <th>2</th>\n",
       "      <td>1003000126</td>\n",
       "      <td>900 SETON DR</td>\n",
       "      <td>NaN</td>\n",
       "      <td>Internal Medicine</td>\n",
       "      <td>99219</td>\n",
       "      <td>Hospital observation care typically 50 minutes</td>\n",
       "      <td>18.0</td>\n",
       "    </tr>\n",
       "    <tr>\n",
       "      <th>3</th>\n",
       "      <td>1003000126</td>\n",
       "      <td>900 SETON DR</td>\n",
       "      <td>NaN</td>\n",
       "      <td>Internal Medicine</td>\n",
       "      <td>99221</td>\n",
       "      <td>Initial hospital inpatient care, typically 30 ...</td>\n",
       "      <td>59.0</td>\n",
       "    </tr>\n",
       "    <tr>\n",
       "      <th>4</th>\n",
       "      <td>1003000126</td>\n",
       "      <td>900 SETON DR</td>\n",
       "      <td>NaN</td>\n",
       "      <td>Internal Medicine</td>\n",
       "      <td>99222</td>\n",
       "      <td>Initial hospital inpatient care, typically 50 ...</td>\n",
       "      <td>132.0</td>\n",
       "    </tr>\n",
       "  </tbody>\n",
       "</table>\n",
       "</div>"
      ],
      "text/plain": [
       "          npi nppes_provider_street1 nppes_provider_street2  \\\n",
       "0           1                    NaN                    NaN   \n",
       "1  1003000126           900 SETON DR                    NaN   \n",
       "2  1003000126           900 SETON DR                    NaN   \n",
       "3  1003000126           900 SETON DR                    NaN   \n",
       "4  1003000126           900 SETON DR                    NaN   \n",
       "\n",
       "       provider_type hcpcs_code  \\\n",
       "0                NaN        NaN   \n",
       "1  Internal Medicine      99217   \n",
       "2  Internal Medicine      99219   \n",
       "3  Internal Medicine      99221   \n",
       "4  Internal Medicine      99222   \n",
       "\n",
       "                                   hcpcs_description  line_srvc_cnt  \n",
       "0                                                NaN            NaN  \n",
       "1                Hospital observation care discharge           23.0  \n",
       "2     Hospital observation care typically 50 minutes           18.0  \n",
       "3  Initial hospital inpatient care, typically 30 ...           59.0  \n",
       "4  Initial hospital inpatient care, typically 50 ...          132.0  "
      ]
     },
     "execution_count": 7,
     "metadata": {},
     "output_type": "execute_result"
    }
   ],
   "source": [
    "df15.head()"
   ]
  },
  {
   "cell_type": "markdown",
   "metadata": {},
   "source": [
    "# Starting with the Topline: \n",
    "## 1) Types of HCPs in dataset\n",
    "## 2) Oncologist & Pathologist claims vs total claims"
   ]
  },
  {
   "cell_type": "code",
   "execution_count": 35,
   "metadata": {
    "scrolled": true
   },
   "outputs": [
    {
     "data": {
      "text/plain": [
       "(91, 2)"
      ]
     },
     "execution_count": 35,
     "metadata": {},
     "output_type": "execute_result"
    }
   ],
   "source": [
    "# find all doctor types\n",
    "all_doctors = df15.groupby(\"provider_type\").size().reset_index(name='count')\n",
    "all_doctors.sort_values(by='count', ascending=False,inplace=True)\n",
    "all_doctors.shape"
   ]
  },
  {
   "cell_type": "code",
   "execution_count": 36,
   "metadata": {},
   "outputs": [],
   "source": [
    "# Export doctors types\n",
    "# all_doctors.to_csv(datadir + 'all_doctor_types.csv')"
   ]
  },
  {
   "cell_type": "code",
   "execution_count": 31,
   "metadata": {},
   "outputs": [],
   "source": [
    "# group Top 20 doctor types\n",
    "top_doctor_types = all_doctors.head(21)"
   ]
  },
  {
   "cell_type": "code",
   "execution_count": 33,
   "metadata": {},
   "outputs": [
    {
     "data": {
      "image/png": "[encoded data removed]",
      "text/plain": [
       "<Figure size 1008x360 with 1 Axes>"
      ]
     },
     "metadata": {},
     "output_type": "display_data"
    }
   ],
   "source": [
    "# Plot the Top 20 Doctor types (making the most claims) \n",
    "width=14\n",
    "height=5\n",
    "figure(figsize=(width,height))\n",
    "\n",
    "ax = sns.barplot(x=top_doctor_types[\"provider_type\"], y=top_doctor_types[\"count\"],palette=\"Greens_d\")\n",
    "\n",
    "plt.xticks(rotation= 85,fontsize=15)\n",
    "plt.xlabel('Types of Doctors',fontsize=25)\n",
    "plt.ylabel('# of Claims',fontsize=25)\n",
    "plt.title('Top Doctor Types (by total claims)',fontsize=30)\n",
    "\n",
    "# Show the plot\n",
    "plt.show()"
   ]
  },
  {
   "cell_type": "markdown",
   "metadata": {},
   "source": [
    "### FINDING ➜ Pathologists & Oncologists make it into the Top 20 (of total claims, by Doctor Type)"
   ]
  },
  {
   "cell_type": "code",
   "execution_count": 82,
   "metadata": {},
   "outputs": [],
   "source": [
    "# sum up to the total number\n",
    "# of claims for ALL doctors vs. CANCER TREATERS\n",
    "\n",
    "total_claims = df15.line_srvc_cnt.sum()\n",
    "cancer_treaters = df15.loc[df15['provider_type'].isin(cancer_treater_list)]\n",
    "cancer_claims = cancer_treaters.line_srvc_cnt.sum()"
   ]
  },
  {
   "cell_type": "code",
   "execution_count": 83,
   "metadata": {},
   "outputs": [
    {
     "data": {
      "text/html": [
       "<div>\n",
       "<style scoped>\n",
       "    .dataframe tbody tr th:only-of-type {\n",
       "        vertical-align: middle;\n",
       "    }\n",
       "\n",
       "    .dataframe tbody tr th {\n",
       "        vertical-align: top;\n",
       "    }\n",
       "\n",
       "    .dataframe thead th {\n",
       "        text-align: right;\n",
       "    }\n",
       "</style>\n",
       "<table border=\"1\" class=\"dataframe\">\n",
       "  <thead>\n",
       "    <tr style=\"text-align: right;\">\n",
       "      <th></th>\n",
       "      <th>CLAIMS</th>\n",
       "      <th>AMOUNT</th>\n",
       "    </tr>\n",
       "  </thead>\n",
       "  <tbody>\n",
       "    <tr>\n",
       "      <th>0</th>\n",
       "      <td>Claims from All Doctors</td>\n",
       "      <td>2.359294e+09</td>\n",
       "    </tr>\n",
       "    <tr>\n",
       "      <th>1</th>\n",
       "      <td>Claims from Cancer Treaters</td>\n",
       "      <td>9.218618e+08</td>\n",
       "    </tr>\n",
       "  </tbody>\n",
       "</table>\n",
       "</div>"
      ],
      "text/plain": [
       "                        CLAIMS        AMOUNT\n",
       "0      Claims from All Doctors  2.359294e+09\n",
       "1  Claims from Cancer Treaters  9.218618e+08"
      ]
     },
     "execution_count": 83,
     "metadata": {},
     "output_type": "execute_result"
    }
   ],
   "source": [
    "# prepare to plot this\n",
    "raw_data = {'CLAIMS': ['Claims from All Doctors', 'Claims from Cancer Treaters'], \n",
    "        'AMOUNT': [total_claims, cancer_claims]}\n",
    "claims_comparison = pd.DataFrame(raw_data, columns = ['CLAIMS', 'AMOUNT'])\n",
    "claims_comparison"
   ]
  },
  {
   "cell_type": "code",
   "execution_count": 91,
   "metadata": {},
   "outputs": [
    {
     "data": {
      "text/plain": [
       "Text(0.5,1,'Total Claims vs. Cancer Treater Claims')"
      ]
     },
     "execution_count": 91,
     "metadata": {},
     "output_type": "execute_result"
    },
    {
     "data": {
      "image/png": "[encoded data removed]",
      "text/plain": [
       "<Figure size 1008x360 with 1 Axes>"
      ]
     },
     "metadata": {},
     "output_type": "display_data"
    }
   ],
   "source": [
    "# Plot the Total Claims vs. the Cancer Claims \n",
    "width=14\n",
    "height=5\n",
    "figure(figsize=(width,height))\n",
    "\n",
    "p = sns.barplot(x=claims_comparison[\"CLAIMS\"], y  = claims_comparison[\"AMOUNT\"])\n",
    "\n",
    "plt.ticklabel_format(style='plain', axis='y')\n",
    "plt.xticks(fontsize=15)\n",
    "plt.ylabel('# of Claims',fontsize=20)\n",
    "plt.title('Total Claims vs. Cancer Treater Claims',fontsize=30)\n",
    "\n",
    "\n"
   ]
  },
  {
   "cell_type": "markdown",
   "metadata": {},
   "source": [
    "### FINDING ➜ When comparing the claims from Doctors most likley to test for cancer to the total, a surprising number of the claims cames from Cancer Treaters. \n",
    "\n",
    "+ This is likely because \"Cancer Treaters\" includes the broad category of **\"Internal Medicine\"**, adding a lot of bulk to that number "
   ]
  },
  {
   "cell_type": "markdown",
   "metadata": {},
   "source": [
    "- - -\n",
    "# Next, looking at \"Cancer Treater\" services: \n",
    "## 1) Top Oncologist / Pathologist Services...\n",
    "## 2) ...compared to top genetic tests by same doctors"
   ]
  },
  {
   "cell_type": "code",
   "execution_count": null,
   "metadata": {},
   "outputs": [],
   "source": [
    "# genetic12 = df12[df12['HCPCS_DESCRIPTION'].str.contains(\"genetic\", na=False)]"
   ]
  },
  {
   "cell_type": "code",
   "execution_count": null,
   "metadata": {},
   "outputs": [],
   "source": []
  },
  {
   "cell_type": "code",
   "execution_count": null,
   "metadata": {},
   "outputs": [],
   "source": []
  },
  {
   "cell_type": "code",
   "execution_count": null,
   "metadata": {
    "scrolled": true
   },
   "outputs": [],
   "source": [
    "df15.head(10)"
   ]
  },
  {
   "cell_type": "code",
   "execution_count": null,
   "metadata": {},
   "outputs": [],
   "source": [
    "list(df15)"
   ]
  },
  {
   "cell_type": "code",
   "execution_count": null,
   "metadata": {},
   "outputs": [],
   "source": [
    "genetic15 = df15[df15['hcpcs_description'].str.contains(\"genetic\", na=False)]"
   ]
  },
  {
   "cell_type": "code",
   "execution_count": null,
   "metadata": {},
   "outputs": [],
   "source": [
    "test_type15 = genetic15.groupby('hcpcs_description').size().reset_index(name='count')\n",
    "test_type15.sort_values(by='count', ascending=False,inplace=True)\n",
    "test_type15"
   ]
  },
  {
   "cell_type": "code",
   "execution_count": null,
   "metadata": {},
   "outputs": [],
   "source": [
    "tumors15 = genetic15[genetic15['hcpcs_description'].str.contains(\"Microscopic genetic analysis of tumor\", na=False)]\n",
    "tumors15.groupby('provider_type').size()"
   ]
  },
  {
   "cell_type": "code",
   "execution_count": null,
   "metadata": {},
   "outputs": [],
   "source": [
    "report15 = genetic15[genetic15['hcpcs_description'].str.contains(\"Interpretation and report of genetic testing\", na=False)]\n",
    "report15.groupby('provider_type').size()"
   ]
  },
  {
   "cell_type": "code",
   "execution_count": null,
   "metadata": {},
   "outputs": [],
   "source": [
    "tumors15"
   ]
  },
  {
   "cell_type": "code",
   "execution_count": null,
   "metadata": {
    "scrolled": true
   },
   "outputs": [],
   "source": [
    "# List the addresses of tumor claims\n",
    "\n",
    "tumors15.nppes_provider_street1"
   ]
  },
  {
   "cell_type": "markdown",
   "metadata": {},
   "source": [
    "## LOAD THE 215 RESEARCH CLINICS, TO MATCH ADDRESSES\n",
    "\n"
   ]
  },
  {
   "cell_type": "code",
   "execution_count": null,
   "metadata": {},
   "outputs": [],
   "source": [
    "research = pd.read_csv(datadir + '215_research_clinics.csv')\n",
    "research.shape"
   ]
  },
  {
   "cell_type": "code",
   "execution_count": null,
   "metadata": {},
   "outputs": [],
   "source": [
    "# convert two address columns to Series\n",
    "research_mailing_address = pd.Series(research['Mailing Address'])\n",
    "research_practice_address = pd.Series(research['Practice Address'])"
   ]
  },
  {
   "cell_type": "code",
   "execution_count": null,
   "metadata": {},
   "outputs": [],
   "source": [
    "# perform matching\n",
    "(\n",
    "    tumors15.nppes_provider_street1.isin(research_mailing_address) |\n",
    "    tumors15.nppes_provider_street1.isin(research_practice_address)\n",
    ").value_counts()"
   ]
  },
  {
   "cell_type": "markdown",
   "metadata": {},
   "source": [
    "So of the **4126** tumor tests, 12 came from research clinics"
   ]
  },
  {
   "cell_type": "code",
   "execution_count": null,
   "metadata": {},
   "outputs": [],
   "source": [
    "(\n",
    "    genetic15.nppes_provider_street1.isin(research_mailing_address) |\n",
    "    genetic15.nppes_provider_street1.isin(research_practice_address)\n",
    ").value_counts()"
   ]
  },
  {
   "cell_type": "markdown",
   "metadata": {},
   "source": [
    "# LOAD THE 25,659 Oncology clinics, to match addresses"
   ]
  },
  {
   "cell_type": "code",
   "execution_count": null,
   "metadata": {},
   "outputs": [],
   "source": [
    "onclinics = pd.read_csv(datadir + '25K-oncology-deduped.csv')\n",
    "onclinics.shape"
   ]
  },
  {
   "cell_type": "code",
   "execution_count": null,
   "metadata": {},
   "outputs": [],
   "source": [
    "list(onclinics)"
   ]
  },
  {
   "cell_type": "code",
   "execution_count": null,
   "metadata": {},
   "outputs": [],
   "source": [
    "onclinic_address = pd.Series(onclinics.ADDRESS)"
   ]
  },
  {
   "cell_type": "code",
   "execution_count": null,
   "metadata": {},
   "outputs": [],
   "source": [
    "onclinic_address"
   ]
  },
  {
   "cell_type": "code",
   "execution_count": null,
   "metadata": {},
   "outputs": [],
   "source": [
    "genetic15.nppes_provider_street1.isin(onclinic_address).value_counts()"
   ]
  },
  {
   "cell_type": "code",
   "execution_count": null,
   "metadata": {},
   "outputs": [],
   "source": [
    "3293+3236"
   ]
  },
  {
   "cell_type": "code",
   "execution_count": null,
   "metadata": {},
   "outputs": [],
   "source": [
    "# convert two address columns to Series\n",
    "onclinics_mailing_address = pd.Series(onclinics['Mailing Address'])\n",
    "onclinics_practice_address = pd.Series(onclinics['Practice Address'])"
   ]
  },
  {
   "cell_type": "code",
   "execution_count": null,
   "metadata": {},
   "outputs": [],
   "source": [
    "# perform matching\n",
    "(\n",
    "    tumors15.nppes_provider_street1.isin(onclinics_mailing_address) |\n",
    "    tumors15.nppes_provider_street1.isin(onclinics_practice_address)\n",
    ").value_counts()"
   ]
  },
  {
   "cell_type": "code",
   "execution_count": null,
   "metadata": {},
   "outputs": [],
   "source": [
    "list(onclinics)"
   ]
  },
  {
   "cell_type": "code",
   "execution_count": null,
   "metadata": {},
   "outputs": [],
   "source": [
    "1952+2174"
   ]
  },
  {
   "cell_type": "code",
   "execution_count": null,
   "metadata": {},
   "outputs": [],
   "source": []
  },
  {
   "cell_type": "code",
   "execution_count": null,
   "metadata": {},
   "outputs": [],
   "source": []
  },
  {
   "cell_type": "code",
   "execution_count": null,
   "metadata": {},
   "outputs": [],
   "source": []
  },
  {
   "cell_type": "code",
   "execution_count": null,
   "metadata": {},
   "outputs": [],
   "source": [
    "tumors15.nppes_provider_street1.isin(research_practice_address).value_counts()"
   ]
  },
  {
   "cell_type": "code",
   "execution_count": null,
   "metadata": {},
   "outputs": [],
   "source": []
  },
  {
   "cell_type": "code",
   "execution_count": null,
   "metadata": {},
   "outputs": [],
   "source": []
  },
  {
   "cell_type": "code",
   "execution_count": null,
   "metadata": {},
   "outputs": [],
   "source": []
  },
  {
   "cell_type": "code",
   "execution_count": null,
   "metadata": {},
   "outputs": [],
   "source": [
    "peachtree = tumors15.nppes_provider_street1.str.contains(\"1968 PEACHTREE RD NW\")\n",
    "tumors15[peachtree]"
   ]
  },
  {
   "cell_type": "code",
   "execution_count": null,
   "metadata": {},
   "outputs": [],
   "source": [
    "tumors15.nppes_provider_street1.isin([\"1968 PEACHTREE RD NW\",\"1 MEDICAL CENTER DR\"]).value_counts()"
   ]
  },
  {
   "cell_type": "code",
   "execution_count": null,
   "metadata": {},
   "outputs": [],
   "source": []
  },
  {
   "cell_type": "code",
   "execution_count": null,
   "metadata": {},
   "outputs": [],
   "source": []
  },
  {
   "cell_type": "code",
   "execution_count": null,
   "metadata": {},
   "outputs": [],
   "source": []
  },
  {
   "cell_type": "code",
   "execution_count": null,
   "metadata": {},
   "outputs": [],
   "source": []
  },
  {
   "cell_type": "code",
   "execution_count": null,
   "metadata": {},
   "outputs": [],
   "source": []
  },
  {
   "cell_type": "code",
   "execution_count": null,
   "metadata": {},
   "outputs": [],
   "source": []
  },
  {
   "cell_type": "code",
   "execution_count": null,
   "metadata": {},
   "outputs": [],
   "source": [
    "entities = df15.groupby('nppes_entity_code').size().reset_index(name='count')\n",
    "entities.sort_values(by='count', ascending=False,inplace=True)\n",
    "entities"
   ]
  },
  {
   "cell_type": "code",
   "execution_count": null,
   "metadata": {},
   "outputs": [],
   "source": [
    "providers = df15.groupby('provider_type').size().reset_index(name='count')\n",
    "providers.sort_values(by='count', ascending=False,inplace=True)\n",
    "providers"
   ]
  },
  {
   "cell_type": "code",
   "execution_count": null,
   "metadata": {},
   "outputs": [],
   "source": []
  },
  {
   "cell_type": "code",
   "execution_count": null,
   "metadata": {},
   "outputs": [],
   "source": []
  },
  {
   "cell_type": "code",
   "execution_count": null,
   "metadata": {},
   "outputs": [],
   "source": []
  },
  {
   "cell_type": "code",
   "execution_count": null,
   "metadata": {},
   "outputs": [],
   "source": []
  },
  {
   "cell_type": "code",
   "execution_count": null,
   "metadata": {},
   "outputs": [],
   "source": []
  },
  {
   "cell_type": "code",
   "execution_count": null,
   "metadata": {},
   "outputs": [],
   "source": []
  },
  {
   "cell_type": "code",
   "execution_count": null,
   "metadata": {},
   "outputs": [],
   "source": []
  },
  {
   "cell_type": "code",
   "execution_count": null,
   "metadata": {},
   "outputs": [],
   "source": []
  },
  {
   "cell_type": "code",
   "execution_count": null,
   "metadata": {},
   "outputs": [],
   "source": []
  },
  {
   "cell_type": "code",
   "execution_count": null,
   "metadata": {},
   "outputs": [],
   "source": []
  },
  {
   "cell_type": "code",
   "execution_count": null,
   "metadata": {},
   "outputs": [],
   "source": []
  },
  {
   "cell_type": "code",
   "execution_count": null,
   "metadata": {},
   "outputs": [],
   "source": []
  },
  {
   "cell_type": "code",
   "execution_count": null,
   "metadata": {},
   "outputs": [],
   "source": []
  },
  {
   "cell_type": "code",
   "execution_count": null,
   "metadata": {},
   "outputs": [],
   "source": []
  },
  {
   "cell_type": "code",
   "execution_count": null,
   "metadata": {},
   "outputs": [],
   "source": []
  },
  {
   "cell_type": "code",
   "execution_count": null,
   "metadata": {},
   "outputs": [],
   "source": []
  },
  {
   "cell_type": "code",
   "execution_count": null,
   "metadata": {},
   "outputs": [],
   "source": []
  },
  {
   "cell_type": "code",
   "execution_count": null,
   "metadata": {},
   "outputs": [],
   "source": []
  },
  {
   "cell_type": "code",
   "execution_count": null,
   "metadata": {},
   "outputs": [],
   "source": []
  },
  {
   "cell_type": "code",
   "execution_count": null,
   "metadata": {},
   "outputs": [],
   "source": []
  },
  {
   "cell_type": "code",
   "execution_count": null,
   "metadata": {},
   "outputs": [],
   "source": []
  },
  {
   "cell_type": "code",
   "execution_count": null,
   "metadata": {},
   "outputs": [],
   "source": []
  },
  {
   "cell_type": "code",
   "execution_count": null,
   "metadata": {},
   "outputs": [],
   "source": []
  }
 ],
 "metadata": {
  "kernelspec": {
   "display_name": "Python 3",
   "language": "python",
   "name": "python3"
  },
  "language_info": {
   "codemirror_mode": {
    "name": "ipython",
    "version": 3
   },
   "file_extension": ".py",
   "mimetype": "text/x-python",
   "name": "python",
   "nbconvert_exporter": "python",
   "pygments_lexer": "ipython3",
   "version": "3.6.4"
  }
 },
 "nbformat": 4,
 "nbformat_minor": 2
}
