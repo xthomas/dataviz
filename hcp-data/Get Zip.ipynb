{
 "cells": [
  {
   "cell_type": "code",
   "execution_count": 1,
   "metadata": {},
   "outputs": [],
   "source": [
    "from urllib.request import urlopen\n",
    "from bs4 import BeautifulSoup\n",
    "import urllib"
   ]
  },
  {
   "cell_type": "code",
   "execution_count": 2,
   "metadata": {},
   "outputs": [],
   "source": [
    "# set web page to scrape\n",
    "url = 'https://data.medicare.gov/data/archives/physician-compare'\n",
    "\n",
    "# set download directory for files\n",
    "out = u'/Users/xthomas/Documents/data/data.medicare.gov_data_archives_physician-compare/'\n",
    "\n",
    "# set file extension to scrape\n",
    "filext = u'.zip'"
   ]
  },
  {
   "cell_type": "code",
   "execution_count": 3,
   "metadata": {},
   "outputs": [],
   "source": [
    "def downloadFile(input,output):\n",
    "    url = input\n",
    "    split = urllib.parse.urlsplit(url)\n",
    "    filename = output + split.path.split(\"/\")[-1]\n",
    "    urllib.request.urlretrieve(url, filename)"
   ]
  },
  {
   "cell_type": "code",
   "execution_count": 4,
   "metadata": {},
   "outputs": [
    {
     "name": "stderr",
     "output_type": "stream",
     "text": [
      "/anaconda3/lib/python3.6/site-packages/bs4/__init__.py:181: UserWarning: No parser was explicitly specified, so I'm using the best available HTML parser for this system (\"lxml\"). This usually isn't a problem, but if you run this code on another system, or in a different virtual environment, it may use a different parser and behave differently.\n",
      "\n",
      "The code that caused this warning is on line 193 of the file /anaconda3/lib/python3.6/runpy.py. To get rid of this warning, change code that looks like this:\n",
      "\n",
      " BeautifulSoup(YOUR_MARKUP})\n",
      "\n",
      "to this:\n",
      "\n",
      " BeautifulSoup(YOUR_MARKUP, \"lxml\")\n",
      "\n",
      "  markup_type=markup_type))\n"
     ]
    }
   ],
   "source": [
    "# open page, look for links\n",
    "\n",
    "conn = urlopen(url)\n",
    "html = conn.read()\n",
    "soup = BeautifulSoup(html)\n",
    "links = soup.find_all('a')"
   ]
  },
  {
   "cell_type": "code",
   "execution_count": 5,
   "metadata": {},
   "outputs": [
    {
     "name": "stdout",
     "output_type": "stream",
     "text": [
      "#content\n",
      "#site-chrome-footer\n",
      "/\n",
      "/login\n",
      "/\n",
      "/get-started\n",
      "/about\n",
      "/developers\n",
      "#\n",
      "#\n",
      "/\n",
      "/get-started\n",
      "/about\n",
      "/developers\n",
      "/login\n",
      "https://medicare.gov/download/PhysicianCompare/2017/Refresh_Data_Archive_10_2017.zip\n",
      "Found a file to download!\n",
      "https://medicare.gov/download/PhysicianCompare/2017/Refresh_Data_Archive_07_2017.zip\n",
      "Found a file to download!\n",
      "https://medicare.gov/download/PhysicianCompare/2017/Refresh_Data_Archive_04_2017.zip\n",
      "Found a file to download!\n",
      "https://medicare.gov/download/PhysicianCompare/2016/Refresh_Data_Archive_12_2016.zip\n",
      "Found a file to download!\n",
      "https://medicare.gov/download/PhysicianCompare/2016/Refresh_Data_Archive_10_2016.zip\n",
      "Found a file to download!\n",
      "https://medicare.gov/download/PhysicianCompare/2016/Refresh_Data_Archive_07_2016.zip\n",
      "Found a file to download!\n",
      "https://medicare.gov/download/PhysicianCompare/2016/Refresh_Data_Archive_April_2016_1.zip\n",
      "Found a file to download!\n",
      "http://medicare.gov/download/PhysicianCompare/2015/Refresh_Data_Archive_November_2015_1.zip\n",
      "Found a file to download!\n",
      "http://medicare.gov/download/PhysicianCompare/2015/Refresh_Data_Archive_October_2015_1.zip\n",
      "Found a file to download!\n",
      "http://medicare.gov/download/PhysicianCompare/2015/Refresh_Data_Archive_July_2015_1.zip\n",
      "Found a file to download!\n",
      "http://medicare.gov/download/PhysicianCompare/2015/Refresh_Data_Archive_April_2015_1.zip\n",
      "Found a file to download!\n",
      "http://medicare.gov/download/PhysicianCompare/2014/Refresh_Data_Archive_December_2014.zip\n",
      "Found a file to download!\n",
      "http://www.medicare.gov/download/PhysicianCompare/2014/Refresh_Data_Archive_September_2014.zip\n",
      "Found a file to download!\n",
      "http://www.medicare.gov/download/PhysicianCompare/2014/Refresh_Data_Archive_June_2014.zip\n",
      "Found a file to download!\n",
      "http://www.medicare.gov/download/PhysicianCompare/2014/Refresh_Data_Archive_March_2014.zip\n",
      "Found a file to download!\n",
      "/\n",
      "/feedback\n",
      "/\n",
      "https://openpaymentsdata.cms.gov/\n",
      "https://data.CMS.gov/\n",
      "https://data.medicaid.gov/\n",
      "https://data.healthcare.gov/\n",
      "https://www.cms.gov/center/freedom-of-information-act-center.html\n",
      "https://www.cms.gov/About-CMS/Agency-Information/Aboutwebsite/NoFearAct.html\n",
      "https://www.cms.gov/About-CMS/Agency-Information/Aboutwebsite/Privacy-Policy.html\n",
      "https://questions.cms.gov/\n",
      "https://www.cms.gov/apps/contacts/\n",
      "https://www.cms.gov/About-CMS/Agency-Information/Aboutwebsite/Help.html\n"
     ]
    }
   ],
   "source": [
    "# Find any links of defined extension, then download\n",
    "for tag in links:\n",
    "    link = tag.get('href',None)\n",
    "    if link is not None:\n",
    "        print (link)\n",
    "        if link.endswith(filext):\n",
    "            print ('Found a file to download!')\n",
    "            downloadFile(link,out)"
   ]
  },
  {
   "cell_type": "code",
   "execution_count": 6,
   "metadata": {},
   "outputs": [],
   "source": [
    "# url3 = 'http://www.medicare.gov/download/PhysicianCompare/2014/Refresh_Data_Archive_March_2014.zip'\n",
    "# downloadFile(url3,out)"
   ]
  },
  {
   "cell_type": "code",
   "execution_count": 7,
   "metadata": {},
   "outputs": [],
   "source": [
    "\n",
    "# split = urllib.parse.urlsplit(url2)\n",
    "# filename = out + split.path.split(\"/\")[-1]\n",
    "# urllib.request.urlretrieve(url2, filename)"
   ]
  },
  {
   "cell_type": "code",
   "execution_count": null,
   "metadata": {},
   "outputs": [],
   "source": []
  }
 ],
 "metadata": {
  "kernelspec": {
   "display_name": "Python 3",
   "language": "python",
   "name": "python3"
  },
  "language_info": {
   "codemirror_mode": {
    "name": "ipython",
    "version": 3
   },
   "file_extension": ".py",
   "mimetype": "text/x-python",
   "name": "python",
   "nbconvert_exporter": "python",
   "pygments_lexer": "ipython3",
   "version": "3.6.4"
  }
 },
 "nbformat": 4,
 "nbformat_minor": 2
}
